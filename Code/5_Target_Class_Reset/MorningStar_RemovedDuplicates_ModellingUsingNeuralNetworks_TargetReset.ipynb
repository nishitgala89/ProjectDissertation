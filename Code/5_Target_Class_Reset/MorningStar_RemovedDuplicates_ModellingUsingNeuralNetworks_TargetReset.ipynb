{
  "nbformat": 4,
  "nbformat_minor": 0,
  "metadata": {
    "colab": {
      "name": "MorningStar_RemovedDuplicates_ModellingUsingNeuralNetworks_TargetReset.ipynb",
      "provenance": [],
      "collapsed_sections": []
    },
    "kernelspec": {
      "name": "python3",
      "display_name": "Python 3"
    },
    "language_info": {
      "name": "python"
    }
  },
  "cells": [
    {
      "cell_type": "markdown",
      "metadata": {
        "id": "eeazHRS71neh"
      },
      "source": [
        "###**Mounting Google Drive**"
      ]
    },
    {
      "cell_type": "code",
      "metadata": {
        "id": "g6DZ90-rEagh"
      },
      "source": [
        "# from google.colab import drive\n",
        "# drive.mount('/content/drive')"
      ],
      "execution_count": 473,
      "outputs": []
    },
    {
      "cell_type": "code",
      "metadata": {
        "id": "TjSJgtxzVmzt"
      },
      "source": [
        "rand_state=42"
      ],
      "execution_count": 474,
      "outputs": []
    },
    {
      "cell_type": "markdown",
      "metadata": {
        "id": "is2MxjpD5mog"
      },
      "source": [
        "###**Import Libraries**"
      ]
    },
    {
      "cell_type": "code",
      "metadata": {
        "id": "5PGgVZfRChJL"
      },
      "source": [
        "from google.colab import files\n",
        "import pandas as pd\n",
        "import numpy as np\n",
        "import matplotlib.pyplot as plt\n",
        "import seaborn as sns\n",
        "from sklearn.model_selection import train_test_split\n",
        "from sklearn.model_selection import StratifiedKFold,cross_val_score,KFold,StratifiedKFold\n",
        "from sklearn.metrics import accuracy_score,f1_score\n",
        "from sklearn.preprocessing import StandardScaler,MinMaxScaler\n",
        "import tensorflow as tf\n",
        "from tensorflow.keras.layers import Dense, Dropout, Input\n",
        "from tensorflow.keras.models import Sequential\n",
        "from tensorflow.keras.optimizers import Adam"
      ],
      "execution_count": 475,
      "outputs": []
    },
    {
      "cell_type": "code",
      "metadata": {
        "id": "kNHbvZENuvfl"
      },
      "source": [
        "from numpy.random import seed\n",
        "seed(42)\n",
        "tf.random.set_seed(42)"
      ],
      "execution_count": 476,
      "outputs": []
    },
    {
      "cell_type": "code",
      "metadata": {
        "id": "AXxoO94N5TTS"
      },
      "source": [
        "from sklearn.metrics import confusion_matrix\n",
        "def plot_conf_matrix(y_test,y_pred,uniqueclassLabel, title=\"CMatrix\"):\n",
        "  cm = confusion_matrix(y_true=y_test,y_pred=y_pred,labels=uniqueclassLabel)\n",
        "  plt.figure(figsize=(5,4))\n",
        "  plt.title(title)\n",
        "  #ax = plt.subplot()\n",
        "  sns.heatmap(cm, annot=True,cmap='Blues',\n",
        "              yticklabels=uniqueclassLabel,xticklabels=uniqueclassLabel,fmt='3g')"
      ],
      "execution_count": 477,
      "outputs": []
    },
    {
      "cell_type": "markdown",
      "metadata": {
        "id": "6nv-BCDw7Roe"
      },
      "source": [
        "###**Import Utility File**"
      ]
    },
    {
      "cell_type": "code",
      "metadata": {
        "id": "eTu1q8Gh6ckf",
        "colab": {
          "base_uri": "https://localhost:8080/"
        },
        "outputId": "8c3f7a26-fc43-4341-bab5-9afca22fbeae"
      },
      "source": [
        "user = 'nishitgala89'\n",
        "repo = 'ProjectDissertation'\n",
        "src_dir = \"Code/utilities\"\n",
        "pyfile = \"morningStarUtilities.py\"\n",
        "\n",
        "url = f\"https://raw.githubusercontent.com/{user}/{repo}/main/{src_dir}/{pyfile}\"\n",
        "!wget --no-cache --backups=1 {url}\n",
        "\n",
        "import morningStarUtilities"
      ],
      "execution_count": 478,
      "outputs": [
        {
          "output_type": "stream",
          "name": "stdout",
          "text": [
            "--2022-01-06 14:25:05--  https://raw.githubusercontent.com/nishitgala89/ProjectDissertation/main/Code/utilities/morningStarUtilities.py\n",
            "Resolving raw.githubusercontent.com (raw.githubusercontent.com)... 185.199.110.133, 185.199.108.133, 185.199.111.133, ...\n",
            "Connecting to raw.githubusercontent.com (raw.githubusercontent.com)|185.199.110.133|:443... connected.\n",
            "HTTP request sent, awaiting response... 200 OK\n",
            "Length: 6484 (6.3K) [text/plain]\n",
            "Saving to: ‘morningStarUtilities.py’\n",
            "\n",
            "\rmorningStarUtilitie   0%[                    ]       0  --.-KB/s               \rmorningStarUtilitie 100%[===================>]   6.33K  --.-KB/s    in 0s      \n",
            "\n",
            "2022-01-06 14:25:05 (45.8 MB/s) - ‘morningStarUtilities.py’ saved [6484/6484]\n",
            "\n"
          ]
        }
      ]
    },
    {
      "cell_type": "markdown",
      "metadata": {
        "id": "F-wcjDaJ8t7Z"
      },
      "source": [
        "### **Import Training Data**"
      ]
    },
    {
      "cell_type": "code",
      "metadata": {
        "id": "LpS5-NC88vzy"
      },
      "source": [
        "# uploaded = files.upload()\n",
        "# train_df = pd.read_csv(io.BytesIO(uploaded['morningstar_removedDuplicates_train_withoutM60.csv']))"
      ],
      "execution_count": 479,
      "outputs": []
    },
    {
      "cell_type": "code",
      "metadata": {
        "id": "wp1s0SmlEhqw"
      },
      "source": [
        "train_df = pd.read_csv(\"https://raw.githubusercontent.com/nishitgala89/ProjectDissertation/main/Datasheets/3_Modelling/morningstar_removedDuplicates_train_withoutLogTransform_withoutM60.csv\").set_index(\"SecId\")"
      ],
      "execution_count": 480,
      "outputs": []
    },
    {
      "cell_type": "markdown",
      "metadata": {
        "id": "RgBksjh6_QMt"
      },
      "source": [
        "### **Import Testing Data**"
      ]
    },
    {
      "cell_type": "code",
      "metadata": {
        "id": "OKzcGENX_TNv"
      },
      "source": [
        "# uploaded = files.upload()\n",
        "# test_df = pd.read_csv(io.BytesIO(uploaded['morningstar_removedDuplicates_test_withoutM60.csv']))"
      ],
      "execution_count": 481,
      "outputs": []
    },
    {
      "cell_type": "code",
      "metadata": {
        "id": "1QC3JQfmGPp1"
      },
      "source": [
        "test_df = pd.read_csv('https://raw.githubusercontent.com/nishitgala89/ProjectDissertation/main/Datasheets/3_Modelling/morningstar_removedDuplicates_test_withoutLogTransform_withoutM60.csv').set_index(\"SecId\")"
      ],
      "execution_count": 482,
      "outputs": []
    },
    {
      "cell_type": "markdown",
      "metadata": {
        "id": "_T4GGYnf6tUB"
      },
      "source": [
        "### **Defining Training, Testing varibales**"
      ]
    },
    {
      "cell_type": "code",
      "source": [
        "train_df['Ratings_reset'] = train_df['StarRatingM255'].apply(lambda x : 2 if(x in (1,2)) else (4 if(x in (4,5)) else 3))\n",
        "test_df['Ratings_reset'] = test_df['StarRatingM255'].apply(lambda x : 2 if(x in (1,2)) else (4 if(x in (4,5)) else 3))"
      ],
      "metadata": {
        "id": "Vp0vnbSghqBy"
      },
      "execution_count": 483,
      "outputs": []
    },
    {
      "cell_type": "code",
      "metadata": {
        "id": "Gu7xuE_PBS9A"
      },
      "source": [
        "imp_features = ['SustainabilityRank','GBRReturnM1','GBRReturnM3','GBRReturnM0','GBRReturnM36','OngoingCostActual','TransactionFeeActual','FundTNAV',\n",
        "'AverageMarketCapital','MorningstarRiskM255','AlphaM36','BetaM36','StandardDeviationM36','SharpeM36','Size','Style']\n",
        "X_train = train_df[imp_features]\n",
        "y_train = train_df[['Ratings_reset']]\n",
        "\n",
        "X_test = test_df[imp_features]\n",
        "y_test = test_df['Ratings_reset']"
      ],
      "execution_count": 484,
      "outputs": []
    },
    {
      "cell_type": "code",
      "source": [
        "y_train = y_train.astype('string')"
      ],
      "metadata": {
        "id": "FOmgvZZRVPXt"
      },
      "execution_count": 485,
      "outputs": []
    },
    {
      "cell_type": "code",
      "source": [
        "from sklearn.preprocessing import OneHotEncoder\n",
        "y_train_cat = OneHotEncoder().fit_transform(y_train[[\"Ratings_reset\"]]).toarray()\n",
        "y_train_cat.shape"
      ],
      "metadata": {
        "colab": {
          "base_uri": "https://localhost:8080/"
        },
        "id": "B3P8VtaXVNBq",
        "outputId": "b4e495a8-0b35-42c1-a84b-2a8f9493d769"
      },
      "execution_count": 486,
      "outputs": [
        {
          "output_type": "execute_result",
          "data": {
            "text/plain": [
              "(886, 3)"
            ]
          },
          "metadata": {},
          "execution_count": 486
        }
      ]
    },
    {
      "cell_type": "code",
      "source": [
        "y_train_cat"
      ],
      "metadata": {
        "colab": {
          "base_uri": "https://localhost:8080/"
        },
        "id": "TKpKfShimRPN",
        "outputId": "02677321-d599-4d60-e4b5-b6c25013dc48"
      },
      "execution_count": 487,
      "outputs": [
        {
          "output_type": "execute_result",
          "data": {
            "text/plain": [
              "array([[0., 1., 0.],\n",
              "       [1., 0., 0.],\n",
              "       [0., 0., 1.],\n",
              "       ...,\n",
              "       [1., 0., 0.],\n",
              "       [0., 1., 0.],\n",
              "       [1., 0., 0.]])"
            ]
          },
          "metadata": {},
          "execution_count": 487
        }
      ]
    },
    {
      "cell_type": "code",
      "source": [
        "train_df.nunique()"
      ],
      "metadata": {
        "colab": {
          "base_uri": "https://localhost:8080/"
        },
        "id": "2vVIkOlVS3zF",
        "outputId": "5d8af63c-866c-4fb4-925b-442618916c09"
      },
      "execution_count": 488,
      "outputs": [
        {
          "output_type": "execute_result",
          "data": {
            "text/plain": [
              "Name                         886\n",
              "StarRatingM255                 5\n",
              "SustainabilityRank             5\n",
              "Yield_M12                    364\n",
              "GBRReturnW1                  292\n",
              "GBRReturnM1                  544\n",
              "GBRReturnM3                  543\n",
              "GBRReturnM6                  716\n",
              "GBRReturnM0                  691\n",
              "GBRReturnM12                 780\n",
              "GBRReturnM36                 660\n",
              "MaxFrontEndLoad               22\n",
              "OngoingCostActual            227\n",
              "TransactionFeeActual         126\n",
              "ManagerTenure                230\n",
              "FundTNAV                     691\n",
              "AverageMarketCapital         690\n",
              "MorningstarRiskM255            5\n",
              "AlphaM36                     624\n",
              "BetaM36                       97\n",
              "R2M36                        669\n",
              "StandardDeviationM36         604\n",
              "SharpeM36                    127\n",
              "ReturnProfilePreservation      3\n",
              "ReturnProfileIncome            3\n",
              "ReturnProfileHedging           3\n",
              "TrackRecordExtension           2\n",
              "Cat_Flex-Cap                   2\n",
              "Cat_Income                     2\n",
              "Cat_Large-Cap                  2\n",
              "Cat_Mid_Small-Cap              2\n",
              "Cat_Miscellaneous              2\n",
              "Size                           3\n",
              "Style                          3\n",
              "Ratings_reset                  3\n",
              "dtype: int64"
            ]
          },
          "metadata": {},
          "execution_count": 488
        }
      ]
    },
    {
      "cell_type": "code",
      "source": [
        "y_train.info()"
      ],
      "metadata": {
        "colab": {
          "base_uri": "https://localhost:8080/"
        },
        "id": "VZWfsSgImVMH",
        "outputId": "a17c7b43-35ca-4a88-959c-e921464be0cc"
      },
      "execution_count": 489,
      "outputs": [
        {
          "output_type": "stream",
          "name": "stdout",
          "text": [
            "<class 'pandas.core.frame.DataFrame'>\n",
            "Index: 886 entries, F000005ETU to F00000M89N\n",
            "Data columns (total 1 columns):\n",
            " #   Column         Non-Null Count  Dtype \n",
            "---  ------         --------------  ----- \n",
            " 0   Ratings_reset  886 non-null    string\n",
            "dtypes: string(1)\n",
            "memory usage: 13.8+ KB\n"
          ]
        }
      ]
    },
    {
      "cell_type": "code",
      "metadata": {
        "id": "RNc7B6gHYyO_"
      },
      "source": [
        "# y_train = y_train.astype('category')\n",
        "# y_test = y_test.astype('category')"
      ],
      "execution_count": 490,
      "outputs": []
    },
    {
      "cell_type": "code",
      "source": [
        "X_train.shape, y_train.shape"
      ],
      "metadata": {
        "colab": {
          "base_uri": "https://localhost:8080/"
        },
        "id": "RbFaP5uml8OM",
        "outputId": "55c51cb1-f520-4d87-a341-c6d1ca9ec5b2"
      },
      "execution_count": 491,
      "outputs": [
        {
          "output_type": "execute_result",
          "data": {
            "text/plain": [
              "((886, 16), (886, 1))"
            ]
          },
          "metadata": {},
          "execution_count": 491
        }
      ]
    },
    {
      "cell_type": "code",
      "metadata": {
        "colab": {
          "base_uri": "https://localhost:8080/"
        },
        "id": "UxjbFzBY_gSw",
        "outputId": "254bbd19-e0e6-49d8-9507-68e7fdb365a5"
      },
      "source": [
        "X_test.shape,y_test.shape"
      ],
      "execution_count": 492,
      "outputs": [
        {
          "output_type": "execute_result",
          "data": {
            "text/plain": [
              "((296, 16), (296,))"
            ]
          },
          "metadata": {},
          "execution_count": 492
        }
      ]
    },
    {
      "cell_type": "markdown",
      "metadata": {
        "id": "-7XMS96relKM"
      },
      "source": [
        "### **Scaling the Data**"
      ]
    },
    {
      "cell_type": "code",
      "metadata": {
        "id": "ZPhgNmDZeqBr"
      },
      "source": [
        "scaler = StandardScaler()\n",
        "scaler.fit(X_train)\n",
        "X_train_scaled = scaler.transform(X_train)\n",
        "X_test_scaled = scaler.transform(X_test)"
      ],
      "execution_count": 493,
      "outputs": []
    },
    {
      "cell_type": "markdown",
      "metadata": {
        "id": "H7xIH-gH9wwl"
      },
      "source": [
        "### **Creating runtime variables**"
      ]
    },
    {
      "cell_type": "code",
      "metadata": {
        "colab": {
          "base_uri": "https://localhost:8080/"
        },
        "id": "rDe-0LE772d-",
        "outputId": "2dd2f9b0-fbfa-4ff6-e760-04117cede59b"
      },
      "source": [
        "unique_class_label = list(train_df.Ratings_reset.unique())\n",
        "unique_class_label.sort()\n",
        "unique_class_label"
      ],
      "execution_count": 494,
      "outputs": [
        {
          "output_type": "execute_result",
          "data": {
            "text/plain": [
              "[2, 3, 4]"
            ]
          },
          "metadata": {},
          "execution_count": 494
        }
      ]
    },
    {
      "cell_type": "markdown",
      "metadata": {
        "id": "qWv0oQrW9jQL"
      },
      "source": [
        "### **Defining Neural Network Model**"
      ]
    },
    {
      "cell_type": "code",
      "metadata": {
        "colab": {
          "base_uri": "https://localhost:8080/"
        },
        "id": "iiMBga5fCAb7",
        "outputId": "67905c51-cbd8-4fae-c903-dd28ac350009"
      },
      "source": [
        "# Number of Hidden Layers\n",
        "round((X_train.shape[1] + len(unique_class_label))/2) + 1"
      ],
      "execution_count": 495,
      "outputs": [
        {
          "output_type": "execute_result",
          "data": {
            "text/plain": [
              "11"
            ]
          },
          "metadata": {},
          "execution_count": 495
        }
      ]
    },
    {
      "cell_type": "markdown",
      "metadata": {
        "id": "kPI7GLP5ysDA"
      },
      "source": [
        "### Method 1 - Using Scikit Learn - KerasClassifier\n"
      ]
    },
    {
      "cell_type": "code",
      "metadata": {
        "id": "sAxHLtP1_1KT"
      },
      "source": [
        "# def baseline_model():    \n",
        "#   network = Sequential()\n",
        "#   network.add(tf.keras.layers.Dense(units=11,activation ='relu', input_dim = X_train.shape[1] ))\n",
        "#   network.add(tf.keras.layers.Dropout(0.2))\n",
        "#   network.add(tf.keras.layers.Dense(units=11,activation ='relu'))\n",
        "#   network.add(tf.keras.layers.Dropout(0.2))\n",
        "#   network.add(tf.keras.layers.Dense(units=11,activation ='relu'))\n",
        "#   network.add(tf.keras.layers.Dropout(0.2))\n",
        "#   network.add(tf.keras.layers.Dense(3,activation='softmax'))\n",
        "#   network.compile(optimizer = 'adam', loss = 'categorical_crossentropy', metrics = ['accuracy'])\n",
        "#   return network"
      ],
      "execution_count": 496,
      "outputs": []
    },
    {
      "cell_type": "code",
      "metadata": {
        "id": "1S2Pyj1CDGnY"
      },
      "source": [
        "# from keras.wrappers.scikit_learn import KerasClassifier\n",
        "# estimator = KerasClassifier(build_fn = baseline_model, epochs = 10, batch_size = 10, verbose = -1)"
      ],
      "execution_count": 497,
      "outputs": []
    },
    {
      "cell_type": "code",
      "metadata": {
        "id": "k1ixBpWqIZ3x"
      },
      "source": [
        "# skf = StratifiedKFold(n_splits=5, random_state=42, shuffle=True)\n",
        "# results = cross_val_score(estimator, X_train_scaled, y_train, cv = skf)\n",
        "\n",
        "# print(results)\n",
        "# print(\"Result: %.2f%% (%.2f%%)\" % (results.mean()*100, results.std()*100))"
      ],
      "execution_count": 498,
      "outputs": []
    },
    {
      "cell_type": "code",
      "metadata": {
        "id": "K8uCyB15N2Jp"
      },
      "source": [
        "# y_pred = estimator.predict(X_test_scaled)"
      ],
      "execution_count": 499,
      "outputs": []
    },
    {
      "cell_type": "code",
      "metadata": {
        "id": "QB3JjnzVNYlq"
      },
      "source": [
        "# plot_conf_matrix(y_test,y_pred,unique_class_label, title=\"Confusion Matrix for \" + clf.__class__.__name__)\n",
        "# print(\"Accuracy Score for \" +  estimator.__class__.__name__ + \"  \" \n",
        "#         + str(accuracy_score(y_test,y_pred)) )\n",
        "# print(\"F1 Score for \" + estimator.__class__.__name__ + \"  \" + \n",
        "#         str(f1_score(y_test, y_pred, average='weighted')))"
      ],
      "execution_count": 500,
      "outputs": []
    },
    {
      "cell_type": "markdown",
      "metadata": {
        "id": "X_Op8VMpzAOh"
      },
      "source": [
        "### Method 2 - Using Sequential Model"
      ]
    },
    {
      "cell_type": "code",
      "metadata": {
        "id": "6uyKQT5EPXs6"
      },
      "source": [
        "model = Sequential()\n",
        "model.add(tf.keras.layers.Dense(units=11,activation ='relu', input_shape = (len(imp_features),) ))\n",
        "model.add(tf.keras.layers.Dropout(0.2))\n",
        "# model.add(tf.keras.layers.Dense(units=8,activation ='relu'))\n",
        "# model.add(tf.keras.layers.Dropout(0.2))\n",
        "model.add(tf.keras.layers.Dense(units=6,activation ='relu'))\n",
        "model.add(tf.keras.layers.Dropout(0.2))\n",
        "# model.add(tf.keras.layers.Dense(units=5,activation ='relu'))\n",
        "# model.add(tf.keras.layers.Dropout(0.25))\n",
        "model.add(tf.keras.layers.Dense(units=3,activation='softmax'))\n",
        "model.compile(optimizer = Adam(), loss = 'categorical_crossentropy', metrics = ['accuracy'])"
      ],
      "execution_count": 501,
      "outputs": []
    },
    {
      "cell_type": "code",
      "metadata": {
        "colab": {
          "base_uri": "https://localhost:8080/"
        },
        "id": "yHCvlpx8PlWC",
        "outputId": "6c61091c-e7f5-4b1a-f0f5-e7e1a1913829"
      },
      "source": [
        "model.summary()"
      ],
      "execution_count": 502,
      "outputs": [
        {
          "output_type": "stream",
          "name": "stdout",
          "text": [
            "Model: \"sequential_8\"\n",
            "_________________________________________________________________\n",
            " Layer (type)                Output Shape              Param #   \n",
            "=================================================================\n",
            " dense_24 (Dense)            (None, 11)                187       \n",
            "                                                                 \n",
            " dropout_16 (Dropout)        (None, 11)                0         \n",
            "                                                                 \n",
            " dense_25 (Dense)            (None, 6)                 72        \n",
            "                                                                 \n",
            " dropout_17 (Dropout)        (None, 6)                 0         \n",
            "                                                                 \n",
            " dense_26 (Dense)            (None, 3)                 21        \n",
            "                                                                 \n",
            "=================================================================\n",
            "Total params: 280\n",
            "Trainable params: 280\n",
            "Non-trainable params: 0\n",
            "_________________________________________________________________\n"
          ]
        }
      ]
    },
    {
      "cell_type": "code",
      "source": [
        "X_train_scaled.shape, y_train.shape"
      ],
      "metadata": {
        "colab": {
          "base_uri": "https://localhost:8080/"
        },
        "id": "89PlgCGAnLrY",
        "outputId": "0a58e355-2de9-4994-c2a8-21664295ef82"
      },
      "execution_count": 503,
      "outputs": [
        {
          "output_type": "execute_result",
          "data": {
            "text/plain": [
              "((886, 16), (886, 1))"
            ]
          },
          "metadata": {},
          "execution_count": 503
        }
      ]
    },
    {
      "cell_type": "code",
      "metadata": {
        "colab": {
          "base_uri": "https://localhost:8080/"
        },
        "id": "3IJkFo6dQEmo",
        "outputId": "35d354ed-237d-4920-d929-678e58de7887"
      },
      "source": [
        "history = model.fit(X_train_scaled,y_train_cat,validation_split=0.30,epochs=300, verbose=1,batch_size=50)"
      ],
      "execution_count": 504,
      "outputs": [
        {
          "output_type": "stream",
          "name": "stdout",
          "text": [
            "Epoch 1/300\n",
            "13/13 [==============================] - 1s 23ms/step - loss: 1.2791 - accuracy: 0.3823 - val_loss: 1.1381 - val_accuracy: 0.4060\n",
            "Epoch 2/300\n",
            "13/13 [==============================] - 0s 6ms/step - loss: 1.2483 - accuracy: 0.3661 - val_loss: 1.1005 - val_accuracy: 0.4135\n",
            "Epoch 3/300\n",
            "13/13 [==============================] - 0s 6ms/step - loss: 1.2227 - accuracy: 0.3452 - val_loss: 1.0703 - val_accuracy: 0.4173\n",
            "Epoch 4/300\n",
            "13/13 [==============================] - 0s 5ms/step - loss: 1.1534 - accuracy: 0.3742 - val_loss: 1.0473 - val_accuracy: 0.4173\n",
            "Epoch 5/300\n",
            "13/13 [==============================] - 0s 6ms/step - loss: 1.1568 - accuracy: 0.3645 - val_loss: 1.0291 - val_accuracy: 0.4436\n",
            "Epoch 6/300\n",
            "13/13 [==============================] - 0s 6ms/step - loss: 1.1081 - accuracy: 0.3968 - val_loss: 1.0160 - val_accuracy: 0.4586\n",
            "Epoch 7/300\n",
            "13/13 [==============================] - 0s 6ms/step - loss: 1.1008 - accuracy: 0.4000 - val_loss: 1.0044 - val_accuracy: 0.4737\n",
            "Epoch 8/300\n",
            "13/13 [==============================] - 0s 6ms/step - loss: 1.0747 - accuracy: 0.4242 - val_loss: 0.9949 - val_accuracy: 0.4850\n",
            "Epoch 9/300\n",
            "13/13 [==============================] - 0s 5ms/step - loss: 1.0728 - accuracy: 0.3855 - val_loss: 0.9862 - val_accuracy: 0.5038\n",
            "Epoch 10/300\n",
            "13/13 [==============================] - 0s 5ms/step - loss: 1.0506 - accuracy: 0.4097 - val_loss: 0.9797 - val_accuracy: 0.5000\n",
            "Epoch 11/300\n",
            "13/13 [==============================] - 0s 5ms/step - loss: 1.0415 - accuracy: 0.4145 - val_loss: 0.9727 - val_accuracy: 0.5075\n",
            "Epoch 12/300\n",
            "13/13 [==============================] - 0s 6ms/step - loss: 1.0477 - accuracy: 0.4097 - val_loss: 0.9666 - val_accuracy: 0.5226\n",
            "Epoch 13/300\n",
            "13/13 [==============================] - 0s 6ms/step - loss: 1.0260 - accuracy: 0.4274 - val_loss: 0.9614 - val_accuracy: 0.5414\n",
            "Epoch 14/300\n",
            "13/13 [==============================] - 0s 4ms/step - loss: 1.0235 - accuracy: 0.4484 - val_loss: 0.9558 - val_accuracy: 0.5602\n",
            "Epoch 15/300\n",
            "13/13 [==============================] - 0s 8ms/step - loss: 1.0117 - accuracy: 0.4548 - val_loss: 0.9498 - val_accuracy: 0.5639\n",
            "Epoch 16/300\n",
            "13/13 [==============================] - 0s 6ms/step - loss: 1.0160 - accuracy: 0.4323 - val_loss: 0.9442 - val_accuracy: 0.5677\n",
            "Epoch 17/300\n",
            "13/13 [==============================] - 0s 5ms/step - loss: 0.9822 - accuracy: 0.4855 - val_loss: 0.9385 - val_accuracy: 0.5714\n",
            "Epoch 18/300\n",
            "13/13 [==============================] - 0s 5ms/step - loss: 0.9769 - accuracy: 0.4629 - val_loss: 0.9317 - val_accuracy: 0.5752\n",
            "Epoch 19/300\n",
            "13/13 [==============================] - 0s 5ms/step - loss: 0.9793 - accuracy: 0.4774 - val_loss: 0.9252 - val_accuracy: 0.5714\n",
            "Epoch 20/300\n",
            "13/13 [==============================] - 0s 5ms/step - loss: 0.9792 - accuracy: 0.4952 - val_loss: 0.9197 - val_accuracy: 0.5677\n",
            "Epoch 21/300\n",
            "13/13 [==============================] - 0s 5ms/step - loss: 0.9751 - accuracy: 0.4726 - val_loss: 0.9152 - val_accuracy: 0.5677\n",
            "Epoch 22/300\n",
            "13/13 [==============================] - 0s 5ms/step - loss: 0.9622 - accuracy: 0.4984 - val_loss: 0.9089 - val_accuracy: 0.5865\n",
            "Epoch 23/300\n",
            "13/13 [==============================] - 0s 5ms/step - loss: 0.9522 - accuracy: 0.5177 - val_loss: 0.9025 - val_accuracy: 0.5902\n",
            "Epoch 24/300\n",
            "13/13 [==============================] - 0s 5ms/step - loss: 0.9580 - accuracy: 0.5048 - val_loss: 0.8971 - val_accuracy: 0.6015\n",
            "Epoch 25/300\n",
            "13/13 [==============================] - 0s 6ms/step - loss: 0.9426 - accuracy: 0.5097 - val_loss: 0.8907 - val_accuracy: 0.6090\n",
            "Epoch 26/300\n",
            "13/13 [==============================] - 0s 6ms/step - loss: 0.9457 - accuracy: 0.4935 - val_loss: 0.8844 - val_accuracy: 0.6203\n",
            "Epoch 27/300\n",
            "13/13 [==============================] - 0s 6ms/step - loss: 0.9427 - accuracy: 0.5290 - val_loss: 0.8790 - val_accuracy: 0.6316\n",
            "Epoch 28/300\n",
            "13/13 [==============================] - 0s 5ms/step - loss: 0.9365 - accuracy: 0.5097 - val_loss: 0.8727 - val_accuracy: 0.6429\n",
            "Epoch 29/300\n",
            "13/13 [==============================] - 0s 6ms/step - loss: 0.9267 - accuracy: 0.5306 - val_loss: 0.8663 - val_accuracy: 0.6541\n",
            "Epoch 30/300\n",
            "13/13 [==============================] - 0s 6ms/step - loss: 0.9201 - accuracy: 0.5613 - val_loss: 0.8604 - val_accuracy: 0.6391\n",
            "Epoch 31/300\n",
            "13/13 [==============================] - 0s 5ms/step - loss: 0.9131 - accuracy: 0.5419 - val_loss: 0.8552 - val_accuracy: 0.6353\n",
            "Epoch 32/300\n",
            "13/13 [==============================] - 0s 5ms/step - loss: 0.9346 - accuracy: 0.5371 - val_loss: 0.8519 - val_accuracy: 0.6391\n",
            "Epoch 33/300\n",
            "13/13 [==============================] - 0s 5ms/step - loss: 0.9063 - accuracy: 0.5500 - val_loss: 0.8466 - val_accuracy: 0.6466\n",
            "Epoch 34/300\n",
            "13/13 [==============================] - 0s 4ms/step - loss: 0.8857 - accuracy: 0.5500 - val_loss: 0.8389 - val_accuracy: 0.6316\n",
            "Epoch 35/300\n",
            "13/13 [==============================] - 0s 5ms/step - loss: 0.8997 - accuracy: 0.5581 - val_loss: 0.8328 - val_accuracy: 0.6391\n",
            "Epoch 36/300\n",
            "13/13 [==============================] - 0s 6ms/step - loss: 0.9006 - accuracy: 0.5661 - val_loss: 0.8269 - val_accuracy: 0.6429\n",
            "Epoch 37/300\n",
            "13/13 [==============================] - 0s 6ms/step - loss: 0.8784 - accuracy: 0.6000 - val_loss: 0.8199 - val_accuracy: 0.6429\n",
            "Epoch 38/300\n",
            "13/13 [==============================] - 0s 6ms/step - loss: 0.8803 - accuracy: 0.5710 - val_loss: 0.8138 - val_accuracy: 0.6429\n",
            "Epoch 39/300\n",
            "13/13 [==============================] - 0s 6ms/step - loss: 0.9047 - accuracy: 0.5516 - val_loss: 0.8109 - val_accuracy: 0.6466\n",
            "Epoch 40/300\n",
            "13/13 [==============================] - 0s 5ms/step - loss: 0.8759 - accuracy: 0.5694 - val_loss: 0.8055 - val_accuracy: 0.6466\n",
            "Epoch 41/300\n",
            "13/13 [==============================] - 0s 6ms/step - loss: 0.8743 - accuracy: 0.5565 - val_loss: 0.7998 - val_accuracy: 0.6466\n",
            "Epoch 42/300\n",
            "13/13 [==============================] - 0s 5ms/step - loss: 0.8687 - accuracy: 0.5952 - val_loss: 0.7945 - val_accuracy: 0.6429\n",
            "Epoch 43/300\n",
            "13/13 [==============================] - 0s 6ms/step - loss: 0.8598 - accuracy: 0.5935 - val_loss: 0.7878 - val_accuracy: 0.6353\n",
            "Epoch 44/300\n",
            "13/13 [==============================] - 0s 5ms/step - loss: 0.8768 - accuracy: 0.5726 - val_loss: 0.7819 - val_accuracy: 0.6316\n",
            "Epoch 45/300\n",
            "13/13 [==============================] - 0s 7ms/step - loss: 0.8648 - accuracy: 0.5935 - val_loss: 0.7774 - val_accuracy: 0.6429\n",
            "Epoch 46/300\n",
            "13/13 [==============================] - 0s 4ms/step - loss: 0.8442 - accuracy: 0.5806 - val_loss: 0.7733 - val_accuracy: 0.6391\n",
            "Epoch 47/300\n",
            "13/13 [==============================] - 0s 6ms/step - loss: 0.8352 - accuracy: 0.5935 - val_loss: 0.7677 - val_accuracy: 0.6391\n",
            "Epoch 48/300\n",
            "13/13 [==============================] - 0s 6ms/step - loss: 0.8400 - accuracy: 0.5839 - val_loss: 0.7626 - val_accuracy: 0.6466\n",
            "Epoch 49/300\n",
            "13/13 [==============================] - 0s 5ms/step - loss: 0.8282 - accuracy: 0.5984 - val_loss: 0.7589 - val_accuracy: 0.6391\n",
            "Epoch 50/300\n",
            "13/13 [==============================] - 0s 4ms/step - loss: 0.8070 - accuracy: 0.6000 - val_loss: 0.7544 - val_accuracy: 0.6429\n",
            "Epoch 51/300\n",
            "13/13 [==============================] - 0s 5ms/step - loss: 0.8041 - accuracy: 0.6032 - val_loss: 0.7508 - val_accuracy: 0.6429\n",
            "Epoch 52/300\n",
            "13/13 [==============================] - 0s 7ms/step - loss: 0.8094 - accuracy: 0.6226 - val_loss: 0.7463 - val_accuracy: 0.6504\n",
            "Epoch 53/300\n",
            "13/13 [==============================] - 0s 5ms/step - loss: 0.8195 - accuracy: 0.5871 - val_loss: 0.7435 - val_accuracy: 0.6504\n",
            "Epoch 54/300\n",
            "13/13 [==============================] - 0s 5ms/step - loss: 0.8075 - accuracy: 0.6129 - val_loss: 0.7411 - val_accuracy: 0.6579\n",
            "Epoch 55/300\n",
            "13/13 [==============================] - 0s 5ms/step - loss: 0.8345 - accuracy: 0.6000 - val_loss: 0.7398 - val_accuracy: 0.6504\n",
            "Epoch 56/300\n",
            "13/13 [==============================] - 0s 6ms/step - loss: 0.8133 - accuracy: 0.5968 - val_loss: 0.7380 - val_accuracy: 0.6466\n",
            "Epoch 57/300\n",
            "13/13 [==============================] - 0s 5ms/step - loss: 0.7953 - accuracy: 0.6016 - val_loss: 0.7365 - val_accuracy: 0.6579\n",
            "Epoch 58/300\n",
            "13/13 [==============================] - 0s 5ms/step - loss: 0.7823 - accuracy: 0.6097 - val_loss: 0.7341 - val_accuracy: 0.6654\n",
            "Epoch 59/300\n",
            "13/13 [==============================] - 0s 6ms/step - loss: 0.8006 - accuracy: 0.5855 - val_loss: 0.7327 - val_accuracy: 0.6579\n",
            "Epoch 60/300\n",
            "13/13 [==============================] - 0s 5ms/step - loss: 0.7763 - accuracy: 0.6177 - val_loss: 0.7312 - val_accuracy: 0.6579\n",
            "Epoch 61/300\n",
            "13/13 [==============================] - 0s 5ms/step - loss: 0.8166 - accuracy: 0.6048 - val_loss: 0.7291 - val_accuracy: 0.6579\n",
            "Epoch 62/300\n",
            "13/13 [==============================] - 0s 5ms/step - loss: 0.7902 - accuracy: 0.6290 - val_loss: 0.7282 - val_accuracy: 0.6579\n",
            "Epoch 63/300\n",
            "13/13 [==============================] - 0s 6ms/step - loss: 0.7992 - accuracy: 0.6048 - val_loss: 0.7274 - val_accuracy: 0.6692\n",
            "Epoch 64/300\n",
            "13/13 [==============================] - 0s 6ms/step - loss: 0.7736 - accuracy: 0.6145 - val_loss: 0.7262 - val_accuracy: 0.6617\n",
            "Epoch 65/300\n",
            "13/13 [==============================] - 0s 7ms/step - loss: 0.7834 - accuracy: 0.6290 - val_loss: 0.7247 - val_accuracy: 0.6617\n",
            "Epoch 66/300\n",
            "13/13 [==============================] - 0s 5ms/step - loss: 0.7596 - accuracy: 0.6468 - val_loss: 0.7237 - val_accuracy: 0.6617\n",
            "Epoch 67/300\n",
            "13/13 [==============================] - 0s 6ms/step - loss: 0.7864 - accuracy: 0.6177 - val_loss: 0.7223 - val_accuracy: 0.6617\n",
            "Epoch 68/300\n",
            "13/13 [==============================] - 0s 5ms/step - loss: 0.7723 - accuracy: 0.6177 - val_loss: 0.7210 - val_accuracy: 0.6654\n",
            "Epoch 69/300\n",
            "13/13 [==============================] - 0s 5ms/step - loss: 0.7774 - accuracy: 0.6097 - val_loss: 0.7199 - val_accuracy: 0.6692\n",
            "Epoch 70/300\n",
            "13/13 [==============================] - 0s 6ms/step - loss: 0.7659 - accuracy: 0.6048 - val_loss: 0.7192 - val_accuracy: 0.6692\n",
            "Epoch 71/300\n",
            "13/13 [==============================] - 0s 6ms/step - loss: 0.7498 - accuracy: 0.6177 - val_loss: 0.7179 - val_accuracy: 0.6767\n",
            "Epoch 72/300\n",
            "13/13 [==============================] - 0s 5ms/step - loss: 0.7718 - accuracy: 0.6129 - val_loss: 0.7164 - val_accuracy: 0.6767\n",
            "Epoch 73/300\n",
            "13/13 [==============================] - 0s 6ms/step - loss: 0.7685 - accuracy: 0.6161 - val_loss: 0.7172 - val_accuracy: 0.6729\n",
            "Epoch 74/300\n",
            "13/13 [==============================] - 0s 6ms/step - loss: 0.7663 - accuracy: 0.6177 - val_loss: 0.7163 - val_accuracy: 0.6729\n",
            "Epoch 75/300\n",
            "13/13 [==============================] - 0s 6ms/step - loss: 0.7307 - accuracy: 0.6516 - val_loss: 0.7150 - val_accuracy: 0.6805\n",
            "Epoch 76/300\n",
            "13/13 [==============================] - 0s 5ms/step - loss: 0.7790 - accuracy: 0.6452 - val_loss: 0.7150 - val_accuracy: 0.6767\n",
            "Epoch 77/300\n",
            "13/13 [==============================] - 0s 5ms/step - loss: 0.7467 - accuracy: 0.6387 - val_loss: 0.7147 - val_accuracy: 0.6729\n",
            "Epoch 78/300\n",
            "13/13 [==============================] - 0s 5ms/step - loss: 0.7615 - accuracy: 0.6258 - val_loss: 0.7148 - val_accuracy: 0.6617\n",
            "Epoch 79/300\n",
            "13/13 [==============================] - 0s 5ms/step - loss: 0.7693 - accuracy: 0.6258 - val_loss: 0.7141 - val_accuracy: 0.6579\n",
            "Epoch 80/300\n",
            "13/13 [==============================] - 0s 5ms/step - loss: 0.7643 - accuracy: 0.6290 - val_loss: 0.7110 - val_accuracy: 0.6729\n",
            "Epoch 81/300\n",
            "13/13 [==============================] - 0s 6ms/step - loss: 0.7403 - accuracy: 0.6242 - val_loss: 0.7109 - val_accuracy: 0.6767\n",
            "Epoch 82/300\n",
            "13/13 [==============================] - 0s 5ms/step - loss: 0.7376 - accuracy: 0.6387 - val_loss: 0.7109 - val_accuracy: 0.6692\n",
            "Epoch 83/300\n",
            "13/13 [==============================] - 0s 5ms/step - loss: 0.7483 - accuracy: 0.6484 - val_loss: 0.7102 - val_accuracy: 0.6692\n",
            "Epoch 84/300\n",
            "13/13 [==============================] - 0s 4ms/step - loss: 0.7247 - accuracy: 0.6403 - val_loss: 0.7115 - val_accuracy: 0.6692\n",
            "Epoch 85/300\n",
            "13/13 [==============================] - 0s 7ms/step - loss: 0.7545 - accuracy: 0.6177 - val_loss: 0.7119 - val_accuracy: 0.6729\n",
            "Epoch 86/300\n",
            "13/13 [==============================] - 0s 6ms/step - loss: 0.7398 - accuracy: 0.6355 - val_loss: 0.7107 - val_accuracy: 0.6805\n",
            "Epoch 87/300\n",
            "13/13 [==============================] - 0s 6ms/step - loss: 0.7533 - accuracy: 0.6210 - val_loss: 0.7103 - val_accuracy: 0.6767\n",
            "Epoch 88/300\n",
            "13/13 [==============================] - 0s 7ms/step - loss: 0.7513 - accuracy: 0.6419 - val_loss: 0.7104 - val_accuracy: 0.6654\n",
            "Epoch 89/300\n",
            "13/13 [==============================] - 0s 5ms/step - loss: 0.7436 - accuracy: 0.6177 - val_loss: 0.7111 - val_accuracy: 0.6654\n",
            "Epoch 90/300\n",
            "13/13 [==============================] - 0s 6ms/step - loss: 0.7373 - accuracy: 0.6419 - val_loss: 0.7092 - val_accuracy: 0.6729\n",
            "Epoch 91/300\n",
            "13/13 [==============================] - 0s 7ms/step - loss: 0.7510 - accuracy: 0.6226 - val_loss: 0.7091 - val_accuracy: 0.6767\n",
            "Epoch 92/300\n",
            "13/13 [==============================] - 0s 5ms/step - loss: 0.7458 - accuracy: 0.6355 - val_loss: 0.7097 - val_accuracy: 0.6692\n",
            "Epoch 93/300\n",
            "13/13 [==============================] - 0s 6ms/step - loss: 0.7473 - accuracy: 0.6613 - val_loss: 0.7104 - val_accuracy: 0.6729\n",
            "Epoch 94/300\n",
            "13/13 [==============================] - 0s 5ms/step - loss: 0.7495 - accuracy: 0.6419 - val_loss: 0.7096 - val_accuracy: 0.6692\n",
            "Epoch 95/300\n",
            "13/13 [==============================] - 0s 5ms/step - loss: 0.7311 - accuracy: 0.6516 - val_loss: 0.7102 - val_accuracy: 0.6692\n",
            "Epoch 96/300\n",
            "13/13 [==============================] - 0s 5ms/step - loss: 0.7246 - accuracy: 0.6435 - val_loss: 0.7101 - val_accuracy: 0.6692\n",
            "Epoch 97/300\n",
            "13/13 [==============================] - 0s 5ms/step - loss: 0.7432 - accuracy: 0.6403 - val_loss: 0.7089 - val_accuracy: 0.6729\n",
            "Epoch 98/300\n",
            "13/13 [==============================] - 0s 6ms/step - loss: 0.7442 - accuracy: 0.6355 - val_loss: 0.7083 - val_accuracy: 0.6692\n",
            "Epoch 99/300\n",
            "13/13 [==============================] - 0s 5ms/step - loss: 0.7220 - accuracy: 0.6468 - val_loss: 0.7082 - val_accuracy: 0.6654\n",
            "Epoch 100/300\n",
            "13/13 [==============================] - 0s 6ms/step - loss: 0.7479 - accuracy: 0.6758 - val_loss: 0.7074 - val_accuracy: 0.6767\n",
            "Epoch 101/300\n",
            "13/13 [==============================] - 0s 6ms/step - loss: 0.7342 - accuracy: 0.6484 - val_loss: 0.7072 - val_accuracy: 0.6767\n",
            "Epoch 102/300\n",
            "13/13 [==============================] - 0s 5ms/step - loss: 0.7297 - accuracy: 0.6694 - val_loss: 0.7076 - val_accuracy: 0.6692\n",
            "Epoch 103/300\n",
            "13/13 [==============================] - 0s 5ms/step - loss: 0.7377 - accuracy: 0.6387 - val_loss: 0.7075 - val_accuracy: 0.6692\n",
            "Epoch 104/300\n",
            "13/13 [==============================] - 0s 5ms/step - loss: 0.7258 - accuracy: 0.6677 - val_loss: 0.7060 - val_accuracy: 0.6729\n",
            "Epoch 105/300\n",
            "13/13 [==============================] - 0s 6ms/step - loss: 0.7316 - accuracy: 0.6597 - val_loss: 0.7050 - val_accuracy: 0.6729\n",
            "Epoch 106/300\n",
            "13/13 [==============================] - 0s 5ms/step - loss: 0.7060 - accuracy: 0.6823 - val_loss: 0.7053 - val_accuracy: 0.6767\n",
            "Epoch 107/300\n",
            "13/13 [==============================] - 0s 6ms/step - loss: 0.7346 - accuracy: 0.6694 - val_loss: 0.7052 - val_accuracy: 0.6729\n",
            "Epoch 108/300\n",
            "13/13 [==============================] - 0s 6ms/step - loss: 0.7391 - accuracy: 0.6339 - val_loss: 0.7060 - val_accuracy: 0.6729\n",
            "Epoch 109/300\n",
            "13/13 [==============================] - 0s 6ms/step - loss: 0.7413 - accuracy: 0.6500 - val_loss: 0.7066 - val_accuracy: 0.6729\n",
            "Epoch 110/300\n",
            "13/13 [==============================] - 0s 6ms/step - loss: 0.7337 - accuracy: 0.6435 - val_loss: 0.7072 - val_accuracy: 0.6729\n",
            "Epoch 111/300\n",
            "13/13 [==============================] - 0s 6ms/step - loss: 0.7258 - accuracy: 0.6387 - val_loss: 0.7067 - val_accuracy: 0.6767\n",
            "Epoch 112/300\n",
            "13/13 [==============================] - 0s 6ms/step - loss: 0.7340 - accuracy: 0.6387 - val_loss: 0.7063 - val_accuracy: 0.6654\n",
            "Epoch 113/300\n",
            "13/13 [==============================] - 0s 5ms/step - loss: 0.7542 - accuracy: 0.6484 - val_loss: 0.7060 - val_accuracy: 0.6692\n",
            "Epoch 114/300\n",
            "13/13 [==============================] - 0s 6ms/step - loss: 0.7241 - accuracy: 0.6581 - val_loss: 0.7050 - val_accuracy: 0.6767\n",
            "Epoch 115/300\n",
            "13/13 [==============================] - 0s 7ms/step - loss: 0.7271 - accuracy: 0.6435 - val_loss: 0.7055 - val_accuracy: 0.6805\n",
            "Epoch 116/300\n",
            "13/13 [==============================] - 0s 8ms/step - loss: 0.7224 - accuracy: 0.6565 - val_loss: 0.7052 - val_accuracy: 0.6842\n",
            "Epoch 117/300\n",
            "13/13 [==============================] - 0s 6ms/step - loss: 0.7326 - accuracy: 0.6548 - val_loss: 0.7053 - val_accuracy: 0.6842\n",
            "Epoch 118/300\n",
            "13/13 [==============================] - 0s 8ms/step - loss: 0.7107 - accuracy: 0.6677 - val_loss: 0.7048 - val_accuracy: 0.6842\n",
            "Epoch 119/300\n",
            "13/13 [==============================] - 0s 6ms/step - loss: 0.7147 - accuracy: 0.6484 - val_loss: 0.7065 - val_accuracy: 0.6767\n",
            "Epoch 120/300\n",
            "13/13 [==============================] - 0s 7ms/step - loss: 0.7137 - accuracy: 0.6532 - val_loss: 0.7055 - val_accuracy: 0.6729\n",
            "Epoch 121/300\n",
            "13/13 [==============================] - 0s 5ms/step - loss: 0.7336 - accuracy: 0.6548 - val_loss: 0.7043 - val_accuracy: 0.6767\n",
            "Epoch 122/300\n",
            "13/13 [==============================] - 0s 6ms/step - loss: 0.7246 - accuracy: 0.6581 - val_loss: 0.7047 - val_accuracy: 0.6767\n",
            "Epoch 123/300\n",
            "13/13 [==============================] - 0s 6ms/step - loss: 0.7256 - accuracy: 0.6516 - val_loss: 0.7056 - val_accuracy: 0.6767\n",
            "Epoch 124/300\n",
            "13/13 [==============================] - 0s 6ms/step - loss: 0.7119 - accuracy: 0.6645 - val_loss: 0.7042 - val_accuracy: 0.6767\n",
            "Epoch 125/300\n",
            "13/13 [==============================] - 0s 5ms/step - loss: 0.7000 - accuracy: 0.6710 - val_loss: 0.7044 - val_accuracy: 0.6842\n",
            "Epoch 126/300\n",
            "13/13 [==============================] - 0s 7ms/step - loss: 0.6959 - accuracy: 0.6742 - val_loss: 0.7024 - val_accuracy: 0.6917\n",
            "Epoch 127/300\n",
            "13/13 [==============================] - 0s 6ms/step - loss: 0.7242 - accuracy: 0.6468 - val_loss: 0.7019 - val_accuracy: 0.6917\n",
            "Epoch 128/300\n",
            "13/13 [==============================] - 0s 7ms/step - loss: 0.7338 - accuracy: 0.6468 - val_loss: 0.7053 - val_accuracy: 0.6805\n",
            "Epoch 129/300\n",
            "13/13 [==============================] - 0s 6ms/step - loss: 0.7075 - accuracy: 0.6855 - val_loss: 0.7064 - val_accuracy: 0.6842\n",
            "Epoch 130/300\n",
            "13/13 [==============================] - 0s 7ms/step - loss: 0.7270 - accuracy: 0.6403 - val_loss: 0.7055 - val_accuracy: 0.6842\n",
            "Epoch 131/300\n",
            "13/13 [==============================] - 0s 9ms/step - loss: 0.7262 - accuracy: 0.6435 - val_loss: 0.7054 - val_accuracy: 0.6842\n",
            "Epoch 132/300\n",
            "13/13 [==============================] - 0s 5ms/step - loss: 0.7100 - accuracy: 0.6677 - val_loss: 0.7055 - val_accuracy: 0.6880\n",
            "Epoch 133/300\n",
            "13/13 [==============================] - 0s 5ms/step - loss: 0.7015 - accuracy: 0.6597 - val_loss: 0.7040 - val_accuracy: 0.6842\n",
            "Epoch 134/300\n",
            "13/13 [==============================] - 0s 5ms/step - loss: 0.7230 - accuracy: 0.6452 - val_loss: 0.7042 - val_accuracy: 0.6842\n",
            "Epoch 135/300\n",
            "13/13 [==============================] - 0s 5ms/step - loss: 0.7129 - accuracy: 0.6581 - val_loss: 0.7049 - val_accuracy: 0.6805\n",
            "Epoch 136/300\n",
            "13/13 [==============================] - 0s 6ms/step - loss: 0.7027 - accuracy: 0.6565 - val_loss: 0.7070 - val_accuracy: 0.6805\n",
            "Epoch 137/300\n",
            "13/13 [==============================] - 0s 5ms/step - loss: 0.7062 - accuracy: 0.6435 - val_loss: 0.7067 - val_accuracy: 0.6805\n",
            "Epoch 138/300\n",
            "13/13 [==============================] - 0s 7ms/step - loss: 0.7118 - accuracy: 0.6516 - val_loss: 0.7051 - val_accuracy: 0.6805\n",
            "Epoch 139/300\n",
            "13/13 [==============================] - 0s 7ms/step - loss: 0.7039 - accuracy: 0.6484 - val_loss: 0.7054 - val_accuracy: 0.6805\n",
            "Epoch 140/300\n",
            "13/13 [==============================] - 0s 6ms/step - loss: 0.7189 - accuracy: 0.6565 - val_loss: 0.7049 - val_accuracy: 0.6805\n",
            "Epoch 141/300\n",
            "13/13 [==============================] - 0s 5ms/step - loss: 0.7048 - accuracy: 0.6435 - val_loss: 0.7055 - val_accuracy: 0.6805\n",
            "Epoch 142/300\n",
            "13/13 [==============================] - 0s 5ms/step - loss: 0.7193 - accuracy: 0.6500 - val_loss: 0.7061 - val_accuracy: 0.6805\n",
            "Epoch 143/300\n",
            "13/13 [==============================] - 0s 6ms/step - loss: 0.6937 - accuracy: 0.6629 - val_loss: 0.7062 - val_accuracy: 0.6842\n",
            "Epoch 144/300\n",
            "13/13 [==============================] - 0s 6ms/step - loss: 0.7174 - accuracy: 0.6645 - val_loss: 0.7064 - val_accuracy: 0.6805\n",
            "Epoch 145/300\n",
            "13/13 [==============================] - 0s 6ms/step - loss: 0.7090 - accuracy: 0.6548 - val_loss: 0.7058 - val_accuracy: 0.6805\n",
            "Epoch 146/300\n",
            "13/13 [==============================] - 0s 6ms/step - loss: 0.7077 - accuracy: 0.6500 - val_loss: 0.7065 - val_accuracy: 0.6805\n",
            "Epoch 147/300\n",
            "13/13 [==============================] - 0s 6ms/step - loss: 0.7064 - accuracy: 0.6516 - val_loss: 0.7060 - val_accuracy: 0.6880\n",
            "Epoch 148/300\n",
            "13/13 [==============================] - 0s 5ms/step - loss: 0.7348 - accuracy: 0.6177 - val_loss: 0.7063 - val_accuracy: 0.6842\n",
            "Epoch 149/300\n",
            "13/13 [==============================] - 0s 5ms/step - loss: 0.6972 - accuracy: 0.6887 - val_loss: 0.7063 - val_accuracy: 0.6917\n",
            "Epoch 150/300\n",
            "13/13 [==============================] - 0s 6ms/step - loss: 0.6854 - accuracy: 0.6548 - val_loss: 0.7081 - val_accuracy: 0.6917\n",
            "Epoch 151/300\n",
            "13/13 [==============================] - 0s 6ms/step - loss: 0.6919 - accuracy: 0.6694 - val_loss: 0.7092 - val_accuracy: 0.6917\n",
            "Epoch 152/300\n",
            "13/13 [==============================] - 0s 5ms/step - loss: 0.6948 - accuracy: 0.6758 - val_loss: 0.7098 - val_accuracy: 0.6917\n",
            "Epoch 153/300\n",
            "13/13 [==============================] - 0s 4ms/step - loss: 0.6985 - accuracy: 0.6645 - val_loss: 0.7095 - val_accuracy: 0.6917\n",
            "Epoch 154/300\n",
            "13/13 [==============================] - 0s 7ms/step - loss: 0.6904 - accuracy: 0.6694 - val_loss: 0.7092 - val_accuracy: 0.6842\n",
            "Epoch 155/300\n",
            "13/13 [==============================] - 0s 4ms/step - loss: 0.7111 - accuracy: 0.6565 - val_loss: 0.7095 - val_accuracy: 0.6842\n",
            "Epoch 156/300\n",
            "13/13 [==============================] - 0s 6ms/step - loss: 0.7053 - accuracy: 0.6581 - val_loss: 0.7079 - val_accuracy: 0.6917\n",
            "Epoch 157/300\n",
            "13/13 [==============================] - 0s 6ms/step - loss: 0.6856 - accuracy: 0.6758 - val_loss: 0.7085 - val_accuracy: 0.6917\n",
            "Epoch 158/300\n",
            "13/13 [==============================] - 0s 5ms/step - loss: 0.7018 - accuracy: 0.6677 - val_loss: 0.7086 - val_accuracy: 0.6917\n",
            "Epoch 159/300\n",
            "13/13 [==============================] - 0s 5ms/step - loss: 0.7012 - accuracy: 0.6581 - val_loss: 0.7088 - val_accuracy: 0.6955\n",
            "Epoch 160/300\n",
            "13/13 [==============================] - 0s 5ms/step - loss: 0.6990 - accuracy: 0.6613 - val_loss: 0.7087 - val_accuracy: 0.6917\n",
            "Epoch 161/300\n",
            "13/13 [==============================] - 0s 5ms/step - loss: 0.6958 - accuracy: 0.6468 - val_loss: 0.7086 - val_accuracy: 0.6917\n",
            "Epoch 162/300\n",
            "13/13 [==============================] - 0s 5ms/step - loss: 0.6988 - accuracy: 0.6677 - val_loss: 0.7090 - val_accuracy: 0.6880\n",
            "Epoch 163/300\n",
            "13/13 [==============================] - 0s 6ms/step - loss: 0.6840 - accuracy: 0.6694 - val_loss: 0.7094 - val_accuracy: 0.6805\n",
            "Epoch 164/300\n",
            "13/13 [==============================] - 0s 6ms/step - loss: 0.7036 - accuracy: 0.6694 - val_loss: 0.7102 - val_accuracy: 0.6842\n",
            "Epoch 165/300\n",
            "13/13 [==============================] - 0s 6ms/step - loss: 0.6953 - accuracy: 0.6613 - val_loss: 0.7107 - val_accuracy: 0.6880\n",
            "Epoch 166/300\n",
            "13/13 [==============================] - 0s 5ms/step - loss: 0.6946 - accuracy: 0.6758 - val_loss: 0.7119 - val_accuracy: 0.6880\n",
            "Epoch 167/300\n",
            "13/13 [==============================] - 0s 6ms/step - loss: 0.6983 - accuracy: 0.6629 - val_loss: 0.7112 - val_accuracy: 0.6842\n",
            "Epoch 168/300\n",
            "13/13 [==============================] - 0s 5ms/step - loss: 0.7015 - accuracy: 0.6516 - val_loss: 0.7107 - val_accuracy: 0.6842\n",
            "Epoch 169/300\n",
            "13/13 [==============================] - 0s 6ms/step - loss: 0.7084 - accuracy: 0.6629 - val_loss: 0.7109 - val_accuracy: 0.6842\n",
            "Epoch 170/300\n",
            "13/13 [==============================] - 0s 6ms/step - loss: 0.7117 - accuracy: 0.6532 - val_loss: 0.7104 - val_accuracy: 0.6880\n",
            "Epoch 171/300\n",
            "13/13 [==============================] - 0s 6ms/step - loss: 0.6770 - accuracy: 0.6855 - val_loss: 0.7099 - val_accuracy: 0.6880\n",
            "Epoch 172/300\n",
            "13/13 [==============================] - 0s 6ms/step - loss: 0.6803 - accuracy: 0.6855 - val_loss: 0.7105 - val_accuracy: 0.6842\n",
            "Epoch 173/300\n",
            "13/13 [==============================] - 0s 7ms/step - loss: 0.6945 - accuracy: 0.6855 - val_loss: 0.7110 - val_accuracy: 0.6842\n",
            "Epoch 174/300\n",
            "13/13 [==============================] - 0s 6ms/step - loss: 0.6652 - accuracy: 0.6774 - val_loss: 0.7105 - val_accuracy: 0.6842\n",
            "Epoch 175/300\n",
            "13/13 [==============================] - 0s 6ms/step - loss: 0.6807 - accuracy: 0.6710 - val_loss: 0.7101 - val_accuracy: 0.6842\n",
            "Epoch 176/300\n",
            "13/13 [==============================] - 0s 6ms/step - loss: 0.6836 - accuracy: 0.6661 - val_loss: 0.7103 - val_accuracy: 0.6842\n",
            "Epoch 177/300\n",
            "13/13 [==============================] - 0s 6ms/step - loss: 0.6908 - accuracy: 0.6677 - val_loss: 0.7094 - val_accuracy: 0.6805\n",
            "Epoch 178/300\n",
            "13/13 [==============================] - 0s 5ms/step - loss: 0.6657 - accuracy: 0.6984 - val_loss: 0.7082 - val_accuracy: 0.6880\n",
            "Epoch 179/300\n",
            "13/13 [==============================] - 0s 6ms/step - loss: 0.7042 - accuracy: 0.6323 - val_loss: 0.7072 - val_accuracy: 0.6805\n",
            "Epoch 180/300\n",
            "13/13 [==============================] - 0s 6ms/step - loss: 0.6895 - accuracy: 0.6790 - val_loss: 0.7075 - val_accuracy: 0.6842\n",
            "Epoch 181/300\n",
            "13/13 [==============================] - 0s 6ms/step - loss: 0.7067 - accuracy: 0.6565 - val_loss: 0.7080 - val_accuracy: 0.6842\n",
            "Epoch 182/300\n",
            "13/13 [==============================] - 0s 6ms/step - loss: 0.6798 - accuracy: 0.6435 - val_loss: 0.7074 - val_accuracy: 0.6805\n",
            "Epoch 183/300\n",
            "13/13 [==============================] - 0s 6ms/step - loss: 0.6760 - accuracy: 0.6548 - val_loss: 0.7066 - val_accuracy: 0.6767\n",
            "Epoch 184/300\n",
            "13/13 [==============================] - 0s 6ms/step - loss: 0.6729 - accuracy: 0.6823 - val_loss: 0.7058 - val_accuracy: 0.6842\n",
            "Epoch 185/300\n",
            "13/13 [==============================] - 0s 6ms/step - loss: 0.6716 - accuracy: 0.6726 - val_loss: 0.7073 - val_accuracy: 0.6805\n",
            "Epoch 186/300\n",
            "13/13 [==============================] - 0s 5ms/step - loss: 0.6733 - accuracy: 0.6710 - val_loss: 0.7080 - val_accuracy: 0.6805\n",
            "Epoch 187/300\n",
            "13/13 [==============================] - 0s 6ms/step - loss: 0.6911 - accuracy: 0.6645 - val_loss: 0.7093 - val_accuracy: 0.6917\n",
            "Epoch 188/300\n",
            "13/13 [==============================] - 0s 6ms/step - loss: 0.6867 - accuracy: 0.6500 - val_loss: 0.7102 - val_accuracy: 0.6880\n",
            "Epoch 189/300\n",
            "13/13 [==============================] - 0s 6ms/step - loss: 0.6748 - accuracy: 0.6855 - val_loss: 0.7103 - val_accuracy: 0.6917\n",
            "Epoch 190/300\n",
            "13/13 [==============================] - 0s 6ms/step - loss: 0.6548 - accuracy: 0.6935 - val_loss: 0.7101 - val_accuracy: 0.6880\n",
            "Epoch 191/300\n",
            "13/13 [==============================] - 0s 6ms/step - loss: 0.6980 - accuracy: 0.6597 - val_loss: 0.7105 - val_accuracy: 0.6880\n",
            "Epoch 192/300\n",
            "13/13 [==============================] - 0s 6ms/step - loss: 0.6850 - accuracy: 0.6581 - val_loss: 0.7095 - val_accuracy: 0.6767\n",
            "Epoch 193/300\n",
            "13/13 [==============================] - 0s 6ms/step - loss: 0.6796 - accuracy: 0.6887 - val_loss: 0.7097 - val_accuracy: 0.6767\n",
            "Epoch 194/300\n",
            "13/13 [==============================] - 0s 6ms/step - loss: 0.6856 - accuracy: 0.6661 - val_loss: 0.7123 - val_accuracy: 0.6767\n",
            "Epoch 195/300\n",
            "13/13 [==============================] - 0s 5ms/step - loss: 0.6906 - accuracy: 0.6903 - val_loss: 0.7118 - val_accuracy: 0.6767\n",
            "Epoch 196/300\n",
            "13/13 [==============================] - 0s 6ms/step - loss: 0.6870 - accuracy: 0.6887 - val_loss: 0.7111 - val_accuracy: 0.6692\n",
            "Epoch 197/300\n",
            "13/13 [==============================] - 0s 5ms/step - loss: 0.6882 - accuracy: 0.6855 - val_loss: 0.7124 - val_accuracy: 0.6729\n",
            "Epoch 198/300\n",
            "13/13 [==============================] - 0s 6ms/step - loss: 0.6675 - accuracy: 0.6726 - val_loss: 0.7120 - val_accuracy: 0.6729\n",
            "Epoch 199/300\n",
            "13/13 [==============================] - 0s 6ms/step - loss: 0.6745 - accuracy: 0.6516 - val_loss: 0.7111 - val_accuracy: 0.6805\n",
            "Epoch 200/300\n",
            "13/13 [==============================] - 0s 6ms/step - loss: 0.6774 - accuracy: 0.6806 - val_loss: 0.7104 - val_accuracy: 0.6729\n",
            "Epoch 201/300\n",
            "13/13 [==============================] - 0s 6ms/step - loss: 0.6901 - accuracy: 0.6597 - val_loss: 0.7118 - val_accuracy: 0.6692\n",
            "Epoch 202/300\n",
            "13/13 [==============================] - 0s 6ms/step - loss: 0.6961 - accuracy: 0.6871 - val_loss: 0.7119 - val_accuracy: 0.6729\n",
            "Epoch 203/300\n",
            "13/13 [==============================] - 0s 6ms/step - loss: 0.6704 - accuracy: 0.6694 - val_loss: 0.7127 - val_accuracy: 0.6654\n",
            "Epoch 204/300\n",
            "13/13 [==============================] - 0s 6ms/step - loss: 0.6858 - accuracy: 0.6548 - val_loss: 0.7147 - val_accuracy: 0.6654\n",
            "Epoch 205/300\n",
            "13/13 [==============================] - 0s 5ms/step - loss: 0.6768 - accuracy: 0.6806 - val_loss: 0.7147 - val_accuracy: 0.6692\n",
            "Epoch 206/300\n",
            "13/13 [==============================] - 0s 6ms/step - loss: 0.6917 - accuracy: 0.6661 - val_loss: 0.7139 - val_accuracy: 0.6654\n",
            "Epoch 207/300\n",
            "13/13 [==============================] - 0s 6ms/step - loss: 0.6741 - accuracy: 0.6758 - val_loss: 0.7124 - val_accuracy: 0.6767\n",
            "Epoch 208/300\n",
            "13/13 [==============================] - 0s 4ms/step - loss: 0.6949 - accuracy: 0.6694 - val_loss: 0.7106 - val_accuracy: 0.6767\n",
            "Epoch 209/300\n",
            "13/13 [==============================] - 0s 4ms/step - loss: 0.6541 - accuracy: 0.6806 - val_loss: 0.7110 - val_accuracy: 0.6654\n",
            "Epoch 210/300\n",
            "13/13 [==============================] - 0s 5ms/step - loss: 0.6686 - accuracy: 0.6903 - val_loss: 0.7139 - val_accuracy: 0.6729\n",
            "Epoch 211/300\n",
            "13/13 [==============================] - 0s 5ms/step - loss: 0.6738 - accuracy: 0.7000 - val_loss: 0.7152 - val_accuracy: 0.6729\n",
            "Epoch 212/300\n",
            "13/13 [==============================] - 0s 6ms/step - loss: 0.6549 - accuracy: 0.6935 - val_loss: 0.7158 - val_accuracy: 0.6767\n",
            "Epoch 213/300\n",
            "13/13 [==============================] - 0s 5ms/step - loss: 0.6868 - accuracy: 0.6758 - val_loss: 0.7159 - val_accuracy: 0.6767\n",
            "Epoch 214/300\n",
            "13/13 [==============================] - 0s 7ms/step - loss: 0.6963 - accuracy: 0.6597 - val_loss: 0.7160 - val_accuracy: 0.6729\n",
            "Epoch 215/300\n",
            "13/13 [==============================] - 0s 7ms/step - loss: 0.6899 - accuracy: 0.6629 - val_loss: 0.7172 - val_accuracy: 0.6692\n",
            "Epoch 216/300\n",
            "13/13 [==============================] - 0s 6ms/step - loss: 0.6794 - accuracy: 0.6516 - val_loss: 0.7172 - val_accuracy: 0.6692\n",
            "Epoch 217/300\n",
            "13/13 [==============================] - 0s 6ms/step - loss: 0.6834 - accuracy: 0.6790 - val_loss: 0.7158 - val_accuracy: 0.6692\n",
            "Epoch 218/300\n",
            "13/13 [==============================] - 0s 7ms/step - loss: 0.6813 - accuracy: 0.6694 - val_loss: 0.7137 - val_accuracy: 0.6692\n",
            "Epoch 219/300\n",
            "13/13 [==============================] - 0s 6ms/step - loss: 0.6707 - accuracy: 0.6790 - val_loss: 0.7144 - val_accuracy: 0.6692\n",
            "Epoch 220/300\n",
            "13/13 [==============================] - 0s 7ms/step - loss: 0.6784 - accuracy: 0.6661 - val_loss: 0.7135 - val_accuracy: 0.6692\n",
            "Epoch 221/300\n",
            "13/13 [==============================] - 0s 7ms/step - loss: 0.6606 - accuracy: 0.6952 - val_loss: 0.7142 - val_accuracy: 0.6654\n",
            "Epoch 222/300\n",
            "13/13 [==============================] - 0s 7ms/step - loss: 0.6636 - accuracy: 0.6629 - val_loss: 0.7149 - val_accuracy: 0.6692\n",
            "Epoch 223/300\n",
            "13/13 [==============================] - 0s 7ms/step - loss: 0.6720 - accuracy: 0.6790 - val_loss: 0.7160 - val_accuracy: 0.6729\n",
            "Epoch 224/300\n",
            "13/13 [==============================] - 0s 6ms/step - loss: 0.6716 - accuracy: 0.6903 - val_loss: 0.7161 - val_accuracy: 0.6729\n",
            "Epoch 225/300\n",
            "13/13 [==============================] - 0s 6ms/step - loss: 0.6974 - accuracy: 0.6419 - val_loss: 0.7170 - val_accuracy: 0.6692\n",
            "Epoch 226/300\n",
            "13/13 [==============================] - 0s 8ms/step - loss: 0.6713 - accuracy: 0.6887 - val_loss: 0.7172 - val_accuracy: 0.6579\n",
            "Epoch 227/300\n",
            "13/13 [==============================] - 0s 7ms/step - loss: 0.6721 - accuracy: 0.6613 - val_loss: 0.7172 - val_accuracy: 0.6579\n",
            "Epoch 228/300\n",
            "13/13 [==============================] - 0s 6ms/step - loss: 0.6573 - accuracy: 0.6806 - val_loss: 0.7177 - val_accuracy: 0.6654\n",
            "Epoch 229/300\n",
            "13/13 [==============================] - 0s 6ms/step - loss: 0.6696 - accuracy: 0.6839 - val_loss: 0.7194 - val_accuracy: 0.6729\n",
            "Epoch 230/300\n",
            "13/13 [==============================] - 0s 7ms/step - loss: 0.6936 - accuracy: 0.6597 - val_loss: 0.7195 - val_accuracy: 0.6692\n",
            "Epoch 231/300\n",
            "13/13 [==============================] - 0s 6ms/step - loss: 0.6767 - accuracy: 0.6806 - val_loss: 0.7195 - val_accuracy: 0.6617\n",
            "Epoch 232/300\n",
            "13/13 [==============================] - 0s 6ms/step - loss: 0.6779 - accuracy: 0.6435 - val_loss: 0.7217 - val_accuracy: 0.6617\n",
            "Epoch 233/300\n",
            "13/13 [==============================] - 0s 5ms/step - loss: 0.6862 - accuracy: 0.6484 - val_loss: 0.7211 - val_accuracy: 0.6617\n",
            "Epoch 234/300\n",
            "13/13 [==============================] - 0s 6ms/step - loss: 0.6737 - accuracy: 0.6758 - val_loss: 0.7229 - val_accuracy: 0.6617\n",
            "Epoch 235/300\n",
            "13/13 [==============================] - 0s 6ms/step - loss: 0.6652 - accuracy: 0.6855 - val_loss: 0.7253 - val_accuracy: 0.6654\n",
            "Epoch 236/300\n",
            "13/13 [==============================] - 0s 5ms/step - loss: 0.6657 - accuracy: 0.6806 - val_loss: 0.7254 - val_accuracy: 0.6729\n",
            "Epoch 237/300\n",
            "13/13 [==============================] - 0s 6ms/step - loss: 0.6505 - accuracy: 0.6774 - val_loss: 0.7275 - val_accuracy: 0.6767\n",
            "Epoch 238/300\n",
            "13/13 [==============================] - 0s 6ms/step - loss: 0.6644 - accuracy: 0.6597 - val_loss: 0.7266 - val_accuracy: 0.6729\n",
            "Epoch 239/300\n",
            "13/13 [==============================] - 0s 5ms/step - loss: 0.6789 - accuracy: 0.6516 - val_loss: 0.7250 - val_accuracy: 0.6692\n",
            "Epoch 240/300\n",
            "13/13 [==============================] - 0s 5ms/step - loss: 0.6846 - accuracy: 0.6548 - val_loss: 0.7249 - val_accuracy: 0.6654\n",
            "Epoch 241/300\n",
            "13/13 [==============================] - 0s 5ms/step - loss: 0.6924 - accuracy: 0.6548 - val_loss: 0.7287 - val_accuracy: 0.6692\n",
            "Epoch 242/300\n",
            "13/13 [==============================] - 0s 6ms/step - loss: 0.6397 - accuracy: 0.6855 - val_loss: 0.7299 - val_accuracy: 0.6729\n",
            "Epoch 243/300\n",
            "13/13 [==============================] - 0s 5ms/step - loss: 0.6711 - accuracy: 0.6613 - val_loss: 0.7284 - val_accuracy: 0.6767\n",
            "Epoch 244/300\n",
            "13/13 [==============================] - 0s 5ms/step - loss: 0.6533 - accuracy: 0.6806 - val_loss: 0.7275 - val_accuracy: 0.6767\n",
            "Epoch 245/300\n",
            "13/13 [==============================] - 0s 5ms/step - loss: 0.6761 - accuracy: 0.7000 - val_loss: 0.7269 - val_accuracy: 0.6692\n",
            "Epoch 246/300\n",
            "13/13 [==============================] - 0s 6ms/step - loss: 0.6689 - accuracy: 0.6871 - val_loss: 0.7288 - val_accuracy: 0.6692\n",
            "Epoch 247/300\n",
            "13/13 [==============================] - 0s 5ms/step - loss: 0.6379 - accuracy: 0.6952 - val_loss: 0.7317 - val_accuracy: 0.6692\n",
            "Epoch 248/300\n",
            "13/13 [==============================] - 0s 5ms/step - loss: 0.6550 - accuracy: 0.6790 - val_loss: 0.7334 - val_accuracy: 0.6692\n",
            "Epoch 249/300\n",
            "13/13 [==============================] - 0s 6ms/step - loss: 0.6666 - accuracy: 0.6677 - val_loss: 0.7347 - val_accuracy: 0.6692\n",
            "Epoch 250/300\n",
            "13/13 [==============================] - 0s 7ms/step - loss: 0.6484 - accuracy: 0.6839 - val_loss: 0.7363 - val_accuracy: 0.6654\n",
            "Epoch 251/300\n",
            "13/13 [==============================] - 0s 6ms/step - loss: 0.6647 - accuracy: 0.6694 - val_loss: 0.7360 - val_accuracy: 0.6654\n",
            "Epoch 252/300\n",
            "13/13 [==============================] - 0s 6ms/step - loss: 0.6744 - accuracy: 0.6903 - val_loss: 0.7341 - val_accuracy: 0.6767\n",
            "Epoch 253/300\n",
            "13/13 [==============================] - 0s 5ms/step - loss: 0.6535 - accuracy: 0.6871 - val_loss: 0.7320 - val_accuracy: 0.6729\n",
            "Epoch 254/300\n",
            "13/13 [==============================] - 0s 6ms/step - loss: 0.6577 - accuracy: 0.6742 - val_loss: 0.7324 - val_accuracy: 0.6767\n",
            "Epoch 255/300\n",
            "13/13 [==============================] - 0s 6ms/step - loss: 0.6564 - accuracy: 0.6661 - val_loss: 0.7351 - val_accuracy: 0.6767\n",
            "Epoch 256/300\n",
            "13/13 [==============================] - 0s 6ms/step - loss: 0.6571 - accuracy: 0.6919 - val_loss: 0.7348 - val_accuracy: 0.6805\n",
            "Epoch 257/300\n",
            "13/13 [==============================] - 0s 7ms/step - loss: 0.6514 - accuracy: 0.6758 - val_loss: 0.7360 - val_accuracy: 0.6805\n",
            "Epoch 258/300\n",
            "13/13 [==============================] - 0s 5ms/step - loss: 0.6573 - accuracy: 0.6855 - val_loss: 0.7355 - val_accuracy: 0.6805\n",
            "Epoch 259/300\n",
            "13/13 [==============================] - 0s 6ms/step - loss: 0.6491 - accuracy: 0.6806 - val_loss: 0.7359 - val_accuracy: 0.6767\n",
            "Epoch 260/300\n",
            "13/13 [==============================] - 0s 6ms/step - loss: 0.6847 - accuracy: 0.6742 - val_loss: 0.7367 - val_accuracy: 0.6654\n",
            "Epoch 261/300\n",
            "13/13 [==============================] - 0s 6ms/step - loss: 0.6620 - accuracy: 0.6742 - val_loss: 0.7381 - val_accuracy: 0.6692\n",
            "Epoch 262/300\n",
            "13/13 [==============================] - 0s 6ms/step - loss: 0.6513 - accuracy: 0.6887 - val_loss: 0.7392 - val_accuracy: 0.6729\n",
            "Epoch 263/300\n",
            "13/13 [==============================] - 0s 5ms/step - loss: 0.6507 - accuracy: 0.6871 - val_loss: 0.7412 - val_accuracy: 0.6692\n",
            "Epoch 264/300\n",
            "13/13 [==============================] - 0s 6ms/step - loss: 0.6448 - accuracy: 0.6839 - val_loss: 0.7406 - val_accuracy: 0.6805\n",
            "Epoch 265/300\n",
            "13/13 [==============================] - 0s 6ms/step - loss: 0.6665 - accuracy: 0.6694 - val_loss: 0.7383 - val_accuracy: 0.6767\n",
            "Epoch 266/300\n",
            "13/13 [==============================] - 0s 5ms/step - loss: 0.6423 - accuracy: 0.6806 - val_loss: 0.7391 - val_accuracy: 0.6767\n",
            "Epoch 267/300\n",
            "13/13 [==============================] - 0s 6ms/step - loss: 0.6347 - accuracy: 0.7081 - val_loss: 0.7404 - val_accuracy: 0.6692\n",
            "Epoch 268/300\n",
            "13/13 [==============================] - 0s 7ms/step - loss: 0.6484 - accuracy: 0.6758 - val_loss: 0.7392 - val_accuracy: 0.6767\n",
            "Epoch 269/300\n",
            "13/13 [==============================] - 0s 6ms/step - loss: 0.6667 - accuracy: 0.6774 - val_loss: 0.7387 - val_accuracy: 0.6767\n",
            "Epoch 270/300\n",
            "13/13 [==============================] - 0s 6ms/step - loss: 0.6616 - accuracy: 0.6710 - val_loss: 0.7383 - val_accuracy: 0.6729\n",
            "Epoch 271/300\n",
            "13/13 [==============================] - 0s 6ms/step - loss: 0.6543 - accuracy: 0.6677 - val_loss: 0.7368 - val_accuracy: 0.6805\n",
            "Epoch 272/300\n",
            "13/13 [==============================] - 0s 5ms/step - loss: 0.6566 - accuracy: 0.6790 - val_loss: 0.7365 - val_accuracy: 0.6767\n",
            "Epoch 273/300\n",
            "13/13 [==============================] - 0s 7ms/step - loss: 0.6350 - accuracy: 0.7129 - val_loss: 0.7386 - val_accuracy: 0.6767\n",
            "Epoch 274/300\n",
            "13/13 [==============================] - 0s 6ms/step - loss: 0.6485 - accuracy: 0.6855 - val_loss: 0.7411 - val_accuracy: 0.6767\n",
            "Epoch 275/300\n",
            "13/13 [==============================] - 0s 6ms/step - loss: 0.6496 - accuracy: 0.6871 - val_loss: 0.7432 - val_accuracy: 0.6767\n",
            "Epoch 276/300\n",
            "13/13 [==============================] - 0s 7ms/step - loss: 0.6514 - accuracy: 0.6855 - val_loss: 0.7436 - val_accuracy: 0.6767\n",
            "Epoch 277/300\n",
            "13/13 [==============================] - 0s 8ms/step - loss: 0.6507 - accuracy: 0.7016 - val_loss: 0.7431 - val_accuracy: 0.6729\n",
            "Epoch 278/300\n",
            "13/13 [==============================] - 0s 6ms/step - loss: 0.6600 - accuracy: 0.6790 - val_loss: 0.7418 - val_accuracy: 0.6729\n",
            "Epoch 279/300\n",
            "13/13 [==============================] - 0s 5ms/step - loss: 0.6588 - accuracy: 0.6919 - val_loss: 0.7395 - val_accuracy: 0.6805\n",
            "Epoch 280/300\n",
            "13/13 [==============================] - 0s 6ms/step - loss: 0.6635 - accuracy: 0.6677 - val_loss: 0.7384 - val_accuracy: 0.6842\n",
            "Epoch 281/300\n",
            "13/13 [==============================] - 0s 6ms/step - loss: 0.6513 - accuracy: 0.6855 - val_loss: 0.7379 - val_accuracy: 0.6805\n",
            "Epoch 282/300\n",
            "13/13 [==============================] - 0s 5ms/step - loss: 0.6547 - accuracy: 0.6968 - val_loss: 0.7384 - val_accuracy: 0.6767\n",
            "Epoch 283/300\n",
            "13/13 [==============================] - 0s 6ms/step - loss: 0.6592 - accuracy: 0.6871 - val_loss: 0.7411 - val_accuracy: 0.6767\n",
            "Epoch 284/300\n",
            "13/13 [==============================] - 0s 6ms/step - loss: 0.6364 - accuracy: 0.6903 - val_loss: 0.7389 - val_accuracy: 0.6842\n",
            "Epoch 285/300\n",
            "13/13 [==============================] - 0s 6ms/step - loss: 0.6535 - accuracy: 0.6694 - val_loss: 0.7406 - val_accuracy: 0.6729\n",
            "Epoch 286/300\n",
            "13/13 [==============================] - 0s 6ms/step - loss: 0.6508 - accuracy: 0.6887 - val_loss: 0.7420 - val_accuracy: 0.6842\n",
            "Epoch 287/300\n",
            "13/13 [==============================] - 0s 5ms/step - loss: 0.6539 - accuracy: 0.6758 - val_loss: 0.7421 - val_accuracy: 0.6805\n",
            "Epoch 288/300\n",
            "13/13 [==============================] - 0s 6ms/step - loss: 0.6367 - accuracy: 0.6952 - val_loss: 0.7438 - val_accuracy: 0.6842\n",
            "Epoch 289/300\n",
            "13/13 [==============================] - 0s 6ms/step - loss: 0.6539 - accuracy: 0.6613 - val_loss: 0.7441 - val_accuracy: 0.6767\n",
            "Epoch 290/300\n",
            "13/13 [==============================] - 0s 6ms/step - loss: 0.6630 - accuracy: 0.6629 - val_loss: 0.7466 - val_accuracy: 0.6805\n",
            "Epoch 291/300\n",
            "13/13 [==============================] - 0s 7ms/step - loss: 0.6495 - accuracy: 0.6871 - val_loss: 0.7472 - val_accuracy: 0.6767\n",
            "Epoch 292/300\n",
            "13/13 [==============================] - 0s 6ms/step - loss: 0.6449 - accuracy: 0.7032 - val_loss: 0.7473 - val_accuracy: 0.6767\n",
            "Epoch 293/300\n",
            "13/13 [==============================] - 0s 7ms/step - loss: 0.6760 - accuracy: 0.6694 - val_loss: 0.7493 - val_accuracy: 0.6729\n",
            "Epoch 294/300\n",
            "13/13 [==============================] - 0s 6ms/step - loss: 0.6376 - accuracy: 0.6790 - val_loss: 0.7486 - val_accuracy: 0.6729\n",
            "Epoch 295/300\n",
            "13/13 [==============================] - 0s 6ms/step - loss: 0.6600 - accuracy: 0.6919 - val_loss: 0.7480 - val_accuracy: 0.6729\n",
            "Epoch 296/300\n",
            "13/13 [==============================] - 0s 5ms/step - loss: 0.6486 - accuracy: 0.6742 - val_loss: 0.7512 - val_accuracy: 0.6692\n",
            "Epoch 297/300\n",
            "13/13 [==============================] - 0s 5ms/step - loss: 0.6498 - accuracy: 0.6774 - val_loss: 0.7522 - val_accuracy: 0.6767\n",
            "Epoch 298/300\n",
            "13/13 [==============================] - 0s 6ms/step - loss: 0.6650 - accuracy: 0.6726 - val_loss: 0.7539 - val_accuracy: 0.6767\n",
            "Epoch 299/300\n",
            "13/13 [==============================] - 0s 6ms/step - loss: 0.6447 - accuracy: 0.6968 - val_loss: 0.7573 - val_accuracy: 0.6767\n",
            "Epoch 300/300\n",
            "13/13 [==============================] - 0s 6ms/step - loss: 0.6455 - accuracy: 0.6935 - val_loss: 0.7542 - val_accuracy: 0.6767\n"
          ]
        }
      ]
    },
    {
      "cell_type": "markdown",
      "metadata": {
        "id": "JGEoCgFDgC3P"
      },
      "source": [
        "### Plot Loss and Accuracy"
      ]
    },
    {
      "cell_type": "code",
      "metadata": {
        "id": "2xaJSLowDawG",
        "colab": {
          "base_uri": "https://localhost:8080/",
          "height": 295
        },
        "outputId": "cfffe776-ac67-4351-c900-c57037200911"
      },
      "source": [
        "plt.plot(history.history['accuracy'])\n",
        "plt.plot(history.history['val_accuracy'])\n",
        "plt.title('model accuracy')\n",
        "plt.ylabel('accuracy')\n",
        "plt.xlabel('epoch')\n",
        "plt.legend(['train', 'test'], loc='upper left')\n",
        "plt.show()"
      ],
      "execution_count": 505,
      "outputs": [
        {
          "output_type": "display_data",
          "data": {
            "image/png": "[encoded data removed]",
            "text/plain": [
              "<Figure size 432x288 with 1 Axes>"
            ]
          },
          "metadata": {
            "needs_background": "light"
          }
        }
      ]
    },
    {
      "cell_type": "code",
      "metadata": {
        "id": "lzNLa-f3EPMD",
        "colab": {
          "base_uri": "https://localhost:8080/",
          "height": 295
        },
        "outputId": "500d81cd-8425-40b5-ee89-0ddfd52826d3"
      },
      "source": [
        "plt.plot(history.history['loss'])\n",
        "plt.plot(history.history['val_loss'])\n",
        "plt.title('model loss')\n",
        "plt.ylabel('loss')\n",
        "plt.xlabel('epoch')\n",
        "plt.legend(['train', 'test'], loc='upper right')\n",
        "plt.show()"
      ],
      "execution_count": 506,
      "outputs": [
        {
          "output_type": "display_data",
          "data": {
            "image/png": "[encoded data removed]",
            "text/plain": [
              "<Figure size 432x288 with 1 Axes>"
            ]
          },
          "metadata": {
            "needs_background": "light"
          }
        }
      ]
    },
    {
      "cell_type": "code",
      "metadata": {
        "id": "fz4UzJt7ZVz2"
      },
      "source": [
        "y_pred = model.predict(X_test_scaled)"
      ],
      "execution_count": 507,
      "outputs": []
    },
    {
      "cell_type": "code",
      "metadata": {
        "id": "93mpvIEQdhW-",
        "colab": {
          "base_uri": "https://localhost:8080/"
        },
        "outputId": "1824300c-fd80-400e-9826-e0217911e31f"
      },
      "source": [
        "y_pred"
      ],
      "execution_count": 508,
      "outputs": [
        {
          "output_type": "execute_result",
          "data": {
            "text/plain": [
              "array([[8.41787279e-01, 1.58212587e-01, 1.15664690e-07],\n",
              "       [4.40728449e-08, 1.33701544e-02, 9.86629844e-01],\n",
              "       [4.04923975e-01, 5.51540017e-01, 4.35359702e-02],\n",
              "       [1.19631581e-01, 4.28196669e-01, 4.52171803e-01],\n",
              "       [3.75910074e-01, 5.77033699e-01, 4.70562615e-02],\n",
              "       [4.46827859e-02, 5.92685640e-01, 3.62631589e-01],\n",
              "       [4.12875740e-03, 3.68057787e-01, 6.27813518e-01],\n",
              "       [1.13143763e-02, 3.30203474e-01, 6.58482134e-01],\n",
              "       [6.06182039e-01, 3.93043816e-01, 7.74043787e-04],\n",
              "       [4.98566260e-05, 8.41209516e-02, 9.15829182e-01],\n",
              "       [3.28473449e-02, 3.82992059e-01, 5.84160566e-01],\n",
              "       [4.97228503e-02, 6.97603106e-01, 2.52674073e-01],\n",
              "       [1.42768234e-01, 7.78253257e-01, 7.89784938e-02],\n",
              "       [6.40728569e-04, 1.15582541e-01, 8.83776724e-01],\n",
              "       [3.18830833e-02, 5.16602635e-01, 4.51514244e-01],\n",
              "       [6.61426842e-01, 3.38385552e-01, 1.87689075e-04],\n",
              "       [9.81544614e-01, 1.84553564e-02, 1.59689529e-14],\n",
              "       [4.48435545e-03, 2.84898549e-01, 7.10617006e-01],\n",
              "       [6.22143149e-01, 3.77735823e-01, 1.21032717e-04],\n",
              "       [2.57880543e-04, 1.27779767e-01, 8.71962428e-01],\n",
              "       [1.08264980e-03, 2.50721842e-01, 7.48195529e-01],\n",
              "       [5.49000978e-01, 4.45789784e-01, 5.20916795e-03],\n",
              "       [6.79446340e-01, 3.20482016e-01, 7.16614450e-05],\n",
              "       [8.31580043e-01, 1.68419525e-01, 3.89301562e-07],\n",
              "       [2.61424342e-04, 1.12289920e-01, 8.87448609e-01],\n",
              "       [2.96150982e-01, 6.38617158e-01, 6.52317852e-02],\n",
              "       [8.79752263e-03, 5.59435248e-01, 4.31767225e-01],\n",
              "       [1.07768044e-01, 7.65885890e-01, 1.26346037e-01],\n",
              "       [9.20714531e-03, 2.45849580e-01, 7.44943261e-01],\n",
              "       [7.37130700e-04, 1.89854473e-01, 8.09408367e-01],\n",
              "       [9.17611897e-01, 8.23880732e-02, 6.95662694e-10],\n",
              "       [9.01159406e-01, 9.88406613e-02, 9.16842102e-10],\n",
              "       [2.29951907e-02, 3.59328270e-01, 6.17676497e-01],\n",
              "       [5.78469597e-02, 6.29343033e-01, 3.12810063e-01],\n",
              "       [1.05360396e-01, 4.77127522e-01, 4.17512089e-01],\n",
              "       [8.69529724e-01, 1.30470276e-01, 1.59435114e-08],\n",
              "       [5.99484384e-01, 3.99721861e-01, 7.93658837e-04],\n",
              "       [5.05837215e-06, 1.91115569e-02, 9.80883420e-01],\n",
              "       [8.70116174e-01, 1.29883870e-01, 4.12631991e-08],\n",
              "       [6.42223805e-02, 4.72518414e-01, 4.63259280e-01],\n",
              "       [2.77954107e-03, 2.30751559e-01, 7.66468883e-01],\n",
              "       [9.10133958e-01, 8.98660645e-02, 1.70955594e-09],\n",
              "       [2.05209427e-09, 4.14279569e-03, 9.95857179e-01],\n",
              "       [5.42312562e-01, 4.53066111e-01, 4.62133158e-03],\n",
              "       [1.17703499e-02, 3.39044631e-01, 6.49185061e-01],\n",
              "       [1.60599739e-04, 9.38765779e-02, 9.05962825e-01],\n",
              "       [6.54767036e-01, 3.45057577e-01, 1.75385387e-04],\n",
              "       [1.52376786e-01, 5.82924366e-01, 2.64698923e-01],\n",
              "       [9.13996220e-01, 8.60037357e-02, 1.00671538e-09],\n",
              "       [7.26796567e-01, 2.73198456e-01, 5.04391392e-06],\n",
              "       [1.85666010e-02, 3.27603102e-01, 6.53830230e-01],\n",
              "       [7.01182783e-01, 2.98777997e-01, 3.92357142e-05],\n",
              "       [3.93309779e-02, 4.60972697e-01, 4.99696314e-01],\n",
              "       [5.82569063e-01, 4.16604221e-01, 8.26750475e-04],\n",
              "       [2.74958480e-02, 4.43935692e-01, 5.28568506e-01],\n",
              "       [3.35965365e-01, 6.39100373e-01, 2.49342006e-02],\n",
              "       [9.95596230e-01, 4.40383749e-03, 3.24888627e-19],\n",
              "       [2.20304282e-04, 1.36219293e-01, 8.63560438e-01],\n",
              "       [8.10676873e-01, 1.89322755e-01, 4.22359790e-07],\n",
              "       [1.37869545e-04, 1.05826423e-01, 8.94035697e-01],\n",
              "       [3.60298455e-01, 5.96567512e-01, 4.31341119e-02],\n",
              "       [1.90775585e-03, 1.99249744e-01, 7.98842490e-01],\n",
              "       [6.00238366e-08, 1.16497055e-02, 9.88350272e-01],\n",
              "       [3.84973874e-03, 2.28542402e-01, 7.67607927e-01],\n",
              "       [6.36759341e-01, 3.63074452e-01, 1.66232596e-04],\n",
              "       [5.52423336e-02, 4.17211652e-01, 5.27545989e-01],\n",
              "       [1.58294663e-02, 3.38908851e-01, 6.45261645e-01],\n",
              "       [4.30304062e-04, 1.46167204e-01, 8.53402495e-01],\n",
              "       [7.78475627e-02, 4.61065888e-01, 4.61086512e-01],\n",
              "       [3.09174746e-01, 6.12726331e-01, 7.80988783e-02],\n",
              "       [6.84213459e-01, 3.15727293e-01, 5.92923934e-05],\n",
              "       [9.28034961e-01, 7.19651133e-02, 1.07955242e-10],\n",
              "       [2.02288225e-01, 5.30827403e-01, 2.66884416e-01],\n",
              "       [6.81841280e-03, 3.29254597e-01, 6.63927019e-01],\n",
              "       [6.69030249e-02, 5.03795803e-01, 4.29301202e-01],\n",
              "       [3.18705477e-02, 4.57956016e-01, 5.10173440e-01],\n",
              "       [2.20957023e-04, 1.50613159e-01, 8.49165916e-01],\n",
              "       [7.95988142e-01, 2.04010546e-01, 1.21969754e-06],\n",
              "       [2.71763485e-02, 3.42341155e-01, 6.30482495e-01],\n",
              "       [5.17190713e-03, 3.11708510e-01, 6.83119655e-01],\n",
              "       [2.54356681e-04, 1.29094645e-01, 8.70650947e-01],\n",
              "       [5.51754795e-02, 4.50441897e-01, 4.94382560e-01],\n",
              "       [1.03986133e-02, 3.12675387e-01, 6.76926017e-01],\n",
              "       [1.49388120e-01, 4.61686343e-01, 3.88925582e-01],\n",
              "       [3.45611274e-01, 6.51131690e-01, 3.25694703e-03],\n",
              "       [4.24833685e-01, 5.51607728e-01, 2.35585924e-02],\n",
              "       [3.64992261e-01, 5.82650423e-01, 5.23573980e-02],\n",
              "       [5.58472276e-02, 3.87650490e-01, 5.56502223e-01],\n",
              "       [7.12571070e-02, 6.26276791e-01, 3.02466154e-01],\n",
              "       [1.26407035e-02, 2.67946422e-01, 7.19412863e-01],\n",
              "       [8.85774732e-01, 1.14225313e-01, 7.66609087e-09],\n",
              "       [3.14767100e-03, 2.08051220e-01, 7.88801134e-01],\n",
              "       [3.20918684e-06, 3.54080424e-02, 9.64588761e-01],\n",
              "       [4.67477217e-02, 3.92519861e-01, 5.60732365e-01],\n",
              "       [1.75052226e-01, 6.54299855e-01, 1.70647860e-01],\n",
              "       [4.37379390e-01, 5.61768651e-01, 8.51885299e-04],\n",
              "       [1.03113428e-01, 3.80943745e-01, 5.15942812e-01],\n",
              "       [2.80402243e-01, 5.62400341e-01, 1.57197431e-01],\n",
              "       [9.97405350e-01, 2.59461952e-03, 7.58222668e-21],\n",
              "       [9.01295543e-01, 9.87044349e-02, 3.49783758e-09],\n",
              "       [4.67632748e-02, 7.36509681e-01, 2.16727018e-01],\n",
              "       [4.06307936e-01, 5.84690452e-01, 9.00160801e-03],\n",
              "       [8.06607113e-06, 6.63378239e-02, 9.33654130e-01],\n",
              "       [6.08858824e-01, 3.90499830e-01, 6.41317398e-04],\n",
              "       [8.72618705e-02, 4.75642979e-01, 4.37095165e-01],\n",
              "       [8.31766613e-03, 3.43635499e-01, 6.48046851e-01],\n",
              "       [4.73148003e-03, 2.65060008e-01, 7.30208516e-01],\n",
              "       [9.96732339e-02, 5.47368467e-01, 3.52958351e-01],\n",
              "       [3.67904902e-01, 5.98790765e-01, 3.33043300e-02],\n",
              "       [9.27873075e-01, 7.21269101e-02, 4.69417283e-10],\n",
              "       [2.98317611e-01, 6.84937477e-01, 1.67448595e-02],\n",
              "       [8.65243912e-01, 1.34756103e-01, 4.51691164e-08],\n",
              "       [9.16409120e-02, 4.27221119e-01, 4.81137991e-01],\n",
              "       [2.86890026e-05, 4.33189832e-02, 9.56652343e-01],\n",
              "       [4.27660309e-02, 4.35058475e-01, 5.22175550e-01],\n",
              "       [1.25042876e-04, 7.92003572e-02, 9.20674622e-01],\n",
              "       [2.95662496e-04, 1.30740687e-01, 8.68963599e-01],\n",
              "       [2.46301934e-01, 7.11220741e-01, 4.24773432e-02],\n",
              "       [7.35833585e-01, 2.64152855e-01, 1.35841110e-05],\n",
              "       [9.87144560e-02, 4.65322614e-01, 4.35962945e-01],\n",
              "       [5.61997533e-01, 4.37527746e-01, 4.74749657e-04],\n",
              "       [7.72769511e-01, 2.27227539e-01, 2.91469655e-06],\n",
              "       [9.04642642e-02, 5.15707970e-01, 3.93827796e-01],\n",
              "       [2.03561366e-01, 7.23738909e-01, 7.26997107e-02],\n",
              "       [1.67290083e-04, 1.35033116e-01, 8.64799619e-01],\n",
              "       [1.98607549e-01, 5.47747910e-01, 2.53644526e-01],\n",
              "       [8.64349585e-03, 2.90402204e-01, 7.00954258e-01],\n",
              "       [1.67035684e-02, 3.57657075e-01, 6.25639379e-01],\n",
              "       [1.15905399e-03, 2.27128759e-01, 7.71712184e-01],\n",
              "       [6.51179254e-01, 3.48247826e-01, 5.72846737e-04],\n",
              "       [1.22083893e-05, 2.90858485e-02, 9.70901906e-01],\n",
              "       [1.07795097e-01, 5.93229592e-01, 2.98975259e-01],\n",
              "       [1.12257086e-01, 4.75093722e-01, 4.12649184e-01],\n",
              "       [6.07404232e-01, 3.92440617e-01, 1.55159796e-04],\n",
              "       [5.44728875e-01, 4.51528847e-01, 3.74233862e-03],\n",
              "       [1.01302207e-01, 4.71221298e-01, 4.27476555e-01],\n",
              "       [2.93777660e-02, 3.15477759e-01, 6.55144453e-01],\n",
              "       [1.94287691e-02, 3.80551070e-01, 6.00020230e-01],\n",
              "       [9.85351741e-01, 1.46482224e-02, 5.04637190e-16],\n",
              "       [1.13978840e-01, 4.59799409e-01, 4.26221699e-01],\n",
              "       [1.00478355e-04, 1.24134973e-01, 8.75764549e-01],\n",
              "       [7.18616545e-01, 2.81351745e-01, 3.16650112e-05],\n",
              "       [2.15281788e-02, 3.94131094e-01, 5.84340692e-01],\n",
              "       [9.90562916e-01, 9.43704695e-03, 6.20649429e-17],\n",
              "       [8.59882057e-01, 1.40117928e-01, 3.81780083e-08],\n",
              "       [5.40007949e-02, 7.46793568e-01, 1.99205637e-01],\n",
              "       [6.35356367e-01, 3.64470184e-01, 1.73526467e-04],\n",
              "       [5.39287031e-01, 4.57699955e-01, 3.01292399e-03],\n",
              "       [7.83422310e-03, 3.15045506e-01, 6.77120268e-01],\n",
              "       [1.27685734e-03, 1.10362276e-01, 8.88360918e-01],\n",
              "       [5.77186085e-02, 4.85766143e-01, 4.56515223e-01],\n",
              "       [3.83613184e-02, 3.84146273e-01, 5.77492356e-01],\n",
              "       [2.72422098e-02, 3.59214514e-01, 6.13543212e-01],\n",
              "       [9.93806243e-01, 6.19373564e-03, 4.43165446e-18],\n",
              "       [5.93359351e-01, 4.06032860e-01, 6.07754628e-04],\n",
              "       [7.06726074e-01, 2.93258250e-01, 1.56396400e-05],\n",
              "       [1.32793769e-01, 5.55155873e-01, 3.12050462e-01],\n",
              "       [5.76932775e-03, 2.54611820e-01, 7.39618897e-01],\n",
              "       [2.21204013e-02, 6.45031214e-01, 3.32848400e-01],\n",
              "       [3.42376676e-04, 1.96130440e-01, 8.03527117e-01],\n",
              "       [3.89280205e-04, 1.21673346e-01, 8.77937376e-01],\n",
              "       [1.68127805e-01, 4.21401173e-01, 4.10471082e-01],\n",
              "       [3.04200917e-01, 6.69849277e-01, 2.59498116e-02],\n",
              "       [5.47236443e-01, 4.51337248e-01, 1.42630155e-03],\n",
              "       [1.40515722e-05, 6.81919530e-02, 9.31794047e-01],\n",
              "       [2.15231543e-04, 9.64634866e-02, 9.03321266e-01],\n",
              "       [9.57698762e-01, 4.23012115e-02, 2.43524927e-12],\n",
              "       [1.61466345e-01, 5.81861496e-01, 2.56672084e-01],\n",
              "       [1.41391987e-02, 4.14903462e-01, 5.70957363e-01],\n",
              "       [4.59831506e-02, 5.87001562e-01, 3.67015302e-01],\n",
              "       [8.07793319e-01, 1.92205504e-01, 1.14618786e-06],\n",
              "       [5.49316667e-02, 5.88492692e-01, 3.56575578e-01],\n",
              "       [7.72016048e-01, 2.27981746e-01, 2.21779283e-06],\n",
              "       [6.75551966e-02, 7.04297721e-01, 2.28147060e-01],\n",
              "       [4.52537742e-03, 2.34683663e-01, 7.60790944e-01],\n",
              "       [1.30465299e-01, 4.47633833e-01, 4.21900868e-01],\n",
              "       [6.63908303e-01, 3.35963041e-01, 1.28716580e-04],\n",
              "       [1.11424197e-05, 5.35558388e-02, 9.46433067e-01],\n",
              "       [2.59484679e-01, 5.16395867e-01, 2.24119529e-01],\n",
              "       [1.08566493e-01, 7.52668738e-01, 1.38764828e-01],\n",
              "       [3.75502050e-01, 5.94598532e-01, 2.98994314e-02],\n",
              "       [9.52815681e-05, 1.07366696e-01, 8.92538011e-01],\n",
              "       [1.07899539e-01, 6.74675882e-01, 2.17424586e-01],\n",
              "       [7.52768099e-01, 2.47230053e-01, 1.91055460e-06],\n",
              "       [4.73897252e-03, 2.92705089e-01, 7.02555954e-01],\n",
              "       [6.65377854e-07, 2.20951550e-02, 9.77904201e-01],\n",
              "       [3.51621002e-01, 5.93875110e-01, 5.45038134e-02],\n",
              "       [2.55966024e-03, 2.24585220e-01, 7.72855103e-01],\n",
              "       [5.69728472e-05, 6.99590817e-02, 9.29983974e-01],\n",
              "       [1.23327021e-02, 4.72477078e-01, 5.15190184e-01],\n",
              "       [1.88991157e-06, 3.27729881e-02, 9.67225134e-01],\n",
              "       [9.36061203e-01, 6.39387667e-02, 1.17639787e-10],\n",
              "       [7.42852926e-01, 2.57134706e-01, 1.22883048e-05],\n",
              "       [9.50768813e-02, 6.25731230e-01, 2.79191881e-01],\n",
              "       [5.48503816e-01, 4.48656052e-01, 2.84013827e-03],\n",
              "       [5.74725717e-02, 9.39687908e-01, 2.83959997e-03],\n",
              "       [2.03392226e-02, 4.96551156e-01, 4.83109623e-01],\n",
              "       [1.58171941e-04, 1.18383490e-01, 8.81458342e-01],\n",
              "       [5.15491411e-04, 1.88432217e-01, 8.11052263e-01],\n",
              "       [4.15570766e-01, 5.19768119e-01, 6.46610707e-02],\n",
              "       [4.94646765e-02, 8.89720798e-01, 6.08144552e-02],\n",
              "       [3.91489029e-01, 5.36820054e-01, 7.16908947e-02],\n",
              "       [5.97609265e-04, 2.12575853e-01, 7.86826551e-01],\n",
              "       [4.68422371e-07, 1.19467545e-02, 9.88052845e-01],\n",
              "       [3.57215792e-01, 6.26261652e-01, 1.65225733e-02],\n",
              "       [5.61208427e-01, 4.37661707e-01, 1.12983724e-03],\n",
              "       [9.29295318e-04, 1.74370930e-01, 8.24699819e-01],\n",
              "       [3.33936908e-03, 2.07971007e-01, 7.88689673e-01],\n",
              "       [1.85821466e-02, 3.49784076e-01, 6.31633759e-01],\n",
              "       [6.59229040e-01, 3.40717137e-01, 5.37340384e-05],\n",
              "       [7.67748654e-02, 3.97229075e-01, 5.25996029e-01],\n",
              "       [3.71518508e-02, 4.11727548e-01, 5.51120639e-01],\n",
              "       [3.20727890e-03, 2.24743471e-01, 7.72049189e-01],\n",
              "       [3.47297937e-01, 5.16240776e-01, 1.36461303e-01],\n",
              "       [2.16151834e-01, 5.71163714e-01, 2.12684438e-01],\n",
              "       [2.05259640e-02, 4.73160297e-01, 5.06313682e-01],\n",
              "       [4.11283970e-01, 5.83039284e-01, 5.67670772e-03],\n",
              "       [1.59821585e-01, 4.35268283e-01, 4.04910117e-01],\n",
              "       [3.02982924e-04, 1.60331652e-01, 8.39365363e-01],\n",
              "       [5.31103611e-01, 4.63641554e-01, 5.25489263e-03],\n",
              "       [9.24734748e-04, 1.70535594e-01, 8.28539670e-01],\n",
              "       [4.82404083e-01, 5.12581229e-01, 5.01465658e-03],\n",
              "       [4.47592884e-02, 3.96092802e-01, 5.59147894e-01],\n",
              "       [1.92560665e-02, 4.33761895e-01, 5.46982050e-01],\n",
              "       [7.43840456e-01, 2.56149828e-01, 9.68796758e-06],\n",
              "       [3.66189241e-01, 5.72472394e-01, 6.13383427e-02],\n",
              "       [2.71336496e-01, 6.48803532e-01, 7.98600391e-02],\n",
              "       [9.11639929e-01, 8.83600563e-02, 2.06743000e-09],\n",
              "       [4.46494401e-01, 5.27304590e-01, 2.62009241e-02],\n",
              "       [1.14651804e-04, 1.03756554e-01, 8.96128833e-01],\n",
              "       [5.50856860e-03, 3.02284628e-01, 6.92206800e-01],\n",
              "       [4.65715379e-01, 5.17352879e-01, 1.69317257e-02],\n",
              "       [1.95659906e-01, 5.47637105e-01, 2.56702930e-01],\n",
              "       [2.54600495e-03, 3.20163906e-01, 6.77290082e-01],\n",
              "       [2.74481326e-02, 3.81473362e-01, 5.91078460e-01],\n",
              "       [7.41696596e-01, 2.58296579e-01, 6.83002372e-06],\n",
              "       [6.28454745e-06, 4.68418561e-02, 9.53151882e-01],\n",
              "       [9.74474430e-01, 2.55255643e-02, 9.19778847e-14],\n",
              "       [3.31554674e-02, 3.70226175e-01, 5.96618354e-01],\n",
              "       [6.86079657e-05, 1.25070855e-01, 8.74860525e-01],\n",
              "       [5.92457503e-03, 1.95412815e-01, 7.98662603e-01],\n",
              "       [4.16712975e-03, 2.55895257e-01, 7.39937663e-01],\n",
              "       [7.74878323e-01, 2.25110039e-01, 1.15942175e-05],\n",
              "       [5.51946536e-02, 4.39095974e-01, 5.05709350e-01],\n",
              "       [5.13503373e-01, 4.80469376e-01, 6.02718629e-03],\n",
              "       [3.73285613e-03, 2.72656143e-01, 7.23610997e-01],\n",
              "       [9.81937535e-03, 2.75715172e-01, 7.14465439e-01],\n",
              "       [9.55141246e-01, 4.48587947e-02, 9.16352671e-12],\n",
              "       [9.62906539e-01, 3.70934308e-02, 2.23237227e-12],\n",
              "       [1.25521213e-01, 7.81783104e-01, 9.26956758e-02],\n",
              "       [2.79579544e-03, 2.31265351e-01, 7.65938818e-01],\n",
              "       [4.79605913e-01, 5.12265205e-01, 8.12887680e-03],\n",
              "       [8.15348141e-03, 5.27802467e-01, 4.64044064e-01],\n",
              "       [3.14599904e-03, 2.25313082e-01, 7.71540940e-01],\n",
              "       [1.02763558e-02, 3.03331554e-01, 6.86392128e-01],\n",
              "       [3.33690569e-02, 3.68456304e-01, 5.98174572e-01],\n",
              "       [8.83796155e-01, 1.16203807e-01, 2.17685248e-08],\n",
              "       [7.22269177e-01, 2.77706951e-01, 2.38623106e-05],\n",
              "       [4.72639240e-02, 3.95317554e-01, 5.57418525e-01],\n",
              "       [7.91226685e-01, 2.08772942e-01, 3.64693307e-07],\n",
              "       [6.51499927e-01, 3.48307133e-01, 1.92967695e-04],\n",
              "       [5.85386232e-02, 3.67568314e-01, 5.73893070e-01],\n",
              "       [2.85121590e-01, 6.88470483e-01, 2.64079086e-02],\n",
              "       [2.64327437e-01, 6.39237702e-01, 9.64348391e-02],\n",
              "       [9.57239568e-01, 4.27604541e-02, 1.42614150e-11],\n",
              "       [1.03105785e-05, 6.73219934e-02, 9.32667673e-01],\n",
              "       [3.08553111e-02, 6.65432692e-01, 3.03711981e-01],\n",
              "       [1.71893998e-03, 1.83781832e-01, 8.14499319e-01],\n",
              "       [9.29525793e-01, 7.04741776e-02, 2.61190847e-10],\n",
              "       [1.34049356e-02, 3.35314244e-01, 6.51280820e-01],\n",
              "       [5.30485928e-01, 4.67390895e-01, 2.12315191e-03],\n",
              "       [8.78591478e-01, 1.21408463e-01, 1.57515014e-08],\n",
              "       [4.44473475e-01, 5.21372080e-01, 3.41544636e-02],\n",
              "       [6.87090456e-02, 4.42983061e-01, 4.88307893e-01],\n",
              "       [3.11726741e-02, 3.71007264e-01, 5.97820103e-01],\n",
              "       [1.16017699e-01, 4.75832611e-01, 4.08149719e-01],\n",
              "       [9.65077043e-01, 3.49230021e-02, 2.16571054e-12],\n",
              "       [9.91257280e-03, 2.75510997e-01, 7.14576364e-01],\n",
              "       [7.59949625e-01, 2.40045115e-01, 5.21504580e-06],\n",
              "       [1.75800696e-01, 4.55235481e-01, 3.68963867e-01],\n",
              "       [8.21732637e-03, 2.32523456e-01, 7.59259164e-01],\n",
              "       [1.41707473e-02, 3.73092234e-01, 6.12737060e-01],\n",
              "       [1.90617435e-03, 2.54826069e-01, 7.43267775e-01],\n",
              "       [2.82966030e-05, 6.37703389e-02, 9.36201394e-01],\n",
              "       [9.66532171e-01, 3.34678404e-02, 3.38244921e-13],\n",
              "       [5.58978200e-01, 4.39491123e-01, 1.53073424e-03],\n",
              "       [1.68714911e-01, 5.30665874e-01, 3.00619245e-01],\n",
              "       [2.24243402e-01, 4.85879630e-01, 2.89876968e-01],\n",
              "       [7.07315445e-01, 2.92656869e-01, 2.76685860e-05],\n",
              "       [5.85246563e-01, 4.13241923e-01, 1.51157752e-03],\n",
              "       [1.92480639e-01, 5.03271520e-01, 3.04247886e-01],\n",
              "       [9.66765881e-01, 3.32341641e-02, 8.77711749e-13],\n",
              "       [1.89101830e-01, 5.57094872e-01, 2.53803283e-01],\n",
              "       [2.03990355e-01, 5.34348547e-01, 2.61661112e-01],\n",
              "       [6.46551907e-01, 3.53256971e-01, 1.91154715e-04],\n",
              "       [2.25815347e-05, 9.46884453e-02, 9.05288994e-01]], dtype=float32)"
            ]
          },
          "metadata": {},
          "execution_count": 508
        }
      ]
    },
    {
      "cell_type": "code",
      "metadata": {
        "id": "KXK9zwn4ZqUG"
      },
      "source": [
        "y_pred = np.argmax(y_pred, axis=1)"
      ],
      "execution_count": 509,
      "outputs": []
    },
    {
      "cell_type": "code",
      "metadata": {
        "id": "mTtfvvVge0QO"
      },
      "source": [
        "y_pred = y_pred + 2 # Ratings are 2,3,4"
      ],
      "execution_count": 510,
      "outputs": []
    },
    {
      "cell_type": "code",
      "metadata": {
        "id": "JAySTOOSe5k0",
        "colab": {
          "base_uri": "https://localhost:8080/"
        },
        "outputId": "d1d9ac11-6c00-4b58-d219-7557d26eb945"
      },
      "source": [
        "y_pred"
      ],
      "execution_count": 511,
      "outputs": [
        {
          "output_type": "execute_result",
          "data": {
            "text/plain": [
              "array([2, 4, 3, 4, 3, 3, 4, 4, 2, 4, 4, 3, 3, 4, 3, 2, 2, 4, 2, 4, 4, 2,\n",
              "       2, 2, 4, 3, 3, 3, 4, 4, 2, 2, 4, 3, 3, 2, 2, 4, 2, 3, 4, 2, 4, 2,\n",
              "       4, 4, 2, 3, 2, 2, 4, 2, 4, 2, 4, 3, 2, 4, 2, 4, 3, 4, 4, 4, 2, 4,\n",
              "       4, 4, 4, 3, 2, 2, 3, 4, 3, 4, 4, 2, 4, 4, 4, 4, 4, 3, 3, 3, 3, 4,\n",
              "       3, 4, 2, 4, 4, 4, 3, 3, 4, 3, 2, 2, 3, 3, 4, 2, 3, 4, 4, 3, 3, 2,\n",
              "       3, 2, 4, 4, 4, 4, 4, 3, 2, 3, 2, 2, 3, 3, 4, 3, 4, 4, 4, 2, 4, 3,\n",
              "       3, 2, 2, 3, 4, 4, 2, 3, 4, 2, 4, 2, 2, 3, 2, 2, 4, 4, 3, 4, 4, 2,\n",
              "       2, 2, 3, 4, 3, 4, 4, 3, 3, 2, 4, 4, 2, 3, 4, 3, 2, 3, 2, 3, 4, 3,\n",
              "       2, 4, 3, 3, 3, 4, 3, 2, 4, 4, 3, 4, 4, 4, 4, 2, 2, 3, 2, 3, 3, 4,\n",
              "       4, 3, 3, 3, 4, 4, 3, 2, 4, 4, 4, 2, 4, 4, 4, 3, 3, 4, 3, 3, 4, 2,\n",
              "       4, 3, 4, 4, 2, 3, 3, 2, 3, 4, 4, 3, 3, 4, 4, 2, 4, 2, 4, 4, 4, 4,\n",
              "       2, 4, 2, 4, 4, 2, 2, 3, 4, 3, 3, 4, 4, 4, 2, 2, 4, 2, 2, 4, 3, 3,\n",
              "       2, 4, 3, 4, 2, 4, 2, 2, 3, 4, 4, 3, 2, 4, 2, 3, 4, 4, 4, 4, 2, 2,\n",
              "       3, 3, 2, 2, 3, 2, 3, 3, 2, 4])"
            ]
          },
          "metadata": {},
          "execution_count": 511
        }
      ]
    },
    {
      "cell_type": "code",
      "metadata": {
        "id": "E6LyZ1OnfIwY",
        "colab": {
          "base_uri": "https://localhost:8080/"
        },
        "outputId": "5dc349bc-022d-4661-bbd1-e91a82186bac"
      },
      "source": [
        "y_test.values"
      ],
      "execution_count": 512,
      "outputs": [
        {
          "output_type": "execute_result",
          "data": {
            "text/plain": [
              "array([3, 4, 2, 3, 3, 3, 4, 4, 3, 4, 4, 3, 4, 4, 3, 2, 2, 4, 3, 4, 4, 3,\n",
              "       2, 2, 4, 3, 4, 2, 4, 4, 2, 2, 4, 3, 2, 2, 3, 4, 2, 4, 4, 2, 4, 3,\n",
              "       4, 4, 3, 3, 2, 2, 3, 2, 4, 3, 4, 2, 2, 4, 2, 4, 4, 4, 4, 4, 2, 4,\n",
              "       4, 4, 3, 2, 3, 2, 4, 3, 2, 3, 4, 2, 4, 4, 2, 4, 4, 3, 3, 3, 2, 4,\n",
              "       3, 4, 2, 3, 3, 3, 3, 2, 4, 2, 2, 2, 4, 4, 4, 3, 3, 4, 4, 3, 3, 3,\n",
              "       3, 2, 4, 4, 4, 4, 4, 3, 2, 3, 2, 3, 3, 3, 4, 4, 4, 4, 4, 4, 4, 2,\n",
              "       3, 2, 2, 3, 3, 3, 2, 4, 4, 3, 3, 2, 3, 3, 3, 2, 4, 4, 4, 3, 3, 2,\n",
              "       2, 2, 3, 3, 4, 4, 4, 2, 3, 2, 4, 4, 2, 3, 4, 4, 2, 4, 2, 2, 4, 3,\n",
              "       2, 4, 3, 3, 3, 4, 3, 2, 4, 4, 3, 3, 4, 3, 4, 2, 3, 3, 4, 2, 3, 4,\n",
              "       4, 3, 4, 3, 4, 4, 2, 2, 4, 3, 3, 2, 3, 3, 4, 2, 4, 3, 2, 3, 4, 2,\n",
              "       3, 4, 3, 3, 2, 2, 4, 2, 4, 4, 3, 2, 3, 4, 4, 2, 4, 2, 4, 4, 4, 3,\n",
              "       3, 4, 2, 4, 4, 2, 2, 2, 4, 2, 4, 3, 4, 4, 2, 3, 3, 2, 3, 3, 4, 3,\n",
              "       2, 4, 3, 4, 2, 4, 2, 2, 3, 4, 4, 3, 2, 4, 2, 2, 3, 3, 4, 4, 2, 2,\n",
              "       3, 2, 3, 4, 4, 2, 3, 3, 3, 4])"
            ]
          },
          "metadata": {},
          "execution_count": 512
        }
      ]
    },
    {
      "cell_type": "code",
      "metadata": {
        "id": "CZpPzhnYZ8uK",
        "colab": {
          "base_uri": "https://localhost:8080/",
          "height": 281
        },
        "outputId": "306913cf-1f5f-41d8-8f48-198e29cba92d"
      },
      "source": [
        "plot_conf_matrix(y_test.values,y_pred,unique_class_label, title=\"Confusion Matrix for Neural Network\" )"
      ],
      "execution_count": 513,
      "outputs": [
        {
          "output_type": "display_data",
          "data": {
            "image/png": "[encoded data removed]",
            "text/plain": [
              "<Figure size 360x288 with 2 Axes>"
            ]
          },
          "metadata": {
            "needs_background": "light"
          }
        }
      ]
    },
    {
      "cell_type": "code",
      "metadata": {
        "id": "-VpIdb3-fXot",
        "colab": {
          "base_uri": "https://localhost:8080/"
        },
        "outputId": "3abcdb42-f92a-4cd5-a87b-8bf99eac75fd"
      },
      "source": [
        "print(\"Accuracy Score for \" +  model.__class__.__name__ + \"  \" \n",
        "        + str(accuracy_score(y_test.values,y_pred)) )\n",
        "print(\"F1 Score for \" + model.__class__.__name__ + \"  \" + \n",
        "        str(f1_score(y_test.values, y_pred, average='weighted')))"
      ],
      "execution_count": 514,
      "outputs": [
        {
          "output_type": "stream",
          "name": "stdout",
          "text": [
            "Accuracy Score for Sequential  0.6655405405405406\n",
            "F1 Score for Sequential  0.6613420042781223\n"
          ]
        }
      ]
    },
    {
      "cell_type": "code",
      "metadata": {
        "id": "Qe0B9gjJd-lf"
      },
      "source": [
        "model_json = model.to_json()\n",
        "with open('/content/model.json','w') as json_file:\n",
        "  json_file.write(model_json)"
      ],
      "execution_count": 515,
      "outputs": []
    },
    {
      "cell_type": "code",
      "metadata": {
        "id": "rST-N5tQdnR6"
      },
      "source": [
        "from keras.models import save_model\n",
        "model_weights = save_model(model, '/content/model_weights.hdf5')"
      ],
      "execution_count": 516,
      "outputs": []
    },
    {
      "cell_type": "markdown",
      "metadata": {
        "id": "g7jAiC9Oeerp"
      },
      "source": [
        "#### Performing testing using Loaded model"
      ]
    },
    {
      "cell_type": "code",
      "metadata": {
        "id": "EnmcnCTVen8v",
        "colab": {
          "base_uri": "https://localhost:8080/",
          "height": 122
        },
        "outputId": "47919114-d3fc-466e-9dff-a854cec91ba3"
      },
      "source": [
        "with open('/content/model.json', 'r') as json_file:\n",
        "  json_saved_model = json_file.read()\n",
        "json_saved_model"
      ],
      "execution_count": 517,
      "outputs": [
        {
          "output_type": "execute_result",
          "data": {
            "application/vnd.google.colaboratory.intrinsic+json": {
              "type": "string"
            },
            "text/plain": [
              "'{\"class_name\": \"Sequential\", \"config\": {\"name\": \"sequential_8\", \"layers\": [{\"class_name\": \"InputLayer\", \"config\": {\"batch_input_shape\": [null, 16], \"dtype\": \"float32\", \"sparse\": false, \"ragged\": false, \"name\": \"dense_24_input\"}}, {\"class_name\": \"Dense\", \"config\": {\"name\": \"dense_24\", \"trainable\": true, \"batch_input_shape\": [null, 16], \"dtype\": \"float32\", \"units\": 11, \"activation\": \"relu\", \"use_bias\": true, \"kernel_initializer\": {\"class_name\": \"GlorotUniform\", \"config\": {\"seed\": null}}, \"bias_initializer\": {\"class_name\": \"Zeros\", \"config\": {}}, \"kernel_regularizer\": null, \"bias_regularizer\": null, \"activity_regularizer\": null, \"kernel_constraint\": null, \"bias_constraint\": null}}, {\"class_name\": \"Dropout\", \"config\": {\"name\": \"dropout_16\", \"trainable\": true, \"dtype\": \"float32\", \"rate\": 0.2, \"noise_shape\": null, \"seed\": null}}, {\"class_name\": \"Dense\", \"config\": {\"name\": \"dense_25\", \"trainable\": true, \"dtype\": \"float32\", \"units\": 6, \"activation\": \"relu\", \"use_bias\": true, \"kernel_initializer\": {\"class_name\": \"GlorotUniform\", \"config\": {\"seed\": null}}, \"bias_initializer\": {\"class_name\": \"Zeros\", \"config\": {}}, \"kernel_regularizer\": null, \"bias_regularizer\": null, \"activity_regularizer\": null, \"kernel_constraint\": null, \"bias_constraint\": null}}, {\"class_name\": \"Dropout\", \"config\": {\"name\": \"dropout_17\", \"trainable\": true, \"dtype\": \"float32\", \"rate\": 0.2, \"noise_shape\": null, \"seed\": null}}, {\"class_name\": \"Dense\", \"config\": {\"name\": \"dense_26\", \"trainable\": true, \"dtype\": \"float32\", \"units\": 3, \"activation\": \"softmax\", \"use_bias\": true, \"kernel_initializer\": {\"class_name\": \"GlorotUniform\", \"config\": {\"seed\": null}}, \"bias_initializer\": {\"class_name\": \"Zeros\", \"config\": {}}, \"kernel_regularizer\": null, \"bias_regularizer\": null, \"activity_regularizer\": null, \"kernel_constraint\": null, \"bias_constraint\": null}}]}, \"keras_version\": \"2.7.0\", \"backend\": \"tensorflow\"}'"
            ]
          },
          "metadata": {},
          "execution_count": 517
        }
      ]
    },
    {
      "cell_type": "code",
      "metadata": {
        "id": "KVjlvMHNdnHW"
      },
      "source": [
        "network_loaded = tf.keras.models.model_from_json(json_saved_model)\n",
        "network_loaded.load_weights('model_weights.hdf5')\n",
        "network_loaded.compile(loss = 'categorical_crossentropy', optimizer='Adam', metrics=['accuracy'])"
      ],
      "execution_count": 518,
      "outputs": []
    },
    {
      "cell_type": "code",
      "metadata": {
        "id": "f50j09VHeymq"
      },
      "source": [
        "y_pred_loaded = network_loaded.predict(X_test_scaled)"
      ],
      "execution_count": 519,
      "outputs": []
    },
    {
      "cell_type": "code",
      "metadata": {
        "id": "sUzNFhozfEyd"
      },
      "source": [
        "y_pred_loaded = np.argmax(y_pred_loaded, axis=1)"
      ],
      "execution_count": 520,
      "outputs": []
    },
    {
      "cell_type": "code",
      "metadata": {
        "id": "cWb40j2sfPuy"
      },
      "source": [
        "y_pred_loaded +=2"
      ],
      "execution_count": 521,
      "outputs": []
    },
    {
      "cell_type": "code",
      "metadata": {
        "id": "PtePd9GXfMzb",
        "colab": {
          "base_uri": "https://localhost:8080/",
          "height": 281
        },
        "outputId": "35d2983c-8a5a-46ab-b77d-6a750ce4dadf"
      },
      "source": [
        "plot_conf_matrix(y_test.values,y_pred_loaded,unique_class_label, title=\"Confusion Matrix for \" + model.__class__.__name__)"
      ],
      "execution_count": 522,
      "outputs": [
        {
          "output_type": "display_data",
          "data": {
            "image/png": "[encoded data removed]",
            "text/plain": [
              "<Figure size 360x288 with 2 Axes>"
            ]
          },
          "metadata": {
            "needs_background": "light"
          }
        }
      ]
    },
    {
      "cell_type": "markdown",
      "metadata": {
        "id": "Fkfat6MVgQWf"
      },
      "source": [
        "#### Prediction on Asia Developed Dataset"
      ]
    },
    {
      "cell_type": "code",
      "metadata": {
        "id": "GmboS8VLgUA2"
      },
      "source": [
        "asia_df = pd.read_csv('https://raw.githubusercontent.com/nishitgala89/ProjectDissertation/main/Datasheets/3_Modelling/Generalization_Check_Asia_Developed.csv').set_index(\"SecId\")\n",
        "asia_df = morningStarUtilities.createSize_InvestmentTypeFeature(asia_df)\n",
        "asia_df['Ratings_reset'] = asia_df['StarRatingM255'].apply(lambda x : 2 if(x in (1,2)) else (4 if(x in (4,5)) else 3))"
      ],
      "execution_count": 523,
      "outputs": []
    },
    {
      "cell_type": "code",
      "metadata": {
        "id": "4-2cppx6gZOQ",
        "colab": {
          "base_uri": "https://localhost:8080/",
          "height": 246
        },
        "outputId": "a4707506-2bd1-42ef-f0c7-d25b23ac3072"
      },
      "source": [
        "asia_df[asia_df.FundTNAV.isnull()]"
      ],
      "execution_count": 524,
      "outputs": [
        {
          "output_type": "execute_result",
          "data": {
            "text/html": [
              "\n",
              "  <div id=\"df-e79d2c1d-9d7f-449c-90bc-01bed3b3972e\">\n",
              "    <div class=\"colab-df-container\">\n",
              "      <div>\n",
              "<style scoped>\n",
              "    .dataframe tbody tr th:only-of-type {\n",
              "        vertical-align: middle;\n",
              "    }\n",
              "\n",
              "    .dataframe tbody tr th {\n",
              "        vertical-align: top;\n",
              "    }\n",
              "\n",
              "    .dataframe thead th {\n",
              "        text-align: right;\n",
              "    }\n",
              "</style>\n",
              "<table border=\"1\" class=\"dataframe\">\n",
              "  <thead>\n",
              "    <tr style=\"text-align: right;\">\n",
              "      <th></th>\n",
              "      <th>Name</th>\n",
              "      <th>StarRatingM255</th>\n",
              "      <th>SustainabilityRank</th>\n",
              "      <th>CategoryName</th>\n",
              "      <th>Yield_M12</th>\n",
              "      <th>GBRReturnW1</th>\n",
              "      <th>GBRReturnM1</th>\n",
              "      <th>GBRReturnM3</th>\n",
              "      <th>GBRReturnM6</th>\n",
              "      <th>GBRReturnM0</th>\n",
              "      <th>GBRReturnM12</th>\n",
              "      <th>GBRReturnM36</th>\n",
              "      <th>GBRReturnM60</th>\n",
              "      <th>MaxFrontEndLoad</th>\n",
              "      <th>OngoingCostActual</th>\n",
              "      <th>TransactionFeeActual</th>\n",
              "      <th>ManagerTenure</th>\n",
              "      <th>FundTNAV</th>\n",
              "      <th>EquityStyleBox</th>\n",
              "      <th>AverageMarketCapital</th>\n",
              "      <th>MorningstarRiskM255</th>\n",
              "      <th>AlphaM36</th>\n",
              "      <th>BetaM36</th>\n",
              "      <th>R2M36</th>\n",
              "      <th>StandardDeviationM36</th>\n",
              "      <th>SharpeM36</th>\n",
              "      <th>ReturnProfilePreservation</th>\n",
              "      <th>ReturnProfileIncome</th>\n",
              "      <th>ReturnProfileHedging</th>\n",
              "      <th>TrackRecordExtension</th>\n",
              "      <th>Size</th>\n",
              "      <th>Style</th>\n",
              "      <th>Ratings_reset</th>\n",
              "    </tr>\n",
              "    <tr>\n",
              "      <th>SecId</th>\n",
              "      <th></th>\n",
              "      <th></th>\n",
              "      <th></th>\n",
              "      <th></th>\n",
              "      <th></th>\n",
              "      <th></th>\n",
              "      <th></th>\n",
              "      <th></th>\n",
              "      <th></th>\n",
              "      <th></th>\n",
              "      <th></th>\n",
              "      <th></th>\n",
              "      <th></th>\n",
              "      <th></th>\n",
              "      <th></th>\n",
              "      <th></th>\n",
              "      <th></th>\n",
              "      <th></th>\n",
              "      <th></th>\n",
              "      <th></th>\n",
              "      <th></th>\n",
              "      <th></th>\n",
              "      <th></th>\n",
              "      <th></th>\n",
              "      <th></th>\n",
              "      <th></th>\n",
              "      <th></th>\n",
              "      <th></th>\n",
              "      <th></th>\n",
              "      <th></th>\n",
              "      <th></th>\n",
              "      <th></th>\n",
              "      <th></th>\n",
              "    </tr>\n",
              "  </thead>\n",
              "  <tbody>\n",
              "    <tr>\n",
              "      <th>F00001071Q</th>\n",
              "      <td>BIEF Emerging Markets A GBP Acc</td>\n",
              "      <td>4</td>\n",
              "      <td>2</td>\n",
              "      <td>Global Emerging Markets Equity</td>\n",
              "      <td>0.62047</td>\n",
              "      <td>1.43</td>\n",
              "      <td>1.64</td>\n",
              "      <td>-3.35</td>\n",
              "      <td>-7.72</td>\n",
              "      <td>0.09</td>\n",
              "      <td>10.79</td>\n",
              "      <td>10.05</td>\n",
              "      <td>NaN</td>\n",
              "      <td>NaN</td>\n",
              "      <td>1.12</td>\n",
              "      <td>1.17</td>\n",
              "      <td>24.08</td>\n",
              "      <td>NaN</td>\n",
              "      <td>2</td>\n",
              "      <td>28614.24791</td>\n",
              "      <td>4</td>\n",
              "      <td>2.47</td>\n",
              "      <td>1.02</td>\n",
              "      <td>89.7</td>\n",
              "      <td>16.24</td>\n",
              "      <td>0.66</td>\n",
              "      <td>3</td>\n",
              "      <td>1</td>\n",
              "      <td>3.0</td>\n",
              "      <td>False</td>\n",
              "      <td>1</td>\n",
              "      <td>2</td>\n",
              "      <td>4</td>\n",
              "    </tr>\n",
              "  </tbody>\n",
              "</table>\n",
              "</div>\n",
              "      <button class=\"colab-df-convert\" onclick=\"convertToInteractive('df-e79d2c1d-9d7f-449c-90bc-01bed3b3972e')\"\n",
              "              title=\"Convert this dataframe to an interactive table.\"\n",
              "              style=\"display:none;\">\n",
              "        \n",
              "  <svg xmlns=\"http://www.w3.org/2000/svg\" height=\"24px\"viewBox=\"0 0 24 24\"\n",
              "       width=\"24px\">\n",
              "    <path d=\"M0 0h24v24H0V0z\" fill=\"none\"/>\n",
              "    <path d=\"M18.56 5.44l.94 2.06.94-2.06 2.06-.94-2.06-.94-.94-2.06-.94 2.06-2.06.94zm-11 1L8.5 8.5l.94-2.06 2.06-.94-2.06-.94L8.5 2.5l-.94 2.06-2.06.94zm10 10l.94 2.06.94-2.06 2.06-.94-2.06-.94-.94-2.06-.94 2.06-2.06.94z\"/><path d=\"M17.41 7.96l-1.37-1.37c-.4-.4-.92-.59-1.43-.59-.52 0-1.04.2-1.43.59L10.3 9.45l-7.72 7.72c-.78.78-.78 2.05 0 2.83L4 21.41c.39.39.9.59 1.41.59.51 0 1.02-.2 1.41-.59l7.78-7.78 2.81-2.81c.8-.78.8-2.07 0-2.86zM5.41 20L4 18.59l7.72-7.72 1.47 1.35L5.41 20z\"/>\n",
              "  </svg>\n",
              "      </button>\n",
              "      \n",
              "  <style>\n",
              "    .colab-df-container {\n",
              "      display:flex;\n",
              "      flex-wrap:wrap;\n",
              "      gap: 12px;\n",
              "    }\n",
              "\n",
              "    .colab-df-convert {\n",
              "      background-color: #E8F0FE;\n",
              "      border: none;\n",
              "      border-radius: 50%;\n",
              "      cursor: pointer;\n",
              "      display: none;\n",
              "      fill: #1967D2;\n",
              "      height: 32px;\n",
              "      padding: 0 0 0 0;\n",
              "      width: 32px;\n",
              "    }\n",
              "\n",
              "    .colab-df-convert:hover {\n",
              "      background-color: #E2EBFA;\n",
              "      box-shadow: 0px 1px 2px rgba(60, 64, 67, 0.3), 0px 1px 3px 1px rgba(60, 64, 67, 0.15);\n",
              "      fill: #174EA6;\n",
              "    }\n",
              "\n",
              "    [theme=dark] .colab-df-convert {\n",
              "      background-color: #3B4455;\n",
              "      fill: #D2E3FC;\n",
              "    }\n",
              "\n",
              "    [theme=dark] .colab-df-convert:hover {\n",
              "      background-color: #434B5C;\n",
              "      box-shadow: 0px 1px 3px 1px rgba(0, 0, 0, 0.15);\n",
              "      filter: drop-shadow(0px 1px 2px rgba(0, 0, 0, 0.3));\n",
              "      fill: #FFFFFF;\n",
              "    }\n",
              "  </style>\n",
              "\n",
              "      <script>\n",
              "        const buttonEl =\n",
              "          document.querySelector('#df-e79d2c1d-9d7f-449c-90bc-01bed3b3972e button.colab-df-convert');\n",
              "        buttonEl.style.display =\n",
              "          google.colab.kernel.accessAllowed ? 'block' : 'none';\n",
              "\n",
              "        async function convertToInteractive(key) {\n",
              "          const element = document.querySelector('#df-e79d2c1d-9d7f-449c-90bc-01bed3b3972e');\n",
              "          const dataTable =\n",
              "            await google.colab.kernel.invokeFunction('convertToInteractive',\n",
              "                                                     [key], {});\n",
              "          if (!dataTable) return;\n",
              "\n",
              "          const docLinkHtml = 'Like what you see? Visit the ' +\n",
              "            '<a target=\"_blank\" href=https://colab.research.google.com/notebooks/data_table.ipynb>data table notebook</a>'\n",
              "            + ' to learn more about interactive tables.';\n",
              "          element.innerHTML = '';\n",
              "          dataTable['output_type'] = 'display_data';\n",
              "          await google.colab.output.renderOutput(dataTable, element);\n",
              "          const docLink = document.createElement('div');\n",
              "          docLink.innerHTML = docLinkHtml;\n",
              "          element.appendChild(docLink);\n",
              "        }\n",
              "      </script>\n",
              "    </div>\n",
              "  </div>\n",
              "  "
            ],
            "text/plain": [
              "                                       Name  ...  Ratings_reset\n",
              "SecId                                        ...               \n",
              "F00001071Q  BIEF Emerging Markets A GBP Acc  ...              4\n",
              "\n",
              "[1 rows x 33 columns]"
            ]
          },
          "metadata": {},
          "execution_count": 524
        }
      ]
    },
    {
      "cell_type": "code",
      "metadata": {
        "id": "ck3RLQZNgbwn"
      },
      "source": [
        "asia_df.drop(index='F00001071Q',inplace=True)\n"
      ],
      "execution_count": 525,
      "outputs": []
    },
    {
      "cell_type": "code",
      "metadata": {
        "id": "VS9meOpSgegy"
      },
      "source": [
        "X_asia = asia_df[imp_features]\n",
        "y_asia = asia_df['Ratings_reset']\n",
        "X_asia_scaled = scaler.transform(X_asia)"
      ],
      "execution_count": 526,
      "outputs": []
    },
    {
      "cell_type": "code",
      "metadata": {
        "id": "jV4l1lYmgq59"
      },
      "source": [
        "y_asia_pred = network_loaded.predict(X_asia_scaled)\n",
        "y_asia_pred = np.argmax(y_asia_pred, axis=1)\n",
        "y_asia_pred += 2"
      ],
      "execution_count": 527,
      "outputs": []
    },
    {
      "cell_type": "code",
      "metadata": {
        "id": "JuBFmzuzimHJ",
        "colab": {
          "base_uri": "https://localhost:8080/"
        },
        "outputId": "c25c48ee-199e-4328-cd76-e18bb03629e1"
      },
      "source": [
        "y_asia.shape"
      ],
      "execution_count": 528,
      "outputs": [
        {
          "output_type": "execute_result",
          "data": {
            "text/plain": [
              "(432,)"
            ]
          },
          "metadata": {},
          "execution_count": 528
        }
      ]
    },
    {
      "cell_type": "code",
      "metadata": {
        "id": "LkXSYbWrjJKT",
        "colab": {
          "base_uri": "https://localhost:8080/"
        },
        "outputId": "016acb6c-d34c-4f3b-f9f0-f04e81700f69"
      },
      "source": [
        "y_asia_pred.shape"
      ],
      "execution_count": 529,
      "outputs": [
        {
          "output_type": "execute_result",
          "data": {
            "text/plain": [
              "(432,)"
            ]
          },
          "metadata": {},
          "execution_count": 529
        }
      ]
    },
    {
      "cell_type": "code",
      "metadata": {
        "id": "vwHEPAwsh_5Y",
        "colab": {
          "base_uri": "https://localhost:8080/"
        },
        "outputId": "4ffcfb5f-f183-4ad8-fd18-1a78f405c024"
      },
      "source": [
        "print(\"Accuracy Score for \" +  model.__class__.__name__ + \"  \" \n",
        "        + str(accuracy_score(y_asia.values,y_asia_pred)) )\n",
        "print(\"F1 Score for \" + model.__class__.__name__ + \"  \" + \n",
        "        str(f1_score(y_asia.values, y_asia_pred, average='weighted')))"
      ],
      "execution_count": 530,
      "outputs": [
        {
          "output_type": "stream",
          "name": "stdout",
          "text": [
            "Accuracy Score for Sequential  0.5416666666666666\n",
            "F1 Score for Sequential  0.4859170192320316\n"
          ]
        }
      ]
    },
    {
      "cell_type": "code",
      "metadata": {
        "id": "RzJhuUlRg5H7",
        "colab": {
          "base_uri": "https://localhost:8080/",
          "height": 281
        },
        "outputId": "4ad12b6b-5f31-4e33-9501-baff36f0706e"
      },
      "source": [
        "plot_conf_matrix(y_asia.values,y_asia_pred,unique_class_label, title=\"Confusion Matrix for Neural Network\" )"
      ],
      "execution_count": 531,
      "outputs": [
        {
          "output_type": "display_data",
          "data": {
            "image/png": "[encoded data removed]",
            "text/plain": [
              "<Figure size 360x288 with 2 Axes>"
            ]
          },
          "metadata": {
            "needs_background": "light"
          }
        }
      ]
    }
  ]
}