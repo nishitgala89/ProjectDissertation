{
  "nbformat": 4,
  "nbformat_minor": 0,
  "metadata": {
    "colab": {
      "name": "MorningStar_RemovedDuplicates_ModellingUsingNeuralNetworks.ipynb",
      "provenance": [],
      "collapsed_sections": []
    },
    "kernelspec": {
      "name": "python3",
      "display_name": "Python 3"
    },
    "language_info": {
      "name": "python"
    }
  },
  "cells": [
    {
      "cell_type": "markdown",
      "metadata": {
        "id": "eeazHRS71neh"
      },
      "source": [
        "###**Mounting Google Drive**"
      ]
    },
    {
      "cell_type": "code",
      "metadata": {
        "colab": {
          "base_uri": "https://localhost:8080/"
        },
        "id": "g6DZ90-rEagh",
        "outputId": "4ccd9ec9-8a12-4f59-b162-5394600a7f17"
      },
      "source": [
        "from google.colab import drive\n",
        "drive.mount('/content/drive')"
      ],
      "execution_count": 1525,
      "outputs": [
        {
          "output_type": "stream",
          "name": "stdout",
          "text": [
            "Drive already mounted at /content/drive; to attempt to forcibly remount, call drive.mount(\"/content/drive\", force_remount=True).\n"
          ]
        }
      ]
    },
    {
      "cell_type": "markdown",
      "metadata": {
        "id": "is2MxjpD5mog"
      },
      "source": [
        "###**Import Libraries**"
      ]
    },
    {
      "cell_type": "code",
      "metadata": {
        "id": "5PGgVZfRChJL"
      },
      "source": [
        "from google.colab import files\n",
        "import pandas as pd\n",
        "import numpy as np\n",
        "import matplotlib.pyplot as plt\n",
        "import seaborn as sns\n",
        "from sklearn.model_selection import train_test_split\n",
        "from sklearn.model_selection import StratifiedKFold,cross_val_score,KFold,StratifiedKFold\n",
        "from sklearn.metrics import accuracy_score,f1_score\n",
        "from sklearn.preprocessing import StandardScaler,MinMaxScaler\n",
        "import tensorflow as tf\n",
        "from tensorflow.keras.layers import Dense, Dropout, Input\n",
        "from tensorflow.keras.models import Sequential\n",
        "from tensorflow.keras.optimizers import Adam"
      ],
      "execution_count": 1526,
      "outputs": []
    },
    {
      "cell_type": "code",
      "metadata": {
        "id": "kNHbvZENuvfl"
      },
      "source": [
        "from numpy.random import seed\n",
        "seed(42)\n",
        "tf.random.set_seed(42)"
      ],
      "execution_count": 1527,
      "outputs": []
    },
    {
      "cell_type": "code",
      "metadata": {
        "id": "AXxoO94N5TTS"
      },
      "source": [
        "from sklearn.metrics import confusion_matrix\n",
        "def plot_conf_matrix(y_test,y_pred,uniqueclassLabel, title=\"CMatrix\"):\n",
        "  cm = confusion_matrix(y_true=y_test,y_pred=y_pred,labels=uniqueclassLabel)\n",
        "  plt.figure(figsize=(5,4))\n",
        "  plt.title(title)\n",
        "  #ax = plt.subplot()\n",
        "  sns.heatmap(cm, annot=True,cmap='Blues',\n",
        "              yticklabels=uniqueclassLabel,xticklabels=uniqueclassLabel,fmt='3g')"
      ],
      "execution_count": 1528,
      "outputs": []
    },
    {
      "cell_type": "markdown",
      "metadata": {
        "id": "6nv-BCDw7Roe"
      },
      "source": [
        "###**Import Utility File**"
      ]
    },
    {
      "cell_type": "code",
      "metadata": {
        "id": "eTu1q8Gh6ckf"
      },
      "source": [
        "import sys\n",
        "path = \"/content/drive/MyDrive/Colab Notebooks/Project_Dissertation\"\n",
        "sys.path.insert(0,path + \"/Code\")\n",
        "import morningStarUtilities"
      ],
      "execution_count": 1529,
      "outputs": []
    },
    {
      "cell_type": "markdown",
      "metadata": {
        "id": "F-wcjDaJ8t7Z"
      },
      "source": [
        "### **Import Training Data**"
      ]
    },
    {
      "cell_type": "code",
      "metadata": {
        "id": "LpS5-NC88vzy"
      },
      "source": [
        "# uploaded = files.upload()\n",
        "# train_df = pd.read_csv(io.BytesIO(uploaded['morningstar_removedDuplicates_train_withoutM60.csv']))"
      ],
      "execution_count": 1530,
      "outputs": []
    },
    {
      "cell_type": "code",
      "metadata": {
        "id": "wp1s0SmlEhqw"
      },
      "source": [
        "train_df = pd.read_csv(path + \"/Data/Final_without_missing_values/morningstar_removedDuplicates_train_withoutLogTransform_withoutM60.csv\").set_index(\"SecId\")"
      ],
      "execution_count": 1531,
      "outputs": []
    },
    {
      "cell_type": "markdown",
      "metadata": {
        "id": "RgBksjh6_QMt"
      },
      "source": [
        "### **Import Testing Data**"
      ]
    },
    {
      "cell_type": "code",
      "metadata": {
        "id": "OKzcGENX_TNv"
      },
      "source": [
        "# uploaded = files.upload()\n",
        "# test_df = pd.read_csv(io.BytesIO(uploaded['morningstar_removedDuplicates_test_withoutM60.csv']))"
      ],
      "execution_count": 1532,
      "outputs": []
    },
    {
      "cell_type": "code",
      "metadata": {
        "id": "1QC3JQfmGPp1"
      },
      "source": [
        "test_df = pd.read_csv(path + \"/Data/Final_without_missing_values/morningstar_removedDuplicates_test_withoutLogTransform_withoutM60.csv\").set_index(\"SecId\")"
      ],
      "execution_count": 1533,
      "outputs": []
    },
    {
      "cell_type": "code",
      "metadata": {
        "colab": {
          "base_uri": "https://localhost:8080/",
          "height": 1000
        },
        "id": "xVspq5V8MJ31",
        "outputId": "c1f69343-5f1a-49e6-9c18-37f82f6bc935"
      },
      "source": [
        "train_df"
      ],
      "execution_count": 1534,
      "outputs": [
        {
          "output_type": "execute_result",
          "data": {
            "text/html": [
              "<div>\n",
              "<style scoped>\n",
              "    .dataframe tbody tr th:only-of-type {\n",
              "        vertical-align: middle;\n",
              "    }\n",
              "\n",
              "    .dataframe tbody tr th {\n",
              "        vertical-align: top;\n",
              "    }\n",
              "\n",
              "    .dataframe thead th {\n",
              "        text-align: right;\n",
              "    }\n",
              "</style>\n",
              "<table border=\"1\" class=\"dataframe\">\n",
              "  <thead>\n",
              "    <tr style=\"text-align: right;\">\n",
              "      <th></th>\n",
              "      <th>Name</th>\n",
              "      <th>StarRatingM255</th>\n",
              "      <th>SustainabilityRank</th>\n",
              "      <th>Yield_M12</th>\n",
              "      <th>GBRReturnW1</th>\n",
              "      <th>GBRReturnM1</th>\n",
              "      <th>GBRReturnM3</th>\n",
              "      <th>GBRReturnM6</th>\n",
              "      <th>GBRReturnM0</th>\n",
              "      <th>GBRReturnM12</th>\n",
              "      <th>GBRReturnM36</th>\n",
              "      <th>MaxFrontEndLoad</th>\n",
              "      <th>OngoingCostActual</th>\n",
              "      <th>TransactionFeeActual</th>\n",
              "      <th>ManagerTenure</th>\n",
              "      <th>FundTNAV</th>\n",
              "      <th>AverageMarketCapital</th>\n",
              "      <th>MorningstarRiskM255</th>\n",
              "      <th>AlphaM36</th>\n",
              "      <th>BetaM36</th>\n",
              "      <th>R2M36</th>\n",
              "      <th>StandardDeviationM36</th>\n",
              "      <th>SharpeM36</th>\n",
              "      <th>ReturnProfilePreservation</th>\n",
              "      <th>ReturnProfileIncome</th>\n",
              "      <th>ReturnProfileHedging</th>\n",
              "      <th>TrackRecordExtension</th>\n",
              "      <th>Cat_Flex-Cap</th>\n",
              "      <th>Cat_Income</th>\n",
              "      <th>Cat_Large-Cap</th>\n",
              "      <th>Cat_Mid_Small-Cap</th>\n",
              "      <th>Cat_Miscellaneous</th>\n",
              "      <th>Size</th>\n",
              "      <th>Style</th>\n",
              "    </tr>\n",
              "    <tr>\n",
              "      <th>SecId</th>\n",
              "      <th></th>\n",
              "      <th></th>\n",
              "      <th></th>\n",
              "      <th></th>\n",
              "      <th></th>\n",
              "      <th></th>\n",
              "      <th></th>\n",
              "      <th></th>\n",
              "      <th></th>\n",
              "      <th></th>\n",
              "      <th></th>\n",
              "      <th></th>\n",
              "      <th></th>\n",
              "      <th></th>\n",
              "      <th></th>\n",
              "      <th></th>\n",
              "      <th></th>\n",
              "      <th></th>\n",
              "      <th></th>\n",
              "      <th></th>\n",
              "      <th></th>\n",
              "      <th></th>\n",
              "      <th></th>\n",
              "      <th></th>\n",
              "      <th></th>\n",
              "      <th></th>\n",
              "      <th></th>\n",
              "      <th></th>\n",
              "      <th></th>\n",
              "      <th></th>\n",
              "      <th></th>\n",
              "      <th></th>\n",
              "      <th></th>\n",
              "      <th></th>\n",
              "    </tr>\n",
              "  </thead>\n",
              "  <tbody>\n",
              "    <tr>\n",
              "      <th>F000005ETU</th>\n",
              "      <td>Barings Europe Select A EUR Acc</td>\n",
              "      <td>3</td>\n",
              "      <td>4</td>\n",
              "      <td>0.0</td>\n",
              "      <td>0.85</td>\n",
              "      <td>5.10</td>\n",
              "      <td>9.42</td>\n",
              "      <td>21.86</td>\n",
              "      <td>16.19</td>\n",
              "      <td>38.51</td>\n",
              "      <td>9.65</td>\n",
              "      <td>5.00</td>\n",
              "      <td>1.55</td>\n",
              "      <td>0.34</td>\n",
              "      <td>16.67</td>\n",
              "      <td>1.429875e+09</td>\n",
              "      <td>3978.65175</td>\n",
              "      <td>2</td>\n",
              "      <td>0.16</td>\n",
              "      <td>0.88</td>\n",
              "      <td>96.29</td>\n",
              "      <td>17.05</td>\n",
              "      <td>0.57</td>\n",
              "      <td>3</td>\n",
              "      <td>3</td>\n",
              "      <td>3.0</td>\n",
              "      <td>0</td>\n",
              "      <td>0</td>\n",
              "      <td>0</td>\n",
              "      <td>0</td>\n",
              "      <td>1</td>\n",
              "      <td>0</td>\n",
              "      <td>2</td>\n",
              "      <td>3</td>\n",
              "    </tr>\n",
              "    <tr>\n",
              "      <th>F0GBR061MQ</th>\n",
              "      <td>Schroder ISF Sust Swiss Eq C Acc CHF</td>\n",
              "      <td>2</td>\n",
              "      <td>2</td>\n",
              "      <td>0.0</td>\n",
              "      <td>1.93</td>\n",
              "      <td>8.73</td>\n",
              "      <td>10.76</td>\n",
              "      <td>18.20</td>\n",
              "      <td>14.37</td>\n",
              "      <td>27.85</td>\n",
              "      <td>6.80</td>\n",
              "      <td>1.00</td>\n",
              "      <td>1.06</td>\n",
              "      <td>0.08</td>\n",
              "      <td>15.83</td>\n",
              "      <td>3.204443e+07</td>\n",
              "      <td>29776.97728</td>\n",
              "      <td>4</td>\n",
              "      <td>-7.08</td>\n",
              "      <td>1.10</td>\n",
              "      <td>85.04</td>\n",
              "      <td>12.23</td>\n",
              "      <td>0.57</td>\n",
              "      <td>2</td>\n",
              "      <td>3</td>\n",
              "      <td>3.0</td>\n",
              "      <td>0</td>\n",
              "      <td>0</td>\n",
              "      <td>0</td>\n",
              "      <td>0</td>\n",
              "      <td>0</td>\n",
              "      <td>1</td>\n",
              "      <td>1</td>\n",
              "      <td>2</td>\n",
              "    </tr>\n",
              "    <tr>\n",
              "      <th>F00000ZS1K</th>\n",
              "      <td>Berenberg European Small Cap B</td>\n",
              "      <td>5</td>\n",
              "      <td>2</td>\n",
              "      <td>0.0</td>\n",
              "      <td>0.15</td>\n",
              "      <td>2.60</td>\n",
              "      <td>11.32</td>\n",
              "      <td>25.96</td>\n",
              "      <td>17.16</td>\n",
              "      <td>51.01</td>\n",
              "      <td>19.50</td>\n",
              "      <td>0.00</td>\n",
              "      <td>0.24</td>\n",
              "      <td>0.23</td>\n",
              "      <td>3.67</td>\n",
              "      <td>6.737833e+08</td>\n",
              "      <td>1698.74791</td>\n",
              "      <td>3</td>\n",
              "      <td>10.19</td>\n",
              "      <td>0.99</td>\n",
              "      <td>86.05</td>\n",
              "      <td>21.60</td>\n",
              "      <td>0.92</td>\n",
              "      <td>3</td>\n",
              "      <td>3</td>\n",
              "      <td>3.0</td>\n",
              "      <td>0</td>\n",
              "      <td>0</td>\n",
              "      <td>0</td>\n",
              "      <td>0</td>\n",
              "      <td>1</td>\n",
              "      <td>0</td>\n",
              "      <td>3</td>\n",
              "      <td>3</td>\n",
              "    </tr>\n",
              "    <tr>\n",
              "      <th>F000000ITQ</th>\n",
              "      <td>Candriam Eqs L Eurp Optm Qual I EUR Cap</td>\n",
              "      <td>3</td>\n",
              "      <td>4</td>\n",
              "      <td>0.0</td>\n",
              "      <td>0.79</td>\n",
              "      <td>1.74</td>\n",
              "      <td>7.45</td>\n",
              "      <td>11.52</td>\n",
              "      <td>9.99</td>\n",
              "      <td>21.32</td>\n",
              "      <td>7.40</td>\n",
              "      <td>0.00</td>\n",
              "      <td>0.75</td>\n",
              "      <td>0.22</td>\n",
              "      <td>7.17</td>\n",
              "      <td>8.404491e+08</td>\n",
              "      <td>20347.16148</td>\n",
              "      <td>1</td>\n",
              "      <td>-3.22</td>\n",
              "      <td>0.92</td>\n",
              "      <td>93.88</td>\n",
              "      <td>12.45</td>\n",
              "      <td>0.55</td>\n",
              "      <td>2</td>\n",
              "      <td>3</td>\n",
              "      <td>3.0</td>\n",
              "      <td>0</td>\n",
              "      <td>0</td>\n",
              "      <td>0</td>\n",
              "      <td>1</td>\n",
              "      <td>0</td>\n",
              "      <td>0</td>\n",
              "      <td>1</td>\n",
              "      <td>3</td>\n",
              "    </tr>\n",
              "    <tr>\n",
              "      <th>F00000SX9M</th>\n",
              "      <td>Janus Henderson INTECH EurpCor A2 EUR</td>\n",
              "      <td>5</td>\n",
              "      <td>3</td>\n",
              "      <td>0.0</td>\n",
              "      <td>0.66</td>\n",
              "      <td>4.99</td>\n",
              "      <td>9.64</td>\n",
              "      <td>20.98</td>\n",
              "      <td>17.27</td>\n",
              "      <td>37.58</td>\n",
              "      <td>8.79</td>\n",
              "      <td>5.00</td>\n",
              "      <td>1.75</td>\n",
              "      <td>1.05</td>\n",
              "      <td>7.42</td>\n",
              "      <td>1.182744e+08</td>\n",
              "      <td>17329.54942</td>\n",
              "      <td>3</td>\n",
              "      <td>1.56</td>\n",
              "      <td>0.95</td>\n",
              "      <td>92.89</td>\n",
              "      <td>15.08</td>\n",
              "      <td>0.54</td>\n",
              "      <td>3</td>\n",
              "      <td>3</td>\n",
              "      <td>3.0</td>\n",
              "      <td>0</td>\n",
              "      <td>0</td>\n",
              "      <td>0</td>\n",
              "      <td>1</td>\n",
              "      <td>0</td>\n",
              "      <td>0</td>\n",
              "      <td>1</td>\n",
              "      <td>2</td>\n",
              "    </tr>\n",
              "    <tr>\n",
              "      <th>...</th>\n",
              "      <td>...</td>\n",
              "      <td>...</td>\n",
              "      <td>...</td>\n",
              "      <td>...</td>\n",
              "      <td>...</td>\n",
              "      <td>...</td>\n",
              "      <td>...</td>\n",
              "      <td>...</td>\n",
              "      <td>...</td>\n",
              "      <td>...</td>\n",
              "      <td>...</td>\n",
              "      <td>...</td>\n",
              "      <td>...</td>\n",
              "      <td>...</td>\n",
              "      <td>...</td>\n",
              "      <td>...</td>\n",
              "      <td>...</td>\n",
              "      <td>...</td>\n",
              "      <td>...</td>\n",
              "      <td>...</td>\n",
              "      <td>...</td>\n",
              "      <td>...</td>\n",
              "      <td>...</td>\n",
              "      <td>...</td>\n",
              "      <td>...</td>\n",
              "      <td>...</td>\n",
              "      <td>...</td>\n",
              "      <td>...</td>\n",
              "      <td>...</td>\n",
              "      <td>...</td>\n",
              "      <td>...</td>\n",
              "      <td>...</td>\n",
              "      <td>...</td>\n",
              "      <td>...</td>\n",
              "    </tr>\n",
              "    <tr>\n",
              "      <th>F00000XH8D</th>\n",
              "      <td>ASSII-Europ Focus Eq B Acc GBP</td>\n",
              "      <td>3</td>\n",
              "      <td>3</td>\n",
              "      <td>0.0</td>\n",
              "      <td>0.82</td>\n",
              "      <td>3.94</td>\n",
              "      <td>3.87</td>\n",
              "      <td>7.06</td>\n",
              "      <td>5.43</td>\n",
              "      <td>21.80</td>\n",
              "      <td>4.88</td>\n",
              "      <td>5.00</td>\n",
              "      <td>1.03</td>\n",
              "      <td>0.40</td>\n",
              "      <td>1.92</td>\n",
              "      <td>1.041660e+07</td>\n",
              "      <td>34607.87874</td>\n",
              "      <td>3</td>\n",
              "      <td>-1.06</td>\n",
              "      <td>0.99</td>\n",
              "      <td>91.43</td>\n",
              "      <td>16.16</td>\n",
              "      <td>0.36</td>\n",
              "      <td>2</td>\n",
              "      <td>3</td>\n",
              "      <td>3.0</td>\n",
              "      <td>0</td>\n",
              "      <td>0</td>\n",
              "      <td>0</td>\n",
              "      <td>1</td>\n",
              "      <td>0</td>\n",
              "      <td>0</td>\n",
              "      <td>1</td>\n",
              "      <td>3</td>\n",
              "    </tr>\n",
              "    <tr>\n",
              "      <th>F0GBR04BDY</th>\n",
              "      <td>MS INVF European Property A</td>\n",
              "      <td>1</td>\n",
              "      <td>5</td>\n",
              "      <td>0.0</td>\n",
              "      <td>1.71</td>\n",
              "      <td>6.65</td>\n",
              "      <td>15.12</td>\n",
              "      <td>20.83</td>\n",
              "      <td>18.35</td>\n",
              "      <td>29.84</td>\n",
              "      <td>1.29</td>\n",
              "      <td>5.75</td>\n",
              "      <td>1.65</td>\n",
              "      <td>0.26</td>\n",
              "      <td>23.75</td>\n",
              "      <td>3.776127e+07</td>\n",
              "      <td>4036.57364</td>\n",
              "      <td>5</td>\n",
              "      <td>-4.73</td>\n",
              "      <td>1.33</td>\n",
              "      <td>89.06</td>\n",
              "      <td>24.26</td>\n",
              "      <td>0.10</td>\n",
              "      <td>3</td>\n",
              "      <td>1</td>\n",
              "      <td>3.0</td>\n",
              "      <td>0</td>\n",
              "      <td>0</td>\n",
              "      <td>0</td>\n",
              "      <td>0</td>\n",
              "      <td>0</td>\n",
              "      <td>1</td>\n",
              "      <td>2</td>\n",
              "      <td>1</td>\n",
              "    </tr>\n",
              "    <tr>\n",
              "      <th>F0GBR04SFG</th>\n",
              "      <td>MSMM European Small Cap A</td>\n",
              "      <td>2</td>\n",
              "      <td>3</td>\n",
              "      <td>0.0</td>\n",
              "      <td>-0.06</td>\n",
              "      <td>0.54</td>\n",
              "      <td>9.39</td>\n",
              "      <td>24.04</td>\n",
              "      <td>18.01</td>\n",
              "      <td>43.01</td>\n",
              "      <td>5.45</td>\n",
              "      <td>5.00</td>\n",
              "      <td>2.13</td>\n",
              "      <td>0.59</td>\n",
              "      <td>2.25</td>\n",
              "      <td>5.323047e+07</td>\n",
              "      <td>2464.49043</td>\n",
              "      <td>4</td>\n",
              "      <td>-3.74</td>\n",
              "      <td>1.05</td>\n",
              "      <td>98.54</td>\n",
              "      <td>20.81</td>\n",
              "      <td>0.31</td>\n",
              "      <td>2</td>\n",
              "      <td>2</td>\n",
              "      <td>2.0</td>\n",
              "      <td>0</td>\n",
              "      <td>0</td>\n",
              "      <td>0</td>\n",
              "      <td>0</td>\n",
              "      <td>1</td>\n",
              "      <td>0</td>\n",
              "      <td>2</td>\n",
              "      <td>2</td>\n",
              "    </tr>\n",
              "    <tr>\n",
              "      <th>F00000033J</th>\n",
              "      <td>Nordea 1 - Nordic Equity Small Cp BP EUR</td>\n",
              "      <td>3</td>\n",
              "      <td>4</td>\n",
              "      <td>0.0</td>\n",
              "      <td>-0.44</td>\n",
              "      <td>3.03</td>\n",
              "      <td>8.50</td>\n",
              "      <td>20.58</td>\n",
              "      <td>12.96</td>\n",
              "      <td>54.59</td>\n",
              "      <td>19.63</td>\n",
              "      <td>5.00</td>\n",
              "      <td>1.80</td>\n",
              "      <td>0.24</td>\n",
              "      <td>14.42</td>\n",
              "      <td>1.340372e+08</td>\n",
              "      <td>969.39463</td>\n",
              "      <td>2</td>\n",
              "      <td>4.58</td>\n",
              "      <td>0.93</td>\n",
              "      <td>93.14</td>\n",
              "      <td>20.33</td>\n",
              "      <td>0.95</td>\n",
              "      <td>3</td>\n",
              "      <td>3</td>\n",
              "      <td>3.0</td>\n",
              "      <td>0</td>\n",
              "      <td>0</td>\n",
              "      <td>0</td>\n",
              "      <td>0</td>\n",
              "      <td>1</td>\n",
              "      <td>0</td>\n",
              "      <td>3</td>\n",
              "      <td>2</td>\n",
              "    </tr>\n",
              "    <tr>\n",
              "      <th>F00000M89N</th>\n",
              "      <td>Alken Absolute Return Europe K</td>\n",
              "      <td>1</td>\n",
              "      <td>3</td>\n",
              "      <td>0.0</td>\n",
              "      <td>-0.53</td>\n",
              "      <td>0.42</td>\n",
              "      <td>3.94</td>\n",
              "      <td>8.12</td>\n",
              "      <td>7.88</td>\n",
              "      <td>2.41</td>\n",
              "      <td>-3.86</td>\n",
              "      <td>3.00</td>\n",
              "      <td>2.03</td>\n",
              "      <td>0.67</td>\n",
              "      <td>10.42</td>\n",
              "      <td>1.277086e+08</td>\n",
              "      <td>6674.20618</td>\n",
              "      <td>3</td>\n",
              "      <td>-6.21</td>\n",
              "      <td>0.34</td>\n",
              "      <td>38.25</td>\n",
              "      <td>9.00</td>\n",
              "      <td>-0.53</td>\n",
              "      <td>3</td>\n",
              "      <td>3</td>\n",
              "      <td>3.0</td>\n",
              "      <td>0</td>\n",
              "      <td>0</td>\n",
              "      <td>0</td>\n",
              "      <td>0</td>\n",
              "      <td>0</td>\n",
              "      <td>1</td>\n",
              "      <td>2</td>\n",
              "      <td>2</td>\n",
              "    </tr>\n",
              "  </tbody>\n",
              "</table>\n",
              "<p>886 rows × 34 columns</p>\n",
              "</div>"
            ],
            "text/plain": [
              "                                                Name  ...  Style\n",
              "SecId                                                 ...       \n",
              "F000005ETU           Barings Europe Select A EUR Acc  ...      3\n",
              "F0GBR061MQ      Schroder ISF Sust Swiss Eq C Acc CHF  ...      2\n",
              "F00000ZS1K            Berenberg European Small Cap B  ...      3\n",
              "F000000ITQ   Candriam Eqs L Eurp Optm Qual I EUR Cap  ...      3\n",
              "F00000SX9M     Janus Henderson INTECH EurpCor A2 EUR  ...      2\n",
              "...                                              ...  ...    ...\n",
              "F00000XH8D            ASSII-Europ Focus Eq B Acc GBP  ...      3\n",
              "F0GBR04BDY               MS INVF European Property A  ...      1\n",
              "F0GBR04SFG                 MSMM European Small Cap A  ...      2\n",
              "F00000033J  Nordea 1 - Nordic Equity Small Cp BP EUR  ...      2\n",
              "F00000M89N            Alken Absolute Return Europe K  ...      2\n",
              "\n",
              "[886 rows x 34 columns]"
            ]
          },
          "metadata": {},
          "execution_count": 1534
        }
      ]
    },
    {
      "cell_type": "markdown",
      "metadata": {
        "id": "_T4GGYnf6tUB"
      },
      "source": [
        "### **Defining Training, Testing varibales**"
      ]
    },
    {
      "cell_type": "code",
      "metadata": {
        "id": "Gu7xuE_PBS9A"
      },
      "source": [
        "imp_features = ['SustainabilityRank','GBRReturnM1','GBRReturnM3','GBRReturnM0','GBRReturnM36','OngoingCostActual','TransactionFeeActual','FundTNAV',\n",
        "'AverageMarketCapital','MorningstarRiskM255','AlphaM36','BetaM36','StandardDeviationM36','SharpeM36','Size','Style']\n",
        "X_train = train_df[imp_features]\n",
        "y_train = train_df[['StarRatingM255']]\n",
        "\n",
        "X_test = test_df[imp_features]\n",
        "y_test = test_df['StarRatingM255']"
      ],
      "execution_count": 1535,
      "outputs": []
    },
    {
      "cell_type": "code",
      "metadata": {
        "id": "RNc7B6gHYyO_"
      },
      "source": [
        "y_train = y_train.astype('string')"
      ],
      "execution_count": 1536,
      "outputs": []
    },
    {
      "cell_type": "code",
      "metadata": {
        "colab": {
          "base_uri": "https://localhost:8080/"
        },
        "id": "OkdudmSCcdUk",
        "outputId": "783d0514-9630-4a4a-e90b-93d03720a8c5"
      },
      "source": [
        "from sklearn.preprocessing import OneHotEncoder\n",
        "y_train_cat = OneHotEncoder().fit_transform(y_train[[\"StarRatingM255\"]]).toarray()\n",
        "y_train_cat.shape"
      ],
      "execution_count": 1537,
      "outputs": [
        {
          "output_type": "execute_result",
          "data": {
            "text/plain": [
              "(886, 5)"
            ]
          },
          "metadata": {},
          "execution_count": 1537
        }
      ]
    },
    {
      "cell_type": "code",
      "metadata": {
        "colab": {
          "base_uri": "https://localhost:8080/"
        },
        "id": "4XTYcqhHBR9I",
        "outputId": "bff9653f-6af3-4cd6-e8db-5eca84e6edc3"
      },
      "source": [
        "X_train.shape[1], y_train.shape, y_train_cat.shape"
      ],
      "execution_count": 1538,
      "outputs": [
        {
          "output_type": "execute_result",
          "data": {
            "text/plain": [
              "(16, (886, 1), (886, 5))"
            ]
          },
          "metadata": {},
          "execution_count": 1538
        }
      ]
    },
    {
      "cell_type": "code",
      "metadata": {
        "colab": {
          "base_uri": "https://localhost:8080/"
        },
        "id": "UxjbFzBY_gSw",
        "outputId": "653188e8-5a09-486b-8eed-a80359d272da"
      },
      "source": [
        "X_test.shape,y_test.shape"
      ],
      "execution_count": 1539,
      "outputs": [
        {
          "output_type": "execute_result",
          "data": {
            "text/plain": [
              "((296, 16), (296,))"
            ]
          },
          "metadata": {},
          "execution_count": 1539
        }
      ]
    },
    {
      "cell_type": "markdown",
      "metadata": {
        "id": "-7XMS96relKM"
      },
      "source": [
        "### **Scaling the Data**"
      ]
    },
    {
      "cell_type": "code",
      "metadata": {
        "id": "ZPhgNmDZeqBr"
      },
      "source": [
        "scaler = StandardScaler()\n",
        "scaler.fit(X_train)\n",
        "X_train_scaled = scaler.transform(X_train)\n",
        "X_test_scaled = scaler.transform(X_test)"
      ],
      "execution_count": 1540,
      "outputs": []
    },
    {
      "cell_type": "markdown",
      "metadata": {
        "id": "d_xfktBW7XKR"
      },
      "source": [
        "### **Verify the Training and Testing distribution as per Target Variable**"
      ]
    },
    {
      "cell_type": "code",
      "metadata": {
        "colab": {
          "base_uri": "https://localhost:8080/",
          "height": 292
        },
        "id": "YePM9m2wLL4P",
        "outputId": "4871993c-0304-4021-d0c9-47f2b3f4d4f6"
      },
      "source": [
        "morningStarUtilities.displayBarSubPlots([train_df,test_df],[\"Training Distribution\", \"Testing Distribution\"],\n",
        "                   \"StarRatingM255\")"
      ],
      "execution_count": 1541,
      "outputs": [
        {
          "output_type": "display_data",
          "data": {
            "image/png": "[encoded data removed]",
            "text/plain": [
              "<Figure size 1080x288 with 2 Axes>"
            ]
          },
          "metadata": {
            "needs_background": "light"
          }
        }
      ]
    },
    {
      "cell_type": "markdown",
      "metadata": {
        "id": "H7xIH-gH9wwl"
      },
      "source": [
        "### **Creating runtime variables**"
      ]
    },
    {
      "cell_type": "code",
      "metadata": {
        "colab": {
          "base_uri": "https://localhost:8080/"
        },
        "id": "rDe-0LE772d-",
        "outputId": "111c2072-d982-4a87-ab13-af117b72b909"
      },
      "source": [
        "unique_class_label = list(train_df.StarRatingM255.unique())\n",
        "unique_class_label.sort()\n",
        "unique_class_label"
      ],
      "execution_count": 1542,
      "outputs": [
        {
          "output_type": "execute_result",
          "data": {
            "text/plain": [
              "[1, 2, 3, 4, 5]"
            ]
          },
          "metadata": {},
          "execution_count": 1542
        }
      ]
    },
    {
      "cell_type": "markdown",
      "metadata": {
        "id": "qWv0oQrW9jQL"
      },
      "source": [
        "### **Defining Neural Network Model**"
      ]
    },
    {
      "cell_type": "code",
      "metadata": {
        "colab": {
          "base_uri": "https://localhost:8080/"
        },
        "id": "iiMBga5fCAb7",
        "outputId": "4f495f24-1583-438a-9577-c141262bea02"
      },
      "source": [
        "# Number of Hidden Layers\n",
        "round((X_train.shape[1] + len(unique_class_label))/2) + 1"
      ],
      "execution_count": 1543,
      "outputs": [
        {
          "output_type": "execute_result",
          "data": {
            "text/plain": [
              "11"
            ]
          },
          "metadata": {},
          "execution_count": 1543
        }
      ]
    },
    {
      "cell_type": "markdown",
      "metadata": {
        "id": "kPI7GLP5ysDA"
      },
      "source": [
        "### Method 1 - Using Scikit Learn - KerasClassifier\n"
      ]
    },
    {
      "cell_type": "code",
      "metadata": {
        "id": "sAxHLtP1_1KT"
      },
      "source": [
        "# def baseline_model():    \n",
        "#   network = Sequential()\n",
        "#   network.add(tf.keras.layers.Dense(units=11,activation ='relu', input_dim = X_train.shape[1] ))\n",
        "#   network.add(tf.keras.layers.Dropout(0.2))\n",
        "#   network.add(tf.keras.layers.Dense(units=11,activation ='relu'))\n",
        "#   network.add(tf.keras.layers.Dropout(0.2))\n",
        "#   network.add(tf.keras.layers.Dense(units=11,activation ='relu'))\n",
        "#   network.add(tf.keras.layers.Dropout(0.2))\n",
        "#   network.add(tf.keras.layers.Dense(5,activation='softmax'))\n",
        "#   network.compile(optimizer = 'adam', loss = 'categorical_crossentropy', metrics = ['accuracy'])\n",
        "#   return network"
      ],
      "execution_count": 1544,
      "outputs": []
    },
    {
      "cell_type": "code",
      "metadata": {
        "id": "1S2Pyj1CDGnY"
      },
      "source": [
        "# from keras.wrappers.scikit_learn import KerasClassifier\n",
        "# estimator = KerasClassifier(build_fn = baseline_model, epochs = 500, batch_size = 10, verbose = -1)"
      ],
      "execution_count": 1545,
      "outputs": []
    },
    {
      "cell_type": "code",
      "metadata": {
        "id": "k1ixBpWqIZ3x"
      },
      "source": [
        "# skf = StratifiedKFold(n_splits=5, random_state=42, shuffle=True)\n",
        "# results = cross_val_score(estimator, X_train_scaled, y_train, cv = skf)\n",
        "\n",
        "# print(results)\n",
        "# print(\"Result: %.2f%% (%.2f%%)\" % (results.mean()*100, results.std()*100))"
      ],
      "execution_count": 1546,
      "outputs": []
    },
    {
      "cell_type": "code",
      "metadata": {
        "id": "K8uCyB15N2Jp"
      },
      "source": [
        "# y_pred = estimator.predict(X_test_scaled)"
      ],
      "execution_count": 1547,
      "outputs": []
    },
    {
      "cell_type": "code",
      "metadata": {
        "id": "QB3JjnzVNYlq"
      },
      "source": [
        "# plot_conf_matrix(y_test,y_pred,unique_class_label, title=\"Confusion Matrix for \" + clf.__class__.__name__)\n",
        "# print(\"Accuracy Score for \" +  estimator.__class__.__name__ + \"  \" \n",
        "#         + str(accuracy_score(y_test,y_pred)) )\n",
        "# print(\"F1 Score for \" + estimator.__class__.__name__ + \"  \" + \n",
        "#         str(f1_score(y_test, y_pred, average='weighted')))"
      ],
      "execution_count": 1548,
      "outputs": []
    },
    {
      "cell_type": "markdown",
      "metadata": {
        "id": "X_Op8VMpzAOh"
      },
      "source": [
        "### Method 2 - Using Sequential Model"
      ]
    },
    {
      "cell_type": "code",
      "metadata": {
        "id": "6uyKQT5EPXs6"
      },
      "source": [
        "model = Sequential()\n",
        "model.add(tf.keras.layers.Dense(units=11,activation ='relu', input_shape = (16,) ))\n",
        "#model.add(tf.keras.layers.Dropout(0.2))\n",
        "model.add(tf.keras.layers.Dense(units=11,activation ='relu'))\n",
        "model.add(tf.keras.layers.Dropout(0.2))\n",
        "model.add(tf.keras.layers.Dense(units=6,activation ='relu'))\n",
        "model.add(tf.keras.layers.Dropout(0.2))\n",
        "model.add(tf.keras.layers.Dense(units=5,activation='softmax'))\n",
        "model.compile(optimizer = Adam(), loss = 'categorical_crossentropy', \n",
        "              metrics = ['accuracy'])"
      ],
      "execution_count": 1549,
      "outputs": []
    },
    {
      "cell_type": "code",
      "metadata": {
        "colab": {
          "base_uri": "https://localhost:8080/"
        },
        "id": "yHCvlpx8PlWC",
        "outputId": "8ab32b4d-9191-4da5-d609-573e60a166c5"
      },
      "source": [
        "model.summary()"
      ],
      "execution_count": 1550,
      "outputs": [
        {
          "output_type": "stream",
          "name": "stdout",
          "text": [
            "Model: \"sequential_33\"\n",
            "_________________________________________________________________\n",
            "Layer (type)                 Output Shape              Param #   \n",
            "=================================================================\n",
            "dense_132 (Dense)            (None, 11)                187       \n",
            "_________________________________________________________________\n",
            "dense_133 (Dense)            (None, 11)                132       \n",
            "_________________________________________________________________\n",
            "dropout_66 (Dropout)         (None, 11)                0         \n",
            "_________________________________________________________________\n",
            "dense_134 (Dense)            (None, 6)                 72        \n",
            "_________________________________________________________________\n",
            "dropout_67 (Dropout)         (None, 6)                 0         \n",
            "_________________________________________________________________\n",
            "dense_135 (Dense)            (None, 5)                 35        \n",
            "=================================================================\n",
            "Total params: 426\n",
            "Trainable params: 426\n",
            "Non-trainable params: 0\n",
            "_________________________________________________________________\n"
          ]
        }
      ]
    },
    {
      "cell_type": "code",
      "metadata": {
        "id": "peasDV7FMcxB"
      },
      "source": [
        "# Handling Imbalanced Classes using class_weight\n",
        "\n",
        "class_wt = {0: 2.05,\n",
        "                1: 1.25,\n",
        "                2: 1.1,\n",
        "                3: 1.2,\n",
        "                4: 1.75}"
      ],
      "execution_count": 1551,
      "outputs": []
    },
    {
      "cell_type": "code",
      "metadata": {
        "colab": {
          "base_uri": "https://localhost:8080/"
        },
        "id": "3IJkFo6dQEmo",
        "outputId": "f877e863-f1e0-45d8-ae8f-f6af74ddc2bb"
      },
      "source": [
        "history = model.fit(X_train_scaled,y_train_cat,validation_split=0.2,\n",
        "                    epochs=225, verbose=1,batch_size=20,class_weight=class_wt)"
      ],
      "execution_count": 1552,
      "outputs": [
        {
          "output_type": "stream",
          "name": "stdout",
          "text": [
            "Epoch 1/225\n",
            "36/36 [==============================] - 1s 8ms/step - loss: 2.1480 - accuracy: 0.2260 - val_loss: 1.6125 - val_accuracy: 0.3202\n",
            "Epoch 2/225\n",
            "36/36 [==============================] - 0s 3ms/step - loss: 2.0686 - accuracy: 0.2924 - val_loss: 1.5888 - val_accuracy: 0.3034\n",
            "Epoch 3/225\n",
            "36/36 [==============================] - 0s 4ms/step - loss: 2.0387 - accuracy: 0.3305 - val_loss: 1.5733 - val_accuracy: 0.3427\n",
            "Epoch 4/225\n",
            "36/36 [==============================] - 0s 3ms/step - loss: 2.0276 - accuracy: 0.3418 - val_loss: 1.5622 - val_accuracy: 0.3652\n",
            "Epoch 5/225\n",
            "36/36 [==============================] - 0s 3ms/step - loss: 2.0082 - accuracy: 0.3531 - val_loss: 1.5514 - val_accuracy: 0.3483\n",
            "Epoch 6/225\n",
            "36/36 [==============================] - 0s 3ms/step - loss: 2.0031 - accuracy: 0.3517 - val_loss: 1.5412 - val_accuracy: 0.3820\n",
            "Epoch 7/225\n",
            "36/36 [==============================] - 0s 3ms/step - loss: 1.9920 - accuracy: 0.3658 - val_loss: 1.5331 - val_accuracy: 0.3708\n",
            "Epoch 8/225\n",
            "36/36 [==============================] - 0s 3ms/step - loss: 1.9702 - accuracy: 0.3701 - val_loss: 1.5216 - val_accuracy: 0.3708\n",
            "Epoch 9/225\n",
            "36/36 [==============================] - 0s 2ms/step - loss: 1.9659 - accuracy: 0.3630 - val_loss: 1.5098 - val_accuracy: 0.3820\n",
            "Epoch 10/225\n",
            "36/36 [==============================] - 0s 3ms/step - loss: 1.9405 - accuracy: 0.3686 - val_loss: 1.4933 - val_accuracy: 0.3708\n",
            "Epoch 11/225\n",
            "36/36 [==============================] - 0s 3ms/step - loss: 1.9161 - accuracy: 0.3856 - val_loss: 1.4782 - val_accuracy: 0.3708\n",
            "Epoch 12/225\n",
            "36/36 [==============================] - 0s 2ms/step - loss: 1.9069 - accuracy: 0.3672 - val_loss: 1.4607 - val_accuracy: 0.3764\n",
            "Epoch 13/225\n",
            "36/36 [==============================] - 0s 3ms/step - loss: 1.8701 - accuracy: 0.3757 - val_loss: 1.4434 - val_accuracy: 0.3708\n",
            "Epoch 14/225\n",
            "36/36 [==============================] - 0s 3ms/step - loss: 1.8800 - accuracy: 0.3757 - val_loss: 1.4248 - val_accuracy: 0.3652\n",
            "Epoch 15/225\n",
            "36/36 [==============================] - 0s 3ms/step - loss: 1.8397 - accuracy: 0.3884 - val_loss: 1.4018 - val_accuracy: 0.3820\n",
            "Epoch 16/225\n",
            "36/36 [==============================] - 0s 3ms/step - loss: 1.8216 - accuracy: 0.4040 - val_loss: 1.3826 - val_accuracy: 0.4045\n",
            "Epoch 17/225\n",
            "36/36 [==============================] - 0s 4ms/step - loss: 1.7882 - accuracy: 0.4011 - val_loss: 1.3574 - val_accuracy: 0.3933\n",
            "Epoch 18/225\n",
            "36/36 [==============================] - 0s 3ms/step - loss: 1.7482 - accuracy: 0.3955 - val_loss: 1.3348 - val_accuracy: 0.3989\n",
            "Epoch 19/225\n",
            "36/36 [==============================] - 0s 3ms/step - loss: 1.7547 - accuracy: 0.3898 - val_loss: 1.3131 - val_accuracy: 0.4101\n",
            "Epoch 20/225\n",
            "36/36 [==============================] - 0s 3ms/step - loss: 1.7031 - accuracy: 0.3672 - val_loss: 1.2908 - val_accuracy: 0.4101\n",
            "Epoch 21/225\n",
            "36/36 [==============================] - 0s 3ms/step - loss: 1.6968 - accuracy: 0.3884 - val_loss: 1.2694 - val_accuracy: 0.4157\n",
            "Epoch 22/225\n",
            "36/36 [==============================] - 0s 3ms/step - loss: 1.6390 - accuracy: 0.4011 - val_loss: 1.2491 - val_accuracy: 0.4663\n",
            "Epoch 23/225\n",
            "36/36 [==============================] - 0s 3ms/step - loss: 1.6466 - accuracy: 0.4082 - val_loss: 1.2279 - val_accuracy: 0.4944\n",
            "Epoch 24/225\n",
            "36/36 [==============================] - 0s 3ms/step - loss: 1.5966 - accuracy: 0.4209 - val_loss: 1.2106 - val_accuracy: 0.4944\n",
            "Epoch 25/225\n",
            "36/36 [==============================] - 0s 2ms/step - loss: 1.6028 - accuracy: 0.4379 - val_loss: 1.1891 - val_accuracy: 0.5000\n",
            "Epoch 26/225\n",
            "36/36 [==============================] - 0s 3ms/step - loss: 1.5846 - accuracy: 0.4379 - val_loss: 1.1828 - val_accuracy: 0.5169\n",
            "Epoch 27/225\n",
            "36/36 [==============================] - 0s 3ms/step - loss: 1.5430 - accuracy: 0.4280 - val_loss: 1.1718 - val_accuracy: 0.5000\n",
            "Epoch 28/225\n",
            "36/36 [==============================] - 0s 3ms/step - loss: 1.5178 - accuracy: 0.4435 - val_loss: 1.1621 - val_accuracy: 0.5169\n",
            "Epoch 29/225\n",
            "36/36 [==============================] - 0s 4ms/step - loss: 1.5139 - accuracy: 0.4647 - val_loss: 1.1527 - val_accuracy: 0.5393\n",
            "Epoch 30/225\n",
            "36/36 [==============================] - 0s 4ms/step - loss: 1.4871 - accuracy: 0.4887 - val_loss: 1.1422 - val_accuracy: 0.5393\n",
            "Epoch 31/225\n",
            "36/36 [==============================] - 0s 3ms/step - loss: 1.4768 - accuracy: 0.4901 - val_loss: 1.1414 - val_accuracy: 0.5449\n",
            "Epoch 32/225\n",
            "36/36 [==============================] - 0s 3ms/step - loss: 1.4862 - accuracy: 0.4435 - val_loss: 1.1297 - val_accuracy: 0.5281\n",
            "Epoch 33/225\n",
            "36/36 [==============================] - 0s 3ms/step - loss: 1.4883 - accuracy: 0.5014 - val_loss: 1.1262 - val_accuracy: 0.5449\n",
            "Epoch 34/225\n",
            "36/36 [==============================] - 0s 3ms/step - loss: 1.4893 - accuracy: 0.4944 - val_loss: 1.1172 - val_accuracy: 0.5393\n",
            "Epoch 35/225\n",
            "36/36 [==============================] - 0s 3ms/step - loss: 1.4758 - accuracy: 0.4958 - val_loss: 1.1162 - val_accuracy: 0.5618\n",
            "Epoch 36/225\n",
            "36/36 [==============================] - 0s 3ms/step - loss: 1.4642 - accuracy: 0.5014 - val_loss: 1.1166 - val_accuracy: 0.5393\n",
            "Epoch 37/225\n",
            "36/36 [==============================] - 0s 3ms/step - loss: 1.4243 - accuracy: 0.5537 - val_loss: 1.1054 - val_accuracy: 0.5674\n",
            "Epoch 38/225\n",
            "36/36 [==============================] - 0s 3ms/step - loss: 1.4615 - accuracy: 0.5042 - val_loss: 1.1046 - val_accuracy: 0.5562\n",
            "Epoch 39/225\n",
            "36/36 [==============================] - 0s 3ms/step - loss: 1.4116 - accuracy: 0.5198 - val_loss: 1.0943 - val_accuracy: 0.5674\n",
            "Epoch 40/225\n",
            "36/36 [==============================] - 0s 4ms/step - loss: 1.4212 - accuracy: 0.4915 - val_loss: 1.0888 - val_accuracy: 0.5618\n",
            "Epoch 41/225\n",
            "36/36 [==============================] - 0s 4ms/step - loss: 1.4337 - accuracy: 0.5141 - val_loss: 1.0863 - val_accuracy: 0.5506\n",
            "Epoch 42/225\n",
            "36/36 [==============================] - 0s 3ms/step - loss: 1.4291 - accuracy: 0.5198 - val_loss: 1.0764 - val_accuracy: 0.5562\n",
            "Epoch 43/225\n",
            "36/36 [==============================] - 0s 3ms/step - loss: 1.4088 - accuracy: 0.5424 - val_loss: 1.0767 - val_accuracy: 0.5506\n",
            "Epoch 44/225\n",
            "36/36 [==============================] - 0s 3ms/step - loss: 1.3803 - accuracy: 0.5438 - val_loss: 1.0710 - val_accuracy: 0.5506\n",
            "Epoch 45/225\n",
            "36/36 [==============================] - 0s 3ms/step - loss: 1.4164 - accuracy: 0.5141 - val_loss: 1.0676 - val_accuracy: 0.5449\n",
            "Epoch 46/225\n",
            "36/36 [==============================] - 0s 3ms/step - loss: 1.4006 - accuracy: 0.5438 - val_loss: 1.0702 - val_accuracy: 0.5562\n",
            "Epoch 47/225\n",
            "36/36 [==============================] - 0s 3ms/step - loss: 1.3808 - accuracy: 0.5353 - val_loss: 1.0699 - val_accuracy: 0.5393\n",
            "Epoch 48/225\n",
            "36/36 [==============================] - 0s 3ms/step - loss: 1.4389 - accuracy: 0.5071 - val_loss: 1.0683 - val_accuracy: 0.5449\n",
            "Epoch 49/225\n",
            "36/36 [==============================] - 0s 3ms/step - loss: 1.4028 - accuracy: 0.5169 - val_loss: 1.0690 - val_accuracy: 0.5393\n",
            "Epoch 50/225\n",
            "36/36 [==============================] - 0s 3ms/step - loss: 1.4130 - accuracy: 0.5254 - val_loss: 1.0680 - val_accuracy: 0.5449\n",
            "Epoch 51/225\n",
            "36/36 [==============================] - 0s 3ms/step - loss: 1.3761 - accuracy: 0.5268 - val_loss: 1.0625 - val_accuracy: 0.5337\n",
            "Epoch 52/225\n",
            "36/36 [==============================] - 0s 3ms/step - loss: 1.3890 - accuracy: 0.5184 - val_loss: 1.0764 - val_accuracy: 0.5337\n",
            "Epoch 53/225\n",
            "36/36 [==============================] - 0s 3ms/step - loss: 1.3850 - accuracy: 0.5452 - val_loss: 1.0678 - val_accuracy: 0.5449\n",
            "Epoch 54/225\n",
            "36/36 [==============================] - 0s 3ms/step - loss: 1.3797 - accuracy: 0.5268 - val_loss: 1.0604 - val_accuracy: 0.5618\n",
            "Epoch 55/225\n",
            "36/36 [==============================] - 0s 3ms/step - loss: 1.3944 - accuracy: 0.5311 - val_loss: 1.0673 - val_accuracy: 0.5337\n",
            "Epoch 56/225\n",
            "36/36 [==============================] - 0s 3ms/step - loss: 1.4013 - accuracy: 0.5141 - val_loss: 1.0626 - val_accuracy: 0.5506\n",
            "Epoch 57/225\n",
            "36/36 [==============================] - 0s 3ms/step - loss: 1.3838 - accuracy: 0.5240 - val_loss: 1.0621 - val_accuracy: 0.5562\n",
            "Epoch 58/225\n",
            "36/36 [==============================] - 0s 3ms/step - loss: 1.4056 - accuracy: 0.5226 - val_loss: 1.0598 - val_accuracy: 0.5393\n",
            "Epoch 59/225\n",
            "36/36 [==============================] - 0s 3ms/step - loss: 1.3775 - accuracy: 0.5339 - val_loss: 1.0573 - val_accuracy: 0.5562\n",
            "Epoch 60/225\n",
            "36/36 [==============================] - 0s 3ms/step - loss: 1.3747 - accuracy: 0.5169 - val_loss: 1.0605 - val_accuracy: 0.5506\n",
            "Epoch 61/225\n",
            "36/36 [==============================] - 0s 3ms/step - loss: 1.3528 - accuracy: 0.5367 - val_loss: 1.0605 - val_accuracy: 0.5506\n",
            "Epoch 62/225\n",
            "36/36 [==============================] - 0s 3ms/step - loss: 1.3331 - accuracy: 0.5438 - val_loss: 1.0575 - val_accuracy: 0.5506\n",
            "Epoch 63/225\n",
            "36/36 [==============================] - 0s 4ms/step - loss: 1.3612 - accuracy: 0.5452 - val_loss: 1.0557 - val_accuracy: 0.5562\n",
            "Epoch 64/225\n",
            "36/36 [==============================] - 0s 3ms/step - loss: 1.3555 - accuracy: 0.5367 - val_loss: 1.0452 - val_accuracy: 0.5618\n",
            "Epoch 65/225\n",
            "36/36 [==============================] - 0s 3ms/step - loss: 1.3609 - accuracy: 0.5268 - val_loss: 1.0457 - val_accuracy: 0.5562\n",
            "Epoch 66/225\n",
            "36/36 [==============================] - 0s 4ms/step - loss: 1.3368 - accuracy: 0.5410 - val_loss: 1.0495 - val_accuracy: 0.5618\n",
            "Epoch 67/225\n",
            "36/36 [==============================] - 0s 3ms/step - loss: 1.3265 - accuracy: 0.5367 - val_loss: 1.0436 - val_accuracy: 0.5506\n",
            "Epoch 68/225\n",
            "36/36 [==============================] - 0s 3ms/step - loss: 1.3549 - accuracy: 0.5339 - val_loss: 1.0410 - val_accuracy: 0.5562\n",
            "Epoch 69/225\n",
            "36/36 [==============================] - 0s 3ms/step - loss: 1.3400 - accuracy: 0.5452 - val_loss: 1.0407 - val_accuracy: 0.5674\n",
            "Epoch 70/225\n",
            "36/36 [==============================] - 0s 3ms/step - loss: 1.4018 - accuracy: 0.5325 - val_loss: 1.0398 - val_accuracy: 0.5506\n",
            "Epoch 71/225\n",
            "36/36 [==============================] - 0s 3ms/step - loss: 1.3248 - accuracy: 0.5551 - val_loss: 1.0414 - val_accuracy: 0.5674\n",
            "Epoch 72/225\n",
            "36/36 [==============================] - 0s 3ms/step - loss: 1.3524 - accuracy: 0.5099 - val_loss: 1.0388 - val_accuracy: 0.5674\n",
            "Epoch 73/225\n",
            "36/36 [==============================] - 0s 3ms/step - loss: 1.3302 - accuracy: 0.5424 - val_loss: 1.0407 - val_accuracy: 0.5562\n",
            "Epoch 74/225\n",
            "36/36 [==============================] - 0s 3ms/step - loss: 1.3580 - accuracy: 0.5226 - val_loss: 1.0335 - val_accuracy: 0.5618\n",
            "Epoch 75/225\n",
            "36/36 [==============================] - 0s 3ms/step - loss: 1.3162 - accuracy: 0.5607 - val_loss: 1.0449 - val_accuracy: 0.5337\n",
            "Epoch 76/225\n",
            "36/36 [==============================] - 0s 3ms/step - loss: 1.3689 - accuracy: 0.5311 - val_loss: 1.0424 - val_accuracy: 0.5449\n",
            "Epoch 77/225\n",
            "36/36 [==============================] - 0s 3ms/step - loss: 1.3028 - accuracy: 0.5452 - val_loss: 1.0398 - val_accuracy: 0.5449\n",
            "Epoch 78/225\n",
            "36/36 [==============================] - 0s 3ms/step - loss: 1.3064 - accuracy: 0.5607 - val_loss: 1.0415 - val_accuracy: 0.5618\n",
            "Epoch 79/225\n",
            "36/36 [==============================] - 0s 4ms/step - loss: 1.3088 - accuracy: 0.5410 - val_loss: 1.0354 - val_accuracy: 0.5618\n",
            "Epoch 80/225\n",
            "36/36 [==============================] - 0s 3ms/step - loss: 1.3330 - accuracy: 0.5664 - val_loss: 1.0390 - val_accuracy: 0.5618\n",
            "Epoch 81/225\n",
            "36/36 [==============================] - 0s 3ms/step - loss: 1.3167 - accuracy: 0.5438 - val_loss: 1.0343 - val_accuracy: 0.5674\n",
            "Epoch 82/225\n",
            "36/36 [==============================] - 0s 3ms/step - loss: 1.3290 - accuracy: 0.5579 - val_loss: 1.0344 - val_accuracy: 0.5730\n",
            "Epoch 83/225\n",
            "36/36 [==============================] - 0s 3ms/step - loss: 1.2877 - accuracy: 0.5636 - val_loss: 1.0425 - val_accuracy: 0.5674\n",
            "Epoch 84/225\n",
            "36/36 [==============================] - 0s 3ms/step - loss: 1.3156 - accuracy: 0.5381 - val_loss: 1.0371 - val_accuracy: 0.5787\n",
            "Epoch 85/225\n",
            "36/36 [==============================] - 0s 3ms/step - loss: 1.2920 - accuracy: 0.5494 - val_loss: 1.0372 - val_accuracy: 0.5730\n",
            "Epoch 86/225\n",
            "36/36 [==============================] - 0s 3ms/step - loss: 1.3284 - accuracy: 0.5268 - val_loss: 1.0406 - val_accuracy: 0.5674\n",
            "Epoch 87/225\n",
            "36/36 [==============================] - 0s 3ms/step - loss: 1.2984 - accuracy: 0.5438 - val_loss: 1.0453 - val_accuracy: 0.5506\n",
            "Epoch 88/225\n",
            "36/36 [==============================] - 0s 3ms/step - loss: 1.3073 - accuracy: 0.5339 - val_loss: 1.0411 - val_accuracy: 0.5562\n",
            "Epoch 89/225\n",
            "36/36 [==============================] - 0s 3ms/step - loss: 1.3096 - accuracy: 0.5523 - val_loss: 1.0386 - val_accuracy: 0.5562\n",
            "Epoch 90/225\n",
            "36/36 [==============================] - 0s 3ms/step - loss: 1.3043 - accuracy: 0.5508 - val_loss: 1.0375 - val_accuracy: 0.5618\n",
            "Epoch 91/225\n",
            "36/36 [==============================] - 0s 3ms/step - loss: 1.2960 - accuracy: 0.5579 - val_loss: 1.0426 - val_accuracy: 0.5562\n",
            "Epoch 92/225\n",
            "36/36 [==============================] - 0s 4ms/step - loss: 1.3368 - accuracy: 0.5353 - val_loss: 1.0415 - val_accuracy: 0.5674\n",
            "Epoch 93/225\n",
            "36/36 [==============================] - 0s 3ms/step - loss: 1.2894 - accuracy: 0.5381 - val_loss: 1.0361 - val_accuracy: 0.5674\n",
            "Epoch 94/225\n",
            "36/36 [==============================] - 0s 3ms/step - loss: 1.2504 - accuracy: 0.5975 - val_loss: 1.0332 - val_accuracy: 0.5562\n",
            "Epoch 95/225\n",
            "36/36 [==============================] - 0s 3ms/step - loss: 1.3277 - accuracy: 0.5438 - val_loss: 1.0350 - val_accuracy: 0.5562\n",
            "Epoch 96/225\n",
            "36/36 [==============================] - 0s 3ms/step - loss: 1.2820 - accuracy: 0.5678 - val_loss: 1.0321 - val_accuracy: 0.5618\n",
            "Epoch 97/225\n",
            "36/36 [==============================] - 0s 3ms/step - loss: 1.3163 - accuracy: 0.5734 - val_loss: 1.0323 - val_accuracy: 0.5562\n",
            "Epoch 98/225\n",
            "36/36 [==============================] - 0s 3ms/step - loss: 1.3066 - accuracy: 0.5424 - val_loss: 1.0357 - val_accuracy: 0.5449\n",
            "Epoch 99/225\n",
            "36/36 [==============================] - 0s 3ms/step - loss: 1.2611 - accuracy: 0.5706 - val_loss: 1.0339 - val_accuracy: 0.5562\n",
            "Epoch 100/225\n",
            "36/36 [==============================] - 0s 3ms/step - loss: 1.3107 - accuracy: 0.5706 - val_loss: 1.0355 - val_accuracy: 0.5562\n",
            "Epoch 101/225\n",
            "36/36 [==============================] - 0s 3ms/step - loss: 1.3145 - accuracy: 0.5537 - val_loss: 1.0379 - val_accuracy: 0.5506\n",
            "Epoch 102/225\n",
            "36/36 [==============================] - 0s 3ms/step - loss: 1.2980 - accuracy: 0.5551 - val_loss: 1.0349 - val_accuracy: 0.5506\n",
            "Epoch 103/225\n",
            "36/36 [==============================] - 0s 3ms/step - loss: 1.2738 - accuracy: 0.5466 - val_loss: 1.0351 - val_accuracy: 0.5506\n",
            "Epoch 104/225\n",
            "36/36 [==============================] - 0s 3ms/step - loss: 1.2723 - accuracy: 0.5720 - val_loss: 1.0336 - val_accuracy: 0.5449\n",
            "Epoch 105/225\n",
            "36/36 [==============================] - 0s 3ms/step - loss: 1.3108 - accuracy: 0.5621 - val_loss: 1.0312 - val_accuracy: 0.5506\n",
            "Epoch 106/225\n",
            "36/36 [==============================] - 0s 3ms/step - loss: 1.2893 - accuracy: 0.5636 - val_loss: 1.0261 - val_accuracy: 0.5562\n",
            "Epoch 107/225\n",
            "36/36 [==============================] - 0s 3ms/step - loss: 1.3020 - accuracy: 0.5565 - val_loss: 1.0261 - val_accuracy: 0.5506\n",
            "Epoch 108/225\n",
            "36/36 [==============================] - 0s 3ms/step - loss: 1.3045 - accuracy: 0.5381 - val_loss: 1.0290 - val_accuracy: 0.5449\n",
            "Epoch 109/225\n",
            "36/36 [==============================] - 0s 3ms/step - loss: 1.3163 - accuracy: 0.5480 - val_loss: 1.0253 - val_accuracy: 0.5562\n",
            "Epoch 110/225\n",
            "36/36 [==============================] - 0s 3ms/step - loss: 1.2527 - accuracy: 0.5607 - val_loss: 1.0256 - val_accuracy: 0.5618\n",
            "Epoch 111/225\n",
            "36/36 [==============================] - 0s 3ms/step - loss: 1.2693 - accuracy: 0.5692 - val_loss: 1.0245 - val_accuracy: 0.5506\n",
            "Epoch 112/225\n",
            "36/36 [==============================] - 0s 3ms/step - loss: 1.2608 - accuracy: 0.5508 - val_loss: 1.0337 - val_accuracy: 0.5449\n",
            "Epoch 113/225\n",
            "36/36 [==============================] - 0s 3ms/step - loss: 1.2687 - accuracy: 0.5819 - val_loss: 1.0234 - val_accuracy: 0.5562\n",
            "Epoch 114/225\n",
            "36/36 [==============================] - 0s 3ms/step - loss: 1.2755 - accuracy: 0.5480 - val_loss: 1.0206 - val_accuracy: 0.5618\n",
            "Epoch 115/225\n",
            "36/36 [==============================] - 0s 3ms/step - loss: 1.2612 - accuracy: 0.5805 - val_loss: 1.0343 - val_accuracy: 0.5449\n",
            "Epoch 116/225\n",
            "36/36 [==============================] - 0s 3ms/step - loss: 1.2334 - accuracy: 0.5636 - val_loss: 1.0290 - val_accuracy: 0.5618\n",
            "Epoch 117/225\n",
            "36/36 [==============================] - 0s 3ms/step - loss: 1.2853 - accuracy: 0.5636 - val_loss: 1.0255 - val_accuracy: 0.5618\n",
            "Epoch 118/225\n",
            "36/36 [==============================] - 0s 3ms/step - loss: 1.3068 - accuracy: 0.5424 - val_loss: 1.0245 - val_accuracy: 0.5618\n",
            "Epoch 119/225\n",
            "36/36 [==============================] - 0s 3ms/step - loss: 1.2302 - accuracy: 0.5833 - val_loss: 1.0268 - val_accuracy: 0.5506\n",
            "Epoch 120/225\n",
            "36/36 [==============================] - 0s 3ms/step - loss: 1.2678 - accuracy: 0.5890 - val_loss: 1.0262 - val_accuracy: 0.5562\n",
            "Epoch 121/225\n",
            "36/36 [==============================] - 0s 3ms/step - loss: 1.2727 - accuracy: 0.5523 - val_loss: 1.0278 - val_accuracy: 0.5506\n",
            "Epoch 122/225\n",
            "36/36 [==============================] - 0s 3ms/step - loss: 1.2406 - accuracy: 0.5579 - val_loss: 1.0244 - val_accuracy: 0.5449\n",
            "Epoch 123/225\n",
            "36/36 [==============================] - 0s 3ms/step - loss: 1.2448 - accuracy: 0.5847 - val_loss: 1.0230 - val_accuracy: 0.5393\n",
            "Epoch 124/225\n",
            "36/36 [==============================] - 0s 3ms/step - loss: 1.2490 - accuracy: 0.5833 - val_loss: 1.0323 - val_accuracy: 0.5449\n",
            "Epoch 125/225\n",
            "36/36 [==============================] - 0s 3ms/step - loss: 1.2521 - accuracy: 0.5579 - val_loss: 1.0250 - val_accuracy: 0.5449\n",
            "Epoch 126/225\n",
            "36/36 [==============================] - 0s 3ms/step - loss: 1.2479 - accuracy: 0.5763 - val_loss: 1.0304 - val_accuracy: 0.5506\n",
            "Epoch 127/225\n",
            "36/36 [==============================] - 0s 3ms/step - loss: 1.2675 - accuracy: 0.5395 - val_loss: 1.0220 - val_accuracy: 0.5449\n",
            "Epoch 128/225\n",
            "36/36 [==============================] - 0s 3ms/step - loss: 1.2366 - accuracy: 0.5650 - val_loss: 1.0319 - val_accuracy: 0.5225\n",
            "Epoch 129/225\n",
            "36/36 [==============================] - 0s 3ms/step - loss: 1.2474 - accuracy: 0.5636 - val_loss: 1.0243 - val_accuracy: 0.5449\n",
            "Epoch 130/225\n",
            "36/36 [==============================] - 0s 3ms/step - loss: 1.2330 - accuracy: 0.5763 - val_loss: 1.0287 - val_accuracy: 0.5225\n",
            "Epoch 131/225\n",
            "36/36 [==============================] - 0s 3ms/step - loss: 1.2500 - accuracy: 0.5720 - val_loss: 1.0339 - val_accuracy: 0.5281\n",
            "Epoch 132/225\n",
            "36/36 [==============================] - 0s 3ms/step - loss: 1.2351 - accuracy: 0.5636 - val_loss: 1.0256 - val_accuracy: 0.5337\n",
            "Epoch 133/225\n",
            "36/36 [==============================] - 0s 3ms/step - loss: 1.2160 - accuracy: 0.5664 - val_loss: 1.0275 - val_accuracy: 0.5337\n",
            "Epoch 134/225\n",
            "36/36 [==============================] - 0s 3ms/step - loss: 1.2362 - accuracy: 0.5636 - val_loss: 1.0158 - val_accuracy: 0.5225\n",
            "Epoch 135/225\n",
            "36/36 [==============================] - 0s 3ms/step - loss: 1.2399 - accuracy: 0.5876 - val_loss: 1.0182 - val_accuracy: 0.5393\n",
            "Epoch 136/225\n",
            "36/36 [==============================] - 0s 3ms/step - loss: 1.2501 - accuracy: 0.5706 - val_loss: 1.0226 - val_accuracy: 0.5225\n",
            "Epoch 137/225\n",
            "36/36 [==============================] - 0s 3ms/step - loss: 1.1908 - accuracy: 0.5650 - val_loss: 1.0251 - val_accuracy: 0.5281\n",
            "Epoch 138/225\n",
            "36/36 [==============================] - 0s 4ms/step - loss: 1.2565 - accuracy: 0.5565 - val_loss: 1.0221 - val_accuracy: 0.5281\n",
            "Epoch 139/225\n",
            "36/36 [==============================] - 0s 3ms/step - loss: 1.2529 - accuracy: 0.5763 - val_loss: 1.0194 - val_accuracy: 0.5225\n",
            "Epoch 140/225\n",
            "36/36 [==============================] - 0s 3ms/step - loss: 1.2338 - accuracy: 0.5607 - val_loss: 1.0173 - val_accuracy: 0.5337\n",
            "Epoch 141/225\n",
            "36/36 [==============================] - 0s 3ms/step - loss: 1.2252 - accuracy: 0.5692 - val_loss: 1.0276 - val_accuracy: 0.5337\n",
            "Epoch 142/225\n",
            "36/36 [==============================] - 0s 3ms/step - loss: 1.2567 - accuracy: 0.5650 - val_loss: 1.0123 - val_accuracy: 0.5393\n",
            "Epoch 143/225\n",
            "36/36 [==============================] - 0s 3ms/step - loss: 1.2720 - accuracy: 0.5650 - val_loss: 1.0062 - val_accuracy: 0.5337\n",
            "Epoch 144/225\n",
            "36/36 [==============================] - 0s 3ms/step - loss: 1.2431 - accuracy: 0.5763 - val_loss: 1.0149 - val_accuracy: 0.5225\n",
            "Epoch 145/225\n",
            "36/36 [==============================] - 0s 4ms/step - loss: 1.2253 - accuracy: 0.6003 - val_loss: 1.0237 - val_accuracy: 0.5393\n",
            "Epoch 146/225\n",
            "36/36 [==============================] - 0s 4ms/step - loss: 1.2537 - accuracy: 0.5537 - val_loss: 1.0196 - val_accuracy: 0.5337\n",
            "Epoch 147/225\n",
            "36/36 [==============================] - 0s 3ms/step - loss: 1.2446 - accuracy: 0.5692 - val_loss: 1.0112 - val_accuracy: 0.5169\n",
            "Epoch 148/225\n",
            "36/36 [==============================] - 0s 3ms/step - loss: 1.2242 - accuracy: 0.5876 - val_loss: 1.0133 - val_accuracy: 0.5225\n",
            "Epoch 149/225\n",
            "36/36 [==============================] - 0s 3ms/step - loss: 1.2321 - accuracy: 0.5847 - val_loss: 1.0018 - val_accuracy: 0.5281\n",
            "Epoch 150/225\n",
            "36/36 [==============================] - 0s 3ms/step - loss: 1.2199 - accuracy: 0.5763 - val_loss: 1.0041 - val_accuracy: 0.5112\n",
            "Epoch 151/225\n",
            "36/36 [==============================] - 0s 3ms/step - loss: 1.2702 - accuracy: 0.5268 - val_loss: 0.9987 - val_accuracy: 0.5169\n",
            "Epoch 152/225\n",
            "36/36 [==============================] - 0s 3ms/step - loss: 1.2086 - accuracy: 0.5664 - val_loss: 1.0073 - val_accuracy: 0.5169\n",
            "Epoch 153/225\n",
            "36/36 [==============================] - 0s 3ms/step - loss: 1.1913 - accuracy: 0.5678 - val_loss: 1.0144 - val_accuracy: 0.5281\n",
            "Epoch 154/225\n",
            "36/36 [==============================] - 0s 3ms/step - loss: 1.2702 - accuracy: 0.5523 - val_loss: 1.0023 - val_accuracy: 0.5169\n",
            "Epoch 155/225\n",
            "36/36 [==============================] - 0s 3ms/step - loss: 1.2789 - accuracy: 0.5579 - val_loss: 1.0055 - val_accuracy: 0.5169\n",
            "Epoch 156/225\n",
            "36/36 [==============================] - 0s 3ms/step - loss: 1.2180 - accuracy: 0.5734 - val_loss: 1.0015 - val_accuracy: 0.5225\n",
            "Epoch 157/225\n",
            "36/36 [==============================] - 0s 3ms/step - loss: 1.2432 - accuracy: 0.5579 - val_loss: 1.0026 - val_accuracy: 0.5169\n",
            "Epoch 158/225\n",
            "36/36 [==============================] - 0s 3ms/step - loss: 1.2370 - accuracy: 0.5734 - val_loss: 0.9977 - val_accuracy: 0.5281\n",
            "Epoch 159/225\n",
            "36/36 [==============================] - 0s 3ms/step - loss: 1.2311 - accuracy: 0.5410 - val_loss: 1.0058 - val_accuracy: 0.5169\n",
            "Epoch 160/225\n",
            "36/36 [==============================] - 0s 3ms/step - loss: 1.2141 - accuracy: 0.5565 - val_loss: 0.9998 - val_accuracy: 0.5281\n",
            "Epoch 161/225\n",
            "36/36 [==============================] - 0s 4ms/step - loss: 1.2375 - accuracy: 0.5523 - val_loss: 0.9989 - val_accuracy: 0.5169\n",
            "Epoch 162/225\n",
            "36/36 [==============================] - 0s 3ms/step - loss: 1.1904 - accuracy: 0.5777 - val_loss: 1.0054 - val_accuracy: 0.5169\n",
            "Epoch 163/225\n",
            "36/36 [==============================] - 0s 3ms/step - loss: 1.2649 - accuracy: 0.5621 - val_loss: 1.0136 - val_accuracy: 0.5112\n",
            "Epoch 164/225\n",
            "36/36 [==============================] - 0s 3ms/step - loss: 1.2135 - accuracy: 0.5650 - val_loss: 1.0100 - val_accuracy: 0.5281\n",
            "Epoch 165/225\n",
            "36/36 [==============================] - 0s 3ms/step - loss: 1.2004 - accuracy: 0.5805 - val_loss: 1.0205 - val_accuracy: 0.5112\n",
            "Epoch 166/225\n",
            "36/36 [==============================] - 0s 3ms/step - loss: 1.1967 - accuracy: 0.5805 - val_loss: 1.0117 - val_accuracy: 0.5112\n",
            "Epoch 167/225\n",
            "36/36 [==============================] - 0s 4ms/step - loss: 1.2251 - accuracy: 0.5607 - val_loss: 1.0100 - val_accuracy: 0.5112\n",
            "Epoch 168/225\n",
            "36/36 [==============================] - 0s 3ms/step - loss: 1.1899 - accuracy: 0.5763 - val_loss: 1.0179 - val_accuracy: 0.5169\n",
            "Epoch 169/225\n",
            "36/36 [==============================] - 0s 3ms/step - loss: 1.1839 - accuracy: 0.5692 - val_loss: 1.0139 - val_accuracy: 0.5056\n",
            "Epoch 170/225\n",
            "36/36 [==============================] - 0s 3ms/step - loss: 1.1803 - accuracy: 0.5862 - val_loss: 1.0170 - val_accuracy: 0.5112\n",
            "Epoch 171/225\n",
            "36/36 [==============================] - 0s 3ms/step - loss: 1.1523 - accuracy: 0.5805 - val_loss: 1.0211 - val_accuracy: 0.5112\n",
            "Epoch 172/225\n",
            "36/36 [==============================] - 0s 3ms/step - loss: 1.2571 - accuracy: 0.5650 - val_loss: 1.0188 - val_accuracy: 0.5112\n",
            "Epoch 173/225\n",
            "36/36 [==============================] - 0s 3ms/step - loss: 1.1971 - accuracy: 0.5749 - val_loss: 1.0166 - val_accuracy: 0.5169\n",
            "Epoch 174/225\n",
            "36/36 [==============================] - 0s 3ms/step - loss: 1.2037 - accuracy: 0.5777 - val_loss: 1.0166 - val_accuracy: 0.5169\n",
            "Epoch 175/225\n",
            "36/36 [==============================] - 0s 3ms/step - loss: 1.2098 - accuracy: 0.5381 - val_loss: 1.0218 - val_accuracy: 0.5169\n",
            "Epoch 176/225\n",
            "36/36 [==============================] - 0s 4ms/step - loss: 1.2114 - accuracy: 0.5678 - val_loss: 1.0143 - val_accuracy: 0.5281\n",
            "Epoch 177/225\n",
            "36/36 [==============================] - 0s 3ms/step - loss: 1.1523 - accuracy: 0.6031 - val_loss: 1.0223 - val_accuracy: 0.5225\n",
            "Epoch 178/225\n",
            "36/36 [==============================] - 0s 4ms/step - loss: 1.2022 - accuracy: 0.5678 - val_loss: 1.0217 - val_accuracy: 0.5281\n",
            "Epoch 179/225\n",
            "36/36 [==============================] - 0s 3ms/step - loss: 1.1892 - accuracy: 0.5862 - val_loss: 1.0236 - val_accuracy: 0.5169\n",
            "Epoch 180/225\n",
            "36/36 [==============================] - 0s 3ms/step - loss: 1.1971 - accuracy: 0.5946 - val_loss: 1.0177 - val_accuracy: 0.5281\n",
            "Epoch 181/225\n",
            "36/36 [==============================] - 0s 3ms/step - loss: 1.1773 - accuracy: 0.5847 - val_loss: 1.0217 - val_accuracy: 0.5281\n",
            "Epoch 182/225\n",
            "36/36 [==============================] - 0s 3ms/step - loss: 1.2013 - accuracy: 0.5833 - val_loss: 1.0162 - val_accuracy: 0.5393\n",
            "Epoch 183/225\n",
            "36/36 [==============================] - 0s 3ms/step - loss: 1.1810 - accuracy: 0.5862 - val_loss: 1.0202 - val_accuracy: 0.5393\n",
            "Epoch 184/225\n",
            "36/36 [==============================] - 0s 3ms/step - loss: 1.1703 - accuracy: 0.6059 - val_loss: 1.0137 - val_accuracy: 0.5281\n",
            "Epoch 185/225\n",
            "36/36 [==============================] - 0s 3ms/step - loss: 1.1798 - accuracy: 0.5862 - val_loss: 1.0205 - val_accuracy: 0.5393\n",
            "Epoch 186/225\n",
            "36/36 [==============================] - 0s 3ms/step - loss: 1.1534 - accuracy: 0.5763 - val_loss: 1.0173 - val_accuracy: 0.5281\n",
            "Epoch 187/225\n",
            "36/36 [==============================] - 0s 3ms/step - loss: 1.2064 - accuracy: 0.5551 - val_loss: 1.0172 - val_accuracy: 0.5169\n",
            "Epoch 188/225\n",
            "36/36 [==============================] - 0s 3ms/step - loss: 1.1711 - accuracy: 0.5777 - val_loss: 1.0221 - val_accuracy: 0.5337\n",
            "Epoch 189/225\n",
            "36/36 [==============================] - 0s 3ms/step - loss: 1.1610 - accuracy: 0.5734 - val_loss: 1.0259 - val_accuracy: 0.5281\n",
            "Epoch 190/225\n",
            "36/36 [==============================] - 0s 3ms/step - loss: 1.1759 - accuracy: 0.5847 - val_loss: 1.0265 - val_accuracy: 0.5281\n",
            "Epoch 191/225\n",
            "36/36 [==============================] - 0s 3ms/step - loss: 1.1977 - accuracy: 0.5706 - val_loss: 1.0146 - val_accuracy: 0.5393\n",
            "Epoch 192/225\n",
            "36/36 [==============================] - 0s 4ms/step - loss: 1.1454 - accuracy: 0.5734 - val_loss: 1.0271 - val_accuracy: 0.5449\n",
            "Epoch 193/225\n",
            "36/36 [==============================] - 0s 4ms/step - loss: 1.1700 - accuracy: 0.6045 - val_loss: 1.0269 - val_accuracy: 0.5337\n",
            "Epoch 194/225\n",
            "36/36 [==============================] - 0s 4ms/step - loss: 1.2005 - accuracy: 0.5847 - val_loss: 1.0189 - val_accuracy: 0.5393\n",
            "Epoch 195/225\n",
            "36/36 [==============================] - 0s 3ms/step - loss: 1.2065 - accuracy: 0.5607 - val_loss: 1.0194 - val_accuracy: 0.5281\n",
            "Epoch 196/225\n",
            "36/36 [==============================] - 0s 3ms/step - loss: 1.1735 - accuracy: 0.5946 - val_loss: 1.0118 - val_accuracy: 0.5281\n",
            "Epoch 197/225\n",
            "36/36 [==============================] - 0s 3ms/step - loss: 1.1724 - accuracy: 0.5692 - val_loss: 1.0230 - val_accuracy: 0.5337\n",
            "Epoch 198/225\n",
            "36/36 [==============================] - 0s 3ms/step - loss: 1.1682 - accuracy: 0.5791 - val_loss: 1.0156 - val_accuracy: 0.5506\n",
            "Epoch 199/225\n",
            "36/36 [==============================] - 0s 3ms/step - loss: 1.1609 - accuracy: 0.5805 - val_loss: 1.0194 - val_accuracy: 0.5337\n",
            "Epoch 200/225\n",
            "36/36 [==============================] - 0s 3ms/step - loss: 1.1832 - accuracy: 0.5678 - val_loss: 1.0262 - val_accuracy: 0.5281\n",
            "Epoch 201/225\n",
            "36/36 [==============================] - 0s 3ms/step - loss: 1.1877 - accuracy: 0.5805 - val_loss: 1.0257 - val_accuracy: 0.5393\n",
            "Epoch 202/225\n",
            "36/36 [==============================] - 0s 3ms/step - loss: 1.1564 - accuracy: 0.5621 - val_loss: 1.0169 - val_accuracy: 0.5337\n",
            "Epoch 203/225\n",
            "36/36 [==============================] - 0s 3ms/step - loss: 1.1631 - accuracy: 0.5847 - val_loss: 1.0190 - val_accuracy: 0.5393\n",
            "Epoch 204/225\n",
            "36/36 [==============================] - 0s 3ms/step - loss: 1.1261 - accuracy: 0.5960 - val_loss: 1.0173 - val_accuracy: 0.5337\n",
            "Epoch 205/225\n",
            "36/36 [==============================] - 0s 3ms/step - loss: 1.1389 - accuracy: 0.6116 - val_loss: 1.0270 - val_accuracy: 0.5337\n",
            "Epoch 206/225\n",
            "36/36 [==============================] - 0s 3ms/step - loss: 1.1708 - accuracy: 0.5749 - val_loss: 1.0156 - val_accuracy: 0.5393\n",
            "Epoch 207/225\n",
            "36/36 [==============================] - 0s 3ms/step - loss: 1.1799 - accuracy: 0.5692 - val_loss: 1.0170 - val_accuracy: 0.5393\n",
            "Epoch 208/225\n",
            "36/36 [==============================] - 0s 3ms/step - loss: 1.1772 - accuracy: 0.5734 - val_loss: 1.0206 - val_accuracy: 0.5449\n",
            "Epoch 209/225\n",
            "36/36 [==============================] - 0s 3ms/step - loss: 1.1606 - accuracy: 0.5734 - val_loss: 1.0237 - val_accuracy: 0.5393\n",
            "Epoch 210/225\n",
            "36/36 [==============================] - 0s 3ms/step - loss: 1.1570 - accuracy: 0.5749 - val_loss: 1.0301 - val_accuracy: 0.5337\n",
            "Epoch 211/225\n",
            "36/36 [==============================] - 0s 3ms/step - loss: 1.1550 - accuracy: 0.5975 - val_loss: 1.0258 - val_accuracy: 0.5281\n",
            "Epoch 212/225\n",
            "36/36 [==============================] - 0s 3ms/step - loss: 1.1385 - accuracy: 0.5876 - val_loss: 1.0176 - val_accuracy: 0.5449\n",
            "Epoch 213/225\n",
            "36/36 [==============================] - 0s 3ms/step - loss: 1.1230 - accuracy: 0.5876 - val_loss: 1.0212 - val_accuracy: 0.5337\n",
            "Epoch 214/225\n",
            "36/36 [==============================] - 0s 4ms/step - loss: 1.1245 - accuracy: 0.5890 - val_loss: 1.0263 - val_accuracy: 0.5281\n",
            "Epoch 215/225\n",
            "36/36 [==============================] - 0s 3ms/step - loss: 1.1719 - accuracy: 0.5664 - val_loss: 1.0184 - val_accuracy: 0.5449\n",
            "Epoch 216/225\n",
            "36/36 [==============================] - 0s 3ms/step - loss: 1.1351 - accuracy: 0.5805 - val_loss: 1.0285 - val_accuracy: 0.5393\n",
            "Epoch 217/225\n",
            "36/36 [==============================] - 0s 3ms/step - loss: 1.1395 - accuracy: 0.5833 - val_loss: 1.0342 - val_accuracy: 0.5281\n",
            "Epoch 218/225\n",
            "36/36 [==============================] - 0s 3ms/step - loss: 1.1786 - accuracy: 0.5918 - val_loss: 1.0273 - val_accuracy: 0.5337\n",
            "Epoch 219/225\n",
            "36/36 [==============================] - 0s 4ms/step - loss: 1.0934 - accuracy: 0.6003 - val_loss: 1.0324 - val_accuracy: 0.5337\n",
            "Epoch 220/225\n",
            "36/36 [==============================] - 0s 3ms/step - loss: 1.1983 - accuracy: 0.5607 - val_loss: 1.0349 - val_accuracy: 0.5337\n",
            "Epoch 221/225\n",
            "36/36 [==============================] - 0s 3ms/step - loss: 1.1106 - accuracy: 0.5975 - val_loss: 1.0453 - val_accuracy: 0.5169\n",
            "Epoch 222/225\n",
            "36/36 [==============================] - 0s 3ms/step - loss: 1.1209 - accuracy: 0.5734 - val_loss: 1.0380 - val_accuracy: 0.5056\n",
            "Epoch 223/225\n",
            "36/36 [==============================] - 0s 3ms/step - loss: 1.1349 - accuracy: 0.5833 - val_loss: 1.0330 - val_accuracy: 0.5169\n",
            "Epoch 224/225\n",
            "36/36 [==============================] - 0s 3ms/step - loss: 1.1547 - accuracy: 0.5777 - val_loss: 1.0484 - val_accuracy: 0.5281\n",
            "Epoch 225/225\n",
            "36/36 [==============================] - 0s 3ms/step - loss: 1.1430 - accuracy: 0.5805 - val_loss: 1.0466 - val_accuracy: 0.5337\n"
          ]
        }
      ]
    },
    {
      "cell_type": "markdown",
      "metadata": {
        "id": "JGEoCgFDgC3P"
      },
      "source": [
        "### Plot Loss and Accuracy"
      ]
    },
    {
      "cell_type": "code",
      "metadata": {
        "colab": {
          "base_uri": "https://localhost:8080/",
          "height": 295
        },
        "id": "2xaJSLowDawG",
        "outputId": "64da05d2-12d3-4cc2-b82e-ae2fa1184829"
      },
      "source": [
        "plt.plot(history.history['accuracy'])\n",
        "plt.plot(history.history['val_accuracy'])\n",
        "plt.title('model accuracy')\n",
        "plt.ylabel('accuracy')\n",
        "plt.xlabel('epoch')\n",
        "plt.legend(['train', 'test'], loc='upper left')\n",
        "plt.show()"
      ],
      "execution_count": 1553,
      "outputs": [
        {
          "output_type": "display_data",
          "data": {
            "image/png": "[encoded data removed]",
            "text/plain": [
              "<Figure size 432x288 with 1 Axes>"
            ]
          },
          "metadata": {
            "needs_background": "light"
          }
        }
      ]
    },
    {
      "cell_type": "code",
      "metadata": {
        "colab": {
          "base_uri": "https://localhost:8080/",
          "height": 295
        },
        "id": "lzNLa-f3EPMD",
        "outputId": "b7348287-b482-4ad5-de40-9541e784cf01"
      },
      "source": [
        "plt.plot(history.history['loss'])\n",
        "plt.plot(history.history['val_loss'])\n",
        "plt.title('model loss')\n",
        "plt.ylabel('loss')\n",
        "plt.xlabel('epoch')\n",
        "plt.legend(['train', 'test'], loc='upper right')\n",
        "plt.show()"
      ],
      "execution_count": 1554,
      "outputs": [
        {
          "output_type": "display_data",
          "data": {
            "image/png": "[encoded data removed]",
            "text/plain": [
              "<Figure size 432x288 with 1 Axes>"
            ]
          },
          "metadata": {
            "needs_background": "light"
          }
        }
      ]
    },
    {
      "cell_type": "code",
      "metadata": {
        "id": "fz4UzJt7ZVz2"
      },
      "source": [
        "y_pred = model.predict(X_test_scaled)"
      ],
      "execution_count": 1555,
      "outputs": []
    },
    {
      "cell_type": "code",
      "metadata": {
        "colab": {
          "base_uri": "https://localhost:8080/"
        },
        "id": "93mpvIEQdhW-",
        "outputId": "506bf55a-1e01-4196-eea2-4e5628d447b4"
      },
      "source": [
        "y_pred"
      ],
      "execution_count": 1556,
      "outputs": [
        {
          "output_type": "execute_result",
          "data": {
            "text/plain": [
              "array([[3.1204706e-01, 4.9198124e-01, 1.9595532e-01, 1.6443764e-05,\n",
              "        5.4380966e-16],\n",
              "       [1.2339126e-30, 9.4774279e-15, 1.3075745e-03, 1.9229561e-01,\n",
              "        8.0639690e-01],\n",
              "       [2.3206763e-02, 4.0509167e-01, 5.5360186e-01, 1.8096751e-02,\n",
              "        2.9941075e-06],\n",
              "       ...,\n",
              "       [6.1657410e-03, 2.7488121e-01, 6.1746031e-01, 9.9830709e-02,\n",
              "        1.6620271e-03],\n",
              "       [1.8099275e-01, 5.0397044e-01, 3.1379825e-01, 1.2385776e-03,\n",
              "        1.0670899e-09],\n",
              "       [2.0486747e-20, 9.8258413e-10, 2.1226991e-02, 4.3358600e-01,\n",
              "        5.4518700e-01]], dtype=float32)"
            ]
          },
          "metadata": {},
          "execution_count": 1556
        }
      ]
    },
    {
      "cell_type": "code",
      "metadata": {
        "id": "KXK9zwn4ZqUG"
      },
      "source": [
        "y_pred = np.argmax(y_pred, axis=1)"
      ],
      "execution_count": 1557,
      "outputs": []
    },
    {
      "cell_type": "code",
      "metadata": {
        "id": "mTtfvvVge0QO"
      },
      "source": [
        "y_pred = y_pred + 1 # Ratings are from 1 to 5"
      ],
      "execution_count": 1558,
      "outputs": []
    },
    {
      "cell_type": "code",
      "metadata": {
        "colab": {
          "base_uri": "https://localhost:8080/"
        },
        "id": "JAySTOOSe5k0",
        "outputId": "d3b45e20-64e3-4f08-ca34-d2eecffc75b9"
      },
      "source": [
        "y_pred"
      ],
      "execution_count": 1559,
      "outputs": [
        {
          "output_type": "execute_result",
          "data": {
            "text/plain": [
              "array([2, 5, 3, 3, 3, 3, 3, 4, 3, 5, 4, 3, 3, 4, 3, 2, 1, 4, 2, 4, 4, 3,\n",
              "       2, 2, 5, 3, 3, 2, 4, 4, 1, 2, 4, 3, 3, 2, 2, 5, 2, 3, 4, 2, 5, 3,\n",
              "       4, 4, 2, 4, 1, 2, 4, 2, 3, 2, 3, 3, 1, 4, 2, 4, 3, 4, 5, 4, 2, 3,\n",
              "       4, 4, 3, 3, 2, 2, 3, 4, 3, 3, 4, 2, 4, 4, 4, 4, 4, 3, 2, 3, 3, 3,\n",
              "       3, 4, 1, 4, 4, 3, 3, 2, 4, 3, 1, 1, 3, 3, 5, 2, 3, 4, 4, 3, 3, 1,\n",
              "       3, 2, 4, 5, 4, 4, 5, 3, 2, 3, 2, 2, 3, 2, 4, 4, 4, 4, 4, 2, 5, 3,\n",
              "       3, 2, 2, 4, 3, 4, 1, 3, 4, 2, 4, 1, 2, 3, 2, 2, 4, 4, 4, 4, 4, 1,\n",
              "       2, 2, 3, 3, 3, 3, 4, 3, 2, 2, 5, 4, 1, 3, 3, 3, 2, 3, 2, 3, 4, 4,\n",
              "       2, 4, 3, 2, 2, 4, 3, 2, 4, 5, 3, 3, 5, 3, 5, 1, 2, 3, 3, 2, 3, 5,\n",
              "       4, 3, 3, 3, 4, 5, 2, 2, 4, 4, 4, 3, 4, 3, 4, 3, 3, 3, 3, 3, 4, 3,\n",
              "       4, 3, 3, 4, 2, 3, 2, 2, 3, 5, 4, 2, 3, 3, 4, 2, 4, 1, 4, 5, 4, 3,\n",
              "       2, 4, 3, 4, 4, 1, 1, 3, 4, 2, 4, 4, 4, 3, 2, 2, 3, 2, 2, 3, 3, 3,\n",
              "       1, 5, 3, 5, 1, 3, 2, 2, 3, 4, 4, 3, 1, 4, 2, 3, 4, 4, 4, 5, 1, 2,\n",
              "       3, 3, 2, 2, 3, 1, 3, 3, 2, 5])"
            ]
          },
          "metadata": {},
          "execution_count": 1559
        }
      ]
    },
    {
      "cell_type": "code",
      "metadata": {
        "colab": {
          "base_uri": "https://localhost:8080/"
        },
        "id": "E6LyZ1OnfIwY",
        "outputId": "0749a0a4-b426-48c9-94f7-74351a0a1ac1"
      },
      "source": [
        "y_test.values"
      ],
      "execution_count": 1560,
      "outputs": [
        {
          "output_type": "execute_result",
          "data": {
            "text/plain": [
              "array([3, 5, 2, 3, 3, 3, 4, 4, 3, 5, 4, 3, 4, 4, 3, 2, 2, 5, 3, 4, 5, 3,\n",
              "       2, 2, 5, 3, 4, 2, 4, 4, 2, 2, 4, 3, 2, 2, 3, 5, 2, 4, 5, 1, 5, 3,\n",
              "       4, 5, 3, 3, 1, 2, 3, 1, 4, 3, 4, 2, 1, 5, 2, 5, 4, 4, 5, 4, 2, 4,\n",
              "       4, 4, 3, 2, 3, 2, 4, 3, 2, 3, 5, 2, 5, 4, 2, 4, 4, 3, 3, 3, 2, 4,\n",
              "       3, 4, 2, 3, 3, 3, 3, 2, 4, 2, 1, 2, 4, 4, 5, 3, 3, 4, 4, 3, 3, 3,\n",
              "       3, 1, 4, 5, 5, 5, 4, 3, 2, 3, 2, 3, 3, 3, 4, 4, 4, 4, 4, 4, 5, 2,\n",
              "       3, 2, 1, 3, 3, 3, 1, 4, 4, 3, 3, 1, 3, 3, 3, 2, 4, 4, 4, 3, 3, 1,\n",
              "       2, 1, 3, 3, 4, 5, 4, 2, 3, 2, 5, 4, 1, 3, 4, 4, 2, 4, 2, 2, 5, 3,\n",
              "       2, 5, 3, 3, 3, 4, 3, 2, 4, 5, 3, 3, 5, 3, 5, 2, 3, 3, 4, 2, 3, 4,\n",
              "       4, 3, 4, 3, 5, 5, 2, 2, 4, 3, 3, 2, 3, 3, 4, 2, 5, 3, 1, 3, 5, 2,\n",
              "       3, 4, 3, 3, 1, 2, 4, 2, 4, 5, 3, 2, 3, 5, 4, 1, 4, 1, 5, 5, 5, 3,\n",
              "       3, 4, 2, 4, 4, 1, 2, 2, 5, 2, 4, 3, 4, 4, 2, 3, 3, 1, 3, 3, 4, 3,\n",
              "       2, 5, 3, 5, 1, 4, 2, 2, 3, 4, 5, 3, 1, 4, 2, 2, 3, 3, 4, 5, 1, 2,\n",
              "       3, 2, 3, 4, 4, 1, 3, 3, 3, 5])"
            ]
          },
          "metadata": {},
          "execution_count": 1560
        }
      ]
    },
    {
      "cell_type": "code",
      "metadata": {
        "colab": {
          "base_uri": "https://localhost:8080/",
          "height": 281
        },
        "id": "CZpPzhnYZ8uK",
        "outputId": "598cce20-1eed-4111-c7c1-f527fb8f6947"
      },
      "source": [
        "plot_conf_matrix(y_test.values,y_pred,unique_class_label, title=\"Confusion Matrix for \" + model.__class__.__name__)"
      ],
      "execution_count": 1561,
      "outputs": [
        {
          "output_type": "display_data",
          "data": {
            "image/png": "[encoded data removed]",
            "text/plain": [
              "<Figure size 360x288 with 2 Axes>"
            ]
          },
          "metadata": {
            "needs_background": "light"
          }
        }
      ]
    },
    {
      "cell_type": "code",
      "metadata": {
        "colab": {
          "base_uri": "https://localhost:8080/"
        },
        "id": "-VpIdb3-fXot",
        "outputId": "f88135ea-824b-4146-d059-ce9a3426656d"
      },
      "source": [
        "print(\"Accuracy Score for \" +  model.__class__.__name__ + \"  \" \n",
        "        + str(accuracy_score(y_test.values,y_pred)) )\n",
        "print(\"F1 Score for \" + model.__class__.__name__ + \"  \" + \n",
        "        str(f1_score(y_test.values, y_pred, average='weighted')))"
      ],
      "execution_count": 1562,
      "outputs": [
        {
          "output_type": "stream",
          "name": "stdout",
          "text": [
            "Accuracy Score for Sequential  0.5641891891891891\n",
            "F1 Score for Sequential  0.5668841831174737\n"
          ]
        }
      ]
    },
    {
      "cell_type": "code",
      "metadata": {
        "id": "Qe0B9gjJd-lf"
      },
      "source": [
        "model_json = model.to_json()\n",
        "with open('model.json','w') as json_file:\n",
        "  json_file.write(model_json)"
      ],
      "execution_count": 1563,
      "outputs": []
    },
    {
      "cell_type": "code",
      "metadata": {
        "id": "rST-N5tQdnR6"
      },
      "source": [
        "from keras.models import save_model\n",
        "model_weights = save_model(model, '/content/model_weights.hdf5')"
      ],
      "execution_count": 1564,
      "outputs": []
    },
    {
      "cell_type": "markdown",
      "metadata": {
        "id": "g7jAiC9Oeerp"
      },
      "source": [
        "#### Performing testing using Loaded model"
      ]
    },
    {
      "cell_type": "code",
      "metadata": {
        "colab": {
          "base_uri": "https://localhost:8080/",
          "height": 124
        },
        "id": "EnmcnCTVen8v",
        "outputId": "1d79da0f-7db5-4ad6-c561-fbef864ac291"
      },
      "source": [
        "with open('model.json', 'r') as json_file:\n",
        "  json_saved_model = json_file.read()\n",
        "json_saved_model"
      ],
      "execution_count": 1565,
      "outputs": [
        {
          "output_type": "execute_result",
          "data": {
            "application/vnd.google.colaboratory.intrinsic+json": {
              "type": "string"
            },
            "text/plain": [
              "'{\"class_name\": \"Sequential\", \"config\": {\"name\": \"sequential_33\", \"layers\": [{\"class_name\": \"InputLayer\", \"config\": {\"batch_input_shape\": [null, 16], \"dtype\": \"float32\", \"sparse\": false, \"ragged\": false, \"name\": \"dense_132_input\"}}, {\"class_name\": \"Dense\", \"config\": {\"name\": \"dense_132\", \"trainable\": true, \"batch_input_shape\": [null, 16], \"dtype\": \"float32\", \"units\": 11, \"activation\": \"relu\", \"use_bias\": true, \"kernel_initializer\": {\"class_name\": \"GlorotUniform\", \"config\": {\"seed\": null}}, \"bias_initializer\": {\"class_name\": \"Zeros\", \"config\": {}}, \"kernel_regularizer\": null, \"bias_regularizer\": null, \"activity_regularizer\": null, \"kernel_constraint\": null, \"bias_constraint\": null}}, {\"class_name\": \"Dense\", \"config\": {\"name\": \"dense_133\", \"trainable\": true, \"dtype\": \"float32\", \"units\": 11, \"activation\": \"relu\", \"use_bias\": true, \"kernel_initializer\": {\"class_name\": \"GlorotUniform\", \"config\": {\"seed\": null}}, \"bias_initializer\": {\"class_name\": \"Zeros\", \"config\": {}}, \"kernel_regularizer\": null, \"bias_regularizer\": null, \"activity_regularizer\": null, \"kernel_constraint\": null, \"bias_constraint\": null}}, {\"class_name\": \"Dropout\", \"config\": {\"name\": \"dropout_66\", \"trainable\": true, \"dtype\": \"float32\", \"rate\": 0.2, \"noise_shape\": null, \"seed\": null}}, {\"class_name\": \"Dense\", \"config\": {\"name\": \"dense_134\", \"trainable\": true, \"dtype\": \"float32\", \"units\": 6, \"activation\": \"relu\", \"use_bias\": true, \"kernel_initializer\": {\"class_name\": \"GlorotUniform\", \"config\": {\"seed\": null}}, \"bias_initializer\": {\"class_name\": \"Zeros\", \"config\": {}}, \"kernel_regularizer\": null, \"bias_regularizer\": null, \"activity_regularizer\": null, \"kernel_constraint\": null, \"bias_constraint\": null}}, {\"class_name\": \"Dropout\", \"config\": {\"name\": \"dropout_67\", \"trainable\": true, \"dtype\": \"float32\", \"rate\": 0.2, \"noise_shape\": null, \"seed\": null}}, {\"class_name\": \"Dense\", \"config\": {\"name\": \"dense_135\", \"trainable\": true, \"dtype\": \"float32\", \"units\": 5, \"activation\": \"softmax\", \"use_bias\": true, \"kernel_initializer\": {\"class_name\": \"GlorotUniform\", \"config\": {\"seed\": null}}, \"bias_initializer\": {\"class_name\": \"Zeros\", \"config\": {}}, \"kernel_regularizer\": null, \"bias_regularizer\": null, \"activity_regularizer\": null, \"kernel_constraint\": null, \"bias_constraint\": null}}]}, \"keras_version\": \"2.6.0\", \"backend\": \"tensorflow\"}'"
            ]
          },
          "metadata": {},
          "execution_count": 1565
        }
      ]
    },
    {
      "cell_type": "code",
      "metadata": {
        "id": "KVjlvMHNdnHW"
      },
      "source": [
        "network_loaded = tf.keras.models.model_from_json(json_saved_model)\n",
        "network_loaded.load_weights('model_weights.hdf5')\n",
        "network_loaded.compile(loss = 'categorical_crossentropy', optimizer='Adam', metrics=['accuracy'])"
      ],
      "execution_count": 1566,
      "outputs": []
    },
    {
      "cell_type": "code",
      "metadata": {
        "id": "f50j09VHeymq"
      },
      "source": [
        "y_pred_loaded = network_loaded.predict(X_test_scaled)"
      ],
      "execution_count": 1567,
      "outputs": []
    },
    {
      "cell_type": "code",
      "metadata": {
        "id": "sUzNFhozfEyd"
      },
      "source": [
        "y_pred_loaded = np.argmax(y_pred_loaded, axis=1)"
      ],
      "execution_count": 1568,
      "outputs": []
    },
    {
      "cell_type": "code",
      "metadata": {
        "id": "cWb40j2sfPuy"
      },
      "source": [
        "y_pred_loaded +=1"
      ],
      "execution_count": 1569,
      "outputs": []
    },
    {
      "cell_type": "code",
      "metadata": {
        "colab": {
          "base_uri": "https://localhost:8080/",
          "height": 281
        },
        "id": "PtePd9GXfMzb",
        "outputId": "d0d216e9-1bbf-42c4-847e-a76622b1f5a9"
      },
      "source": [
        "plot_conf_matrix(y_test.values,y_pred_loaded,unique_class_label, title=\"Confusion Matrix for \" + model.__class__.__name__)"
      ],
      "execution_count": 1570,
      "outputs": [
        {
          "output_type": "display_data",
          "data": {
            "image/png": "[encoded data removed]",
            "text/plain": [
              "<Figure size 360x288 with 2 Axes>"
            ]
          },
          "metadata": {
            "needs_background": "light"
          }
        }
      ]
    },
    {
      "cell_type": "markdown",
      "metadata": {
        "id": "Fkfat6MVgQWf"
      },
      "source": [
        "#### Prediction on Asia Developed Dataset"
      ]
    },
    {
      "cell_type": "code",
      "metadata": {
        "id": "GmboS8VLgUA2"
      },
      "source": [
        "asia_df = pd.read_csv(\"/content/sample_data/Asia_Developed.csv\").set_index(\"SecId\")\n",
        "asia_df = morningStarUtilities.createSize_InvestmentTypeFeature(asia_df)\n"
      ],
      "execution_count": 1571,
      "outputs": []
    },
    {
      "cell_type": "code",
      "metadata": {
        "colab": {
          "base_uri": "https://localhost:8080/",
          "height": 199
        },
        "id": "4-2cppx6gZOQ",
        "outputId": "aede6021-e907-4abb-b460-2305c4f94f9e"
      },
      "source": [
        "asia_df[asia_df.FundTNAV.isnull()]"
      ],
      "execution_count": 1572,
      "outputs": [
        {
          "output_type": "execute_result",
          "data": {
            "text/html": [
              "<div>\n",
              "<style scoped>\n",
              "    .dataframe tbody tr th:only-of-type {\n",
              "        vertical-align: middle;\n",
              "    }\n",
              "\n",
              "    .dataframe tbody tr th {\n",
              "        vertical-align: top;\n",
              "    }\n",
              "\n",
              "    .dataframe thead th {\n",
              "        text-align: right;\n",
              "    }\n",
              "</style>\n",
              "<table border=\"1\" class=\"dataframe\">\n",
              "  <thead>\n",
              "    <tr style=\"text-align: right;\">\n",
              "      <th></th>\n",
              "      <th>Name</th>\n",
              "      <th>StarRatingM255</th>\n",
              "      <th>SustainabilityRank</th>\n",
              "      <th>CategoryName</th>\n",
              "      <th>Yield_M12</th>\n",
              "      <th>GBRReturnW1</th>\n",
              "      <th>GBRReturnM1</th>\n",
              "      <th>GBRReturnM3</th>\n",
              "      <th>GBRReturnM6</th>\n",
              "      <th>GBRReturnM0</th>\n",
              "      <th>GBRReturnM12</th>\n",
              "      <th>GBRReturnM36</th>\n",
              "      <th>GBRReturnM60</th>\n",
              "      <th>MaxFrontEndLoad</th>\n",
              "      <th>OngoingCostActual</th>\n",
              "      <th>TransactionFeeActual</th>\n",
              "      <th>ManagerTenure</th>\n",
              "      <th>FundTNAV</th>\n",
              "      <th>EquityStyleBox</th>\n",
              "      <th>AverageMarketCapital</th>\n",
              "      <th>MorningstarRiskM255</th>\n",
              "      <th>AlphaM36</th>\n",
              "      <th>BetaM36</th>\n",
              "      <th>R2M36</th>\n",
              "      <th>StandardDeviationM36</th>\n",
              "      <th>SharpeM36</th>\n",
              "      <th>ReturnProfilePreservation</th>\n",
              "      <th>ReturnProfileIncome</th>\n",
              "      <th>ReturnProfileHedging</th>\n",
              "      <th>TrackRecordExtension</th>\n",
              "      <th>Size</th>\n",
              "      <th>Style</th>\n",
              "    </tr>\n",
              "    <tr>\n",
              "      <th>SecId</th>\n",
              "      <th></th>\n",
              "      <th></th>\n",
              "      <th></th>\n",
              "      <th></th>\n",
              "      <th></th>\n",
              "      <th></th>\n",
              "      <th></th>\n",
              "      <th></th>\n",
              "      <th></th>\n",
              "      <th></th>\n",
              "      <th></th>\n",
              "      <th></th>\n",
              "      <th></th>\n",
              "      <th></th>\n",
              "      <th></th>\n",
              "      <th></th>\n",
              "      <th></th>\n",
              "      <th></th>\n",
              "      <th></th>\n",
              "      <th></th>\n",
              "      <th></th>\n",
              "      <th></th>\n",
              "      <th></th>\n",
              "      <th></th>\n",
              "      <th></th>\n",
              "      <th></th>\n",
              "      <th></th>\n",
              "      <th></th>\n",
              "      <th></th>\n",
              "      <th></th>\n",
              "      <th></th>\n",
              "      <th></th>\n",
              "    </tr>\n",
              "  </thead>\n",
              "  <tbody>\n",
              "    <tr>\n",
              "      <th>F00001071Q</th>\n",
              "      <td>BIEF Emerging Markets A GBP Acc</td>\n",
              "      <td>4</td>\n",
              "      <td>2</td>\n",
              "      <td>Global Emerging Markets Equity</td>\n",
              "      <td>0.62047</td>\n",
              "      <td>1.43</td>\n",
              "      <td>1.64</td>\n",
              "      <td>-3.35</td>\n",
              "      <td>-7.72</td>\n",
              "      <td>0.09</td>\n",
              "      <td>10.79</td>\n",
              "      <td>10.05</td>\n",
              "      <td>NaN</td>\n",
              "      <td>NaN</td>\n",
              "      <td>1.12</td>\n",
              "      <td>1.17</td>\n",
              "      <td>24.08</td>\n",
              "      <td>NaN</td>\n",
              "      <td>2</td>\n",
              "      <td>28614.24791</td>\n",
              "      <td>4</td>\n",
              "      <td>2.47</td>\n",
              "      <td>1.02</td>\n",
              "      <td>89.7</td>\n",
              "      <td>16.24</td>\n",
              "      <td>0.66</td>\n",
              "      <td>3</td>\n",
              "      <td>1</td>\n",
              "      <td>3.0</td>\n",
              "      <td>False</td>\n",
              "      <td>1</td>\n",
              "      <td>2</td>\n",
              "    </tr>\n",
              "  </tbody>\n",
              "</table>\n",
              "</div>"
            ],
            "text/plain": [
              "                                       Name  StarRatingM255  ...  Size Style\n",
              "SecId                                                        ...            \n",
              "F00001071Q  BIEF Emerging Markets A GBP Acc               4  ...     1     2\n",
              "\n",
              "[1 rows x 32 columns]"
            ]
          },
          "metadata": {},
          "execution_count": 1572
        }
      ]
    },
    {
      "cell_type": "code",
      "metadata": {
        "id": "ck3RLQZNgbwn"
      },
      "source": [
        "asia_df.drop(index='F00001071Q',inplace=True)\n"
      ],
      "execution_count": 1573,
      "outputs": []
    },
    {
      "cell_type": "code",
      "metadata": {
        "id": "VS9meOpSgegy"
      },
      "source": [
        "X_asia = asia_df[imp_features]\n",
        "y_asia = asia_df['StarRatingM255']\n",
        "X_asia_scaled = scaler.transform(X_asia)"
      ],
      "execution_count": 1574,
      "outputs": []
    },
    {
      "cell_type": "code",
      "metadata": {
        "id": "jV4l1lYmgq59"
      },
      "source": [
        "y_asia_pred = network_loaded.predict(X_asia_scaled)\n",
        "y_asia_pred = np.argmax(y_asia_pred, axis=1)\n",
        "y_asia_pred += 1"
      ],
      "execution_count": 1575,
      "outputs": []
    },
    {
      "cell_type": "code",
      "metadata": {
        "colab": {
          "base_uri": "https://localhost:8080/"
        },
        "id": "JuBFmzuzimHJ",
        "outputId": "55aa4a86-10ce-4141-f34b-e9e36b38b2da"
      },
      "source": [
        "y_asia.shape"
      ],
      "execution_count": 1576,
      "outputs": [
        {
          "output_type": "execute_result",
          "data": {
            "text/plain": [
              "(432,)"
            ]
          },
          "metadata": {},
          "execution_count": 1576
        }
      ]
    },
    {
      "cell_type": "code",
      "metadata": {
        "colab": {
          "base_uri": "https://localhost:8080/"
        },
        "id": "LkXSYbWrjJKT",
        "outputId": "3127d286-23e7-46d1-914c-d49c29f401c4"
      },
      "source": [
        "y_asia_pred.shape"
      ],
      "execution_count": 1577,
      "outputs": [
        {
          "output_type": "execute_result",
          "data": {
            "text/plain": [
              "(432,)"
            ]
          },
          "metadata": {},
          "execution_count": 1577
        }
      ]
    },
    {
      "cell_type": "code",
      "metadata": {
        "colab": {
          "base_uri": "https://localhost:8080/"
        },
        "id": "vwHEPAwsh_5Y",
        "outputId": "b9afdf69-aaff-4a77-8dd6-08bc45053863"
      },
      "source": [
        "print(\"Accuracy Score for \" +  model.__class__.__name__ + \"  \" \n",
        "        + str(accuracy_score(y_asia.values,y_asia_pred)) )\n",
        "print(\"F1 Score for \" + model.__class__.__name__ + \"  \" + \n",
        "        str(f1_score(y_asia.values, y_asia_pred, average='weighted')))"
      ],
      "execution_count": 1578,
      "outputs": [
        {
          "output_type": "stream",
          "name": "stdout",
          "text": [
            "Accuracy Score for Sequential  0.4837962962962963\n",
            "F1 Score for Sequential  0.4775401771574459\n"
          ]
        }
      ]
    },
    {
      "cell_type": "code",
      "metadata": {
        "colab": {
          "base_uri": "https://localhost:8080/",
          "height": 281
        },
        "id": "RzJhuUlRg5H7",
        "outputId": "564f6a00-c82c-4d99-b5ff-d0844349541c"
      },
      "source": [
        "plot_conf_matrix(y_asia.values,y_asia_pred,unique_class_label, title=\"Confusion Matrix for Neural Network\" )"
      ],
      "execution_count": 1579,
      "outputs": [
        {
          "output_type": "display_data",
          "data": {
            "image/png": "[encoded data removed]",
            "text/plain": [
              "<Figure size 360x288 with 2 Axes>"
            ]
          },
          "metadata": {
            "needs_background": "light"
          }
        }
      ]
    }
  ]
}