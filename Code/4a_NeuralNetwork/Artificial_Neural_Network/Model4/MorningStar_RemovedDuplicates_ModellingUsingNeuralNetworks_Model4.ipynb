{
  "nbformat": 4,
  "nbformat_minor": 0,
  "metadata": {
    "colab": {
      "name": "MorningStar_RemovedDuplicates_ModellingUsingNeuralNetworks.ipynb",
      "provenance": [],
      "collapsed_sections": []
    },
    "kernelspec": {
      "name": "python3",
      "display_name": "Python 3"
    },
    "language_info": {
      "name": "python"
    }
  },
  "cells": [
    {
      "cell_type": "markdown",
      "metadata": {
        "id": "eeazHRS71neh"
      },
      "source": [
        "###**Mounting Google Drive**"
      ]
    },
    {
      "cell_type": "code",
      "metadata": {
        "colab": {
          "base_uri": "https://localhost:8080/"
        },
        "id": "g6DZ90-rEagh",
        "outputId": "ab9157f5-aadb-40aa-9515-993f5817e929"
      },
      "source": [
        "from google.colab import drive\n",
        "drive.mount('/content/drive')"
      ],
      "execution_count": 2285,
      "outputs": [
        {
          "output_type": "stream",
          "name": "stdout",
          "text": [
            "Drive already mounted at /content/drive; to attempt to forcibly remount, call drive.mount(\"/content/drive\", force_remount=True).\n"
          ]
        }
      ]
    },
    {
      "cell_type": "markdown",
      "metadata": {
        "id": "is2MxjpD5mog"
      },
      "source": [
        "###**Import Libraries**"
      ]
    },
    {
      "cell_type": "code",
      "metadata": {
        "id": "5PGgVZfRChJL"
      },
      "source": [
        "from google.colab import files\n",
        "import pandas as pd\n",
        "import numpy as np\n",
        "import matplotlib.pyplot as plt\n",
        "import seaborn as sns\n",
        "from sklearn.model_selection import train_test_split\n",
        "from sklearn.model_selection import StratifiedKFold,cross_val_score,KFold,StratifiedKFold\n",
        "from sklearn.metrics import accuracy_score,f1_score\n",
        "from sklearn.preprocessing import StandardScaler,MinMaxScaler\n",
        "import tensorflow as tf\n",
        "from tensorflow.keras.layers import Dense, Dropout, Input\n",
        "from tensorflow.keras.models import Sequential\n",
        "from tensorflow.keras.optimizers import Adam"
      ],
      "execution_count": 2286,
      "outputs": []
    },
    {
      "cell_type": "code",
      "metadata": {
        "id": "kNHbvZENuvfl"
      },
      "source": [
        "from numpy.random import seed\n",
        "seed(42)\n",
        "tf.random.set_seed(42)"
      ],
      "execution_count": 2287,
      "outputs": []
    },
    {
      "cell_type": "code",
      "metadata": {
        "id": "AXxoO94N5TTS"
      },
      "source": [
        "from sklearn.metrics import confusion_matrix\n",
        "def plot_conf_matrix(y_test,y_pred,uniqueclassLabel, title=\"CMatrix\"):\n",
        "  cm = confusion_matrix(y_true=y_test,y_pred=y_pred,labels=uniqueclassLabel)\n",
        "  plt.figure(figsize=(5,4))\n",
        "  plt.title(title)\n",
        "  #ax = plt.subplot()\n",
        "  sns.heatmap(cm, annot=True,cmap='Blues',\n",
        "              yticklabels=uniqueclassLabel,xticklabels=uniqueclassLabel,fmt='3g')"
      ],
      "execution_count": 2288,
      "outputs": []
    },
    {
      "cell_type": "markdown",
      "metadata": {
        "id": "6nv-BCDw7Roe"
      },
      "source": [
        "###**Import Utility File**"
      ]
    },
    {
      "cell_type": "code",
      "metadata": {
        "id": "eTu1q8Gh6ckf"
      },
      "source": [
        "import sys\n",
        "path = \"/content/drive/MyDrive/Colab Notebooks/Project_Dissertation\"\n",
        "sys.path.insert(0,path + \"/Code\")\n",
        "import morningStarUtilities"
      ],
      "execution_count": 2289,
      "outputs": []
    },
    {
      "cell_type": "markdown",
      "metadata": {
        "id": "F-wcjDaJ8t7Z"
      },
      "source": [
        "### **Import Training Data**"
      ]
    },
    {
      "cell_type": "code",
      "metadata": {
        "id": "LpS5-NC88vzy"
      },
      "source": [
        "# uploaded = files.upload()\n",
        "# train_df = pd.read_csv(io.BytesIO(uploaded['morningstar_removedDuplicates_train_withoutM60.csv']))"
      ],
      "execution_count": 2290,
      "outputs": []
    },
    {
      "cell_type": "code",
      "metadata": {
        "id": "wp1s0SmlEhqw"
      },
      "source": [
        "train_df = pd.read_csv(path + \"/Data/Final_without_missing_values/morningstar_removedDuplicates_train_withoutLogTransform_withoutM60.csv\").set_index(\"SecId\")"
      ],
      "execution_count": 2291,
      "outputs": []
    },
    {
      "cell_type": "markdown",
      "metadata": {
        "id": "RgBksjh6_QMt"
      },
      "source": [
        "### **Import Testing Data**"
      ]
    },
    {
      "cell_type": "code",
      "metadata": {
        "id": "OKzcGENX_TNv"
      },
      "source": [
        "# uploaded = files.upload()\n",
        "# test_df = pd.read_csv(io.BytesIO(uploaded['morningstar_removedDuplicates_test_withoutM60.csv']))"
      ],
      "execution_count": 2292,
      "outputs": []
    },
    {
      "cell_type": "code",
      "metadata": {
        "id": "1QC3JQfmGPp1"
      },
      "source": [
        "test_df = pd.read_csv(path + \"/Data/Final_without_missing_values/morningstar_removedDuplicates_test_withoutLogTransform_withoutM60.csv\").set_index(\"SecId\")"
      ],
      "execution_count": 2293,
      "outputs": []
    },
    {
      "cell_type": "markdown",
      "metadata": {
        "id": "_T4GGYnf6tUB"
      },
      "source": [
        "### **Defining Training, Testing varibales**"
      ]
    },
    {
      "cell_type": "code",
      "metadata": {
        "id": "Gu7xuE_PBS9A"
      },
      "source": [
        "imp_features = ['SustainabilityRank','GBRReturnM1','GBRReturnM3','GBRReturnM0','GBRReturnM36','OngoingCostActual','TransactionFeeActual','FundTNAV',\n",
        "'AverageMarketCapital','MorningstarRiskM255','AlphaM36','BetaM36','StandardDeviationM36','SharpeM36','Size','Style']\n",
        "X_train = train_df[imp_features]\n",
        "y_train = train_df[['StarRatingM255']]\n",
        "\n",
        "X_test = test_df[imp_features]\n",
        "y_test = test_df['StarRatingM255']"
      ],
      "execution_count": 2294,
      "outputs": []
    },
    {
      "cell_type": "code",
      "metadata": {
        "id": "RNc7B6gHYyO_"
      },
      "source": [
        "y_train = y_train.astype('string')"
      ],
      "execution_count": 2295,
      "outputs": []
    },
    {
      "cell_type": "code",
      "metadata": {
        "colab": {
          "base_uri": "https://localhost:8080/"
        },
        "id": "OkdudmSCcdUk",
        "outputId": "c10d21bc-4fb9-4ef7-bd37-aa526e820331"
      },
      "source": [
        "from sklearn.preprocessing import OneHotEncoder\n",
        "y_train_cat = OneHotEncoder().fit_transform(y_train[[\"StarRatingM255\"]]).toarray()\n",
        "y_train_cat.shape"
      ],
      "execution_count": 2296,
      "outputs": [
        {
          "output_type": "execute_result",
          "data": {
            "text/plain": [
              "(886, 5)"
            ]
          },
          "metadata": {},
          "execution_count": 2296
        }
      ]
    },
    {
      "cell_type": "code",
      "metadata": {
        "colab": {
          "base_uri": "https://localhost:8080/"
        },
        "id": "4XTYcqhHBR9I",
        "outputId": "372961aa-fe36-48ca-f1a4-91da7947d6db"
      },
      "source": [
        "X_train.shape[1], y_train.shape, y_train_cat.shape"
      ],
      "execution_count": 2297,
      "outputs": [
        {
          "output_type": "execute_result",
          "data": {
            "text/plain": [
              "(16, (886, 1), (886, 5))"
            ]
          },
          "metadata": {},
          "execution_count": 2297
        }
      ]
    },
    {
      "cell_type": "code",
      "metadata": {
        "colab": {
          "base_uri": "https://localhost:8080/"
        },
        "id": "UxjbFzBY_gSw",
        "outputId": "59f5bd31-1ca5-4c3f-91ee-f7d7cebe0d42"
      },
      "source": [
        "X_test.shape,y_test.shape"
      ],
      "execution_count": 2298,
      "outputs": [
        {
          "output_type": "execute_result",
          "data": {
            "text/plain": [
              "((296, 16), (296,))"
            ]
          },
          "metadata": {},
          "execution_count": 2298
        }
      ]
    },
    {
      "cell_type": "markdown",
      "metadata": {
        "id": "-7XMS96relKM"
      },
      "source": [
        "### **Scaling the Data**"
      ]
    },
    {
      "cell_type": "code",
      "metadata": {
        "id": "ZPhgNmDZeqBr"
      },
      "source": [
        "scaler = StandardScaler()\n",
        "scaler.fit(X_train)\n",
        "X_train_scaled = scaler.transform(X_train)\n",
        "X_test_scaled = scaler.transform(X_test)"
      ],
      "execution_count": 2299,
      "outputs": []
    },
    {
      "cell_type": "markdown",
      "metadata": {
        "id": "d_xfktBW7XKR"
      },
      "source": [
        "### **Verify the Training and Testing distribution as per Target Variable**"
      ]
    },
    {
      "cell_type": "code",
      "metadata": {
        "colab": {
          "base_uri": "https://localhost:8080/",
          "height": 292
        },
        "id": "YePM9m2wLL4P",
        "outputId": "c4331222-3d06-4cc0-935e-4e2224d7ff8e"
      },
      "source": [
        "morningStarUtilities.displayBarSubPlots([train_df,test_df],[\"Training Distribution\", \"Testing Distribution\"],\n",
        "                   \"StarRatingM255\")"
      ],
      "execution_count": 2300,
      "outputs": [
        {
          "output_type": "display_data",
          "data": {
            "image/png": "[encoded data removed]",
            "text/plain": [
              "<Figure size 1080x288 with 2 Axes>"
            ]
          },
          "metadata": {
            "needs_background": "light"
          }
        }
      ]
    },
    {
      "cell_type": "markdown",
      "metadata": {
        "id": "H7xIH-gH9wwl"
      },
      "source": [
        "### **Creating runtime variables**"
      ]
    },
    {
      "cell_type": "code",
      "metadata": {
        "colab": {
          "base_uri": "https://localhost:8080/"
        },
        "id": "rDe-0LE772d-",
        "outputId": "7031bd59-ed62-4fcd-9bb2-848af05157b9"
      },
      "source": [
        "unique_class_label = list(train_df.StarRatingM255.unique())\n",
        "unique_class_label.sort()\n",
        "unique_class_label"
      ],
      "execution_count": 2301,
      "outputs": [
        {
          "output_type": "execute_result",
          "data": {
            "text/plain": [
              "[1, 2, 3, 4, 5]"
            ]
          },
          "metadata": {},
          "execution_count": 2301
        }
      ]
    },
    {
      "cell_type": "markdown",
      "metadata": {
        "id": "qWv0oQrW9jQL"
      },
      "source": [
        "### **Defining Neural Network Model**"
      ]
    },
    {
      "cell_type": "code",
      "metadata": {
        "colab": {
          "base_uri": "https://localhost:8080/"
        },
        "id": "iiMBga5fCAb7",
        "outputId": "ef85fa80-fbec-4a17-d876-3319b14674cb"
      },
      "source": [
        "# Number of Hidden Layers\n",
        "round((X_train.shape[1] + len(unique_class_label))/2) + 1"
      ],
      "execution_count": 2302,
      "outputs": [
        {
          "output_type": "execute_result",
          "data": {
            "text/plain": [
              "11"
            ]
          },
          "metadata": {},
          "execution_count": 2302
        }
      ]
    },
    {
      "cell_type": "markdown",
      "metadata": {
        "id": "kPI7GLP5ysDA"
      },
      "source": [
        "### Method 1 - Using Scikit Learn - KerasClassifier\n"
      ]
    },
    {
      "cell_type": "code",
      "metadata": {
        "id": "sAxHLtP1_1KT"
      },
      "source": [
        "# def baseline_model():    \n",
        "#   network = Sequential()\n",
        "#   network.add(tf.keras.layers.Dense(units=11,activation ='relu', input_dim = X_train.shape[1] ))\n",
        "#   network.add(tf.keras.layers.Dropout(0.2))\n",
        "#   network.add(tf.keras.layers.Dense(units=11,activation ='relu'))\n",
        "#   network.add(tf.keras.layers.Dropout(0.2))\n",
        "#   network.add(tf.keras.layers.Dense(units=11,activation ='relu'))\n",
        "#   network.add(tf.keras.layers.Dropout(0.2))\n",
        "#   network.add(tf.keras.layers.Dense(5,activation='softmax'))\n",
        "#   network.compile(optimizer = 'adam', loss = 'categorical_crossentropy', metrics = ['accuracy'])\n",
        "#   return network"
      ],
      "execution_count": 2303,
      "outputs": []
    },
    {
      "cell_type": "code",
      "metadata": {
        "id": "1S2Pyj1CDGnY"
      },
      "source": [
        "# from keras.wrappers.scikit_learn import KerasClassifier\n",
        "# estimator = KerasClassifier(build_fn = baseline_model, epochs = 500, batch_size = 10, verbose = -1)"
      ],
      "execution_count": 2304,
      "outputs": []
    },
    {
      "cell_type": "code",
      "metadata": {
        "id": "k1ixBpWqIZ3x"
      },
      "source": [
        "# skf = StratifiedKFold(n_splits=5, random_state=42, shuffle=True)\n",
        "# results = cross_val_score(estimator, X_train_scaled, y_train, cv = skf)\n",
        "\n",
        "# print(results)\n",
        "# print(\"Result: %.2f%% (%.2f%%)\" % (results.mean()*100, results.std()*100))"
      ],
      "execution_count": 2305,
      "outputs": []
    },
    {
      "cell_type": "code",
      "metadata": {
        "id": "K8uCyB15N2Jp"
      },
      "source": [
        "# y_pred = estimator.predict(X_test_scaled)"
      ],
      "execution_count": 2306,
      "outputs": []
    },
    {
      "cell_type": "code",
      "metadata": {
        "id": "QB3JjnzVNYlq"
      },
      "source": [
        "# plot_conf_matrix(y_test,y_pred,unique_class_label, title=\"Confusion Matrix for \" + clf.__class__.__name__)\n",
        "# print(\"Accuracy Score for \" +  estimator.__class__.__name__ + \"  \" \n",
        "#         + str(accuracy_score(y_test,y_pred)) )\n",
        "# print(\"F1 Score for \" + estimator.__class__.__name__ + \"  \" + \n",
        "#         str(f1_score(y_test, y_pred, average='weighted')))"
      ],
      "execution_count": 2307,
      "outputs": []
    },
    {
      "cell_type": "markdown",
      "metadata": {
        "id": "X_Op8VMpzAOh"
      },
      "source": [
        "### Method 2 - Using Sequential Model"
      ]
    },
    {
      "cell_type": "code",
      "metadata": {
        "id": "6uyKQT5EPXs6"
      },
      "source": [
        "model = Sequential()\n",
        "model.add(tf.keras.layers.Dense(units=11,activation ='relu', input_shape = (16,) ))\n",
        "#model.add(tf.keras.layers.Dropout(0.2))\n",
        "model.add(tf.keras.layers.Dense(units=11,activation ='relu'))\n",
        "model.add(tf.keras.layers.Dropout(0.2))\n",
        "model.add(tf.keras.layers.Dense(units=6,activation ='relu'))\n",
        "model.add(tf.keras.layers.Dropout(0.2))\n",
        "model.add(tf.keras.layers.Dense(units=5,activation='softmax'))\n",
        "model.compile(optimizer = Adam(), loss = 'categorical_crossentropy', \n",
        "              metrics = ['accuracy'])"
      ],
      "execution_count": 2308,
      "outputs": []
    },
    {
      "cell_type": "code",
      "metadata": {
        "colab": {
          "base_uri": "https://localhost:8080/"
        },
        "id": "yHCvlpx8PlWC",
        "outputId": "7b41eb6a-b3b1-4d17-c7f1-f153c480145b"
      },
      "source": [
        "model.summary()"
      ],
      "execution_count": 2309,
      "outputs": [
        {
          "output_type": "stream",
          "name": "stdout",
          "text": [
            "Model: \"sequential_47\"\n",
            "_________________________________________________________________\n",
            "Layer (type)                 Output Shape              Param #   \n",
            "=================================================================\n",
            "dense_188 (Dense)            (None, 11)                187       \n",
            "_________________________________________________________________\n",
            "dense_189 (Dense)            (None, 11)                132       \n",
            "_________________________________________________________________\n",
            "dropout_94 (Dropout)         (None, 11)                0         \n",
            "_________________________________________________________________\n",
            "dense_190 (Dense)            (None, 6)                 72        \n",
            "_________________________________________________________________\n",
            "dropout_95 (Dropout)         (None, 6)                 0         \n",
            "_________________________________________________________________\n",
            "dense_191 (Dense)            (None, 5)                 35        \n",
            "=================================================================\n",
            "Total params: 426\n",
            "Trainable params: 426\n",
            "Non-trainable params: 0\n",
            "_________________________________________________________________\n"
          ]
        }
      ]
    },
    {
      "cell_type": "code",
      "metadata": {
        "id": "peasDV7FMcxB"
      },
      "source": [
        "# Handling Imbalanced Classes using class_weight\n",
        "\n",
        "class_wt = {0: 2.25,\n",
        "                1: 1.15,\n",
        "                2: 1.05,\n",
        "                3: 1.15,\n",
        "                4: 2.25}"
      ],
      "execution_count": 2310,
      "outputs": []
    },
    {
      "cell_type": "code",
      "metadata": {
        "colab": {
          "base_uri": "https://localhost:8080/"
        },
        "id": "3IJkFo6dQEmo",
        "outputId": "78ef846d-9b5a-46c0-ed77-a320373f982e"
      },
      "source": [
        "history = model.fit(X_train_scaled,y_train_cat,validation_split=0.25,\n",
        "                    epochs=250, verbose=1,batch_size=15,class_weight=class_wt)"
      ],
      "execution_count": 2311,
      "outputs": [
        {
          "output_type": "stream",
          "name": "stdout",
          "text": [
            "Epoch 1/250\n",
            "45/45 [==============================] - 1s 7ms/step - loss: 2.1142 - accuracy: 0.2214 - val_loss: 1.6162 - val_accuracy: 0.3198\n",
            "Epoch 2/250\n",
            "45/45 [==============================] - 0s 3ms/step - loss: 2.0814 - accuracy: 0.2711 - val_loss: 1.5909 - val_accuracy: 0.3153\n",
            "Epoch 3/250\n",
            "45/45 [==============================] - 0s 3ms/step - loss: 2.0590 - accuracy: 0.3117 - val_loss: 1.5728 - val_accuracy: 0.3198\n",
            "Epoch 4/250\n",
            "45/45 [==============================] - 0s 3ms/step - loss: 2.0275 - accuracy: 0.3298 - val_loss: 1.5629 - val_accuracy: 0.3468\n",
            "Epoch 5/250\n",
            "45/45 [==============================] - 0s 3ms/step - loss: 2.0049 - accuracy: 0.3404 - val_loss: 1.5493 - val_accuracy: 0.3559\n",
            "Epoch 6/250\n",
            "45/45 [==============================] - 0s 4ms/step - loss: 2.0133 - accuracy: 0.3524 - val_loss: 1.5384 - val_accuracy: 0.3649\n",
            "Epoch 7/250\n",
            "45/45 [==============================] - 0s 3ms/step - loss: 1.9860 - accuracy: 0.3645 - val_loss: 1.5253 - val_accuracy: 0.3649\n",
            "Epoch 8/250\n",
            "45/45 [==============================] - 0s 4ms/step - loss: 1.9536 - accuracy: 0.3479 - val_loss: 1.5109 - val_accuracy: 0.3739\n",
            "Epoch 9/250\n",
            "45/45 [==============================] - 0s 3ms/step - loss: 1.9410 - accuracy: 0.3660 - val_loss: 1.4949 - val_accuracy: 0.3694\n",
            "Epoch 10/250\n",
            "45/45 [==============================] - 0s 3ms/step - loss: 1.9427 - accuracy: 0.3539 - val_loss: 1.4783 - val_accuracy: 0.3784\n",
            "Epoch 11/250\n",
            "45/45 [==============================] - 0s 3ms/step - loss: 1.9203 - accuracy: 0.3750 - val_loss: 1.4625 - val_accuracy: 0.3829\n",
            "Epoch 12/250\n",
            "45/45 [==============================] - 0s 3ms/step - loss: 1.8775 - accuracy: 0.3750 - val_loss: 1.4432 - val_accuracy: 0.3874\n",
            "Epoch 13/250\n",
            "45/45 [==============================] - 0s 2ms/step - loss: 1.8595 - accuracy: 0.3840 - val_loss: 1.4217 - val_accuracy: 0.4009\n",
            "Epoch 14/250\n",
            "45/45 [==============================] - 0s 3ms/step - loss: 1.8415 - accuracy: 0.3750 - val_loss: 1.4021 - val_accuracy: 0.4009\n",
            "Epoch 15/250\n",
            "45/45 [==============================] - 0s 3ms/step - loss: 1.8065 - accuracy: 0.3645 - val_loss: 1.3793 - val_accuracy: 0.4054\n",
            "Epoch 16/250\n",
            "45/45 [==============================] - 0s 3ms/step - loss: 1.7945 - accuracy: 0.3690 - val_loss: 1.3541 - val_accuracy: 0.4144\n",
            "Epoch 17/250\n",
            "45/45 [==============================] - 0s 3ms/step - loss: 1.7710 - accuracy: 0.3479 - val_loss: 1.3287 - val_accuracy: 0.4189\n",
            "Epoch 18/250\n",
            "45/45 [==============================] - 0s 3ms/step - loss: 1.7070 - accuracy: 0.3750 - val_loss: 1.3048 - val_accuracy: 0.4054\n",
            "Epoch 19/250\n",
            "45/45 [==============================] - 0s 3ms/step - loss: 1.6919 - accuracy: 0.3630 - val_loss: 1.2847 - val_accuracy: 0.4505\n",
            "Epoch 20/250\n",
            "45/45 [==============================] - 0s 3ms/step - loss: 1.6864 - accuracy: 0.3660 - val_loss: 1.2626 - val_accuracy: 0.4459\n",
            "Epoch 21/250\n",
            "45/45 [==============================] - 0s 3ms/step - loss: 1.6465 - accuracy: 0.4187 - val_loss: 1.2465 - val_accuracy: 0.5045\n",
            "Epoch 22/250\n",
            "45/45 [==============================] - 0s 3ms/step - loss: 1.6259 - accuracy: 0.4277 - val_loss: 1.2252 - val_accuracy: 0.4730\n",
            "Epoch 23/250\n",
            "45/45 [==============================] - 0s 3ms/step - loss: 1.5859 - accuracy: 0.3961 - val_loss: 1.2079 - val_accuracy: 0.4730\n",
            "Epoch 24/250\n",
            "45/45 [==============================] - 0s 3ms/step - loss: 1.5657 - accuracy: 0.4036 - val_loss: 1.1936 - val_accuracy: 0.5045\n",
            "Epoch 25/250\n",
            "45/45 [==============================] - 0s 3ms/step - loss: 1.6044 - accuracy: 0.4202 - val_loss: 1.1810 - val_accuracy: 0.4820\n",
            "Epoch 26/250\n",
            "45/45 [==============================] - 0s 3ms/step - loss: 1.5424 - accuracy: 0.4413 - val_loss: 1.1702 - val_accuracy: 0.4685\n",
            "Epoch 27/250\n",
            "45/45 [==============================] - 0s 2ms/step - loss: 1.5366 - accuracy: 0.4714 - val_loss: 1.1587 - val_accuracy: 0.4730\n",
            "Epoch 28/250\n",
            "45/45 [==============================] - 0s 3ms/step - loss: 1.5170 - accuracy: 0.4563 - val_loss: 1.1464 - val_accuracy: 0.5045\n",
            "Epoch 29/250\n",
            "45/45 [==============================] - 0s 3ms/step - loss: 1.5216 - accuracy: 0.4533 - val_loss: 1.1509 - val_accuracy: 0.5090\n",
            "Epoch 30/250\n",
            "45/45 [==============================] - 0s 3ms/step - loss: 1.4932 - accuracy: 0.4217 - val_loss: 1.1342 - val_accuracy: 0.5315\n",
            "Epoch 31/250\n",
            "45/45 [==============================] - 0s 3ms/step - loss: 1.5130 - accuracy: 0.4593 - val_loss: 1.1316 - val_accuracy: 0.5270\n",
            "Epoch 32/250\n",
            "45/45 [==============================] - 0s 3ms/step - loss: 1.4908 - accuracy: 0.4563 - val_loss: 1.1194 - val_accuracy: 0.5405\n",
            "Epoch 33/250\n",
            "45/45 [==============================] - 0s 3ms/step - loss: 1.4715 - accuracy: 0.4654 - val_loss: 1.1167 - val_accuracy: 0.5541\n",
            "Epoch 34/250\n",
            "45/45 [==============================] - 0s 3ms/step - loss: 1.4774 - accuracy: 0.5060 - val_loss: 1.1080 - val_accuracy: 0.5405\n",
            "Epoch 35/250\n",
            "45/45 [==============================] - 0s 2ms/step - loss: 1.4904 - accuracy: 0.5136 - val_loss: 1.1069 - val_accuracy: 0.5315\n",
            "Epoch 36/250\n",
            "45/45 [==============================] - 0s 3ms/step - loss: 1.4632 - accuracy: 0.4804 - val_loss: 1.1061 - val_accuracy: 0.5360\n",
            "Epoch 37/250\n",
            "45/45 [==============================] - 0s 3ms/step - loss: 1.4408 - accuracy: 0.4834 - val_loss: 1.0955 - val_accuracy: 0.5541\n",
            "Epoch 38/250\n",
            "45/45 [==============================] - 0s 4ms/step - loss: 1.4179 - accuracy: 0.5196 - val_loss: 1.0940 - val_accuracy: 0.5450\n",
            "Epoch 39/250\n",
            "45/45 [==============================] - 0s 3ms/step - loss: 1.4585 - accuracy: 0.5030 - val_loss: 1.0955 - val_accuracy: 0.5631\n",
            "Epoch 40/250\n",
            "45/45 [==============================] - 0s 3ms/step - loss: 1.4574 - accuracy: 0.4699 - val_loss: 1.0849 - val_accuracy: 0.5586\n",
            "Epoch 41/250\n",
            "45/45 [==============================] - 0s 3ms/step - loss: 1.4940 - accuracy: 0.4910 - val_loss: 1.0839 - val_accuracy: 0.5541\n",
            "Epoch 42/250\n",
            "45/45 [==============================] - 0s 3ms/step - loss: 1.4581 - accuracy: 0.4955 - val_loss: 1.0866 - val_accuracy: 0.5450\n",
            "Epoch 43/250\n",
            "45/45 [==============================] - 0s 3ms/step - loss: 1.4057 - accuracy: 0.5030 - val_loss: 1.0802 - val_accuracy: 0.5360\n",
            "Epoch 44/250\n",
            "45/45 [==============================] - 0s 3ms/step - loss: 1.4092 - accuracy: 0.5226 - val_loss: 1.0808 - val_accuracy: 0.5315\n",
            "Epoch 45/250\n",
            "45/45 [==============================] - 0s 3ms/step - loss: 1.4087 - accuracy: 0.5151 - val_loss: 1.0714 - val_accuracy: 0.5495\n",
            "Epoch 46/250\n",
            "45/45 [==============================] - 0s 3ms/step - loss: 1.4061 - accuracy: 0.5030 - val_loss: 1.0606 - val_accuracy: 0.5586\n",
            "Epoch 47/250\n",
            "45/45 [==============================] - 0s 3ms/step - loss: 1.3994 - accuracy: 0.5286 - val_loss: 1.0670 - val_accuracy: 0.5631\n",
            "Epoch 48/250\n",
            "45/45 [==============================] - 0s 3ms/step - loss: 1.4050 - accuracy: 0.5256 - val_loss: 1.0517 - val_accuracy: 0.5721\n",
            "Epoch 49/250\n",
            "45/45 [==============================] - 0s 3ms/step - loss: 1.4016 - accuracy: 0.5151 - val_loss: 1.0502 - val_accuracy: 0.5541\n",
            "Epoch 50/250\n",
            "45/45 [==============================] - 0s 3ms/step - loss: 1.4215 - accuracy: 0.5301 - val_loss: 1.0516 - val_accuracy: 0.5586\n",
            "Epoch 51/250\n",
            "45/45 [==============================] - 0s 3ms/step - loss: 1.4232 - accuracy: 0.5271 - val_loss: 1.0583 - val_accuracy: 0.5495\n",
            "Epoch 52/250\n",
            "45/45 [==============================] - 0s 3ms/step - loss: 1.4058 - accuracy: 0.5166 - val_loss: 1.0547 - val_accuracy: 0.5405\n",
            "Epoch 53/250\n",
            "45/45 [==============================] - 0s 4ms/step - loss: 1.4064 - accuracy: 0.5286 - val_loss: 1.0505 - val_accuracy: 0.5586\n",
            "Epoch 54/250\n",
            "45/45 [==============================] - 0s 3ms/step - loss: 1.3795 - accuracy: 0.5316 - val_loss: 1.0470 - val_accuracy: 0.5676\n",
            "Epoch 55/250\n",
            "45/45 [==============================] - 0s 3ms/step - loss: 1.4086 - accuracy: 0.5045 - val_loss: 1.0488 - val_accuracy: 0.5766\n",
            "Epoch 56/250\n",
            "45/45 [==============================] - 0s 3ms/step - loss: 1.3554 - accuracy: 0.5105 - val_loss: 1.0491 - val_accuracy: 0.5631\n",
            "Epoch 57/250\n",
            "45/45 [==============================] - 0s 3ms/step - loss: 1.3903 - accuracy: 0.5587 - val_loss: 1.0470 - val_accuracy: 0.5631\n",
            "Epoch 58/250\n",
            "45/45 [==============================] - 0s 3ms/step - loss: 1.3213 - accuracy: 0.5678 - val_loss: 1.0456 - val_accuracy: 0.5586\n",
            "Epoch 59/250\n",
            "45/45 [==============================] - 0s 4ms/step - loss: 1.3713 - accuracy: 0.5361 - val_loss: 1.0412 - val_accuracy: 0.5495\n",
            "Epoch 60/250\n",
            "45/45 [==============================] - 0s 5ms/step - loss: 1.4151 - accuracy: 0.4985 - val_loss: 1.0445 - val_accuracy: 0.5405\n",
            "Epoch 61/250\n",
            "45/45 [==============================] - 0s 4ms/step - loss: 1.3507 - accuracy: 0.5226 - val_loss: 1.0385 - val_accuracy: 0.5766\n",
            "Epoch 62/250\n",
            "45/45 [==============================] - 0s 3ms/step - loss: 1.3622 - accuracy: 0.5392 - val_loss: 1.0355 - val_accuracy: 0.5721\n",
            "Epoch 63/250\n",
            "45/45 [==============================] - 0s 3ms/step - loss: 1.3376 - accuracy: 0.5452 - val_loss: 1.0418 - val_accuracy: 0.5631\n",
            "Epoch 64/250\n",
            "45/45 [==============================] - 0s 3ms/step - loss: 1.4041 - accuracy: 0.4910 - val_loss: 1.0402 - val_accuracy: 0.5541\n",
            "Epoch 65/250\n",
            "45/45 [==============================] - 0s 2ms/step - loss: 1.3391 - accuracy: 0.5527 - val_loss: 1.0293 - val_accuracy: 0.5766\n",
            "Epoch 66/250\n",
            "45/45 [==============================] - 0s 4ms/step - loss: 1.3895 - accuracy: 0.5377 - val_loss: 1.0307 - val_accuracy: 0.5586\n",
            "Epoch 67/250\n",
            "45/45 [==============================] - 0s 3ms/step - loss: 1.3900 - accuracy: 0.5316 - val_loss: 1.0364 - val_accuracy: 0.5541\n",
            "Epoch 68/250\n",
            "45/45 [==============================] - 0s 3ms/step - loss: 1.3905 - accuracy: 0.5181 - val_loss: 1.0277 - val_accuracy: 0.5586\n",
            "Epoch 69/250\n",
            "45/45 [==============================] - 0s 3ms/step - loss: 1.3365 - accuracy: 0.5648 - val_loss: 1.0307 - val_accuracy: 0.5586\n",
            "Epoch 70/250\n",
            "45/45 [==============================] - 0s 3ms/step - loss: 1.3432 - accuracy: 0.5377 - val_loss: 1.0254 - val_accuracy: 0.5586\n",
            "Epoch 71/250\n",
            "45/45 [==============================] - 0s 3ms/step - loss: 1.3309 - accuracy: 0.5346 - val_loss: 1.0252 - val_accuracy: 0.5586\n",
            "Epoch 72/250\n",
            "45/45 [==============================] - 0s 3ms/step - loss: 1.3787 - accuracy: 0.5301 - val_loss: 1.0185 - val_accuracy: 0.5721\n",
            "Epoch 73/250\n",
            "45/45 [==============================] - 0s 3ms/step - loss: 1.3437 - accuracy: 0.5557 - val_loss: 1.0190 - val_accuracy: 0.5586\n",
            "Epoch 74/250\n",
            "45/45 [==============================] - 0s 3ms/step - loss: 1.3828 - accuracy: 0.5196 - val_loss: 1.0154 - val_accuracy: 0.5586\n",
            "Epoch 75/250\n",
            "45/45 [==============================] - 0s 3ms/step - loss: 1.2889 - accuracy: 0.5633 - val_loss: 1.0203 - val_accuracy: 0.5811\n",
            "Epoch 76/250\n",
            "45/45 [==============================] - 0s 3ms/step - loss: 1.3273 - accuracy: 0.5316 - val_loss: 1.0142 - val_accuracy: 0.5676\n",
            "Epoch 77/250\n",
            "45/45 [==============================] - 0s 3ms/step - loss: 1.3265 - accuracy: 0.5286 - val_loss: 1.0108 - val_accuracy: 0.5676\n",
            "Epoch 78/250\n",
            "45/45 [==============================] - 0s 3ms/step - loss: 1.3944 - accuracy: 0.5422 - val_loss: 1.0141 - val_accuracy: 0.5631\n",
            "Epoch 79/250\n",
            "45/45 [==============================] - 0s 3ms/step - loss: 1.3295 - accuracy: 0.5678 - val_loss: 1.0151 - val_accuracy: 0.5586\n",
            "Epoch 80/250\n",
            "45/45 [==============================] - 0s 3ms/step - loss: 1.3573 - accuracy: 0.5060 - val_loss: 1.0137 - val_accuracy: 0.5676\n",
            "Epoch 81/250\n",
            "45/45 [==============================] - 0s 4ms/step - loss: 1.3347 - accuracy: 0.5361 - val_loss: 1.0126 - val_accuracy: 0.5631\n",
            "Epoch 82/250\n",
            "45/45 [==============================] - 0s 3ms/step - loss: 1.3314 - accuracy: 0.5422 - val_loss: 1.0126 - val_accuracy: 0.5811\n",
            "Epoch 83/250\n",
            "45/45 [==============================] - 0s 3ms/step - loss: 1.3361 - accuracy: 0.5286 - val_loss: 1.0148 - val_accuracy: 0.5631\n",
            "Epoch 84/250\n",
            "45/45 [==============================] - 0s 3ms/step - loss: 1.2931 - accuracy: 0.5211 - val_loss: 1.0081 - val_accuracy: 0.5811\n",
            "Epoch 85/250\n",
            "45/45 [==============================] - 0s 3ms/step - loss: 1.3230 - accuracy: 0.5361 - val_loss: 1.0093 - val_accuracy: 0.5766\n",
            "Epoch 86/250\n",
            "45/45 [==============================] - 0s 2ms/step - loss: 1.3151 - accuracy: 0.5557 - val_loss: 1.0161 - val_accuracy: 0.5721\n",
            "Epoch 87/250\n",
            "45/45 [==============================] - 0s 3ms/step - loss: 1.2935 - accuracy: 0.5241 - val_loss: 1.0136 - val_accuracy: 0.5721\n",
            "Epoch 88/250\n",
            "45/45 [==============================] - 0s 3ms/step - loss: 1.3247 - accuracy: 0.5497 - val_loss: 1.0117 - val_accuracy: 0.5721\n",
            "Epoch 89/250\n",
            "45/45 [==============================] - 0s 3ms/step - loss: 1.3046 - accuracy: 0.5331 - val_loss: 1.0097 - val_accuracy: 0.5631\n",
            "Epoch 90/250\n",
            "45/45 [==============================] - 0s 3ms/step - loss: 1.3248 - accuracy: 0.5708 - val_loss: 1.0095 - val_accuracy: 0.5360\n",
            "Epoch 91/250\n",
            "45/45 [==============================] - 0s 3ms/step - loss: 1.3215 - accuracy: 0.5633 - val_loss: 1.0058 - val_accuracy: 0.5541\n",
            "Epoch 92/250\n",
            "45/45 [==============================] - 0s 3ms/step - loss: 1.3058 - accuracy: 0.5316 - val_loss: 1.0020 - val_accuracy: 0.5631\n",
            "Epoch 93/250\n",
            "45/45 [==============================] - 0s 3ms/step - loss: 1.3029 - accuracy: 0.5452 - val_loss: 1.0026 - val_accuracy: 0.5586\n",
            "Epoch 94/250\n",
            "45/45 [==============================] - 0s 3ms/step - loss: 1.3334 - accuracy: 0.5286 - val_loss: 0.9962 - val_accuracy: 0.5586\n",
            "Epoch 95/250\n",
            "45/45 [==============================] - 0s 3ms/step - loss: 1.2949 - accuracy: 0.5813 - val_loss: 0.9903 - val_accuracy: 0.5631\n",
            "Epoch 96/250\n",
            "45/45 [==============================] - 0s 3ms/step - loss: 1.2916 - accuracy: 0.5648 - val_loss: 0.9968 - val_accuracy: 0.5766\n",
            "Epoch 97/250\n",
            "45/45 [==============================] - 0s 3ms/step - loss: 1.2919 - accuracy: 0.5316 - val_loss: 1.0006 - val_accuracy: 0.5495\n",
            "Epoch 98/250\n",
            "45/45 [==============================] - 0s 3ms/step - loss: 1.3386 - accuracy: 0.5346 - val_loss: 0.9955 - val_accuracy: 0.5721\n",
            "Epoch 99/250\n",
            "45/45 [==============================] - 0s 2ms/step - loss: 1.2690 - accuracy: 0.5663 - val_loss: 0.9935 - val_accuracy: 0.5766\n",
            "Epoch 100/250\n",
            "45/45 [==============================] - 0s 3ms/step - loss: 1.2875 - accuracy: 0.5542 - val_loss: 0.9862 - val_accuracy: 0.5721\n",
            "Epoch 101/250\n",
            "45/45 [==============================] - 0s 3ms/step - loss: 1.2569 - accuracy: 0.5452 - val_loss: 0.9972 - val_accuracy: 0.5631\n",
            "Epoch 102/250\n",
            "45/45 [==============================] - 0s 3ms/step - loss: 1.3189 - accuracy: 0.5241 - val_loss: 0.9977 - val_accuracy: 0.5631\n",
            "Epoch 103/250\n",
            "45/45 [==============================] - 0s 3ms/step - loss: 1.2708 - accuracy: 0.5527 - val_loss: 0.9994 - val_accuracy: 0.5450\n",
            "Epoch 104/250\n",
            "45/45 [==============================] - 0s 3ms/step - loss: 1.2910 - accuracy: 0.5422 - val_loss: 0.9955 - val_accuracy: 0.5405\n",
            "Epoch 105/250\n",
            "45/45 [==============================] - 0s 2ms/step - loss: 1.2956 - accuracy: 0.5572 - val_loss: 0.9951 - val_accuracy: 0.5586\n",
            "Epoch 106/250\n",
            "45/45 [==============================] - 0s 3ms/step - loss: 1.2701 - accuracy: 0.5512 - val_loss: 0.9901 - val_accuracy: 0.5721\n",
            "Epoch 107/250\n",
            "45/45 [==============================] - 0s 3ms/step - loss: 1.2526 - accuracy: 0.5557 - val_loss: 0.9924 - val_accuracy: 0.5405\n",
            "Epoch 108/250\n",
            "45/45 [==============================] - 0s 3ms/step - loss: 1.3260 - accuracy: 0.5060 - val_loss: 0.9830 - val_accuracy: 0.5631\n",
            "Epoch 109/250\n",
            "45/45 [==============================] - 0s 4ms/step - loss: 1.2855 - accuracy: 0.5181 - val_loss: 0.9851 - val_accuracy: 0.5721\n",
            "Epoch 110/250\n",
            "45/45 [==============================] - 0s 3ms/step - loss: 1.2780 - accuracy: 0.5452 - val_loss: 0.9831 - val_accuracy: 0.5495\n",
            "Epoch 111/250\n",
            "45/45 [==============================] - 0s 3ms/step - loss: 1.2777 - accuracy: 0.5542 - val_loss: 0.9797 - val_accuracy: 0.5586\n",
            "Epoch 112/250\n",
            "45/45 [==============================] - 0s 3ms/step - loss: 1.2728 - accuracy: 0.5723 - val_loss: 0.9764 - val_accuracy: 0.5541\n",
            "Epoch 113/250\n",
            "45/45 [==============================] - 0s 3ms/step - loss: 1.3072 - accuracy: 0.5678 - val_loss: 0.9751 - val_accuracy: 0.5586\n",
            "Epoch 114/250\n",
            "45/45 [==============================] - 0s 3ms/step - loss: 1.2573 - accuracy: 0.5407 - val_loss: 0.9734 - val_accuracy: 0.5721\n",
            "Epoch 115/250\n",
            "45/45 [==============================] - 0s 3ms/step - loss: 1.2415 - accuracy: 0.5452 - val_loss: 0.9726 - val_accuracy: 0.5631\n",
            "Epoch 116/250\n",
            "45/45 [==============================] - 0s 2ms/step - loss: 1.2211 - accuracy: 0.5904 - val_loss: 0.9758 - val_accuracy: 0.5586\n",
            "Epoch 117/250\n",
            "45/45 [==============================] - 0s 3ms/step - loss: 1.2968 - accuracy: 0.5512 - val_loss: 0.9733 - val_accuracy: 0.5631\n",
            "Epoch 118/250\n",
            "45/45 [==============================] - 0s 4ms/step - loss: 1.2374 - accuracy: 0.5542 - val_loss: 0.9764 - val_accuracy: 0.5631\n",
            "Epoch 119/250\n",
            "45/45 [==============================] - 0s 3ms/step - loss: 1.2696 - accuracy: 0.5392 - val_loss: 0.9748 - val_accuracy: 0.5721\n",
            "Epoch 120/250\n",
            "45/45 [==============================] - 0s 3ms/step - loss: 1.2730 - accuracy: 0.5437 - val_loss: 0.9648 - val_accuracy: 0.5631\n",
            "Epoch 121/250\n",
            "45/45 [==============================] - 0s 3ms/step - loss: 1.2594 - accuracy: 0.5708 - val_loss: 0.9757 - val_accuracy: 0.5541\n",
            "Epoch 122/250\n",
            "45/45 [==============================] - 0s 3ms/step - loss: 1.2631 - accuracy: 0.5437 - val_loss: 0.9716 - val_accuracy: 0.5676\n",
            "Epoch 123/250\n",
            "45/45 [==============================] - 0s 3ms/step - loss: 1.2467 - accuracy: 0.5542 - val_loss: 0.9647 - val_accuracy: 0.5856\n",
            "Epoch 124/250\n",
            "45/45 [==============================] - 0s 3ms/step - loss: 1.2414 - accuracy: 0.5557 - val_loss: 0.9675 - val_accuracy: 0.5766\n",
            "Epoch 125/250\n",
            "45/45 [==============================] - 0s 3ms/step - loss: 1.2206 - accuracy: 0.5527 - val_loss: 0.9678 - val_accuracy: 0.5631\n",
            "Epoch 126/250\n",
            "45/45 [==============================] - 0s 3ms/step - loss: 1.2714 - accuracy: 0.5572 - val_loss: 0.9677 - val_accuracy: 0.5766\n",
            "Epoch 127/250\n",
            "45/45 [==============================] - 0s 3ms/step - loss: 1.2277 - accuracy: 0.5617 - val_loss: 0.9719 - val_accuracy: 0.5586\n",
            "Epoch 128/250\n",
            "45/45 [==============================] - 0s 3ms/step - loss: 1.2798 - accuracy: 0.5708 - val_loss: 0.9617 - val_accuracy: 0.5631\n",
            "Epoch 129/250\n",
            "45/45 [==============================] - 0s 3ms/step - loss: 1.2961 - accuracy: 0.5467 - val_loss: 0.9625 - val_accuracy: 0.5495\n",
            "Epoch 130/250\n",
            "45/45 [==============================] - 0s 3ms/step - loss: 1.2666 - accuracy: 0.5497 - val_loss: 0.9633 - val_accuracy: 0.5676\n",
            "Epoch 131/250\n",
            "45/45 [==============================] - 0s 3ms/step - loss: 1.2547 - accuracy: 0.5392 - val_loss: 0.9672 - val_accuracy: 0.5721\n",
            "Epoch 132/250\n",
            "45/45 [==============================] - 0s 3ms/step - loss: 1.2570 - accuracy: 0.5542 - val_loss: 0.9685 - val_accuracy: 0.5901\n",
            "Epoch 133/250\n",
            "45/45 [==============================] - 0s 3ms/step - loss: 1.1746 - accuracy: 0.5693 - val_loss: 0.9680 - val_accuracy: 0.5721\n",
            "Epoch 134/250\n",
            "45/45 [==============================] - 0s 3ms/step - loss: 1.2510 - accuracy: 0.5602 - val_loss: 0.9670 - val_accuracy: 0.5811\n",
            "Epoch 135/250\n",
            "45/45 [==============================] - 0s 3ms/step - loss: 1.2511 - accuracy: 0.5422 - val_loss: 0.9650 - val_accuracy: 0.5676\n",
            "Epoch 136/250\n",
            "45/45 [==============================] - 0s 3ms/step - loss: 1.2635 - accuracy: 0.5798 - val_loss: 0.9642 - val_accuracy: 0.5766\n",
            "Epoch 137/250\n",
            "45/45 [==============================] - 0s 3ms/step - loss: 1.2079 - accuracy: 0.5798 - val_loss: 0.9646 - val_accuracy: 0.5676\n",
            "Epoch 138/250\n",
            "45/45 [==============================] - 0s 3ms/step - loss: 1.2385 - accuracy: 0.5301 - val_loss: 0.9650 - val_accuracy: 0.5811\n",
            "Epoch 139/250\n",
            "45/45 [==============================] - 0s 3ms/step - loss: 1.2464 - accuracy: 0.5512 - val_loss: 0.9655 - val_accuracy: 0.5811\n",
            "Epoch 140/250\n",
            "45/45 [==============================] - 0s 3ms/step - loss: 1.2413 - accuracy: 0.5648 - val_loss: 0.9659 - val_accuracy: 0.5766\n",
            "Epoch 141/250\n",
            "45/45 [==============================] - 0s 3ms/step - loss: 1.2586 - accuracy: 0.5331 - val_loss: 0.9723 - val_accuracy: 0.5766\n",
            "Epoch 142/250\n",
            "45/45 [==============================] - 0s 3ms/step - loss: 1.2525 - accuracy: 0.5392 - val_loss: 0.9700 - val_accuracy: 0.5631\n",
            "Epoch 143/250\n",
            "45/45 [==============================] - 0s 3ms/step - loss: 1.2512 - accuracy: 0.5497 - val_loss: 0.9682 - val_accuracy: 0.5676\n",
            "Epoch 144/250\n",
            "45/45 [==============================] - 0s 3ms/step - loss: 1.2281 - accuracy: 0.5678 - val_loss: 0.9695 - val_accuracy: 0.5811\n",
            "Epoch 145/250\n",
            "45/45 [==============================] - 0s 2ms/step - loss: 1.2298 - accuracy: 0.5663 - val_loss: 0.9732 - val_accuracy: 0.5541\n",
            "Epoch 146/250\n",
            "45/45 [==============================] - 0s 3ms/step - loss: 1.2320 - accuracy: 0.5723 - val_loss: 0.9741 - val_accuracy: 0.5676\n",
            "Epoch 147/250\n",
            "45/45 [==============================] - 0s 3ms/step - loss: 1.2055 - accuracy: 0.5422 - val_loss: 0.9702 - val_accuracy: 0.5541\n",
            "Epoch 148/250\n",
            "45/45 [==============================] - 0s 3ms/step - loss: 1.2811 - accuracy: 0.5361 - val_loss: 0.9655 - val_accuracy: 0.5766\n",
            "Epoch 149/250\n",
            "45/45 [==============================] - 0s 3ms/step - loss: 1.2815 - accuracy: 0.5407 - val_loss: 0.9634 - val_accuracy: 0.5811\n",
            "Epoch 150/250\n",
            "45/45 [==============================] - 0s 3ms/step - loss: 1.2632 - accuracy: 0.5482 - val_loss: 0.9739 - val_accuracy: 0.5766\n",
            "Epoch 151/250\n",
            "45/45 [==============================] - 0s 3ms/step - loss: 1.2205 - accuracy: 0.5602 - val_loss: 0.9741 - val_accuracy: 0.5676\n",
            "Epoch 152/250\n",
            "45/45 [==============================] - 0s 3ms/step - loss: 1.1789 - accuracy: 0.5633 - val_loss: 0.9689 - val_accuracy: 0.5766\n",
            "Epoch 153/250\n",
            "45/45 [==============================] - 0s 4ms/step - loss: 1.2530 - accuracy: 0.5557 - val_loss: 0.9676 - val_accuracy: 0.5676\n",
            "Epoch 154/250\n",
            "45/45 [==============================] - 0s 3ms/step - loss: 1.2446 - accuracy: 0.5889 - val_loss: 0.9656 - val_accuracy: 0.5946\n",
            "Epoch 155/250\n",
            "45/45 [==============================] - 0s 3ms/step - loss: 1.2221 - accuracy: 0.5452 - val_loss: 0.9757 - val_accuracy: 0.5811\n",
            "Epoch 156/250\n",
            "45/45 [==============================] - 0s 3ms/step - loss: 1.2178 - accuracy: 0.5633 - val_loss: 0.9747 - val_accuracy: 0.5676\n",
            "Epoch 157/250\n",
            "45/45 [==============================] - 0s 3ms/step - loss: 1.2131 - accuracy: 0.5663 - val_loss: 0.9667 - val_accuracy: 0.5811\n",
            "Epoch 158/250\n",
            "45/45 [==============================] - 0s 3ms/step - loss: 1.2590 - accuracy: 0.5422 - val_loss: 0.9591 - val_accuracy: 0.5811\n",
            "Epoch 159/250\n",
            "45/45 [==============================] - 0s 3ms/step - loss: 1.2230 - accuracy: 0.5497 - val_loss: 0.9583 - val_accuracy: 0.5721\n",
            "Epoch 160/250\n",
            "45/45 [==============================] - 0s 3ms/step - loss: 1.1789 - accuracy: 0.5798 - val_loss: 0.9579 - val_accuracy: 0.5631\n",
            "Epoch 161/250\n",
            "45/45 [==============================] - 0s 3ms/step - loss: 1.2057 - accuracy: 0.5723 - val_loss: 0.9681 - val_accuracy: 0.5676\n",
            "Epoch 162/250\n",
            "45/45 [==============================] - 0s 3ms/step - loss: 1.2160 - accuracy: 0.5633 - val_loss: 0.9615 - val_accuracy: 0.5676\n",
            "Epoch 163/250\n",
            "45/45 [==============================] - 0s 3ms/step - loss: 1.2069 - accuracy: 0.5934 - val_loss: 0.9673 - val_accuracy: 0.5811\n",
            "Epoch 164/250\n",
            "45/45 [==============================] - 0s 4ms/step - loss: 1.2114 - accuracy: 0.5437 - val_loss: 0.9683 - val_accuracy: 0.5811\n",
            "Epoch 165/250\n",
            "45/45 [==============================] - 0s 3ms/step - loss: 1.1564 - accuracy: 0.5678 - val_loss: 0.9713 - val_accuracy: 0.5631\n",
            "Epoch 166/250\n",
            "45/45 [==============================] - 0s 3ms/step - loss: 1.2092 - accuracy: 0.5813 - val_loss: 0.9738 - val_accuracy: 0.5676\n",
            "Epoch 167/250\n",
            "45/45 [==============================] - 0s 3ms/step - loss: 1.2185 - accuracy: 0.5602 - val_loss: 0.9688 - val_accuracy: 0.5631\n",
            "Epoch 168/250\n",
            "45/45 [==============================] - 0s 3ms/step - loss: 1.1910 - accuracy: 0.5467 - val_loss: 0.9685 - val_accuracy: 0.5631\n",
            "Epoch 169/250\n",
            "45/45 [==============================] - 0s 3ms/step - loss: 1.2126 - accuracy: 0.5377 - val_loss: 0.9687 - val_accuracy: 0.5856\n",
            "Epoch 170/250\n",
            "45/45 [==============================] - 0s 3ms/step - loss: 1.1625 - accuracy: 0.5828 - val_loss: 0.9686 - val_accuracy: 0.5631\n",
            "Epoch 171/250\n",
            "45/45 [==============================] - 0s 3ms/step - loss: 1.1917 - accuracy: 0.5708 - val_loss: 0.9701 - val_accuracy: 0.5811\n",
            "Epoch 172/250\n",
            "45/45 [==============================] - 0s 3ms/step - loss: 1.1733 - accuracy: 0.5768 - val_loss: 0.9673 - val_accuracy: 0.5766\n",
            "Epoch 173/250\n",
            "45/45 [==============================] - 0s 3ms/step - loss: 1.2035 - accuracy: 0.5617 - val_loss: 0.9615 - val_accuracy: 0.5766\n",
            "Epoch 174/250\n",
            "45/45 [==============================] - 0s 3ms/step - loss: 1.1989 - accuracy: 0.5693 - val_loss: 0.9662 - val_accuracy: 0.5901\n",
            "Epoch 175/250\n",
            "45/45 [==============================] - 0s 3ms/step - loss: 1.2085 - accuracy: 0.5512 - val_loss: 0.9642 - val_accuracy: 0.5766\n",
            "Epoch 176/250\n",
            "45/45 [==============================] - 0s 3ms/step - loss: 1.1914 - accuracy: 0.5587 - val_loss: 0.9580 - val_accuracy: 0.5631\n",
            "Epoch 177/250\n",
            "45/45 [==============================] - 0s 3ms/step - loss: 1.1943 - accuracy: 0.5678 - val_loss: 0.9587 - val_accuracy: 0.5631\n",
            "Epoch 178/250\n",
            "45/45 [==============================] - 0s 4ms/step - loss: 1.1858 - accuracy: 0.5693 - val_loss: 0.9576 - val_accuracy: 0.5721\n",
            "Epoch 179/250\n",
            "45/45 [==============================] - 0s 3ms/step - loss: 1.1551 - accuracy: 0.5934 - val_loss: 0.9558 - val_accuracy: 0.5721\n",
            "Epoch 180/250\n",
            "45/45 [==============================] - 0s 3ms/step - loss: 1.2112 - accuracy: 0.5512 - val_loss: 0.9534 - val_accuracy: 0.5676\n",
            "Epoch 181/250\n",
            "45/45 [==============================] - 0s 3ms/step - loss: 1.1698 - accuracy: 0.5617 - val_loss: 0.9535 - val_accuracy: 0.5856\n",
            "Epoch 182/250\n",
            "45/45 [==============================] - 0s 3ms/step - loss: 1.2114 - accuracy: 0.5633 - val_loss: 0.9551 - val_accuracy: 0.5721\n",
            "Epoch 183/250\n",
            "45/45 [==============================] - 0s 3ms/step - loss: 1.1535 - accuracy: 0.5813 - val_loss: 0.9588 - val_accuracy: 0.5541\n",
            "Epoch 184/250\n",
            "45/45 [==============================] - 0s 3ms/step - loss: 1.1807 - accuracy: 0.5572 - val_loss: 0.9657 - val_accuracy: 0.5631\n",
            "Epoch 185/250\n",
            "45/45 [==============================] - 0s 3ms/step - loss: 1.1805 - accuracy: 0.5587 - val_loss: 0.9515 - val_accuracy: 0.5766\n",
            "Epoch 186/250\n",
            "45/45 [==============================] - 0s 2ms/step - loss: 1.1686 - accuracy: 0.5633 - val_loss: 0.9484 - val_accuracy: 0.5766\n",
            "Epoch 187/250\n",
            "45/45 [==============================] - 0s 3ms/step - loss: 1.1643 - accuracy: 0.5768 - val_loss: 0.9536 - val_accuracy: 0.5721\n",
            "Epoch 188/250\n",
            "45/45 [==============================] - 0s 3ms/step - loss: 1.2145 - accuracy: 0.5527 - val_loss: 0.9547 - val_accuracy: 0.5586\n",
            "Epoch 189/250\n",
            "45/45 [==============================] - 0s 3ms/step - loss: 1.1794 - accuracy: 0.5663 - val_loss: 0.9641 - val_accuracy: 0.5676\n",
            "Epoch 190/250\n",
            "45/45 [==============================] - 0s 3ms/step - loss: 1.1646 - accuracy: 0.5587 - val_loss: 0.9548 - val_accuracy: 0.5586\n",
            "Epoch 191/250\n",
            "45/45 [==============================] - 0s 3ms/step - loss: 1.1837 - accuracy: 0.5783 - val_loss: 0.9556 - val_accuracy: 0.5541\n",
            "Epoch 192/250\n",
            "45/45 [==============================] - 0s 3ms/step - loss: 1.1600 - accuracy: 0.5678 - val_loss: 0.9597 - val_accuracy: 0.5631\n",
            "Epoch 193/250\n",
            "45/45 [==============================] - 0s 3ms/step - loss: 1.1856 - accuracy: 0.5678 - val_loss: 0.9527 - val_accuracy: 0.5811\n",
            "Epoch 194/250\n",
            "45/45 [==============================] - 0s 3ms/step - loss: 1.1278 - accuracy: 0.5919 - val_loss: 0.9507 - val_accuracy: 0.5721\n",
            "Epoch 195/250\n",
            "45/45 [==============================] - 0s 3ms/step - loss: 1.2005 - accuracy: 0.5648 - val_loss: 0.9550 - val_accuracy: 0.5721\n",
            "Epoch 196/250\n",
            "45/45 [==============================] - 0s 3ms/step - loss: 1.1997 - accuracy: 0.5497 - val_loss: 0.9582 - val_accuracy: 0.5721\n",
            "Epoch 197/250\n",
            "45/45 [==============================] - 0s 3ms/step - loss: 1.1802 - accuracy: 0.5482 - val_loss: 0.9504 - val_accuracy: 0.5721\n",
            "Epoch 198/250\n",
            "45/45 [==============================] - 0s 3ms/step - loss: 1.1424 - accuracy: 0.5663 - val_loss: 0.9526 - val_accuracy: 0.5631\n",
            "Epoch 199/250\n",
            "45/45 [==============================] - 0s 3ms/step - loss: 1.1713 - accuracy: 0.5512 - val_loss: 0.9603 - val_accuracy: 0.5541\n",
            "Epoch 200/250\n",
            "45/45 [==============================] - 0s 3ms/step - loss: 1.1576 - accuracy: 0.5934 - val_loss: 0.9609 - val_accuracy: 0.5631\n",
            "Epoch 201/250\n",
            "45/45 [==============================] - 0s 3ms/step - loss: 1.2237 - accuracy: 0.5813 - val_loss: 0.9603 - val_accuracy: 0.5541\n",
            "Epoch 202/250\n",
            "45/45 [==============================] - 0s 3ms/step - loss: 1.1346 - accuracy: 0.5753 - val_loss: 0.9647 - val_accuracy: 0.5631\n",
            "Epoch 203/250\n",
            "45/45 [==============================] - 0s 3ms/step - loss: 1.1767 - accuracy: 0.5633 - val_loss: 0.9644 - val_accuracy: 0.5766\n",
            "Epoch 204/250\n",
            "45/45 [==============================] - 0s 4ms/step - loss: 1.1747 - accuracy: 0.5617 - val_loss: 0.9593 - val_accuracy: 0.5766\n",
            "Epoch 205/250\n",
            "45/45 [==============================] - 0s 3ms/step - loss: 1.1292 - accuracy: 0.5738 - val_loss: 0.9537 - val_accuracy: 0.5721\n",
            "Epoch 206/250\n",
            "45/45 [==============================] - 0s 3ms/step - loss: 1.1836 - accuracy: 0.5437 - val_loss: 0.9569 - val_accuracy: 0.5676\n",
            "Epoch 207/250\n",
            "45/45 [==============================] - 0s 3ms/step - loss: 1.1572 - accuracy: 0.5633 - val_loss: 0.9542 - val_accuracy: 0.5405\n",
            "Epoch 208/250\n",
            "45/45 [==============================] - 0s 3ms/step - loss: 1.1947 - accuracy: 0.5512 - val_loss: 0.9574 - val_accuracy: 0.5360\n",
            "Epoch 209/250\n",
            "45/45 [==============================] - 0s 3ms/step - loss: 1.2012 - accuracy: 0.5482 - val_loss: 0.9483 - val_accuracy: 0.5360\n",
            "Epoch 210/250\n",
            "45/45 [==============================] - 0s 3ms/step - loss: 1.1401 - accuracy: 0.5648 - val_loss: 0.9523 - val_accuracy: 0.5586\n",
            "Epoch 211/250\n",
            "45/45 [==============================] - 0s 3ms/step - loss: 1.1690 - accuracy: 0.5482 - val_loss: 0.9520 - val_accuracy: 0.5586\n",
            "Epoch 212/250\n",
            "45/45 [==============================] - 0s 4ms/step - loss: 1.1636 - accuracy: 0.5828 - val_loss: 0.9503 - val_accuracy: 0.5766\n",
            "Epoch 213/250\n",
            "45/45 [==============================] - 0s 3ms/step - loss: 1.1609 - accuracy: 0.5617 - val_loss: 0.9481 - val_accuracy: 0.5586\n",
            "Epoch 214/250\n",
            "45/45 [==============================] - 0s 3ms/step - loss: 1.1699 - accuracy: 0.5813 - val_loss: 0.9530 - val_accuracy: 0.5495\n",
            "Epoch 215/250\n",
            "45/45 [==============================] - 0s 3ms/step - loss: 1.1577 - accuracy: 0.5828 - val_loss: 0.9556 - val_accuracy: 0.5450\n",
            "Epoch 216/250\n",
            "45/45 [==============================] - 0s 2ms/step - loss: 1.1182 - accuracy: 0.5873 - val_loss: 0.9624 - val_accuracy: 0.5631\n",
            "Epoch 217/250\n",
            "45/45 [==============================] - 0s 3ms/step - loss: 1.1522 - accuracy: 0.5904 - val_loss: 0.9535 - val_accuracy: 0.5676\n",
            "Epoch 218/250\n",
            "45/45 [==============================] - 0s 3ms/step - loss: 1.1576 - accuracy: 0.6054 - val_loss: 0.9652 - val_accuracy: 0.5631\n",
            "Epoch 219/250\n",
            "45/45 [==============================] - 0s 3ms/step - loss: 1.1550 - accuracy: 0.5602 - val_loss: 0.9540 - val_accuracy: 0.5586\n",
            "Epoch 220/250\n",
            "45/45 [==============================] - 0s 3ms/step - loss: 1.1328 - accuracy: 0.5813 - val_loss: 0.9531 - val_accuracy: 0.5676\n",
            "Epoch 221/250\n",
            "45/45 [==============================] - 0s 3ms/step - loss: 1.1756 - accuracy: 0.5783 - val_loss: 0.9535 - val_accuracy: 0.5721\n",
            "Epoch 222/250\n",
            "45/45 [==============================] - 0s 3ms/step - loss: 1.1537 - accuracy: 0.5723 - val_loss: 0.9462 - val_accuracy: 0.5541\n",
            "Epoch 223/250\n",
            "45/45 [==============================] - 0s 3ms/step - loss: 1.1721 - accuracy: 0.5587 - val_loss: 0.9443 - val_accuracy: 0.5586\n",
            "Epoch 224/250\n",
            "45/45 [==============================] - 0s 3ms/step - loss: 1.1491 - accuracy: 0.5994 - val_loss: 0.9483 - val_accuracy: 0.5676\n",
            "Epoch 225/250\n",
            "45/45 [==============================] - 0s 3ms/step - loss: 1.1164 - accuracy: 0.5828 - val_loss: 0.9493 - val_accuracy: 0.5676\n",
            "Epoch 226/250\n",
            "45/45 [==============================] - 0s 3ms/step - loss: 1.1223 - accuracy: 0.5904 - val_loss: 0.9497 - val_accuracy: 0.5631\n",
            "Epoch 227/250\n",
            "45/45 [==============================] - 0s 3ms/step - loss: 1.1426 - accuracy: 0.5753 - val_loss: 0.9511 - val_accuracy: 0.5541\n",
            "Epoch 228/250\n",
            "45/45 [==============================] - 0s 3ms/step - loss: 1.1103 - accuracy: 0.5873 - val_loss: 0.9526 - val_accuracy: 0.5450\n",
            "Epoch 229/250\n",
            "45/45 [==============================] - 0s 3ms/step - loss: 1.0949 - accuracy: 0.6024 - val_loss: 0.9498 - val_accuracy: 0.5586\n",
            "Epoch 230/250\n",
            "45/45 [==============================] - 0s 3ms/step - loss: 1.1694 - accuracy: 0.5331 - val_loss: 0.9491 - val_accuracy: 0.5541\n",
            "Epoch 231/250\n",
            "45/45 [==============================] - 0s 3ms/step - loss: 1.1128 - accuracy: 0.5904 - val_loss: 0.9533 - val_accuracy: 0.5586\n",
            "Epoch 232/250\n",
            "45/45 [==============================] - 0s 3ms/step - loss: 1.1527 - accuracy: 0.5783 - val_loss: 0.9519 - val_accuracy: 0.5586\n",
            "Epoch 233/250\n",
            "45/45 [==============================] - 0s 4ms/step - loss: 1.1567 - accuracy: 0.5663 - val_loss: 0.9514 - val_accuracy: 0.5631\n",
            "Epoch 234/250\n",
            "45/45 [==============================] - 0s 3ms/step - loss: 1.1605 - accuracy: 0.5753 - val_loss: 0.9555 - val_accuracy: 0.5586\n",
            "Epoch 235/250\n",
            "45/45 [==============================] - 0s 3ms/step - loss: 1.1429 - accuracy: 0.5708 - val_loss: 0.9516 - val_accuracy: 0.5495\n",
            "Epoch 236/250\n",
            "45/45 [==============================] - 0s 3ms/step - loss: 1.0663 - accuracy: 0.6099 - val_loss: 0.9476 - val_accuracy: 0.5541\n",
            "Epoch 237/250\n",
            "45/45 [==============================] - 0s 3ms/step - loss: 1.1525 - accuracy: 0.5828 - val_loss: 0.9498 - val_accuracy: 0.5586\n",
            "Epoch 238/250\n",
            "45/45 [==============================] - 0s 3ms/step - loss: 1.1371 - accuracy: 0.5813 - val_loss: 0.9536 - val_accuracy: 0.5450\n",
            "Epoch 239/250\n",
            "45/45 [==============================] - 0s 3ms/step - loss: 1.1291 - accuracy: 0.6009 - val_loss: 0.9520 - val_accuracy: 0.5586\n",
            "Epoch 240/250\n",
            "45/45 [==============================] - 0s 3ms/step - loss: 1.1242 - accuracy: 0.5919 - val_loss: 0.9601 - val_accuracy: 0.5586\n",
            "Epoch 241/250\n",
            "45/45 [==============================] - 0s 3ms/step - loss: 1.1362 - accuracy: 0.5708 - val_loss: 0.9571 - val_accuracy: 0.5495\n",
            "Epoch 242/250\n",
            "45/45 [==============================] - 0s 3ms/step - loss: 1.1415 - accuracy: 0.5813 - val_loss: 0.9572 - val_accuracy: 0.5721\n",
            "Epoch 243/250\n",
            "45/45 [==============================] - 0s 3ms/step - loss: 1.1284 - accuracy: 0.5843 - val_loss: 0.9611 - val_accuracy: 0.5631\n",
            "Epoch 244/250\n",
            "45/45 [==============================] - 0s 3ms/step - loss: 1.1651 - accuracy: 0.5437 - val_loss: 0.9630 - val_accuracy: 0.5541\n",
            "Epoch 245/250\n",
            "45/45 [==============================] - 0s 3ms/step - loss: 1.1444 - accuracy: 0.5648 - val_loss: 0.9598 - val_accuracy: 0.5541\n",
            "Epoch 246/250\n",
            "45/45 [==============================] - 0s 3ms/step - loss: 1.1049 - accuracy: 0.6054 - val_loss: 0.9619 - val_accuracy: 0.5495\n",
            "Epoch 247/250\n",
            "45/45 [==============================] - 0s 3ms/step - loss: 1.1062 - accuracy: 0.6039 - val_loss: 0.9606 - val_accuracy: 0.5405\n",
            "Epoch 248/250\n",
            "45/45 [==============================] - 0s 3ms/step - loss: 1.1318 - accuracy: 0.5663 - val_loss: 0.9596 - val_accuracy: 0.5405\n",
            "Epoch 249/250\n",
            "45/45 [==============================] - 0s 3ms/step - loss: 1.1005 - accuracy: 0.5873 - val_loss: 0.9516 - val_accuracy: 0.5450\n",
            "Epoch 250/250\n",
            "45/45 [==============================] - 0s 3ms/step - loss: 1.0718 - accuracy: 0.6054 - val_loss: 0.9613 - val_accuracy: 0.5450\n"
          ]
        }
      ]
    },
    {
      "cell_type": "markdown",
      "metadata": {
        "id": "JGEoCgFDgC3P"
      },
      "source": [
        "### Plot Loss and Accuracy"
      ]
    },
    {
      "cell_type": "code",
      "metadata": {
        "colab": {
          "base_uri": "https://localhost:8080/",
          "height": 295
        },
        "id": "2xaJSLowDawG",
        "outputId": "0c7f062e-ecad-41c0-9f23-448033a99a97"
      },
      "source": [
        "plt.plot(history.history['accuracy'])\n",
        "plt.plot(history.history['val_accuracy'])\n",
        "plt.title('model accuracy')\n",
        "plt.ylabel('accuracy')\n",
        "plt.xlabel('epoch')\n",
        "plt.legend(['train', 'test'], loc='upper left')\n",
        "plt.show()"
      ],
      "execution_count": 2312,
      "outputs": [
        {
          "output_type": "display_data",
          "data": {
            "image/png": "[encoded data removed]",
            "text/plain": [
              "<Figure size 432x288 with 1 Axes>"
            ]
          },
          "metadata": {
            "needs_background": "light"
          }
        }
      ]
    },
    {
      "cell_type": "code",
      "metadata": {
        "colab": {
          "base_uri": "https://localhost:8080/",
          "height": 295
        },
        "id": "lzNLa-f3EPMD",
        "outputId": "523c6acc-b75a-44c4-dd8f-663a473d8f97"
      },
      "source": [
        "plt.plot(history.history['loss'])\n",
        "plt.plot(history.history['val_loss'])\n",
        "plt.title('model loss')\n",
        "plt.ylabel('loss')\n",
        "plt.xlabel('epoch')\n",
        "plt.legend(['train', 'test'], loc='upper right')\n",
        "plt.show()"
      ],
      "execution_count": 2313,
      "outputs": [
        {
          "output_type": "display_data",
          "data": {
            "image/png": "[encoded data removed]",
            "text/plain": [
              "<Figure size 432x288 with 1 Axes>"
            ]
          },
          "metadata": {
            "needs_background": "light"
          }
        }
      ]
    },
    {
      "cell_type": "code",
      "metadata": {
        "id": "fz4UzJt7ZVz2"
      },
      "source": [
        "y_pred = model.predict(X_test_scaled)"
      ],
      "execution_count": 2314,
      "outputs": []
    },
    {
      "cell_type": "code",
      "metadata": {
        "colab": {
          "base_uri": "https://localhost:8080/"
        },
        "id": "93mpvIEQdhW-",
        "outputId": "7330827e-9ac4-470b-a130-784229484acb"
      },
      "source": [
        "y_pred"
      ],
      "execution_count": 2315,
      "outputs": [
        {
          "output_type": "execute_result",
          "data": {
            "text/plain": [
              "array([[3.2859614e-01, 4.9043036e-01, 1.8050055e-01, 4.7299737e-04,\n",
              "        2.4561689e-18],\n",
              "       [7.8451060e-34, 7.5720240e-16, 5.0062488e-05, 3.0900383e-02,\n",
              "        9.6904951e-01],\n",
              "       [5.8741912e-02, 4.6043828e-01, 4.4049177e-01, 4.0327810e-02,\n",
              "        1.8027976e-07],\n",
              "       ...,\n",
              "       [3.2136846e-02, 4.1759324e-01, 4.8511007e-01, 6.5157287e-02,\n",
              "        2.5407548e-06],\n",
              "       [7.8096226e-02, 5.0484908e-01, 4.0248093e-01, 1.4573727e-02,\n",
              "        2.9153271e-10],\n",
              "       [4.9167671e-20, 1.3553197e-08, 2.2409333e-02, 3.4261683e-01,\n",
              "        6.3497376e-01]], dtype=float32)"
            ]
          },
          "metadata": {},
          "execution_count": 2315
        }
      ]
    },
    {
      "cell_type": "code",
      "metadata": {
        "id": "KXK9zwn4ZqUG"
      },
      "source": [
        "y_pred = np.argmax(y_pred, axis=1)"
      ],
      "execution_count": 2316,
      "outputs": []
    },
    {
      "cell_type": "code",
      "metadata": {
        "id": "mTtfvvVge0QO"
      },
      "source": [
        "y_pred = y_pred + 1 # Ratings are from 1 to 5"
      ],
      "execution_count": 2317,
      "outputs": []
    },
    {
      "cell_type": "code",
      "metadata": {
        "colab": {
          "base_uri": "https://localhost:8080/"
        },
        "id": "JAySTOOSe5k0",
        "outputId": "fa5f55d1-79c7-4a1c-d560-1b269aba0a95"
      },
      "source": [
        "y_pred"
      ],
      "execution_count": 2318,
      "outputs": [
        {
          "output_type": "execute_result",
          "data": {
            "text/plain": [
              "array([2, 5, 2, 3, 3, 3, 3, 4, 3, 5, 4, 3, 3, 5, 3, 2, 1, 4, 3, 5, 5, 3,\n",
              "       2, 2, 5, 3, 4, 3, 4, 5, 1, 2, 4, 3, 3, 1, 2, 5, 2, 3, 4, 1, 5, 3,\n",
              "       4, 4, 2, 4, 2, 2, 3, 2, 4, 3, 3, 3, 1, 5, 2, 5, 3, 4, 5, 5, 2, 3,\n",
              "       3, 5, 3, 3, 2, 2, 3, 4, 3, 3, 4, 2, 4, 4, 4, 3, 4, 3, 2, 3, 3, 3,\n",
              "       3, 4, 1, 4, 4, 3, 3, 2, 4, 3, 1, 2, 3, 3, 5, 2, 3, 4, 5, 3, 3, 1,\n",
              "       3, 2, 3, 5, 4, 5, 5, 3, 2, 3, 3, 2, 3, 2, 4, 4, 4, 3, 4, 4, 5, 3,\n",
              "       4, 2, 2, 4, 3, 4, 1, 3, 5, 2, 4, 1, 2, 3, 2, 3, 4, 5, 4, 3, 3, 1,\n",
              "       2, 2, 3, 3, 3, 3, 4, 3, 3, 2, 5, 5, 1, 3, 3, 3, 2, 3, 2, 3, 4, 3,\n",
              "       2, 5, 3, 3, 3, 5, 3, 2, 4, 4, 3, 3, 5, 3, 5, 1, 2, 3, 3, 3, 3, 5,\n",
              "       5, 4, 3, 3, 4, 5, 2, 2, 4, 4, 4, 3, 4, 3, 4, 2, 3, 3, 2, 3, 5, 2,\n",
              "       4, 3, 3, 3, 2, 4, 3, 2, 3, 5, 4, 3, 3, 3, 4, 2, 4, 1, 4, 5, 4, 3,\n",
              "       2, 5, 3, 4, 3, 1, 1, 2, 5, 2, 4, 4, 4, 4, 1, 2, 3, 2, 2, 3, 3, 3,\n",
              "       1, 5, 3, 4, 1, 3, 2, 2, 2, 4, 4, 3, 1, 4, 2, 3, 4, 4, 4, 4, 1, 2,\n",
              "       3, 3, 2, 2, 3, 1, 2, 3, 2, 5])"
            ]
          },
          "metadata": {},
          "execution_count": 2318
        }
      ]
    },
    {
      "cell_type": "code",
      "metadata": {
        "colab": {
          "base_uri": "https://localhost:8080/"
        },
        "id": "E6LyZ1OnfIwY",
        "outputId": "38060840-591f-45be-a22a-8ff7919f22c8"
      },
      "source": [
        "y_test.values"
      ],
      "execution_count": 2319,
      "outputs": [
        {
          "output_type": "execute_result",
          "data": {
            "text/plain": [
              "array([3, 5, 2, 3, 3, 3, 4, 4, 3, 5, 4, 3, 4, 4, 3, 2, 2, 5, 3, 4, 5, 3,\n",
              "       2, 2, 5, 3, 4, 2, 4, 4, 2, 2, 4, 3, 2, 2, 3, 5, 2, 4, 5, 1, 5, 3,\n",
              "       4, 5, 3, 3, 1, 2, 3, 1, 4, 3, 4, 2, 1, 5, 2, 5, 4, 4, 5, 4, 2, 4,\n",
              "       4, 4, 3, 2, 3, 2, 4, 3, 2, 3, 5, 2, 5, 4, 2, 4, 4, 3, 3, 3, 2, 4,\n",
              "       3, 4, 2, 3, 3, 3, 3, 2, 4, 2, 1, 2, 4, 4, 5, 3, 3, 4, 4, 3, 3, 3,\n",
              "       3, 1, 4, 5, 5, 5, 4, 3, 2, 3, 2, 3, 3, 3, 4, 4, 4, 4, 4, 4, 5, 2,\n",
              "       3, 2, 1, 3, 3, 3, 1, 4, 4, 3, 3, 1, 3, 3, 3, 2, 4, 4, 4, 3, 3, 1,\n",
              "       2, 1, 3, 3, 4, 5, 4, 2, 3, 2, 5, 4, 1, 3, 4, 4, 2, 4, 2, 2, 5, 3,\n",
              "       2, 5, 3, 3, 3, 4, 3, 2, 4, 5, 3, 3, 5, 3, 5, 2, 3, 3, 4, 2, 3, 4,\n",
              "       4, 3, 4, 3, 5, 5, 2, 2, 4, 3, 3, 2, 3, 3, 4, 2, 5, 3, 1, 3, 5, 2,\n",
              "       3, 4, 3, 3, 1, 2, 4, 2, 4, 5, 3, 2, 3, 5, 4, 1, 4, 1, 5, 5, 5, 3,\n",
              "       3, 4, 2, 4, 4, 1, 2, 2, 5, 2, 4, 3, 4, 4, 2, 3, 3, 1, 3, 3, 4, 3,\n",
              "       2, 5, 3, 5, 1, 4, 2, 2, 3, 4, 5, 3, 1, 4, 2, 2, 3, 3, 4, 5, 1, 2,\n",
              "       3, 2, 3, 4, 4, 1, 3, 3, 3, 5])"
            ]
          },
          "metadata": {},
          "execution_count": 2319
        }
      ]
    },
    {
      "cell_type": "code",
      "metadata": {
        "colab": {
          "base_uri": "https://localhost:8080/",
          "height": 281
        },
        "id": "CZpPzhnYZ8uK",
        "outputId": "80fb6e1c-5aa4-4af8-cb59-91e6358265b3"
      },
      "source": [
        "plot_conf_matrix(y_test.values,y_pred,unique_class_label, title=\"Confusion Matrix for Neural Network\" )"
      ],
      "execution_count": 2320,
      "outputs": [
        {
          "output_type": "display_data",
          "data": {
            "image/png": "[encoded data removed]",
            "text/plain": [
              "<Figure size 360x288 with 2 Axes>"
            ]
          },
          "metadata": {
            "needs_background": "light"
          }
        }
      ]
    },
    {
      "cell_type": "code",
      "metadata": {
        "colab": {
          "base_uri": "https://localhost:8080/"
        },
        "id": "-VpIdb3-fXot",
        "outputId": "4886b2fe-d726-451e-9c64-f7880c8c0579"
      },
      "source": [
        "print(\"Accuracy Score for \" +  model.__class__.__name__ + \"  \" \n",
        "        + str(accuracy_score(y_test.values,y_pred)) )\n",
        "print(\"F1 Score for \" + model.__class__.__name__ + \"  \" + \n",
        "        str(f1_score(y_test.values, y_pred, average='weighted')))"
      ],
      "execution_count": 2321,
      "outputs": [
        {
          "output_type": "stream",
          "name": "stdout",
          "text": [
            "Accuracy Score for Sequential  0.5472972972972973\n",
            "F1 Score for Sequential  0.5455261068447629\n"
          ]
        }
      ]
    },
    {
      "cell_type": "code",
      "metadata": {
        "id": "Qe0B9gjJd-lf"
      },
      "source": [
        "model_json = model.to_json()\n",
        "with open('model.json','w') as json_file:\n",
        "  json_file.write(model_json)"
      ],
      "execution_count": 2322,
      "outputs": []
    },
    {
      "cell_type": "code",
      "metadata": {
        "id": "rST-N5tQdnR6"
      },
      "source": [
        "from keras.models import save_model\n",
        "model_weights = save_model(model, '/content/model_weights.hdf5')"
      ],
      "execution_count": 2323,
      "outputs": []
    },
    {
      "cell_type": "markdown",
      "metadata": {
        "id": "g7jAiC9Oeerp"
      },
      "source": [
        "#### Performing testing using Loaded model"
      ]
    },
    {
      "cell_type": "code",
      "metadata": {
        "colab": {
          "base_uri": "https://localhost:8080/",
          "height": 124
        },
        "id": "EnmcnCTVen8v",
        "outputId": "1f2c9d72-2a7f-4c09-f2b7-27c897339274"
      },
      "source": [
        "with open('model.json', 'r') as json_file:\n",
        "  json_saved_model = json_file.read()\n",
        "json_saved_model"
      ],
      "execution_count": 2324,
      "outputs": [
        {
          "output_type": "execute_result",
          "data": {
            "application/vnd.google.colaboratory.intrinsic+json": {
              "type": "string"
            },
            "text/plain": [
              "'{\"class_name\": \"Sequential\", \"config\": {\"name\": \"sequential_47\", \"layers\": [{\"class_name\": \"InputLayer\", \"config\": {\"batch_input_shape\": [null, 16], \"dtype\": \"float32\", \"sparse\": false, \"ragged\": false, \"name\": \"dense_188_input\"}}, {\"class_name\": \"Dense\", \"config\": {\"name\": \"dense_188\", \"trainable\": true, \"batch_input_shape\": [null, 16], \"dtype\": \"float32\", \"units\": 11, \"activation\": \"relu\", \"use_bias\": true, \"kernel_initializer\": {\"class_name\": \"GlorotUniform\", \"config\": {\"seed\": null}}, \"bias_initializer\": {\"class_name\": \"Zeros\", \"config\": {}}, \"kernel_regularizer\": null, \"bias_regularizer\": null, \"activity_regularizer\": null, \"kernel_constraint\": null, \"bias_constraint\": null}}, {\"class_name\": \"Dense\", \"config\": {\"name\": \"dense_189\", \"trainable\": true, \"dtype\": \"float32\", \"units\": 11, \"activation\": \"relu\", \"use_bias\": true, \"kernel_initializer\": {\"class_name\": \"GlorotUniform\", \"config\": {\"seed\": null}}, \"bias_initializer\": {\"class_name\": \"Zeros\", \"config\": {}}, \"kernel_regularizer\": null, \"bias_regularizer\": null, \"activity_regularizer\": null, \"kernel_constraint\": null, \"bias_constraint\": null}}, {\"class_name\": \"Dropout\", \"config\": {\"name\": \"dropout_94\", \"trainable\": true, \"dtype\": \"float32\", \"rate\": 0.2, \"noise_shape\": null, \"seed\": null}}, {\"class_name\": \"Dense\", \"config\": {\"name\": \"dense_190\", \"trainable\": true, \"dtype\": \"float32\", \"units\": 6, \"activation\": \"relu\", \"use_bias\": true, \"kernel_initializer\": {\"class_name\": \"GlorotUniform\", \"config\": {\"seed\": null}}, \"bias_initializer\": {\"class_name\": \"Zeros\", \"config\": {}}, \"kernel_regularizer\": null, \"bias_regularizer\": null, \"activity_regularizer\": null, \"kernel_constraint\": null, \"bias_constraint\": null}}, {\"class_name\": \"Dropout\", \"config\": {\"name\": \"dropout_95\", \"trainable\": true, \"dtype\": \"float32\", \"rate\": 0.2, \"noise_shape\": null, \"seed\": null}}, {\"class_name\": \"Dense\", \"config\": {\"name\": \"dense_191\", \"trainable\": true, \"dtype\": \"float32\", \"units\": 5, \"activation\": \"softmax\", \"use_bias\": true, \"kernel_initializer\": {\"class_name\": \"GlorotUniform\", \"config\": {\"seed\": null}}, \"bias_initializer\": {\"class_name\": \"Zeros\", \"config\": {}}, \"kernel_regularizer\": null, \"bias_regularizer\": null, \"activity_regularizer\": null, \"kernel_constraint\": null, \"bias_constraint\": null}}]}, \"keras_version\": \"2.6.0\", \"backend\": \"tensorflow\"}'"
            ]
          },
          "metadata": {},
          "execution_count": 2324
        }
      ]
    },
    {
      "cell_type": "code",
      "metadata": {
        "id": "KVjlvMHNdnHW"
      },
      "source": [
        "network_loaded = tf.keras.models.model_from_json(json_saved_model)\n",
        "network_loaded.load_weights('model_weights.hdf5')\n",
        "network_loaded.compile(loss = 'categorical_crossentropy', optimizer='Adam', metrics=['accuracy'])"
      ],
      "execution_count": 2325,
      "outputs": []
    },
    {
      "cell_type": "code",
      "metadata": {
        "id": "f50j09VHeymq"
      },
      "source": [
        "y_pred_loaded = network_loaded.predict(X_test_scaled)"
      ],
      "execution_count": 2326,
      "outputs": []
    },
    {
      "cell_type": "code",
      "metadata": {
        "id": "sUzNFhozfEyd"
      },
      "source": [
        "y_pred_loaded = np.argmax(y_pred_loaded, axis=1)"
      ],
      "execution_count": 2327,
      "outputs": []
    },
    {
      "cell_type": "code",
      "metadata": {
        "id": "cWb40j2sfPuy"
      },
      "source": [
        "y_pred_loaded +=1"
      ],
      "execution_count": 2328,
      "outputs": []
    },
    {
      "cell_type": "code",
      "metadata": {
        "colab": {
          "base_uri": "https://localhost:8080/",
          "height": 281
        },
        "id": "PtePd9GXfMzb",
        "outputId": "102aedf1-e475-4e35-a7df-0334b6d528de"
      },
      "source": [
        "plot_conf_matrix(y_test.values,y_pred_loaded,unique_class_label, title=\"Confusion Matrix for \" + model.__class__.__name__)"
      ],
      "execution_count": 2329,
      "outputs": [
        {
          "output_type": "display_data",
          "data": {
            "image/png": "[encoded data removed]",
            "text/plain": [
              "<Figure size 360x288 with 2 Axes>"
            ]
          },
          "metadata": {
            "needs_background": "light"
          }
        }
      ]
    },
    {
      "cell_type": "markdown",
      "metadata": {
        "id": "Fkfat6MVgQWf"
      },
      "source": [
        "#### Prediction on Asia Developed Dataset"
      ]
    },
    {
      "cell_type": "code",
      "metadata": {
        "id": "GmboS8VLgUA2"
      },
      "source": [
        "asia_df = pd.read_csv(\"/content/sample_data/Asia_Developed.csv\").set_index(\"SecId\")\n",
        "asia_df = morningStarUtilities.createSize_InvestmentTypeFeature(asia_df)\n"
      ],
      "execution_count": 2330,
      "outputs": []
    },
    {
      "cell_type": "code",
      "metadata": {
        "colab": {
          "base_uri": "https://localhost:8080/",
          "height": 199
        },
        "id": "4-2cppx6gZOQ",
        "outputId": "6cdf55d7-1240-40ed-e846-e69b8cf3bc1a"
      },
      "source": [
        "asia_df[asia_df.FundTNAV.isnull()]"
      ],
      "execution_count": 2331,
      "outputs": [
        {
          "output_type": "execute_result",
          "data": {
            "text/html": [
              "<div>\n",
              "<style scoped>\n",
              "    .dataframe tbody tr th:only-of-type {\n",
              "        vertical-align: middle;\n",
              "    }\n",
              "\n",
              "    .dataframe tbody tr th {\n",
              "        vertical-align: top;\n",
              "    }\n",
              "\n",
              "    .dataframe thead th {\n",
              "        text-align: right;\n",
              "    }\n",
              "</style>\n",
              "<table border=\"1\" class=\"dataframe\">\n",
              "  <thead>\n",
              "    <tr style=\"text-align: right;\">\n",
              "      <th></th>\n",
              "      <th>Name</th>\n",
              "      <th>StarRatingM255</th>\n",
              "      <th>SustainabilityRank</th>\n",
              "      <th>CategoryName</th>\n",
              "      <th>Yield_M12</th>\n",
              "      <th>GBRReturnW1</th>\n",
              "      <th>GBRReturnM1</th>\n",
              "      <th>GBRReturnM3</th>\n",
              "      <th>GBRReturnM6</th>\n",
              "      <th>GBRReturnM0</th>\n",
              "      <th>GBRReturnM12</th>\n",
              "      <th>GBRReturnM36</th>\n",
              "      <th>GBRReturnM60</th>\n",
              "      <th>MaxFrontEndLoad</th>\n",
              "      <th>OngoingCostActual</th>\n",
              "      <th>TransactionFeeActual</th>\n",
              "      <th>ManagerTenure</th>\n",
              "      <th>FundTNAV</th>\n",
              "      <th>EquityStyleBox</th>\n",
              "      <th>AverageMarketCapital</th>\n",
              "      <th>MorningstarRiskM255</th>\n",
              "      <th>AlphaM36</th>\n",
              "      <th>BetaM36</th>\n",
              "      <th>R2M36</th>\n",
              "      <th>StandardDeviationM36</th>\n",
              "      <th>SharpeM36</th>\n",
              "      <th>ReturnProfilePreservation</th>\n",
              "      <th>ReturnProfileIncome</th>\n",
              "      <th>ReturnProfileHedging</th>\n",
              "      <th>TrackRecordExtension</th>\n",
              "      <th>Size</th>\n",
              "      <th>Style</th>\n",
              "    </tr>\n",
              "    <tr>\n",
              "      <th>SecId</th>\n",
              "      <th></th>\n",
              "      <th></th>\n",
              "      <th></th>\n",
              "      <th></th>\n",
              "      <th></th>\n",
              "      <th></th>\n",
              "      <th></th>\n",
              "      <th></th>\n",
              "      <th></th>\n",
              "      <th></th>\n",
              "      <th></th>\n",
              "      <th></th>\n",
              "      <th></th>\n",
              "      <th></th>\n",
              "      <th></th>\n",
              "      <th></th>\n",
              "      <th></th>\n",
              "      <th></th>\n",
              "      <th></th>\n",
              "      <th></th>\n",
              "      <th></th>\n",
              "      <th></th>\n",
              "      <th></th>\n",
              "      <th></th>\n",
              "      <th></th>\n",
              "      <th></th>\n",
              "      <th></th>\n",
              "      <th></th>\n",
              "      <th></th>\n",
              "      <th></th>\n",
              "      <th></th>\n",
              "      <th></th>\n",
              "    </tr>\n",
              "  </thead>\n",
              "  <tbody>\n",
              "    <tr>\n",
              "      <th>F00001071Q</th>\n",
              "      <td>BIEF Emerging Markets A GBP Acc</td>\n",
              "      <td>4</td>\n",
              "      <td>2</td>\n",
              "      <td>Global Emerging Markets Equity</td>\n",
              "      <td>0.62047</td>\n",
              "      <td>1.43</td>\n",
              "      <td>1.64</td>\n",
              "      <td>-3.35</td>\n",
              "      <td>-7.72</td>\n",
              "      <td>0.09</td>\n",
              "      <td>10.79</td>\n",
              "      <td>10.05</td>\n",
              "      <td>NaN</td>\n",
              "      <td>NaN</td>\n",
              "      <td>1.12</td>\n",
              "      <td>1.17</td>\n",
              "      <td>24.08</td>\n",
              "      <td>NaN</td>\n",
              "      <td>2</td>\n",
              "      <td>28614.24791</td>\n",
              "      <td>4</td>\n",
              "      <td>2.47</td>\n",
              "      <td>1.02</td>\n",
              "      <td>89.7</td>\n",
              "      <td>16.24</td>\n",
              "      <td>0.66</td>\n",
              "      <td>3</td>\n",
              "      <td>1</td>\n",
              "      <td>3.0</td>\n",
              "      <td>False</td>\n",
              "      <td>1</td>\n",
              "      <td>2</td>\n",
              "    </tr>\n",
              "  </tbody>\n",
              "</table>\n",
              "</div>"
            ],
            "text/plain": [
              "                                       Name  StarRatingM255  ...  Size Style\n",
              "SecId                                                        ...            \n",
              "F00001071Q  BIEF Emerging Markets A GBP Acc               4  ...     1     2\n",
              "\n",
              "[1 rows x 32 columns]"
            ]
          },
          "metadata": {},
          "execution_count": 2331
        }
      ]
    },
    {
      "cell_type": "code",
      "metadata": {
        "id": "ck3RLQZNgbwn"
      },
      "source": [
        "asia_df.drop(index='F00001071Q',inplace=True)\n"
      ],
      "execution_count": 2332,
      "outputs": []
    },
    {
      "cell_type": "code",
      "metadata": {
        "id": "VS9meOpSgegy"
      },
      "source": [
        "X_asia = asia_df[imp_features]\n",
        "y_asia = asia_df['StarRatingM255']\n",
        "X_asia_scaled = scaler.transform(X_asia)"
      ],
      "execution_count": 2333,
      "outputs": []
    },
    {
      "cell_type": "code",
      "metadata": {
        "id": "jV4l1lYmgq59"
      },
      "source": [
        "y_asia_pred = network_loaded.predict(X_asia_scaled)\n",
        "y_asia_pred = np.argmax(y_asia_pred, axis=1)\n",
        "y_asia_pred += 1"
      ],
      "execution_count": 2334,
      "outputs": []
    },
    {
      "cell_type": "code",
      "metadata": {
        "colab": {
          "base_uri": "https://localhost:8080/"
        },
        "id": "JuBFmzuzimHJ",
        "outputId": "a83bfc04-039d-4c46-fa0c-6532d870f16d"
      },
      "source": [
        "y_asia.shape"
      ],
      "execution_count": 2335,
      "outputs": [
        {
          "output_type": "execute_result",
          "data": {
            "text/plain": [
              "(432,)"
            ]
          },
          "metadata": {},
          "execution_count": 2335
        }
      ]
    },
    {
      "cell_type": "code",
      "metadata": {
        "colab": {
          "base_uri": "https://localhost:8080/"
        },
        "id": "LkXSYbWrjJKT",
        "outputId": "0b7c80aa-90ed-4d7b-b456-080ab6b14f50"
      },
      "source": [
        "y_asia_pred.shape"
      ],
      "execution_count": 2336,
      "outputs": [
        {
          "output_type": "execute_result",
          "data": {
            "text/plain": [
              "(432,)"
            ]
          },
          "metadata": {},
          "execution_count": 2336
        }
      ]
    },
    {
      "cell_type": "code",
      "metadata": {
        "colab": {
          "base_uri": "https://localhost:8080/"
        },
        "id": "vwHEPAwsh_5Y",
        "outputId": "faf093ff-a001-4b46-dbe8-7e011bf31df8"
      },
      "source": [
        "print(\"Accuracy Score for \" +  model.__class__.__name__ + \"  \" \n",
        "        + str(accuracy_score(y_asia.values,y_asia_pred)) )\n",
        "print(\"F1 Score for \" + model.__class__.__name__ + \"  \" + \n",
        "        str(f1_score(y_asia.values, y_asia_pred, average='weighted')))"
      ],
      "execution_count": 2337,
      "outputs": [
        {
          "output_type": "stream",
          "name": "stdout",
          "text": [
            "Accuracy Score for Sequential  0.5046296296296297\n",
            "F1 Score for Sequential  0.48188086612310466\n"
          ]
        }
      ]
    },
    {
      "cell_type": "code",
      "metadata": {
        "colab": {
          "base_uri": "https://localhost:8080/",
          "height": 281
        },
        "id": "RzJhuUlRg5H7",
        "outputId": "30d545a8-b069-4424-947e-e92e08089901"
      },
      "source": [
        "plot_conf_matrix(y_asia.values,y_asia_pred,unique_class_label, title=\"Confusion Matrix for Neural Network\" )"
      ],
      "execution_count": 2338,
      "outputs": [
        {
          "output_type": "display_data",
          "data": {
            "image/png": "[encoded data removed]",
            "text/plain": [
              "<Figure size 360x288 with 2 Axes>"
            ]
          },
          "metadata": {
            "needs_background": "light"
          }
        }
      ]
    }
  ]
}