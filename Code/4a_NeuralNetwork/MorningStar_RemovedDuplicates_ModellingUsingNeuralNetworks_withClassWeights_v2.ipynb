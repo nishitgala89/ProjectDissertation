{
  "nbformat": 4,
  "nbformat_minor": 0,
  "metadata": {
    "colab": {
      "name": "MorningStar_RemovedDuplicates_ModellingUsingNeuralNetworks_v2.ipynb",
      "provenance": [],
      "collapsed_sections": []
    },
    "kernelspec": {
      "name": "python3",
      "display_name": "Python 3"
    },
    "language_info": {
      "name": "python"
    }
  },
  "cells": [
    {
      "cell_type": "markdown",
      "metadata": {
        "id": "eeazHRS71neh"
      },
      "source": [
        "###**Mounting Google Drive**"
      ]
    },
    {
      "cell_type": "code",
      "metadata": {
        "id": "g6DZ90-rEagh"
      },
      "source": [
        "# from google.colab import drive\n",
        "# drive.mount('/content/drive')"
      ],
      "execution_count": 1,
      "outputs": []
    },
    {
      "cell_type": "code",
      "metadata": {
        "id": "TjSJgtxzVmzt"
      },
      "source": [
        "rand_state=42"
      ],
      "execution_count": 2,
      "outputs": []
    },
    {
      "cell_type": "markdown",
      "metadata": {
        "id": "is2MxjpD5mog"
      },
      "source": [
        "###**Import Libraries**"
      ]
    },
    {
      "cell_type": "code",
      "metadata": {
        "id": "5PGgVZfRChJL"
      },
      "source": [
        "from google.colab import files\n",
        "import pandas as pd\n",
        "import numpy as np\n",
        "import matplotlib.pyplot as plt\n",
        "import seaborn as sns\n",
        "from sklearn.model_selection import train_test_split\n",
        "from sklearn.model_selection import StratifiedKFold,cross_val_score,KFold,StratifiedKFold\n",
        "from sklearn.metrics import accuracy_score,f1_score\n",
        "from sklearn.preprocessing import StandardScaler,MinMaxScaler\n",
        "import tensorflow as tf\n",
        "from tensorflow.keras.layers import Dense, Dropout, Input\n",
        "from tensorflow.keras.models import Sequential\n",
        "from tensorflow.keras.optimizers import Adam"
      ],
      "execution_count": 3,
      "outputs": []
    },
    {
      "cell_type": "code",
      "metadata": {
        "id": "kNHbvZENuvfl"
      },
      "source": [
        "from numpy.random import seed\n",
        "seed(42)\n",
        "tf.random.set_seed(42)"
      ],
      "execution_count": 4,
      "outputs": []
    },
    {
      "cell_type": "code",
      "metadata": {
        "id": "AXxoO94N5TTS"
      },
      "source": [
        "from sklearn.metrics import confusion_matrix\n",
        "def plot_conf_matrix(y_test,y_pred,uniqueclassLabel, title=\"CMatrix\"):\n",
        "  cm = confusion_matrix(y_true=y_test,y_pred=y_pred,labels=uniqueclassLabel)\n",
        "  plt.figure(figsize=(5,4))\n",
        "  plt.title(title)\n",
        "  #ax = plt.subplot()\n",
        "  sns.heatmap(cm, annot=True,cmap='Blues',\n",
        "              yticklabels=uniqueclassLabel,xticklabels=uniqueclassLabel,fmt='3g')"
      ],
      "execution_count": 5,
      "outputs": []
    },
    {
      "cell_type": "markdown",
      "metadata": {
        "id": "6nv-BCDw7Roe"
      },
      "source": [
        "###**Import Utility File**"
      ]
    },
    {
      "cell_type": "code",
      "metadata": {
        "id": "eTu1q8Gh6ckf"
      },
      "source": [
        "# import sys\n",
        "# path = \"/content/drive/MyDrive/Colab Notebooks/Project_Dissertation\"\n",
        "# sys.path.insert(0,path + \"/Code\")\n",
        "# import morningStarUtilities"
      ],
      "execution_count": 6,
      "outputs": []
    },
    {
      "cell_type": "code",
      "metadata": {
        "colab": {
          "base_uri": "https://localhost:8080/"
        },
        "id": "4NPsyAxj0bBh",
        "outputId": "41f9e829-d932-4985-a6c5-48ba19126ddc"
      },
      "source": [
        "user = 'nishitgala89'\n",
        "repo = 'ProjectDissertation'\n",
        "src_dir = \"Code/utilities\"\n",
        "pyfile = \"morningStarUtilities.py\"\n",
        "\n",
        "url = f\"https://raw.githubusercontent.com/{user}/{repo}/main/{src_dir}/{pyfile}\"\n",
        "!wget --no-cache --backups=1 {url}\n",
        "\n",
        "import morningStarUtilities"
      ],
      "execution_count": 7,
      "outputs": [
        {
          "output_type": "stream",
          "name": "stdout",
          "text": [
            "--2022-01-09 01:48:27--  https://raw.githubusercontent.com/nishitgala89/ProjectDissertation/main/Code/utilities/morningStarUtilities.py\n",
            "Resolving raw.githubusercontent.com (raw.githubusercontent.com)... 185.199.108.133, 185.199.109.133, 185.199.110.133, ...\n",
            "Connecting to raw.githubusercontent.com (raw.githubusercontent.com)|185.199.108.133|:443... connected.\n",
            "HTTP request sent, awaiting response... 200 OK\n",
            "Length: 6484 (6.3K) [text/plain]\n",
            "Failed to rename morningStarUtilities.py to morningStarUtilities.py.1: (2) No such file or directory\n",
            "Saving to: ‘morningStarUtilities.py’\n",
            "\n",
            "\rmorningStarUtilitie   0%[                    ]       0  --.-KB/s               \rmorningStarUtilitie 100%[===================>]   6.33K  --.-KB/s    in 0s      \n",
            "\n",
            "2022-01-09 01:48:27 (52.0 MB/s) - ‘morningStarUtilities.py’ saved [6484/6484]\n",
            "\n"
          ]
        }
      ]
    },
    {
      "cell_type": "markdown",
      "metadata": {
        "id": "F-wcjDaJ8t7Z"
      },
      "source": [
        "### **Import Training Data**"
      ]
    },
    {
      "cell_type": "code",
      "metadata": {
        "id": "LpS5-NC88vzy"
      },
      "source": [
        "# uploaded = files.upload()\n",
        "# train_df = pd.read_csv(io.BytesIO(uploaded['morningstar_removedDuplicates_train_withoutM60.csv']))"
      ],
      "execution_count": 8,
      "outputs": []
    },
    {
      "cell_type": "code",
      "metadata": {
        "id": "wp1s0SmlEhqw"
      },
      "source": [
        "train_df = pd.read_csv(\"https://raw.githubusercontent.com/nishitgala89/ProjectDissertation/main/Datasheets/3_Modelling/morningstar_removedDuplicates_train_withoutLogTransform_withoutM60.csv\").set_index(\"SecId\")"
      ],
      "execution_count": 9,
      "outputs": []
    },
    {
      "cell_type": "markdown",
      "metadata": {
        "id": "RgBksjh6_QMt"
      },
      "source": [
        "### **Import Testing Data**"
      ]
    },
    {
      "cell_type": "code",
      "metadata": {
        "id": "OKzcGENX_TNv"
      },
      "source": [
        "# uploaded = files.upload()\n",
        "# test_df = pd.read_csv(io.BytesIO(uploaded['morningstar_removedDuplicates_test_withoutM60.csv']))"
      ],
      "execution_count": 10,
      "outputs": []
    },
    {
      "cell_type": "code",
      "metadata": {
        "id": "1QC3JQfmGPp1"
      },
      "source": [
        "test_df = pd.read_csv('https://raw.githubusercontent.com/nishitgala89/ProjectDissertation/main/Datasheets/3_Modelling/morningstar_removedDuplicates_test_withoutLogTransform_withoutM60.csv').set_index(\"SecId\")"
      ],
      "execution_count": 11,
      "outputs": []
    },
    {
      "cell_type": "markdown",
      "metadata": {
        "id": "_T4GGYnf6tUB"
      },
      "source": [
        "### **Defining Training, Testing varibales**"
      ]
    },
    {
      "cell_type": "code",
      "metadata": {
        "id": "Gu7xuE_PBS9A"
      },
      "source": [
        "# imp_features = ['SustainabilityRank','GBRReturnM1','GBRReturnM3','GBRReturnM0','GBRReturnM12','GBRReturnM36','OngoingCostActual','TransactionFeeActual','FundTNAV',\n",
        "# 'AverageMarketCapital','MorningstarRiskM255','AlphaM36','BetaM36','R2M36','StandardDeviationM36','SharpeM36','Size','Style']\n",
        "imp_features = ['SustainabilityRank','GBRReturnM1','GBRReturnM3','GBRReturnM0','GBRReturnM36','OngoingCostActual','TransactionFeeActual','FundTNAV',\n",
        "'AverageMarketCapital','MorningstarRiskM255','AlphaM36','BetaM36','StandardDeviationM36','SharpeM36','Size','Style']\n",
        "X_train = train_df[imp_features]\n",
        "y_train = train_df[['StarRatingM255']]\n",
        "\n",
        "X_test = test_df[imp_features]\n",
        "y_test = test_df['StarRatingM255']"
      ],
      "execution_count": 12,
      "outputs": []
    },
    {
      "cell_type": "code",
      "metadata": {
        "id": "RNc7B6gHYyO_"
      },
      "source": [
        "y_train = y_train.astype('string')"
      ],
      "execution_count": 13,
      "outputs": []
    },
    {
      "cell_type": "code",
      "metadata": {
        "colab": {
          "base_uri": "https://localhost:8080/"
        },
        "id": "OkdudmSCcdUk",
        "outputId": "07772d67-3fbf-4f27-f0eb-ad841da20c71"
      },
      "source": [
        "from sklearn.preprocessing import OneHotEncoder\n",
        "y_train_cat = OneHotEncoder().fit_transform(y_train[[\"StarRatingM255\"]]).toarray()\n",
        "y_train_cat.shape"
      ],
      "execution_count": 14,
      "outputs": [
        {
          "output_type": "execute_result",
          "data": {
            "text/plain": [
              "(886, 5)"
            ]
          },
          "metadata": {},
          "execution_count": 14
        }
      ]
    },
    {
      "cell_type": "code",
      "metadata": {
        "colab": {
          "base_uri": "https://localhost:8080/"
        },
        "id": "4XTYcqhHBR9I",
        "outputId": "8f81a3a1-cbd2-4a7a-c2b1-e74ed2677c75"
      },
      "source": [
        "X_train.shape[1], y_train.shape, y_train_cat.shape"
      ],
      "execution_count": 15,
      "outputs": [
        {
          "output_type": "execute_result",
          "data": {
            "text/plain": [
              "(16, (886, 1), (886, 5))"
            ]
          },
          "metadata": {},
          "execution_count": 15
        }
      ]
    },
    {
      "cell_type": "code",
      "metadata": {
        "colab": {
          "base_uri": "https://localhost:8080/"
        },
        "id": "UxjbFzBY_gSw",
        "outputId": "ac1a6e83-88e0-49bb-d104-15302fc145a6"
      },
      "source": [
        "X_test.shape,y_test.shape"
      ],
      "execution_count": 16,
      "outputs": [
        {
          "output_type": "execute_result",
          "data": {
            "text/plain": [
              "((296, 16), (296,))"
            ]
          },
          "metadata": {},
          "execution_count": 16
        }
      ]
    },
    {
      "cell_type": "markdown",
      "metadata": {
        "id": "-7XMS96relKM"
      },
      "source": [
        "### **Scaling the Data**"
      ]
    },
    {
      "cell_type": "code",
      "metadata": {
        "id": "ZPhgNmDZeqBr"
      },
      "source": [
        "scaler = StandardScaler()\n",
        "scaler.fit(X_train)\n",
        "X_train_scaled = scaler.transform(X_train)\n",
        "X_test_scaled = scaler.transform(X_test)"
      ],
      "execution_count": 17,
      "outputs": []
    },
    {
      "cell_type": "markdown",
      "metadata": {
        "id": "d_xfktBW7XKR"
      },
      "source": [
        "### **Verify the Training and Testing distribution as per Target Variable**"
      ]
    },
    {
      "cell_type": "code",
      "metadata": {
        "colab": {
          "base_uri": "https://localhost:8080/",
          "height": 292
        },
        "id": "YePM9m2wLL4P",
        "outputId": "851fa3c8-aa60-4224-e63f-5f06347998bf"
      },
      "source": [
        "morningStarUtilities.displayBarSubPlots([train_df,test_df],[\"Training Distribution\", \"Testing Distribution\"],\n",
        "                   \"StarRatingM255\")"
      ],
      "execution_count": 18,
      "outputs": [
        {
          "output_type": "display_data",
          "data": {
            "image/png": "[encoded data removed]",
            "text/plain": [
              "<Figure size 1080x288 with 2 Axes>"
            ]
          },
          "metadata": {
            "needs_background": "light"
          }
        }
      ]
    },
    {
      "cell_type": "markdown",
      "metadata": {
        "id": "H7xIH-gH9wwl"
      },
      "source": [
        "### **Creating runtime variables**"
      ]
    },
    {
      "cell_type": "code",
      "metadata": {
        "colab": {
          "base_uri": "https://localhost:8080/"
        },
        "id": "rDe-0LE772d-",
        "outputId": "f3744730-ac0a-46ad-c436-aeed6b10ea85"
      },
      "source": [
        "unique_class_label = list(train_df.StarRatingM255.unique())\n",
        "unique_class_label.sort()\n",
        "unique_class_label"
      ],
      "execution_count": 19,
      "outputs": [
        {
          "output_type": "execute_result",
          "data": {
            "text/plain": [
              "[1, 2, 3, 4, 5]"
            ]
          },
          "metadata": {},
          "execution_count": 19
        }
      ]
    },
    {
      "cell_type": "markdown",
      "metadata": {
        "id": "qWv0oQrW9jQL"
      },
      "source": [
        "### **Defining Neural Network Model**"
      ]
    },
    {
      "cell_type": "code",
      "metadata": {
        "colab": {
          "base_uri": "https://localhost:8080/"
        },
        "id": "iiMBga5fCAb7",
        "outputId": "611fa590-17ce-4676-95fc-b850049b2036"
      },
      "source": [
        "# Number of Hidden Layers\n",
        "round((X_train.shape[1] + len(unique_class_label))/2) + 1"
      ],
      "execution_count": 20,
      "outputs": [
        {
          "output_type": "execute_result",
          "data": {
            "text/plain": [
              "11"
            ]
          },
          "metadata": {},
          "execution_count": 20
        }
      ]
    },
    {
      "cell_type": "markdown",
      "metadata": {
        "id": "kPI7GLP5ysDA"
      },
      "source": [
        "### Method 1 - Using Scikit Learn - KerasClassifier\n"
      ]
    },
    {
      "cell_type": "code",
      "metadata": {
        "id": "sAxHLtP1_1KT"
      },
      "source": [
        "# def baseline_model():    \n",
        "#   network = Sequential()\n",
        "#   network.add(tf.keras.layers.Dense(units=11,activation ='relu', input_dim = X_train.shape[1] ))\n",
        "#   network.add(tf.keras.layers.Dropout(0.2))\n",
        "#   network.add(tf.keras.layers.Dense(units=11,activation ='relu'))\n",
        "#   network.add(tf.keras.layers.Dropout(0.2))\n",
        "#   network.add(tf.keras.layers.Dense(units=11,activation ='relu'))\n",
        "#   network.add(tf.keras.layers.Dropout(0.2))\n",
        "#   network.add(tf.keras.layers.Dense(5,activation='softmax'))\n",
        "#   network.compile(optimizer = 'adam', loss = 'categorical_crossentropy', metrics = ['accuracy'])\n",
        "#   return network"
      ],
      "execution_count": 21,
      "outputs": []
    },
    {
      "cell_type": "code",
      "metadata": {
        "id": "1S2Pyj1CDGnY"
      },
      "source": [
        "# from keras.wrappers.scikit_learn import KerasClassifier\n",
        "# estimator = KerasClassifier(build_fn = baseline_model, epochs = 500, batch_size = 10, verbose = -1)"
      ],
      "execution_count": 22,
      "outputs": []
    },
    {
      "cell_type": "code",
      "metadata": {
        "id": "k1ixBpWqIZ3x"
      },
      "source": [
        "# skf = StratifiedKFold(n_splits=5, random_state=42, shuffle=True)\n",
        "# results = cross_val_score(estimator, X_train_scaled, y_train, cv = skf)\n",
        "\n",
        "# print(results)\n",
        "# print(\"Result: %.2f%% (%.2f%%)\" % (results.mean()*100, results.std()*100))"
      ],
      "execution_count": 23,
      "outputs": []
    },
    {
      "cell_type": "code",
      "metadata": {
        "id": "K8uCyB15N2Jp"
      },
      "source": [
        "# y_pred = estimator.predict(X_test_scaled)"
      ],
      "execution_count": 24,
      "outputs": []
    },
    {
      "cell_type": "code",
      "metadata": {
        "id": "QB3JjnzVNYlq"
      },
      "source": [
        "# plot_conf_matrix(y_test,y_pred,unique_class_label, title=\"Confusion Matrix for \" + clf.__class__.__name__)\n",
        "# print(\"Accuracy Score for \" +  estimator.__class__.__name__ + \"  \" \n",
        "#         + str(accuracy_score(y_test,y_pred)) )\n",
        "# print(\"F1 Score for \" + estimator.__class__.__name__ + \"  \" + \n",
        "#         str(f1_score(y_test, y_pred, average='weighted')))"
      ],
      "execution_count": 25,
      "outputs": []
    },
    {
      "cell_type": "markdown",
      "metadata": {
        "id": "X_Op8VMpzAOh"
      },
      "source": [
        "### Method 2 - Using Sequential Model"
      ]
    },
    {
      "cell_type": "code",
      "metadata": {
        "id": "zEQ-exj4pYjT"
      },
      "source": [
        "model = Sequential()\n",
        "model.add(tf.keras.layers.Dense(units=13,activation ='relu', input_shape = (len(imp_features),) ))\n",
        "#model.add(tf.keras.layers.Dropout(0.25))\n",
        "model.add(tf.keras.layers.Dense(units=15,activation ='relu'))\n",
        "model.add(tf.keras.layers.Dropout(0.2))\n",
        "model.add(tf.keras.layers.Dense(units=9,activation ='relu'))\n",
        "model.add(tf.keras.layers.Dropout(0.2))\n",
        "model.add(tf.keras.layers.Dense(units=5,activation='softmax'))\n",
        "model.compile(optimizer = Adam(), loss = 'categorical_crossentropy', \n",
        "              metrics = ['accuracy'])\n",
        "\n"
      ],
      "execution_count": 26,
      "outputs": []
    },
    {
      "cell_type": "code",
      "metadata": {
        "colab": {
          "base_uri": "https://localhost:8080/"
        },
        "id": "yHCvlpx8PlWC",
        "outputId": "8ef3f140-1b11-4cc1-e68d-73ed01dfb06a"
      },
      "source": [
        "model.summary()"
      ],
      "execution_count": 27,
      "outputs": [
        {
          "output_type": "stream",
          "name": "stdout",
          "text": [
            "Model: \"sequential\"\n",
            "_________________________________________________________________\n",
            " Layer (type)                Output Shape              Param #   \n",
            "=================================================================\n",
            " dense (Dense)               (None, 13)                221       \n",
            "                                                                 \n",
            " dense_1 (Dense)             (None, 15)                210       \n",
            "                                                                 \n",
            " dropout (Dropout)           (None, 15)                0         \n",
            "                                                                 \n",
            " dense_2 (Dense)             (None, 9)                 144       \n",
            "                                                                 \n",
            " dropout_1 (Dropout)         (None, 9)                 0         \n",
            "                                                                 \n",
            " dense_3 (Dense)             (None, 5)                 50        \n",
            "                                                                 \n",
            "=================================================================\n",
            "Total params: 625\n",
            "Trainable params: 625\n",
            "Non-trainable params: 0\n",
            "_________________________________________________________________\n"
          ]
        }
      ]
    },
    {
      "cell_type": "code",
      "metadata": {
        "id": "peasDV7FMcxB"
      },
      "source": [
        "# Handling Imbalanced Classes using class_weight\n",
        "\n",
        "class_wt = {0: 2.953333333333333,\n",
        "            1: 0.899492385786802,\n",
        "            2: 0.55375,\n",
        "            3: 0.7875555555555556,\n",
        "            4: 2.1095238095238096}"
      ],
      "execution_count": 28,
      "outputs": []
    },
    {
      "cell_type": "code",
      "metadata": {
        "colab": {
          "base_uri": "https://localhost:8080/"
        },
        "id": "3IJkFo6dQEmo",
        "outputId": "d4298801-38a3-4049-d87d-1e2eb597abce"
      },
      "source": [
        "# history = model.fit(X_train_scaled,y_train_cat,validation_split=0.3,\n",
        "#                     epochs=150, verbose=1,batch_size=25,class_weight=class_wt)\n",
        "history = model.fit(X_train_scaled,y_train_cat,validation_split=0.25,\n",
        "                    epochs=200, verbose=1,batch_size=20,class_weight=class_wt)"
      ],
      "execution_count": 29,
      "outputs": [
        {
          "output_type": "stream",
          "name": "stdout",
          "text": [
            "Epoch 1/200\n",
            "34/34 [==============================] - 1s 9ms/step - loss: 1.8559 - accuracy: 0.1551 - val_loss: 1.7171 - val_accuracy: 0.1577\n",
            "Epoch 2/200\n",
            "34/34 [==============================] - 0s 3ms/step - loss: 1.7419 - accuracy: 0.1476 - val_loss: 1.6588 - val_accuracy: 0.1577\n",
            "Epoch 3/200\n",
            "34/34 [==============================] - 0s 3ms/step - loss: 1.6333 - accuracy: 0.1687 - val_loss: 1.6329 - val_accuracy: 0.1847\n",
            "Epoch 4/200\n",
            "34/34 [==============================] - 0s 4ms/step - loss: 1.5983 - accuracy: 0.1807 - val_loss: 1.6204 - val_accuracy: 0.1982\n",
            "Epoch 5/200\n",
            "34/34 [==============================] - 0s 3ms/step - loss: 1.5988 - accuracy: 0.1943 - val_loss: 1.6107 - val_accuracy: 0.2027\n",
            "Epoch 6/200\n",
            "34/34 [==============================] - 0s 3ms/step - loss: 1.5854 - accuracy: 0.2018 - val_loss: 1.5986 - val_accuracy: 0.2207\n",
            "Epoch 7/200\n",
            "34/34 [==============================] - 0s 3ms/step - loss: 1.5219 - accuracy: 0.2139 - val_loss: 1.5885 - val_accuracy: 0.2162\n",
            "Epoch 8/200\n",
            "34/34 [==============================] - 0s 3ms/step - loss: 1.5210 - accuracy: 0.2184 - val_loss: 1.5814 - val_accuracy: 0.2252\n",
            "Epoch 9/200\n",
            "34/34 [==============================] - 0s 4ms/step - loss: 1.4896 - accuracy: 0.2199 - val_loss: 1.5716 - val_accuracy: 0.2072\n",
            "Epoch 10/200\n",
            "34/34 [==============================] - 0s 3ms/step - loss: 1.4894 - accuracy: 0.2078 - val_loss: 1.5536 - val_accuracy: 0.2117\n",
            "Epoch 11/200\n",
            "34/34 [==============================] - 0s 4ms/step - loss: 1.4648 - accuracy: 0.2334 - val_loss: 1.5446 - val_accuracy: 0.1937\n",
            "Epoch 12/200\n",
            "34/34 [==============================] - 0s 4ms/step - loss: 1.4280 - accuracy: 0.2139 - val_loss: 1.5234 - val_accuracy: 0.2072\n",
            "Epoch 13/200\n",
            "34/34 [==============================] - 0s 3ms/step - loss: 1.4357 - accuracy: 0.2078 - val_loss: 1.5072 - val_accuracy: 0.2027\n",
            "Epoch 14/200\n",
            "34/34 [==============================] - 0s 3ms/step - loss: 1.3902 - accuracy: 0.2289 - val_loss: 1.4845 - val_accuracy: 0.1982\n",
            "Epoch 15/200\n",
            "34/34 [==============================] - 0s 3ms/step - loss: 1.3555 - accuracy: 0.2530 - val_loss: 1.4672 - val_accuracy: 0.2027\n",
            "Epoch 16/200\n",
            "34/34 [==============================] - 0s 3ms/step - loss: 1.3522 - accuracy: 0.2395 - val_loss: 1.4427 - val_accuracy: 0.2117\n",
            "Epoch 17/200\n",
            "34/34 [==============================] - 0s 3ms/step - loss: 1.2925 - accuracy: 0.2681 - val_loss: 1.4217 - val_accuracy: 0.2117\n",
            "Epoch 18/200\n",
            "34/34 [==============================] - 0s 4ms/step - loss: 1.2754 - accuracy: 0.2530 - val_loss: 1.4067 - val_accuracy: 0.2072\n",
            "Epoch 19/200\n",
            "34/34 [==============================] - 0s 4ms/step - loss: 1.2571 - accuracy: 0.2861 - val_loss: 1.3822 - val_accuracy: 0.2342\n",
            "Epoch 20/200\n",
            "34/34 [==============================] - 0s 3ms/step - loss: 1.2117 - accuracy: 0.2967 - val_loss: 1.3494 - val_accuracy: 0.2613\n",
            "Epoch 21/200\n",
            "34/34 [==============================] - 0s 3ms/step - loss: 1.2397 - accuracy: 0.3238 - val_loss: 1.3281 - val_accuracy: 0.2973\n",
            "Epoch 22/200\n",
            "34/34 [==============================] - 0s 3ms/step - loss: 1.2241 - accuracy: 0.2982 - val_loss: 1.3062 - val_accuracy: 0.3198\n",
            "Epoch 23/200\n",
            "34/34 [==============================] - 0s 3ms/step - loss: 1.1648 - accuracy: 0.3238 - val_loss: 1.2934 - val_accuracy: 0.3108\n",
            "Epoch 24/200\n",
            "34/34 [==============================] - 0s 3ms/step - loss: 1.1426 - accuracy: 0.3645 - val_loss: 1.2821 - val_accuracy: 0.3333\n",
            "Epoch 25/200\n",
            "34/34 [==============================] - 0s 5ms/step - loss: 1.1526 - accuracy: 0.3569 - val_loss: 1.2730 - val_accuracy: 0.3333\n",
            "Epoch 26/200\n",
            "34/34 [==============================] - 0s 3ms/step - loss: 1.1825 - accuracy: 0.3373 - val_loss: 1.2670 - val_accuracy: 0.3378\n",
            "Epoch 27/200\n",
            "34/34 [==============================] - 0s 3ms/step - loss: 1.1650 - accuracy: 0.3343 - val_loss: 1.2565 - val_accuracy: 0.3288\n",
            "Epoch 28/200\n",
            "34/34 [==============================] - 0s 4ms/step - loss: 1.1307 - accuracy: 0.3479 - val_loss: 1.2389 - val_accuracy: 0.3739\n",
            "Epoch 29/200\n",
            "34/34 [==============================] - 0s 4ms/step - loss: 1.1042 - accuracy: 0.3630 - val_loss: 1.2411 - val_accuracy: 0.3739\n",
            "Epoch 30/200\n",
            "34/34 [==============================] - 0s 3ms/step - loss: 1.1373 - accuracy: 0.3675 - val_loss: 1.2087 - val_accuracy: 0.4099\n",
            "Epoch 31/200\n",
            "34/34 [==============================] - 0s 3ms/step - loss: 1.1115 - accuracy: 0.3855 - val_loss: 1.2046 - val_accuracy: 0.4009\n",
            "Epoch 32/200\n",
            "34/34 [==============================] - 0s 3ms/step - loss: 1.1027 - accuracy: 0.4051 - val_loss: 1.1924 - val_accuracy: 0.4099\n",
            "Epoch 33/200\n",
            "34/34 [==============================] - 0s 4ms/step - loss: 1.0728 - accuracy: 0.3916 - val_loss: 1.1838 - val_accuracy: 0.4144\n",
            "Epoch 34/200\n",
            "34/34 [==============================] - 0s 3ms/step - loss: 1.1006 - accuracy: 0.4006 - val_loss: 1.1821 - val_accuracy: 0.3964\n",
            "Epoch 35/200\n",
            "34/34 [==============================] - 0s 3ms/step - loss: 1.0748 - accuracy: 0.3795 - val_loss: 1.1724 - val_accuracy: 0.4234\n",
            "Epoch 36/200\n",
            "34/34 [==============================] - 0s 3ms/step - loss: 1.0853 - accuracy: 0.4051 - val_loss: 1.1720 - val_accuracy: 0.4144\n",
            "Epoch 37/200\n",
            "34/34 [==============================] - 0s 3ms/step - loss: 1.0758 - accuracy: 0.4202 - val_loss: 1.1600 - val_accuracy: 0.4279\n",
            "Epoch 38/200\n",
            "34/34 [==============================] - 0s 3ms/step - loss: 1.0982 - accuracy: 0.4247 - val_loss: 1.1449 - val_accuracy: 0.4505\n",
            "Epoch 39/200\n",
            "34/34 [==============================] - 0s 3ms/step - loss: 1.0815 - accuracy: 0.4096 - val_loss: 1.1403 - val_accuracy: 0.4369\n",
            "Epoch 40/200\n",
            "34/34 [==============================] - 0s 3ms/step - loss: 1.0524 - accuracy: 0.4232 - val_loss: 1.1475 - val_accuracy: 0.4189\n",
            "Epoch 41/200\n",
            "34/34 [==============================] - 0s 3ms/step - loss: 1.0661 - accuracy: 0.4232 - val_loss: 1.1521 - val_accuracy: 0.4099\n",
            "Epoch 42/200\n",
            "34/34 [==============================] - 0s 3ms/step - loss: 1.0631 - accuracy: 0.4352 - val_loss: 1.1447 - val_accuracy: 0.4234\n",
            "Epoch 43/200\n",
            "34/34 [==============================] - 0s 3ms/step - loss: 1.0268 - accuracy: 0.4488 - val_loss: 1.1400 - val_accuracy: 0.4279\n",
            "Epoch 44/200\n",
            "34/34 [==============================] - 0s 3ms/step - loss: 1.0459 - accuracy: 0.4322 - val_loss: 1.1313 - val_accuracy: 0.4369\n",
            "Epoch 45/200\n",
            "34/34 [==============================] - 0s 3ms/step - loss: 1.0180 - accuracy: 0.4458 - val_loss: 1.1190 - val_accuracy: 0.4550\n",
            "Epoch 46/200\n",
            "34/34 [==============================] - 0s 4ms/step - loss: 1.0158 - accuracy: 0.4488 - val_loss: 1.1115 - val_accuracy: 0.4595\n",
            "Epoch 47/200\n",
            "34/34 [==============================] - 0s 3ms/step - loss: 1.0380 - accuracy: 0.4608 - val_loss: 1.1015 - val_accuracy: 0.4865\n",
            "Epoch 48/200\n",
            "34/34 [==============================] - 0s 3ms/step - loss: 0.9972 - accuracy: 0.4819 - val_loss: 1.0939 - val_accuracy: 0.4820\n",
            "Epoch 49/200\n",
            "34/34 [==============================] - 0s 3ms/step - loss: 1.0062 - accuracy: 0.4578 - val_loss: 1.1060 - val_accuracy: 0.4550\n",
            "Epoch 50/200\n",
            "34/34 [==============================] - 0s 3ms/step - loss: 0.9821 - accuracy: 0.4533 - val_loss: 1.0998 - val_accuracy: 0.4505\n",
            "Epoch 51/200\n",
            "34/34 [==============================] - 0s 4ms/step - loss: 0.9650 - accuracy: 0.4503 - val_loss: 1.0859 - val_accuracy: 0.4595\n",
            "Epoch 52/200\n",
            "34/34 [==============================] - 0s 3ms/step - loss: 1.0191 - accuracy: 0.4608 - val_loss: 1.0730 - val_accuracy: 0.5000\n",
            "Epoch 53/200\n",
            "34/34 [==============================] - 0s 3ms/step - loss: 0.9978 - accuracy: 0.5151 - val_loss: 1.0803 - val_accuracy: 0.4955\n",
            "Epoch 54/200\n",
            "34/34 [==============================] - 0s 3ms/step - loss: 1.0040 - accuracy: 0.4744 - val_loss: 1.0652 - val_accuracy: 0.5360\n",
            "Epoch 55/200\n",
            "34/34 [==============================] - 0s 4ms/step - loss: 0.9829 - accuracy: 0.4729 - val_loss: 1.0793 - val_accuracy: 0.4955\n",
            "Epoch 56/200\n",
            "34/34 [==============================] - 0s 3ms/step - loss: 0.9832 - accuracy: 0.4623 - val_loss: 1.0778 - val_accuracy: 0.5000\n",
            "Epoch 57/200\n",
            "34/34 [==============================] - 0s 4ms/step - loss: 0.9612 - accuracy: 0.4563 - val_loss: 1.0854 - val_accuracy: 0.4775\n",
            "Epoch 58/200\n",
            "34/34 [==============================] - 0s 3ms/step - loss: 0.9930 - accuracy: 0.4834 - val_loss: 1.0831 - val_accuracy: 0.4910\n",
            "Epoch 59/200\n",
            "34/34 [==============================] - 0s 3ms/step - loss: 0.9649 - accuracy: 0.4714 - val_loss: 1.0756 - val_accuracy: 0.4865\n",
            "Epoch 60/200\n",
            "34/34 [==============================] - 0s 4ms/step - loss: 0.9820 - accuracy: 0.4744 - val_loss: 1.0565 - val_accuracy: 0.5135\n",
            "Epoch 61/200\n",
            "34/34 [==============================] - 0s 4ms/step - loss: 0.9751 - accuracy: 0.4774 - val_loss: 1.0600 - val_accuracy: 0.4775\n",
            "Epoch 62/200\n",
            "34/34 [==============================] - 0s 3ms/step - loss: 0.9665 - accuracy: 0.4880 - val_loss: 1.0512 - val_accuracy: 0.5000\n",
            "Epoch 63/200\n",
            "34/34 [==============================] - 0s 3ms/step - loss: 0.9740 - accuracy: 0.4925 - val_loss: 1.0612 - val_accuracy: 0.4910\n",
            "Epoch 64/200\n",
            "34/34 [==============================] - 0s 3ms/step - loss: 0.9819 - accuracy: 0.4729 - val_loss: 1.0532 - val_accuracy: 0.4910\n",
            "Epoch 65/200\n",
            "34/34 [==============================] - 0s 3ms/step - loss: 0.9698 - accuracy: 0.4895 - val_loss: 1.0419 - val_accuracy: 0.5000\n",
            "Epoch 66/200\n",
            "34/34 [==============================] - 0s 4ms/step - loss: 0.9435 - accuracy: 0.4940 - val_loss: 1.0495 - val_accuracy: 0.5045\n",
            "Epoch 67/200\n",
            "34/34 [==============================] - 0s 3ms/step - loss: 0.9371 - accuracy: 0.4925 - val_loss: 1.0362 - val_accuracy: 0.5135\n",
            "Epoch 68/200\n",
            "34/34 [==============================] - 0s 3ms/step - loss: 0.9222 - accuracy: 0.5015 - val_loss: 1.0296 - val_accuracy: 0.5090\n",
            "Epoch 69/200\n",
            "34/34 [==============================] - 0s 3ms/step - loss: 0.9387 - accuracy: 0.4895 - val_loss: 1.0388 - val_accuracy: 0.4955\n",
            "Epoch 70/200\n",
            "34/34 [==============================] - 0s 3ms/step - loss: 0.9482 - accuracy: 0.4774 - val_loss: 1.0373 - val_accuracy: 0.5045\n",
            "Epoch 71/200\n",
            "34/34 [==============================] - 0s 4ms/step - loss: 0.9339 - accuracy: 0.5090 - val_loss: 1.0229 - val_accuracy: 0.5045\n",
            "Epoch 72/200\n",
            "34/34 [==============================] - 0s 3ms/step - loss: 0.9032 - accuracy: 0.5256 - val_loss: 1.0267 - val_accuracy: 0.5090\n",
            "Epoch 73/200\n",
            "34/34 [==============================] - 0s 3ms/step - loss: 0.9518 - accuracy: 0.4639 - val_loss: 1.0211 - val_accuracy: 0.5135\n",
            "Epoch 74/200\n",
            "34/34 [==============================] - 0s 3ms/step - loss: 0.9024 - accuracy: 0.5361 - val_loss: 1.0272 - val_accuracy: 0.5090\n",
            "Epoch 75/200\n",
            "34/34 [==============================] - 0s 3ms/step - loss: 0.9291 - accuracy: 0.4940 - val_loss: 1.0340 - val_accuracy: 0.5000\n",
            "Epoch 76/200\n",
            "34/34 [==============================] - 0s 3ms/step - loss: 0.9246 - accuracy: 0.4985 - val_loss: 1.0111 - val_accuracy: 0.5225\n",
            "Epoch 77/200\n",
            "34/34 [==============================] - 0s 3ms/step - loss: 0.9650 - accuracy: 0.4955 - val_loss: 1.0148 - val_accuracy: 0.5270\n",
            "Epoch 78/200\n",
            "34/34 [==============================] - 0s 3ms/step - loss: 0.9150 - accuracy: 0.5181 - val_loss: 1.0215 - val_accuracy: 0.5270\n",
            "Epoch 79/200\n",
            "34/34 [==============================] - 0s 3ms/step - loss: 0.9410 - accuracy: 0.5015 - val_loss: 1.0215 - val_accuracy: 0.5135\n",
            "Epoch 80/200\n",
            "34/34 [==============================] - 0s 3ms/step - loss: 0.9488 - accuracy: 0.4699 - val_loss: 1.0223 - val_accuracy: 0.4910\n",
            "Epoch 81/200\n",
            "34/34 [==============================] - 0s 3ms/step - loss: 0.9336 - accuracy: 0.4910 - val_loss: 1.0030 - val_accuracy: 0.5135\n",
            "Epoch 82/200\n",
            "34/34 [==============================] - 0s 3ms/step - loss: 0.9196 - accuracy: 0.5181 - val_loss: 1.0035 - val_accuracy: 0.5270\n",
            "Epoch 83/200\n",
            "34/34 [==============================] - 0s 3ms/step - loss: 0.9321 - accuracy: 0.5030 - val_loss: 0.9950 - val_accuracy: 0.5180\n",
            "Epoch 84/200\n",
            "34/34 [==============================] - 0s 3ms/step - loss: 0.9442 - accuracy: 0.4864 - val_loss: 1.0102 - val_accuracy: 0.4955\n",
            "Epoch 85/200\n",
            "34/34 [==============================] - 0s 3ms/step - loss: 0.8960 - accuracy: 0.5256 - val_loss: 1.0033 - val_accuracy: 0.5090\n",
            "Epoch 86/200\n",
            "34/34 [==============================] - 0s 3ms/step - loss: 0.9155 - accuracy: 0.5120 - val_loss: 1.0105 - val_accuracy: 0.5045\n",
            "Epoch 87/200\n",
            "34/34 [==============================] - 0s 3ms/step - loss: 0.9101 - accuracy: 0.5090 - val_loss: 0.9906 - val_accuracy: 0.5315\n",
            "Epoch 88/200\n",
            "34/34 [==============================] - 0s 3ms/step - loss: 0.9202 - accuracy: 0.4910 - val_loss: 1.0114 - val_accuracy: 0.4955\n",
            "Epoch 89/200\n",
            "34/34 [==============================] - 0s 3ms/step - loss: 0.8956 - accuracy: 0.5120 - val_loss: 1.0073 - val_accuracy: 0.4955\n",
            "Epoch 90/200\n",
            "34/34 [==============================] - 0s 3ms/step - loss: 0.9007 - accuracy: 0.5015 - val_loss: 1.0143 - val_accuracy: 0.5090\n",
            "Epoch 91/200\n",
            "34/34 [==============================] - 0s 3ms/step - loss: 0.9120 - accuracy: 0.5000 - val_loss: 1.0073 - val_accuracy: 0.5090\n",
            "Epoch 92/200\n",
            "34/34 [==============================] - 0s 3ms/step - loss: 0.9252 - accuracy: 0.5181 - val_loss: 0.9986 - val_accuracy: 0.5135\n",
            "Epoch 93/200\n",
            "34/34 [==============================] - 0s 3ms/step - loss: 0.8969 - accuracy: 0.5045 - val_loss: 1.0241 - val_accuracy: 0.5000\n",
            "Epoch 94/200\n",
            "34/34 [==============================] - 0s 3ms/step - loss: 0.9256 - accuracy: 0.4940 - val_loss: 1.0094 - val_accuracy: 0.5135\n",
            "Epoch 95/200\n",
            "34/34 [==============================] - 0s 3ms/step - loss: 0.8982 - accuracy: 0.5075 - val_loss: 1.0157 - val_accuracy: 0.5090\n",
            "Epoch 96/200\n",
            "34/34 [==============================] - 0s 3ms/step - loss: 0.9032 - accuracy: 0.5060 - val_loss: 1.0076 - val_accuracy: 0.5180\n",
            "Epoch 97/200\n",
            "34/34 [==============================] - 0s 3ms/step - loss: 0.9051 - accuracy: 0.4985 - val_loss: 1.0088 - val_accuracy: 0.4955\n",
            "Epoch 98/200\n",
            "34/34 [==============================] - 0s 3ms/step - loss: 0.9011 - accuracy: 0.5000 - val_loss: 1.0118 - val_accuracy: 0.5000\n",
            "Epoch 99/200\n",
            "34/34 [==============================] - 0s 4ms/step - loss: 0.8948 - accuracy: 0.5060 - val_loss: 1.0144 - val_accuracy: 0.5000\n",
            "Epoch 100/200\n",
            "34/34 [==============================] - 0s 3ms/step - loss: 0.8589 - accuracy: 0.5301 - val_loss: 0.9930 - val_accuracy: 0.5090\n",
            "Epoch 101/200\n",
            "34/34 [==============================] - 0s 4ms/step - loss: 0.8921 - accuracy: 0.5060 - val_loss: 0.9990 - val_accuracy: 0.5180\n",
            "Epoch 102/200\n",
            "34/34 [==============================] - 0s 3ms/step - loss: 0.8719 - accuracy: 0.4940 - val_loss: 0.9935 - val_accuracy: 0.5135\n",
            "Epoch 103/200\n",
            "34/34 [==============================] - 0s 3ms/step - loss: 0.9144 - accuracy: 0.5151 - val_loss: 1.0039 - val_accuracy: 0.5090\n",
            "Epoch 104/200\n",
            "34/34 [==============================] - 0s 3ms/step - loss: 0.8890 - accuracy: 0.5286 - val_loss: 1.0131 - val_accuracy: 0.5090\n",
            "Epoch 105/200\n",
            "34/34 [==============================] - 0s 4ms/step - loss: 0.9023 - accuracy: 0.5226 - val_loss: 1.0028 - val_accuracy: 0.5135\n",
            "Epoch 106/200\n",
            "34/34 [==============================] - 0s 3ms/step - loss: 0.8672 - accuracy: 0.5377 - val_loss: 0.9844 - val_accuracy: 0.5180\n",
            "Epoch 107/200\n",
            "34/34 [==============================] - 0s 3ms/step - loss: 0.8806 - accuracy: 0.5301 - val_loss: 0.9916 - val_accuracy: 0.5135\n",
            "Epoch 108/200\n",
            "34/34 [==============================] - 0s 4ms/step - loss: 0.9158 - accuracy: 0.4895 - val_loss: 1.0018 - val_accuracy: 0.5135\n",
            "Epoch 109/200\n",
            "34/34 [==============================] - 0s 3ms/step - loss: 0.8822 - accuracy: 0.5105 - val_loss: 0.9968 - val_accuracy: 0.5225\n",
            "Epoch 110/200\n",
            "34/34 [==============================] - 0s 3ms/step - loss: 0.8673 - accuracy: 0.5196 - val_loss: 1.0020 - val_accuracy: 0.5090\n",
            "Epoch 111/200\n",
            "34/34 [==============================] - 0s 3ms/step - loss: 0.8601 - accuracy: 0.5196 - val_loss: 1.0008 - val_accuracy: 0.5180\n",
            "Epoch 112/200\n",
            "34/34 [==============================] - 0s 3ms/step - loss: 0.8613 - accuracy: 0.5226 - val_loss: 0.9917 - val_accuracy: 0.5180\n",
            "Epoch 113/200\n",
            "34/34 [==============================] - 0s 4ms/step - loss: 0.8834 - accuracy: 0.5045 - val_loss: 0.9877 - val_accuracy: 0.5135\n",
            "Epoch 114/200\n",
            "34/34 [==============================] - 0s 3ms/step - loss: 0.8544 - accuracy: 0.5572 - val_loss: 0.9747 - val_accuracy: 0.5270\n",
            "Epoch 115/200\n",
            "34/34 [==============================] - 0s 5ms/step - loss: 0.8484 - accuracy: 0.5361 - val_loss: 0.9755 - val_accuracy: 0.5225\n",
            "Epoch 116/200\n",
            "34/34 [==============================] - 0s 3ms/step - loss: 0.8485 - accuracy: 0.5497 - val_loss: 0.9766 - val_accuracy: 0.5315\n",
            "Epoch 117/200\n",
            "34/34 [==============================] - 0s 3ms/step - loss: 0.8754 - accuracy: 0.5256 - val_loss: 0.9773 - val_accuracy: 0.5270\n",
            "Epoch 118/200\n",
            "34/34 [==============================] - 0s 3ms/step - loss: 0.8639 - accuracy: 0.5542 - val_loss: 0.9900 - val_accuracy: 0.5270\n",
            "Epoch 119/200\n",
            "34/34 [==============================] - 0s 3ms/step - loss: 0.8728 - accuracy: 0.5181 - val_loss: 0.9855 - val_accuracy: 0.5315\n",
            "Epoch 120/200\n",
            "34/34 [==============================] - 0s 3ms/step - loss: 0.8852 - accuracy: 0.5422 - val_loss: 0.9689 - val_accuracy: 0.5360\n",
            "Epoch 121/200\n",
            "34/34 [==============================] - 0s 3ms/step - loss: 0.8708 - accuracy: 0.5392 - val_loss: 0.9799 - val_accuracy: 0.5270\n",
            "Epoch 122/200\n",
            "34/34 [==============================] - 0s 3ms/step - loss: 0.8623 - accuracy: 0.5316 - val_loss: 0.9931 - val_accuracy: 0.5315\n",
            "Epoch 123/200\n",
            "34/34 [==============================] - 0s 3ms/step - loss: 0.8458 - accuracy: 0.5648 - val_loss: 0.9936 - val_accuracy: 0.5405\n",
            "Epoch 124/200\n",
            "34/34 [==============================] - 0s 3ms/step - loss: 0.8566 - accuracy: 0.5271 - val_loss: 0.9913 - val_accuracy: 0.5450\n",
            "Epoch 125/200\n",
            "34/34 [==============================] - 0s 3ms/step - loss: 0.8133 - accuracy: 0.5542 - val_loss: 0.9815 - val_accuracy: 0.5450\n",
            "Epoch 126/200\n",
            "34/34 [==============================] - 0s 3ms/step - loss: 0.8374 - accuracy: 0.5467 - val_loss: 0.9797 - val_accuracy: 0.5450\n",
            "Epoch 127/200\n",
            "34/34 [==============================] - 0s 3ms/step - loss: 0.8597 - accuracy: 0.5286 - val_loss: 0.9845 - val_accuracy: 0.5405\n",
            "Epoch 128/200\n",
            "34/34 [==============================] - 0s 3ms/step - loss: 0.8585 - accuracy: 0.5617 - val_loss: 0.9902 - val_accuracy: 0.5270\n",
            "Epoch 129/200\n",
            "34/34 [==============================] - 0s 3ms/step - loss: 0.8593 - accuracy: 0.5060 - val_loss: 0.9814 - val_accuracy: 0.5225\n",
            "Epoch 130/200\n",
            "34/34 [==============================] - 0s 3ms/step - loss: 0.8493 - accuracy: 0.5226 - val_loss: 0.9793 - val_accuracy: 0.5270\n",
            "Epoch 131/200\n",
            "34/34 [==============================] - 0s 3ms/step - loss: 0.8391 - accuracy: 0.5075 - val_loss: 0.9841 - val_accuracy: 0.5180\n",
            "Epoch 132/200\n",
            "34/34 [==============================] - 0s 4ms/step - loss: 0.8416 - accuracy: 0.5572 - val_loss: 0.9831 - val_accuracy: 0.5270\n",
            "Epoch 133/200\n",
            "34/34 [==============================] - 0s 3ms/step - loss: 0.8540 - accuracy: 0.5572 - val_loss: 0.9775 - val_accuracy: 0.5360\n",
            "Epoch 134/200\n",
            "34/34 [==============================] - 0s 3ms/step - loss: 0.8523 - accuracy: 0.5346 - val_loss: 0.9979 - val_accuracy: 0.5225\n",
            "Epoch 135/200\n",
            "34/34 [==============================] - 0s 3ms/step - loss: 0.8766 - accuracy: 0.5211 - val_loss: 0.9805 - val_accuracy: 0.5225\n",
            "Epoch 136/200\n",
            "34/34 [==============================] - 0s 3ms/step - loss: 0.8639 - accuracy: 0.5482 - val_loss: 0.9962 - val_accuracy: 0.5135\n",
            "Epoch 137/200\n",
            "34/34 [==============================] - 0s 3ms/step - loss: 0.8408 - accuracy: 0.5377 - val_loss: 0.9844 - val_accuracy: 0.5405\n",
            "Epoch 138/200\n",
            "34/34 [==============================] - 0s 4ms/step - loss: 0.8875 - accuracy: 0.5015 - val_loss: 0.9912 - val_accuracy: 0.5270\n",
            "Epoch 139/200\n",
            "34/34 [==============================] - 0s 3ms/step - loss: 0.8351 - accuracy: 0.5346 - val_loss: 0.9846 - val_accuracy: 0.5315\n",
            "Epoch 140/200\n",
            "34/34 [==============================] - 0s 3ms/step - loss: 0.8534 - accuracy: 0.5557 - val_loss: 0.9732 - val_accuracy: 0.5315\n",
            "Epoch 141/200\n",
            "34/34 [==============================] - 0s 3ms/step - loss: 0.8482 - accuracy: 0.5437 - val_loss: 0.9708 - val_accuracy: 0.5405\n",
            "Epoch 142/200\n",
            "34/34 [==============================] - 0s 3ms/step - loss: 0.7933 - accuracy: 0.5843 - val_loss: 0.9724 - val_accuracy: 0.5495\n",
            "Epoch 143/200\n",
            "34/34 [==============================] - 0s 3ms/step - loss: 0.8517 - accuracy: 0.5286 - val_loss: 0.9750 - val_accuracy: 0.5360\n",
            "Epoch 144/200\n",
            "34/34 [==============================] - 0s 3ms/step - loss: 0.8488 - accuracy: 0.5587 - val_loss: 0.9760 - val_accuracy: 0.5450\n",
            "Epoch 145/200\n",
            "34/34 [==============================] - 0s 3ms/step - loss: 0.8407 - accuracy: 0.5377 - val_loss: 0.9837 - val_accuracy: 0.5360\n",
            "Epoch 146/200\n",
            "34/34 [==============================] - 0s 3ms/step - loss: 0.8183 - accuracy: 0.5512 - val_loss: 0.9819 - val_accuracy: 0.5270\n",
            "Epoch 147/200\n",
            "34/34 [==============================] - 0s 4ms/step - loss: 0.8299 - accuracy: 0.5542 - val_loss: 0.9889 - val_accuracy: 0.5135\n",
            "Epoch 148/200\n",
            "34/34 [==============================] - 0s 3ms/step - loss: 0.8172 - accuracy: 0.5377 - val_loss: 0.9686 - val_accuracy: 0.5315\n",
            "Epoch 149/200\n",
            "34/34 [==============================] - 0s 4ms/step - loss: 0.8503 - accuracy: 0.5482 - val_loss: 0.9663 - val_accuracy: 0.5405\n",
            "Epoch 150/200\n",
            "34/34 [==============================] - 0s 3ms/step - loss: 0.8015 - accuracy: 0.5753 - val_loss: 0.9914 - val_accuracy: 0.5000\n",
            "Epoch 151/200\n",
            "34/34 [==============================] - 0s 3ms/step - loss: 0.7975 - accuracy: 0.5889 - val_loss: 0.9702 - val_accuracy: 0.5450\n",
            "Epoch 152/200\n",
            "34/34 [==============================] - 0s 3ms/step - loss: 0.8150 - accuracy: 0.5572 - val_loss: 0.9727 - val_accuracy: 0.5541\n",
            "Epoch 153/200\n",
            "34/34 [==============================] - 0s 3ms/step - loss: 0.8413 - accuracy: 0.5437 - val_loss: 0.9707 - val_accuracy: 0.5495\n",
            "Epoch 154/200\n",
            "34/34 [==============================] - 0s 3ms/step - loss: 0.8423 - accuracy: 0.5452 - val_loss: 0.9824 - val_accuracy: 0.5315\n",
            "Epoch 155/200\n",
            "34/34 [==============================] - 0s 3ms/step - loss: 0.8103 - accuracy: 0.5708 - val_loss: 0.9824 - val_accuracy: 0.5315\n",
            "Epoch 156/200\n",
            "34/34 [==============================] - 0s 3ms/step - loss: 0.8005 - accuracy: 0.5542 - val_loss: 0.9606 - val_accuracy: 0.5586\n",
            "Epoch 157/200\n",
            "34/34 [==============================] - 0s 3ms/step - loss: 0.8431 - accuracy: 0.5587 - val_loss: 0.9669 - val_accuracy: 0.5450\n",
            "Epoch 158/200\n",
            "34/34 [==============================] - 0s 3ms/step - loss: 0.8367 - accuracy: 0.5467 - val_loss: 0.9794 - val_accuracy: 0.5450\n",
            "Epoch 159/200\n",
            "34/34 [==============================] - 0s 3ms/step - loss: 0.8052 - accuracy: 0.5512 - val_loss: 0.9790 - val_accuracy: 0.5315\n",
            "Epoch 160/200\n",
            "34/34 [==============================] - 0s 3ms/step - loss: 0.8052 - accuracy: 0.5512 - val_loss: 0.9725 - val_accuracy: 0.5315\n",
            "Epoch 161/200\n",
            "34/34 [==============================] - 0s 3ms/step - loss: 0.8082 - accuracy: 0.5437 - val_loss: 0.9779 - val_accuracy: 0.5315\n",
            "Epoch 162/200\n",
            "34/34 [==============================] - 0s 4ms/step - loss: 0.8199 - accuracy: 0.5723 - val_loss: 0.9700 - val_accuracy: 0.5450\n",
            "Epoch 163/200\n",
            "34/34 [==============================] - 0s 3ms/step - loss: 0.8119 - accuracy: 0.5572 - val_loss: 0.9654 - val_accuracy: 0.5541\n",
            "Epoch 164/200\n",
            "34/34 [==============================] - 0s 3ms/step - loss: 0.8127 - accuracy: 0.5482 - val_loss: 0.9874 - val_accuracy: 0.5405\n",
            "Epoch 165/200\n",
            "34/34 [==============================] - 0s 3ms/step - loss: 0.8414 - accuracy: 0.5377 - val_loss: 0.9756 - val_accuracy: 0.5315\n",
            "Epoch 166/200\n",
            "34/34 [==============================] - 0s 4ms/step - loss: 0.8155 - accuracy: 0.5497 - val_loss: 0.9691 - val_accuracy: 0.5315\n",
            "Epoch 167/200\n",
            "34/34 [==============================] - 0s 3ms/step - loss: 0.8323 - accuracy: 0.5512 - val_loss: 0.9746 - val_accuracy: 0.5405\n",
            "Epoch 168/200\n",
            "34/34 [==============================] - 0s 3ms/step - loss: 0.8087 - accuracy: 0.5753 - val_loss: 0.9752 - val_accuracy: 0.5315\n",
            "Epoch 169/200\n",
            "34/34 [==============================] - 0s 3ms/step - loss: 0.7939 - accuracy: 0.5678 - val_loss: 0.9714 - val_accuracy: 0.5405\n",
            "Epoch 170/200\n",
            "34/34 [==============================] - 0s 4ms/step - loss: 0.7787 - accuracy: 0.5979 - val_loss: 0.9672 - val_accuracy: 0.5495\n",
            "Epoch 171/200\n",
            "34/34 [==============================] - 0s 3ms/step - loss: 0.7860 - accuracy: 0.5873 - val_loss: 0.9779 - val_accuracy: 0.5360\n",
            "Epoch 172/200\n",
            "34/34 [==============================] - 0s 3ms/step - loss: 0.7674 - accuracy: 0.5738 - val_loss: 0.9899 - val_accuracy: 0.5315\n",
            "Epoch 173/200\n",
            "34/34 [==============================] - 0s 3ms/step - loss: 0.7623 - accuracy: 0.5663 - val_loss: 0.9714 - val_accuracy: 0.5450\n",
            "Epoch 174/200\n",
            "34/34 [==============================] - 0s 3ms/step - loss: 0.7692 - accuracy: 0.5843 - val_loss: 0.9756 - val_accuracy: 0.5405\n",
            "Epoch 175/200\n",
            "34/34 [==============================] - 0s 3ms/step - loss: 0.8016 - accuracy: 0.5678 - val_loss: 0.9727 - val_accuracy: 0.5360\n",
            "Epoch 176/200\n",
            "34/34 [==============================] - 0s 3ms/step - loss: 0.8272 - accuracy: 0.5542 - val_loss: 0.9586 - val_accuracy: 0.5541\n",
            "Epoch 177/200\n",
            "34/34 [==============================] - 0s 3ms/step - loss: 0.7945 - accuracy: 0.5587 - val_loss: 0.9696 - val_accuracy: 0.5270\n",
            "Epoch 178/200\n",
            "34/34 [==============================] - 0s 3ms/step - loss: 0.8159 - accuracy: 0.5437 - val_loss: 0.9626 - val_accuracy: 0.5495\n",
            "Epoch 179/200\n",
            "34/34 [==============================] - 0s 4ms/step - loss: 0.8054 - accuracy: 0.5708 - val_loss: 0.9740 - val_accuracy: 0.5315\n",
            "Epoch 180/200\n",
            "34/34 [==============================] - 0s 4ms/step - loss: 0.8029 - accuracy: 0.5693 - val_loss: 0.9698 - val_accuracy: 0.5360\n",
            "Epoch 181/200\n",
            "34/34 [==============================] - 0s 3ms/step - loss: 0.8109 - accuracy: 0.5512 - val_loss: 0.9836 - val_accuracy: 0.5315\n",
            "Epoch 182/200\n",
            "34/34 [==============================] - 0s 3ms/step - loss: 0.7945 - accuracy: 0.5633 - val_loss: 0.9668 - val_accuracy: 0.5541\n",
            "Epoch 183/200\n",
            "34/34 [==============================] - 0s 4ms/step - loss: 0.7965 - accuracy: 0.5633 - val_loss: 0.9769 - val_accuracy: 0.5450\n",
            "Epoch 184/200\n",
            "34/34 [==============================] - 0s 3ms/step - loss: 0.7892 - accuracy: 0.5377 - val_loss: 0.9767 - val_accuracy: 0.5180\n",
            "Epoch 185/200\n",
            "34/34 [==============================] - 0s 3ms/step - loss: 0.8271 - accuracy: 0.5301 - val_loss: 0.9683 - val_accuracy: 0.5405\n",
            "Epoch 186/200\n",
            "34/34 [==============================] - 0s 3ms/step - loss: 0.7875 - accuracy: 0.5723 - val_loss: 0.9664 - val_accuracy: 0.5360\n",
            "Epoch 187/200\n",
            "34/34 [==============================] - 0s 4ms/step - loss: 0.7973 - accuracy: 0.5768 - val_loss: 0.9626 - val_accuracy: 0.5450\n",
            "Epoch 188/200\n",
            "34/34 [==============================] - 0s 3ms/step - loss: 0.7818 - accuracy: 0.5633 - val_loss: 0.9727 - val_accuracy: 0.5405\n",
            "Epoch 189/200\n",
            "34/34 [==============================] - 0s 4ms/step - loss: 0.7862 - accuracy: 0.5633 - val_loss: 0.9616 - val_accuracy: 0.5495\n",
            "Epoch 190/200\n",
            "34/34 [==============================] - 0s 3ms/step - loss: 0.7979 - accuracy: 0.5512 - val_loss: 0.9705 - val_accuracy: 0.5495\n",
            "Epoch 191/200\n",
            "34/34 [==============================] - 0s 5ms/step - loss: 0.8003 - accuracy: 0.5858 - val_loss: 0.9756 - val_accuracy: 0.5450\n",
            "Epoch 192/200\n",
            "34/34 [==============================] - 0s 3ms/step - loss: 0.7813 - accuracy: 0.5648 - val_loss: 0.9797 - val_accuracy: 0.5450\n",
            "Epoch 193/200\n",
            "34/34 [==============================] - 0s 3ms/step - loss: 0.7924 - accuracy: 0.5738 - val_loss: 0.9672 - val_accuracy: 0.5315\n",
            "Epoch 194/200\n",
            "34/34 [==============================] - 0s 4ms/step - loss: 0.8039 - accuracy: 0.5602 - val_loss: 0.9788 - val_accuracy: 0.5315\n",
            "Epoch 195/200\n",
            "34/34 [==============================] - 0s 3ms/step - loss: 0.8075 - accuracy: 0.5572 - val_loss: 0.9778 - val_accuracy: 0.5315\n",
            "Epoch 196/200\n",
            "34/34 [==============================] - 0s 3ms/step - loss: 0.7794 - accuracy: 0.5602 - val_loss: 0.9729 - val_accuracy: 0.5360\n",
            "Epoch 197/200\n",
            "34/34 [==============================] - 0s 4ms/step - loss: 0.7911 - accuracy: 0.5919 - val_loss: 0.9756 - val_accuracy: 0.5315\n",
            "Epoch 198/200\n",
            "34/34 [==============================] - 0s 3ms/step - loss: 0.7509 - accuracy: 0.5904 - val_loss: 0.9711 - val_accuracy: 0.5315\n",
            "Epoch 199/200\n",
            "34/34 [==============================] - 0s 4ms/step - loss: 0.8087 - accuracy: 0.5452 - val_loss: 0.9719 - val_accuracy: 0.5315\n",
            "Epoch 200/200\n",
            "34/34 [==============================] - 0s 3ms/step - loss: 0.7926 - accuracy: 0.5693 - val_loss: 0.9677 - val_accuracy: 0.5270\n"
          ]
        }
      ]
    },
    {
      "cell_type": "markdown",
      "metadata": {
        "id": "JGEoCgFDgC3P"
      },
      "source": [
        "### Plot Loss and Accuracy"
      ]
    },
    {
      "cell_type": "code",
      "metadata": {
        "colab": {
          "base_uri": "https://localhost:8080/",
          "height": 295
        },
        "id": "2xaJSLowDawG",
        "outputId": "0a7945ec-bb4c-442b-d6a8-2e86fe0f26ae"
      },
      "source": [
        "plt.plot(history.history['accuracy'])\n",
        "plt.plot(history.history['val_accuracy'])\n",
        "plt.title('model accuracy')\n",
        "plt.ylabel('accuracy')\n",
        "plt.xlabel('epoch')\n",
        "plt.legend(['train', 'test'], loc='upper left')\n",
        "plt.show()"
      ],
      "execution_count": 30,
      "outputs": [
        {
          "output_type": "display_data",
          "data": {
            "image/png": "[encoded data removed]",
            "text/plain": [
              "<Figure size 432x288 with 1 Axes>"
            ]
          },
          "metadata": {
            "needs_background": "light"
          }
        }
      ]
    },
    {
      "cell_type": "code",
      "metadata": {
        "colab": {
          "base_uri": "https://localhost:8080/",
          "height": 295
        },
        "id": "lzNLa-f3EPMD",
        "outputId": "d3ef38f5-1c30-4a3f-bc76-88a2da010585"
      },
      "source": [
        "plt.plot(history.history['loss'])\n",
        "plt.plot(history.history['val_loss'])\n",
        "plt.title('model loss')\n",
        "plt.ylabel('loss')\n",
        "plt.xlabel('epoch')\n",
        "plt.legend(['train', 'test'], loc='upper right')\n",
        "plt.show()"
      ],
      "execution_count": 31,
      "outputs": [
        {
          "output_type": "display_data",
          "data": {
            "image/png": "[encoded data removed]",
            "text/plain": [
              "<Figure size 432x288 with 1 Axes>"
            ]
          },
          "metadata": {
            "needs_background": "light"
          }
        }
      ]
    },
    {
      "cell_type": "code",
      "metadata": {
        "id": "fz4UzJt7ZVz2"
      },
      "source": [
        "y_pred = model.predict(X_test_scaled)"
      ],
      "execution_count": 32,
      "outputs": []
    },
    {
      "cell_type": "code",
      "metadata": {
        "colab": {
          "base_uri": "https://localhost:8080/"
        },
        "id": "93mpvIEQdhW-",
        "outputId": "c28a48ca-b2f8-41dd-af25-b3201511769d"
      },
      "source": [
        "y_pred"
      ],
      "execution_count": 33,
      "outputs": [
        {
          "output_type": "execute_result",
          "data": {
            "text/plain": [
              "array([[2.3522529e-01, 6.2950873e-01, 1.3093488e-01, 4.3298686e-03,\n",
              "        1.2972206e-06],\n",
              "       [3.0352840e-37, 1.0749709e-18, 5.5971464e-07, 1.2128148e-03,\n",
              "        9.9878663e-01],\n",
              "       [2.9418228e-02, 4.9236906e-01, 3.8991201e-01, 8.7461531e-02,\n",
              "        8.3917694e-04],\n",
              "       ...,\n",
              "       [7.9287995e-05, 7.3809758e-02, 4.9121344e-01, 4.0015101e-01,\n",
              "        3.4746449e-02],\n",
              "       [3.1465527e-02, 6.8325639e-01, 2.7504364e-01, 1.0232717e-02,\n",
              "        1.7472803e-06],\n",
              "       [4.3617283e-24, 6.3624751e-11, 2.6076874e-03, 1.3274717e-01,\n",
              "        8.6464512e-01]], dtype=float32)"
            ]
          },
          "metadata": {},
          "execution_count": 33
        }
      ]
    },
    {
      "cell_type": "code",
      "metadata": {
        "id": "KXK9zwn4ZqUG"
      },
      "source": [
        "y_pred = np.argmax(y_pred, axis=1)"
      ],
      "execution_count": 34,
      "outputs": []
    },
    {
      "cell_type": "code",
      "metadata": {
        "id": "mTtfvvVge0QO"
      },
      "source": [
        "y_pred = y_pred + 1 # Ratings are from 1 to 5"
      ],
      "execution_count": 35,
      "outputs": []
    },
    {
      "cell_type": "code",
      "metadata": {
        "colab": {
          "base_uri": "https://localhost:8080/"
        },
        "id": "JAySTOOSe5k0",
        "outputId": "96a951b6-6b0e-413c-d0e4-280ecb071ac6"
      },
      "source": [
        "y_pred"
      ],
      "execution_count": 36,
      "outputs": [
        {
          "output_type": "execute_result",
          "data": {
            "text/plain": [
              "array([2, 5, 2, 3, 3, 4, 3, 4, 2, 5, 4, 3, 3, 5, 4, 2, 1, 5, 2, 5, 3, 2,\n",
              "       2, 1, 5, 3, 3, 2, 5, 4, 1, 1, 4, 2, 3, 1, 2, 5, 2, 4, 4, 1, 5, 2,\n",
              "       4, 5, 2, 4, 1, 2, 4, 2, 4, 2, 4, 2, 1, 5, 2, 5, 2, 5, 5, 4, 2, 4,\n",
              "       3, 5, 3, 3, 2, 2, 3, 4, 4, 4, 4, 2, 4, 4, 4, 4, 4, 3, 2, 2, 3, 3,\n",
              "       3, 4, 2, 4, 5, 4, 3, 2, 4, 3, 1, 2, 3, 3, 5, 2, 3, 4, 4, 3, 3, 1,\n",
              "       3, 1, 4, 5, 4, 5, 5, 3, 2, 3, 3, 1, 3, 2, 5, 4, 4, 3, 4, 2, 5, 3,\n",
              "       4, 2, 2, 4, 2, 4, 1, 3, 5, 2, 4, 1, 2, 3, 2, 2, 4, 5, 4, 4, 4, 1,\n",
              "       2, 1, 3, 4, 3, 3, 5, 4, 4, 2, 5, 5, 1, 3, 4, 4, 2, 4, 2, 3, 4, 3,\n",
              "       2, 4, 3, 3, 3, 5, 3, 1, 4, 5, 3, 3, 5, 3, 5, 1, 1, 4, 2, 2, 4, 5,\n",
              "       4, 4, 3, 3, 4, 5, 2, 2, 4, 4, 3, 2, 3, 4, 4, 2, 3, 3, 3, 3, 5, 2,\n",
              "       4, 2, 3, 3, 2, 3, 3, 1, 2, 5, 4, 2, 3, 4, 4, 2, 5, 1, 4, 5, 4, 4,\n",
              "       2, 4, 2, 4, 4, 1, 1, 2, 4, 2, 4, 4, 4, 4, 1, 2, 4, 1, 2, 2, 3, 3,\n",
              "       1, 5, 3, 5, 1, 4, 2, 1, 2, 4, 4, 4, 1, 4, 2, 3, 3, 4, 4, 5, 1, 2,\n",
              "       3, 2, 2, 2, 3, 1, 2, 3, 2, 5])"
            ]
          },
          "metadata": {},
          "execution_count": 36
        }
      ]
    },
    {
      "cell_type": "code",
      "metadata": {
        "colab": {
          "base_uri": "https://localhost:8080/"
        },
        "id": "E6LyZ1OnfIwY",
        "outputId": "bc87d7ee-cdb9-4192-a209-c64c191ebcc4"
      },
      "source": [
        "y_test.values"
      ],
      "execution_count": 37,
      "outputs": [
        {
          "output_type": "execute_result",
          "data": {
            "text/plain": [
              "array([3, 5, 2, 3, 3, 3, 4, 4, 3, 5, 4, 3, 4, 4, 3, 2, 2, 5, 3, 4, 5, 3,\n",
              "       2, 2, 5, 3, 4, 2, 4, 4, 2, 2, 4, 3, 2, 2, 3, 5, 2, 4, 5, 1, 5, 3,\n",
              "       4, 5, 3, 3, 1, 2, 3, 1, 4, 3, 4, 2, 1, 5, 2, 5, 4, 4, 5, 4, 2, 4,\n",
              "       4, 4, 3, 2, 3, 2, 4, 3, 2, 3, 5, 2, 5, 4, 2, 4, 4, 3, 3, 3, 2, 4,\n",
              "       3, 4, 2, 3, 3, 3, 3, 2, 4, 2, 1, 2, 4, 4, 5, 3, 3, 4, 4, 3, 3, 3,\n",
              "       3, 1, 4, 5, 5, 5, 4, 3, 2, 3, 2, 3, 3, 3, 4, 4, 4, 4, 4, 4, 5, 2,\n",
              "       3, 2, 1, 3, 3, 3, 1, 4, 4, 3, 3, 1, 3, 3, 3, 2, 4, 4, 4, 3, 3, 1,\n",
              "       2, 1, 3, 3, 4, 5, 4, 2, 3, 2, 5, 4, 1, 3, 4, 4, 2, 4, 2, 2, 5, 3,\n",
              "       2, 5, 3, 3, 3, 4, 3, 2, 4, 5, 3, 3, 5, 3, 5, 2, 3, 3, 4, 2, 3, 4,\n",
              "       4, 3, 4, 3, 5, 5, 2, 2, 4, 3, 3, 2, 3, 3, 4, 2, 5, 3, 1, 3, 5, 2,\n",
              "       3, 4, 3, 3, 1, 2, 4, 2, 4, 5, 3, 2, 3, 5, 4, 1, 4, 1, 5, 5, 5, 3,\n",
              "       3, 4, 2, 4, 4, 1, 2, 2, 5, 2, 4, 3, 4, 4, 2, 3, 3, 1, 3, 3, 4, 3,\n",
              "       2, 5, 3, 5, 1, 4, 2, 2, 3, 4, 5, 3, 1, 4, 2, 2, 3, 3, 4, 5, 1, 2,\n",
              "       3, 2, 3, 4, 4, 1, 3, 3, 3, 5])"
            ]
          },
          "metadata": {},
          "execution_count": 37
        }
      ]
    },
    {
      "cell_type": "code",
      "metadata": {
        "colab": {
          "base_uri": "https://localhost:8080/",
          "height": 281
        },
        "id": "CZpPzhnYZ8uK",
        "outputId": "6bed6fa9-b22f-4379-aba8-edad725897ce"
      },
      "source": [
        "plot_conf_matrix(y_test.values,y_pred,unique_class_label, title=\"Confusion Matrix for Neural Network\" )"
      ],
      "execution_count": 38,
      "outputs": [
        {
          "output_type": "display_data",
          "data": {
            "image/png": "[encoded data removed]",
            "text/plain": [
              "<Figure size 360x288 with 2 Axes>"
            ]
          },
          "metadata": {
            "needs_background": "light"
          }
        }
      ]
    },
    {
      "cell_type": "code",
      "metadata": {
        "colab": {
          "base_uri": "https://localhost:8080/"
        },
        "id": "-VpIdb3-fXot",
        "outputId": "b8dde7fc-a40d-4705-e6f4-8ae75ad9fa31"
      },
      "source": [
        "print(\"Accuracy Score for \" +  model.__class__.__name__ + \"  \" \n",
        "        + str(accuracy_score(y_test.values,y_pred)) )\n",
        "print(\"F1 Score for \" + model.__class__.__name__ + \"  \" + \n",
        "        str(f1_score(y_test.values, y_pred, average='weighted')))"
      ],
      "execution_count": 39,
      "outputs": [
        {
          "output_type": "stream",
          "name": "stdout",
          "text": [
            "Accuracy Score for Sequential  0.5371621621621622\n",
            "F1 Score for Sequential  0.532646185542527\n"
          ]
        }
      ]
    },
    {
      "cell_type": "code",
      "metadata": {
        "id": "Qe0B9gjJd-lf"
      },
      "source": [
        "model_json = model.to_json()\n",
        "with open('/content/model_v2.json','w') as json_file:\n",
        "  json_file.write(model_json)"
      ],
      "execution_count": 40,
      "outputs": []
    },
    {
      "cell_type": "code",
      "metadata": {
        "id": "rST-N5tQdnR6"
      },
      "source": [
        "from keras.models import save_model\n",
        "model_weights = save_model(model, '/content/model_weights_v2.hdf5')"
      ],
      "execution_count": 41,
      "outputs": []
    },
    {
      "cell_type": "markdown",
      "metadata": {
        "id": "g7jAiC9Oeerp"
      },
      "source": [
        "#### Performing testing using Loaded model"
      ]
    },
    {
      "cell_type": "code",
      "metadata": {
        "colab": {
          "base_uri": "https://localhost:8080/",
          "height": 122
        },
        "id": "EnmcnCTVen8v",
        "outputId": "fd4d143b-a0d2-4269-ecfb-b7f29334d6ad"
      },
      "source": [
        "with open('/content/model_v2.json', 'r') as json_file:\n",
        "  json_saved_model = json_file.read()\n",
        "json_saved_model"
      ],
      "execution_count": 42,
      "outputs": [
        {
          "output_type": "execute_result",
          "data": {
            "application/vnd.google.colaboratory.intrinsic+json": {
              "type": "string"
            },
            "text/plain": [
              "'{\"class_name\": \"Sequential\", \"config\": {\"name\": \"sequential\", \"layers\": [{\"class_name\": \"InputLayer\", \"config\": {\"batch_input_shape\": [null, 16], \"dtype\": \"float32\", \"sparse\": false, \"ragged\": false, \"name\": \"dense_input\"}}, {\"class_name\": \"Dense\", \"config\": {\"name\": \"dense\", \"trainable\": true, \"batch_input_shape\": [null, 16], \"dtype\": \"float32\", \"units\": 13, \"activation\": \"relu\", \"use_bias\": true, \"kernel_initializer\": {\"class_name\": \"GlorotUniform\", \"config\": {\"seed\": null}}, \"bias_initializer\": {\"class_name\": \"Zeros\", \"config\": {}}, \"kernel_regularizer\": null, \"bias_regularizer\": null, \"activity_regularizer\": null, \"kernel_constraint\": null, \"bias_constraint\": null}}, {\"class_name\": \"Dense\", \"config\": {\"name\": \"dense_1\", \"trainable\": true, \"dtype\": \"float32\", \"units\": 15, \"activation\": \"relu\", \"use_bias\": true, \"kernel_initializer\": {\"class_name\": \"GlorotUniform\", \"config\": {\"seed\": null}}, \"bias_initializer\": {\"class_name\": \"Zeros\", \"config\": {}}, \"kernel_regularizer\": null, \"bias_regularizer\": null, \"activity_regularizer\": null, \"kernel_constraint\": null, \"bias_constraint\": null}}, {\"class_name\": \"Dropout\", \"config\": {\"name\": \"dropout\", \"trainable\": true, \"dtype\": \"float32\", \"rate\": 0.2, \"noise_shape\": null, \"seed\": null}}, {\"class_name\": \"Dense\", \"config\": {\"name\": \"dense_2\", \"trainable\": true, \"dtype\": \"float32\", \"units\": 9, \"activation\": \"relu\", \"use_bias\": true, \"kernel_initializer\": {\"class_name\": \"GlorotUniform\", \"config\": {\"seed\": null}}, \"bias_initializer\": {\"class_name\": \"Zeros\", \"config\": {}}, \"kernel_regularizer\": null, \"bias_regularizer\": null, \"activity_regularizer\": null, \"kernel_constraint\": null, \"bias_constraint\": null}}, {\"class_name\": \"Dropout\", \"config\": {\"name\": \"dropout_1\", \"trainable\": true, \"dtype\": \"float32\", \"rate\": 0.2, \"noise_shape\": null, \"seed\": null}}, {\"class_name\": \"Dense\", \"config\": {\"name\": \"dense_3\", \"trainable\": true, \"dtype\": \"float32\", \"units\": 5, \"activation\": \"softmax\", \"use_bias\": true, \"kernel_initializer\": {\"class_name\": \"GlorotUniform\", \"config\": {\"seed\": null}}, \"bias_initializer\": {\"class_name\": \"Zeros\", \"config\": {}}, \"kernel_regularizer\": null, \"bias_regularizer\": null, \"activity_regularizer\": null, \"kernel_constraint\": null, \"bias_constraint\": null}}]}, \"keras_version\": \"2.7.0\", \"backend\": \"tensorflow\"}'"
            ]
          },
          "metadata": {},
          "execution_count": 42
        }
      ]
    },
    {
      "cell_type": "code",
      "metadata": {
        "id": "KVjlvMHNdnHW"
      },
      "source": [
        "network_loaded = tf.keras.models.model_from_json(json_saved_model)\n",
        "network_loaded.load_weights('model_weights_v2.hdf5')\n",
        "network_loaded.compile(loss = 'categorical_crossentropy', optimizer='Adam', metrics=['accuracy'])"
      ],
      "execution_count": 43,
      "outputs": []
    },
    {
      "cell_type": "code",
      "metadata": {
        "id": "f50j09VHeymq"
      },
      "source": [
        "y_pred_loaded = network_loaded.predict(X_test_scaled)"
      ],
      "execution_count": 44,
      "outputs": []
    },
    {
      "cell_type": "code",
      "metadata": {
        "id": "sUzNFhozfEyd"
      },
      "source": [
        "y_pred_loaded = np.argmax(y_pred_loaded, axis=1)"
      ],
      "execution_count": 45,
      "outputs": []
    },
    {
      "cell_type": "code",
      "metadata": {
        "id": "cWb40j2sfPuy"
      },
      "source": [
        "y_pred_loaded +=1"
      ],
      "execution_count": 46,
      "outputs": []
    },
    {
      "cell_type": "code",
      "metadata": {
        "colab": {
          "base_uri": "https://localhost:8080/",
          "height": 281
        },
        "id": "PtePd9GXfMzb",
        "outputId": "9d59f961-0eb4-4b55-d0a4-e98e96f5d3d4"
      },
      "source": [
        "plot_conf_matrix(y_test.values,y_pred_loaded,unique_class_label, title=\"Confusion Matrix for Neural Network\")"
      ],
      "execution_count": 47,
      "outputs": [
        {
          "output_type": "display_data",
          "data": {
            "image/png": "[encoded data removed]",
            "text/plain": [
              "<Figure size 360x288 with 2 Axes>"
            ]
          },
          "metadata": {
            "needs_background": "light"
          }
        }
      ]
    },
    {
      "cell_type": "markdown",
      "metadata": {
        "id": "Fkfat6MVgQWf"
      },
      "source": [
        "#### Prediction on Asia Developed Dataset"
      ]
    },
    {
      "cell_type": "code",
      "metadata": {
        "id": "GmboS8VLgUA2"
      },
      "source": [
        "asia_df = pd.read_csv('https://raw.githubusercontent.com/nishitgala89/ProjectDissertation/main/Datasheets/3_Modelling/Generalization_Check_Asia_Developed.csv').set_index(\"SecId\")\n",
        "asia_df = morningStarUtilities.createSize_InvestmentTypeFeature(asia_df)\n"
      ],
      "execution_count": 48,
      "outputs": []
    },
    {
      "cell_type": "code",
      "metadata": {
        "colab": {
          "base_uri": "https://localhost:8080/",
          "height": 246
        },
        "id": "4-2cppx6gZOQ",
        "outputId": "5c896dd3-1e6a-41da-c43c-537657505660"
      },
      "source": [
        "asia_df[asia_df.FundTNAV.isnull()]"
      ],
      "execution_count": 49,
      "outputs": [
        {
          "output_type": "execute_result",
          "data": {
            "text/html": [
              "\n",
              "  <div id=\"df-66a0a451-8cb0-48d0-91f7-91fa0786bd5e\">\n",
              "    <div class=\"colab-df-container\">\n",
              "      <div>\n",
              "<style scoped>\n",
              "    .dataframe tbody tr th:only-of-type {\n",
              "        vertical-align: middle;\n",
              "    }\n",
              "\n",
              "    .dataframe tbody tr th {\n",
              "        vertical-align: top;\n",
              "    }\n",
              "\n",
              "    .dataframe thead th {\n",
              "        text-align: right;\n",
              "    }\n",
              "</style>\n",
              "<table border=\"1\" class=\"dataframe\">\n",
              "  <thead>\n",
              "    <tr style=\"text-align: right;\">\n",
              "      <th></th>\n",
              "      <th>Name</th>\n",
              "      <th>StarRatingM255</th>\n",
              "      <th>SustainabilityRank</th>\n",
              "      <th>CategoryName</th>\n",
              "      <th>Yield_M12</th>\n",
              "      <th>GBRReturnW1</th>\n",
              "      <th>GBRReturnM1</th>\n",
              "      <th>GBRReturnM3</th>\n",
              "      <th>GBRReturnM6</th>\n",
              "      <th>GBRReturnM0</th>\n",
              "      <th>GBRReturnM12</th>\n",
              "      <th>GBRReturnM36</th>\n",
              "      <th>GBRReturnM60</th>\n",
              "      <th>MaxFrontEndLoad</th>\n",
              "      <th>OngoingCostActual</th>\n",
              "      <th>TransactionFeeActual</th>\n",
              "      <th>ManagerTenure</th>\n",
              "      <th>FundTNAV</th>\n",
              "      <th>EquityStyleBox</th>\n",
              "      <th>AverageMarketCapital</th>\n",
              "      <th>MorningstarRiskM255</th>\n",
              "      <th>AlphaM36</th>\n",
              "      <th>BetaM36</th>\n",
              "      <th>R2M36</th>\n",
              "      <th>StandardDeviationM36</th>\n",
              "      <th>SharpeM36</th>\n",
              "      <th>ReturnProfilePreservation</th>\n",
              "      <th>ReturnProfileIncome</th>\n",
              "      <th>ReturnProfileHedging</th>\n",
              "      <th>TrackRecordExtension</th>\n",
              "      <th>Size</th>\n",
              "      <th>Style</th>\n",
              "    </tr>\n",
              "    <tr>\n",
              "      <th>SecId</th>\n",
              "      <th></th>\n",
              "      <th></th>\n",
              "      <th></th>\n",
              "      <th></th>\n",
              "      <th></th>\n",
              "      <th></th>\n",
              "      <th></th>\n",
              "      <th></th>\n",
              "      <th></th>\n",
              "      <th></th>\n",
              "      <th></th>\n",
              "      <th></th>\n",
              "      <th></th>\n",
              "      <th></th>\n",
              "      <th></th>\n",
              "      <th></th>\n",
              "      <th></th>\n",
              "      <th></th>\n",
              "      <th></th>\n",
              "      <th></th>\n",
              "      <th></th>\n",
              "      <th></th>\n",
              "      <th></th>\n",
              "      <th></th>\n",
              "      <th></th>\n",
              "      <th></th>\n",
              "      <th></th>\n",
              "      <th></th>\n",
              "      <th></th>\n",
              "      <th></th>\n",
              "      <th></th>\n",
              "      <th></th>\n",
              "    </tr>\n",
              "  </thead>\n",
              "  <tbody>\n",
              "    <tr>\n",
              "      <th>F00001071Q</th>\n",
              "      <td>BIEF Emerging Markets A GBP Acc</td>\n",
              "      <td>4</td>\n",
              "      <td>2</td>\n",
              "      <td>Global Emerging Markets Equity</td>\n",
              "      <td>0.62047</td>\n",
              "      <td>1.43</td>\n",
              "      <td>1.64</td>\n",
              "      <td>-3.35</td>\n",
              "      <td>-7.72</td>\n",
              "      <td>0.09</td>\n",
              "      <td>10.79</td>\n",
              "      <td>10.05</td>\n",
              "      <td>NaN</td>\n",
              "      <td>NaN</td>\n",
              "      <td>1.12</td>\n",
              "      <td>1.17</td>\n",
              "      <td>24.08</td>\n",
              "      <td>NaN</td>\n",
              "      <td>2</td>\n",
              "      <td>28614.24791</td>\n",
              "      <td>4</td>\n",
              "      <td>2.47</td>\n",
              "      <td>1.02</td>\n",
              "      <td>89.7</td>\n",
              "      <td>16.24</td>\n",
              "      <td>0.66</td>\n",
              "      <td>3</td>\n",
              "      <td>1</td>\n",
              "      <td>3.0</td>\n",
              "      <td>False</td>\n",
              "      <td>1</td>\n",
              "      <td>2</td>\n",
              "    </tr>\n",
              "  </tbody>\n",
              "</table>\n",
              "</div>\n",
              "      <button class=\"colab-df-convert\" onclick=\"convertToInteractive('df-66a0a451-8cb0-48d0-91f7-91fa0786bd5e')\"\n",
              "              title=\"Convert this dataframe to an interactive table.\"\n",
              "              style=\"display:none;\">\n",
              "        \n",
              "  <svg xmlns=\"http://www.w3.org/2000/svg\" height=\"24px\"viewBox=\"0 0 24 24\"\n",
              "       width=\"24px\">\n",
              "    <path d=\"M0 0h24v24H0V0z\" fill=\"none\"/>\n",
              "    <path d=\"M18.56 5.44l.94 2.06.94-2.06 2.06-.94-2.06-.94-.94-2.06-.94 2.06-2.06.94zm-11 1L8.5 8.5l.94-2.06 2.06-.94-2.06-.94L8.5 2.5l-.94 2.06-2.06.94zm10 10l.94 2.06.94-2.06 2.06-.94-2.06-.94-.94-2.06-.94 2.06-2.06.94z\"/><path d=\"M17.41 7.96l-1.37-1.37c-.4-.4-.92-.59-1.43-.59-.52 0-1.04.2-1.43.59L10.3 9.45l-7.72 7.72c-.78.78-.78 2.05 0 2.83L4 21.41c.39.39.9.59 1.41.59.51 0 1.02-.2 1.41-.59l7.78-7.78 2.81-2.81c.8-.78.8-2.07 0-2.86zM5.41 20L4 18.59l7.72-7.72 1.47 1.35L5.41 20z\"/>\n",
              "  </svg>\n",
              "      </button>\n",
              "      \n",
              "  <style>\n",
              "    .colab-df-container {\n",
              "      display:flex;\n",
              "      flex-wrap:wrap;\n",
              "      gap: 12px;\n",
              "    }\n",
              "\n",
              "    .colab-df-convert {\n",
              "      background-color: #E8F0FE;\n",
              "      border: none;\n",
              "      border-radius: 50%;\n",
              "      cursor: pointer;\n",
              "      display: none;\n",
              "      fill: #1967D2;\n",
              "      height: 32px;\n",
              "      padding: 0 0 0 0;\n",
              "      width: 32px;\n",
              "    }\n",
              "\n",
              "    .colab-df-convert:hover {\n",
              "      background-color: #E2EBFA;\n",
              "      box-shadow: 0px 1px 2px rgba(60, 64, 67, 0.3), 0px 1px 3px 1px rgba(60, 64, 67, 0.15);\n",
              "      fill: #174EA6;\n",
              "    }\n",
              "\n",
              "    [theme=dark] .colab-df-convert {\n",
              "      background-color: #3B4455;\n",
              "      fill: #D2E3FC;\n",
              "    }\n",
              "\n",
              "    [theme=dark] .colab-df-convert:hover {\n",
              "      background-color: #434B5C;\n",
              "      box-shadow: 0px 1px 3px 1px rgba(0, 0, 0, 0.15);\n",
              "      filter: drop-shadow(0px 1px 2px rgba(0, 0, 0, 0.3));\n",
              "      fill: #FFFFFF;\n",
              "    }\n",
              "  </style>\n",
              "\n",
              "      <script>\n",
              "        const buttonEl =\n",
              "          document.querySelector('#df-66a0a451-8cb0-48d0-91f7-91fa0786bd5e button.colab-df-convert');\n",
              "        buttonEl.style.display =\n",
              "          google.colab.kernel.accessAllowed ? 'block' : 'none';\n",
              "\n",
              "        async function convertToInteractive(key) {\n",
              "          const element = document.querySelector('#df-66a0a451-8cb0-48d0-91f7-91fa0786bd5e');\n",
              "          const dataTable =\n",
              "            await google.colab.kernel.invokeFunction('convertToInteractive',\n",
              "                                                     [key], {});\n",
              "          if (!dataTable) return;\n",
              "\n",
              "          const docLinkHtml = 'Like what you see? Visit the ' +\n",
              "            '<a target=\"_blank\" href=https://colab.research.google.com/notebooks/data_table.ipynb>data table notebook</a>'\n",
              "            + ' to learn more about interactive tables.';\n",
              "          element.innerHTML = '';\n",
              "          dataTable['output_type'] = 'display_data';\n",
              "          await google.colab.output.renderOutput(dataTable, element);\n",
              "          const docLink = document.createElement('div');\n",
              "          docLink.innerHTML = docLinkHtml;\n",
              "          element.appendChild(docLink);\n",
              "        }\n",
              "      </script>\n",
              "    </div>\n",
              "  </div>\n",
              "  "
            ],
            "text/plain": [
              "                                       Name  StarRatingM255  ...  Size Style\n",
              "SecId                                                        ...            \n",
              "F00001071Q  BIEF Emerging Markets A GBP Acc               4  ...     1     2\n",
              "\n",
              "[1 rows x 32 columns]"
            ]
          },
          "metadata": {},
          "execution_count": 49
        }
      ]
    },
    {
      "cell_type": "code",
      "metadata": {
        "id": "ck3RLQZNgbwn"
      },
      "source": [
        "asia_df.drop(index='F00001071Q',inplace=True)\n"
      ],
      "execution_count": 50,
      "outputs": []
    },
    {
      "cell_type": "code",
      "metadata": {
        "id": "VS9meOpSgegy"
      },
      "source": [
        "X_asia = asia_df[imp_features]\n",
        "y_asia = asia_df['StarRatingM255']\n",
        "X_asia_scaled = scaler.transform(X_asia)"
      ],
      "execution_count": 51,
      "outputs": []
    },
    {
      "cell_type": "code",
      "metadata": {
        "id": "jV4l1lYmgq59"
      },
      "source": [
        "y_asia_pred = network_loaded.predict(X_asia_scaled)\n",
        "y_asia_pred = np.argmax(y_asia_pred, axis=1)\n",
        "y_asia_pred += 1"
      ],
      "execution_count": 52,
      "outputs": []
    },
    {
      "cell_type": "code",
      "metadata": {
        "colab": {
          "base_uri": "https://localhost:8080/"
        },
        "id": "JuBFmzuzimHJ",
        "outputId": "485769f8-e21b-4968-bdf1-32f9e44a3ed7"
      },
      "source": [
        "y_asia.shape"
      ],
      "execution_count": 53,
      "outputs": [
        {
          "output_type": "execute_result",
          "data": {
            "text/plain": [
              "(432,)"
            ]
          },
          "metadata": {},
          "execution_count": 53
        }
      ]
    },
    {
      "cell_type": "code",
      "metadata": {
        "colab": {
          "base_uri": "https://localhost:8080/"
        },
        "id": "LkXSYbWrjJKT",
        "outputId": "ebc22d1a-399c-4f3c-dd40-f8ab3ddd5d66"
      },
      "source": [
        "y_asia_pred.shape"
      ],
      "execution_count": 54,
      "outputs": [
        {
          "output_type": "execute_result",
          "data": {
            "text/plain": [
              "(432,)"
            ]
          },
          "metadata": {},
          "execution_count": 54
        }
      ]
    },
    {
      "cell_type": "code",
      "metadata": {
        "colab": {
          "base_uri": "https://localhost:8080/"
        },
        "id": "vwHEPAwsh_5Y",
        "outputId": "6ac79122-5f44-495d-f044-4412202240a5"
      },
      "source": [
        "print(\"Accuracy Score for \" +  model.__class__.__name__ + \"  \" \n",
        "        + str(accuracy_score(y_asia.values,y_asia_pred)) )\n",
        "print(\"F1 Score for \" + model.__class__.__name__ + \"  \" + \n",
        "        str(f1_score(y_asia.values, y_asia_pred, average='weighted')))"
      ],
      "execution_count": 55,
      "outputs": [
        {
          "output_type": "stream",
          "name": "stdout",
          "text": [
            "Accuracy Score for Sequential  0.5578703703703703\n",
            "F1 Score for Sequential  0.5476033607306009\n"
          ]
        }
      ]
    },
    {
      "cell_type": "code",
      "metadata": {
        "colab": {
          "base_uri": "https://localhost:8080/",
          "height": 281
        },
        "id": "RzJhuUlRg5H7",
        "outputId": "193a5b25-4646-497f-96f7-8bae3cd537c3"
      },
      "source": [
        "plot_conf_matrix(y_asia.values,y_asia_pred,unique_class_label, title=\"Confusion Matrix for Neural Network\" )"
      ],
      "execution_count": 56,
      "outputs": [
        {
          "output_type": "display_data",
          "data": {
            "image/png": "[encoded data removed]",
            "text/plain": [
              "<Figure size 360x288 with 2 Axes>"
            ]
          },
          "metadata": {
            "needs_background": "light"
          }
        }
      ]
    }
  ]
}