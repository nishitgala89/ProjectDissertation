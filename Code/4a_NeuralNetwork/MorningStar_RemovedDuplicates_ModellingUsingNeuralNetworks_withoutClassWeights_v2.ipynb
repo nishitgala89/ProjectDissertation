{
  "nbformat": 4,
  "nbformat_minor": 0,
  "metadata": {
    "colab": {
      "name": "MorningStar_RemovedDuplicates_ModellingUsingNeuralNetworks_v2.ipynb",
      "provenance": [],
      "collapsed_sections": []
    },
    "kernelspec": {
      "name": "python3",
      "display_name": "Python 3"
    },
    "language_info": {
      "name": "python"
    }
  },
  "cells": [
    {
      "cell_type": "markdown",
      "metadata": {
        "id": "eeazHRS71neh"
      },
      "source": [
        "###**Mounting Google Drive**"
      ]
    },
    {
      "cell_type": "code",
      "metadata": {
        "id": "g6DZ90-rEagh"
      },
      "source": [
        "# from google.colab import drive\n",
        "# drive.mount('/content/drive')"
      ],
      "execution_count": 57,
      "outputs": []
    },
    {
      "cell_type": "code",
      "metadata": {
        "id": "TjSJgtxzVmzt"
      },
      "source": [
        "rand_state=42"
      ],
      "execution_count": 58,
      "outputs": []
    },
    {
      "cell_type": "markdown",
      "metadata": {
        "id": "is2MxjpD5mog"
      },
      "source": [
        "###**Import Libraries**"
      ]
    },
    {
      "cell_type": "code",
      "metadata": {
        "id": "5PGgVZfRChJL"
      },
      "source": [
        "from google.colab import files\n",
        "import pandas as pd\n",
        "import numpy as np\n",
        "import matplotlib.pyplot as plt\n",
        "import seaborn as sns\n",
        "from sklearn.model_selection import train_test_split\n",
        "from sklearn.model_selection import StratifiedKFold,cross_val_score,KFold,StratifiedKFold\n",
        "from sklearn.metrics import accuracy_score,f1_score\n",
        "from sklearn.preprocessing import StandardScaler,MinMaxScaler\n",
        "import tensorflow as tf\n",
        "from tensorflow.keras.layers import Dense, Dropout, Input\n",
        "from tensorflow.keras.models import Sequential\n",
        "from tensorflow.keras.optimizers import Adam"
      ],
      "execution_count": 59,
      "outputs": []
    },
    {
      "cell_type": "code",
      "metadata": {
        "id": "kNHbvZENuvfl"
      },
      "source": [
        "from numpy.random import seed\n",
        "seed(42)\n",
        "tf.random.set_seed(42)"
      ],
      "execution_count": 60,
      "outputs": []
    },
    {
      "cell_type": "code",
      "metadata": {
        "id": "AXxoO94N5TTS"
      },
      "source": [
        "from sklearn.metrics import confusion_matrix\n",
        "def plot_conf_matrix(y_test,y_pred,uniqueclassLabel, title=\"CMatrix\"):\n",
        "  cm = confusion_matrix(y_true=y_test,y_pred=y_pred,labels=uniqueclassLabel)\n",
        "  plt.figure(figsize=(5,4))\n",
        "  plt.title(title)\n",
        "  #ax = plt.subplot()\n",
        "  sns.heatmap(cm, annot=True,cmap='Blues',\n",
        "              yticklabels=uniqueclassLabel,xticklabels=uniqueclassLabel,fmt='3g')"
      ],
      "execution_count": 61,
      "outputs": []
    },
    {
      "cell_type": "markdown",
      "metadata": {
        "id": "6nv-BCDw7Roe"
      },
      "source": [
        "###**Import Utility File**"
      ]
    },
    {
      "cell_type": "code",
      "metadata": {
        "id": "eTu1q8Gh6ckf"
      },
      "source": [
        "# import sys\n",
        "# path = \"/content/drive/MyDrive/Colab Notebooks/Project_Dissertation\"\n",
        "# sys.path.insert(0,path + \"/Code\")\n",
        "# import morningStarUtilities"
      ],
      "execution_count": 62,
      "outputs": []
    },
    {
      "cell_type": "code",
      "metadata": {
        "colab": {
          "base_uri": "https://localhost:8080/"
        },
        "id": "4NPsyAxj0bBh",
        "outputId": "8dec5710-8d98-4d65-c048-6bba96598b3f"
      },
      "source": [
        "user = 'nishitgala89'\n",
        "repo = 'ProjectDissertation'\n",
        "src_dir = \"Code/utilities\"\n",
        "pyfile = \"morningStarUtilities.py\"\n",
        "\n",
        "url = f\"https://raw.githubusercontent.com/{user}/{repo}/main/{src_dir}/{pyfile}\"\n",
        "!wget --no-cache --backups=1 {url}\n",
        "\n",
        "import morningStarUtilities"
      ],
      "execution_count": 63,
      "outputs": [
        {
          "output_type": "stream",
          "name": "stdout",
          "text": [
            "--2022-01-09 01:53:54--  https://raw.githubusercontent.com/nishitgala89/ProjectDissertation/main/Code/utilities/morningStarUtilities.py\n",
            "Resolving raw.githubusercontent.com (raw.githubusercontent.com)... 185.199.110.133, 185.199.109.133, 185.199.111.133, ...\n",
            "Connecting to raw.githubusercontent.com (raw.githubusercontent.com)|185.199.110.133|:443... connected.\n",
            "HTTP request sent, awaiting response... 200 OK\n",
            "Length: 6484 (6.3K) [text/plain]\n",
            "Saving to: ‘morningStarUtilities.py’\n",
            "\n",
            "\rmorningStarUtilitie   0%[                    ]       0  --.-KB/s               \rmorningStarUtilitie 100%[===================>]   6.33K  --.-KB/s    in 0s      \n",
            "\n",
            "2022-01-09 01:53:54 (44.2 MB/s) - ‘morningStarUtilities.py’ saved [6484/6484]\n",
            "\n"
          ]
        }
      ]
    },
    {
      "cell_type": "markdown",
      "metadata": {
        "id": "F-wcjDaJ8t7Z"
      },
      "source": [
        "### **Import Training Data**"
      ]
    },
    {
      "cell_type": "code",
      "metadata": {
        "id": "LpS5-NC88vzy"
      },
      "source": [
        "# uploaded = files.upload()\n",
        "# train_df = pd.read_csv(io.BytesIO(uploaded['morningstar_removedDuplicates_train_withoutM60.csv']))"
      ],
      "execution_count": 64,
      "outputs": []
    },
    {
      "cell_type": "code",
      "metadata": {
        "id": "wp1s0SmlEhqw"
      },
      "source": [
        "train_df = pd.read_csv(\"https://raw.githubusercontent.com/nishitgala89/ProjectDissertation/main/Datasheets/3_Modelling/morningstar_removedDuplicates_train_withoutLogTransform_withoutM60.csv\").set_index(\"SecId\")"
      ],
      "execution_count": 65,
      "outputs": []
    },
    {
      "cell_type": "markdown",
      "metadata": {
        "id": "RgBksjh6_QMt"
      },
      "source": [
        "### **Import Testing Data**"
      ]
    },
    {
      "cell_type": "code",
      "metadata": {
        "id": "OKzcGENX_TNv"
      },
      "source": [
        "# uploaded = files.upload()\n",
        "# test_df = pd.read_csv(io.BytesIO(uploaded['morningstar_removedDuplicates_test_withoutM60.csv']))"
      ],
      "execution_count": 66,
      "outputs": []
    },
    {
      "cell_type": "code",
      "metadata": {
        "id": "1QC3JQfmGPp1"
      },
      "source": [
        "test_df = pd.read_csv('https://raw.githubusercontent.com/nishitgala89/ProjectDissertation/main/Datasheets/3_Modelling/morningstar_removedDuplicates_test_withoutLogTransform_withoutM60.csv').set_index(\"SecId\")"
      ],
      "execution_count": 67,
      "outputs": []
    },
    {
      "cell_type": "markdown",
      "metadata": {
        "id": "_T4GGYnf6tUB"
      },
      "source": [
        "### **Defining Training, Testing varibales**"
      ]
    },
    {
      "cell_type": "code",
      "metadata": {
        "id": "Gu7xuE_PBS9A"
      },
      "source": [
        "# imp_features = ['SustainabilityRank','GBRReturnM1','GBRReturnM3','GBRReturnM0','GBRReturnM12','GBRReturnM36','OngoingCostActual','TransactionFeeActual','FundTNAV',\n",
        "# 'AverageMarketCapital','MorningstarRiskM255','AlphaM36','BetaM36','R2M36','StandardDeviationM36','SharpeM36','Size','Style']\n",
        "imp_features = ['SustainabilityRank','GBRReturnM1','GBRReturnM3','GBRReturnM0','GBRReturnM36','OngoingCostActual','TransactionFeeActual','FundTNAV',\n",
        "'AverageMarketCapital','MorningstarRiskM255','AlphaM36','BetaM36','StandardDeviationM36','SharpeM36','Size','Style']\n",
        "X_train = train_df[imp_features]\n",
        "y_train = train_df[['StarRatingM255']]\n",
        "\n",
        "X_test = test_df[imp_features]\n",
        "y_test = test_df['StarRatingM255']"
      ],
      "execution_count": 68,
      "outputs": []
    },
    {
      "cell_type": "code",
      "metadata": {
        "id": "RNc7B6gHYyO_"
      },
      "source": [
        "y_train = y_train.astype('string')"
      ],
      "execution_count": 69,
      "outputs": []
    },
    {
      "cell_type": "code",
      "metadata": {
        "colab": {
          "base_uri": "https://localhost:8080/"
        },
        "id": "OkdudmSCcdUk",
        "outputId": "34e346c3-90c2-43a0-b517-1b430482bcf3"
      },
      "source": [
        "from sklearn.preprocessing import OneHotEncoder\n",
        "y_train_cat = OneHotEncoder().fit_transform(y_train[[\"StarRatingM255\"]]).toarray()\n",
        "y_train_cat.shape"
      ],
      "execution_count": 70,
      "outputs": [
        {
          "output_type": "execute_result",
          "data": {
            "text/plain": [
              "(886, 5)"
            ]
          },
          "metadata": {},
          "execution_count": 70
        }
      ]
    },
    {
      "cell_type": "code",
      "metadata": {
        "colab": {
          "base_uri": "https://localhost:8080/"
        },
        "id": "4XTYcqhHBR9I",
        "outputId": "86217ab4-d8b8-41c2-d61c-4a0765aa644f"
      },
      "source": [
        "X_train.shape[1], y_train.shape, y_train_cat.shape"
      ],
      "execution_count": 71,
      "outputs": [
        {
          "output_type": "execute_result",
          "data": {
            "text/plain": [
              "(16, (886, 1), (886, 5))"
            ]
          },
          "metadata": {},
          "execution_count": 71
        }
      ]
    },
    {
      "cell_type": "code",
      "metadata": {
        "colab": {
          "base_uri": "https://localhost:8080/"
        },
        "id": "UxjbFzBY_gSw",
        "outputId": "c2f53bad-7e38-42fd-8327-3f32ecba6970"
      },
      "source": [
        "X_test.shape,y_test.shape"
      ],
      "execution_count": 72,
      "outputs": [
        {
          "output_type": "execute_result",
          "data": {
            "text/plain": [
              "((296, 16), (296,))"
            ]
          },
          "metadata": {},
          "execution_count": 72
        }
      ]
    },
    {
      "cell_type": "markdown",
      "metadata": {
        "id": "-7XMS96relKM"
      },
      "source": [
        "### **Scaling the Data**"
      ]
    },
    {
      "cell_type": "code",
      "metadata": {
        "id": "ZPhgNmDZeqBr"
      },
      "source": [
        "scaler = StandardScaler()\n",
        "scaler.fit(X_train)\n",
        "X_train_scaled = scaler.transform(X_train)\n",
        "X_test_scaled = scaler.transform(X_test)"
      ],
      "execution_count": 73,
      "outputs": []
    },
    {
      "cell_type": "markdown",
      "metadata": {
        "id": "d_xfktBW7XKR"
      },
      "source": [
        "### **Verify the Training and Testing distribution as per Target Variable**"
      ]
    },
    {
      "cell_type": "code",
      "metadata": {
        "colab": {
          "base_uri": "https://localhost:8080/",
          "height": 292
        },
        "id": "YePM9m2wLL4P",
        "outputId": "daa2c714-0f34-4ac1-961b-8a50639a1cc5"
      },
      "source": [
        "morningStarUtilities.displayBarSubPlots([train_df,test_df],[\"Training Distribution\", \"Testing Distribution\"],\n",
        "                   \"StarRatingM255\")"
      ],
      "execution_count": 74,
      "outputs": [
        {
          "output_type": "display_data",
          "data": {
            "image/png": "[encoded data removed]",
            "text/plain": [
              "<Figure size 1080x288 with 2 Axes>"
            ]
          },
          "metadata": {
            "needs_background": "light"
          }
        }
      ]
    },
    {
      "cell_type": "markdown",
      "metadata": {
        "id": "H7xIH-gH9wwl"
      },
      "source": [
        "### **Creating runtime variables**"
      ]
    },
    {
      "cell_type": "code",
      "metadata": {
        "colab": {
          "base_uri": "https://localhost:8080/"
        },
        "id": "rDe-0LE772d-",
        "outputId": "21219861-48fa-41d9-88e9-71561f17bbeb"
      },
      "source": [
        "unique_class_label = list(train_df.StarRatingM255.unique())\n",
        "unique_class_label.sort()\n",
        "unique_class_label"
      ],
      "execution_count": 75,
      "outputs": [
        {
          "output_type": "execute_result",
          "data": {
            "text/plain": [
              "[1, 2, 3, 4, 5]"
            ]
          },
          "metadata": {},
          "execution_count": 75
        }
      ]
    },
    {
      "cell_type": "markdown",
      "metadata": {
        "id": "qWv0oQrW9jQL"
      },
      "source": [
        "### **Defining Neural Network Model**"
      ]
    },
    {
      "cell_type": "code",
      "metadata": {
        "colab": {
          "base_uri": "https://localhost:8080/"
        },
        "id": "iiMBga5fCAb7",
        "outputId": "29b88984-448f-46a0-d94e-0e7634d7d96d"
      },
      "source": [
        "# Number of Hidden Layers\n",
        "round((X_train.shape[1] + len(unique_class_label))/2) + 1"
      ],
      "execution_count": 76,
      "outputs": [
        {
          "output_type": "execute_result",
          "data": {
            "text/plain": [
              "11"
            ]
          },
          "metadata": {},
          "execution_count": 76
        }
      ]
    },
    {
      "cell_type": "markdown",
      "metadata": {
        "id": "kPI7GLP5ysDA"
      },
      "source": [
        "### Method 1 - Using Scikit Learn - KerasClassifier\n"
      ]
    },
    {
      "cell_type": "code",
      "metadata": {
        "id": "sAxHLtP1_1KT"
      },
      "source": [
        "# def baseline_model():    \n",
        "#   network = Sequential()\n",
        "#   network.add(tf.keras.layers.Dense(units=11,activation ='relu', input_dim = X_train.shape[1] ))\n",
        "#   network.add(tf.keras.layers.Dropout(0.2))\n",
        "#   network.add(tf.keras.layers.Dense(units=11,activation ='relu'))\n",
        "#   network.add(tf.keras.layers.Dropout(0.2))\n",
        "#   network.add(tf.keras.layers.Dense(units=11,activation ='relu'))\n",
        "#   network.add(tf.keras.layers.Dropout(0.2))\n",
        "#   network.add(tf.keras.layers.Dense(5,activation='softmax'))\n",
        "#   network.compile(optimizer = 'adam', loss = 'categorical_crossentropy', metrics = ['accuracy'])\n",
        "#   return network"
      ],
      "execution_count": 77,
      "outputs": []
    },
    {
      "cell_type": "code",
      "metadata": {
        "id": "1S2Pyj1CDGnY"
      },
      "source": [
        "# from keras.wrappers.scikit_learn import KerasClassifier\n",
        "# estimator = KerasClassifier(build_fn = baseline_model, epochs = 500, batch_size = 10, verbose = -1)"
      ],
      "execution_count": 78,
      "outputs": []
    },
    {
      "cell_type": "code",
      "metadata": {
        "id": "k1ixBpWqIZ3x"
      },
      "source": [
        "# skf = StratifiedKFold(n_splits=5, random_state=42, shuffle=True)\n",
        "# results = cross_val_score(estimator, X_train_scaled, y_train, cv = skf)\n",
        "\n",
        "# print(results)\n",
        "# print(\"Result: %.2f%% (%.2f%%)\" % (results.mean()*100, results.std()*100))"
      ],
      "execution_count": 79,
      "outputs": []
    },
    {
      "cell_type": "code",
      "metadata": {
        "id": "K8uCyB15N2Jp"
      },
      "source": [
        "# y_pred = estimator.predict(X_test_scaled)"
      ],
      "execution_count": 80,
      "outputs": []
    },
    {
      "cell_type": "code",
      "metadata": {
        "id": "QB3JjnzVNYlq"
      },
      "source": [
        "# plot_conf_matrix(y_test,y_pred,unique_class_label, title=\"Confusion Matrix for \" + clf.__class__.__name__)\n",
        "# print(\"Accuracy Score for \" +  estimator.__class__.__name__ + \"  \" \n",
        "#         + str(accuracy_score(y_test,y_pred)) )\n",
        "# print(\"F1 Score for \" + estimator.__class__.__name__ + \"  \" + \n",
        "#         str(f1_score(y_test, y_pred, average='weighted')))"
      ],
      "execution_count": 81,
      "outputs": []
    },
    {
      "cell_type": "markdown",
      "metadata": {
        "id": "X_Op8VMpzAOh"
      },
      "source": [
        "### Method 2 - Using Sequential Model"
      ]
    },
    {
      "cell_type": "code",
      "metadata": {
        "id": "zEQ-exj4pYjT"
      },
      "source": [
        "# with Class Weights\n",
        "# model = Sequential()\n",
        "# model.add(tf.keras.layers.Dense(units=13,activation ='relu', input_shape = (len(imp_features),) ))\n",
        "# #model.add(tf.keras.layers.Dropout(0.25))\n",
        "# model.add(tf.keras.layers.Dense(units=15,activation ='relu'))\n",
        "# model.add(tf.keras.layers.Dropout(0.2))\n",
        "# model.add(tf.keras.layers.Dense(units=9,activation ='relu'))\n",
        "# model.add(tf.keras.layers.Dropout(0.2))\n",
        "# model.add(tf.keras.layers.Dense(units=5,activation='softmax'))\n",
        "# model.compile(optimizer = Adam(), loss = 'categorical_crossentropy', \n",
        "#               metrics = ['accuracy'])\n",
        "\n",
        "\n",
        "# Without ClassWeights\n",
        "\n",
        "model = Sequential()\n",
        "model.add(tf.keras.layers.Dense(units=11,activation ='relu', input_shape = (len(imp_features),) ))\n",
        "#model.add(tf.keras.layers.Dropout(0.25))\n",
        "model.add(tf.keras.layers.Dense(units=11,activation ='relu'))\n",
        "model.add(tf.keras.layers.Dropout(0.25))\n",
        "model.add(tf.keras.layers.Dense(units=6,activation ='relu'))\n",
        "model.add(tf.keras.layers.Dropout(0.2))\n",
        "model.add(tf.keras.layers.Dense(units=5,activation='softmax'))\n",
        "model.compile(optimizer = Adam(), loss = 'categorical_crossentropy', \n",
        "              metrics = ['accuracy'])\n"
      ],
      "execution_count": 82,
      "outputs": []
    },
    {
      "cell_type": "code",
      "metadata": {
        "colab": {
          "base_uri": "https://localhost:8080/"
        },
        "id": "yHCvlpx8PlWC",
        "outputId": "0b021087-ee48-4fa8-8eca-20e4ffb54a7d"
      },
      "source": [
        "model.summary()"
      ],
      "execution_count": 83,
      "outputs": [
        {
          "output_type": "stream",
          "name": "stdout",
          "text": [
            "Model: \"sequential_1\"\n",
            "_________________________________________________________________\n",
            " Layer (type)                Output Shape              Param #   \n",
            "=================================================================\n",
            " dense_4 (Dense)             (None, 11)                187       \n",
            "                                                                 \n",
            " dense_5 (Dense)             (None, 11)                132       \n",
            "                                                                 \n",
            " dropout_2 (Dropout)         (None, 11)                0         \n",
            "                                                                 \n",
            " dense_6 (Dense)             (None, 6)                 72        \n",
            "                                                                 \n",
            " dropout_3 (Dropout)         (None, 6)                 0         \n",
            "                                                                 \n",
            " dense_7 (Dense)             (None, 5)                 35        \n",
            "                                                                 \n",
            "=================================================================\n",
            "Total params: 426\n",
            "Trainable params: 426\n",
            "Non-trainable params: 0\n",
            "_________________________________________________________________\n"
          ]
        }
      ]
    },
    {
      "cell_type": "code",
      "metadata": {
        "id": "peasDV7FMcxB"
      },
      "source": [
        "# Handling Imbalanced Classes using class_weight\n",
        "\n",
        "class_wt = {0: 2.953333333333333,\n",
        "            1: 0.899492385786802,\n",
        "            2: 0.55375,\n",
        "            3: 0.7875555555555556,\n",
        "            4: 2.1095238095238096}"
      ],
      "execution_count": 84,
      "outputs": []
    },
    {
      "cell_type": "code",
      "metadata": {
        "colab": {
          "base_uri": "https://localhost:8080/"
        },
        "id": "3IJkFo6dQEmo",
        "outputId": "d7d1ff21-5e7e-4c04-b60b-68d2fdecd11a"
      },
      "source": [
        "# With Class weights\n",
        "# history = model.fit(X_train_scaled,y_train_cat,validation_split=0.25,\n",
        "#                     epochs=200, verbose=1,batch_size=20,class_weight=class_wt)\n",
        "\n",
        "# Without Class weights\n",
        "\n",
        "history = model.fit(X_train_scaled,y_train_cat,validation_split=0.25,\n",
        "                    epochs=225, verbose=1,batch_size=30)\n",
        "\n"
      ],
      "execution_count": 85,
      "outputs": [
        {
          "output_type": "stream",
          "name": "stdout",
          "text": [
            "Epoch 1/225\n",
            "23/23 [==============================] - 1s 11ms/step - loss: 1.7069 - accuracy: 0.1867 - val_loss: 1.6212 - val_accuracy: 0.2883\n",
            "Epoch 2/225\n",
            "23/23 [==============================] - 0s 3ms/step - loss: 1.6432 - accuracy: 0.2289 - val_loss: 1.5951 - val_accuracy: 0.2928\n",
            "Epoch 3/225\n",
            "23/23 [==============================] - 0s 4ms/step - loss: 1.6219 - accuracy: 0.2771 - val_loss: 1.5775 - val_accuracy: 0.3468\n",
            "Epoch 4/225\n",
            "23/23 [==============================] - 0s 3ms/step - loss: 1.5968 - accuracy: 0.3283 - val_loss: 1.5668 - val_accuracy: 0.3694\n",
            "Epoch 5/225\n",
            "23/23 [==============================] - 0s 4ms/step - loss: 1.5761 - accuracy: 0.3554 - val_loss: 1.5570 - val_accuracy: 0.3739\n",
            "Epoch 6/225\n",
            "23/23 [==============================] - 0s 3ms/step - loss: 1.5751 - accuracy: 0.3464 - val_loss: 1.5490 - val_accuracy: 0.3739\n",
            "Epoch 7/225\n",
            "23/23 [==============================] - 0s 4ms/step - loss: 1.5550 - accuracy: 0.3614 - val_loss: 1.5419 - val_accuracy: 0.3784\n",
            "Epoch 8/225\n",
            "23/23 [==============================] - 0s 4ms/step - loss: 1.5466 - accuracy: 0.3750 - val_loss: 1.5351 - val_accuracy: 0.3784\n",
            "Epoch 9/225\n",
            "23/23 [==============================] - 0s 3ms/step - loss: 1.5378 - accuracy: 0.3720 - val_loss: 1.5288 - val_accuracy: 0.3784\n",
            "Epoch 10/225\n",
            "23/23 [==============================] - 0s 3ms/step - loss: 1.5313 - accuracy: 0.3705 - val_loss: 1.5216 - val_accuracy: 0.3784\n",
            "Epoch 11/225\n",
            "23/23 [==============================] - 0s 3ms/step - loss: 1.5248 - accuracy: 0.3584 - val_loss: 1.5138 - val_accuracy: 0.3784\n",
            "Epoch 12/225\n",
            "23/23 [==============================] - 0s 3ms/step - loss: 1.5102 - accuracy: 0.3705 - val_loss: 1.5051 - val_accuracy: 0.3829\n",
            "Epoch 13/225\n",
            "23/23 [==============================] - 0s 4ms/step - loss: 1.5099 - accuracy: 0.3735 - val_loss: 1.4967 - val_accuracy: 0.3874\n",
            "Epoch 14/225\n",
            "23/23 [==============================] - 0s 3ms/step - loss: 1.5077 - accuracy: 0.3735 - val_loss: 1.4909 - val_accuracy: 0.3829\n",
            "Epoch 15/225\n",
            "23/23 [==============================] - 0s 3ms/step - loss: 1.4943 - accuracy: 0.3750 - val_loss: 1.4836 - val_accuracy: 0.3739\n",
            "Epoch 16/225\n",
            "23/23 [==============================] - 0s 4ms/step - loss: 1.4898 - accuracy: 0.3735 - val_loss: 1.4757 - val_accuracy: 0.3874\n",
            "Epoch 17/225\n",
            "23/23 [==============================] - 0s 4ms/step - loss: 1.4762 - accuracy: 0.3810 - val_loss: 1.4674 - val_accuracy: 0.3919\n",
            "Epoch 18/225\n",
            "23/23 [==============================] - 0s 3ms/step - loss: 1.4675 - accuracy: 0.3825 - val_loss: 1.4593 - val_accuracy: 0.3964\n",
            "Epoch 19/225\n",
            "23/23 [==============================] - 0s 4ms/step - loss: 1.4660 - accuracy: 0.3584 - val_loss: 1.4510 - val_accuracy: 0.4009\n",
            "Epoch 20/225\n",
            "23/23 [==============================] - 0s 4ms/step - loss: 1.4498 - accuracy: 0.3810 - val_loss: 1.4418 - val_accuracy: 0.4054\n",
            "Epoch 21/225\n",
            "23/23 [==============================] - 0s 4ms/step - loss: 1.4434 - accuracy: 0.3720 - val_loss: 1.4331 - val_accuracy: 0.3919\n",
            "Epoch 22/225\n",
            "23/23 [==============================] - 0s 4ms/step - loss: 1.4482 - accuracy: 0.3780 - val_loss: 1.4237 - val_accuracy: 0.3964\n",
            "Epoch 23/225\n",
            "23/23 [==============================] - 0s 3ms/step - loss: 1.4293 - accuracy: 0.3870 - val_loss: 1.4124 - val_accuracy: 0.4009\n",
            "Epoch 24/225\n",
            "23/23 [==============================] - 0s 3ms/step - loss: 1.4153 - accuracy: 0.3825 - val_loss: 1.4003 - val_accuracy: 0.4099\n",
            "Epoch 25/225\n",
            "23/23 [==============================] - 0s 4ms/step - loss: 1.4307 - accuracy: 0.3720 - val_loss: 1.3866 - val_accuracy: 0.4234\n",
            "Epoch 26/225\n",
            "23/23 [==============================] - 0s 5ms/step - loss: 1.4010 - accuracy: 0.3735 - val_loss: 1.3710 - val_accuracy: 0.4324\n",
            "Epoch 27/225\n",
            "23/23 [==============================] - 0s 3ms/step - loss: 1.3959 - accuracy: 0.3886 - val_loss: 1.3626 - val_accuracy: 0.4324\n",
            "Epoch 28/225\n",
            "23/23 [==============================] - 0s 3ms/step - loss: 1.3818 - accuracy: 0.3901 - val_loss: 1.3462 - val_accuracy: 0.4369\n",
            "Epoch 29/225\n",
            "23/23 [==============================] - 0s 3ms/step - loss: 1.3785 - accuracy: 0.3976 - val_loss: 1.3333 - val_accuracy: 0.4459\n",
            "Epoch 30/225\n",
            "23/23 [==============================] - 0s 3ms/step - loss: 1.3771 - accuracy: 0.3886 - val_loss: 1.3213 - val_accuracy: 0.4414\n",
            "Epoch 31/225\n",
            "23/23 [==============================] - 0s 3ms/step - loss: 1.3504 - accuracy: 0.3961 - val_loss: 1.3093 - val_accuracy: 0.4414\n",
            "Epoch 32/225\n",
            "23/23 [==============================] - 0s 4ms/step - loss: 1.3532 - accuracy: 0.4036 - val_loss: 1.2972 - val_accuracy: 0.4369\n",
            "Epoch 33/225\n",
            "23/23 [==============================] - 0s 3ms/step - loss: 1.3344 - accuracy: 0.4021 - val_loss: 1.2859 - val_accuracy: 0.4459\n",
            "Epoch 34/225\n",
            "23/23 [==============================] - 0s 4ms/step - loss: 1.3144 - accuracy: 0.4247 - val_loss: 1.2697 - val_accuracy: 0.4595\n",
            "Epoch 35/225\n",
            "23/23 [==============================] - 0s 4ms/step - loss: 1.3184 - accuracy: 0.4157 - val_loss: 1.2553 - val_accuracy: 0.4505\n",
            "Epoch 36/225\n",
            "23/23 [==============================] - 0s 4ms/step - loss: 1.3048 - accuracy: 0.3991 - val_loss: 1.2474 - val_accuracy: 0.4550\n",
            "Epoch 37/225\n",
            "23/23 [==============================] - 0s 4ms/step - loss: 1.2900 - accuracy: 0.4096 - val_loss: 1.2367 - val_accuracy: 0.4640\n",
            "Epoch 38/225\n",
            "23/23 [==============================] - 0s 4ms/step - loss: 1.2706 - accuracy: 0.4157 - val_loss: 1.2255 - val_accuracy: 0.4775\n",
            "Epoch 39/225\n",
            "23/23 [==============================] - 0s 3ms/step - loss: 1.2683 - accuracy: 0.4127 - val_loss: 1.2082 - val_accuracy: 0.4595\n",
            "Epoch 40/225\n",
            "23/23 [==============================] - 0s 4ms/step - loss: 1.2426 - accuracy: 0.4247 - val_loss: 1.1912 - val_accuracy: 0.4640\n",
            "Epoch 41/225\n",
            "23/23 [==============================] - 0s 3ms/step - loss: 1.2371 - accuracy: 0.4157 - val_loss: 1.1788 - val_accuracy: 0.4820\n",
            "Epoch 42/225\n",
            "23/23 [==============================] - 0s 3ms/step - loss: 1.1903 - accuracy: 0.4819 - val_loss: 1.1647 - val_accuracy: 0.4910\n",
            "Epoch 43/225\n",
            "23/23 [==============================] - 0s 3ms/step - loss: 1.2026 - accuracy: 0.4669 - val_loss: 1.1476 - val_accuracy: 0.5225\n",
            "Epoch 44/225\n",
            "23/23 [==============================] - 0s 3ms/step - loss: 1.1748 - accuracy: 0.4804 - val_loss: 1.1351 - val_accuracy: 0.5450\n",
            "Epoch 45/225\n",
            "23/23 [==============================] - 0s 3ms/step - loss: 1.2103 - accuracy: 0.4729 - val_loss: 1.1275 - val_accuracy: 0.5405\n",
            "Epoch 46/225\n",
            "23/23 [==============================] - 0s 3ms/step - loss: 1.1816 - accuracy: 0.4759 - val_loss: 1.1189 - val_accuracy: 0.5495\n",
            "Epoch 47/225\n",
            "23/23 [==============================] - 0s 4ms/step - loss: 1.1510 - accuracy: 0.4684 - val_loss: 1.1110 - val_accuracy: 0.5495\n",
            "Epoch 48/225\n",
            "23/23 [==============================] - 0s 3ms/step - loss: 1.1679 - accuracy: 0.4729 - val_loss: 1.1065 - val_accuracy: 0.5495\n",
            "Epoch 49/225\n",
            "23/23 [==============================] - 0s 3ms/step - loss: 1.1476 - accuracy: 0.4834 - val_loss: 1.1004 - val_accuracy: 0.5405\n",
            "Epoch 50/225\n",
            "23/23 [==============================] - 0s 4ms/step - loss: 1.1715 - accuracy: 0.4819 - val_loss: 1.0945 - val_accuracy: 0.5405\n",
            "Epoch 51/225\n",
            "23/23 [==============================] - 0s 3ms/step - loss: 1.1266 - accuracy: 0.4744 - val_loss: 1.0852 - val_accuracy: 0.5495\n",
            "Epoch 52/225\n",
            "23/23 [==============================] - 0s 3ms/step - loss: 1.1516 - accuracy: 0.4834 - val_loss: 1.0837 - val_accuracy: 0.5315\n",
            "Epoch 53/225\n",
            "23/23 [==============================] - 0s 3ms/step - loss: 1.1051 - accuracy: 0.4849 - val_loss: 1.0816 - val_accuracy: 0.5450\n",
            "Epoch 54/225\n",
            "23/23 [==============================] - 0s 3ms/step - loss: 1.1297 - accuracy: 0.5060 - val_loss: 1.0725 - val_accuracy: 0.5450\n",
            "Epoch 55/225\n",
            "23/23 [==============================] - 0s 3ms/step - loss: 1.1142 - accuracy: 0.4940 - val_loss: 1.0697 - val_accuracy: 0.5450\n",
            "Epoch 56/225\n",
            "23/23 [==============================] - 0s 4ms/step - loss: 1.1248 - accuracy: 0.4834 - val_loss: 1.0661 - val_accuracy: 0.5541\n",
            "Epoch 57/225\n",
            "23/23 [==============================] - 0s 3ms/step - loss: 1.0801 - accuracy: 0.5256 - val_loss: 1.0602 - val_accuracy: 0.5405\n",
            "Epoch 58/225\n",
            "23/23 [==============================] - 0s 3ms/step - loss: 1.0858 - accuracy: 0.5226 - val_loss: 1.0563 - val_accuracy: 0.5495\n",
            "Epoch 59/225\n",
            "23/23 [==============================] - 0s 3ms/step - loss: 1.0870 - accuracy: 0.5000 - val_loss: 1.0508 - val_accuracy: 0.5405\n",
            "Epoch 60/225\n",
            "23/23 [==============================] - 0s 3ms/step - loss: 1.1103 - accuracy: 0.4864 - val_loss: 1.0520 - val_accuracy: 0.5450\n",
            "Epoch 61/225\n",
            "23/23 [==============================] - 0s 3ms/step - loss: 1.0953 - accuracy: 0.4834 - val_loss: 1.0423 - val_accuracy: 0.5450\n",
            "Epoch 62/225\n",
            "23/23 [==============================] - 0s 3ms/step - loss: 1.0964 - accuracy: 0.5271 - val_loss: 1.0383 - val_accuracy: 0.5586\n",
            "Epoch 63/225\n",
            "23/23 [==============================] - 0s 3ms/step - loss: 1.0967 - accuracy: 0.4759 - val_loss: 1.0403 - val_accuracy: 0.5450\n",
            "Epoch 64/225\n",
            "23/23 [==============================] - 0s 4ms/step - loss: 1.1146 - accuracy: 0.5090 - val_loss: 1.0413 - val_accuracy: 0.5495\n",
            "Epoch 65/225\n",
            "23/23 [==============================] - 0s 4ms/step - loss: 1.0726 - accuracy: 0.5271 - val_loss: 1.0430 - val_accuracy: 0.5495\n",
            "Epoch 66/225\n",
            "23/23 [==============================] - 0s 3ms/step - loss: 1.0527 - accuracy: 0.5151 - val_loss: 1.0351 - val_accuracy: 0.5495\n",
            "Epoch 67/225\n",
            "23/23 [==============================] - 0s 4ms/step - loss: 1.0794 - accuracy: 0.5045 - val_loss: 1.0336 - val_accuracy: 0.5586\n",
            "Epoch 68/225\n",
            "23/23 [==============================] - 0s 3ms/step - loss: 1.0882 - accuracy: 0.5136 - val_loss: 1.0331 - val_accuracy: 0.5586\n",
            "Epoch 69/225\n",
            "23/23 [==============================] - 0s 4ms/step - loss: 1.0777 - accuracy: 0.5271 - val_loss: 1.0315 - val_accuracy: 0.5495\n",
            "Epoch 70/225\n",
            "23/23 [==============================] - 0s 3ms/step - loss: 1.0662 - accuracy: 0.5075 - val_loss: 1.0286 - val_accuracy: 0.5495\n",
            "Epoch 71/225\n",
            "23/23 [==============================] - 0s 5ms/step - loss: 1.0336 - accuracy: 0.5497 - val_loss: 1.0260 - val_accuracy: 0.5450\n",
            "Epoch 72/225\n",
            "23/23 [==============================] - 0s 4ms/step - loss: 1.0713 - accuracy: 0.5226 - val_loss: 1.0205 - val_accuracy: 0.5450\n",
            "Epoch 73/225\n",
            "23/23 [==============================] - 0s 4ms/step - loss: 1.0579 - accuracy: 0.5151 - val_loss: 1.0228 - val_accuracy: 0.5450\n",
            "Epoch 74/225\n",
            "23/23 [==============================] - 0s 3ms/step - loss: 1.0869 - accuracy: 0.5000 - val_loss: 1.0191 - val_accuracy: 0.5450\n",
            "Epoch 75/225\n",
            "23/23 [==============================] - 0s 4ms/step - loss: 1.0339 - accuracy: 0.5361 - val_loss: 1.0145 - val_accuracy: 0.5586\n",
            "Epoch 76/225\n",
            "23/23 [==============================] - 0s 3ms/step - loss: 1.0625 - accuracy: 0.5120 - val_loss: 1.0166 - val_accuracy: 0.5495\n",
            "Epoch 77/225\n",
            "23/23 [==============================] - 0s 4ms/step - loss: 1.0377 - accuracy: 0.5211 - val_loss: 1.0118 - val_accuracy: 0.5405\n",
            "Epoch 78/225\n",
            "23/23 [==============================] - 0s 4ms/step - loss: 1.0555 - accuracy: 0.5286 - val_loss: 1.0128 - val_accuracy: 0.5450\n",
            "Epoch 79/225\n",
            "23/23 [==============================] - 0s 3ms/step - loss: 1.0252 - accuracy: 0.5452 - val_loss: 1.0122 - val_accuracy: 0.5541\n",
            "Epoch 80/225\n",
            "23/23 [==============================] - 0s 3ms/step - loss: 1.0559 - accuracy: 0.5000 - val_loss: 1.0105 - val_accuracy: 0.5450\n",
            "Epoch 81/225\n",
            "23/23 [==============================] - 0s 3ms/step - loss: 1.0417 - accuracy: 0.5105 - val_loss: 1.0108 - val_accuracy: 0.5631\n",
            "Epoch 82/225\n",
            "23/23 [==============================] - 0s 3ms/step - loss: 1.0430 - accuracy: 0.5512 - val_loss: 1.0103 - val_accuracy: 0.5495\n",
            "Epoch 83/225\n",
            "23/23 [==============================] - 0s 4ms/step - loss: 1.0520 - accuracy: 0.5015 - val_loss: 1.0094 - val_accuracy: 0.5586\n",
            "Epoch 84/225\n",
            "23/23 [==============================] - 0s 3ms/step - loss: 1.0231 - accuracy: 0.5181 - val_loss: 1.0103 - val_accuracy: 0.5450\n",
            "Epoch 85/225\n",
            "23/23 [==============================] - 0s 4ms/step - loss: 1.0128 - accuracy: 0.5377 - val_loss: 1.0123 - val_accuracy: 0.5495\n",
            "Epoch 86/225\n",
            "23/23 [==============================] - 0s 3ms/step - loss: 1.0480 - accuracy: 0.5377 - val_loss: 1.0174 - val_accuracy: 0.5450\n",
            "Epoch 87/225\n",
            "23/23 [==============================] - 0s 3ms/step - loss: 1.0511 - accuracy: 0.5045 - val_loss: 1.0203 - val_accuracy: 0.5405\n",
            "Epoch 88/225\n",
            "23/23 [==============================] - 0s 4ms/step - loss: 1.0132 - accuracy: 0.5301 - val_loss: 1.0219 - val_accuracy: 0.5405\n",
            "Epoch 89/225\n",
            "23/23 [==============================] - 0s 3ms/step - loss: 1.0409 - accuracy: 0.5181 - val_loss: 1.0159 - val_accuracy: 0.5586\n",
            "Epoch 90/225\n",
            "23/23 [==============================] - 0s 3ms/step - loss: 1.0422 - accuracy: 0.5286 - val_loss: 1.0140 - val_accuracy: 0.5450\n",
            "Epoch 91/225\n",
            "23/23 [==============================] - 0s 3ms/step - loss: 1.0388 - accuracy: 0.5407 - val_loss: 1.0085 - val_accuracy: 0.5405\n",
            "Epoch 92/225\n",
            "23/23 [==============================] - 0s 4ms/step - loss: 1.0153 - accuracy: 0.5587 - val_loss: 1.0128 - val_accuracy: 0.5360\n",
            "Epoch 93/225\n",
            "23/23 [==============================] - 0s 4ms/step - loss: 1.0159 - accuracy: 0.5407 - val_loss: 1.0096 - val_accuracy: 0.5360\n",
            "Epoch 94/225\n",
            "23/23 [==============================] - 0s 3ms/step - loss: 1.0404 - accuracy: 0.5331 - val_loss: 1.0049 - val_accuracy: 0.5631\n",
            "Epoch 95/225\n",
            "23/23 [==============================] - 0s 3ms/step - loss: 1.0124 - accuracy: 0.5497 - val_loss: 1.0103 - val_accuracy: 0.5405\n",
            "Epoch 96/225\n",
            "23/23 [==============================] - 0s 3ms/step - loss: 1.0050 - accuracy: 0.5648 - val_loss: 1.0145 - val_accuracy: 0.5360\n",
            "Epoch 97/225\n",
            "23/23 [==============================] - 0s 3ms/step - loss: 1.0213 - accuracy: 0.5377 - val_loss: 1.0118 - val_accuracy: 0.5315\n",
            "Epoch 98/225\n",
            "23/23 [==============================] - 0s 3ms/step - loss: 1.0115 - accuracy: 0.5467 - val_loss: 1.0121 - val_accuracy: 0.5450\n",
            "Epoch 99/225\n",
            "23/23 [==============================] - 0s 4ms/step - loss: 1.0113 - accuracy: 0.5361 - val_loss: 1.0110 - val_accuracy: 0.5495\n",
            "Epoch 100/225\n",
            "23/23 [==============================] - 0s 4ms/step - loss: 0.9939 - accuracy: 0.5256 - val_loss: 1.0049 - val_accuracy: 0.5676\n",
            "Epoch 101/225\n",
            "23/23 [==============================] - 0s 3ms/step - loss: 1.0041 - accuracy: 0.5166 - val_loss: 1.0070 - val_accuracy: 0.5631\n",
            "Epoch 102/225\n",
            "23/23 [==============================] - 0s 3ms/step - loss: 1.0157 - accuracy: 0.5557 - val_loss: 1.0064 - val_accuracy: 0.5541\n",
            "Epoch 103/225\n",
            "23/23 [==============================] - 0s 3ms/step - loss: 0.9868 - accuracy: 0.5361 - val_loss: 1.0041 - val_accuracy: 0.5631\n",
            "Epoch 104/225\n",
            "23/23 [==============================] - 0s 3ms/step - loss: 1.0091 - accuracy: 0.5437 - val_loss: 1.0057 - val_accuracy: 0.5586\n",
            "Epoch 105/225\n",
            "23/23 [==============================] - 0s 3ms/step - loss: 1.0229 - accuracy: 0.5286 - val_loss: 1.0037 - val_accuracy: 0.5631\n",
            "Epoch 106/225\n",
            "23/23 [==============================] - 0s 3ms/step - loss: 0.9996 - accuracy: 0.5331 - val_loss: 1.0036 - val_accuracy: 0.5586\n",
            "Epoch 107/225\n",
            "23/23 [==============================] - 0s 4ms/step - loss: 0.9929 - accuracy: 0.5392 - val_loss: 1.0044 - val_accuracy: 0.5541\n",
            "Epoch 108/225\n",
            "23/23 [==============================] - 0s 4ms/step - loss: 1.0428 - accuracy: 0.5166 - val_loss: 1.0054 - val_accuracy: 0.5676\n",
            "Epoch 109/225\n",
            "23/23 [==============================] - 0s 4ms/step - loss: 1.0090 - accuracy: 0.5422 - val_loss: 1.0043 - val_accuracy: 0.5631\n",
            "Epoch 110/225\n",
            "23/23 [==============================] - 0s 4ms/step - loss: 0.9972 - accuracy: 0.5723 - val_loss: 1.0046 - val_accuracy: 0.5586\n",
            "Epoch 111/225\n",
            "23/23 [==============================] - 0s 3ms/step - loss: 1.0129 - accuracy: 0.5377 - val_loss: 0.9985 - val_accuracy: 0.5721\n",
            "Epoch 112/225\n",
            "23/23 [==============================] - 0s 4ms/step - loss: 1.0030 - accuracy: 0.5467 - val_loss: 1.0013 - val_accuracy: 0.5541\n",
            "Epoch 113/225\n",
            "23/23 [==============================] - 0s 3ms/step - loss: 1.0019 - accuracy: 0.5407 - val_loss: 1.0048 - val_accuracy: 0.5631\n",
            "Epoch 114/225\n",
            "23/23 [==============================] - 0s 4ms/step - loss: 0.9859 - accuracy: 0.5512 - val_loss: 1.0005 - val_accuracy: 0.5631\n",
            "Epoch 115/225\n",
            "23/23 [==============================] - 0s 3ms/step - loss: 0.9885 - accuracy: 0.5648 - val_loss: 1.0003 - val_accuracy: 0.5541\n",
            "Epoch 116/225\n",
            "23/23 [==============================] - 0s 4ms/step - loss: 0.9809 - accuracy: 0.5512 - val_loss: 1.0042 - val_accuracy: 0.5495\n",
            "Epoch 117/225\n",
            "23/23 [==============================] - 0s 4ms/step - loss: 0.9893 - accuracy: 0.5602 - val_loss: 1.0023 - val_accuracy: 0.5586\n",
            "Epoch 118/225\n",
            "23/23 [==============================] - 0s 3ms/step - loss: 1.0076 - accuracy: 0.5392 - val_loss: 1.0048 - val_accuracy: 0.5541\n",
            "Epoch 119/225\n",
            "23/23 [==============================] - 0s 3ms/step - loss: 0.9871 - accuracy: 0.5422 - val_loss: 1.0021 - val_accuracy: 0.5631\n",
            "Epoch 120/225\n",
            "23/23 [==============================] - 0s 4ms/step - loss: 0.9781 - accuracy: 0.5633 - val_loss: 1.0054 - val_accuracy: 0.5495\n",
            "Epoch 121/225\n",
            "23/23 [==============================] - 0s 3ms/step - loss: 0.9949 - accuracy: 0.5407 - val_loss: 1.0038 - val_accuracy: 0.5586\n",
            "Epoch 122/225\n",
            "23/23 [==============================] - 0s 3ms/step - loss: 0.9985 - accuracy: 0.5437 - val_loss: 1.0054 - val_accuracy: 0.5586\n",
            "Epoch 123/225\n",
            "23/23 [==============================] - 0s 3ms/step - loss: 0.9898 - accuracy: 0.5377 - val_loss: 1.0064 - val_accuracy: 0.5631\n",
            "Epoch 124/225\n",
            "23/23 [==============================] - 0s 5ms/step - loss: 0.9780 - accuracy: 0.5542 - val_loss: 1.0067 - val_accuracy: 0.5631\n",
            "Epoch 125/225\n",
            "23/23 [==============================] - 0s 3ms/step - loss: 0.9956 - accuracy: 0.5557 - val_loss: 1.0029 - val_accuracy: 0.5541\n",
            "Epoch 126/225\n",
            "23/23 [==============================] - 0s 4ms/step - loss: 0.9969 - accuracy: 0.5482 - val_loss: 1.0044 - val_accuracy: 0.5541\n",
            "Epoch 127/225\n",
            "23/23 [==============================] - 0s 3ms/step - loss: 0.9795 - accuracy: 0.5316 - val_loss: 1.0127 - val_accuracy: 0.5541\n",
            "Epoch 128/225\n",
            "23/23 [==============================] - 0s 3ms/step - loss: 0.9861 - accuracy: 0.5587 - val_loss: 1.0115 - val_accuracy: 0.5541\n",
            "Epoch 129/225\n",
            "23/23 [==============================] - 0s 3ms/step - loss: 1.0007 - accuracy: 0.5361 - val_loss: 1.0098 - val_accuracy: 0.5495\n",
            "Epoch 130/225\n",
            "23/23 [==============================] - 0s 3ms/step - loss: 1.0010 - accuracy: 0.5377 - val_loss: 1.0061 - val_accuracy: 0.5541\n",
            "Epoch 131/225\n",
            "23/23 [==============================] - 0s 3ms/step - loss: 0.9775 - accuracy: 0.5527 - val_loss: 1.0096 - val_accuracy: 0.5676\n",
            "Epoch 132/225\n",
            "23/23 [==============================] - 0s 3ms/step - loss: 1.0064 - accuracy: 0.5211 - val_loss: 1.0127 - val_accuracy: 0.5586\n",
            "Epoch 133/225\n",
            "23/23 [==============================] - 0s 4ms/step - loss: 0.9417 - accuracy: 0.5663 - val_loss: 1.0075 - val_accuracy: 0.5676\n",
            "Epoch 134/225\n",
            "23/23 [==============================] - 0s 4ms/step - loss: 0.9681 - accuracy: 0.5602 - val_loss: 1.0068 - val_accuracy: 0.5766\n",
            "Epoch 135/225\n",
            "23/23 [==============================] - 0s 3ms/step - loss: 0.9755 - accuracy: 0.5497 - val_loss: 1.0036 - val_accuracy: 0.5586\n",
            "Epoch 136/225\n",
            "23/23 [==============================] - 0s 3ms/step - loss: 0.9657 - accuracy: 0.5663 - val_loss: 1.0080 - val_accuracy: 0.5586\n",
            "Epoch 137/225\n",
            "23/23 [==============================] - 0s 4ms/step - loss: 0.9714 - accuracy: 0.5527 - val_loss: 1.0060 - val_accuracy: 0.5586\n",
            "Epoch 138/225\n",
            "23/23 [==============================] - 0s 5ms/step - loss: 0.9749 - accuracy: 0.5392 - val_loss: 1.0085 - val_accuracy: 0.5495\n",
            "Epoch 139/225\n",
            "23/23 [==============================] - 0s 4ms/step - loss: 0.9589 - accuracy: 0.5377 - val_loss: 1.0015 - val_accuracy: 0.5676\n",
            "Epoch 140/225\n",
            "23/23 [==============================] - 0s 4ms/step - loss: 0.9612 - accuracy: 0.5527 - val_loss: 0.9991 - val_accuracy: 0.5676\n",
            "Epoch 141/225\n",
            "23/23 [==============================] - 0s 5ms/step - loss: 0.9744 - accuracy: 0.5437 - val_loss: 1.0007 - val_accuracy: 0.5721\n",
            "Epoch 142/225\n",
            "23/23 [==============================] - 0s 4ms/step - loss: 0.9750 - accuracy: 0.5527 - val_loss: 1.0054 - val_accuracy: 0.5631\n",
            "Epoch 143/225\n",
            "23/23 [==============================] - 0s 5ms/step - loss: 0.9681 - accuracy: 0.5512 - val_loss: 1.0074 - val_accuracy: 0.5586\n",
            "Epoch 144/225\n",
            "23/23 [==============================] - 0s 3ms/step - loss: 0.9477 - accuracy: 0.5407 - val_loss: 1.0041 - val_accuracy: 0.5676\n",
            "Epoch 145/225\n",
            "23/23 [==============================] - 0s 4ms/step - loss: 0.9582 - accuracy: 0.5708 - val_loss: 1.0073 - val_accuracy: 0.5676\n",
            "Epoch 146/225\n",
            "23/23 [==============================] - 0s 3ms/step - loss: 0.9515 - accuracy: 0.5708 - val_loss: 0.9951 - val_accuracy: 0.5766\n",
            "Epoch 147/225\n",
            "23/23 [==============================] - 0s 4ms/step - loss: 0.9597 - accuracy: 0.5527 - val_loss: 0.9941 - val_accuracy: 0.5631\n",
            "Epoch 148/225\n",
            "23/23 [==============================] - 0s 4ms/step - loss: 0.9809 - accuracy: 0.5377 - val_loss: 1.0008 - val_accuracy: 0.5676\n",
            "Epoch 149/225\n",
            "23/23 [==============================] - 0s 3ms/step - loss: 0.9670 - accuracy: 0.5678 - val_loss: 1.0040 - val_accuracy: 0.5721\n",
            "Epoch 150/225\n",
            "23/23 [==============================] - 0s 4ms/step - loss: 0.9685 - accuracy: 0.5482 - val_loss: 1.0048 - val_accuracy: 0.5586\n",
            "Epoch 151/225\n",
            "23/23 [==============================] - 0s 3ms/step - loss: 0.9585 - accuracy: 0.5497 - val_loss: 1.0040 - val_accuracy: 0.5676\n",
            "Epoch 152/225\n",
            "23/23 [==============================] - 0s 4ms/step - loss: 0.9811 - accuracy: 0.5437 - val_loss: 1.0027 - val_accuracy: 0.5676\n",
            "Epoch 153/225\n",
            "23/23 [==============================] - 0s 3ms/step - loss: 0.9574 - accuracy: 0.5542 - val_loss: 0.9980 - val_accuracy: 0.5586\n",
            "Epoch 154/225\n",
            "23/23 [==============================] - 0s 4ms/step - loss: 0.9741 - accuracy: 0.5392 - val_loss: 0.9968 - val_accuracy: 0.5631\n",
            "Epoch 155/225\n",
            "23/23 [==============================] - 0s 3ms/step - loss: 0.9745 - accuracy: 0.5482 - val_loss: 0.9967 - val_accuracy: 0.5721\n",
            "Epoch 156/225\n",
            "23/23 [==============================] - 0s 4ms/step - loss: 0.9415 - accuracy: 0.5407 - val_loss: 1.0031 - val_accuracy: 0.5676\n",
            "Epoch 157/225\n",
            "23/23 [==============================] - 0s 4ms/step - loss: 0.9415 - accuracy: 0.5542 - val_loss: 0.9990 - val_accuracy: 0.5721\n",
            "Epoch 158/225\n",
            "23/23 [==============================] - 0s 3ms/step - loss: 0.9733 - accuracy: 0.5377 - val_loss: 0.9957 - val_accuracy: 0.5676\n",
            "Epoch 159/225\n",
            "23/23 [==============================] - 0s 4ms/step - loss: 0.9557 - accuracy: 0.5497 - val_loss: 1.0038 - val_accuracy: 0.5766\n",
            "Epoch 160/225\n",
            "23/23 [==============================] - 0s 4ms/step - loss: 0.9490 - accuracy: 0.5557 - val_loss: 1.0023 - val_accuracy: 0.5811\n",
            "Epoch 161/225\n",
            "23/23 [==============================] - 0s 4ms/step - loss: 0.9494 - accuracy: 0.5346 - val_loss: 0.9972 - val_accuracy: 0.5856\n",
            "Epoch 162/225\n",
            "23/23 [==============================] - 0s 4ms/step - loss: 0.9445 - accuracy: 0.5753 - val_loss: 0.9967 - val_accuracy: 0.5721\n",
            "Epoch 163/225\n",
            "23/23 [==============================] - 0s 3ms/step - loss: 0.9243 - accuracy: 0.5602 - val_loss: 1.0015 - val_accuracy: 0.5631\n",
            "Epoch 164/225\n",
            "23/23 [==============================] - 0s 3ms/step - loss: 0.9508 - accuracy: 0.5572 - val_loss: 1.0087 - val_accuracy: 0.5721\n",
            "Epoch 165/225\n",
            "23/23 [==============================] - 0s 3ms/step - loss: 0.9525 - accuracy: 0.5557 - val_loss: 1.0067 - val_accuracy: 0.5631\n",
            "Epoch 166/225\n",
            "23/23 [==============================] - 0s 4ms/step - loss: 0.9549 - accuracy: 0.5648 - val_loss: 1.0018 - val_accuracy: 0.5811\n",
            "Epoch 167/225\n",
            "23/23 [==============================] - 0s 3ms/step - loss: 0.9517 - accuracy: 0.5783 - val_loss: 1.0061 - val_accuracy: 0.5721\n",
            "Epoch 168/225\n",
            "23/23 [==============================] - 0s 4ms/step - loss: 0.9567 - accuracy: 0.5572 - val_loss: 0.9997 - val_accuracy: 0.5676\n",
            "Epoch 169/225\n",
            "23/23 [==============================] - 0s 3ms/step - loss: 0.9480 - accuracy: 0.5422 - val_loss: 1.0052 - val_accuracy: 0.5721\n",
            "Epoch 170/225\n",
            "23/23 [==============================] - 0s 4ms/step - loss: 0.9447 - accuracy: 0.5723 - val_loss: 1.0074 - val_accuracy: 0.5856\n",
            "Epoch 171/225\n",
            "23/23 [==============================] - 0s 4ms/step - loss: 0.9615 - accuracy: 0.5361 - val_loss: 1.0068 - val_accuracy: 0.5766\n",
            "Epoch 172/225\n",
            "23/23 [==============================] - 0s 4ms/step - loss: 0.9399 - accuracy: 0.5497 - val_loss: 1.0134 - val_accuracy: 0.5676\n",
            "Epoch 173/225\n",
            "23/23 [==============================] - 0s 3ms/step - loss: 0.9504 - accuracy: 0.5648 - val_loss: 1.0012 - val_accuracy: 0.5631\n",
            "Epoch 174/225\n",
            "23/23 [==============================] - 0s 3ms/step - loss: 0.9587 - accuracy: 0.5527 - val_loss: 0.9936 - val_accuracy: 0.5676\n",
            "Epoch 175/225\n",
            "23/23 [==============================] - 0s 4ms/step - loss: 0.9776 - accuracy: 0.5271 - val_loss: 0.9936 - val_accuracy: 0.5811\n",
            "Epoch 176/225\n",
            "23/23 [==============================] - 0s 4ms/step - loss: 0.9685 - accuracy: 0.5602 - val_loss: 1.0017 - val_accuracy: 0.5721\n",
            "Epoch 177/225\n",
            "23/23 [==============================] - 0s 3ms/step - loss: 0.9362 - accuracy: 0.5452 - val_loss: 1.0094 - val_accuracy: 0.5676\n",
            "Epoch 178/225\n",
            "23/23 [==============================] - 0s 3ms/step - loss: 0.9540 - accuracy: 0.5482 - val_loss: 1.0042 - val_accuracy: 0.5631\n",
            "Epoch 179/225\n",
            "23/23 [==============================] - 0s 4ms/step - loss: 0.9552 - accuracy: 0.5663 - val_loss: 1.0042 - val_accuracy: 0.5586\n",
            "Epoch 180/225\n",
            "23/23 [==============================] - 0s 3ms/step - loss: 0.9435 - accuracy: 0.5678 - val_loss: 1.0011 - val_accuracy: 0.5631\n",
            "Epoch 181/225\n",
            "23/23 [==============================] - 0s 3ms/step - loss: 0.9552 - accuracy: 0.5708 - val_loss: 1.0101 - val_accuracy: 0.5676\n",
            "Epoch 182/225\n",
            "23/23 [==============================] - 0s 3ms/step - loss: 0.9644 - accuracy: 0.5572 - val_loss: 1.0046 - val_accuracy: 0.5631\n",
            "Epoch 183/225\n",
            "23/23 [==============================] - 0s 3ms/step - loss: 0.9552 - accuracy: 0.5361 - val_loss: 1.0110 - val_accuracy: 0.5676\n",
            "Epoch 184/225\n",
            "23/23 [==============================] - 0s 4ms/step - loss: 0.9397 - accuracy: 0.5467 - val_loss: 1.0085 - val_accuracy: 0.5856\n",
            "Epoch 185/225\n",
            "23/23 [==============================] - 0s 4ms/step - loss: 0.8933 - accuracy: 0.5768 - val_loss: 1.0026 - val_accuracy: 0.5856\n",
            "Epoch 186/225\n",
            "23/23 [==============================] - 0s 3ms/step - loss: 0.9269 - accuracy: 0.5678 - val_loss: 1.0034 - val_accuracy: 0.5811\n",
            "Epoch 187/225\n",
            "23/23 [==============================] - 0s 3ms/step - loss: 0.9530 - accuracy: 0.5527 - val_loss: 1.0055 - val_accuracy: 0.5811\n",
            "Epoch 188/225\n",
            "23/23 [==============================] - 0s 3ms/step - loss: 0.9464 - accuracy: 0.5738 - val_loss: 1.0070 - val_accuracy: 0.5721\n",
            "Epoch 189/225\n",
            "23/23 [==============================] - 0s 4ms/step - loss: 0.9260 - accuracy: 0.5617 - val_loss: 1.0076 - val_accuracy: 0.5766\n",
            "Epoch 190/225\n",
            "23/23 [==============================] - 0s 4ms/step - loss: 0.9279 - accuracy: 0.5723 - val_loss: 1.0094 - val_accuracy: 0.5811\n",
            "Epoch 191/225\n",
            "23/23 [==============================] - 0s 4ms/step - loss: 0.9194 - accuracy: 0.5633 - val_loss: 1.0115 - val_accuracy: 0.5766\n",
            "Epoch 192/225\n",
            "23/23 [==============================] - 0s 4ms/step - loss: 0.9381 - accuracy: 0.5678 - val_loss: 1.0016 - val_accuracy: 0.5721\n",
            "Epoch 193/225\n",
            "23/23 [==============================] - 0s 4ms/step - loss: 0.9296 - accuracy: 0.5708 - val_loss: 1.0052 - val_accuracy: 0.5721\n",
            "Epoch 194/225\n",
            "23/23 [==============================] - 0s 3ms/step - loss: 0.9203 - accuracy: 0.5783 - val_loss: 1.0098 - val_accuracy: 0.5676\n",
            "Epoch 195/225\n",
            "23/23 [==============================] - 0s 3ms/step - loss: 0.9600 - accuracy: 0.5467 - val_loss: 1.0136 - val_accuracy: 0.5676\n",
            "Epoch 196/225\n",
            "23/23 [==============================] - 0s 4ms/step - loss: 0.9308 - accuracy: 0.5738 - val_loss: 1.0156 - val_accuracy: 0.5721\n",
            "Epoch 197/225\n",
            "23/23 [==============================] - 0s 3ms/step - loss: 0.9380 - accuracy: 0.5678 - val_loss: 1.0134 - val_accuracy: 0.5721\n",
            "Epoch 198/225\n",
            "23/23 [==============================] - 0s 3ms/step - loss: 0.9381 - accuracy: 0.5843 - val_loss: 1.0148 - val_accuracy: 0.5541\n",
            "Epoch 199/225\n",
            "23/23 [==============================] - 0s 3ms/step - loss: 0.9327 - accuracy: 0.5422 - val_loss: 1.0084 - val_accuracy: 0.5766\n",
            "Epoch 200/225\n",
            "23/23 [==============================] - 0s 4ms/step - loss: 0.9058 - accuracy: 0.5633 - val_loss: 1.0100 - val_accuracy: 0.5676\n",
            "Epoch 201/225\n",
            "23/23 [==============================] - 0s 3ms/step - loss: 0.9402 - accuracy: 0.5602 - val_loss: 1.0120 - val_accuracy: 0.5766\n",
            "Epoch 202/225\n",
            "23/23 [==============================] - 0s 3ms/step - loss: 0.9056 - accuracy: 0.5663 - val_loss: 1.0249 - val_accuracy: 0.5586\n",
            "Epoch 203/225\n",
            "23/23 [==============================] - 0s 3ms/step - loss: 0.9270 - accuracy: 0.5512 - val_loss: 1.0215 - val_accuracy: 0.5631\n",
            "Epoch 204/225\n",
            "23/23 [==============================] - 0s 3ms/step - loss: 0.9274 - accuracy: 0.5663 - val_loss: 1.0257 - val_accuracy: 0.5586\n",
            "Epoch 205/225\n",
            "23/23 [==============================] - 0s 4ms/step - loss: 0.9162 - accuracy: 0.5648 - val_loss: 1.0284 - val_accuracy: 0.5811\n",
            "Epoch 206/225\n",
            "23/23 [==============================] - 0s 3ms/step - loss: 0.9291 - accuracy: 0.5542 - val_loss: 1.0266 - val_accuracy: 0.5721\n",
            "Epoch 207/225\n",
            "23/23 [==============================] - 0s 4ms/step - loss: 0.9386 - accuracy: 0.5693 - val_loss: 1.0170 - val_accuracy: 0.5811\n",
            "Epoch 208/225\n",
            "23/23 [==============================] - 0s 4ms/step - loss: 0.9193 - accuracy: 0.5542 - val_loss: 1.0157 - val_accuracy: 0.5721\n",
            "Epoch 209/225\n",
            "23/23 [==============================] - 0s 4ms/step - loss: 0.9180 - accuracy: 0.5678 - val_loss: 1.0154 - val_accuracy: 0.5721\n",
            "Epoch 210/225\n",
            "23/23 [==============================] - 0s 3ms/step - loss: 0.9327 - accuracy: 0.5497 - val_loss: 1.0184 - val_accuracy: 0.5631\n",
            "Epoch 211/225\n",
            "23/23 [==============================] - 0s 3ms/step - loss: 0.9378 - accuracy: 0.5361 - val_loss: 1.0167 - val_accuracy: 0.5766\n",
            "Epoch 212/225\n",
            "23/23 [==============================] - 0s 4ms/step - loss: 0.9059 - accuracy: 0.5798 - val_loss: 1.0193 - val_accuracy: 0.5631\n",
            "Epoch 213/225\n",
            "23/23 [==============================] - 0s 3ms/step - loss: 0.9195 - accuracy: 0.5723 - val_loss: 1.0268 - val_accuracy: 0.5721\n",
            "Epoch 214/225\n",
            "23/23 [==============================] - 0s 4ms/step - loss: 0.9270 - accuracy: 0.5602 - val_loss: 1.0215 - val_accuracy: 0.5631\n",
            "Epoch 215/225\n",
            "23/23 [==============================] - 0s 4ms/step - loss: 0.9691 - accuracy: 0.5527 - val_loss: 1.0276 - val_accuracy: 0.5676\n",
            "Epoch 216/225\n",
            "23/23 [==============================] - 0s 3ms/step - loss: 0.9162 - accuracy: 0.5873 - val_loss: 1.0310 - val_accuracy: 0.5631\n",
            "Epoch 217/225\n",
            "23/23 [==============================] - 0s 4ms/step - loss: 0.9231 - accuracy: 0.5798 - val_loss: 1.0243 - val_accuracy: 0.5586\n",
            "Epoch 218/225\n",
            "23/23 [==============================] - 0s 3ms/step - loss: 0.9364 - accuracy: 0.5663 - val_loss: 1.0329 - val_accuracy: 0.5676\n",
            "Epoch 219/225\n",
            "23/23 [==============================] - 0s 3ms/step - loss: 0.9176 - accuracy: 0.5648 - val_loss: 1.0353 - val_accuracy: 0.5721\n",
            "Epoch 220/225\n",
            "23/23 [==============================] - 0s 3ms/step - loss: 0.9147 - accuracy: 0.5693 - val_loss: 1.0298 - val_accuracy: 0.5766\n",
            "Epoch 221/225\n",
            "23/23 [==============================] - 0s 3ms/step - loss: 0.9314 - accuracy: 0.5783 - val_loss: 1.0353 - val_accuracy: 0.5631\n",
            "Epoch 222/225\n",
            "23/23 [==============================] - 0s 3ms/step - loss: 0.9197 - accuracy: 0.5678 - val_loss: 1.0392 - val_accuracy: 0.5811\n",
            "Epoch 223/225\n",
            "23/23 [==============================] - 0s 3ms/step - loss: 0.9294 - accuracy: 0.5678 - val_loss: 1.0310 - val_accuracy: 0.5766\n",
            "Epoch 224/225\n",
            "23/23 [==============================] - 0s 3ms/step - loss: 0.9232 - accuracy: 0.5663 - val_loss: 1.0367 - val_accuracy: 0.5856\n",
            "Epoch 225/225\n",
            "23/23 [==============================] - 0s 4ms/step - loss: 0.8748 - accuracy: 0.5753 - val_loss: 1.0325 - val_accuracy: 0.5631\n"
          ]
        }
      ]
    },
    {
      "cell_type": "markdown",
      "metadata": {
        "id": "JGEoCgFDgC3P"
      },
      "source": [
        "### Plot Loss and Accuracy"
      ]
    },
    {
      "cell_type": "code",
      "metadata": {
        "colab": {
          "base_uri": "https://localhost:8080/",
          "height": 295
        },
        "id": "2xaJSLowDawG",
        "outputId": "1adbc71b-0873-4377-fc67-8c876e4661f1"
      },
      "source": [
        "plt.plot(history.history['accuracy'])\n",
        "plt.plot(history.history['val_accuracy'])\n",
        "plt.title('model accuracy')\n",
        "plt.ylabel('accuracy')\n",
        "plt.xlabel('epoch')\n",
        "plt.legend(['train', 'test'], loc='upper left')\n",
        "plt.show()"
      ],
      "execution_count": 86,
      "outputs": [
        {
          "output_type": "display_data",
          "data": {
            "image/png": "[encoded data removed]",
            "text/plain": [
              "<Figure size 432x288 with 1 Axes>"
            ]
          },
          "metadata": {
            "needs_background": "light"
          }
        }
      ]
    },
    {
      "cell_type": "code",
      "metadata": {
        "colab": {
          "base_uri": "https://localhost:8080/",
          "height": 295
        },
        "id": "lzNLa-f3EPMD",
        "outputId": "34c7fbdb-617e-4cb1-c20f-93c9177cb696"
      },
      "source": [
        "plt.plot(history.history['loss'])\n",
        "plt.plot(history.history['val_loss'])\n",
        "plt.title('model loss')\n",
        "plt.ylabel('loss')\n",
        "plt.xlabel('epoch')\n",
        "plt.legend(['train', 'test'], loc='upper right')\n",
        "plt.show()"
      ],
      "execution_count": 87,
      "outputs": [
        {
          "output_type": "display_data",
          "data": {
            "image/png": "[encoded data removed]",
            "text/plain": [
              "<Figure size 432x288 with 1 Axes>"
            ]
          },
          "metadata": {
            "needs_background": "light"
          }
        }
      ]
    },
    {
      "cell_type": "code",
      "metadata": {
        "id": "fz4UzJt7ZVz2"
      },
      "source": [
        "y_pred = model.predict(X_test_scaled)"
      ],
      "execution_count": 88,
      "outputs": []
    },
    {
      "cell_type": "code",
      "metadata": {
        "colab": {
          "base_uri": "https://localhost:8080/"
        },
        "id": "93mpvIEQdhW-",
        "outputId": "8b9cf89d-7be5-465b-8df0-b3f418fdc95f"
      },
      "source": [
        "y_pred"
      ],
      "execution_count": 89,
      "outputs": [
        {
          "output_type": "execute_result",
          "data": {
            "text/plain": [
              "array([[2.48104051e-01, 4.96160537e-01, 2.55665213e-01, 6.87828506e-05,\n",
              "        1.58291323e-06],\n",
              "       [9.63601681e-12, 3.55200143e-07, 1.09111397e-02, 2.73011565e-01,\n",
              "        7.16076970e-01],\n",
              "       [1.52831385e-02, 3.45585853e-01, 6.19871855e-01, 1.87943242e-02,\n",
              "        4.64831595e-04],\n",
              "       ...,\n",
              "       [7.65544968e-03, 2.88442343e-01, 6.75540209e-01, 2.77702883e-02,\n",
              "        5.91730059e-04],\n",
              "       [1.35247231e-01, 5.18946826e-01, 3.45007807e-01, 7.78652960e-04,\n",
              "        1.94011700e-05],\n",
              "       [4.74800288e-09, 2.08815036e-05, 4.66305576e-02, 4.50089633e-01,\n",
              "        5.03258944e-01]], dtype=float32)"
            ]
          },
          "metadata": {},
          "execution_count": 89
        }
      ]
    },
    {
      "cell_type": "code",
      "metadata": {
        "id": "KXK9zwn4ZqUG"
      },
      "source": [
        "y_pred = np.argmax(y_pred, axis=1)"
      ],
      "execution_count": 90,
      "outputs": []
    },
    {
      "cell_type": "code",
      "metadata": {
        "id": "mTtfvvVge0QO"
      },
      "source": [
        "y_pred = y_pred + 1 # Ratings are from 1 to 5"
      ],
      "execution_count": 91,
      "outputs": []
    },
    {
      "cell_type": "code",
      "metadata": {
        "colab": {
          "base_uri": "https://localhost:8080/"
        },
        "id": "JAySTOOSe5k0",
        "outputId": "e01806fb-0ea0-4488-f023-bc8f02eabac7"
      },
      "source": [
        "y_pred"
      ],
      "execution_count": 92,
      "outputs": [
        {
          "output_type": "execute_result",
          "data": {
            "text/plain": [
              "array([2, 5, 3, 3, 3, 4, 4, 4, 3, 5, 4, 3, 3, 4, 3, 2, 2, 4, 2, 5, 4, 3,\n",
              "       2, 2, 4, 3, 4, 3, 4, 4, 2, 2, 4, 3, 3, 2, 2, 5, 2, 4, 4, 2, 5, 2,\n",
              "       3, 4, 2, 3, 2, 2, 3, 2, 4, 3, 3, 2, 1, 4, 2, 5, 3, 4, 5, 4, 2, 4,\n",
              "       4, 4, 3, 3, 2, 2, 3, 3, 3, 3, 4, 2, 4, 4, 4, 3, 4, 3, 2, 3, 3, 4,\n",
              "       3, 4, 2, 4, 4, 4, 3, 2, 4, 3, 1, 2, 3, 3, 5, 2, 3, 4, 4, 3, 3, 2,\n",
              "       3, 2, 4, 5, 4, 4, 4, 3, 2, 3, 2, 2, 3, 3, 4, 3, 4, 4, 4, 2, 5, 3,\n",
              "       4, 2, 3, 4, 4, 4, 1, 3, 4, 2, 4, 1, 2, 3, 2, 2, 4, 4, 4, 4, 4, 1,\n",
              "       2, 2, 3, 4, 3, 4, 4, 3, 3, 2, 5, 4, 2, 3, 3, 3, 2, 3, 2, 3, 4, 4,\n",
              "       2, 4, 3, 3, 3, 4, 3, 2, 4, 5, 3, 4, 4, 4, 5, 2, 2, 3, 3, 3, 3, 4,\n",
              "       4, 3, 3, 3, 4, 5, 2, 3, 4, 4, 4, 2, 4, 3, 4, 3, 3, 3, 3, 3, 4, 3,\n",
              "       4, 3, 3, 3, 2, 4, 3, 2, 3, 4, 4, 3, 3, 3, 4, 2, 5, 2, 4, 5, 4, 4,\n",
              "       2, 4, 3, 4, 4, 2, 2, 3, 4, 2, 4, 4, 3, 4, 2, 2, 3, 2, 2, 4, 3, 3,\n",
              "       2, 4, 3, 4, 2, 4, 2, 2, 3, 4, 4, 3, 2, 4, 2, 3, 4, 4, 4, 5, 2, 2,\n",
              "       3, 3, 2, 3, 3, 2, 3, 3, 2, 5])"
            ]
          },
          "metadata": {},
          "execution_count": 92
        }
      ]
    },
    {
      "cell_type": "code",
      "metadata": {
        "colab": {
          "base_uri": "https://localhost:8080/"
        },
        "id": "E6LyZ1OnfIwY",
        "outputId": "8917a836-e050-45b7-8c92-cf07921b37cd"
      },
      "source": [
        "y_test.values"
      ],
      "execution_count": 93,
      "outputs": [
        {
          "output_type": "execute_result",
          "data": {
            "text/plain": [
              "array([3, 5, 2, 3, 3, 3, 4, 4, 3, 5, 4, 3, 4, 4, 3, 2, 2, 5, 3, 4, 5, 3,\n",
              "       2, 2, 5, 3, 4, 2, 4, 4, 2, 2, 4, 3, 2, 2, 3, 5, 2, 4, 5, 1, 5, 3,\n",
              "       4, 5, 3, 3, 1, 2, 3, 1, 4, 3, 4, 2, 1, 5, 2, 5, 4, 4, 5, 4, 2, 4,\n",
              "       4, 4, 3, 2, 3, 2, 4, 3, 2, 3, 5, 2, 5, 4, 2, 4, 4, 3, 3, 3, 2, 4,\n",
              "       3, 4, 2, 3, 3, 3, 3, 2, 4, 2, 1, 2, 4, 4, 5, 3, 3, 4, 4, 3, 3, 3,\n",
              "       3, 1, 4, 5, 5, 5, 4, 3, 2, 3, 2, 3, 3, 3, 4, 4, 4, 4, 4, 4, 5, 2,\n",
              "       3, 2, 1, 3, 3, 3, 1, 4, 4, 3, 3, 1, 3, 3, 3, 2, 4, 4, 4, 3, 3, 1,\n",
              "       2, 1, 3, 3, 4, 5, 4, 2, 3, 2, 5, 4, 1, 3, 4, 4, 2, 4, 2, 2, 5, 3,\n",
              "       2, 5, 3, 3, 3, 4, 3, 2, 4, 5, 3, 3, 5, 3, 5, 2, 3, 3, 4, 2, 3, 4,\n",
              "       4, 3, 4, 3, 5, 5, 2, 2, 4, 3, 3, 2, 3, 3, 4, 2, 5, 3, 1, 3, 5, 2,\n",
              "       3, 4, 3, 3, 1, 2, 4, 2, 4, 5, 3, 2, 3, 5, 4, 1, 4, 1, 5, 5, 5, 3,\n",
              "       3, 4, 2, 4, 4, 1, 2, 2, 5, 2, 4, 3, 4, 4, 2, 3, 3, 1, 3, 3, 4, 3,\n",
              "       2, 5, 3, 5, 1, 4, 2, 2, 3, 4, 5, 3, 1, 4, 2, 2, 3, 3, 4, 5, 1, 2,\n",
              "       3, 2, 3, 4, 4, 1, 3, 3, 3, 5])"
            ]
          },
          "metadata": {},
          "execution_count": 93
        }
      ]
    },
    {
      "cell_type": "code",
      "metadata": {
        "colab": {
          "base_uri": "https://localhost:8080/",
          "height": 281
        },
        "id": "CZpPzhnYZ8uK",
        "outputId": "1e808840-14ae-4e4d-ee26-a3e94b3ef3e6"
      },
      "source": [
        "plot_conf_matrix(y_test.values,y_pred,unique_class_label, title=\"Confusion Matrix for Neural Network\" )"
      ],
      "execution_count": 94,
      "outputs": [
        {
          "output_type": "display_data",
          "data": {
            "image/png": "[encoded data removed]",
            "text/plain": [
              "<Figure size 360x288 with 2 Axes>"
            ]
          },
          "metadata": {
            "needs_background": "light"
          }
        }
      ]
    },
    {
      "cell_type": "code",
      "metadata": {
        "colab": {
          "base_uri": "https://localhost:8080/"
        },
        "id": "-VpIdb3-fXot",
        "outputId": "042b5357-d428-49af-c57e-e8602a10f09b"
      },
      "source": [
        "print(\"Accuracy Score for \" +  model.__class__.__name__ + \"  \" \n",
        "        + str(accuracy_score(y_test.values,y_pred)) )\n",
        "print(\"F1 Score for \" + model.__class__.__name__ + \"  \" + \n",
        "        str(f1_score(y_test.values, y_pred, average='weighted')))"
      ],
      "execution_count": 95,
      "outputs": [
        {
          "output_type": "stream",
          "name": "stdout",
          "text": [
            "Accuracy Score for Sequential  0.5506756756756757\n",
            "F1 Score for Sequential  0.5437561191667476\n"
          ]
        }
      ]
    },
    {
      "cell_type": "code",
      "metadata": {
        "id": "Qe0B9gjJd-lf"
      },
      "source": [
        "model_json = model.to_json()\n",
        "with open('/content/model_v2.json','w') as json_file:\n",
        "  json_file.write(model_json)"
      ],
      "execution_count": 96,
      "outputs": []
    },
    {
      "cell_type": "code",
      "metadata": {
        "id": "rST-N5tQdnR6"
      },
      "source": [
        "from keras.models import save_model\n",
        "model_weights = save_model(model, '/content/model_weights_v2.hdf5')"
      ],
      "execution_count": 97,
      "outputs": []
    },
    {
      "cell_type": "markdown",
      "metadata": {
        "id": "g7jAiC9Oeerp"
      },
      "source": [
        "#### Performing testing using Loaded model"
      ]
    },
    {
      "cell_type": "code",
      "metadata": {
        "colab": {
          "base_uri": "https://localhost:8080/",
          "height": 122
        },
        "id": "EnmcnCTVen8v",
        "outputId": "2119f4b8-607a-4afc-a32b-022e5af9768f"
      },
      "source": [
        "with open('/content/model_v2.json', 'r') as json_file:\n",
        "  json_saved_model = json_file.read()\n",
        "json_saved_model"
      ],
      "execution_count": 98,
      "outputs": [
        {
          "output_type": "execute_result",
          "data": {
            "application/vnd.google.colaboratory.intrinsic+json": {
              "type": "string"
            },
            "text/plain": [
              "'{\"class_name\": \"Sequential\", \"config\": {\"name\": \"sequential_1\", \"layers\": [{\"class_name\": \"InputLayer\", \"config\": {\"batch_input_shape\": [null, 16], \"dtype\": \"float32\", \"sparse\": false, \"ragged\": false, \"name\": \"dense_4_input\"}}, {\"class_name\": \"Dense\", \"config\": {\"name\": \"dense_4\", \"trainable\": true, \"batch_input_shape\": [null, 16], \"dtype\": \"float32\", \"units\": 11, \"activation\": \"relu\", \"use_bias\": true, \"kernel_initializer\": {\"class_name\": \"GlorotUniform\", \"config\": {\"seed\": null}}, \"bias_initializer\": {\"class_name\": \"Zeros\", \"config\": {}}, \"kernel_regularizer\": null, \"bias_regularizer\": null, \"activity_regularizer\": null, \"kernel_constraint\": null, \"bias_constraint\": null}}, {\"class_name\": \"Dense\", \"config\": {\"name\": \"dense_5\", \"trainable\": true, \"dtype\": \"float32\", \"units\": 11, \"activation\": \"relu\", \"use_bias\": true, \"kernel_initializer\": {\"class_name\": \"GlorotUniform\", \"config\": {\"seed\": null}}, \"bias_initializer\": {\"class_name\": \"Zeros\", \"config\": {}}, \"kernel_regularizer\": null, \"bias_regularizer\": null, \"activity_regularizer\": null, \"kernel_constraint\": null, \"bias_constraint\": null}}, {\"class_name\": \"Dropout\", \"config\": {\"name\": \"dropout_2\", \"trainable\": true, \"dtype\": \"float32\", \"rate\": 0.25, \"noise_shape\": null, \"seed\": null}}, {\"class_name\": \"Dense\", \"config\": {\"name\": \"dense_6\", \"trainable\": true, \"dtype\": \"float32\", \"units\": 6, \"activation\": \"relu\", \"use_bias\": true, \"kernel_initializer\": {\"class_name\": \"GlorotUniform\", \"config\": {\"seed\": null}}, \"bias_initializer\": {\"class_name\": \"Zeros\", \"config\": {}}, \"kernel_regularizer\": null, \"bias_regularizer\": null, \"activity_regularizer\": null, \"kernel_constraint\": null, \"bias_constraint\": null}}, {\"class_name\": \"Dropout\", \"config\": {\"name\": \"dropout_3\", \"trainable\": true, \"dtype\": \"float32\", \"rate\": 0.2, \"noise_shape\": null, \"seed\": null}}, {\"class_name\": \"Dense\", \"config\": {\"name\": \"dense_7\", \"trainable\": true, \"dtype\": \"float32\", \"units\": 5, \"activation\": \"softmax\", \"use_bias\": true, \"kernel_initializer\": {\"class_name\": \"GlorotUniform\", \"config\": {\"seed\": null}}, \"bias_initializer\": {\"class_name\": \"Zeros\", \"config\": {}}, \"kernel_regularizer\": null, \"bias_regularizer\": null, \"activity_regularizer\": null, \"kernel_constraint\": null, \"bias_constraint\": null}}]}, \"keras_version\": \"2.7.0\", \"backend\": \"tensorflow\"}'"
            ]
          },
          "metadata": {},
          "execution_count": 98
        }
      ]
    },
    {
      "cell_type": "code",
      "metadata": {
        "id": "KVjlvMHNdnHW"
      },
      "source": [
        "network_loaded = tf.keras.models.model_from_json(json_saved_model)\n",
        "network_loaded.load_weights('model_weights_v2.hdf5')\n",
        "network_loaded.compile(loss = 'categorical_crossentropy', optimizer='Adam', metrics=['accuracy'])"
      ],
      "execution_count": 99,
      "outputs": []
    },
    {
      "cell_type": "code",
      "metadata": {
        "id": "f50j09VHeymq"
      },
      "source": [
        "y_pred_loaded = network_loaded.predict(X_test_scaled)"
      ],
      "execution_count": 100,
      "outputs": []
    },
    {
      "cell_type": "code",
      "metadata": {
        "id": "sUzNFhozfEyd"
      },
      "source": [
        "y_pred_loaded = np.argmax(y_pred_loaded, axis=1)"
      ],
      "execution_count": 101,
      "outputs": []
    },
    {
      "cell_type": "code",
      "metadata": {
        "id": "cWb40j2sfPuy"
      },
      "source": [
        "y_pred_loaded +=1"
      ],
      "execution_count": 102,
      "outputs": []
    },
    {
      "cell_type": "code",
      "metadata": {
        "colab": {
          "base_uri": "https://localhost:8080/",
          "height": 281
        },
        "id": "PtePd9GXfMzb",
        "outputId": "d3a18d2f-0302-44a7-adc1-7b17b3072f64"
      },
      "source": [
        "plot_conf_matrix(y_test.values,y_pred_loaded,unique_class_label, title=\"Confusion Matrix for Neural Network\")"
      ],
      "execution_count": 103,
      "outputs": [
        {
          "output_type": "display_data",
          "data": {
            "image/png": "[encoded data removed]",
            "text/plain": [
              "<Figure size 360x288 with 2 Axes>"
            ]
          },
          "metadata": {
            "needs_background": "light"
          }
        }
      ]
    },
    {
      "cell_type": "markdown",
      "metadata": {
        "id": "Fkfat6MVgQWf"
      },
      "source": [
        "#### Prediction on Asia Developed Dataset"
      ]
    },
    {
      "cell_type": "code",
      "metadata": {
        "id": "GmboS8VLgUA2"
      },
      "source": [
        "asia_df = pd.read_csv('https://raw.githubusercontent.com/nishitgala89/ProjectDissertation/main/Datasheets/3_Modelling/Generalization_Check_Asia_Developed.csv').set_index(\"SecId\")\n",
        "asia_df = morningStarUtilities.createSize_InvestmentTypeFeature(asia_df)\n"
      ],
      "execution_count": 104,
      "outputs": []
    },
    {
      "cell_type": "code",
      "metadata": {
        "colab": {
          "base_uri": "https://localhost:8080/",
          "height": 246
        },
        "id": "4-2cppx6gZOQ",
        "outputId": "af811db4-c9bf-49e9-8c40-4a9276533ddb"
      },
      "source": [
        "asia_df[asia_df.FundTNAV.isnull()]"
      ],
      "execution_count": 105,
      "outputs": [
        {
          "output_type": "execute_result",
          "data": {
            "text/html": [
              "\n",
              "  <div id=\"df-c2126b9d-0b79-41e1-895f-b5a9075dc32e\">\n",
              "    <div class=\"colab-df-container\">\n",
              "      <div>\n",
              "<style scoped>\n",
              "    .dataframe tbody tr th:only-of-type {\n",
              "        vertical-align: middle;\n",
              "    }\n",
              "\n",
              "    .dataframe tbody tr th {\n",
              "        vertical-align: top;\n",
              "    }\n",
              "\n",
              "    .dataframe thead th {\n",
              "        text-align: right;\n",
              "    }\n",
              "</style>\n",
              "<table border=\"1\" class=\"dataframe\">\n",
              "  <thead>\n",
              "    <tr style=\"text-align: right;\">\n",
              "      <th></th>\n",
              "      <th>Name</th>\n",
              "      <th>StarRatingM255</th>\n",
              "      <th>SustainabilityRank</th>\n",
              "      <th>CategoryName</th>\n",
              "      <th>Yield_M12</th>\n",
              "      <th>GBRReturnW1</th>\n",
              "      <th>GBRReturnM1</th>\n",
              "      <th>GBRReturnM3</th>\n",
              "      <th>GBRReturnM6</th>\n",
              "      <th>GBRReturnM0</th>\n",
              "      <th>GBRReturnM12</th>\n",
              "      <th>GBRReturnM36</th>\n",
              "      <th>GBRReturnM60</th>\n",
              "      <th>MaxFrontEndLoad</th>\n",
              "      <th>OngoingCostActual</th>\n",
              "      <th>TransactionFeeActual</th>\n",
              "      <th>ManagerTenure</th>\n",
              "      <th>FundTNAV</th>\n",
              "      <th>EquityStyleBox</th>\n",
              "      <th>AverageMarketCapital</th>\n",
              "      <th>MorningstarRiskM255</th>\n",
              "      <th>AlphaM36</th>\n",
              "      <th>BetaM36</th>\n",
              "      <th>R2M36</th>\n",
              "      <th>StandardDeviationM36</th>\n",
              "      <th>SharpeM36</th>\n",
              "      <th>ReturnProfilePreservation</th>\n",
              "      <th>ReturnProfileIncome</th>\n",
              "      <th>ReturnProfileHedging</th>\n",
              "      <th>TrackRecordExtension</th>\n",
              "      <th>Size</th>\n",
              "      <th>Style</th>\n",
              "    </tr>\n",
              "    <tr>\n",
              "      <th>SecId</th>\n",
              "      <th></th>\n",
              "      <th></th>\n",
              "      <th></th>\n",
              "      <th></th>\n",
              "      <th></th>\n",
              "      <th></th>\n",
              "      <th></th>\n",
              "      <th></th>\n",
              "      <th></th>\n",
              "      <th></th>\n",
              "      <th></th>\n",
              "      <th></th>\n",
              "      <th></th>\n",
              "      <th></th>\n",
              "      <th></th>\n",
              "      <th></th>\n",
              "      <th></th>\n",
              "      <th></th>\n",
              "      <th></th>\n",
              "      <th></th>\n",
              "      <th></th>\n",
              "      <th></th>\n",
              "      <th></th>\n",
              "      <th></th>\n",
              "      <th></th>\n",
              "      <th></th>\n",
              "      <th></th>\n",
              "      <th></th>\n",
              "      <th></th>\n",
              "      <th></th>\n",
              "      <th></th>\n",
              "      <th></th>\n",
              "    </tr>\n",
              "  </thead>\n",
              "  <tbody>\n",
              "    <tr>\n",
              "      <th>F00001071Q</th>\n",
              "      <td>BIEF Emerging Markets A GBP Acc</td>\n",
              "      <td>4</td>\n",
              "      <td>2</td>\n",
              "      <td>Global Emerging Markets Equity</td>\n",
              "      <td>0.62047</td>\n",
              "      <td>1.43</td>\n",
              "      <td>1.64</td>\n",
              "      <td>-3.35</td>\n",
              "      <td>-7.72</td>\n",
              "      <td>0.09</td>\n",
              "      <td>10.79</td>\n",
              "      <td>10.05</td>\n",
              "      <td>NaN</td>\n",
              "      <td>NaN</td>\n",
              "      <td>1.12</td>\n",
              "      <td>1.17</td>\n",
              "      <td>24.08</td>\n",
              "      <td>NaN</td>\n",
              "      <td>2</td>\n",
              "      <td>28614.24791</td>\n",
              "      <td>4</td>\n",
              "      <td>2.47</td>\n",
              "      <td>1.02</td>\n",
              "      <td>89.7</td>\n",
              "      <td>16.24</td>\n",
              "      <td>0.66</td>\n",
              "      <td>3</td>\n",
              "      <td>1</td>\n",
              "      <td>3.0</td>\n",
              "      <td>False</td>\n",
              "      <td>1</td>\n",
              "      <td>2</td>\n",
              "    </tr>\n",
              "  </tbody>\n",
              "</table>\n",
              "</div>\n",
              "      <button class=\"colab-df-convert\" onclick=\"convertToInteractive('df-c2126b9d-0b79-41e1-895f-b5a9075dc32e')\"\n",
              "              title=\"Convert this dataframe to an interactive table.\"\n",
              "              style=\"display:none;\">\n",
              "        \n",
              "  <svg xmlns=\"http://www.w3.org/2000/svg\" height=\"24px\"viewBox=\"0 0 24 24\"\n",
              "       width=\"24px\">\n",
              "    <path d=\"M0 0h24v24H0V0z\" fill=\"none\"/>\n",
              "    <path d=\"M18.56 5.44l.94 2.06.94-2.06 2.06-.94-2.06-.94-.94-2.06-.94 2.06-2.06.94zm-11 1L8.5 8.5l.94-2.06 2.06-.94-2.06-.94L8.5 2.5l-.94 2.06-2.06.94zm10 10l.94 2.06.94-2.06 2.06-.94-2.06-.94-.94-2.06-.94 2.06-2.06.94z\"/><path d=\"M17.41 7.96l-1.37-1.37c-.4-.4-.92-.59-1.43-.59-.52 0-1.04.2-1.43.59L10.3 9.45l-7.72 7.72c-.78.78-.78 2.05 0 2.83L4 21.41c.39.39.9.59 1.41.59.51 0 1.02-.2 1.41-.59l7.78-7.78 2.81-2.81c.8-.78.8-2.07 0-2.86zM5.41 20L4 18.59l7.72-7.72 1.47 1.35L5.41 20z\"/>\n",
              "  </svg>\n",
              "      </button>\n",
              "      \n",
              "  <style>\n",
              "    .colab-df-container {\n",
              "      display:flex;\n",
              "      flex-wrap:wrap;\n",
              "      gap: 12px;\n",
              "    }\n",
              "\n",
              "    .colab-df-convert {\n",
              "      background-color: #E8F0FE;\n",
              "      border: none;\n",
              "      border-radius: 50%;\n",
              "      cursor: pointer;\n",
              "      display: none;\n",
              "      fill: #1967D2;\n",
              "      height: 32px;\n",
              "      padding: 0 0 0 0;\n",
              "      width: 32px;\n",
              "    }\n",
              "\n",
              "    .colab-df-convert:hover {\n",
              "      background-color: #E2EBFA;\n",
              "      box-shadow: 0px 1px 2px rgba(60, 64, 67, 0.3), 0px 1px 3px 1px rgba(60, 64, 67, 0.15);\n",
              "      fill: #174EA6;\n",
              "    }\n",
              "\n",
              "    [theme=dark] .colab-df-convert {\n",
              "      background-color: #3B4455;\n",
              "      fill: #D2E3FC;\n",
              "    }\n",
              "\n",
              "    [theme=dark] .colab-df-convert:hover {\n",
              "      background-color: #434B5C;\n",
              "      box-shadow: 0px 1px 3px 1px rgba(0, 0, 0, 0.15);\n",
              "      filter: drop-shadow(0px 1px 2px rgba(0, 0, 0, 0.3));\n",
              "      fill: #FFFFFF;\n",
              "    }\n",
              "  </style>\n",
              "\n",
              "      <script>\n",
              "        const buttonEl =\n",
              "          document.querySelector('#df-c2126b9d-0b79-41e1-895f-b5a9075dc32e button.colab-df-convert');\n",
              "        buttonEl.style.display =\n",
              "          google.colab.kernel.accessAllowed ? 'block' : 'none';\n",
              "\n",
              "        async function convertToInteractive(key) {\n",
              "          const element = document.querySelector('#df-c2126b9d-0b79-41e1-895f-b5a9075dc32e');\n",
              "          const dataTable =\n",
              "            await google.colab.kernel.invokeFunction('convertToInteractive',\n",
              "                                                     [key], {});\n",
              "          if (!dataTable) return;\n",
              "\n",
              "          const docLinkHtml = 'Like what you see? Visit the ' +\n",
              "            '<a target=\"_blank\" href=https://colab.research.google.com/notebooks/data_table.ipynb>data table notebook</a>'\n",
              "            + ' to learn more about interactive tables.';\n",
              "          element.innerHTML = '';\n",
              "          dataTable['output_type'] = 'display_data';\n",
              "          await google.colab.output.renderOutput(dataTable, element);\n",
              "          const docLink = document.createElement('div');\n",
              "          docLink.innerHTML = docLinkHtml;\n",
              "          element.appendChild(docLink);\n",
              "        }\n",
              "      </script>\n",
              "    </div>\n",
              "  </div>\n",
              "  "
            ],
            "text/plain": [
              "                                       Name  StarRatingM255  ...  Size Style\n",
              "SecId                                                        ...            \n",
              "F00001071Q  BIEF Emerging Markets A GBP Acc               4  ...     1     2\n",
              "\n",
              "[1 rows x 32 columns]"
            ]
          },
          "metadata": {},
          "execution_count": 105
        }
      ]
    },
    {
      "cell_type": "code",
      "metadata": {
        "id": "ck3RLQZNgbwn"
      },
      "source": [
        "asia_df.drop(index='F00001071Q',inplace=True)\n"
      ],
      "execution_count": 106,
      "outputs": []
    },
    {
      "cell_type": "code",
      "metadata": {
        "id": "VS9meOpSgegy"
      },
      "source": [
        "X_asia = asia_df[imp_features]\n",
        "y_asia = asia_df['StarRatingM255']\n",
        "X_asia_scaled = scaler.transform(X_asia)"
      ],
      "execution_count": 107,
      "outputs": []
    },
    {
      "cell_type": "code",
      "metadata": {
        "id": "jV4l1lYmgq59"
      },
      "source": [
        "y_asia_pred = network_loaded.predict(X_asia_scaled)\n",
        "y_asia_pred = np.argmax(y_asia_pred, axis=1)\n",
        "y_asia_pred += 1"
      ],
      "execution_count": 108,
      "outputs": []
    },
    {
      "cell_type": "code",
      "metadata": {
        "colab": {
          "base_uri": "https://localhost:8080/"
        },
        "id": "JuBFmzuzimHJ",
        "outputId": "005ca195-9d17-4b07-fabb-2050dd2db531"
      },
      "source": [
        "y_asia.shape"
      ],
      "execution_count": 109,
      "outputs": [
        {
          "output_type": "execute_result",
          "data": {
            "text/plain": [
              "(432,)"
            ]
          },
          "metadata": {},
          "execution_count": 109
        }
      ]
    },
    {
      "cell_type": "code",
      "metadata": {
        "colab": {
          "base_uri": "https://localhost:8080/"
        },
        "id": "LkXSYbWrjJKT",
        "outputId": "4ed84217-495e-4203-ee43-259f45c04321"
      },
      "source": [
        "y_asia_pred.shape"
      ],
      "execution_count": 110,
      "outputs": [
        {
          "output_type": "execute_result",
          "data": {
            "text/plain": [
              "(432,)"
            ]
          },
          "metadata": {},
          "execution_count": 110
        }
      ]
    },
    {
      "cell_type": "code",
      "metadata": {
        "colab": {
          "base_uri": "https://localhost:8080/"
        },
        "id": "vwHEPAwsh_5Y",
        "outputId": "df203b88-1b89-42b0-a3f2-24f5f3f75ff5"
      },
      "source": [
        "print(\"Accuracy Score for \" +  model.__class__.__name__ + \"  \" \n",
        "        + str(accuracy_score(y_asia.values,y_asia_pred)) )\n",
        "print(\"F1 Score for \" + model.__class__.__name__ + \"  \" + \n",
        "        str(f1_score(y_asia.values, y_asia_pred, average='weighted')))"
      ],
      "execution_count": 111,
      "outputs": [
        {
          "output_type": "stream",
          "name": "stdout",
          "text": [
            "Accuracy Score for Sequential  0.5254629629629629\n",
            "F1 Score for Sequential  0.5176496159393014\n"
          ]
        }
      ]
    },
    {
      "cell_type": "code",
      "metadata": {
        "colab": {
          "base_uri": "https://localhost:8080/",
          "height": 281
        },
        "id": "RzJhuUlRg5H7",
        "outputId": "fbbe6ba4-58bc-41d7-c654-d364dcff5aeb"
      },
      "source": [
        "plot_conf_matrix(y_asia.values,y_asia_pred,unique_class_label, title=\"Confusion Matrix for Neural Network\" )"
      ],
      "execution_count": 112,
      "outputs": [
        {
          "output_type": "display_data",
          "data": {
            "image/png": "[encoded data removed]",
            "text/plain": [
              "<Figure size 360x288 with 2 Axes>"
            ]
          },
          "metadata": {
            "needs_background": "light"
          }
        }
      ]
    }
  ]
}