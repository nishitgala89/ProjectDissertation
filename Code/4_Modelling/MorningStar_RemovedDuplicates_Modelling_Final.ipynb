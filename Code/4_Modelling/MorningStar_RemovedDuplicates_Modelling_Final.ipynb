{
  "nbformat": 4,
  "nbformat_minor": 0,
  "metadata": {
    "colab": {
      "name": "MorningStar_RemovedDuplicates_Modelling_Final.ipynb",
      "provenance": [],
      "collapsed_sections": [],
      "authorship_tag": "ABX9TyM+iZr9PUSTD0FF19JRCm3g",
      "include_colab_link": true
    },
    "kernelspec": {
      "name": "python3",
      "display_name": "Python 3"
    },
    "language_info": {
      "name": "python"
    }
  },
  "cells": [
    {
      "cell_type": "markdown",
      "metadata": {
        "id": "view-in-github",
        "colab_type": "text"
      },
      "source": [
        "<a href=\"https://colab.research.google.com/github/nishitgala89/ProjectDissertation/blob/main/Code/4_Modelling/MorningStar_RemovedDuplicates_Modelling_Final.ipynb\" target=\"_parent\"><img src=\"https://colab.research.google.com/assets/colab-badge.svg\" alt=\"Open In Colab\"/></a>"
      ]
    },
    {
      "cell_type": "markdown",
      "metadata": {
        "id": "eeazHRS71neh"
      },
      "source": [
        "###**Mounting Google Drive**"
      ]
    },
    {
      "cell_type": "code",
      "metadata": {
        "id": "g6DZ90-rEagh"
      },
      "source": [
        "# from google.colab import drive\n",
        "# drive.mount('/content/drive')"
      ],
      "execution_count": 1,
      "outputs": []
    },
    {
      "cell_type": "code",
      "metadata": {
        "id": "ZcDgOpziTLgo"
      },
      "source": [
        "rand_state = 42 # 42"
      ],
      "execution_count": 2,
      "outputs": []
    },
    {
      "cell_type": "markdown",
      "metadata": {
        "id": "is2MxjpD5mog"
      },
      "source": [
        "###**Import Libraries**"
      ]
    },
    {
      "cell_type": "code",
      "metadata": {
        "id": "5PGgVZfRChJL"
      },
      "source": [
        "from google.colab import files\n",
        "import pandas as pd\n",
        "import numpy as np\n",
        "import matplotlib.pyplot as plt\n",
        "import seaborn as sns\n",
        "from sklearn.linear_model import LogisticRegression\n",
        "from sklearn.svm import SVC\n",
        "from sklearn.tree import DecisionTreeClassifier\n",
        "from xgboost import XGBClassifier\n",
        "from sklearn.model_selection import train_test_split\n",
        "from sklearn.ensemble import RandomForestClassifier\n",
        "from sklearn.ensemble import BaggingClassifier\n",
        "from sklearn.ensemble import AdaBoostClassifier\n",
        "from sklearn.model_selection import StratifiedKFold,cross_val_score,KFold,StratifiedKFold\n",
        "from sklearn.metrics import accuracy_score,f1_score\n",
        "from sklearn.preprocessing import StandardScaler,MinMaxScaler\n",
        "\n"
      ],
      "execution_count": 3,
      "outputs": []
    },
    {
      "cell_type": "code",
      "metadata": {
        "id": "AXxoO94N5TTS"
      },
      "source": [
        "from sklearn.metrics import confusion_matrix\n",
        "def plot_conf_matrix(y_test,y_pred,uniqueclassLabel, title=\"CMatrix\"):\n",
        "  cm = confusion_matrix(y_true=y_test,y_pred=y_pred,labels=uniqueclassLabel)\n",
        "  plt.figure(figsize=(5,4))\n",
        "  plt.title(title)\n",
        "  #ax = plt.subplot()\n",
        "  sns.heatmap(cm, annot=True,cmap='Blues',\n",
        "              yticklabels=uniqueclassLabel,xticklabels=uniqueclassLabel,fmt='3g')"
      ],
      "execution_count": 4,
      "outputs": []
    },
    {
      "cell_type": "markdown",
      "metadata": {
        "id": "6nv-BCDw7Roe"
      },
      "source": [
        "###**Import Utility File**"
      ]
    },
    {
      "cell_type": "code",
      "metadata": {
        "id": "eTu1q8Gh6ckf"
      },
      "source": [
        "# import sys\n",
        "# path = \"/content/drive/MyDrive/Colab Notebooks/Project_Dissertation\"\n",
        "# sys.path.insert(0,path + \"/Code\")\n",
        "# import morningStarUtilities"
      ],
      "execution_count": 5,
      "outputs": []
    },
    {
      "cell_type": "code",
      "metadata": {
        "colab": {
          "base_uri": "https://localhost:8080/"
        },
        "id": "BlLfA5BBL6xa",
        "outputId": "fa9107f5-9c5b-4a3a-b182-bc883b6775d8"
      },
      "source": [
        "user = 'nishitgala89'\n",
        "repo = 'ProjectDissertation'\n",
        "src_dir = \"Code/utilities\"\n",
        "pyfile = \"morningStarUtilities.py\"\n",
        "\n",
        "url = f\"https://raw.githubusercontent.com/{user}/{repo}/main/{src_dir}/{pyfile}\"\n",
        "!wget --no-cache --backups=1 {url}"
      ],
      "execution_count": 6,
      "outputs": [
        {
          "output_type": "stream",
          "name": "stdout",
          "text": [
            "--2021-11-29 16:08:50--  https://raw.githubusercontent.com/nishitgala89/ProjectDissertation/main/Code/utilities/morningStarUtilities.py\n",
            "Resolving raw.githubusercontent.com (raw.githubusercontent.com)... 185.199.110.133, 185.199.109.133, 185.199.111.133, ...\n",
            "Connecting to raw.githubusercontent.com (raw.githubusercontent.com)|185.199.110.133|:443... connected.\n",
            "HTTP request sent, awaiting response... 200 OK\n",
            "Length: 6484 (6.3K) [text/plain]\n",
            "Failed to rename morningStarUtilities.py to morningStarUtilities.py.1: (2) No such file or directory\n",
            "Saving to: ‘morningStarUtilities.py’\n",
            "\n",
            "\rmorningStarUtilitie   0%[                    ]       0  --.-KB/s               \rmorningStarUtilitie 100%[===================>]   6.33K  --.-KB/s    in 0s      \n",
            "\n",
            "2021-11-29 16:08:50 (65.2 MB/s) - ‘morningStarUtilities.py’ saved [6484/6484]\n",
            "\n"
          ]
        }
      ]
    },
    {
      "cell_type": "code",
      "metadata": {
        "id": "4vIDnFfuNvGz"
      },
      "source": [
        "# import subprocess\n",
        "\n",
        "# result = subprocess.run([\"wget\", \"--no-cache\", \"--backups=1\", url], stderr=subprocess.PIPE, stdout=subprocess.PIPE)\n",
        "# print(result.stderr.decode(\"utf-8\"))\n",
        "\n",
        "import morningStarUtilities"
      ],
      "execution_count": 7,
      "outputs": []
    },
    {
      "cell_type": "code",
      "metadata": {
        "id": "g4QymRe3NwA8"
      },
      "source": [
        ""
      ],
      "execution_count": 7,
      "outputs": []
    },
    {
      "cell_type": "markdown",
      "metadata": {
        "id": "F-wcjDaJ8t7Z"
      },
      "source": [
        "### **Import Training Data**"
      ]
    },
    {
      "cell_type": "code",
      "metadata": {
        "id": "LpS5-NC88vzy"
      },
      "source": [
        "# uploaded = files.upload()\n",
        "# train_df = pd.read_csv(io.BytesIO(uploaded['morningstar_removedDuplicates_train_withoutM60.csv']))\n",
        "# train_df = pd.read_csv(path + \"/Data/Final_without_missing_values/morningstar_removedDuplicates_train_withoutLogTransform_withoutM60.csv\").set_index(\"SecId\")\n",
        "train_df = pd.read_csv(\"https://raw.githubusercontent.com/nishitgala89/ProjectDissertation/main/Datasheets/3_Modelling/morningstar_removedDuplicates_train_withoutLogTransform_withoutM60.csv\").set_index(\"SecId\")"
      ],
      "execution_count": 8,
      "outputs": []
    },
    {
      "cell_type": "markdown",
      "metadata": {
        "id": "RgBksjh6_QMt"
      },
      "source": [
        "### **Import Testing Data**"
      ]
    },
    {
      "cell_type": "code",
      "metadata": {
        "id": "OKzcGENX_TNv"
      },
      "source": [
        "# uploaded = files.upload()\n",
        "# test_df = pd.read_csv(io.BytesIO(uploaded['morningstar_removedDuplicates_test_withoutM60.csv']))\n",
        "#test_df = pd.read_csv(path + \"/Data/Final_without_missing_values/morningstar_removedDuplicates_test_withoutLogTransform_withoutM60.csv\").set_index(\"SecId\")\n",
        "test_df = pd.read_csv('https://raw.githubusercontent.com/nishitgala89/ProjectDissertation/main/Datasheets/3_Modelling/morningstar_removedDuplicates_test_withoutLogTransform_withoutM60.csv').set_index(\"SecId\")"
      ],
      "execution_count": 9,
      "outputs": []
    },
    {
      "cell_type": "code",
      "metadata": {
        "colab": {
          "base_uri": "https://localhost:8080/",
          "height": 1000
        },
        "id": "xVspq5V8MJ31",
        "outputId": "b61f0b78-aabc-4d54-cb95-fe85f5d9374a"
      },
      "source": [
        "train_df"
      ],
      "execution_count": 10,
      "outputs": [
        {
          "output_type": "execute_result",
          "data": {
            "text/html": [
              "<div>\n",
              "<style scoped>\n",
              "    .dataframe tbody tr th:only-of-type {\n",
              "        vertical-align: middle;\n",
              "    }\n",
              "\n",
              "    .dataframe tbody tr th {\n",
              "        vertical-align: top;\n",
              "    }\n",
              "\n",
              "    .dataframe thead th {\n",
              "        text-align: right;\n",
              "    }\n",
              "</style>\n",
              "<table border=\"1\" class=\"dataframe\">\n",
              "  <thead>\n",
              "    <tr style=\"text-align: right;\">\n",
              "      <th></th>\n",
              "      <th>Name</th>\n",
              "      <th>StarRatingM255</th>\n",
              "      <th>SustainabilityRank</th>\n",
              "      <th>Yield_M12</th>\n",
              "      <th>GBRReturnW1</th>\n",
              "      <th>GBRReturnM1</th>\n",
              "      <th>GBRReturnM3</th>\n",
              "      <th>GBRReturnM6</th>\n",
              "      <th>GBRReturnM0</th>\n",
              "      <th>GBRReturnM12</th>\n",
              "      <th>GBRReturnM36</th>\n",
              "      <th>MaxFrontEndLoad</th>\n",
              "      <th>OngoingCostActual</th>\n",
              "      <th>TransactionFeeActual</th>\n",
              "      <th>ManagerTenure</th>\n",
              "      <th>FundTNAV</th>\n",
              "      <th>AverageMarketCapital</th>\n",
              "      <th>MorningstarRiskM255</th>\n",
              "      <th>AlphaM36</th>\n",
              "      <th>BetaM36</th>\n",
              "      <th>R2M36</th>\n",
              "      <th>StandardDeviationM36</th>\n",
              "      <th>SharpeM36</th>\n",
              "      <th>ReturnProfilePreservation</th>\n",
              "      <th>ReturnProfileIncome</th>\n",
              "      <th>ReturnProfileHedging</th>\n",
              "      <th>TrackRecordExtension</th>\n",
              "      <th>Cat_Flex-Cap</th>\n",
              "      <th>Cat_Income</th>\n",
              "      <th>Cat_Large-Cap</th>\n",
              "      <th>Cat_Mid_Small-Cap</th>\n",
              "      <th>Cat_Miscellaneous</th>\n",
              "      <th>Size</th>\n",
              "      <th>Style</th>\n",
              "    </tr>\n",
              "    <tr>\n",
              "      <th>SecId</th>\n",
              "      <th></th>\n",
              "      <th></th>\n",
              "      <th></th>\n",
              "      <th></th>\n",
              "      <th></th>\n",
              "      <th></th>\n",
              "      <th></th>\n",
              "      <th></th>\n",
              "      <th></th>\n",
              "      <th></th>\n",
              "      <th></th>\n",
              "      <th></th>\n",
              "      <th></th>\n",
              "      <th></th>\n",
              "      <th></th>\n",
              "      <th></th>\n",
              "      <th></th>\n",
              "      <th></th>\n",
              "      <th></th>\n",
              "      <th></th>\n",
              "      <th></th>\n",
              "      <th></th>\n",
              "      <th></th>\n",
              "      <th></th>\n",
              "      <th></th>\n",
              "      <th></th>\n",
              "      <th></th>\n",
              "      <th></th>\n",
              "      <th></th>\n",
              "      <th></th>\n",
              "      <th></th>\n",
              "      <th></th>\n",
              "      <th></th>\n",
              "      <th></th>\n",
              "    </tr>\n",
              "  </thead>\n",
              "  <tbody>\n",
              "    <tr>\n",
              "      <th>F000005ETU</th>\n",
              "      <td>Barings Europe Select A EUR Acc</td>\n",
              "      <td>3</td>\n",
              "      <td>4</td>\n",
              "      <td>0.0</td>\n",
              "      <td>0.85</td>\n",
              "      <td>5.10</td>\n",
              "      <td>9.42</td>\n",
              "      <td>21.86</td>\n",
              "      <td>16.19</td>\n",
              "      <td>38.51</td>\n",
              "      <td>9.65</td>\n",
              "      <td>5.00</td>\n",
              "      <td>1.55</td>\n",
              "      <td>0.34</td>\n",
              "      <td>16.67</td>\n",
              "      <td>1.429875e+09</td>\n",
              "      <td>3978.65175</td>\n",
              "      <td>2</td>\n",
              "      <td>0.16</td>\n",
              "      <td>0.88</td>\n",
              "      <td>96.29</td>\n",
              "      <td>17.05</td>\n",
              "      <td>0.57</td>\n",
              "      <td>3</td>\n",
              "      <td>3</td>\n",
              "      <td>3.0</td>\n",
              "      <td>0</td>\n",
              "      <td>0</td>\n",
              "      <td>0</td>\n",
              "      <td>0</td>\n",
              "      <td>1</td>\n",
              "      <td>0</td>\n",
              "      <td>2</td>\n",
              "      <td>3</td>\n",
              "    </tr>\n",
              "    <tr>\n",
              "      <th>F0GBR061MQ</th>\n",
              "      <td>Schroder ISF Sust Swiss Eq C Acc CHF</td>\n",
              "      <td>2</td>\n",
              "      <td>2</td>\n",
              "      <td>0.0</td>\n",
              "      <td>1.93</td>\n",
              "      <td>8.73</td>\n",
              "      <td>10.76</td>\n",
              "      <td>18.20</td>\n",
              "      <td>14.37</td>\n",
              "      <td>27.85</td>\n",
              "      <td>6.80</td>\n",
              "      <td>1.00</td>\n",
              "      <td>1.06</td>\n",
              "      <td>0.08</td>\n",
              "      <td>15.83</td>\n",
              "      <td>3.204443e+07</td>\n",
              "      <td>29776.97728</td>\n",
              "      <td>4</td>\n",
              "      <td>-7.08</td>\n",
              "      <td>1.10</td>\n",
              "      <td>85.04</td>\n",
              "      <td>12.23</td>\n",
              "      <td>0.57</td>\n",
              "      <td>2</td>\n",
              "      <td>3</td>\n",
              "      <td>3.0</td>\n",
              "      <td>0</td>\n",
              "      <td>0</td>\n",
              "      <td>0</td>\n",
              "      <td>0</td>\n",
              "      <td>0</td>\n",
              "      <td>1</td>\n",
              "      <td>1</td>\n",
              "      <td>2</td>\n",
              "    </tr>\n",
              "    <tr>\n",
              "      <th>F00000ZS1K</th>\n",
              "      <td>Berenberg European Small Cap B</td>\n",
              "      <td>5</td>\n",
              "      <td>2</td>\n",
              "      <td>0.0</td>\n",
              "      <td>0.15</td>\n",
              "      <td>2.60</td>\n",
              "      <td>11.32</td>\n",
              "      <td>25.96</td>\n",
              "      <td>17.16</td>\n",
              "      <td>51.01</td>\n",
              "      <td>19.50</td>\n",
              "      <td>0.00</td>\n",
              "      <td>0.24</td>\n",
              "      <td>0.23</td>\n",
              "      <td>3.67</td>\n",
              "      <td>6.737833e+08</td>\n",
              "      <td>1698.74791</td>\n",
              "      <td>3</td>\n",
              "      <td>10.19</td>\n",
              "      <td>0.99</td>\n",
              "      <td>86.05</td>\n",
              "      <td>21.60</td>\n",
              "      <td>0.92</td>\n",
              "      <td>3</td>\n",
              "      <td>3</td>\n",
              "      <td>3.0</td>\n",
              "      <td>0</td>\n",
              "      <td>0</td>\n",
              "      <td>0</td>\n",
              "      <td>0</td>\n",
              "      <td>1</td>\n",
              "      <td>0</td>\n",
              "      <td>3</td>\n",
              "      <td>3</td>\n",
              "    </tr>\n",
              "    <tr>\n",
              "      <th>F000000ITQ</th>\n",
              "      <td>Candriam Eqs L Eurp Optm Qual I EUR Cap</td>\n",
              "      <td>3</td>\n",
              "      <td>4</td>\n",
              "      <td>0.0</td>\n",
              "      <td>0.79</td>\n",
              "      <td>1.74</td>\n",
              "      <td>7.45</td>\n",
              "      <td>11.52</td>\n",
              "      <td>9.99</td>\n",
              "      <td>21.32</td>\n",
              "      <td>7.40</td>\n",
              "      <td>0.00</td>\n",
              "      <td>0.75</td>\n",
              "      <td>0.22</td>\n",
              "      <td>7.17</td>\n",
              "      <td>8.404491e+08</td>\n",
              "      <td>20347.16148</td>\n",
              "      <td>1</td>\n",
              "      <td>-3.22</td>\n",
              "      <td>0.92</td>\n",
              "      <td>93.88</td>\n",
              "      <td>12.45</td>\n",
              "      <td>0.55</td>\n",
              "      <td>2</td>\n",
              "      <td>3</td>\n",
              "      <td>3.0</td>\n",
              "      <td>0</td>\n",
              "      <td>0</td>\n",
              "      <td>0</td>\n",
              "      <td>1</td>\n",
              "      <td>0</td>\n",
              "      <td>0</td>\n",
              "      <td>1</td>\n",
              "      <td>3</td>\n",
              "    </tr>\n",
              "    <tr>\n",
              "      <th>F00000SX9M</th>\n",
              "      <td>Janus Henderson INTECH EurpCor A2 EUR</td>\n",
              "      <td>5</td>\n",
              "      <td>3</td>\n",
              "      <td>0.0</td>\n",
              "      <td>0.66</td>\n",
              "      <td>4.99</td>\n",
              "      <td>9.64</td>\n",
              "      <td>20.98</td>\n",
              "      <td>17.27</td>\n",
              "      <td>37.58</td>\n",
              "      <td>8.79</td>\n",
              "      <td>5.00</td>\n",
              "      <td>1.75</td>\n",
              "      <td>1.05</td>\n",
              "      <td>7.42</td>\n",
              "      <td>1.182744e+08</td>\n",
              "      <td>17329.54942</td>\n",
              "      <td>3</td>\n",
              "      <td>1.56</td>\n",
              "      <td>0.95</td>\n",
              "      <td>92.89</td>\n",
              "      <td>15.08</td>\n",
              "      <td>0.54</td>\n",
              "      <td>3</td>\n",
              "      <td>3</td>\n",
              "      <td>3.0</td>\n",
              "      <td>0</td>\n",
              "      <td>0</td>\n",
              "      <td>0</td>\n",
              "      <td>1</td>\n",
              "      <td>0</td>\n",
              "      <td>0</td>\n",
              "      <td>1</td>\n",
              "      <td>2</td>\n",
              "    </tr>\n",
              "    <tr>\n",
              "      <th>...</th>\n",
              "      <td>...</td>\n",
              "      <td>...</td>\n",
              "      <td>...</td>\n",
              "      <td>...</td>\n",
              "      <td>...</td>\n",
              "      <td>...</td>\n",
              "      <td>...</td>\n",
              "      <td>...</td>\n",
              "      <td>...</td>\n",
              "      <td>...</td>\n",
              "      <td>...</td>\n",
              "      <td>...</td>\n",
              "      <td>...</td>\n",
              "      <td>...</td>\n",
              "      <td>...</td>\n",
              "      <td>...</td>\n",
              "      <td>...</td>\n",
              "      <td>...</td>\n",
              "      <td>...</td>\n",
              "      <td>...</td>\n",
              "      <td>...</td>\n",
              "      <td>...</td>\n",
              "      <td>...</td>\n",
              "      <td>...</td>\n",
              "      <td>...</td>\n",
              "      <td>...</td>\n",
              "      <td>...</td>\n",
              "      <td>...</td>\n",
              "      <td>...</td>\n",
              "      <td>...</td>\n",
              "      <td>...</td>\n",
              "      <td>...</td>\n",
              "      <td>...</td>\n",
              "      <td>...</td>\n",
              "    </tr>\n",
              "    <tr>\n",
              "      <th>F00000XH8D</th>\n",
              "      <td>ASSII-Europ Focus Eq B Acc GBP</td>\n",
              "      <td>3</td>\n",
              "      <td>3</td>\n",
              "      <td>0.0</td>\n",
              "      <td>0.82</td>\n",
              "      <td>3.94</td>\n",
              "      <td>3.87</td>\n",
              "      <td>7.06</td>\n",
              "      <td>5.43</td>\n",
              "      <td>21.80</td>\n",
              "      <td>4.88</td>\n",
              "      <td>5.00</td>\n",
              "      <td>1.03</td>\n",
              "      <td>0.40</td>\n",
              "      <td>1.92</td>\n",
              "      <td>1.041660e+07</td>\n",
              "      <td>34607.87874</td>\n",
              "      <td>3</td>\n",
              "      <td>-1.06</td>\n",
              "      <td>0.99</td>\n",
              "      <td>91.43</td>\n",
              "      <td>16.16</td>\n",
              "      <td>0.36</td>\n",
              "      <td>2</td>\n",
              "      <td>3</td>\n",
              "      <td>3.0</td>\n",
              "      <td>0</td>\n",
              "      <td>0</td>\n",
              "      <td>0</td>\n",
              "      <td>1</td>\n",
              "      <td>0</td>\n",
              "      <td>0</td>\n",
              "      <td>1</td>\n",
              "      <td>3</td>\n",
              "    </tr>\n",
              "    <tr>\n",
              "      <th>F0GBR04BDY</th>\n",
              "      <td>MS INVF European Property A</td>\n",
              "      <td>1</td>\n",
              "      <td>5</td>\n",
              "      <td>0.0</td>\n",
              "      <td>1.71</td>\n",
              "      <td>6.65</td>\n",
              "      <td>15.12</td>\n",
              "      <td>20.83</td>\n",
              "      <td>18.35</td>\n",
              "      <td>29.84</td>\n",
              "      <td>1.29</td>\n",
              "      <td>5.75</td>\n",
              "      <td>1.65</td>\n",
              "      <td>0.26</td>\n",
              "      <td>23.75</td>\n",
              "      <td>3.776127e+07</td>\n",
              "      <td>4036.57364</td>\n",
              "      <td>5</td>\n",
              "      <td>-4.73</td>\n",
              "      <td>1.33</td>\n",
              "      <td>89.06</td>\n",
              "      <td>24.26</td>\n",
              "      <td>0.10</td>\n",
              "      <td>3</td>\n",
              "      <td>1</td>\n",
              "      <td>3.0</td>\n",
              "      <td>0</td>\n",
              "      <td>0</td>\n",
              "      <td>0</td>\n",
              "      <td>0</td>\n",
              "      <td>0</td>\n",
              "      <td>1</td>\n",
              "      <td>2</td>\n",
              "      <td>1</td>\n",
              "    </tr>\n",
              "    <tr>\n",
              "      <th>F0GBR04SFG</th>\n",
              "      <td>MSMM European Small Cap A</td>\n",
              "      <td>2</td>\n",
              "      <td>3</td>\n",
              "      <td>0.0</td>\n",
              "      <td>-0.06</td>\n",
              "      <td>0.54</td>\n",
              "      <td>9.39</td>\n",
              "      <td>24.04</td>\n",
              "      <td>18.01</td>\n",
              "      <td>43.01</td>\n",
              "      <td>5.45</td>\n",
              "      <td>5.00</td>\n",
              "      <td>2.13</td>\n",
              "      <td>0.59</td>\n",
              "      <td>2.25</td>\n",
              "      <td>5.323047e+07</td>\n",
              "      <td>2464.49043</td>\n",
              "      <td>4</td>\n",
              "      <td>-3.74</td>\n",
              "      <td>1.05</td>\n",
              "      <td>98.54</td>\n",
              "      <td>20.81</td>\n",
              "      <td>0.31</td>\n",
              "      <td>2</td>\n",
              "      <td>2</td>\n",
              "      <td>2.0</td>\n",
              "      <td>0</td>\n",
              "      <td>0</td>\n",
              "      <td>0</td>\n",
              "      <td>0</td>\n",
              "      <td>1</td>\n",
              "      <td>0</td>\n",
              "      <td>2</td>\n",
              "      <td>2</td>\n",
              "    </tr>\n",
              "    <tr>\n",
              "      <th>F00000033J</th>\n",
              "      <td>Nordea 1 - Nordic Equity Small Cp BP EUR</td>\n",
              "      <td>3</td>\n",
              "      <td>4</td>\n",
              "      <td>0.0</td>\n",
              "      <td>-0.44</td>\n",
              "      <td>3.03</td>\n",
              "      <td>8.50</td>\n",
              "      <td>20.58</td>\n",
              "      <td>12.96</td>\n",
              "      <td>54.59</td>\n",
              "      <td>19.63</td>\n",
              "      <td>5.00</td>\n",
              "      <td>1.80</td>\n",
              "      <td>0.24</td>\n",
              "      <td>14.42</td>\n",
              "      <td>1.340372e+08</td>\n",
              "      <td>969.39463</td>\n",
              "      <td>2</td>\n",
              "      <td>4.58</td>\n",
              "      <td>0.93</td>\n",
              "      <td>93.14</td>\n",
              "      <td>20.33</td>\n",
              "      <td>0.95</td>\n",
              "      <td>3</td>\n",
              "      <td>3</td>\n",
              "      <td>3.0</td>\n",
              "      <td>0</td>\n",
              "      <td>0</td>\n",
              "      <td>0</td>\n",
              "      <td>0</td>\n",
              "      <td>1</td>\n",
              "      <td>0</td>\n",
              "      <td>3</td>\n",
              "      <td>2</td>\n",
              "    </tr>\n",
              "    <tr>\n",
              "      <th>F00000M89N</th>\n",
              "      <td>Alken Absolute Return Europe K</td>\n",
              "      <td>1</td>\n",
              "      <td>3</td>\n",
              "      <td>0.0</td>\n",
              "      <td>-0.53</td>\n",
              "      <td>0.42</td>\n",
              "      <td>3.94</td>\n",
              "      <td>8.12</td>\n",
              "      <td>7.88</td>\n",
              "      <td>2.41</td>\n",
              "      <td>-3.86</td>\n",
              "      <td>3.00</td>\n",
              "      <td>2.03</td>\n",
              "      <td>0.67</td>\n",
              "      <td>10.42</td>\n",
              "      <td>1.277086e+08</td>\n",
              "      <td>6674.20618</td>\n",
              "      <td>3</td>\n",
              "      <td>-6.21</td>\n",
              "      <td>0.34</td>\n",
              "      <td>38.25</td>\n",
              "      <td>9.00</td>\n",
              "      <td>-0.53</td>\n",
              "      <td>3</td>\n",
              "      <td>3</td>\n",
              "      <td>3.0</td>\n",
              "      <td>0</td>\n",
              "      <td>0</td>\n",
              "      <td>0</td>\n",
              "      <td>0</td>\n",
              "      <td>0</td>\n",
              "      <td>1</td>\n",
              "      <td>2</td>\n",
              "      <td>2</td>\n",
              "    </tr>\n",
              "  </tbody>\n",
              "</table>\n",
              "<p>886 rows × 34 columns</p>\n",
              "</div>"
            ],
            "text/plain": [
              "                                                Name  ...  Style\n",
              "SecId                                                 ...       \n",
              "F000005ETU           Barings Europe Select A EUR Acc  ...      3\n",
              "F0GBR061MQ      Schroder ISF Sust Swiss Eq C Acc CHF  ...      2\n",
              "F00000ZS1K            Berenberg European Small Cap B  ...      3\n",
              "F000000ITQ   Candriam Eqs L Eurp Optm Qual I EUR Cap  ...      3\n",
              "F00000SX9M     Janus Henderson INTECH EurpCor A2 EUR  ...      2\n",
              "...                                              ...  ...    ...\n",
              "F00000XH8D            ASSII-Europ Focus Eq B Acc GBP  ...      3\n",
              "F0GBR04BDY               MS INVF European Property A  ...      1\n",
              "F0GBR04SFG                 MSMM European Small Cap A  ...      2\n",
              "F00000033J  Nordea 1 - Nordic Equity Small Cp BP EUR  ...      2\n",
              "F00000M89N            Alken Absolute Return Europe K  ...      2\n",
              "\n",
              "[886 rows x 34 columns]"
            ]
          },
          "metadata": {},
          "execution_count": 10
        }
      ]
    },
    {
      "cell_type": "code",
      "metadata": {
        "colab": {
          "base_uri": "https://localhost:8080/",
          "height": 237
        },
        "id": "DMwiYbLZJRsS",
        "outputId": "a59031fe-ddae-4d86-88c6-7ce51a008d59"
      },
      "source": [
        "train_df.groupby(\"StarRatingM255\")['GBRReturnM36'].agg(['mean','min','max'])"
      ],
      "execution_count": 11,
      "outputs": [
        {
          "output_type": "execute_result",
          "data": {
            "text/html": [
              "<div>\n",
              "<style scoped>\n",
              "    .dataframe tbody tr th:only-of-type {\n",
              "        vertical-align: middle;\n",
              "    }\n",
              "\n",
              "    .dataframe tbody tr th {\n",
              "        vertical-align: top;\n",
              "    }\n",
              "\n",
              "    .dataframe thead th {\n",
              "        text-align: right;\n",
              "    }\n",
              "</style>\n",
              "<table border=\"1\" class=\"dataframe\">\n",
              "  <thead>\n",
              "    <tr style=\"text-align: right;\">\n",
              "      <th></th>\n",
              "      <th>mean</th>\n",
              "      <th>min</th>\n",
              "      <th>max</th>\n",
              "    </tr>\n",
              "    <tr>\n",
              "      <th>StarRatingM255</th>\n",
              "      <th></th>\n",
              "      <th></th>\n",
              "      <th></th>\n",
              "    </tr>\n",
              "  </thead>\n",
              "  <tbody>\n",
              "    <tr>\n",
              "      <th>1</th>\n",
              "      <td>0.522333</td>\n",
              "      <td>-11.74</td>\n",
              "      <td>8.57</td>\n",
              "    </tr>\n",
              "    <tr>\n",
              "      <th>2</th>\n",
              "      <td>3.529188</td>\n",
              "      <td>-4.60</td>\n",
              "      <td>14.50</td>\n",
              "    </tr>\n",
              "    <tr>\n",
              "      <th>3</th>\n",
              "      <td>6.013062</td>\n",
              "      <td>-3.30</td>\n",
              "      <td>19.63</td>\n",
              "    </tr>\n",
              "    <tr>\n",
              "      <th>4</th>\n",
              "      <td>7.636444</td>\n",
              "      <td>1.06</td>\n",
              "      <td>20.11</td>\n",
              "    </tr>\n",
              "    <tr>\n",
              "      <th>5</th>\n",
              "      <td>10.041905</td>\n",
              "      <td>1.75</td>\n",
              "      <td>21.59</td>\n",
              "    </tr>\n",
              "  </tbody>\n",
              "</table>\n",
              "</div>"
            ],
            "text/plain": [
              "                     mean    min    max\n",
              "StarRatingM255                         \n",
              "1                0.522333 -11.74   8.57\n",
              "2                3.529188  -4.60  14.50\n",
              "3                6.013062  -3.30  19.63\n",
              "4                7.636444   1.06  20.11\n",
              "5               10.041905   1.75  21.59"
            ]
          },
          "metadata": {},
          "execution_count": 11
        }
      ]
    },
    {
      "cell_type": "markdown",
      "metadata": {
        "id": "_T4GGYnf6tUB"
      },
      "source": [
        "### **Defining Training, Testing varibales**"
      ]
    },
    {
      "cell_type": "code",
      "metadata": {
        "id": "Gu7xuE_PBS9A"
      },
      "source": [
        "imp_features = ['SustainabilityRank','GBRReturnM1','GBRReturnM3','GBRReturnM0','GBRReturnM36','OngoingCostActual','TransactionFeeActual','FundTNAV',\n",
        "'AverageMarketCapital','MorningstarRiskM255','AlphaM36','BetaM36','StandardDeviationM36','SharpeM36','Size','Style']\n",
        "X_train = train_df[imp_features]\n",
        "y_train = train_df['StarRatingM255']\n",
        "\n",
        "X_test = test_df[imp_features]\n",
        "y_test = test_df['StarRatingM255']"
      ],
      "execution_count": 12,
      "outputs": []
    },
    {
      "cell_type": "code",
      "metadata": {
        "colab": {
          "base_uri": "https://localhost:8080/"
        },
        "id": "4XTYcqhHBR9I",
        "outputId": "deabf4f5-89da-494a-87e7-d633e0e0a879"
      },
      "source": [
        "X_train.shape, y_train.shape"
      ],
      "execution_count": 13,
      "outputs": [
        {
          "output_type": "execute_result",
          "data": {
            "text/plain": [
              "((886, 16), (886,))"
            ]
          },
          "metadata": {},
          "execution_count": 13
        }
      ]
    },
    {
      "cell_type": "code",
      "metadata": {
        "id": "F9h3zNLt6sp4"
      },
      "source": [
        "# X_train = train_df.drop(['StarRatingM255','Name'],axis=1)\n",
        "# y_train = train_df[['StarRatingM255']]\n",
        "# X_test = test_df.drop(['StarRatingM255','Name'],axis=1)\n",
        "# y_test = test_df[['StarRatingM255']]\n",
        "# X_train.shape, y_train.shape, X_test.shape, y_test.shape"
      ],
      "execution_count": 14,
      "outputs": []
    },
    {
      "cell_type": "markdown",
      "metadata": {
        "id": "-7XMS96relKM"
      },
      "source": [
        "### **Scaling the Data**"
      ]
    },
    {
      "cell_type": "code",
      "metadata": {
        "id": "ZPhgNmDZeqBr"
      },
      "source": [
        "scaler = StandardScaler()\n",
        "scaler.fit(X_train)\n",
        "X_train_scaled = scaler.transform(X_train)\n",
        "X_test_scaled = scaler.transform(X_test)"
      ],
      "execution_count": 15,
      "outputs": []
    },
    {
      "cell_type": "markdown",
      "metadata": {
        "id": "d_xfktBW7XKR"
      },
      "source": [
        "### **Verify the Training and Testing distribution as per Target Variable**"
      ]
    },
    {
      "cell_type": "code",
      "metadata": {
        "colab": {
          "base_uri": "https://localhost:8080/",
          "height": 292
        },
        "id": "Dl4C6CPu7eMA",
        "outputId": "9caa777b-3600-4153-8a5f-dedb02dcebd8"
      },
      "source": [
        "morningStarUtilities.displayBarSubPlots([train_df,test_df],[\"Training Distribution\", \"Testing Distribution\"],\n",
        "                   \"StarRatingM255\")"
      ],
      "execution_count": 16,
      "outputs": [
        {
          "output_type": "display_data",
          "data": {
            "image/png": "[encoded data removed]",
            "text/plain": [
              "<Figure size 1080x288 with 2 Axes>"
            ]
          },
          "metadata": {
            "needs_background": "light"
          }
        }
      ]
    },
    {
      "cell_type": "markdown",
      "metadata": {
        "id": "H7xIH-gH9wwl"
      },
      "source": [
        "### **Creating runtime variables**"
      ]
    },
    {
      "cell_type": "code",
      "metadata": {
        "colab": {
          "base_uri": "https://localhost:8080/"
        },
        "id": "rDe-0LE772d-",
        "outputId": "28a373ec-43e7-44f1-c270-2b7d2f4262f4"
      },
      "source": [
        "unique_class_label = list(train_df.StarRatingM255.unique())\n",
        "unique_class_label.sort()\n",
        "unique_class_label"
      ],
      "execution_count": 17,
      "outputs": [
        {
          "output_type": "execute_result",
          "data": {
            "text/plain": [
              "[1, 2, 3, 4, 5]"
            ]
          },
          "metadata": {},
          "execution_count": 17
        }
      ]
    },
    {
      "cell_type": "code",
      "metadata": {
        "id": "SmC4nZnF92cH"
      },
      "source": [
        "cv_accuracy_metrics = []\n",
        "cv_balanced_metrics = []\n",
        "cv_f1_metrics = []"
      ],
      "execution_count": 18,
      "outputs": []
    },
    {
      "cell_type": "code",
      "metadata": {
        "id": "W516HKa997mv"
      },
      "source": [
        "cv_mean = []\n",
        "cv_std = []\n",
        "cv_bal_mean = []\n",
        "cv_bal_std = []\n",
        "f1_w_mean = []\n",
        "f1_w_std = []"
      ],
      "execution_count": 19,
      "outputs": []
    },
    {
      "cell_type": "markdown",
      "metadata": {
        "id": "qWv0oQrW9jQL"
      },
      "source": [
        "### **Defining Classifiers**"
      ]
    },
    {
      "cell_type": "code",
      "metadata": {
        "colab": {
          "base_uri": "https://localhost:8080/"
        },
        "id": "vouaJC5ecgyh",
        "outputId": "b885ff20-d392-40d5-e328-e228b9e65b06"
      },
      "source": [
        "!pip install catboost"
      ],
      "execution_count": 20,
      "outputs": [
        {
          "output_type": "stream",
          "name": "stdout",
          "text": [
            "Collecting catboost\n",
            "  Downloading catboost-1.0.3-cp37-none-manylinux1_x86_64.whl (76.3 MB)\n",
            "\u001b[K     |████████████████████████████████| 76.3 MB 62 kB/s \n",
            "\u001b[?25hRequirement already satisfied: numpy>=1.16.0 in /usr/local/lib/python3.7/dist-packages (from catboost) (1.19.5)\n",
            "Requirement already satisfied: graphviz in /usr/local/lib/python3.7/dist-packages (from catboost) (0.10.1)\n",
            "Requirement already satisfied: matplotlib in /usr/local/lib/python3.7/dist-packages (from catboost) (3.2.2)\n",
            "Requirement already satisfied: pandas>=0.24.0 in /usr/local/lib/python3.7/dist-packages (from catboost) (1.1.5)\n",
            "Requirement already satisfied: scipy in /usr/local/lib/python3.7/dist-packages (from catboost) (1.4.1)\n",
            "Requirement already satisfied: plotly in /usr/local/lib/python3.7/dist-packages (from catboost) (4.4.1)\n",
            "Requirement already satisfied: six in /usr/local/lib/python3.7/dist-packages (from catboost) (1.15.0)\n",
            "Requirement already satisfied: python-dateutil>=2.7.3 in /usr/local/lib/python3.7/dist-packages (from pandas>=0.24.0->catboost) (2.8.2)\n",
            "Requirement already satisfied: pytz>=2017.2 in /usr/local/lib/python3.7/dist-packages (from pandas>=0.24.0->catboost) (2018.9)\n",
            "Requirement already satisfied: kiwisolver>=1.0.1 in /usr/local/lib/python3.7/dist-packages (from matplotlib->catboost) (1.3.2)\n",
            "Requirement already satisfied: pyparsing!=2.0.4,!=2.1.2,!=2.1.6,>=2.0.1 in /usr/local/lib/python3.7/dist-packages (from matplotlib->catboost) (3.0.6)\n",
            "Requirement already satisfied: cycler>=0.10 in /usr/local/lib/python3.7/dist-packages (from matplotlib->catboost) (0.11.0)\n",
            "Requirement already satisfied: retrying>=1.3.3 in /usr/local/lib/python3.7/dist-packages (from plotly->catboost) (1.3.3)\n",
            "Installing collected packages: catboost\n",
            "Successfully installed catboost-1.0.3\n"
          ]
        }
      ]
    },
    {
      "cell_type": "code",
      "metadata": {
        "id": "gABVgiD6XvGk"
      },
      "source": [
        "# # Setting Manual class weights\n",
        "class_wt_default = {0: 2.25,\n",
        "                1: 1.15,\n",
        "                2: 1.05,\n",
        "                3: 1.15,\n",
        "                4: 2.25}\n",
        "# class_wt = {1: 2.25,\n",
        "#                 2: 1.15,\n",
        "#                 3: 1.05,\n",
        "#                 4: 1.15,\n",
        "#                 5: 2.25}\n",
        "\n",
        "# from catboost import CatBoostClassifier\n",
        "# clfs = []\n",
        "# clfs.append(RandomForestClassifier(n_estimators=1015,max_depth=5, max_features=0.6387658534305876,random_state=rand_state, criterion=\"entropy\",class_weight=class_wt))\n",
        "# #clfs.append(CatBoostClassifier(verbose=False, random_state=rand_state,class_weights=class_wt))\n",
        "# #clfs.append(AdaBoostClassifier(n_estimators=100,random_state=rand_state,learning_rate=0.8,base_estimator=DecisionTreeClassifier(max_depth=5, random_state=rand_state, max_features=0.65, criterion=\"entropy\")))\n",
        "# clfs.append(BaggingClassifier(base_estimator=LogisticRegression(max_iter=5000, random_state=rand_state, class_weight=class_wt_default),bootstrap_features=False,\n",
        "#                               max_features=0.7,max_samples=0.6, n_estimators=500, n_jobs=-1))\n",
        "# clfs.append(LogisticRegression(max_iter=1000,random_state=rand_state,class_weight= class_wt ))\n",
        "# clfs.append(SVC(probability=True, random_state=rand_state,class_weight=class_wt))\n",
        "# #clfs.append(XGBClassifier(n_estimators=500, max_depth=8, random_state=rand_state,verbose=False, class_weights=class_wt_default))\n",
        "# len(clfs)"
      ],
      "execution_count": 21,
      "outputs": []
    },
    {
      "cell_type": "code",
      "metadata": {
        "colab": {
          "base_uri": "https://localhost:8080/"
        },
        "id": "asVs9n41dSOx",
        "outputId": "36ba1394-d144-4793-bca5-a1494fc9647d"
      },
      "source": [
        "y_train.unique(), y_test.unique()"
      ],
      "execution_count": 22,
      "outputs": [
        {
          "output_type": "execute_result",
          "data": {
            "text/plain": [
              "(array([3, 2, 5, 4, 1]), array([3, 5, 2, 4, 1]))"
            ]
          },
          "metadata": {},
          "execution_count": 22
        }
      ]
    },
    {
      "cell_type": "code",
      "metadata": {
        "colab": {
          "base_uri": "https://localhost:8080/"
        },
        "id": "lBgQ-F2i9oKi",
        "outputId": "7722f5fc-e362-4ae1-a80b-0bd2ec98d329"
      },
      "source": [
        "from catboost import CatBoostClassifier\n",
        "clfs = []\n",
        "clfs.append(RandomForestClassifier(n_estimators=250,max_depth=10, max_features='sqrt',\n",
        "                                   random_state=rand_state, criterion=\"gini\"))\n",
        "clfs.append(CatBoostClassifier(verbose=False, random_state=rand_state))\n",
        "clfs.append(XGBClassifier(n_estimators=250, max_depth=10, random_state=rand_state,verbose=1,learning_rate=0.001,\n",
        "                          verbosity=1,booster='dart', normalize_type='forest', rate_drop = 0.3, subsample = 0.4,\n",
        "                          objective='multi:softprob'))\n",
        "clfs.append(BaggingClassifier(base_estimator=LogisticRegression(max_iter=5000, random_state=rand_state),bootstrap_features=False,\n",
        "                             max_features=0.7,max_samples=0.6, n_estimators=250, n_jobs=-1))\n",
        "clfs.append(LogisticRegression(max_iter=1000,random_state=rand_state ))\n",
        "clfs.append(SVC(probability=True, random_state=rand_state,C=10, kernel='rbf', gamma='auto'))\n",
        "##clfs.append(AdaBoostClassifier(n_estimators=100,random_state=rand_state,learning_rate=0.8,base_estimator=DecisionTreeClassifier(max_depth=5, random_state=rand_state, max_features=0.65, criterion=\"entropy\")))\n",
        "\n",
        "len(clfs)"
      ],
      "execution_count": 23,
      "outputs": [
        {
          "output_type": "execute_result",
          "data": {
            "text/plain": [
              "6"
            ]
          },
          "metadata": {},
          "execution_count": 23
        }
      ]
    },
    {
      "cell_type": "code",
      "metadata": {
        "colab": {
          "base_uri": "https://localhost:8080/"
        },
        "id": "76Y6Qxx0heMd",
        "outputId": "678865fa-ea72-4814-9c2a-c7928b2e40b6"
      },
      "source": [
        "for clf in clfs:\n",
        "  print(clf.__class__.__name__)"
      ],
      "execution_count": 24,
      "outputs": [
        {
          "output_type": "stream",
          "name": "stdout",
          "text": [
            "RandomForestClassifier\n",
            "CatBoostClassifier\n",
            "XGBClassifier\n",
            "BaggingClassifier\n",
            "LogisticRegression\n",
            "SVC\n"
          ]
        }
      ]
    },
    {
      "cell_type": "code",
      "metadata": {
        "id": "JML25r1vnJS-"
      },
      "source": [
        "scaled_clf = ['LogisticRegression', 'SVC', 'BaggingClassifier']"
      ],
      "execution_count": 25,
      "outputs": []
    },
    {
      "cell_type": "markdown",
      "metadata": {
        "id": "VTICflcA-JIH"
      },
      "source": [
        "### **5-Fold Cross Validation**"
      ]
    },
    {
      "cell_type": "code",
      "metadata": {
        "colab": {
          "base_uri": "https://localhost:8080/",
          "height": 1000
        },
        "id": "brkcfUTL-IHS",
        "outputId": "7245f6db-cd91-47d3-f359-9fcdbc13058e"
      },
      "source": [
        "skf = StratifiedKFold(n_splits=5, random_state=rand_state, shuffle=True)\n",
        "for clf in clfs:\n",
        "  if clf.__class__.__name__  in scaled_clf:\n",
        "    cv_accuracy_metrics.append(cross_val_score(clf, X_train_scaled, y_train, scoring = 'accuracy',\n",
        "                                      cv = skf,verbose=2,n_jobs=-1))\n",
        "    cv_balanced_metrics.append(cross_val_score(clf, X_train_scaled, y_train, scoring = 'balanced_accuracy', \n",
        "                                      cv = skf,verbose=2,n_jobs=-1))\n",
        "    cv_f1_metrics.append(cross_val_score(clf, X_train_scaled, y_train, scoring = 'f1_weighted', \n",
        "                                      cv = skf,verbose=2,n_jobs=-1))\n",
        "  \n",
        "  else:\n",
        "\n",
        "    cv_accuracy_metrics.append(cross_val_score(clf, X_train, y_train, scoring = 'accuracy',\n",
        "                                      cv = skf,verbose=2,n_jobs=-1))\n",
        "    cv_balanced_metrics.append(cross_val_score(clf, X_train, y_train, scoring = 'balanced_accuracy', \n",
        "                                      cv = skf,verbose=2,n_jobs=-1))\n",
        "    cv_f1_metrics.append(cross_val_score(clf, X_train, y_train, scoring = 'f1_weighted', \n",
        "                                      cv = skf,verbose=2,n_jobs=-1))\n",
        "for clf_result in cv_accuracy_metrics:\n",
        "  cv_mean.append(clf_result.mean())\n",
        "  cv_std.append(clf_result.std())\n",
        "\n",
        "for clf_result in cv_balanced_metrics:\n",
        "  cv_bal_mean.append(clf_result.mean())\n",
        "  cv_bal_std.append(clf_result.std())\n",
        "\n",
        "for clf_result in cv_f1_metrics:\n",
        "  f1_w_mean.append(clf_result.mean())\n",
        "  f1_w_std.append(clf_result.std())\n",
        "\n",
        "result_df = pd.DataFrame({'Classifier' :  [clf.__class__.__name__  for clf in clfs],\n",
        "                          'CV_Accuracy Mean': cv_mean,'CV_Accuracy Std' : cv_std,\n",
        "                          'CV_Bal_Accuracy Mean': cv_bal_mean,'CV_Bal_Accuracy Std' : cv_bal_std,\n",
        "                          'CV_f1_weighted Mean': f1_w_mean,'V_f1_weighted Std' : f1_w_std\n",
        "                          })\n",
        "\n",
        "result_df.sort_values(by='CV_Accuracy Mean',ascending=False, ignore_index=False)"
      ],
      "execution_count": 26,
      "outputs": [
        {
          "output_type": "stream",
          "name": "stderr",
          "text": [
            "[Parallel(n_jobs=-1)]: Using backend LokyBackend with 2 concurrent workers.\n",
            "[Parallel(n_jobs=-1)]: Done   5 out of   5 | elapsed:    4.3s remaining:    0.0s\n",
            "[Parallel(n_jobs=-1)]: Done   5 out of   5 | elapsed:    4.3s finished\n",
            "[Parallel(n_jobs=-1)]: Using backend LokyBackend with 2 concurrent workers.\n",
            "[Parallel(n_jobs=-1)]: Done   5 out of   5 | elapsed:    3.0s remaining:    0.0s\n",
            "[Parallel(n_jobs=-1)]: Done   5 out of   5 | elapsed:    3.0s finished\n",
            "[Parallel(n_jobs=-1)]: Using backend LokyBackend with 2 concurrent workers.\n",
            "[Parallel(n_jobs=-1)]: Done   5 out of   5 | elapsed:    2.9s remaining:    0.0s\n",
            "[Parallel(n_jobs=-1)]: Done   5 out of   5 | elapsed:    2.9s finished\n",
            "[Parallel(n_jobs=-1)]: Using backend LokyBackend with 2 concurrent workers.\n",
            "[Parallel(n_jobs=-1)]: Done   5 out of   5 | elapsed:  1.0min remaining:    0.0s\n",
            "[Parallel(n_jobs=-1)]: Done   5 out of   5 | elapsed:  1.0min finished\n",
            "[Parallel(n_jobs=-1)]: Using backend LokyBackend with 2 concurrent workers.\n",
            "[Parallel(n_jobs=-1)]: Done   5 out of   5 | elapsed:  1.0min remaining:    0.0s\n",
            "[Parallel(n_jobs=-1)]: Done   5 out of   5 | elapsed:  1.0min finished\n",
            "[Parallel(n_jobs=-1)]: Using backend LokyBackend with 2 concurrent workers.\n",
            "[Parallel(n_jobs=-1)]: Done   5 out of   5 | elapsed:  1.0min remaining:    0.0s\n",
            "[Parallel(n_jobs=-1)]: Done   5 out of   5 | elapsed:  1.0min finished\n",
            "[Parallel(n_jobs=-1)]: Using backend LokyBackend with 2 concurrent workers.\n",
            "[Parallel(n_jobs=-1)]: Done   5 out of   5 | elapsed:   49.3s remaining:    0.0s\n",
            "[Parallel(n_jobs=-1)]: Done   5 out of   5 | elapsed:   49.3s finished\n",
            "[Parallel(n_jobs=-1)]: Using backend LokyBackend with 2 concurrent workers.\n",
            "[Parallel(n_jobs=-1)]: Done   5 out of   5 | elapsed:   48.5s remaining:    0.0s\n",
            "[Parallel(n_jobs=-1)]: Done   5 out of   5 | elapsed:   48.5s finished\n",
            "[Parallel(n_jobs=-1)]: Using backend LokyBackend with 2 concurrent workers.\n",
            "[Parallel(n_jobs=-1)]: Done   5 out of   5 | elapsed:   48.4s remaining:    0.0s\n",
            "[Parallel(n_jobs=-1)]: Done   5 out of   5 | elapsed:   48.4s finished\n",
            "[Parallel(n_jobs=-1)]: Using backend LokyBackend with 2 concurrent workers.\n",
            "[Parallel(n_jobs=-1)]: Done   5 out of   5 | elapsed:   35.4s remaining:    0.0s\n",
            "[Parallel(n_jobs=-1)]: Done   5 out of   5 | elapsed:   35.4s finished\n",
            "[Parallel(n_jobs=-1)]: Using backend LokyBackend with 2 concurrent workers.\n",
            "[Parallel(n_jobs=-1)]: Done   5 out of   5 | elapsed:   35.3s remaining:    0.0s\n",
            "[Parallel(n_jobs=-1)]: Done   5 out of   5 | elapsed:   35.3s finished\n",
            "[Parallel(n_jobs=-1)]: Using backend LokyBackend with 2 concurrent workers.\n",
            "[Parallel(n_jobs=-1)]: Done   5 out of   5 | elapsed:   35.4s remaining:    0.0s\n",
            "[Parallel(n_jobs=-1)]: Done   5 out of   5 | elapsed:   35.4s finished\n",
            "[Parallel(n_jobs=-1)]: Using backend LokyBackend with 2 concurrent workers.\n",
            "[Parallel(n_jobs=-1)]: Done   5 out of   5 | elapsed:    0.2s remaining:    0.0s\n",
            "[Parallel(n_jobs=-1)]: Done   5 out of   5 | elapsed:    0.2s finished\n",
            "[Parallel(n_jobs=-1)]: Using backend LokyBackend with 2 concurrent workers.\n",
            "[Parallel(n_jobs=-1)]: Done   5 out of   5 | elapsed:    0.2s remaining:    0.0s\n",
            "[Parallel(n_jobs=-1)]: Done   5 out of   5 | elapsed:    0.2s finished\n",
            "[Parallel(n_jobs=-1)]: Using backend LokyBackend with 2 concurrent workers.\n",
            "[Parallel(n_jobs=-1)]: Done   5 out of   5 | elapsed:    0.2s remaining:    0.0s\n",
            "[Parallel(n_jobs=-1)]: Done   5 out of   5 | elapsed:    0.2s finished\n",
            "[Parallel(n_jobs=-1)]: Using backend LokyBackend with 2 concurrent workers.\n",
            "[Parallel(n_jobs=-1)]: Done   5 out of   5 | elapsed:    1.0s remaining:    0.0s\n",
            "[Parallel(n_jobs=-1)]: Done   5 out of   5 | elapsed:    1.0s finished\n",
            "[Parallel(n_jobs=-1)]: Using backend LokyBackend with 2 concurrent workers.\n",
            "[Parallel(n_jobs=-1)]: Done   5 out of   5 | elapsed:    1.0s remaining:    0.0s\n",
            "[Parallel(n_jobs=-1)]: Done   5 out of   5 | elapsed:    1.0s finished\n",
            "[Parallel(n_jobs=-1)]: Using backend LokyBackend with 2 concurrent workers.\n",
            "[Parallel(n_jobs=-1)]: Done   5 out of   5 | elapsed:    0.9s remaining:    0.0s\n",
            "[Parallel(n_jobs=-1)]: Done   5 out of   5 | elapsed:    0.9s finished\n"
          ]
        },
        {
          "output_type": "execute_result",
          "data": {
            "text/html": [
              "<div>\n",
              "<style scoped>\n",
              "    .dataframe tbody tr th:only-of-type {\n",
              "        vertical-align: middle;\n",
              "    }\n",
              "\n",
              "    .dataframe tbody tr th {\n",
              "        vertical-align: top;\n",
              "    }\n",
              "\n",
              "    .dataframe thead th {\n",
              "        text-align: right;\n",
              "    }\n",
              "</style>\n",
              "<table border=\"1\" class=\"dataframe\">\n",
              "  <thead>\n",
              "    <tr style=\"text-align: right;\">\n",
              "      <th></th>\n",
              "      <th>Classifier</th>\n",
              "      <th>CV_Accuracy Mean</th>\n",
              "      <th>CV_Accuracy Std</th>\n",
              "      <th>CV_Bal_Accuracy Mean</th>\n",
              "      <th>CV_Bal_Accuracy Std</th>\n",
              "      <th>CV_f1_weighted Mean</th>\n",
              "      <th>V_f1_weighted Std</th>\n",
              "    </tr>\n",
              "  </thead>\n",
              "  <tbody>\n",
              "    <tr>\n",
              "      <th>3</th>\n",
              "      <td>BaggingClassifier</td>\n",
              "      <td>0.525976</td>\n",
              "      <td>0.023871</td>\n",
              "      <td>0.450277</td>\n",
              "      <td>0.045487</td>\n",
              "      <td>0.515576</td>\n",
              "      <td>0.032943</td>\n",
              "    </tr>\n",
              "    <tr>\n",
              "      <th>4</th>\n",
              "      <td>LogisticRegression</td>\n",
              "      <td>0.518060</td>\n",
              "      <td>0.029768</td>\n",
              "      <td>0.471455</td>\n",
              "      <td>0.043051</td>\n",
              "      <td>0.514901</td>\n",
              "      <td>0.031016</td>\n",
              "    </tr>\n",
              "    <tr>\n",
              "      <th>2</th>\n",
              "      <td>XGBClassifier</td>\n",
              "      <td>0.477420</td>\n",
              "      <td>0.032557</td>\n",
              "      <td>0.422372</td>\n",
              "      <td>0.043924</td>\n",
              "      <td>0.471197</td>\n",
              "      <td>0.034774</td>\n",
              "    </tr>\n",
              "    <tr>\n",
              "      <th>0</th>\n",
              "      <td>RandomForestClassifier</td>\n",
              "      <td>0.460541</td>\n",
              "      <td>0.029992</td>\n",
              "      <td>0.403935</td>\n",
              "      <td>0.030446</td>\n",
              "      <td>0.454523</td>\n",
              "      <td>0.027347</td>\n",
              "    </tr>\n",
              "    <tr>\n",
              "      <th>1</th>\n",
              "      <td>CatBoostClassifier</td>\n",
              "      <td>0.454859</td>\n",
              "      <td>0.021424</td>\n",
              "      <td>0.406586</td>\n",
              "      <td>0.016917</td>\n",
              "      <td>0.451043</td>\n",
              "      <td>0.020593</td>\n",
              "    </tr>\n",
              "    <tr>\n",
              "      <th>5</th>\n",
              "      <td>SVC</td>\n",
              "      <td>0.433403</td>\n",
              "      <td>0.013816</td>\n",
              "      <td>0.388744</td>\n",
              "      <td>0.024309</td>\n",
              "      <td>0.429489</td>\n",
              "      <td>0.011903</td>\n",
              "    </tr>\n",
              "  </tbody>\n",
              "</table>\n",
              "</div>"
            ],
            "text/plain": [
              "               Classifier  ...  V_f1_weighted Std\n",
              "3       BaggingClassifier  ...           0.032943\n",
              "4      LogisticRegression  ...           0.031016\n",
              "2           XGBClassifier  ...           0.034774\n",
              "0  RandomForestClassifier  ...           0.027347\n",
              "1      CatBoostClassifier  ...           0.020593\n",
              "5                     SVC  ...           0.011903\n",
              "\n",
              "[6 rows x 7 columns]"
            ]
          },
          "metadata": {},
          "execution_count": 26
        }
      ]
    },
    {
      "cell_type": "markdown",
      "metadata": {
        "id": "ljVw3dZE-0hX"
      },
      "source": [
        "## **Prediction Run**"
      ]
    },
    {
      "cell_type": "code",
      "metadata": {
        "colab": {
          "base_uri": "https://localhost:8080/",
          "height": 1000
        },
        "id": "UD8n7DQQ-4z1",
        "outputId": "66102aff-c80f-4ac1-cc60-e54dfe542ff5"
      },
      "source": [
        "test_acc_score=[]\n",
        "test_f1_score=[]\n",
        "clfList = [clf.__class__.__name__  for clf in clfs]\n",
        "\n",
        "\n",
        "def run_predict(clf):\n",
        "  if clf.__class__.__name__ in scaled_clf:\n",
        "    clf = clf.fit(X_train_scaled, y_train)\n",
        "    y_pred = clf.predict(X_test_scaled)\n",
        "  else:\n",
        "    clf = clf.fit(X_train, y_train)\n",
        "    y_pred = clf.predict(X_test)\n",
        "  plot_conf_matrix(y_test,y_pred,unique_class_label, title=\"Confusion Matrix for \" + clf.__class__.__name__)\n",
        "  print(\"Accuracy Score for \" +  clf.__class__.__name__ + \"  \" \n",
        "        + str(accuracy_score(y_test,y_pred)) )\n",
        "  print(\"F1 Score for \" + clf.__class__.__name__ + \"  \" + \n",
        "        str(f1_score(y_test, y_pred, average='weighted')))\n",
        "  \n",
        "  test_acc_score.append(accuracy_score(y_test,y_pred))\n",
        "  test_f1_score.append(f1_score(y_test, y_pred, average='weighted'))\n",
        "  \n",
        "for clf in clfs:\n",
        "  run_predict(clf)\n",
        "\n"
      ],
      "execution_count": 27,
      "outputs": [
        {
          "output_type": "stream",
          "name": "stdout",
          "text": [
            "Accuracy Score for RandomForestClassifier  0.44256756756756754\n",
            "F1 Score for RandomForestClassifier  0.43250625360569867\n",
            "Accuracy Score for CatBoostClassifier  0.42905405405405406\n",
            "F1 Score for CatBoostClassifier  0.42539337421702367\n",
            "Accuracy Score for XGBClassifier  0.4864864864864865\n",
            "F1 Score for XGBClassifier  0.4804244872879516\n",
            "Accuracy Score for BaggingClassifier  0.5033783783783784\n",
            "F1 Score for BaggingClassifier  0.4909595339208717\n",
            "Accuracy Score for LogisticRegression  0.5236486486486487\n",
            "F1 Score for LogisticRegression  0.5169462517808106\n",
            "Accuracy Score for SVC  0.43243243243243246\n",
            "F1 Score for SVC  0.4303300577558798\n"
          ]
        },
        {
          "output_type": "display_data",
          "data": {
            "image/png": "[encoded data removed]",
            "text/plain": [
              "<Figure size 360x288 with 2 Axes>"
            ]
          },
          "metadata": {
            "needs_background": "light"
          }
        },
        {
          "output_type": "display_data",
          "data": {
            "image/png": "[encoded data removed]",
            "text/plain": [
              "<Figure size 360x288 with 2 Axes>"
            ]
          },
          "metadata": {
            "needs_background": "light"
          }
        },
        {
          "output_type": "display_data",
          "data": {
            "image/png": "[encoded data removed]",
            "text/plain": [
              "<Figure size 360x288 with 2 Axes>"
            ]
          },
          "metadata": {
            "needs_background": "light"
          }
        },
        {
          "output_type": "display_data",
          "data": {
            "image/png": "[encoded data removed]",
            "text/plain": [
              "<Figure size 360x288 with 2 Axes>"
            ]
          },
          "metadata": {
            "needs_background": "light"
          }
        },
        {
          "output_type": "display_data",
          "data": {
            "image/png": "[encoded data removed]",
            "text/plain": [
              "<Figure size 360x288 with 2 Axes>"
            ]
          },
          "metadata": {
            "needs_background": "light"
          }
        },
        {
          "output_type": "display_data",
          "data": {
            "image/png": "[encoded data removed]",
            "text/plain": [
              "<Figure size 360x288 with 2 Axes>"
            ]
          },
          "metadata": {
            "needs_background": "light"
          }
        }
      ]
    },
    {
      "cell_type": "code",
      "metadata": {
        "id": "SlPVEK40gKoU",
        "colab": {
          "base_uri": "https://localhost:8080/",
          "height": 237
        },
        "outputId": "01d11926-d29c-44da-9507-99304cc229a5"
      },
      "source": [
        "result_df = pd.DataFrame({'Classifier' :  clfList,\n",
        "                          'Testing_Accuracy': test_acc_score,\n",
        "                          'Testing_F1-score': test_f1_score                          \n",
        "                          })    \n",
        "result_df.sort_values(by=\"Testing_Accuracy\", ascending=False)"
      ],
      "execution_count": 28,
      "outputs": [
        {
          "output_type": "execute_result",
          "data": {
            "text/html": [
              "<div>\n",
              "<style scoped>\n",
              "    .dataframe tbody tr th:only-of-type {\n",
              "        vertical-align: middle;\n",
              "    }\n",
              "\n",
              "    .dataframe tbody tr th {\n",
              "        vertical-align: top;\n",
              "    }\n",
              "\n",
              "    .dataframe thead th {\n",
              "        text-align: right;\n",
              "    }\n",
              "</style>\n",
              "<table border=\"1\" class=\"dataframe\">\n",
              "  <thead>\n",
              "    <tr style=\"text-align: right;\">\n",
              "      <th></th>\n",
              "      <th>Classifier</th>\n",
              "      <th>Testing_Accuracy</th>\n",
              "      <th>Testing_F1-score</th>\n",
              "    </tr>\n",
              "  </thead>\n",
              "  <tbody>\n",
              "    <tr>\n",
              "      <th>4</th>\n",
              "      <td>LogisticRegression</td>\n",
              "      <td>0.523649</td>\n",
              "      <td>0.516946</td>\n",
              "    </tr>\n",
              "    <tr>\n",
              "      <th>3</th>\n",
              "      <td>BaggingClassifier</td>\n",
              "      <td>0.503378</td>\n",
              "      <td>0.490960</td>\n",
              "    </tr>\n",
              "    <tr>\n",
              "      <th>2</th>\n",
              "      <td>XGBClassifier</td>\n",
              "      <td>0.486486</td>\n",
              "      <td>0.480424</td>\n",
              "    </tr>\n",
              "    <tr>\n",
              "      <th>0</th>\n",
              "      <td>RandomForestClassifier</td>\n",
              "      <td>0.442568</td>\n",
              "      <td>0.432506</td>\n",
              "    </tr>\n",
              "    <tr>\n",
              "      <th>5</th>\n",
              "      <td>SVC</td>\n",
              "      <td>0.432432</td>\n",
              "      <td>0.430330</td>\n",
              "    </tr>\n",
              "    <tr>\n",
              "      <th>1</th>\n",
              "      <td>CatBoostClassifier</td>\n",
              "      <td>0.429054</td>\n",
              "      <td>0.425393</td>\n",
              "    </tr>\n",
              "  </tbody>\n",
              "</table>\n",
              "</div>"
            ],
            "text/plain": [
              "               Classifier  Testing_Accuracy  Testing_F1-score\n",
              "4      LogisticRegression          0.523649          0.516946\n",
              "3       BaggingClassifier          0.503378          0.490960\n",
              "2           XGBClassifier          0.486486          0.480424\n",
              "0  RandomForestClassifier          0.442568          0.432506\n",
              "5                     SVC          0.432432          0.430330\n",
              "1      CatBoostClassifier          0.429054          0.425393"
            ]
          },
          "metadata": {},
          "execution_count": 28
        }
      ]
    },
    {
      "cell_type": "markdown",
      "metadata": {
        "id": "jdHsasVSIblQ"
      },
      "source": [
        "## **Prediction using Pre-trained Neural Network Model**"
      ]
    },
    {
      "cell_type": "code",
      "metadata": {
        "id": "ZtCPwu-WJWbq"
      },
      "source": [
        "import tensorflow as tf\n",
        "from tensorflow.keras.layers import Dense, Dropout, Input\n",
        "from tensorflow.keras.models import Sequential\n",
        "from tensorflow.keras.optimizers import Adam"
      ],
      "execution_count": 29,
      "outputs": []
    },
    {
      "cell_type": "code",
      "metadata": {
        "id": "3KOmDOkEMWdt"
      },
      "source": [
        ""
      ],
      "execution_count": 29,
      "outputs": []
    },
    {
      "cell_type": "markdown",
      "metadata": {
        "id": "58JHN1krXlw8"
      },
      "source": [
        "### Fetching the Saved Model JSON File from Github"
      ]
    },
    {
      "cell_type": "code",
      "metadata": {
        "id": "FhXm29OYOYT2"
      },
      "source": [
        "import requests, json\n",
        "from  urllib.request import Request, build_opener\n",
        "url = 'https://raw.githubusercontent.com/nishitgala89/ProjectDissertation/main/Code/4_Modelling/Artificial_Neural_Network/Model1/model.json'\n",
        "req = Request(url)\n",
        "opener = build_opener()\n",
        "f = opener.open(req)\n",
        "with open('ann_model.json', 'w') as json_file:\n",
        "    json.dump(json.loads(f.read()), json_file)"
      ],
      "execution_count": 30,
      "outputs": []
    },
    {
      "cell_type": "code",
      "metadata": {
        "id": "Yj2BRWR_O5pg"
      },
      "source": [
        "with open('/content/ann_model.json', 'r') as model_file:\n",
        "  json_saved_model = model_file.read()\n",
        "network_loaded = tf.keras.models.model_from_json(json_saved_model)"
      ],
      "execution_count": 31,
      "outputs": []
    },
    {
      "cell_type": "markdown",
      "metadata": {
        "id": "-1-w1KEkXuCP"
      },
      "source": [
        "### Fetching the Model Weights from Github"
      ]
    },
    {
      "cell_type": "code",
      "metadata": {
        "colab": {
          "base_uri": "https://localhost:8080/"
        },
        "id": "l0miRTtrXta_",
        "outputId": "39007645-0cde-4ba5-cfaa-0d2b19dcdb7c"
      },
      "source": [
        "src_dir = \"Code/4_Modelling/Artificial_Neural_Network/Model1\"\n",
        "weight_file = \"model_weights.hdf5\"\n",
        "url = f\"https://github.com/{user}/{repo}/blob/main/{src_dir}/{weight_file}?raw=true\"\n",
        "\n",
        "!wget --no-cache --backups=1 {url}"
      ],
      "execution_count": 32,
      "outputs": [
        {
          "output_type": "stream",
          "name": "stdout",
          "text": [
            "--2021-11-29 16:17:14--  https://github.com/nishitgala89/ProjectDissertation/blob/main/Code/4_Modelling/Artificial_Neural_Network/Model1/model_weights.hdf5?raw=true\n",
            "Resolving github.com (github.com)... 140.82.112.4\n",
            "Connecting to github.com (github.com)|140.82.112.4|:443... connected.\n",
            "HTTP request sent, awaiting response... 302 Found\n",
            "Location: https://github.com/nishitgala89/ProjectDissertation/raw/main/Code/4_Modelling/Artificial_Neural_Network/Model1/model_weights.hdf5 [following]\n",
            "--2021-11-29 16:17:15--  https://github.com/nishitgala89/ProjectDissertation/raw/main/Code/4_Modelling/Artificial_Neural_Network/Model1/model_weights.hdf5\n",
            "Reusing existing connection to github.com:443.\n",
            "HTTP request sent, awaiting response... 302 Found\n",
            "Location: https://raw.githubusercontent.com/nishitgala89/ProjectDissertation/main/Code/4_Modelling/Artificial_Neural_Network/Model1/model_weights.hdf5 [following]\n",
            "--2021-11-29 16:17:15--  https://raw.githubusercontent.com/nishitgala89/ProjectDissertation/main/Code/4_Modelling/Artificial_Neural_Network/Model1/model_weights.hdf5\n",
            "Resolving raw.githubusercontent.com (raw.githubusercontent.com)... 185.199.111.133, 185.199.108.133, 185.199.109.133, ...\n",
            "Connecting to raw.githubusercontent.com (raw.githubusercontent.com)|185.199.111.133|:443... connected.\n",
            "HTTP request sent, awaiting response... 200 OK\n",
            "Length: 45560 (44K) [application/octet-stream]\n",
            "Failed to rename model_weights.hdf5?raw=true to model_weights.hdf5?raw=true.1: (2) No such file or directory\n",
            "Saving to: ‘model_weights.hdf5?raw=true’\n",
            "\n",
            "model_weights.hdf5? 100%[===================>]  44.49K  --.-KB/s    in 0.001s  \n",
            "\n",
            "2021-11-29 16:17:15 (52.8 MB/s) - ‘model_weights.hdf5?raw=true’ saved [45560/45560]\n",
            "\n"
          ]
        }
      ]
    },
    {
      "cell_type": "code",
      "metadata": {
        "id": "VqJN-TdNbLGd"
      },
      "source": [
        "import os\n",
        "fileNames = list(os.listdir())\n",
        "fileNames\n",
        "for fname in fileNames:\n",
        "  if fname.startswith('model_weights'):\n",
        "    fsplit = fname.split(\"?\")\n",
        "    os.rename(fname, fsplit[0])"
      ],
      "execution_count": 33,
      "outputs": []
    },
    {
      "cell_type": "code",
      "metadata": {
        "id": "0jyHr-WCIbRf"
      },
      "source": [
        "network_loaded.load_weights('/content/model_weights.hdf5')\n",
        "network_loaded.compile(loss = 'categorical_crossentropy', optimizer='Adam', metrics=['accuracy'])"
      ],
      "execution_count": 34,
      "outputs": []
    },
    {
      "cell_type": "code",
      "metadata": {
        "id": "wRJWCgv3J4Yq"
      },
      "source": [
        "y_pred_loaded = network_loaded.predict(X_test_scaled)\n",
        "y_pred_loaded = np.argmax(y_pred_loaded, axis=1)\n",
        "y_pred_loaded +=1"
      ],
      "execution_count": 35,
      "outputs": []
    },
    {
      "cell_type": "code",
      "metadata": {
        "colab": {
          "base_uri": "https://localhost:8080/",
          "height": 281
        },
        "id": "nXcH7Nk0KBHD",
        "outputId": "14118951-06cf-487c-deb9-8a59ec8ff246"
      },
      "source": [
        "plot_conf_matrix(y_test.values,y_pred_loaded,unique_class_label, title=\"Confusion Matrix for \" + network_loaded.__class__.__name__)"
      ],
      "execution_count": 36,
      "outputs": [
        {
          "output_type": "display_data",
          "data": {
            "image/png": "[encoded data removed]",
            "text/plain": [
              "<Figure size 360x288 with 2 Axes>"
            ]
          },
          "metadata": {
            "needs_background": "light"
          }
        }
      ]
    },
    {
      "cell_type": "code",
      "metadata": {
        "id": "3YtFPAjVKCfE"
      },
      "source": [
        "test_acc_score.append(accuracy_score(y_test, y_pred_loaded))\n",
        "test_f1_score.append(f1_score(y_test, y_pred_loaded, average='weighted'))\n",
        "clfList.append(\"Artificial_Neural_Network\")"
      ],
      "execution_count": 37,
      "outputs": []
    },
    {
      "cell_type": "markdown",
      "metadata": {
        "id": "PL-0k1K86ZyG"
      },
      "source": [
        "## **Voting Classifier**"
      ]
    },
    {
      "cell_type": "code",
      "metadata": {
        "id": "8jkKmu3L3H7S"
      },
      "source": [
        "### Creating Estimators list of Tuples\n",
        "estimators =[]\n",
        "for clf in clfs:\n",
        "  estimators.append((clf.__class__.__name__,clf))\n",
        "\n",
        "#estimators"
      ],
      "execution_count": 38,
      "outputs": []
    },
    {
      "cell_type": "code",
      "metadata": {
        "id": "om0-m-YYA-5A"
      },
      "source": [
        "from sklearn.ensemble import VotingClassifier\n",
        "ensemble= VotingClassifier(estimators=estimators, \n",
        "                          voting='soft', \n",
        "                          flatten_transform=True)"
      ],
      "execution_count": 39,
      "outputs": []
    },
    {
      "cell_type": "code",
      "metadata": {
        "id": "Pqjv5GYSDKK3"
      },
      "source": [
        "ensemble = ensemble.fit(X_train_scaled,y_train)"
      ],
      "execution_count": 40,
      "outputs": []
    },
    {
      "cell_type": "code",
      "metadata": {
        "id": "I8tHF86CK4gK"
      },
      "source": [
        "y_ensemble = ensemble.predict(X_test_scaled)"
      ],
      "execution_count": 41,
      "outputs": []
    },
    {
      "cell_type": "code",
      "metadata": {
        "id": "wZ1QB_YSKgl5"
      },
      "source": [
        "test_acc_score.append(accuracy_score(y_test, y_ensemble))\n",
        "test_f1_score.append(f1_score(y_test, y_ensemble, average='weighted'))\n",
        "clfList.append(\"VotingClassifier\")"
      ],
      "execution_count": 42,
      "outputs": []
    },
    {
      "cell_type": "code",
      "metadata": {
        "id": "5vl4-jQ4LSd3",
        "colab": {
          "base_uri": "https://localhost:8080/",
          "height": 281
        },
        "outputId": "61aadb4d-f706-4f5b-f4a5-42bc1f19b4e8"
      },
      "source": [
        "plot_conf_matrix(y_test,y_ensemble,unique_class_label, title=\"Confusion Matrix for \" + \"Voting Classifier\")"
      ],
      "execution_count": 43,
      "outputs": [
        {
          "output_type": "display_data",
          "data": {
            "image/png": "[encoded data removed]",
            "text/plain": [
              "<Figure size 360x288 with 2 Axes>"
            ]
          },
          "metadata": {
            "needs_background": "light"
          }
        }
      ]
    },
    {
      "cell_type": "code",
      "metadata": {
        "colab": {
          "base_uri": "https://localhost:8080/",
          "height": 300
        },
        "id": "kD2nzGzCpCXp",
        "outputId": "dd634e0a-90e2-4665-cad8-171b06d8ffa6"
      },
      "source": [
        "result_df = pd.DataFrame({'Classifier' :  clfList,\n",
        "                          'Testing_Accuracy': test_acc_score,\n",
        "                          'Testing_F1-score': test_f1_score                          \n",
        "                          })    \n",
        "result_df.sort_values(by=\"Testing_Accuracy\", ascending=False)"
      ],
      "execution_count": 44,
      "outputs": [
        {
          "output_type": "execute_result",
          "data": {
            "text/html": [
              "<div>\n",
              "<style scoped>\n",
              "    .dataframe tbody tr th:only-of-type {\n",
              "        vertical-align: middle;\n",
              "    }\n",
              "\n",
              "    .dataframe tbody tr th {\n",
              "        vertical-align: top;\n",
              "    }\n",
              "\n",
              "    .dataframe thead th {\n",
              "        text-align: right;\n",
              "    }\n",
              "</style>\n",
              "<table border=\"1\" class=\"dataframe\">\n",
              "  <thead>\n",
              "    <tr style=\"text-align: right;\">\n",
              "      <th></th>\n",
              "      <th>Classifier</th>\n",
              "      <th>Testing_Accuracy</th>\n",
              "      <th>Testing_F1-score</th>\n",
              "    </tr>\n",
              "  </thead>\n",
              "  <tbody>\n",
              "    <tr>\n",
              "      <th>6</th>\n",
              "      <td>Artificial_Neural_Network</td>\n",
              "      <td>0.547297</td>\n",
              "      <td>0.547279</td>\n",
              "    </tr>\n",
              "    <tr>\n",
              "      <th>4</th>\n",
              "      <td>LogisticRegression</td>\n",
              "      <td>0.523649</td>\n",
              "      <td>0.516946</td>\n",
              "    </tr>\n",
              "    <tr>\n",
              "      <th>3</th>\n",
              "      <td>BaggingClassifier</td>\n",
              "      <td>0.503378</td>\n",
              "      <td>0.490960</td>\n",
              "    </tr>\n",
              "    <tr>\n",
              "      <th>2</th>\n",
              "      <td>XGBClassifier</td>\n",
              "      <td>0.486486</td>\n",
              "      <td>0.480424</td>\n",
              "    </tr>\n",
              "    <tr>\n",
              "      <th>7</th>\n",
              "      <td>VotingClassifier</td>\n",
              "      <td>0.456081</td>\n",
              "      <td>0.445616</td>\n",
              "    </tr>\n",
              "    <tr>\n",
              "      <th>0</th>\n",
              "      <td>RandomForestClassifier</td>\n",
              "      <td>0.442568</td>\n",
              "      <td>0.432506</td>\n",
              "    </tr>\n",
              "    <tr>\n",
              "      <th>5</th>\n",
              "      <td>SVC</td>\n",
              "      <td>0.432432</td>\n",
              "      <td>0.430330</td>\n",
              "    </tr>\n",
              "    <tr>\n",
              "      <th>1</th>\n",
              "      <td>CatBoostClassifier</td>\n",
              "      <td>0.429054</td>\n",
              "      <td>0.425393</td>\n",
              "    </tr>\n",
              "  </tbody>\n",
              "</table>\n",
              "</div>"
            ],
            "text/plain": [
              "                  Classifier  Testing_Accuracy  Testing_F1-score\n",
              "6  Artificial_Neural_Network          0.547297          0.547279\n",
              "4         LogisticRegression          0.523649          0.516946\n",
              "3          BaggingClassifier          0.503378          0.490960\n",
              "2              XGBClassifier          0.486486          0.480424\n",
              "7           VotingClassifier          0.456081          0.445616\n",
              "0     RandomForestClassifier          0.442568          0.432506\n",
              "5                        SVC          0.432432          0.430330\n",
              "1         CatBoostClassifier          0.429054          0.425393"
            ]
          },
          "metadata": {},
          "execution_count": 44
        }
      ]
    },
    {
      "cell_type": "markdown",
      "metadata": {
        "id": "ZYAYpXJnwmkS"
      },
      "source": [
        "## **Prediction Run for Asia Data (Model Generalization Test as this data is not used in Training)**"
      ]
    },
    {
      "cell_type": "code",
      "metadata": {
        "id": "ilRv9TFLw-d5"
      },
      "source": [
        "asia_df = pd.read_csv('https://raw.githubusercontent.com/nishitgala89/ProjectDissertation/main/Datasheets/3_Modelling/Generalization_Check_Asia_Developed.csv').set_index(\"SecId\")\n",
        "asia_df = morningStarUtilities.createSize_InvestmentTypeFeature(asia_df)\n"
      ],
      "execution_count": 45,
      "outputs": []
    },
    {
      "cell_type": "code",
      "metadata": {
        "id": "7oZ7tRw_yxay",
        "colab": {
          "base_uri": "https://localhost:8080/"
        },
        "outputId": "c0dfca39-2fb7-433e-b741-3cf8266319a4"
      },
      "source": [
        "asia_df[imp_features].isnull().sum()"
      ],
      "execution_count": 46,
      "outputs": [
        {
          "output_type": "execute_result",
          "data": {
            "text/plain": [
              "SustainabilityRank      0\n",
              "GBRReturnM1             0\n",
              "GBRReturnM3             0\n",
              "GBRReturnM0             0\n",
              "GBRReturnM36            0\n",
              "OngoingCostActual       0\n",
              "TransactionFeeActual    0\n",
              "FundTNAV                1\n",
              "AverageMarketCapital    0\n",
              "MorningstarRiskM255     0\n",
              "AlphaM36                0\n",
              "BetaM36                 0\n",
              "StandardDeviationM36    0\n",
              "SharpeM36               0\n",
              "Size                    0\n",
              "Style                   0\n",
              "dtype: int64"
            ]
          },
          "metadata": {},
          "execution_count": 46
        }
      ]
    },
    {
      "cell_type": "code",
      "metadata": {
        "id": "jvv7roIay3z6",
        "colab": {
          "base_uri": "https://localhost:8080/",
          "height": 202
        },
        "outputId": "777f2982-28c5-4ff4-9409-b58f26d2626c"
      },
      "source": [
        "asia_df[asia_df.FundTNAV.isnull()]"
      ],
      "execution_count": 47,
      "outputs": [
        {
          "output_type": "execute_result",
          "data": {
            "text/html": [
              "<div>\n",
              "<style scoped>\n",
              "    .dataframe tbody tr th:only-of-type {\n",
              "        vertical-align: middle;\n",
              "    }\n",
              "\n",
              "    .dataframe tbody tr th {\n",
              "        vertical-align: top;\n",
              "    }\n",
              "\n",
              "    .dataframe thead th {\n",
              "        text-align: right;\n",
              "    }\n",
              "</style>\n",
              "<table border=\"1\" class=\"dataframe\">\n",
              "  <thead>\n",
              "    <tr style=\"text-align: right;\">\n",
              "      <th></th>\n",
              "      <th>Name</th>\n",
              "      <th>StarRatingM255</th>\n",
              "      <th>SustainabilityRank</th>\n",
              "      <th>CategoryName</th>\n",
              "      <th>Yield_M12</th>\n",
              "      <th>GBRReturnW1</th>\n",
              "      <th>GBRReturnM1</th>\n",
              "      <th>GBRReturnM3</th>\n",
              "      <th>GBRReturnM6</th>\n",
              "      <th>GBRReturnM0</th>\n",
              "      <th>GBRReturnM12</th>\n",
              "      <th>GBRReturnM36</th>\n",
              "      <th>GBRReturnM60</th>\n",
              "      <th>MaxFrontEndLoad</th>\n",
              "      <th>OngoingCostActual</th>\n",
              "      <th>TransactionFeeActual</th>\n",
              "      <th>ManagerTenure</th>\n",
              "      <th>FundTNAV</th>\n",
              "      <th>EquityStyleBox</th>\n",
              "      <th>AverageMarketCapital</th>\n",
              "      <th>MorningstarRiskM255</th>\n",
              "      <th>AlphaM36</th>\n",
              "      <th>BetaM36</th>\n",
              "      <th>R2M36</th>\n",
              "      <th>StandardDeviationM36</th>\n",
              "      <th>SharpeM36</th>\n",
              "      <th>ReturnProfilePreservation</th>\n",
              "      <th>ReturnProfileIncome</th>\n",
              "      <th>ReturnProfileHedging</th>\n",
              "      <th>TrackRecordExtension</th>\n",
              "      <th>Size</th>\n",
              "      <th>Style</th>\n",
              "    </tr>\n",
              "    <tr>\n",
              "      <th>SecId</th>\n",
              "      <th></th>\n",
              "      <th></th>\n",
              "      <th></th>\n",
              "      <th></th>\n",
              "      <th></th>\n",
              "      <th></th>\n",
              "      <th></th>\n",
              "      <th></th>\n",
              "      <th></th>\n",
              "      <th></th>\n",
              "      <th></th>\n",
              "      <th></th>\n",
              "      <th></th>\n",
              "      <th></th>\n",
              "      <th></th>\n",
              "      <th></th>\n",
              "      <th></th>\n",
              "      <th></th>\n",
              "      <th></th>\n",
              "      <th></th>\n",
              "      <th></th>\n",
              "      <th></th>\n",
              "      <th></th>\n",
              "      <th></th>\n",
              "      <th></th>\n",
              "      <th></th>\n",
              "      <th></th>\n",
              "      <th></th>\n",
              "      <th></th>\n",
              "      <th></th>\n",
              "      <th></th>\n",
              "      <th></th>\n",
              "    </tr>\n",
              "  </thead>\n",
              "  <tbody>\n",
              "    <tr>\n",
              "      <th>F00001071Q</th>\n",
              "      <td>BIEF Emerging Markets A GBP Acc</td>\n",
              "      <td>4</td>\n",
              "      <td>2</td>\n",
              "      <td>Global Emerging Markets Equity</td>\n",
              "      <td>0.62047</td>\n",
              "      <td>1.43</td>\n",
              "      <td>1.64</td>\n",
              "      <td>-3.35</td>\n",
              "      <td>-7.72</td>\n",
              "      <td>0.09</td>\n",
              "      <td>10.79</td>\n",
              "      <td>10.05</td>\n",
              "      <td>NaN</td>\n",
              "      <td>NaN</td>\n",
              "      <td>1.12</td>\n",
              "      <td>1.17</td>\n",
              "      <td>24.08</td>\n",
              "      <td>NaN</td>\n",
              "      <td>2</td>\n",
              "      <td>28614.24791</td>\n",
              "      <td>4</td>\n",
              "      <td>2.47</td>\n",
              "      <td>1.02</td>\n",
              "      <td>89.7</td>\n",
              "      <td>16.24</td>\n",
              "      <td>0.66</td>\n",
              "      <td>3</td>\n",
              "      <td>1</td>\n",
              "      <td>3.0</td>\n",
              "      <td>False</td>\n",
              "      <td>1</td>\n",
              "      <td>2</td>\n",
              "    </tr>\n",
              "  </tbody>\n",
              "</table>\n",
              "</div>"
            ],
            "text/plain": [
              "                                       Name  StarRatingM255  ...  Size Style\n",
              "SecId                                                        ...            \n",
              "F00001071Q  BIEF Emerging Markets A GBP Acc               4  ...     1     2\n",
              "\n",
              "[1 rows x 32 columns]"
            ]
          },
          "metadata": {},
          "execution_count": 47
        }
      ]
    },
    {
      "cell_type": "code",
      "metadata": {
        "id": "g9nHNGoGzLsK"
      },
      "source": [
        "asia_df.drop(index='F00001071Q',inplace=True)\n"
      ],
      "execution_count": 48,
      "outputs": []
    },
    {
      "cell_type": "code",
      "metadata": {
        "id": "fg2_vQ6gmWAQ"
      },
      "source": [
        "X_asia = asia_df[imp_features]\n",
        "y_asia = asia_df['StarRatingM255']\n",
        "X_asia_scaled = scaler.transform(X_asia)"
      ],
      "execution_count": 49,
      "outputs": []
    },
    {
      "cell_type": "code",
      "metadata": {
        "id": "u3LHECCHz_EE",
        "colab": {
          "base_uri": "https://localhost:8080/"
        },
        "outputId": "b51d18fc-82da-4969-90a3-d0b88d269892"
      },
      "source": [
        "X_asia.shape, y_asia.shape"
      ],
      "execution_count": 50,
      "outputs": [
        {
          "output_type": "execute_result",
          "data": {
            "text/plain": [
              "((432, 16), (432,))"
            ]
          },
          "metadata": {},
          "execution_count": 50
        }
      ]
    },
    {
      "cell_type": "code",
      "metadata": {
        "id": "Alv0gyf6wpS6",
        "colab": {
          "base_uri": "https://localhost:8080/",
          "height": 1000
        },
        "outputId": "b8e0844e-ae19-4970-fab1-197164ff2a50"
      },
      "source": [
        "test_acc_score=[]\n",
        "test_f1_score=[]\n",
        "clfList = [clf.__class__.__name__  for clf in clfs]\n",
        "\n",
        "\n",
        "def run_predict_for_untrainedData(clf):\n",
        "  if clf.__class__.__name__ in scaled_clf:   \n",
        "    y_pred = clf.predict(X_asia_scaled)\n",
        "  else:\n",
        "    y_pred = clf.predict(X_asia)\n",
        "  plot_conf_matrix(y_asia,y_pred,unique_class_label, title=\"Confusion Matrix for \" + clf.__class__.__name__)\n",
        "  print(\"Accuracy Score for \" +  clf.__class__.__name__ + \"  \" \n",
        "        + str(accuracy_score(y_asia,y_pred)) )\n",
        "  print(\"F1 Score for \" + clf.__class__.__name__ + \"  \" + \n",
        "        str(f1_score(y_asia, y_pred, average='weighted')))\n",
        "  \n",
        "  test_acc_score.append(accuracy_score(y_asia,y_pred))\n",
        "  test_f1_score.append(f1_score(y_asia, y_pred, average='weighted'))\n",
        "  \n",
        "for clf in clfs:\n",
        "  run_predict_for_untrainedData(clf)\n",
        "\n",
        "result_df = pd.DataFrame({'Classifier' :  clfList,\n",
        "                          'Testing_Accuracy': test_acc_score,\n",
        "                          'Testing_F1-score': test_f1_score                          \n",
        "                          })    \n",
        "result_df.sort_values(by=\"Testing_Accuracy\", ascending=False)"
      ],
      "execution_count": 51,
      "outputs": [
        {
          "output_type": "stream",
          "name": "stdout",
          "text": [
            "Accuracy Score for RandomForestClassifier  0.47685185185185186\n",
            "F1 Score for RandomForestClassifier  0.4568103447801839\n",
            "Accuracy Score for CatBoostClassifier  0.42824074074074076\n",
            "F1 Score for CatBoostClassifier  0.41598053446339095\n",
            "Accuracy Score for XGBClassifier  0.47685185185185186\n",
            "F1 Score for XGBClassifier  0.4433409167938139\n",
            "Accuracy Score for BaggingClassifier  0.49074074074074076\n",
            "F1 Score for BaggingClassifier  0.47777586773835956\n",
            "Accuracy Score for LogisticRegression  0.49537037037037035\n",
            "F1 Score for LogisticRegression  0.4782246027968384\n",
            "Accuracy Score for SVC  0.3333333333333333\n",
            "F1 Score for SVC  0.32907700442320226\n"
          ]
        },
        {
          "output_type": "execute_result",
          "data": {
            "text/html": [
              "<div>\n",
              "<style scoped>\n",
              "    .dataframe tbody tr th:only-of-type {\n",
              "        vertical-align: middle;\n",
              "    }\n",
              "\n",
              "    .dataframe tbody tr th {\n",
              "        vertical-align: top;\n",
              "    }\n",
              "\n",
              "    .dataframe thead th {\n",
              "        text-align: right;\n",
              "    }\n",
              "</style>\n",
              "<table border=\"1\" class=\"dataframe\">\n",
              "  <thead>\n",
              "    <tr style=\"text-align: right;\">\n",
              "      <th></th>\n",
              "      <th>Classifier</th>\n",
              "      <th>Testing_Accuracy</th>\n",
              "      <th>Testing_F1-score</th>\n",
              "    </tr>\n",
              "  </thead>\n",
              "  <tbody>\n",
              "    <tr>\n",
              "      <th>4</th>\n",
              "      <td>LogisticRegression</td>\n",
              "      <td>0.495370</td>\n",
              "      <td>0.478225</td>\n",
              "    </tr>\n",
              "    <tr>\n",
              "      <th>3</th>\n",
              "      <td>BaggingClassifier</td>\n",
              "      <td>0.490741</td>\n",
              "      <td>0.477776</td>\n",
              "    </tr>\n",
              "    <tr>\n",
              "      <th>0</th>\n",
              "      <td>RandomForestClassifier</td>\n",
              "      <td>0.476852</td>\n",
              "      <td>0.456810</td>\n",
              "    </tr>\n",
              "    <tr>\n",
              "      <th>2</th>\n",
              "      <td>XGBClassifier</td>\n",
              "      <td>0.476852</td>\n",
              "      <td>0.443341</td>\n",
              "    </tr>\n",
              "    <tr>\n",
              "      <th>1</th>\n",
              "      <td>CatBoostClassifier</td>\n",
              "      <td>0.428241</td>\n",
              "      <td>0.415981</td>\n",
              "    </tr>\n",
              "    <tr>\n",
              "      <th>5</th>\n",
              "      <td>SVC</td>\n",
              "      <td>0.333333</td>\n",
              "      <td>0.329077</td>\n",
              "    </tr>\n",
              "  </tbody>\n",
              "</table>\n",
              "</div>"
            ],
            "text/plain": [
              "               Classifier  Testing_Accuracy  Testing_F1-score\n",
              "4      LogisticRegression          0.495370          0.478225\n",
              "3       BaggingClassifier          0.490741          0.477776\n",
              "0  RandomForestClassifier          0.476852          0.456810\n",
              "2           XGBClassifier          0.476852          0.443341\n",
              "1      CatBoostClassifier          0.428241          0.415981\n",
              "5                     SVC          0.333333          0.329077"
            ]
          },
          "metadata": {},
          "execution_count": 51
        },
        {
          "output_type": "display_data",
          "data": {
            "image/png": "[encoded data removed]",
            "text/plain": [
              "<Figure size 360x288 with 2 Axes>"
            ]
          },
          "metadata": {
            "needs_background": "light"
          }
        },
        {
          "output_type": "display_data",
          "data": {
            "image/png": "[encoded data removed]",
            "text/plain": [
              "<Figure size 360x288 with 2 Axes>"
            ]
          },
          "metadata": {
            "needs_background": "light"
          }
        },
        {
          "output_type": "display_data",
          "data": {
            "image/png": "[encoded data removed]",
            "text/plain": [
              "<Figure size 360x288 with 2 Axes>"
            ]
          },
          "metadata": {
            "needs_background": "light"
          }
        },
        {
          "output_type": "display_data",
          "data": {
            "image/png": "[encoded data removed]",
            "text/plain": [
              "<Figure size 360x288 with 2 Axes>"
            ]
          },
          "metadata": {
            "needs_background": "light"
          }
        },
        {
          "output_type": "display_data",
          "data": {
            "image/png": "[encoded data removed]",
            "text/plain": [
              "<Figure size 360x288 with 2 Axes>"
            ]
          },
          "metadata": {
            "needs_background": "light"
          }
        },
        {
          "output_type": "display_data",
          "data": {
            "image/png": "[encoded data removed]",
            "text/plain": [
              "<Figure size 360x288 with 2 Axes>"
            ]
          },
          "metadata": {
            "needs_background": "light"
          }
        }
      ]
    },
    {
      "cell_type": "code",
      "metadata": {
        "id": "V-5NOPSANKO2"
      },
      "source": [
        "y_asia_pred = network_loaded.predict(X_asia_scaled)\n",
        "y_asia_pred = np.argmax(y_asia_pred, axis=1)\n",
        "y_asia_pred += 1"
      ],
      "execution_count": 52,
      "outputs": []
    },
    {
      "cell_type": "code",
      "metadata": {
        "colab": {
          "base_uri": "https://localhost:8080/"
        },
        "id": "m3_qsp--NOAK",
        "outputId": "9920e364-bfeb-4413-e780-42ab22dc45e1"
      },
      "source": [
        "print(\"Accuracy Score for \" +  network_loaded.__class__.__name__ + \"  \" \n",
        "        + str(accuracy_score(y_asia.values,y_asia_pred)) )\n",
        "print(\"F1 Score for \" + network_loaded.__class__.__name__ + \"  \" + \n",
        "        str(f1_score(y_asia.values, y_asia_pred, average='weighted')))"
      ],
      "execution_count": 53,
      "outputs": [
        {
          "output_type": "stream",
          "name": "stdout",
          "text": [
            "Accuracy Score for Sequential  0.5254629629629629\n",
            "F1 Score for Sequential  0.4940838050206563\n"
          ]
        }
      ]
    },
    {
      "cell_type": "code",
      "metadata": {
        "id": "0xaT_dqdNN71"
      },
      "source": [
        "test_acc_score.append(accuracy_score(y_asia,y_asia_pred))\n",
        "test_f1_score.append(f1_score(y_asia, y_asia_pred, average='weighted'))\n",
        "clfList.append(\"Artificial_Neural_Network\")"
      ],
      "execution_count": 54,
      "outputs": []
    },
    {
      "cell_type": "code",
      "metadata": {
        "id": "Id31bCBJVJmu"
      },
      "source": [
        "y_ensemble = ensemble.predict(X_asia_scaled)\n",
        "test_acc_score.append(accuracy_score(y_asia,y_ensemble))\n",
        "test_f1_score.append(f1_score(y_asia, y_ensemble, average='weighted'))\n",
        "clfList.append(\"Voting Classifier\")"
      ],
      "execution_count": 55,
      "outputs": []
    },
    {
      "cell_type": "code",
      "metadata": {
        "colab": {
          "base_uri": "https://localhost:8080/",
          "height": 300
        },
        "id": "QQXLSj50Nh2G",
        "outputId": "6676bb54-1987-4b26-b35f-3e7031d4a203"
      },
      "source": [
        "result_df = pd.DataFrame({'Classifier' :  clfList,\n",
        "                          'Testing_Accuracy': test_acc_score,\n",
        "                          'Testing_F1-score': test_f1_score                          \n",
        "                          })    \n",
        "result_df.sort_values(by=\"Testing_Accuracy\", ascending=False)"
      ],
      "execution_count": 56,
      "outputs": [
        {
          "output_type": "execute_result",
          "data": {
            "text/html": [
              "<div>\n",
              "<style scoped>\n",
              "    .dataframe tbody tr th:only-of-type {\n",
              "        vertical-align: middle;\n",
              "    }\n",
              "\n",
              "    .dataframe tbody tr th {\n",
              "        vertical-align: top;\n",
              "    }\n",
              "\n",
              "    .dataframe thead th {\n",
              "        text-align: right;\n",
              "    }\n",
              "</style>\n",
              "<table border=\"1\" class=\"dataframe\">\n",
              "  <thead>\n",
              "    <tr style=\"text-align: right;\">\n",
              "      <th></th>\n",
              "      <th>Classifier</th>\n",
              "      <th>Testing_Accuracy</th>\n",
              "      <th>Testing_F1-score</th>\n",
              "    </tr>\n",
              "  </thead>\n",
              "  <tbody>\n",
              "    <tr>\n",
              "      <th>6</th>\n",
              "      <td>Artificial_Neural_Network</td>\n",
              "      <td>0.525463</td>\n",
              "      <td>0.494084</td>\n",
              "    </tr>\n",
              "    <tr>\n",
              "      <th>4</th>\n",
              "      <td>LogisticRegression</td>\n",
              "      <td>0.495370</td>\n",
              "      <td>0.478225</td>\n",
              "    </tr>\n",
              "    <tr>\n",
              "      <th>3</th>\n",
              "      <td>BaggingClassifier</td>\n",
              "      <td>0.490741</td>\n",
              "      <td>0.477776</td>\n",
              "    </tr>\n",
              "    <tr>\n",
              "      <th>0</th>\n",
              "      <td>RandomForestClassifier</td>\n",
              "      <td>0.476852</td>\n",
              "      <td>0.456810</td>\n",
              "    </tr>\n",
              "    <tr>\n",
              "      <th>2</th>\n",
              "      <td>XGBClassifier</td>\n",
              "      <td>0.476852</td>\n",
              "      <td>0.443341</td>\n",
              "    </tr>\n",
              "    <tr>\n",
              "      <th>7</th>\n",
              "      <td>Voting Classifier</td>\n",
              "      <td>0.474537</td>\n",
              "      <td>0.458637</td>\n",
              "    </tr>\n",
              "    <tr>\n",
              "      <th>1</th>\n",
              "      <td>CatBoostClassifier</td>\n",
              "      <td>0.428241</td>\n",
              "      <td>0.415981</td>\n",
              "    </tr>\n",
              "    <tr>\n",
              "      <th>5</th>\n",
              "      <td>SVC</td>\n",
              "      <td>0.333333</td>\n",
              "      <td>0.329077</td>\n",
              "    </tr>\n",
              "  </tbody>\n",
              "</table>\n",
              "</div>"
            ],
            "text/plain": [
              "                  Classifier  Testing_Accuracy  Testing_F1-score\n",
              "6  Artificial_Neural_Network          0.525463          0.494084\n",
              "4         LogisticRegression          0.495370          0.478225\n",
              "3          BaggingClassifier          0.490741          0.477776\n",
              "0     RandomForestClassifier          0.476852          0.456810\n",
              "2              XGBClassifier          0.476852          0.443341\n",
              "7          Voting Classifier          0.474537          0.458637\n",
              "1         CatBoostClassifier          0.428241          0.415981\n",
              "5                        SVC          0.333333          0.329077"
            ]
          },
          "metadata": {},
          "execution_count": 56
        }
      ]
    }
  ]
}