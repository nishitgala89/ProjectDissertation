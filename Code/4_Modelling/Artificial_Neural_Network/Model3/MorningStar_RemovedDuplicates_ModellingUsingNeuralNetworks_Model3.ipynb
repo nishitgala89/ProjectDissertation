{
  "nbformat": 4,
  "nbformat_minor": 0,
  "metadata": {
    "colab": {
      "name": "MorningStar_RemovedDuplicates_ModellingUsingNeuralNetworks.ipynb",
      "provenance": [],
      "collapsed_sections": []
    },
    "kernelspec": {
      "name": "python3",
      "display_name": "Python 3"
    },
    "language_info": {
      "name": "python"
    }
  },
  "cells": [
    {
      "cell_type": "markdown",
      "metadata": {
        "id": "eeazHRS71neh"
      },
      "source": [
        "###**Mounting Google Drive**"
      ]
    },
    {
      "cell_type": "code",
      "metadata": {
        "colab": {
          "base_uri": "https://localhost:8080/"
        },
        "id": "g6DZ90-rEagh",
        "outputId": "bac65b0e-da3c-41f2-f49f-1f7bdcb551d6"
      },
      "source": [
        "from google.colab import drive\n",
        "drive.mount('/content/drive')"
      ],
      "execution_count": 2069,
      "outputs": [
        {
          "output_type": "stream",
          "name": "stdout",
          "text": [
            "Drive already mounted at /content/drive; to attempt to forcibly remount, call drive.mount(\"/content/drive\", force_remount=True).\n"
          ]
        }
      ]
    },
    {
      "cell_type": "markdown",
      "metadata": {
        "id": "is2MxjpD5mog"
      },
      "source": [
        "###**Import Libraries**"
      ]
    },
    {
      "cell_type": "code",
      "metadata": {
        "id": "5PGgVZfRChJL"
      },
      "source": [
        "from google.colab import files\n",
        "import pandas as pd\n",
        "import numpy as np\n",
        "import matplotlib.pyplot as plt\n",
        "import seaborn as sns\n",
        "from sklearn.model_selection import train_test_split\n",
        "from sklearn.model_selection import StratifiedKFold,cross_val_score,KFold,StratifiedKFold\n",
        "from sklearn.metrics import accuracy_score,f1_score\n",
        "from sklearn.preprocessing import StandardScaler,MinMaxScaler\n",
        "import tensorflow as tf\n",
        "from tensorflow.keras.layers import Dense, Dropout, Input\n",
        "from tensorflow.keras.models import Sequential\n",
        "from tensorflow.keras.optimizers import Adam"
      ],
      "execution_count": 2070,
      "outputs": []
    },
    {
      "cell_type": "code",
      "metadata": {
        "id": "kNHbvZENuvfl"
      },
      "source": [
        "from numpy.random import seed\n",
        "seed(42)\n",
        "tf.random.set_seed(2)"
      ],
      "execution_count": 2071,
      "outputs": []
    },
    {
      "cell_type": "code",
      "metadata": {
        "id": "AXxoO94N5TTS"
      },
      "source": [
        "from sklearn.metrics import confusion_matrix\n",
        "def plot_conf_matrix(y_test,y_pred,uniqueclassLabel, title=\"CMatrix\"):\n",
        "  cm = confusion_matrix(y_true=y_test,y_pred=y_pred,labels=uniqueclassLabel)\n",
        "  plt.figure(figsize=(5,4))\n",
        "  plt.title(title)\n",
        "  #ax = plt.subplot()\n",
        "  sns.heatmap(cm, annot=True,cmap='Blues',\n",
        "              yticklabels=uniqueclassLabel,xticklabels=uniqueclassLabel,fmt='3g')"
      ],
      "execution_count": 2072,
      "outputs": []
    },
    {
      "cell_type": "markdown",
      "metadata": {
        "id": "6nv-BCDw7Roe"
      },
      "source": [
        "###**Import Utility File**"
      ]
    },
    {
      "cell_type": "code",
      "metadata": {
        "id": "eTu1q8Gh6ckf"
      },
      "source": [
        "import sys\n",
        "path = \"/content/drive/MyDrive/Colab Notebooks/Project_Dissertation\"\n",
        "sys.path.insert(0,path + \"/Code\")\n",
        "import morningStarUtilities"
      ],
      "execution_count": 2073,
      "outputs": []
    },
    {
      "cell_type": "markdown",
      "metadata": {
        "id": "F-wcjDaJ8t7Z"
      },
      "source": [
        "### **Import Training Data**"
      ]
    },
    {
      "cell_type": "code",
      "metadata": {
        "id": "LpS5-NC88vzy"
      },
      "source": [
        "# uploaded = files.upload()\n",
        "# train_df = pd.read_csv(io.BytesIO(uploaded['morningstar_removedDuplicates_train_withoutM60.csv']))"
      ],
      "execution_count": 2074,
      "outputs": []
    },
    {
      "cell_type": "code",
      "metadata": {
        "id": "wp1s0SmlEhqw"
      },
      "source": [
        "train_df = pd.read_csv(path + \"/Data/Final_without_missing_values/morningstar_removedDuplicates_train_withoutLogTransform_withoutM60.csv\").set_index(\"SecId\")"
      ],
      "execution_count": 2075,
      "outputs": []
    },
    {
      "cell_type": "markdown",
      "metadata": {
        "id": "RgBksjh6_QMt"
      },
      "source": [
        "### **Import Testing Data**"
      ]
    },
    {
      "cell_type": "code",
      "metadata": {
        "id": "OKzcGENX_TNv"
      },
      "source": [
        "# uploaded = files.upload()\n",
        "# test_df = pd.read_csv(io.BytesIO(uploaded['morningstar_removedDuplicates_test_withoutM60.csv']))"
      ],
      "execution_count": 2076,
      "outputs": []
    },
    {
      "cell_type": "code",
      "metadata": {
        "id": "1QC3JQfmGPp1"
      },
      "source": [
        "test_df = pd.read_csv(path + \"/Data/Final_without_missing_values/morningstar_removedDuplicates_test_withoutLogTransform_withoutM60.csv\").set_index(\"SecId\")"
      ],
      "execution_count": 2077,
      "outputs": []
    },
    {
      "cell_type": "markdown",
      "metadata": {
        "id": "_T4GGYnf6tUB"
      },
      "source": [
        "### **Defining Training, Testing varibales**"
      ]
    },
    {
      "cell_type": "code",
      "metadata": {
        "id": "Gu7xuE_PBS9A"
      },
      "source": [
        "imp_features = ['SustainabilityRank','GBRReturnM1','GBRReturnM3','GBRReturnM0','GBRReturnM36','OngoingCostActual','TransactionFeeActual','FundTNAV',\n",
        "'AverageMarketCapital','MorningstarRiskM255','AlphaM36','BetaM36','StandardDeviationM36','SharpeM36','Size','Style']\n",
        "X_train = train_df[imp_features]\n",
        "y_train = train_df[['StarRatingM255']]\n",
        "\n",
        "X_test = test_df[imp_features]\n",
        "y_test = test_df['StarRatingM255']"
      ],
      "execution_count": 2078,
      "outputs": []
    },
    {
      "cell_type": "code",
      "metadata": {
        "id": "RNc7B6gHYyO_"
      },
      "source": [
        "y_train = y_train.astype('string')"
      ],
      "execution_count": 2079,
      "outputs": []
    },
    {
      "cell_type": "code",
      "metadata": {
        "colab": {
          "base_uri": "https://localhost:8080/"
        },
        "id": "OkdudmSCcdUk",
        "outputId": "59f667f5-a78b-4183-caf2-ffe8112d5b3a"
      },
      "source": [
        "from sklearn.preprocessing import OneHotEncoder\n",
        "y_train_cat = OneHotEncoder().fit_transform(y_train[[\"StarRatingM255\"]]).toarray()\n",
        "y_train_cat.shape"
      ],
      "execution_count": 2080,
      "outputs": [
        {
          "output_type": "execute_result",
          "data": {
            "text/plain": [
              "(886, 5)"
            ]
          },
          "metadata": {},
          "execution_count": 2080
        }
      ]
    },
    {
      "cell_type": "code",
      "metadata": {
        "colab": {
          "base_uri": "https://localhost:8080/"
        },
        "id": "4XTYcqhHBR9I",
        "outputId": "63592727-3d0c-4c40-dc77-ecce377e4527"
      },
      "source": [
        "X_train.shape[1], y_train.shape, y_train_cat.shape"
      ],
      "execution_count": 2081,
      "outputs": [
        {
          "output_type": "execute_result",
          "data": {
            "text/plain": [
              "(16, (886, 1), (886, 5))"
            ]
          },
          "metadata": {},
          "execution_count": 2081
        }
      ]
    },
    {
      "cell_type": "code",
      "metadata": {
        "colab": {
          "base_uri": "https://localhost:8080/"
        },
        "id": "UxjbFzBY_gSw",
        "outputId": "9d7cf73d-b659-456b-84dc-fed4ae8f921d"
      },
      "source": [
        "X_test.shape,y_test.shape"
      ],
      "execution_count": 2082,
      "outputs": [
        {
          "output_type": "execute_result",
          "data": {
            "text/plain": [
              "((296, 16), (296,))"
            ]
          },
          "metadata": {},
          "execution_count": 2082
        }
      ]
    },
    {
      "cell_type": "markdown",
      "metadata": {
        "id": "-7XMS96relKM"
      },
      "source": [
        "### **Scaling the Data**"
      ]
    },
    {
      "cell_type": "code",
      "metadata": {
        "id": "ZPhgNmDZeqBr"
      },
      "source": [
        "scaler = StandardScaler()\n",
        "scaler.fit(X_train)\n",
        "X_train_scaled = scaler.transform(X_train)\n",
        "X_test_scaled = scaler.transform(X_test)"
      ],
      "execution_count": 2083,
      "outputs": []
    },
    {
      "cell_type": "markdown",
      "metadata": {
        "id": "d_xfktBW7XKR"
      },
      "source": [
        "### **Verify the Training and Testing distribution as per Target Variable**"
      ]
    },
    {
      "cell_type": "code",
      "metadata": {
        "colab": {
          "base_uri": "https://localhost:8080/",
          "height": 292
        },
        "id": "YePM9m2wLL4P",
        "outputId": "eef1c78c-fdd6-4feb-8f16-e25a30004eac"
      },
      "source": [
        "morningStarUtilities.displayBarSubPlots([train_df,test_df],[\"Training Distribution\", \"Testing Distribution\"],\n",
        "                   \"StarRatingM255\")"
      ],
      "execution_count": 2084,
      "outputs": [
        {
          "output_type": "display_data",
          "data": {
            "image/png": "[encoded data removed]",
            "text/plain": [
              "<Figure size 1080x288 with 2 Axes>"
            ]
          },
          "metadata": {
            "needs_background": "light"
          }
        }
      ]
    },
    {
      "cell_type": "markdown",
      "metadata": {
        "id": "H7xIH-gH9wwl"
      },
      "source": [
        "### **Creating runtime variables**"
      ]
    },
    {
      "cell_type": "code",
      "metadata": {
        "colab": {
          "base_uri": "https://localhost:8080/"
        },
        "id": "rDe-0LE772d-",
        "outputId": "9c3fe548-df94-4b60-9789-511873f86a37"
      },
      "source": [
        "unique_class_label = list(train_df.StarRatingM255.unique())\n",
        "unique_class_label.sort()\n",
        "unique_class_label"
      ],
      "execution_count": 2085,
      "outputs": [
        {
          "output_type": "execute_result",
          "data": {
            "text/plain": [
              "[1, 2, 3, 4, 5]"
            ]
          },
          "metadata": {},
          "execution_count": 2085
        }
      ]
    },
    {
      "cell_type": "markdown",
      "metadata": {
        "id": "qWv0oQrW9jQL"
      },
      "source": [
        "### **Defining Neural Network Model**"
      ]
    },
    {
      "cell_type": "code",
      "metadata": {
        "colab": {
          "base_uri": "https://localhost:8080/"
        },
        "id": "iiMBga5fCAb7",
        "outputId": "113f799c-50d7-4474-8d99-7baf86eeb3c4"
      },
      "source": [
        "# Number of Hidden Layers\n",
        "round((X_train.shape[1] + len(unique_class_label))/2) + 1"
      ],
      "execution_count": 2086,
      "outputs": [
        {
          "output_type": "execute_result",
          "data": {
            "text/plain": [
              "11"
            ]
          },
          "metadata": {},
          "execution_count": 2086
        }
      ]
    },
    {
      "cell_type": "markdown",
      "metadata": {
        "id": "kPI7GLP5ysDA"
      },
      "source": [
        "### Method 1 - Using Scikit Learn - KerasClassifier\n"
      ]
    },
    {
      "cell_type": "code",
      "metadata": {
        "id": "sAxHLtP1_1KT"
      },
      "source": [
        "# def baseline_model():    \n",
        "#   network = Sequential()\n",
        "#   network.add(tf.keras.layers.Dense(units=11,activation ='relu', input_dim = X_train.shape[1] ))\n",
        "#   network.add(tf.keras.layers.Dropout(0.2))\n",
        "#   network.add(tf.keras.layers.Dense(units=11,activation ='relu'))\n",
        "#   network.add(tf.keras.layers.Dropout(0.2))\n",
        "#   network.add(tf.keras.layers.Dense(units=11,activation ='relu'))\n",
        "#   network.add(tf.keras.layers.Dropout(0.2))\n",
        "#   network.add(tf.keras.layers.Dense(5,activation='softmax'))\n",
        "#   network.compile(optimizer = 'adam', loss = 'categorical_crossentropy', metrics = ['accuracy'])\n",
        "#   return network"
      ],
      "execution_count": 2087,
      "outputs": []
    },
    {
      "cell_type": "code",
      "metadata": {
        "id": "1S2Pyj1CDGnY"
      },
      "source": [
        "# from keras.wrappers.scikit_learn import KerasClassifier\n",
        "# estimator = KerasClassifier(build_fn = baseline_model, epochs = 500, batch_size = 10, verbose = -1)"
      ],
      "execution_count": 2088,
      "outputs": []
    },
    {
      "cell_type": "code",
      "metadata": {
        "id": "k1ixBpWqIZ3x"
      },
      "source": [
        "# skf = StratifiedKFold(n_splits=5, random_state=42, shuffle=True)\n",
        "# results = cross_val_score(estimator, X_train_scaled, y_train, cv = skf)\n",
        "\n",
        "# print(results)\n",
        "# print(\"Result: %.2f%% (%.2f%%)\" % (results.mean()*100, results.std()*100))"
      ],
      "execution_count": 2089,
      "outputs": []
    },
    {
      "cell_type": "code",
      "metadata": {
        "id": "K8uCyB15N2Jp"
      },
      "source": [
        "# y_pred = estimator.predict(X_test_scaled)"
      ],
      "execution_count": 2090,
      "outputs": []
    },
    {
      "cell_type": "code",
      "metadata": {
        "id": "QB3JjnzVNYlq"
      },
      "source": [
        "# plot_conf_matrix(y_test,y_pred,unique_class_label, title=\"Confusion Matrix for \" + clf.__class__.__name__)\n",
        "# print(\"Accuracy Score for \" +  estimator.__class__.__name__ + \"  \" \n",
        "#         + str(accuracy_score(y_test,y_pred)) )\n",
        "# print(\"F1 Score for \" + estimator.__class__.__name__ + \"  \" + \n",
        "#         str(f1_score(y_test, y_pred, average='weighted')))"
      ],
      "execution_count": 2091,
      "outputs": []
    },
    {
      "cell_type": "markdown",
      "metadata": {
        "id": "X_Op8VMpzAOh"
      },
      "source": [
        "### Method 2 - Using Sequential Model"
      ]
    },
    {
      "cell_type": "code",
      "metadata": {
        "id": "6uyKQT5EPXs6"
      },
      "source": [
        "model = Sequential()\n",
        "model.add(tf.keras.layers.Dense(units=11,activation ='relu', input_shape = (16,) ))\n",
        "#model.add(tf.keras.layers.Dropout(0.2))\n",
        "model.add(tf.keras.layers.Dense(units=11,activation ='relu'))\n",
        "model.add(tf.keras.layers.Dropout(0.2))\n",
        "model.add(tf.keras.layers.Dense(units=6,activation ='relu'))\n",
        "model.add(tf.keras.layers.Dropout(0.2))\n",
        "model.add(tf.keras.layers.Dense(units=5,activation='softmax'))\n",
        "model.compile(optimizer = Adam(), loss = 'categorical_crossentropy', \n",
        "              metrics = ['accuracy'])"
      ],
      "execution_count": 2092,
      "outputs": []
    },
    {
      "cell_type": "code",
      "metadata": {
        "colab": {
          "base_uri": "https://localhost:8080/"
        },
        "id": "yHCvlpx8PlWC",
        "outputId": "626d1294-9b55-4fa3-f969-cd80ad69187f"
      },
      "source": [
        "model.summary()"
      ],
      "execution_count": 2093,
      "outputs": [
        {
          "output_type": "stream",
          "name": "stdout",
          "text": [
            "Model: \"sequential_43\"\n",
            "_________________________________________________________________\n",
            "Layer (type)                 Output Shape              Param #   \n",
            "=================================================================\n",
            "dense_172 (Dense)            (None, 11)                187       \n",
            "_________________________________________________________________\n",
            "dense_173 (Dense)            (None, 11)                132       \n",
            "_________________________________________________________________\n",
            "dropout_86 (Dropout)         (None, 11)                0         \n",
            "_________________________________________________________________\n",
            "dense_174 (Dense)            (None, 6)                 72        \n",
            "_________________________________________________________________\n",
            "dropout_87 (Dropout)         (None, 6)                 0         \n",
            "_________________________________________________________________\n",
            "dense_175 (Dense)            (None, 5)                 35        \n",
            "=================================================================\n",
            "Total params: 426\n",
            "Trainable params: 426\n",
            "Non-trainable params: 0\n",
            "_________________________________________________________________\n"
          ]
        }
      ]
    },
    {
      "cell_type": "code",
      "metadata": {
        "id": "peasDV7FMcxB"
      },
      "source": [
        "# Handling Imbalanced Classes using class_weight\n",
        "\n",
        "class_wt = {0: 2.15,\n",
        "                1: 1.35,\n",
        "                2: 1.1,\n",
        "                3: 1.25,\n",
        "                4: 1.85}"
      ],
      "execution_count": 2094,
      "outputs": []
    },
    {
      "cell_type": "code",
      "metadata": {
        "colab": {
          "base_uri": "https://localhost:8080/"
        },
        "id": "3IJkFo6dQEmo",
        "outputId": "78cd581c-af71-434f-edc7-8a23f0d5c6d2"
      },
      "source": [
        "history = model.fit(X_train_scaled,y_train_cat,validation_split=0.25,\n",
        "                    epochs=250, verbose=1,batch_size=15,class_weight=class_wt)"
      ],
      "execution_count": 2095,
      "outputs": [
        {
          "output_type": "stream",
          "name": "stdout",
          "text": [
            "Epoch 1/250\n",
            "45/45 [==============================] - 1s 6ms/step - loss: 2.2487 - accuracy: 0.2259 - val_loss: 1.5860 - val_accuracy: 0.2523\n",
            "Epoch 2/250\n",
            "45/45 [==============================] - 0s 3ms/step - loss: 2.1466 - accuracy: 0.2289 - val_loss: 1.5631 - val_accuracy: 0.2613\n",
            "Epoch 3/250\n",
            "45/45 [==============================] - 0s 2ms/step - loss: 2.1135 - accuracy: 0.2636 - val_loss: 1.5464 - val_accuracy: 0.3243\n",
            "Epoch 4/250\n",
            "45/45 [==============================] - 0s 3ms/step - loss: 2.0972 - accuracy: 0.3042 - val_loss: 1.5299 - val_accuracy: 0.3468\n",
            "Epoch 5/250\n",
            "45/45 [==============================] - 0s 3ms/step - loss: 2.0803 - accuracy: 0.3117 - val_loss: 1.5125 - val_accuracy: 0.3649\n",
            "Epoch 6/250\n",
            "45/45 [==============================] - 0s 2ms/step - loss: 2.0595 - accuracy: 0.3419 - val_loss: 1.4949 - val_accuracy: 0.3514\n",
            "Epoch 7/250\n",
            "45/45 [==============================] - 0s 2ms/step - loss: 2.0265 - accuracy: 0.3238 - val_loss: 1.4726 - val_accuracy: 0.3739\n",
            "Epoch 8/250\n",
            "45/45 [==============================] - 0s 3ms/step - loss: 2.0014 - accuracy: 0.3358 - val_loss: 1.4460 - val_accuracy: 0.3964\n",
            "Epoch 9/250\n",
            "45/45 [==============================] - 0s 3ms/step - loss: 1.9534 - accuracy: 0.3675 - val_loss: 1.4139 - val_accuracy: 0.4009\n",
            "Epoch 10/250\n",
            "45/45 [==============================] - 0s 3ms/step - loss: 1.9313 - accuracy: 0.3765 - val_loss: 1.3860 - val_accuracy: 0.3919\n",
            "Epoch 11/250\n",
            "45/45 [==============================] - 0s 3ms/step - loss: 1.8984 - accuracy: 0.3645 - val_loss: 1.3560 - val_accuracy: 0.4009\n",
            "Epoch 12/250\n",
            "45/45 [==============================] - 0s 3ms/step - loss: 1.8721 - accuracy: 0.3720 - val_loss: 1.3311 - val_accuracy: 0.4144\n",
            "Epoch 13/250\n",
            "45/45 [==============================] - 0s 3ms/step - loss: 1.8198 - accuracy: 0.3765 - val_loss: 1.3046 - val_accuracy: 0.4189\n",
            "Epoch 14/250\n",
            "45/45 [==============================] - 0s 3ms/step - loss: 1.8161 - accuracy: 0.3870 - val_loss: 1.2823 - val_accuracy: 0.4234\n",
            "Epoch 15/250\n",
            "45/45 [==============================] - 0s 2ms/step - loss: 1.7555 - accuracy: 0.4157 - val_loss: 1.2645 - val_accuracy: 0.4910\n",
            "Epoch 16/250\n",
            "45/45 [==============================] - 0s 3ms/step - loss: 1.7792 - accuracy: 0.4503 - val_loss: 1.2461 - val_accuracy: 0.4820\n",
            "Epoch 17/250\n",
            "45/45 [==============================] - 0s 3ms/step - loss: 1.7558 - accuracy: 0.4096 - val_loss: 1.2311 - val_accuracy: 0.4865\n",
            "Epoch 18/250\n",
            "45/45 [==============================] - 0s 3ms/step - loss: 1.7629 - accuracy: 0.4157 - val_loss: 1.2187 - val_accuracy: 0.4730\n",
            "Epoch 19/250\n",
            "45/45 [==============================] - 0s 3ms/step - loss: 1.6638 - accuracy: 0.4322 - val_loss: 1.2075 - val_accuracy: 0.5000\n",
            "Epoch 20/250\n",
            "45/45 [==============================] - 0s 3ms/step - loss: 1.6984 - accuracy: 0.4006 - val_loss: 1.1981 - val_accuracy: 0.4820\n",
            "Epoch 21/250\n",
            "45/45 [==============================] - 0s 3ms/step - loss: 1.6511 - accuracy: 0.4443 - val_loss: 1.1867 - val_accuracy: 0.4820\n",
            "Epoch 22/250\n",
            "45/45 [==============================] - 0s 3ms/step - loss: 1.6516 - accuracy: 0.4623 - val_loss: 1.1783 - val_accuracy: 0.5045\n",
            "Epoch 23/250\n",
            "45/45 [==============================] - 0s 3ms/step - loss: 1.6237 - accuracy: 0.4593 - val_loss: 1.1635 - val_accuracy: 0.5045\n",
            "Epoch 24/250\n",
            "45/45 [==============================] - 0s 3ms/step - loss: 1.6172 - accuracy: 0.4578 - val_loss: 1.1540 - val_accuracy: 0.5180\n",
            "Epoch 25/250\n",
            "45/45 [==============================] - 0s 3ms/step - loss: 1.5826 - accuracy: 0.4804 - val_loss: 1.1395 - val_accuracy: 0.5225\n",
            "Epoch 26/250\n",
            "45/45 [==============================] - 0s 3ms/step - loss: 1.5962 - accuracy: 0.4352 - val_loss: 1.1306 - val_accuracy: 0.5225\n",
            "Epoch 27/250\n",
            "45/45 [==============================] - 0s 2ms/step - loss: 1.5728 - accuracy: 0.4488 - val_loss: 1.1249 - val_accuracy: 0.5450\n",
            "Epoch 28/250\n",
            "45/45 [==============================] - 0s 3ms/step - loss: 1.5847 - accuracy: 0.4578 - val_loss: 1.1144 - val_accuracy: 0.5270\n",
            "Epoch 29/250\n",
            "45/45 [==============================] - 0s 2ms/step - loss: 1.5653 - accuracy: 0.4623 - val_loss: 1.1101 - val_accuracy: 0.5360\n",
            "Epoch 30/250\n",
            "45/45 [==============================] - 0s 2ms/step - loss: 1.5464 - accuracy: 0.4910 - val_loss: 1.1037 - val_accuracy: 0.5541\n",
            "Epoch 31/250\n",
            "45/45 [==============================] - 0s 3ms/step - loss: 1.5527 - accuracy: 0.4729 - val_loss: 1.1019 - val_accuracy: 0.5495\n",
            "Epoch 32/250\n",
            "45/45 [==============================] - 0s 3ms/step - loss: 1.5341 - accuracy: 0.4864 - val_loss: 1.0965 - val_accuracy: 0.5541\n",
            "Epoch 33/250\n",
            "45/45 [==============================] - 0s 3ms/step - loss: 1.5446 - accuracy: 0.4428 - val_loss: 1.0947 - val_accuracy: 0.5676\n",
            "Epoch 34/250\n",
            "45/45 [==============================] - 0s 3ms/step - loss: 1.5689 - accuracy: 0.4593 - val_loss: 1.0889 - val_accuracy: 0.5676\n",
            "Epoch 35/250\n",
            "45/45 [==============================] - 0s 2ms/step - loss: 1.5620 - accuracy: 0.4699 - val_loss: 1.0844 - val_accuracy: 0.5450\n",
            "Epoch 36/250\n",
            "45/45 [==============================] - 0s 3ms/step - loss: 1.5378 - accuracy: 0.4699 - val_loss: 1.0789 - val_accuracy: 0.5495\n",
            "Epoch 37/250\n",
            "45/45 [==============================] - 0s 3ms/step - loss: 1.4971 - accuracy: 0.5060 - val_loss: 1.0782 - val_accuracy: 0.5495\n",
            "Epoch 38/250\n",
            "45/45 [==============================] - 0s 3ms/step - loss: 1.5082 - accuracy: 0.4834 - val_loss: 1.0750 - val_accuracy: 0.5541\n",
            "Epoch 39/250\n",
            "45/45 [==============================] - 0s 3ms/step - loss: 1.5184 - accuracy: 0.4985 - val_loss: 1.0699 - val_accuracy: 0.5631\n",
            "Epoch 40/250\n",
            "45/45 [==============================] - 0s 2ms/step - loss: 1.4896 - accuracy: 0.5045 - val_loss: 1.0623 - val_accuracy: 0.5495\n",
            "Epoch 41/250\n",
            "45/45 [==============================] - 0s 3ms/step - loss: 1.5182 - accuracy: 0.4774 - val_loss: 1.0593 - val_accuracy: 0.5721\n",
            "Epoch 42/250\n",
            "45/45 [==============================] - 0s 3ms/step - loss: 1.5025 - accuracy: 0.5015 - val_loss: 1.0575 - val_accuracy: 0.5586\n",
            "Epoch 43/250\n",
            "45/45 [==============================] - 0s 3ms/step - loss: 1.4961 - accuracy: 0.4910 - val_loss: 1.0553 - val_accuracy: 0.5676\n",
            "Epoch 44/250\n",
            "45/45 [==============================] - 0s 2ms/step - loss: 1.4873 - accuracy: 0.5256 - val_loss: 1.0511 - val_accuracy: 0.5766\n",
            "Epoch 45/250\n",
            "45/45 [==============================] - 0s 3ms/step - loss: 1.4484 - accuracy: 0.4880 - val_loss: 1.0446 - val_accuracy: 0.5721\n",
            "Epoch 46/250\n",
            "45/45 [==============================] - 0s 3ms/step - loss: 1.4565 - accuracy: 0.5105 - val_loss: 1.0423 - val_accuracy: 0.5676\n",
            "Epoch 47/250\n",
            "45/45 [==============================] - 0s 3ms/step - loss: 1.4769 - accuracy: 0.4774 - val_loss: 1.0442 - val_accuracy: 0.5676\n",
            "Epoch 48/250\n",
            "45/45 [==============================] - 0s 3ms/step - loss: 1.4718 - accuracy: 0.4880 - val_loss: 1.0427 - val_accuracy: 0.5631\n",
            "Epoch 49/250\n",
            "45/45 [==============================] - 0s 3ms/step - loss: 1.4779 - accuracy: 0.4834 - val_loss: 1.0392 - val_accuracy: 0.5541\n",
            "Epoch 50/250\n",
            "45/45 [==============================] - 0s 3ms/step - loss: 1.4731 - accuracy: 0.4955 - val_loss: 1.0339 - val_accuracy: 0.5811\n",
            "Epoch 51/250\n",
            "45/45 [==============================] - 0s 3ms/step - loss: 1.4186 - accuracy: 0.5045 - val_loss: 1.0289 - val_accuracy: 0.5901\n",
            "Epoch 52/250\n",
            "45/45 [==============================] - 0s 2ms/step - loss: 1.4088 - accuracy: 0.5060 - val_loss: 1.0226 - val_accuracy: 0.5766\n",
            "Epoch 53/250\n",
            "45/45 [==============================] - 0s 2ms/step - loss: 1.4183 - accuracy: 0.5060 - val_loss: 1.0243 - val_accuracy: 0.5721\n",
            "Epoch 54/250\n",
            "45/45 [==============================] - 0s 3ms/step - loss: 1.4659 - accuracy: 0.5045 - val_loss: 1.0240 - val_accuracy: 0.5766\n",
            "Epoch 55/250\n",
            "45/45 [==============================] - 0s 3ms/step - loss: 1.4396 - accuracy: 0.5226 - val_loss: 1.0205 - val_accuracy: 0.5721\n",
            "Epoch 56/250\n",
            "45/45 [==============================] - 0s 3ms/step - loss: 1.4420 - accuracy: 0.5030 - val_loss: 1.0216 - val_accuracy: 0.5766\n",
            "Epoch 57/250\n",
            "45/45 [==============================] - 0s 4ms/step - loss: 1.4604 - accuracy: 0.5075 - val_loss: 1.0215 - val_accuracy: 0.5495\n",
            "Epoch 58/250\n",
            "45/45 [==============================] - 0s 3ms/step - loss: 1.4774 - accuracy: 0.4849 - val_loss: 1.0211 - val_accuracy: 0.5541\n",
            "Epoch 59/250\n",
            "45/45 [==============================] - 0s 3ms/step - loss: 1.4495 - accuracy: 0.4925 - val_loss: 1.0217 - val_accuracy: 0.5586\n",
            "Epoch 60/250\n",
            "45/45 [==============================] - 0s 2ms/step - loss: 1.4130 - accuracy: 0.5166 - val_loss: 1.0262 - val_accuracy: 0.5631\n",
            "Epoch 61/250\n",
            "45/45 [==============================] - 0s 3ms/step - loss: 1.3992 - accuracy: 0.5377 - val_loss: 1.0237 - val_accuracy: 0.5631\n",
            "Epoch 62/250\n",
            "45/45 [==============================] - 0s 2ms/step - loss: 1.4301 - accuracy: 0.5090 - val_loss: 1.0218 - val_accuracy: 0.5631\n",
            "Epoch 63/250\n",
            "45/45 [==============================] - 0s 2ms/step - loss: 1.3942 - accuracy: 0.5090 - val_loss: 1.0202 - val_accuracy: 0.5586\n",
            "Epoch 64/250\n",
            "45/45 [==============================] - 0s 3ms/step - loss: 1.3962 - accuracy: 0.5226 - val_loss: 1.0185 - val_accuracy: 0.5766\n",
            "Epoch 65/250\n",
            "45/45 [==============================] - 0s 3ms/step - loss: 1.3856 - accuracy: 0.5437 - val_loss: 1.0158 - val_accuracy: 0.5676\n",
            "Epoch 66/250\n",
            "45/45 [==============================] - 0s 3ms/step - loss: 1.3791 - accuracy: 0.5542 - val_loss: 1.0123 - val_accuracy: 0.5676\n",
            "Epoch 67/250\n",
            "45/45 [==============================] - 0s 3ms/step - loss: 1.4005 - accuracy: 0.5316 - val_loss: 1.0121 - val_accuracy: 0.5631\n",
            "Epoch 68/250\n",
            "45/45 [==============================] - 0s 3ms/step - loss: 1.3808 - accuracy: 0.5226 - val_loss: 1.0081 - val_accuracy: 0.5676\n",
            "Epoch 69/250\n",
            "45/45 [==============================] - 0s 3ms/step - loss: 1.3834 - accuracy: 0.5060 - val_loss: 1.0139 - val_accuracy: 0.5721\n",
            "Epoch 70/250\n",
            "45/45 [==============================] - 0s 2ms/step - loss: 1.3602 - accuracy: 0.5286 - val_loss: 1.0136 - val_accuracy: 0.5631\n",
            "Epoch 71/250\n",
            "45/45 [==============================] - 0s 3ms/step - loss: 1.3864 - accuracy: 0.5181 - val_loss: 1.0106 - val_accuracy: 0.5495\n",
            "Epoch 72/250\n",
            "45/45 [==============================] - 0s 2ms/step - loss: 1.3387 - accuracy: 0.5120 - val_loss: 1.0086 - val_accuracy: 0.5495\n",
            "Epoch 73/250\n",
            "45/45 [==============================] - 0s 3ms/step - loss: 1.3410 - accuracy: 0.5392 - val_loss: 1.0083 - val_accuracy: 0.5586\n",
            "Epoch 74/250\n",
            "45/45 [==============================] - 0s 3ms/step - loss: 1.3469 - accuracy: 0.5377 - val_loss: 1.0059 - val_accuracy: 0.5811\n",
            "Epoch 75/250\n",
            "45/45 [==============================] - 0s 3ms/step - loss: 1.3789 - accuracy: 0.5316 - val_loss: 1.0041 - val_accuracy: 0.5811\n",
            "Epoch 76/250\n",
            "45/45 [==============================] - 0s 3ms/step - loss: 1.3473 - accuracy: 0.5602 - val_loss: 1.0059 - val_accuracy: 0.5856\n",
            "Epoch 77/250\n",
            "45/45 [==============================] - 0s 3ms/step - loss: 1.3584 - accuracy: 0.5377 - val_loss: 1.0055 - val_accuracy: 0.5901\n",
            "Epoch 78/250\n",
            "45/45 [==============================] - 0s 3ms/step - loss: 1.3538 - accuracy: 0.5587 - val_loss: 1.0097 - val_accuracy: 0.5676\n",
            "Epoch 79/250\n",
            "45/45 [==============================] - 0s 3ms/step - loss: 1.3316 - accuracy: 0.5467 - val_loss: 1.0058 - val_accuracy: 0.5631\n",
            "Epoch 80/250\n",
            "45/45 [==============================] - 0s 3ms/step - loss: 1.3508 - accuracy: 0.5211 - val_loss: 1.0047 - val_accuracy: 0.5676\n",
            "Epoch 81/250\n",
            "45/45 [==============================] - 0s 3ms/step - loss: 1.3241 - accuracy: 0.5361 - val_loss: 1.0094 - val_accuracy: 0.5766\n",
            "Epoch 82/250\n",
            "45/45 [==============================] - 0s 3ms/step - loss: 1.3284 - accuracy: 0.5346 - val_loss: 1.0106 - val_accuracy: 0.5541\n",
            "Epoch 83/250\n",
            "45/45 [==============================] - 0s 3ms/step - loss: 1.3422 - accuracy: 0.5196 - val_loss: 1.0111 - val_accuracy: 0.5766\n",
            "Epoch 84/250\n",
            "45/45 [==============================] - 0s 3ms/step - loss: 1.3174 - accuracy: 0.5331 - val_loss: 1.0089 - val_accuracy: 0.5631\n",
            "Epoch 85/250\n",
            "45/45 [==============================] - 0s 3ms/step - loss: 1.3191 - accuracy: 0.5542 - val_loss: 1.0072 - val_accuracy: 0.5721\n",
            "Epoch 86/250\n",
            "45/45 [==============================] - 0s 3ms/step - loss: 1.3200 - accuracy: 0.5256 - val_loss: 1.0116 - val_accuracy: 0.5676\n",
            "Epoch 87/250\n",
            "45/45 [==============================] - 0s 3ms/step - loss: 1.3547 - accuracy: 0.5181 - val_loss: 1.0096 - val_accuracy: 0.5631\n",
            "Epoch 88/250\n",
            "45/45 [==============================] - 0s 3ms/step - loss: 1.2912 - accuracy: 0.5527 - val_loss: 1.0076 - val_accuracy: 0.5811\n",
            "Epoch 89/250\n",
            "45/45 [==============================] - 0s 3ms/step - loss: 1.3326 - accuracy: 0.5226 - val_loss: 1.0018 - val_accuracy: 0.5721\n",
            "Epoch 90/250\n",
            "45/45 [==============================] - 0s 3ms/step - loss: 1.3135 - accuracy: 0.5437 - val_loss: 1.0146 - val_accuracy: 0.5631\n",
            "Epoch 91/250\n",
            "45/45 [==============================] - 0s 3ms/step - loss: 1.3155 - accuracy: 0.5316 - val_loss: 1.0152 - val_accuracy: 0.5541\n",
            "Epoch 92/250\n",
            "45/45 [==============================] - 0s 3ms/step - loss: 1.3358 - accuracy: 0.5136 - val_loss: 1.0132 - val_accuracy: 0.5586\n",
            "Epoch 93/250\n",
            "45/45 [==============================] - 0s 3ms/step - loss: 1.3243 - accuracy: 0.5407 - val_loss: 1.0194 - val_accuracy: 0.5450\n",
            "Epoch 94/250\n",
            "45/45 [==============================] - 0s 3ms/step - loss: 1.3378 - accuracy: 0.5452 - val_loss: 1.0117 - val_accuracy: 0.5856\n",
            "Epoch 95/250\n",
            "45/45 [==============================] - 0s 3ms/step - loss: 1.2928 - accuracy: 0.5512 - val_loss: 1.0203 - val_accuracy: 0.5856\n",
            "Epoch 96/250\n",
            "45/45 [==============================] - 0s 3ms/step - loss: 1.3011 - accuracy: 0.5331 - val_loss: 1.0222 - val_accuracy: 0.5856\n",
            "Epoch 97/250\n",
            "45/45 [==============================] - 0s 3ms/step - loss: 1.2787 - accuracy: 0.5542 - val_loss: 1.0122 - val_accuracy: 0.5856\n",
            "Epoch 98/250\n",
            "45/45 [==============================] - 0s 3ms/step - loss: 1.3053 - accuracy: 0.5377 - val_loss: 1.0171 - val_accuracy: 0.5811\n",
            "Epoch 99/250\n",
            "45/45 [==============================] - 0s 3ms/step - loss: 1.3064 - accuracy: 0.5482 - val_loss: 1.0202 - val_accuracy: 0.5495\n",
            "Epoch 100/250\n",
            "45/45 [==============================] - 0s 3ms/step - loss: 1.2984 - accuracy: 0.5407 - val_loss: 1.0224 - val_accuracy: 0.5721\n",
            "Epoch 101/250\n",
            "45/45 [==============================] - 0s 3ms/step - loss: 1.2848 - accuracy: 0.5587 - val_loss: 1.0170 - val_accuracy: 0.5541\n",
            "Epoch 102/250\n",
            "45/45 [==============================] - 0s 3ms/step - loss: 1.2946 - accuracy: 0.5377 - val_loss: 1.0259 - val_accuracy: 0.5631\n",
            "Epoch 103/250\n",
            "45/45 [==============================] - 0s 3ms/step - loss: 1.2852 - accuracy: 0.5452 - val_loss: 1.0280 - val_accuracy: 0.5495\n",
            "Epoch 104/250\n",
            "45/45 [==============================] - 0s 2ms/step - loss: 1.2998 - accuracy: 0.5633 - val_loss: 1.0297 - val_accuracy: 0.5721\n",
            "Epoch 105/250\n",
            "45/45 [==============================] - 0s 2ms/step - loss: 1.3334 - accuracy: 0.5407 - val_loss: 1.0172 - val_accuracy: 0.5811\n",
            "Epoch 106/250\n",
            "45/45 [==============================] - 0s 3ms/step - loss: 1.2926 - accuracy: 0.5407 - val_loss: 1.0181 - val_accuracy: 0.5631\n",
            "Epoch 107/250\n",
            "45/45 [==============================] - 0s 3ms/step - loss: 1.2756 - accuracy: 0.5663 - val_loss: 1.0209 - val_accuracy: 0.5676\n",
            "Epoch 108/250\n",
            "45/45 [==============================] - 0s 4ms/step - loss: 1.3035 - accuracy: 0.5361 - val_loss: 1.0219 - val_accuracy: 0.5721\n",
            "Epoch 109/250\n",
            "45/45 [==============================] - 0s 3ms/step - loss: 1.2858 - accuracy: 0.5482 - val_loss: 1.0215 - val_accuracy: 0.5721\n",
            "Epoch 110/250\n",
            "45/45 [==============================] - 0s 3ms/step - loss: 1.3007 - accuracy: 0.5527 - val_loss: 1.0212 - val_accuracy: 0.5631\n",
            "Epoch 111/250\n",
            "45/45 [==============================] - 0s 3ms/step - loss: 1.2799 - accuracy: 0.5587 - val_loss: 1.0260 - val_accuracy: 0.5676\n",
            "Epoch 112/250\n",
            "45/45 [==============================] - 0s 3ms/step - loss: 1.2469 - accuracy: 0.5828 - val_loss: 1.0211 - val_accuracy: 0.5676\n",
            "Epoch 113/250\n",
            "45/45 [==============================] - 0s 3ms/step - loss: 1.2655 - accuracy: 0.5512 - val_loss: 1.0209 - val_accuracy: 0.5586\n",
            "Epoch 114/250\n",
            "45/45 [==============================] - 0s 3ms/step - loss: 1.2618 - accuracy: 0.5663 - val_loss: 1.0192 - val_accuracy: 0.5676\n",
            "Epoch 115/250\n",
            "45/45 [==============================] - 0s 3ms/step - loss: 1.2608 - accuracy: 0.5602 - val_loss: 1.0231 - val_accuracy: 0.5586\n",
            "Epoch 116/250\n",
            "45/45 [==============================] - 0s 3ms/step - loss: 1.2614 - accuracy: 0.5557 - val_loss: 1.0268 - val_accuracy: 0.5586\n",
            "Epoch 117/250\n",
            "45/45 [==============================] - 0s 3ms/step - loss: 1.2793 - accuracy: 0.5617 - val_loss: 1.0184 - val_accuracy: 0.5586\n",
            "Epoch 118/250\n",
            "45/45 [==============================] - 0s 3ms/step - loss: 1.2487 - accuracy: 0.5392 - val_loss: 1.0288 - val_accuracy: 0.5495\n",
            "Epoch 119/250\n",
            "45/45 [==============================] - 0s 3ms/step - loss: 1.2791 - accuracy: 0.5542 - val_loss: 1.0276 - val_accuracy: 0.5631\n",
            "Epoch 120/250\n",
            "45/45 [==============================] - 0s 3ms/step - loss: 1.2692 - accuracy: 0.5241 - val_loss: 1.0245 - val_accuracy: 0.5631\n",
            "Epoch 121/250\n",
            "45/45 [==============================] - 0s 3ms/step - loss: 1.2525 - accuracy: 0.5512 - val_loss: 1.0242 - val_accuracy: 0.5586\n",
            "Epoch 122/250\n",
            "45/45 [==============================] - 0s 3ms/step - loss: 1.2569 - accuracy: 0.5708 - val_loss: 1.0282 - val_accuracy: 0.5450\n",
            "Epoch 123/250\n",
            "45/45 [==============================] - 0s 3ms/step - loss: 1.2551 - accuracy: 0.5392 - val_loss: 1.0300 - val_accuracy: 0.5721\n",
            "Epoch 124/250\n",
            "45/45 [==============================] - 0s 3ms/step - loss: 1.2659 - accuracy: 0.5512 - val_loss: 1.0268 - val_accuracy: 0.5676\n",
            "Epoch 125/250\n",
            "45/45 [==============================] - 0s 3ms/step - loss: 1.2931 - accuracy: 0.5512 - val_loss: 1.0334 - val_accuracy: 0.5586\n",
            "Epoch 126/250\n",
            "45/45 [==============================] - 0s 3ms/step - loss: 1.2276 - accuracy: 0.5346 - val_loss: 1.0294 - val_accuracy: 0.5721\n",
            "Epoch 127/250\n",
            "45/45 [==============================] - 0s 3ms/step - loss: 1.2766 - accuracy: 0.5587 - val_loss: 1.0371 - val_accuracy: 0.5811\n",
            "Epoch 128/250\n",
            "45/45 [==============================] - 0s 3ms/step - loss: 1.2181 - accuracy: 0.5587 - val_loss: 1.0324 - val_accuracy: 0.5541\n",
            "Epoch 129/250\n",
            "45/45 [==============================] - 0s 3ms/step - loss: 1.2540 - accuracy: 0.5572 - val_loss: 1.0361 - val_accuracy: 0.5586\n",
            "Epoch 130/250\n",
            "45/45 [==============================] - 0s 3ms/step - loss: 1.2230 - accuracy: 0.5708 - val_loss: 1.0333 - val_accuracy: 0.5766\n",
            "Epoch 131/250\n",
            "45/45 [==============================] - 0s 3ms/step - loss: 1.2539 - accuracy: 0.5482 - val_loss: 1.0360 - val_accuracy: 0.5586\n",
            "Epoch 132/250\n",
            "45/45 [==============================] - 0s 3ms/step - loss: 1.2025 - accuracy: 0.5723 - val_loss: 1.0363 - val_accuracy: 0.5405\n",
            "Epoch 133/250\n",
            "45/45 [==============================] - 0s 3ms/step - loss: 1.1965 - accuracy: 0.5663 - val_loss: 1.0495 - val_accuracy: 0.5901\n",
            "Epoch 134/250\n",
            "45/45 [==============================] - 0s 3ms/step - loss: 1.2787 - accuracy: 0.5241 - val_loss: 1.0509 - val_accuracy: 0.5450\n",
            "Epoch 135/250\n",
            "45/45 [==============================] - 0s 4ms/step - loss: 1.2508 - accuracy: 0.5467 - val_loss: 1.0451 - val_accuracy: 0.5495\n",
            "Epoch 136/250\n",
            "45/45 [==============================] - 0s 3ms/step - loss: 1.2400 - accuracy: 0.5587 - val_loss: 1.0300 - val_accuracy: 0.5631\n",
            "Epoch 137/250\n",
            "45/45 [==============================] - 0s 3ms/step - loss: 1.2562 - accuracy: 0.5633 - val_loss: 1.0374 - val_accuracy: 0.5495\n",
            "Epoch 138/250\n",
            "45/45 [==============================] - 0s 3ms/step - loss: 1.2540 - accuracy: 0.5557 - val_loss: 1.0320 - val_accuracy: 0.5541\n",
            "Epoch 139/250\n",
            "45/45 [==============================] - 0s 3ms/step - loss: 1.2461 - accuracy: 0.5422 - val_loss: 1.0303 - val_accuracy: 0.5676\n",
            "Epoch 140/250\n",
            "45/45 [==============================] - 0s 3ms/step - loss: 1.2042 - accuracy: 0.5798 - val_loss: 1.0370 - val_accuracy: 0.5676\n",
            "Epoch 141/250\n",
            "45/45 [==============================] - 0s 3ms/step - loss: 1.2242 - accuracy: 0.5693 - val_loss: 1.0321 - val_accuracy: 0.5676\n",
            "Epoch 142/250\n",
            "45/45 [==============================] - 0s 3ms/step - loss: 1.2454 - accuracy: 0.5392 - val_loss: 1.0340 - val_accuracy: 0.5676\n",
            "Epoch 143/250\n",
            "45/45 [==============================] - 0s 3ms/step - loss: 1.2484 - accuracy: 0.5889 - val_loss: 1.0371 - val_accuracy: 0.5811\n",
            "Epoch 144/250\n",
            "45/45 [==============================] - 0s 3ms/step - loss: 1.2014 - accuracy: 0.5723 - val_loss: 1.0416 - val_accuracy: 0.5811\n",
            "Epoch 145/250\n",
            "45/45 [==============================] - 0s 3ms/step - loss: 1.2156 - accuracy: 0.5738 - val_loss: 1.0406 - val_accuracy: 0.5721\n",
            "Epoch 146/250\n",
            "45/45 [==============================] - 0s 3ms/step - loss: 1.2295 - accuracy: 0.5452 - val_loss: 1.0304 - val_accuracy: 0.5856\n",
            "Epoch 147/250\n",
            "45/45 [==============================] - 0s 3ms/step - loss: 1.2413 - accuracy: 0.5497 - val_loss: 1.0399 - val_accuracy: 0.5676\n",
            "Epoch 148/250\n",
            "45/45 [==============================] - 0s 3ms/step - loss: 1.2371 - accuracy: 0.5693 - val_loss: 1.0334 - val_accuracy: 0.5676\n",
            "Epoch 149/250\n",
            "45/45 [==============================] - 0s 3ms/step - loss: 1.2267 - accuracy: 0.5708 - val_loss: 1.0400 - val_accuracy: 0.5856\n",
            "Epoch 150/250\n",
            "45/45 [==============================] - 0s 3ms/step - loss: 1.2363 - accuracy: 0.5843 - val_loss: 1.0393 - val_accuracy: 0.5586\n",
            "Epoch 151/250\n",
            "45/45 [==============================] - 0s 2ms/step - loss: 1.1982 - accuracy: 0.5708 - val_loss: 1.0360 - val_accuracy: 0.5721\n",
            "Epoch 152/250\n",
            "45/45 [==============================] - 0s 3ms/step - loss: 1.2190 - accuracy: 0.5663 - val_loss: 1.0447 - val_accuracy: 0.5631\n",
            "Epoch 153/250\n",
            "45/45 [==============================] - 0s 3ms/step - loss: 1.1880 - accuracy: 0.6024 - val_loss: 1.0424 - val_accuracy: 0.5631\n",
            "Epoch 154/250\n",
            "45/45 [==============================] - 0s 3ms/step - loss: 1.2041 - accuracy: 0.5633 - val_loss: 1.0347 - val_accuracy: 0.5766\n",
            "Epoch 155/250\n",
            "45/45 [==============================] - 0s 3ms/step - loss: 1.2492 - accuracy: 0.5301 - val_loss: 1.0451 - val_accuracy: 0.5766\n",
            "Epoch 156/250\n",
            "45/45 [==============================] - 0s 3ms/step - loss: 1.2179 - accuracy: 0.5587 - val_loss: 1.0388 - val_accuracy: 0.5676\n",
            "Epoch 157/250\n",
            "45/45 [==============================] - 0s 3ms/step - loss: 1.1660 - accuracy: 0.5873 - val_loss: 1.0384 - val_accuracy: 0.5946\n",
            "Epoch 158/250\n",
            "45/45 [==============================] - 0s 2ms/step - loss: 1.1924 - accuracy: 0.5753 - val_loss: 1.0350 - val_accuracy: 0.5721\n",
            "Epoch 159/250\n",
            "45/45 [==============================] - 0s 3ms/step - loss: 1.1982 - accuracy: 0.5753 - val_loss: 1.0376 - val_accuracy: 0.5856\n",
            "Epoch 160/250\n",
            "45/45 [==============================] - 0s 3ms/step - loss: 1.1978 - accuracy: 0.5723 - val_loss: 1.0470 - val_accuracy: 0.5811\n",
            "Epoch 161/250\n",
            "45/45 [==============================] - 0s 3ms/step - loss: 1.1935 - accuracy: 0.5617 - val_loss: 1.0308 - val_accuracy: 0.5856\n",
            "Epoch 162/250\n",
            "45/45 [==============================] - 0s 4ms/step - loss: 1.2241 - accuracy: 0.5422 - val_loss: 1.0387 - val_accuracy: 0.5766\n",
            "Epoch 163/250\n",
            "45/45 [==============================] - 0s 3ms/step - loss: 1.2091 - accuracy: 0.5497 - val_loss: 1.0355 - val_accuracy: 0.5856\n",
            "Epoch 164/250\n",
            "45/45 [==============================] - 0s 3ms/step - loss: 1.1626 - accuracy: 0.6024 - val_loss: 1.0486 - val_accuracy: 0.5676\n",
            "Epoch 165/250\n",
            "45/45 [==============================] - 0s 4ms/step - loss: 1.1766 - accuracy: 0.5919 - val_loss: 1.0444 - val_accuracy: 0.5766\n",
            "Epoch 166/250\n",
            "45/45 [==============================] - 0s 3ms/step - loss: 1.1861 - accuracy: 0.5708 - val_loss: 1.0532 - val_accuracy: 0.5721\n",
            "Epoch 167/250\n",
            "45/45 [==============================] - 0s 3ms/step - loss: 1.1693 - accuracy: 0.5738 - val_loss: 1.0477 - val_accuracy: 0.5721\n",
            "Epoch 168/250\n",
            "45/45 [==============================] - 0s 3ms/step - loss: 1.2005 - accuracy: 0.5497 - val_loss: 1.0659 - val_accuracy: 0.5586\n",
            "Epoch 169/250\n",
            "45/45 [==============================] - 0s 3ms/step - loss: 1.2311 - accuracy: 0.5768 - val_loss: 1.0379 - val_accuracy: 0.5856\n",
            "Epoch 170/250\n",
            "45/45 [==============================] - 0s 4ms/step - loss: 1.2084 - accuracy: 0.5377 - val_loss: 1.0432 - val_accuracy: 0.5631\n",
            "Epoch 171/250\n",
            "45/45 [==============================] - 0s 3ms/step - loss: 1.1898 - accuracy: 0.5693 - val_loss: 1.0419 - val_accuracy: 0.5811\n",
            "Epoch 172/250\n",
            "45/45 [==============================] - 0s 3ms/step - loss: 1.1716 - accuracy: 0.5693 - val_loss: 1.0297 - val_accuracy: 0.5676\n",
            "Epoch 173/250\n",
            "45/45 [==============================] - 0s 3ms/step - loss: 1.1906 - accuracy: 0.5663 - val_loss: 1.0420 - val_accuracy: 0.5676\n",
            "Epoch 174/250\n",
            "45/45 [==============================] - 0s 3ms/step - loss: 1.1989 - accuracy: 0.5587 - val_loss: 1.0438 - val_accuracy: 0.5766\n",
            "Epoch 175/250\n",
            "45/45 [==============================] - 0s 3ms/step - loss: 1.2212 - accuracy: 0.5663 - val_loss: 1.0469 - val_accuracy: 0.5811\n",
            "Epoch 176/250\n",
            "45/45 [==============================] - 0s 3ms/step - loss: 1.1799 - accuracy: 0.5768 - val_loss: 1.0522 - val_accuracy: 0.5856\n",
            "Epoch 177/250\n",
            "45/45 [==============================] - 0s 3ms/step - loss: 1.2022 - accuracy: 0.5617 - val_loss: 1.0290 - val_accuracy: 0.5856\n",
            "Epoch 178/250\n",
            "45/45 [==============================] - 0s 3ms/step - loss: 1.2068 - accuracy: 0.5663 - val_loss: 1.0414 - val_accuracy: 0.5676\n",
            "Epoch 179/250\n",
            "45/45 [==============================] - 0s 3ms/step - loss: 1.2156 - accuracy: 0.5527 - val_loss: 1.0484 - val_accuracy: 0.5721\n",
            "Epoch 180/250\n",
            "45/45 [==============================] - 0s 3ms/step - loss: 1.1609 - accuracy: 0.5798 - val_loss: 1.0494 - val_accuracy: 0.5766\n",
            "Epoch 181/250\n",
            "45/45 [==============================] - 0s 3ms/step - loss: 1.2068 - accuracy: 0.5527 - val_loss: 1.0564 - val_accuracy: 0.5811\n",
            "Epoch 182/250\n",
            "45/45 [==============================] - 0s 3ms/step - loss: 1.1493 - accuracy: 0.5919 - val_loss: 1.0613 - val_accuracy: 0.5901\n",
            "Epoch 183/250\n",
            "45/45 [==============================] - 0s 3ms/step - loss: 1.2181 - accuracy: 0.5557 - val_loss: 1.0616 - val_accuracy: 0.5631\n",
            "Epoch 184/250\n",
            "45/45 [==============================] - 0s 3ms/step - loss: 1.1972 - accuracy: 0.5813 - val_loss: 1.0430 - val_accuracy: 0.5631\n",
            "Epoch 185/250\n",
            "45/45 [==============================] - 0s 3ms/step - loss: 1.1681 - accuracy: 0.5889 - val_loss: 1.0588 - val_accuracy: 0.5631\n",
            "Epoch 186/250\n",
            "45/45 [==============================] - 0s 3ms/step - loss: 1.1751 - accuracy: 0.5858 - val_loss: 1.0580 - val_accuracy: 0.5631\n",
            "Epoch 187/250\n",
            "45/45 [==============================] - 0s 3ms/step - loss: 1.1444 - accuracy: 0.5617 - val_loss: 1.0563 - val_accuracy: 0.5721\n",
            "Epoch 188/250\n",
            "45/45 [==============================] - 0s 3ms/step - loss: 1.1848 - accuracy: 0.5723 - val_loss: 1.0509 - val_accuracy: 0.5676\n",
            "Epoch 189/250\n",
            "45/45 [==============================] - 0s 3ms/step - loss: 1.2014 - accuracy: 0.5723 - val_loss: 1.0549 - val_accuracy: 0.5676\n",
            "Epoch 190/250\n",
            "45/45 [==============================] - 0s 3ms/step - loss: 1.1820 - accuracy: 0.5904 - val_loss: 1.0590 - val_accuracy: 0.5586\n",
            "Epoch 191/250\n",
            "45/45 [==============================] - 0s 3ms/step - loss: 1.1808 - accuracy: 0.5723 - val_loss: 1.0714 - val_accuracy: 0.5901\n",
            "Epoch 192/250\n",
            "45/45 [==============================] - 0s 3ms/step - loss: 1.1837 - accuracy: 0.5783 - val_loss: 1.0599 - val_accuracy: 0.5766\n",
            "Epoch 193/250\n",
            "45/45 [==============================] - 0s 3ms/step - loss: 1.1886 - accuracy: 0.5828 - val_loss: 1.0817 - val_accuracy: 0.5586\n",
            "Epoch 194/250\n",
            "45/45 [==============================] - 0s 3ms/step - loss: 1.1949 - accuracy: 0.5527 - val_loss: 1.0610 - val_accuracy: 0.5721\n",
            "Epoch 195/250\n",
            "45/45 [==============================] - 0s 3ms/step - loss: 1.1425 - accuracy: 0.5723 - val_loss: 1.0670 - val_accuracy: 0.5766\n",
            "Epoch 196/250\n",
            "45/45 [==============================] - 0s 3ms/step - loss: 1.1824 - accuracy: 0.5617 - val_loss: 1.0768 - val_accuracy: 0.5721\n",
            "Epoch 197/250\n",
            "45/45 [==============================] - 0s 3ms/step - loss: 1.1712 - accuracy: 0.5723 - val_loss: 1.0821 - val_accuracy: 0.5721\n",
            "Epoch 198/250\n",
            "45/45 [==============================] - 0s 3ms/step - loss: 1.1397 - accuracy: 0.5949 - val_loss: 1.0886 - val_accuracy: 0.5766\n",
            "Epoch 199/250\n",
            "45/45 [==============================] - 0s 3ms/step - loss: 1.1922 - accuracy: 0.5602 - val_loss: 1.0765 - val_accuracy: 0.5721\n",
            "Epoch 200/250\n",
            "45/45 [==============================] - 0s 3ms/step - loss: 1.1898 - accuracy: 0.5497 - val_loss: 1.0702 - val_accuracy: 0.5766\n",
            "Epoch 201/250\n",
            "45/45 [==============================] - 0s 3ms/step - loss: 1.1885 - accuracy: 0.5889 - val_loss: 1.0788 - val_accuracy: 0.5586\n",
            "Epoch 202/250\n",
            "45/45 [==============================] - 0s 3ms/step - loss: 1.2039 - accuracy: 0.5557 - val_loss: 1.0616 - val_accuracy: 0.5586\n",
            "Epoch 203/250\n",
            "45/45 [==============================] - 0s 3ms/step - loss: 1.2060 - accuracy: 0.5482 - val_loss: 1.0755 - val_accuracy: 0.5631\n",
            "Epoch 204/250\n",
            "45/45 [==============================] - 0s 3ms/step - loss: 1.1500 - accuracy: 0.5753 - val_loss: 1.0813 - val_accuracy: 0.5991\n",
            "Epoch 205/250\n",
            "45/45 [==============================] - 0s 3ms/step - loss: 1.1455 - accuracy: 0.6084 - val_loss: 1.0919 - val_accuracy: 0.5631\n",
            "Epoch 206/250\n",
            "45/45 [==============================] - 0s 3ms/step - loss: 1.1643 - accuracy: 0.5648 - val_loss: 1.0927 - val_accuracy: 0.5495\n",
            "Epoch 207/250\n",
            "45/45 [==============================] - 0s 4ms/step - loss: 1.1215 - accuracy: 0.5979 - val_loss: 1.1101 - val_accuracy: 0.5495\n",
            "Epoch 208/250\n",
            "45/45 [==============================] - 0s 3ms/step - loss: 1.1480 - accuracy: 0.5949 - val_loss: 1.1187 - val_accuracy: 0.5586\n",
            "Epoch 209/250\n",
            "45/45 [==============================] - 0s 3ms/step - loss: 1.1875 - accuracy: 0.5843 - val_loss: 1.0941 - val_accuracy: 0.5495\n",
            "Epoch 210/250\n",
            "45/45 [==============================] - 0s 4ms/step - loss: 1.1716 - accuracy: 0.5828 - val_loss: 1.0996 - val_accuracy: 0.5631\n",
            "Epoch 211/250\n",
            "45/45 [==============================] - 0s 3ms/step - loss: 1.1997 - accuracy: 0.5663 - val_loss: 1.1266 - val_accuracy: 0.5541\n",
            "Epoch 212/250\n",
            "45/45 [==============================] - 0s 3ms/step - loss: 1.1875 - accuracy: 0.5648 - val_loss: 1.0899 - val_accuracy: 0.5495\n",
            "Epoch 213/250\n",
            "45/45 [==============================] - 0s 3ms/step - loss: 1.1884 - accuracy: 0.5617 - val_loss: 1.0820 - val_accuracy: 0.5631\n",
            "Epoch 214/250\n",
            "45/45 [==============================] - 0s 3ms/step - loss: 1.1867 - accuracy: 0.5587 - val_loss: 1.1013 - val_accuracy: 0.5631\n",
            "Epoch 215/250\n",
            "45/45 [==============================] - 0s 3ms/step - loss: 1.1859 - accuracy: 0.5602 - val_loss: 1.1048 - val_accuracy: 0.5676\n",
            "Epoch 216/250\n",
            "45/45 [==============================] - 0s 3ms/step - loss: 1.1290 - accuracy: 0.5949 - val_loss: 1.1067 - val_accuracy: 0.5721\n",
            "Epoch 217/250\n",
            "45/45 [==============================] - 0s 3ms/step - loss: 1.1370 - accuracy: 0.5994 - val_loss: 1.1037 - val_accuracy: 0.5901\n",
            "Epoch 218/250\n",
            "45/45 [==============================] - 0s 3ms/step - loss: 1.2000 - accuracy: 0.5828 - val_loss: 1.0997 - val_accuracy: 0.5766\n",
            "Epoch 219/250\n",
            "45/45 [==============================] - 0s 3ms/step - loss: 1.1553 - accuracy: 0.5949 - val_loss: 1.1057 - val_accuracy: 0.5631\n",
            "Epoch 220/250\n",
            "45/45 [==============================] - 0s 4ms/step - loss: 1.1729 - accuracy: 0.5798 - val_loss: 1.1082 - val_accuracy: 0.5676\n",
            "Epoch 221/250\n",
            "45/45 [==============================] - 0s 4ms/step - loss: 1.1494 - accuracy: 0.5979 - val_loss: 1.1145 - val_accuracy: 0.5676\n",
            "Epoch 222/250\n",
            "45/45 [==============================] - 0s 3ms/step - loss: 1.1675 - accuracy: 0.5663 - val_loss: 1.1258 - val_accuracy: 0.5495\n",
            "Epoch 223/250\n",
            "45/45 [==============================] - 0s 3ms/step - loss: 1.1577 - accuracy: 0.5708 - val_loss: 1.1073 - val_accuracy: 0.5586\n",
            "Epoch 224/250\n",
            "45/45 [==============================] - 0s 3ms/step - loss: 1.0954 - accuracy: 0.6265 - val_loss: 1.1374 - val_accuracy: 0.5631\n",
            "Epoch 225/250\n",
            "45/45 [==============================] - 0s 3ms/step - loss: 1.1617 - accuracy: 0.5934 - val_loss: 1.1307 - val_accuracy: 0.5405\n",
            "Epoch 226/250\n",
            "45/45 [==============================] - 0s 3ms/step - loss: 1.1549 - accuracy: 0.5934 - val_loss: 1.1403 - val_accuracy: 0.5495\n",
            "Epoch 227/250\n",
            "45/45 [==============================] - 0s 3ms/step - loss: 1.1647 - accuracy: 0.5904 - val_loss: 1.1327 - val_accuracy: 0.5586\n",
            "Epoch 228/250\n",
            "45/45 [==============================] - 0s 3ms/step - loss: 1.1614 - accuracy: 0.5949 - val_loss: 1.1424 - val_accuracy: 0.5631\n",
            "Epoch 229/250\n",
            "45/45 [==============================] - 0s 3ms/step - loss: 1.0943 - accuracy: 0.5994 - val_loss: 1.1522 - val_accuracy: 0.5586\n",
            "Epoch 230/250\n",
            "45/45 [==============================] - 0s 3ms/step - loss: 1.1609 - accuracy: 0.5828 - val_loss: 1.1466 - val_accuracy: 0.5766\n",
            "Epoch 231/250\n",
            "45/45 [==============================] - 0s 3ms/step - loss: 1.1650 - accuracy: 0.5708 - val_loss: 1.1425 - val_accuracy: 0.5450\n",
            "Epoch 232/250\n",
            "45/45 [==============================] - 0s 3ms/step - loss: 1.1660 - accuracy: 0.5783 - val_loss: 1.1513 - val_accuracy: 0.5541\n",
            "Epoch 233/250\n",
            "45/45 [==============================] - 0s 3ms/step - loss: 1.1528 - accuracy: 0.6069 - val_loss: 1.1439 - val_accuracy: 0.5586\n",
            "Epoch 234/250\n",
            "45/45 [==============================] - 0s 3ms/step - loss: 1.1695 - accuracy: 0.5994 - val_loss: 1.1410 - val_accuracy: 0.5450\n",
            "Epoch 235/250\n",
            "45/45 [==============================] - 0s 3ms/step - loss: 1.1182 - accuracy: 0.6220 - val_loss: 1.1619 - val_accuracy: 0.5450\n",
            "Epoch 236/250\n",
            "45/45 [==============================] - 0s 3ms/step - loss: 1.1160 - accuracy: 0.5889 - val_loss: 1.1560 - val_accuracy: 0.5676\n",
            "Epoch 237/250\n",
            "45/45 [==============================] - 0s 4ms/step - loss: 1.1051 - accuracy: 0.6205 - val_loss: 1.1715 - val_accuracy: 0.5631\n",
            "Epoch 238/250\n",
            "45/45 [==============================] - 0s 4ms/step - loss: 1.1902 - accuracy: 0.5723 - val_loss: 1.1757 - val_accuracy: 0.5721\n",
            "Epoch 239/250\n",
            "45/45 [==============================] - 0s 3ms/step - loss: 1.1554 - accuracy: 0.5813 - val_loss: 1.1568 - val_accuracy: 0.5721\n",
            "Epoch 240/250\n",
            "45/45 [==============================] - 0s 3ms/step - loss: 1.1448 - accuracy: 0.5949 - val_loss: 1.1551 - val_accuracy: 0.5586\n",
            "Epoch 241/250\n",
            "45/45 [==============================] - 0s 3ms/step - loss: 1.1411 - accuracy: 0.5889 - val_loss: 1.1494 - val_accuracy: 0.5495\n",
            "Epoch 242/250\n",
            "45/45 [==============================] - 0s 3ms/step - loss: 1.1497 - accuracy: 0.5753 - val_loss: 1.1600 - val_accuracy: 0.5676\n",
            "Epoch 243/250\n",
            "45/45 [==============================] - 0s 4ms/step - loss: 1.1369 - accuracy: 0.6099 - val_loss: 1.1702 - val_accuracy: 0.5676\n",
            "Epoch 244/250\n",
            "45/45 [==============================] - 0s 3ms/step - loss: 1.1123 - accuracy: 0.6175 - val_loss: 1.1847 - val_accuracy: 0.5676\n",
            "Epoch 245/250\n",
            "45/45 [==============================] - 0s 3ms/step - loss: 1.1423 - accuracy: 0.5873 - val_loss: 1.1832 - val_accuracy: 0.5676\n",
            "Epoch 246/250\n",
            "45/45 [==============================] - 0s 3ms/step - loss: 1.1168 - accuracy: 0.6250 - val_loss: 1.1869 - val_accuracy: 0.5766\n",
            "Epoch 247/250\n",
            "45/45 [==============================] - 0s 3ms/step - loss: 1.1407 - accuracy: 0.5934 - val_loss: 1.1750 - val_accuracy: 0.5766\n",
            "Epoch 248/250\n",
            "45/45 [==============================] - 0s 3ms/step - loss: 1.1210 - accuracy: 0.6114 - val_loss: 1.1769 - val_accuracy: 0.5676\n",
            "Epoch 249/250\n",
            "45/45 [==============================] - 0s 3ms/step - loss: 1.1638 - accuracy: 0.5919 - val_loss: 1.1837 - val_accuracy: 0.5676\n",
            "Epoch 250/250\n",
            "45/45 [==============================] - 0s 3ms/step - loss: 1.1381 - accuracy: 0.6054 - val_loss: 1.1869 - val_accuracy: 0.5631\n"
          ]
        }
      ]
    },
    {
      "cell_type": "markdown",
      "metadata": {
        "id": "JGEoCgFDgC3P"
      },
      "source": [
        "### Plot Loss and Accuracy"
      ]
    },
    {
      "cell_type": "code",
      "metadata": {
        "colab": {
          "base_uri": "https://localhost:8080/",
          "height": 295
        },
        "id": "2xaJSLowDawG",
        "outputId": "56065f01-e5e8-4db5-df5b-c574b300161a"
      },
      "source": [
        "plt.plot(history.history['accuracy'])\n",
        "plt.plot(history.history['val_accuracy'])\n",
        "plt.title('model accuracy')\n",
        "plt.ylabel('accuracy')\n",
        "plt.xlabel('epoch')\n",
        "plt.legend(['train', 'test'], loc='upper left')\n",
        "plt.show()"
      ],
      "execution_count": 2096,
      "outputs": [
        {
          "output_type": "display_data",
          "data": {
            "image/png": "[encoded data removed]",
            "text/plain": [
              "<Figure size 432x288 with 1 Axes>"
            ]
          },
          "metadata": {
            "needs_background": "light"
          }
        }
      ]
    },
    {
      "cell_type": "code",
      "metadata": {
        "colab": {
          "base_uri": "https://localhost:8080/",
          "height": 295
        },
        "id": "lzNLa-f3EPMD",
        "outputId": "30cdfd0c-e055-4edc-d4e1-082eeb891675"
      },
      "source": [
        "plt.plot(history.history['loss'])\n",
        "plt.plot(history.history['val_loss'])\n",
        "plt.title('model loss')\n",
        "plt.ylabel('loss')\n",
        "plt.xlabel('epoch')\n",
        "plt.legend(['train', 'test'], loc='upper right')\n",
        "plt.show()"
      ],
      "execution_count": 2097,
      "outputs": [
        {
          "output_type": "display_data",
          "data": {
            "image/png": "[encoded data removed]",
            "text/plain": [
              "<Figure size 432x288 with 1 Axes>"
            ]
          },
          "metadata": {
            "needs_background": "light"
          }
        }
      ]
    },
    {
      "cell_type": "code",
      "metadata": {
        "id": "fz4UzJt7ZVz2"
      },
      "source": [
        "y_pred = model.predict(X_test_scaled)"
      ],
      "execution_count": 2098,
      "outputs": []
    },
    {
      "cell_type": "code",
      "metadata": {
        "colab": {
          "base_uri": "https://localhost:8080/"
        },
        "id": "93mpvIEQdhW-",
        "outputId": "6a07216c-dfc9-4bdd-827c-9c7a58221757"
      },
      "source": [
        "y_pred"
      ],
      "execution_count": 2099,
      "outputs": [
        {
          "output_type": "execute_result",
          "data": {
            "text/plain": [
              "array([[3.56060922e-01, 5.15250444e-01, 1.28688633e-01, 1.06553930e-08,\n",
              "        3.13745338e-17],\n",
              "       [0.00000000e+00, 2.31739364e-22, 1.73722603e-03, 5.98810539e-02,\n",
              "        9.38381732e-01],\n",
              "       [1.54260499e-02, 4.95299608e-01, 4.85655844e-01, 3.61604965e-03,\n",
              "        2.49447908e-06],\n",
              "       ...,\n",
              "       [1.07449414e-02, 3.93701583e-01, 4.76981521e-01, 1.14498585e-01,\n",
              "        4.07341216e-03],\n",
              "       [4.42448109e-05, 2.81659693e-01, 7.18259454e-01, 3.66125423e-05,\n",
              "        9.70575634e-11],\n",
              "       [0.00000000e+00, 1.25314648e-10, 6.32392913e-02, 3.98970395e-01,\n",
              "        5.37790358e-01]], dtype=float32)"
            ]
          },
          "metadata": {},
          "execution_count": 2099
        }
      ]
    },
    {
      "cell_type": "code",
      "metadata": {
        "id": "KXK9zwn4ZqUG"
      },
      "source": [
        "y_pred = np.argmax(y_pred, axis=1)"
      ],
      "execution_count": 2100,
      "outputs": []
    },
    {
      "cell_type": "code",
      "metadata": {
        "id": "mTtfvvVge0QO"
      },
      "source": [
        "y_pred = y_pred + 1 # Ratings are from 1 to 5"
      ],
      "execution_count": 2101,
      "outputs": []
    },
    {
      "cell_type": "code",
      "metadata": {
        "colab": {
          "base_uri": "https://localhost:8080/"
        },
        "id": "JAySTOOSe5k0",
        "outputId": "b945786f-35e7-4b79-edbf-9921e99b8a85"
      },
      "source": [
        "y_pred"
      ],
      "execution_count": 2102,
      "outputs": [
        {
          "output_type": "execute_result",
          "data": {
            "text/plain": [
              "array([2, 5, 2, 3, 3, 3, 3, 4, 2, 5, 4, 4, 3, 5, 3, 2, 1, 4, 3, 5, 4, 2,\n",
              "       2, 2, 4, 3, 3, 2, 4, 5, 1, 1, 4, 3, 2, 2, 2, 5, 2, 4, 4, 1, 5, 2,\n",
              "       3, 5, 3, 3, 2, 3, 3, 2, 4, 2, 4, 2, 1, 5, 2, 4, 4, 4, 5, 4, 2, 3,\n",
              "       4, 5, 3, 3, 2, 2, 3, 4, 4, 4, 5, 2, 4, 4, 4, 3, 4, 3, 3, 3, 3, 3,\n",
              "       3, 4, 1, 4, 4, 3, 3, 2, 3, 3, 1, 2, 3, 3, 5, 2, 3, 4, 4, 4, 4, 1,\n",
              "       3, 2, 4, 5, 4, 4, 5, 3, 2, 2, 3, 2, 3, 2, 4, 4, 4, 3, 4, 2, 5, 3,\n",
              "       3, 2, 2, 4, 3, 4, 2, 3, 5, 2, 4, 1, 2, 3, 2, 3, 4, 4, 4, 4, 4, 1,\n",
              "       3, 1, 3, 4, 3, 4, 5, 3, 3, 2, 5, 4, 1, 3, 3, 3, 2, 3, 2, 3, 4, 4,\n",
              "       2, 4, 3, 3, 2, 4, 3, 2, 4, 5, 3, 4, 5, 3, 5, 1, 2, 4, 3, 3, 4, 5,\n",
              "       4, 3, 3, 2, 4, 5, 2, 2, 4, 4, 4, 2, 4, 3, 4, 2, 3, 3, 2, 3, 4, 3,\n",
              "       4, 2, 3, 3, 2, 3, 3, 1, 3, 5, 4, 2, 3, 4, 4, 2, 5, 1, 4, 5, 4, 4,\n",
              "       2, 4, 2, 4, 4, 2, 1, 3, 4, 2, 4, 4, 3, 4, 2, 2, 3, 2, 2, 3, 4, 3,\n",
              "       2, 5, 3, 4, 1, 4, 3, 2, 3, 4, 4, 4, 1, 4, 2, 3, 4, 4, 4, 5, 2, 2,\n",
              "       3, 2, 2, 2, 3, 1, 3, 3, 3, 5])"
            ]
          },
          "metadata": {},
          "execution_count": 2102
        }
      ]
    },
    {
      "cell_type": "code",
      "metadata": {
        "colab": {
          "base_uri": "https://localhost:8080/"
        },
        "id": "E6LyZ1OnfIwY",
        "outputId": "05f90129-63fb-49eb-c281-b7dd7b99975c"
      },
      "source": [
        "y_test.values"
      ],
      "execution_count": 2103,
      "outputs": [
        {
          "output_type": "execute_result",
          "data": {
            "text/plain": [
              "array([3, 5, 2, 3, 3, 3, 4, 4, 3, 5, 4, 3, 4, 4, 3, 2, 2, 5, 3, 4, 5, 3,\n",
              "       2, 2, 5, 3, 4, 2, 4, 4, 2, 2, 4, 3, 2, 2, 3, 5, 2, 4, 5, 1, 5, 3,\n",
              "       4, 5, 3, 3, 1, 2, 3, 1, 4, 3, 4, 2, 1, 5, 2, 5, 4, 4, 5, 4, 2, 4,\n",
              "       4, 4, 3, 2, 3, 2, 4, 3, 2, 3, 5, 2, 5, 4, 2, 4, 4, 3, 3, 3, 2, 4,\n",
              "       3, 4, 2, 3, 3, 3, 3, 2, 4, 2, 1, 2, 4, 4, 5, 3, 3, 4, 4, 3, 3, 3,\n",
              "       3, 1, 4, 5, 5, 5, 4, 3, 2, 3, 2, 3, 3, 3, 4, 4, 4, 4, 4, 4, 5, 2,\n",
              "       3, 2, 1, 3, 3, 3, 1, 4, 4, 3, 3, 1, 3, 3, 3, 2, 4, 4, 4, 3, 3, 1,\n",
              "       2, 1, 3, 3, 4, 5, 4, 2, 3, 2, 5, 4, 1, 3, 4, 4, 2, 4, 2, 2, 5, 3,\n",
              "       2, 5, 3, 3, 3, 4, 3, 2, 4, 5, 3, 3, 5, 3, 5, 2, 3, 3, 4, 2, 3, 4,\n",
              "       4, 3, 4, 3, 5, 5, 2, 2, 4, 3, 3, 2, 3, 3, 4, 2, 5, 3, 1, 3, 5, 2,\n",
              "       3, 4, 3, 3, 1, 2, 4, 2, 4, 5, 3, 2, 3, 5, 4, 1, 4, 1, 5, 5, 5, 3,\n",
              "       3, 4, 2, 4, 4, 1, 2, 2, 5, 2, 4, 3, 4, 4, 2, 3, 3, 1, 3, 3, 4, 3,\n",
              "       2, 5, 3, 5, 1, 4, 2, 2, 3, 4, 5, 3, 1, 4, 2, 2, 3, 3, 4, 5, 1, 2,\n",
              "       3, 2, 3, 4, 4, 1, 3, 3, 3, 5])"
            ]
          },
          "metadata": {},
          "execution_count": 2103
        }
      ]
    },
    {
      "cell_type": "code",
      "metadata": {
        "colab": {
          "base_uri": "https://localhost:8080/",
          "height": 281
        },
        "id": "CZpPzhnYZ8uK",
        "outputId": "12f2b82f-961b-4683-ea19-f06dee9c0379"
      },
      "source": [
        "plot_conf_matrix(y_test.values,y_pred,unique_class_label, title=\"Confusion Matrix for Neural Network\" )"
      ],
      "execution_count": 2104,
      "outputs": [
        {
          "output_type": "display_data",
          "data": {
            "image/png": "[encoded data removed]",
            "text/plain": [
              "<Figure size 360x288 with 2 Axes>"
            ]
          },
          "metadata": {
            "needs_background": "light"
          }
        }
      ]
    },
    {
      "cell_type": "code",
      "metadata": {
        "colab": {
          "base_uri": "https://localhost:8080/"
        },
        "id": "-VpIdb3-fXot",
        "outputId": "62bb96e4-6d9c-4038-e7dd-1f808ccabaf3"
      },
      "source": [
        "print(\"Accuracy Score for \" +  model.__class__.__name__ + \"  \" \n",
        "        + str(accuracy_score(y_test.values,y_pred)) )\n",
        "print(\"F1 Score for \" + model.__class__.__name__ + \"  \" + \n",
        "        str(f1_score(y_test.values, y_pred, average='weighted')))"
      ],
      "execution_count": 2105,
      "outputs": [
        {
          "output_type": "stream",
          "name": "stdout",
          "text": [
            "Accuracy Score for Sequential  0.527027027027027\n",
            "F1 Score for Sequential  0.5286179850948157\n"
          ]
        }
      ]
    },
    {
      "cell_type": "code",
      "metadata": {
        "id": "Qe0B9gjJd-lf"
      },
      "source": [
        "model_json = model.to_json()\n",
        "with open('model.json','w') as json_file:\n",
        "  json_file.write(model_json)"
      ],
      "execution_count": 2106,
      "outputs": []
    },
    {
      "cell_type": "code",
      "metadata": {
        "id": "rST-N5tQdnR6"
      },
      "source": [
        "from keras.models import save_model\n",
        "model_weights = save_model(model, '/content/model_weights.hdf5')"
      ],
      "execution_count": 2107,
      "outputs": []
    },
    {
      "cell_type": "markdown",
      "metadata": {
        "id": "g7jAiC9Oeerp"
      },
      "source": [
        "#### Performing testing using Loaded model"
      ]
    },
    {
      "cell_type": "code",
      "metadata": {
        "colab": {
          "base_uri": "https://localhost:8080/",
          "height": 124
        },
        "id": "EnmcnCTVen8v",
        "outputId": "2964dc0c-3b0d-488a-f6d5-25887fbd8c04"
      },
      "source": [
        "with open('model.json', 'r') as json_file:\n",
        "  json_saved_model = json_file.read()\n",
        "json_saved_model"
      ],
      "execution_count": 2108,
      "outputs": [
        {
          "output_type": "execute_result",
          "data": {
            "application/vnd.google.colaboratory.intrinsic+json": {
              "type": "string"
            },
            "text/plain": [
              "'{\"class_name\": \"Sequential\", \"config\": {\"name\": \"sequential_43\", \"layers\": [{\"class_name\": \"InputLayer\", \"config\": {\"batch_input_shape\": [null, 16], \"dtype\": \"float32\", \"sparse\": false, \"ragged\": false, \"name\": \"dense_172_input\"}}, {\"class_name\": \"Dense\", \"config\": {\"name\": \"dense_172\", \"trainable\": true, \"batch_input_shape\": [null, 16], \"dtype\": \"float32\", \"units\": 11, \"activation\": \"relu\", \"use_bias\": true, \"kernel_initializer\": {\"class_name\": \"GlorotUniform\", \"config\": {\"seed\": null}}, \"bias_initializer\": {\"class_name\": \"Zeros\", \"config\": {}}, \"kernel_regularizer\": null, \"bias_regularizer\": null, \"activity_regularizer\": null, \"kernel_constraint\": null, \"bias_constraint\": null}}, {\"class_name\": \"Dense\", \"config\": {\"name\": \"dense_173\", \"trainable\": true, \"dtype\": \"float32\", \"units\": 11, \"activation\": \"relu\", \"use_bias\": true, \"kernel_initializer\": {\"class_name\": \"GlorotUniform\", \"config\": {\"seed\": null}}, \"bias_initializer\": {\"class_name\": \"Zeros\", \"config\": {}}, \"kernel_regularizer\": null, \"bias_regularizer\": null, \"activity_regularizer\": null, \"kernel_constraint\": null, \"bias_constraint\": null}}, {\"class_name\": \"Dropout\", \"config\": {\"name\": \"dropout_86\", \"trainable\": true, \"dtype\": \"float32\", \"rate\": 0.2, \"noise_shape\": null, \"seed\": null}}, {\"class_name\": \"Dense\", \"config\": {\"name\": \"dense_174\", \"trainable\": true, \"dtype\": \"float32\", \"units\": 6, \"activation\": \"relu\", \"use_bias\": true, \"kernel_initializer\": {\"class_name\": \"GlorotUniform\", \"config\": {\"seed\": null}}, \"bias_initializer\": {\"class_name\": \"Zeros\", \"config\": {}}, \"kernel_regularizer\": null, \"bias_regularizer\": null, \"activity_regularizer\": null, \"kernel_constraint\": null, \"bias_constraint\": null}}, {\"class_name\": \"Dropout\", \"config\": {\"name\": \"dropout_87\", \"trainable\": true, \"dtype\": \"float32\", \"rate\": 0.2, \"noise_shape\": null, \"seed\": null}}, {\"class_name\": \"Dense\", \"config\": {\"name\": \"dense_175\", \"trainable\": true, \"dtype\": \"float32\", \"units\": 5, \"activation\": \"softmax\", \"use_bias\": true, \"kernel_initializer\": {\"class_name\": \"GlorotUniform\", \"config\": {\"seed\": null}}, \"bias_initializer\": {\"class_name\": \"Zeros\", \"config\": {}}, \"kernel_regularizer\": null, \"bias_regularizer\": null, \"activity_regularizer\": null, \"kernel_constraint\": null, \"bias_constraint\": null}}]}, \"keras_version\": \"2.6.0\", \"backend\": \"tensorflow\"}'"
            ]
          },
          "metadata": {},
          "execution_count": 2108
        }
      ]
    },
    {
      "cell_type": "code",
      "metadata": {
        "id": "KVjlvMHNdnHW"
      },
      "source": [
        "network_loaded = tf.keras.models.model_from_json(json_saved_model)\n",
        "network_loaded.load_weights('model_weights.hdf5')\n",
        "network_loaded.compile(loss = 'categorical_crossentropy', optimizer='Adam', metrics=['accuracy'])"
      ],
      "execution_count": 2109,
      "outputs": []
    },
    {
      "cell_type": "code",
      "metadata": {
        "id": "f50j09VHeymq"
      },
      "source": [
        "y_pred_loaded = network_loaded.predict(X_test_scaled)"
      ],
      "execution_count": 2110,
      "outputs": []
    },
    {
      "cell_type": "code",
      "metadata": {
        "id": "sUzNFhozfEyd"
      },
      "source": [
        "y_pred_loaded = np.argmax(y_pred_loaded, axis=1)"
      ],
      "execution_count": 2111,
      "outputs": []
    },
    {
      "cell_type": "code",
      "metadata": {
        "id": "cWb40j2sfPuy"
      },
      "source": [
        "y_pred_loaded +=1"
      ],
      "execution_count": 2112,
      "outputs": []
    },
    {
      "cell_type": "code",
      "metadata": {
        "colab": {
          "base_uri": "https://localhost:8080/",
          "height": 281
        },
        "id": "PtePd9GXfMzb",
        "outputId": "1f37b2cf-b4e0-4bf1-d385-40c16ca323c2"
      },
      "source": [
        "plot_conf_matrix(y_test.values,y_pred_loaded,unique_class_label, title=\"Confusion Matrix for \" + model.__class__.__name__)"
      ],
      "execution_count": 2113,
      "outputs": [
        {
          "output_type": "display_data",
          "data": {
            "image/png": "[encoded data removed]",
            "text/plain": [
              "<Figure size 360x288 with 2 Axes>"
            ]
          },
          "metadata": {
            "needs_background": "light"
          }
        }
      ]
    },
    {
      "cell_type": "markdown",
      "metadata": {
        "id": "Fkfat6MVgQWf"
      },
      "source": [
        "#### Prediction on Asia Developed Dataset"
      ]
    },
    {
      "cell_type": "code",
      "metadata": {
        "id": "GmboS8VLgUA2"
      },
      "source": [
        "asia_df = pd.read_csv(\"/content/sample_data/Asia_Developed.csv\").set_index(\"SecId\")\n",
        "asia_df = morningStarUtilities.createSize_InvestmentTypeFeature(asia_df)\n"
      ],
      "execution_count": 2114,
      "outputs": []
    },
    {
      "cell_type": "code",
      "metadata": {
        "colab": {
          "base_uri": "https://localhost:8080/",
          "height": 199
        },
        "id": "4-2cppx6gZOQ",
        "outputId": "1258f9fe-849f-4c28-fc90-0f8869a4e64b"
      },
      "source": [
        "asia_df[asia_df.FundTNAV.isnull()]"
      ],
      "execution_count": 2115,
      "outputs": [
        {
          "output_type": "execute_result",
          "data": {
            "text/html": [
              "<div>\n",
              "<style scoped>\n",
              "    .dataframe tbody tr th:only-of-type {\n",
              "        vertical-align: middle;\n",
              "    }\n",
              "\n",
              "    .dataframe tbody tr th {\n",
              "        vertical-align: top;\n",
              "    }\n",
              "\n",
              "    .dataframe thead th {\n",
              "        text-align: right;\n",
              "    }\n",
              "</style>\n",
              "<table border=\"1\" class=\"dataframe\">\n",
              "  <thead>\n",
              "    <tr style=\"text-align: right;\">\n",
              "      <th></th>\n",
              "      <th>Name</th>\n",
              "      <th>StarRatingM255</th>\n",
              "      <th>SustainabilityRank</th>\n",
              "      <th>CategoryName</th>\n",
              "      <th>Yield_M12</th>\n",
              "      <th>GBRReturnW1</th>\n",
              "      <th>GBRReturnM1</th>\n",
              "      <th>GBRReturnM3</th>\n",
              "      <th>GBRReturnM6</th>\n",
              "      <th>GBRReturnM0</th>\n",
              "      <th>GBRReturnM12</th>\n",
              "      <th>GBRReturnM36</th>\n",
              "      <th>GBRReturnM60</th>\n",
              "      <th>MaxFrontEndLoad</th>\n",
              "      <th>OngoingCostActual</th>\n",
              "      <th>TransactionFeeActual</th>\n",
              "      <th>ManagerTenure</th>\n",
              "      <th>FundTNAV</th>\n",
              "      <th>EquityStyleBox</th>\n",
              "      <th>AverageMarketCapital</th>\n",
              "      <th>MorningstarRiskM255</th>\n",
              "      <th>AlphaM36</th>\n",
              "      <th>BetaM36</th>\n",
              "      <th>R2M36</th>\n",
              "      <th>StandardDeviationM36</th>\n",
              "      <th>SharpeM36</th>\n",
              "      <th>ReturnProfilePreservation</th>\n",
              "      <th>ReturnProfileIncome</th>\n",
              "      <th>ReturnProfileHedging</th>\n",
              "      <th>TrackRecordExtension</th>\n",
              "      <th>Size</th>\n",
              "      <th>Style</th>\n",
              "    </tr>\n",
              "    <tr>\n",
              "      <th>SecId</th>\n",
              "      <th></th>\n",
              "      <th></th>\n",
              "      <th></th>\n",
              "      <th></th>\n",
              "      <th></th>\n",
              "      <th></th>\n",
              "      <th></th>\n",
              "      <th></th>\n",
              "      <th></th>\n",
              "      <th></th>\n",
              "      <th></th>\n",
              "      <th></th>\n",
              "      <th></th>\n",
              "      <th></th>\n",
              "      <th></th>\n",
              "      <th></th>\n",
              "      <th></th>\n",
              "      <th></th>\n",
              "      <th></th>\n",
              "      <th></th>\n",
              "      <th></th>\n",
              "      <th></th>\n",
              "      <th></th>\n",
              "      <th></th>\n",
              "      <th></th>\n",
              "      <th></th>\n",
              "      <th></th>\n",
              "      <th></th>\n",
              "      <th></th>\n",
              "      <th></th>\n",
              "      <th></th>\n",
              "      <th></th>\n",
              "    </tr>\n",
              "  </thead>\n",
              "  <tbody>\n",
              "    <tr>\n",
              "      <th>F00001071Q</th>\n",
              "      <td>BIEF Emerging Markets A GBP Acc</td>\n",
              "      <td>4</td>\n",
              "      <td>2</td>\n",
              "      <td>Global Emerging Markets Equity</td>\n",
              "      <td>0.62047</td>\n",
              "      <td>1.43</td>\n",
              "      <td>1.64</td>\n",
              "      <td>-3.35</td>\n",
              "      <td>-7.72</td>\n",
              "      <td>0.09</td>\n",
              "      <td>10.79</td>\n",
              "      <td>10.05</td>\n",
              "      <td>NaN</td>\n",
              "      <td>NaN</td>\n",
              "      <td>1.12</td>\n",
              "      <td>1.17</td>\n",
              "      <td>24.08</td>\n",
              "      <td>NaN</td>\n",
              "      <td>2</td>\n",
              "      <td>28614.24791</td>\n",
              "      <td>4</td>\n",
              "      <td>2.47</td>\n",
              "      <td>1.02</td>\n",
              "      <td>89.7</td>\n",
              "      <td>16.24</td>\n",
              "      <td>0.66</td>\n",
              "      <td>3</td>\n",
              "      <td>1</td>\n",
              "      <td>3.0</td>\n",
              "      <td>False</td>\n",
              "      <td>1</td>\n",
              "      <td>2</td>\n",
              "    </tr>\n",
              "  </tbody>\n",
              "</table>\n",
              "</div>"
            ],
            "text/plain": [
              "                                       Name  StarRatingM255  ...  Size Style\n",
              "SecId                                                        ...            \n",
              "F00001071Q  BIEF Emerging Markets A GBP Acc               4  ...     1     2\n",
              "\n",
              "[1 rows x 32 columns]"
            ]
          },
          "metadata": {},
          "execution_count": 2115
        }
      ]
    },
    {
      "cell_type": "code",
      "metadata": {
        "id": "ck3RLQZNgbwn"
      },
      "source": [
        "asia_df.drop(index='F00001071Q',inplace=True)\n"
      ],
      "execution_count": 2116,
      "outputs": []
    },
    {
      "cell_type": "code",
      "metadata": {
        "id": "VS9meOpSgegy"
      },
      "source": [
        "X_asia = asia_df[imp_features]\n",
        "y_asia = asia_df['StarRatingM255']\n",
        "X_asia_scaled = scaler.transform(X_asia)"
      ],
      "execution_count": 2117,
      "outputs": []
    },
    {
      "cell_type": "code",
      "metadata": {
        "id": "jV4l1lYmgq59"
      },
      "source": [
        "y_asia_pred = network_loaded.predict(X_asia_scaled)\n",
        "y_asia_pred = np.argmax(y_asia_pred, axis=1)\n",
        "y_asia_pred += 1"
      ],
      "execution_count": 2118,
      "outputs": []
    },
    {
      "cell_type": "code",
      "metadata": {
        "colab": {
          "base_uri": "https://localhost:8080/"
        },
        "id": "JuBFmzuzimHJ",
        "outputId": "e15e050a-57c8-42f8-b16b-b57025b990b8"
      },
      "source": [
        "y_asia.shape"
      ],
      "execution_count": 2119,
      "outputs": [
        {
          "output_type": "execute_result",
          "data": {
            "text/plain": [
              "(432,)"
            ]
          },
          "metadata": {},
          "execution_count": 2119
        }
      ]
    },
    {
      "cell_type": "code",
      "metadata": {
        "colab": {
          "base_uri": "https://localhost:8080/"
        },
        "id": "LkXSYbWrjJKT",
        "outputId": "198f15f5-2270-4e0d-ab8c-981c8d7518f5"
      },
      "source": [
        "y_asia_pred.shape"
      ],
      "execution_count": 2120,
      "outputs": [
        {
          "output_type": "execute_result",
          "data": {
            "text/plain": [
              "(432,)"
            ]
          },
          "metadata": {},
          "execution_count": 2120
        }
      ]
    },
    {
      "cell_type": "code",
      "metadata": {
        "colab": {
          "base_uri": "https://localhost:8080/"
        },
        "id": "vwHEPAwsh_5Y",
        "outputId": "52762f37-b26b-468c-e30c-050136c7198a"
      },
      "source": [
        "print(\"Accuracy Score for \" +  model.__class__.__name__ + \"  \" \n",
        "        + str(accuracy_score(y_asia.values,y_asia_pred)) )\n",
        "print(\"F1 Score for \" + model.__class__.__name__ + \"  \" + \n",
        "        str(f1_score(y_asia.values, y_asia_pred, average='weighted')))"
      ],
      "execution_count": 2121,
      "outputs": [
        {
          "output_type": "stream",
          "name": "stdout",
          "text": [
            "Accuracy Score for Sequential  0.48842592592592593\n",
            "F1 Score for Sequential  0.4676817231557404\n"
          ]
        }
      ]
    },
    {
      "cell_type": "code",
      "metadata": {
        "colab": {
          "base_uri": "https://localhost:8080/",
          "height": 281
        },
        "id": "RzJhuUlRg5H7",
        "outputId": "677e0c6f-9121-44e7-8670-85a29ac6253d"
      },
      "source": [
        "plot_conf_matrix(y_asia.values,y_asia_pred,unique_class_label, title=\"Confusion Matrix for Neural Network\" )"
      ],
      "execution_count": 2122,
      "outputs": [
        {
          "output_type": "display_data",
          "data": {
            "image/png": "[encoded data removed]",
            "text/plain": [
              "<Figure size 360x288 with 2 Axes>"
            ]
          },
          "metadata": {
            "needs_background": "light"
          }
        }
      ]
    }
  ]
}