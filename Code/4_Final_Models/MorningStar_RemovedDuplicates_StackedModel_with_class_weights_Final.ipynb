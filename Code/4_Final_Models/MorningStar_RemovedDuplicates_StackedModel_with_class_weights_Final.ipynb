{
  "nbformat": 4,
  "nbformat_minor": 0,
  "metadata": {
    "colab": {
      "name": "MorningStar_RemovedDuplicates_StackedModel_Final.ipynb",
      "provenance": [],
      "collapsed_sections": []
    },
    "kernelspec": {
      "name": "python3",
      "display_name": "Python 3"
    },
    "language_info": {
      "name": "python"
    }
  },
  "cells": [
    {
      "cell_type": "markdown",
      "metadata": {
        "id": "is2MxjpD5mog"
      },
      "source": [
        "###**Import Libraries**"
      ]
    },
    {
      "cell_type": "code",
      "metadata": {
        "id": "5PGgVZfRChJL"
      },
      "source": [
        "from google.colab import files\n",
        "import pandas as pd\n",
        "import numpy as np\n",
        "import matplotlib.pyplot as plt\n",
        "import seaborn as sns\n",
        "from sklearn.linear_model import LogisticRegression\n",
        "from sklearn.linear_model import LinearRegression\n",
        "from sklearn.preprocessing import PolynomialFeatures\n",
        "from sklearn.svm import SVC\n",
        "from xgboost import XGBClassifier\n",
        "from sklearn.model_selection import train_test_split\n",
        "from sklearn.ensemble import RandomForestClassifier\n",
        "from sklearn.ensemble import BaggingClassifier\n",
        "from sklearn.ensemble import GradientBoostingClassifier\n",
        "from sklearn.model_selection import StratifiedKFold,cross_val_score,KFold,StratifiedKFold\n",
        "from sklearn.metrics import accuracy_score,f1_score\n",
        "from sklearn.preprocessing import StandardScaler,MinMaxScaler"
      ],
      "execution_count": 1,
      "outputs": []
    },
    {
      "cell_type": "code",
      "metadata": {
        "id": "AXxoO94N5TTS"
      },
      "source": [
        "from sklearn.metrics import confusion_matrix\n",
        "def plot_conf_matrix(y_test,y_pred,uniqueclassLabel, title=\"CMatrix\"):\n",
        "  cm = confusion_matrix(y_true=y_test,y_pred=y_pred,labels=uniqueclassLabel)\n",
        "  plt.figure(figsize=(5,4))\n",
        "  plt.title(title)\n",
        "  #ax = plt.subplot()\n",
        "  sns.heatmap(cm, annot=True,cmap='Blues',\n",
        "              yticklabels=uniqueclassLabel,xticklabels=uniqueclassLabel,fmt='3g')"
      ],
      "execution_count": 2,
      "outputs": []
    },
    {
      "cell_type": "code",
      "source": [
        "rand_state=42\n",
        "k_fold = 5"
      ],
      "metadata": {
        "id": "8AIOFJSUNnIo"
      },
      "execution_count": 3,
      "outputs": []
    },
    {
      "cell_type": "markdown",
      "metadata": {
        "id": "vYAFLdfzNogc"
      },
      "source": [
        "###**Import Utility File**"
      ]
    },
    {
      "cell_type": "code",
      "metadata": {
        "id": "gJXrdr4QNogc"
      },
      "source": [
        "# import sys\n",
        "# path = \"/content/drive/MyDrive/Colab Notebooks/Project_Dissertation\"\n",
        "# sys.path.insert(0,path + \"/Code\")\n",
        "# import morningStarUtilities"
      ],
      "execution_count": 4,
      "outputs": []
    },
    {
      "cell_type": "code",
      "metadata": {
        "colab": {
          "base_uri": "https://localhost:8080/"
        },
        "id": "BlLfA5BBL6xa",
        "outputId": "9590bf2b-02f7-4273-fe51-dbc7f2e65bcd"
      },
      "source": [
        "user = 'nishitgala89'\n",
        "repo = 'ProjectDissertation'\n",
        "src_dir = \"Code/utilities\"\n",
        "pyfile = \"morningStarUtilities.py\"\n",
        "\n",
        "url = f\"https://raw.githubusercontent.com/{user}/{repo}/main/{src_dir}/{pyfile}\"\n",
        "!wget --no-cache --backups=1 {url}"
      ],
      "execution_count": 5,
      "outputs": [
        {
          "output_type": "stream",
          "name": "stdout",
          "text": [
            "--2022-01-09 01:28:20--  https://raw.githubusercontent.com/nishitgala89/ProjectDissertation/main/Code/utilities/morningStarUtilities.py\n",
            "Resolving raw.githubusercontent.com (raw.githubusercontent.com)... 185.199.110.133, 185.199.109.133, 185.199.108.133, ...\n",
            "Connecting to raw.githubusercontent.com (raw.githubusercontent.com)|185.199.110.133|:443... connected.\n",
            "HTTP request sent, awaiting response... 200 OK\n",
            "Length: 6484 (6.3K) [text/plain]\n",
            "Failed to rename morningStarUtilities.py to morningStarUtilities.py.1: (2) No such file or directory\n",
            "Saving to: ‘morningStarUtilities.py’\n",
            "\n",
            "\rmorningStarUtilitie   0%[                    ]       0  --.-KB/s               \rmorningStarUtilitie 100%[===================>]   6.33K  --.-KB/s    in 0s      \n",
            "\n",
            "2022-01-09 01:28:20 (37.5 MB/s) - ‘morningStarUtilities.py’ saved [6484/6484]\n",
            "\n"
          ]
        }
      ]
    },
    {
      "cell_type": "code",
      "metadata": {
        "id": "4vIDnFfuNvGz"
      },
      "source": [
        "# import subprocess\n",
        "\n",
        "# result = subprocess.run([\"wget\", \"--no-cache\", \"--backups=1\", url], stderr=subprocess.PIPE, stdout=subprocess.PIPE)\n",
        "# print(result.stderr.decode(\"utf-8\"))\n",
        "\n",
        "import morningStarUtilities"
      ],
      "execution_count": 6,
      "outputs": []
    },
    {
      "cell_type": "markdown",
      "metadata": {
        "id": "F-wcjDaJ8t7Z"
      },
      "source": [
        "### **Import Training Data**"
      ]
    },
    {
      "cell_type": "code",
      "metadata": {
        "id": "wp1s0SmlEhqw"
      },
      "source": [
        "train_df = pd.read_csv(\"https://raw.githubusercontent.com/nishitgala89/ProjectDissertation/main/Datasheets/3_Modelling/morningstar_removedDuplicates_train_withoutLogTransform_withoutM60.csv\").set_index(\"SecId\")"
      ],
      "execution_count": 7,
      "outputs": []
    },
    {
      "cell_type": "markdown",
      "metadata": {
        "id": "RgBksjh6_QMt"
      },
      "source": [
        "### **Import Testing Data**"
      ]
    },
    {
      "cell_type": "code",
      "source": [
        "test_df = pd.read_csv('https://raw.githubusercontent.com/nishitgala89/ProjectDissertation/main/Datasheets/3_Modelling/morningstar_removedDuplicates_test_withoutLogTransform_withoutM60.csv').set_index(\"SecId\")"
      ],
      "metadata": {
        "id": "tgN9gF3dN0mu"
      },
      "execution_count": 8,
      "outputs": []
    },
    {
      "cell_type": "code",
      "metadata": {
        "colab": {
          "base_uri": "https://localhost:8080/"
        },
        "id": "nR8feoTiVC4m",
        "outputId": "57bfa84d-bf2d-4eae-a327-e12e103a459d"
      },
      "source": [
        "train_df.shape, test_df.shape"
      ],
      "execution_count": 9,
      "outputs": [
        {
          "output_type": "execute_result",
          "data": {
            "text/plain": [
              "((886, 34), (296, 34))"
            ]
          },
          "metadata": {},
          "execution_count": 9
        }
      ]
    },
    {
      "cell_type": "markdown",
      "source": [
        "### **Import Unseen Data (Asia Developed Geography) for Model Generalization check**"
      ],
      "metadata": {
        "id": "ICaXQrbb1UnD"
      }
    },
    {
      "cell_type": "code",
      "source": [
        "asia_df = pd.read_csv('https://raw.githubusercontent.com/nishitgala89/ProjectDissertation/main/Datasheets/3_Modelling/Generalization_Check_Asia_Developed.csv').set_index(\"SecId\")\n",
        "asia_df = morningStarUtilities.createSize_InvestmentTypeFeature(asia_df)"
      ],
      "metadata": {
        "id": "GKVrfAri1cIX"
      },
      "execution_count": 10,
      "outputs": []
    },
    {
      "cell_type": "code",
      "source": [
        "asia_df[asia_df.FundTNAV.isnull()]"
      ],
      "metadata": {
        "colab": {
          "base_uri": "https://localhost:8080/",
          "height": 246
        },
        "id": "SZsg4ytQ1npE",
        "outputId": "25328c51-4ff1-44a0-b4dc-ed9bb60facdf"
      },
      "execution_count": 11,
      "outputs": [
        {
          "output_type": "execute_result",
          "data": {
            "text/html": [
              "\n",
              "  <div id=\"df-24ccc182-e1f5-49b3-a88f-23134c0b7c70\">\n",
              "    <div class=\"colab-df-container\">\n",
              "      <div>\n",
              "<style scoped>\n",
              "    .dataframe tbody tr th:only-of-type {\n",
              "        vertical-align: middle;\n",
              "    }\n",
              "\n",
              "    .dataframe tbody tr th {\n",
              "        vertical-align: top;\n",
              "    }\n",
              "\n",
              "    .dataframe thead th {\n",
              "        text-align: right;\n",
              "    }\n",
              "</style>\n",
              "<table border=\"1\" class=\"dataframe\">\n",
              "  <thead>\n",
              "    <tr style=\"text-align: right;\">\n",
              "      <th></th>\n",
              "      <th>Name</th>\n",
              "      <th>StarRatingM255</th>\n",
              "      <th>SustainabilityRank</th>\n",
              "      <th>CategoryName</th>\n",
              "      <th>Yield_M12</th>\n",
              "      <th>GBRReturnW1</th>\n",
              "      <th>GBRReturnM1</th>\n",
              "      <th>GBRReturnM3</th>\n",
              "      <th>GBRReturnM6</th>\n",
              "      <th>GBRReturnM0</th>\n",
              "      <th>GBRReturnM12</th>\n",
              "      <th>GBRReturnM36</th>\n",
              "      <th>GBRReturnM60</th>\n",
              "      <th>MaxFrontEndLoad</th>\n",
              "      <th>OngoingCostActual</th>\n",
              "      <th>TransactionFeeActual</th>\n",
              "      <th>ManagerTenure</th>\n",
              "      <th>FundTNAV</th>\n",
              "      <th>EquityStyleBox</th>\n",
              "      <th>AverageMarketCapital</th>\n",
              "      <th>MorningstarRiskM255</th>\n",
              "      <th>AlphaM36</th>\n",
              "      <th>BetaM36</th>\n",
              "      <th>R2M36</th>\n",
              "      <th>StandardDeviationM36</th>\n",
              "      <th>SharpeM36</th>\n",
              "      <th>ReturnProfilePreservation</th>\n",
              "      <th>ReturnProfileIncome</th>\n",
              "      <th>ReturnProfileHedging</th>\n",
              "      <th>TrackRecordExtension</th>\n",
              "      <th>Size</th>\n",
              "      <th>Style</th>\n",
              "    </tr>\n",
              "    <tr>\n",
              "      <th>SecId</th>\n",
              "      <th></th>\n",
              "      <th></th>\n",
              "      <th></th>\n",
              "      <th></th>\n",
              "      <th></th>\n",
              "      <th></th>\n",
              "      <th></th>\n",
              "      <th></th>\n",
              "      <th></th>\n",
              "      <th></th>\n",
              "      <th></th>\n",
              "      <th></th>\n",
              "      <th></th>\n",
              "      <th></th>\n",
              "      <th></th>\n",
              "      <th></th>\n",
              "      <th></th>\n",
              "      <th></th>\n",
              "      <th></th>\n",
              "      <th></th>\n",
              "      <th></th>\n",
              "      <th></th>\n",
              "      <th></th>\n",
              "      <th></th>\n",
              "      <th></th>\n",
              "      <th></th>\n",
              "      <th></th>\n",
              "      <th></th>\n",
              "      <th></th>\n",
              "      <th></th>\n",
              "      <th></th>\n",
              "      <th></th>\n",
              "    </tr>\n",
              "  </thead>\n",
              "  <tbody>\n",
              "    <tr>\n",
              "      <th>F00001071Q</th>\n",
              "      <td>BIEF Emerging Markets A GBP Acc</td>\n",
              "      <td>4</td>\n",
              "      <td>2</td>\n",
              "      <td>Global Emerging Markets Equity</td>\n",
              "      <td>0.62047</td>\n",
              "      <td>1.43</td>\n",
              "      <td>1.64</td>\n",
              "      <td>-3.35</td>\n",
              "      <td>-7.72</td>\n",
              "      <td>0.09</td>\n",
              "      <td>10.79</td>\n",
              "      <td>10.05</td>\n",
              "      <td>NaN</td>\n",
              "      <td>NaN</td>\n",
              "      <td>1.12</td>\n",
              "      <td>1.17</td>\n",
              "      <td>24.08</td>\n",
              "      <td>NaN</td>\n",
              "      <td>2</td>\n",
              "      <td>28614.24791</td>\n",
              "      <td>4</td>\n",
              "      <td>2.47</td>\n",
              "      <td>1.02</td>\n",
              "      <td>89.7</td>\n",
              "      <td>16.24</td>\n",
              "      <td>0.66</td>\n",
              "      <td>3</td>\n",
              "      <td>1</td>\n",
              "      <td>3.0</td>\n",
              "      <td>False</td>\n",
              "      <td>1</td>\n",
              "      <td>2</td>\n",
              "    </tr>\n",
              "  </tbody>\n",
              "</table>\n",
              "</div>\n",
              "      <button class=\"colab-df-convert\" onclick=\"convertToInteractive('df-24ccc182-e1f5-49b3-a88f-23134c0b7c70')\"\n",
              "              title=\"Convert this dataframe to an interactive table.\"\n",
              "              style=\"display:none;\">\n",
              "        \n",
              "  <svg xmlns=\"http://www.w3.org/2000/svg\" height=\"24px\"viewBox=\"0 0 24 24\"\n",
              "       width=\"24px\">\n",
              "    <path d=\"M0 0h24v24H0V0z\" fill=\"none\"/>\n",
              "    <path d=\"M18.56 5.44l.94 2.06.94-2.06 2.06-.94-2.06-.94-.94-2.06-.94 2.06-2.06.94zm-11 1L8.5 8.5l.94-2.06 2.06-.94-2.06-.94L8.5 2.5l-.94 2.06-2.06.94zm10 10l.94 2.06.94-2.06 2.06-.94-2.06-.94-.94-2.06-.94 2.06-2.06.94z\"/><path d=\"M17.41 7.96l-1.37-1.37c-.4-.4-.92-.59-1.43-.59-.52 0-1.04.2-1.43.59L10.3 9.45l-7.72 7.72c-.78.78-.78 2.05 0 2.83L4 21.41c.39.39.9.59 1.41.59.51 0 1.02-.2 1.41-.59l7.78-7.78 2.81-2.81c.8-.78.8-2.07 0-2.86zM5.41 20L4 18.59l7.72-7.72 1.47 1.35L5.41 20z\"/>\n",
              "  </svg>\n",
              "      </button>\n",
              "      \n",
              "  <style>\n",
              "    .colab-df-container {\n",
              "      display:flex;\n",
              "      flex-wrap:wrap;\n",
              "      gap: 12px;\n",
              "    }\n",
              "\n",
              "    .colab-df-convert {\n",
              "      background-color: #E8F0FE;\n",
              "      border: none;\n",
              "      border-radius: 50%;\n",
              "      cursor: pointer;\n",
              "      display: none;\n",
              "      fill: #1967D2;\n",
              "      height: 32px;\n",
              "      padding: 0 0 0 0;\n",
              "      width: 32px;\n",
              "    }\n",
              "\n",
              "    .colab-df-convert:hover {\n",
              "      background-color: #E2EBFA;\n",
              "      box-shadow: 0px 1px 2px rgba(60, 64, 67, 0.3), 0px 1px 3px 1px rgba(60, 64, 67, 0.15);\n",
              "      fill: #174EA6;\n",
              "    }\n",
              "\n",
              "    [theme=dark] .colab-df-convert {\n",
              "      background-color: #3B4455;\n",
              "      fill: #D2E3FC;\n",
              "    }\n",
              "\n",
              "    [theme=dark] .colab-df-convert:hover {\n",
              "      background-color: #434B5C;\n",
              "      box-shadow: 0px 1px 3px 1px rgba(0, 0, 0, 0.15);\n",
              "      filter: drop-shadow(0px 1px 2px rgba(0, 0, 0, 0.3));\n",
              "      fill: #FFFFFF;\n",
              "    }\n",
              "  </style>\n",
              "\n",
              "      <script>\n",
              "        const buttonEl =\n",
              "          document.querySelector('#df-24ccc182-e1f5-49b3-a88f-23134c0b7c70 button.colab-df-convert');\n",
              "        buttonEl.style.display =\n",
              "          google.colab.kernel.accessAllowed ? 'block' : 'none';\n",
              "\n",
              "        async function convertToInteractive(key) {\n",
              "          const element = document.querySelector('#df-24ccc182-e1f5-49b3-a88f-23134c0b7c70');\n",
              "          const dataTable =\n",
              "            await google.colab.kernel.invokeFunction('convertToInteractive',\n",
              "                                                     [key], {});\n",
              "          if (!dataTable) return;\n",
              "\n",
              "          const docLinkHtml = 'Like what you see? Visit the ' +\n",
              "            '<a target=\"_blank\" href=https://colab.research.google.com/notebooks/data_table.ipynb>data table notebook</a>'\n",
              "            + ' to learn more about interactive tables.';\n",
              "          element.innerHTML = '';\n",
              "          dataTable['output_type'] = 'display_data';\n",
              "          await google.colab.output.renderOutput(dataTable, element);\n",
              "          const docLink = document.createElement('div');\n",
              "          docLink.innerHTML = docLinkHtml;\n",
              "          element.appendChild(docLink);\n",
              "        }\n",
              "      </script>\n",
              "    </div>\n",
              "  </div>\n",
              "  "
            ],
            "text/plain": [
              "                                       Name  StarRatingM255  ...  Size Style\n",
              "SecId                                                        ...            \n",
              "F00001071Q  BIEF Emerging Markets A GBP Acc               4  ...     1     2\n",
              "\n",
              "[1 rows x 32 columns]"
            ]
          },
          "metadata": {},
          "execution_count": 11
        }
      ]
    },
    {
      "cell_type": "code",
      "source": [
        "asia_df.drop(index='F00001071Q',inplace=True)"
      ],
      "metadata": {
        "id": "0ndRHgbZ1qJ_"
      },
      "execution_count": 12,
      "outputs": []
    },
    {
      "cell_type": "markdown",
      "metadata": {
        "id": "H7xIH-gH9wwl"
      },
      "source": [
        "### **Creating runtime variables**"
      ]
    },
    {
      "cell_type": "code",
      "metadata": {
        "colab": {
          "base_uri": "https://localhost:8080/"
        },
        "id": "rDe-0LE772d-",
        "outputId": "2cc019bb-3689-4650-dd15-27d43f8ab641"
      },
      "source": [
        "unique_class_label = list(train_df.StarRatingM255.unique())\n",
        "unique_class_label.sort()\n",
        "unique_class_label"
      ],
      "execution_count": 13,
      "outputs": [
        {
          "output_type": "execute_result",
          "data": {
            "text/plain": [
              "[1, 2, 3, 4, 5]"
            ]
          },
          "metadata": {},
          "execution_count": 13
        }
      ]
    },
    {
      "cell_type": "code",
      "metadata": {
        "id": "SmC4nZnF92cH"
      },
      "source": [
        "cv_val_accuracy = []\n",
        "cv_test_accuracy = []\n",
        "cv_val_f1 = []\n",
        "cv_test_f1 = []"
      ],
      "execution_count": 14,
      "outputs": []
    },
    {
      "cell_type": "code",
      "metadata": {
        "id": "W516HKa997mv"
      },
      "source": [
        "cv_val_acc_mean = []\n",
        "cv_test_acc_mean = []\n",
        "# cv_std = []\n",
        "# cv_bal_mean = []\n",
        "# cv_bal_std = []\n",
        "cv_val_f1_w_mean = []\n",
        "cv_test_f1_w_mean = []"
      ],
      "execution_count": 15,
      "outputs": []
    },
    {
      "cell_type": "markdown",
      "metadata": {
        "id": "qWv0oQrW9jQL"
      },
      "source": [
        "### **Defining Classifiers**"
      ]
    },
    {
      "cell_type": "code",
      "metadata": {
        "id": "vouaJC5ecgyh"
      },
      "source": [
        "# !pip install catboost"
      ],
      "execution_count": 16,
      "outputs": []
    },
    {
      "cell_type": "code",
      "metadata": {
        "id": "lBgQ-F2i9oKi"
      },
      "source": [
        "# # from catboost import CatBoostClassifier\n",
        "# clfs = []\n",
        "# clfs.append(RandomForestClassifier(n_estimators=350,max_depth=8, max_features=0.64,\n",
        "#                                     random_state=rand_state, criterion=\"entropy\"))\n",
        "# clfs.append(XGBClassifier(n_estimators=250, max_depth=10, random_state=rand_state,verbose=1,learning_rate=0.001,\n",
        "#                            verbosity=1,booster='dart', normalize_type='forest', rate_drop = 0.3, subsample = 0.4,\n",
        "#                            objective='multi:softprob'))\n",
        "# clfs.append(BaggingClassifier(base_estimator=LogisticRegression(max_iter=5000, random_state=rand_state),bootstrap_features=False,\n",
        "#                               max_features=0.7,max_samples=0.6, n_estimators=250, n_jobs=-1))\n",
        "# clfs.append(LogisticRegression(max_iter=1000,random_state=rand_state ))\n",
        "# clfs.append(GradientBoostingClassifier(n_estimators= 400,random_state=rand_state,learning_rate=0.005, max_features = 0.64, min_samples_split=10, min_samples_leaf=25))\n",
        "# len(clfs)"
      ],
      "execution_count": 17,
      "outputs": []
    },
    {
      "cell_type": "markdown",
      "source": [
        "#### Weighted Classifiers"
      ],
      "metadata": {
        "id": "Z6nsW8PUcwDH"
      }
    },
    {
      "cell_type": "code",
      "source": [
        "wt_df = train_df.groupby(\"StarRatingM255\")[['GBRReturnM36']].count()\n",
        "wt_df.rename(columns={\"GBRReturnM36\" : \"Class_Samples\"},inplace=True)\n",
        "wt_df"
      ],
      "metadata": {
        "colab": {
          "base_uri": "https://localhost:8080/",
          "height": 237
        },
        "id": "nBbjVJGqc-L5",
        "outputId": "1b177dbc-a1ff-484b-8716-79456947dfc2"
      },
      "execution_count": 18,
      "outputs": [
        {
          "output_type": "execute_result",
          "data": {
            "text/html": [
              "\n",
              "  <div id=\"df-b8419935-60f8-4397-89cd-5e344eaa63df\">\n",
              "    <div class=\"colab-df-container\">\n",
              "      <div>\n",
              "<style scoped>\n",
              "    .dataframe tbody tr th:only-of-type {\n",
              "        vertical-align: middle;\n",
              "    }\n",
              "\n",
              "    .dataframe tbody tr th {\n",
              "        vertical-align: top;\n",
              "    }\n",
              "\n",
              "    .dataframe thead th {\n",
              "        text-align: right;\n",
              "    }\n",
              "</style>\n",
              "<table border=\"1\" class=\"dataframe\">\n",
              "  <thead>\n",
              "    <tr style=\"text-align: right;\">\n",
              "      <th></th>\n",
              "      <th>Class_Samples</th>\n",
              "    </tr>\n",
              "    <tr>\n",
              "      <th>StarRatingM255</th>\n",
              "      <th></th>\n",
              "    </tr>\n",
              "  </thead>\n",
              "  <tbody>\n",
              "    <tr>\n",
              "      <th>1</th>\n",
              "      <td>60</td>\n",
              "    </tr>\n",
              "    <tr>\n",
              "      <th>2</th>\n",
              "      <td>197</td>\n",
              "    </tr>\n",
              "    <tr>\n",
              "      <th>3</th>\n",
              "      <td>320</td>\n",
              "    </tr>\n",
              "    <tr>\n",
              "      <th>4</th>\n",
              "      <td>225</td>\n",
              "    </tr>\n",
              "    <tr>\n",
              "      <th>5</th>\n",
              "      <td>84</td>\n",
              "    </tr>\n",
              "  </tbody>\n",
              "</table>\n",
              "</div>\n",
              "      <button class=\"colab-df-convert\" onclick=\"convertToInteractive('df-b8419935-60f8-4397-89cd-5e344eaa63df')\"\n",
              "              title=\"Convert this dataframe to an interactive table.\"\n",
              "              style=\"display:none;\">\n",
              "        \n",
              "  <svg xmlns=\"http://www.w3.org/2000/svg\" height=\"24px\"viewBox=\"0 0 24 24\"\n",
              "       width=\"24px\">\n",
              "    <path d=\"M0 0h24v24H0V0z\" fill=\"none\"/>\n",
              "    <path d=\"M18.56 5.44l.94 2.06.94-2.06 2.06-.94-2.06-.94-.94-2.06-.94 2.06-2.06.94zm-11 1L8.5 8.5l.94-2.06 2.06-.94-2.06-.94L8.5 2.5l-.94 2.06-2.06.94zm10 10l.94 2.06.94-2.06 2.06-.94-2.06-.94-.94-2.06-.94 2.06-2.06.94z\"/><path d=\"M17.41 7.96l-1.37-1.37c-.4-.4-.92-.59-1.43-.59-.52 0-1.04.2-1.43.59L10.3 9.45l-7.72 7.72c-.78.78-.78 2.05 0 2.83L4 21.41c.39.39.9.59 1.41.59.51 0 1.02-.2 1.41-.59l7.78-7.78 2.81-2.81c.8-.78.8-2.07 0-2.86zM5.41 20L4 18.59l7.72-7.72 1.47 1.35L5.41 20z\"/>\n",
              "  </svg>\n",
              "      </button>\n",
              "      \n",
              "  <style>\n",
              "    .colab-df-container {\n",
              "      display:flex;\n",
              "      flex-wrap:wrap;\n",
              "      gap: 12px;\n",
              "    }\n",
              "\n",
              "    .colab-df-convert {\n",
              "      background-color: #E8F0FE;\n",
              "      border: none;\n",
              "      border-radius: 50%;\n",
              "      cursor: pointer;\n",
              "      display: none;\n",
              "      fill: #1967D2;\n",
              "      height: 32px;\n",
              "      padding: 0 0 0 0;\n",
              "      width: 32px;\n",
              "    }\n",
              "\n",
              "    .colab-df-convert:hover {\n",
              "      background-color: #E2EBFA;\n",
              "      box-shadow: 0px 1px 2px rgba(60, 64, 67, 0.3), 0px 1px 3px 1px rgba(60, 64, 67, 0.15);\n",
              "      fill: #174EA6;\n",
              "    }\n",
              "\n",
              "    [theme=dark] .colab-df-convert {\n",
              "      background-color: #3B4455;\n",
              "      fill: #D2E3FC;\n",
              "    }\n",
              "\n",
              "    [theme=dark] .colab-df-convert:hover {\n",
              "      background-color: #434B5C;\n",
              "      box-shadow: 0px 1px 3px 1px rgba(0, 0, 0, 0.15);\n",
              "      filter: drop-shadow(0px 1px 2px rgba(0, 0, 0, 0.3));\n",
              "      fill: #FFFFFF;\n",
              "    }\n",
              "  </style>\n",
              "\n",
              "      <script>\n",
              "        const buttonEl =\n",
              "          document.querySelector('#df-b8419935-60f8-4397-89cd-5e344eaa63df button.colab-df-convert');\n",
              "        buttonEl.style.display =\n",
              "          google.colab.kernel.accessAllowed ? 'block' : 'none';\n",
              "\n",
              "        async function convertToInteractive(key) {\n",
              "          const element = document.querySelector('#df-b8419935-60f8-4397-89cd-5e344eaa63df');\n",
              "          const dataTable =\n",
              "            await google.colab.kernel.invokeFunction('convertToInteractive',\n",
              "                                                     [key], {});\n",
              "          if (!dataTable) return;\n",
              "\n",
              "          const docLinkHtml = 'Like what you see? Visit the ' +\n",
              "            '<a target=\"_blank\" href=https://colab.research.google.com/notebooks/data_table.ipynb>data table notebook</a>'\n",
              "            + ' to learn more about interactive tables.';\n",
              "          element.innerHTML = '';\n",
              "          dataTable['output_type'] = 'display_data';\n",
              "          await google.colab.output.renderOutput(dataTable, element);\n",
              "          const docLink = document.createElement('div');\n",
              "          docLink.innerHTML = docLinkHtml;\n",
              "          element.appendChild(docLink);\n",
              "        }\n",
              "      </script>\n",
              "    </div>\n",
              "  </div>\n",
              "  "
            ],
            "text/plain": [
              "                Class_Samples\n",
              "StarRatingM255               \n",
              "1                          60\n",
              "2                         197\n",
              "3                         320\n",
              "4                         225\n",
              "5                          84"
            ]
          },
          "metadata": {},
          "execution_count": 18
        }
      ]
    },
    {
      "cell_type": "code",
      "source": [
        "total_samples = train_df.shape[0]\n",
        "no_of_class = len(unique_class_label)\n",
        "def custom_class_wt(individual_class_samples):\n",
        "  return total_samples / (no_of_class * individual_class_samples)\n",
        "\n",
        "class_wt = {}\n",
        "class_wt_0index = {}\n",
        "\n",
        "for index, row in wt_df.iterrows(): \n",
        "  class_wt[index] = custom_class_wt(row['Class_Samples'])\n",
        "  class_wt_0index[index-1] = custom_class_wt(row['Class_Samples'])\n",
        "\n",
        "class_wt , class_wt_0index"
      ],
      "metadata": {
        "colab": {
          "base_uri": "https://localhost:8080/"
        },
        "id": "kVGeUtiLcu8e",
        "outputId": "b8654e7f-950d-4856-fb13-4be7ae4772de"
      },
      "execution_count": 19,
      "outputs": [
        {
          "output_type": "execute_result",
          "data": {
            "text/plain": [
              "({1: 2.953333333333333,\n",
              "  2: 0.899492385786802,\n",
              "  3: 0.55375,\n",
              "  4: 0.7875555555555556,\n",
              "  5: 2.1095238095238096},\n",
              " {0: 2.953333333333333,\n",
              "  1: 0.899492385786802,\n",
              "  2: 0.55375,\n",
              "  3: 0.7875555555555556,\n",
              "  4: 2.1095238095238096})"
            ]
          },
          "metadata": {},
          "execution_count": 19
        }
      ]
    },
    {
      "cell_type": "code",
      "source": [
        "clfs = []\n",
        "clfs.append(RandomForestClassifier(n_estimators=350,max_depth=8, max_features=0.64,\n",
        "                                    random_state=rand_state, criterion=\"entropy\", class_weight=class_wt))\n",
        "clfs.append(XGBClassifier(n_estimators=250, max_depth=10, random_state=rand_state,verbose=1,learning_rate=0.001,\n",
        "                           verbosity=1,booster='dart', normalize_type='forest', rate_drop = 0.3, subsample = 0.4,\n",
        "                           objective='multi:softprob', class_weights=class_wt_0index))\n",
        "clfs.append(BaggingClassifier(base_estimator=LogisticRegression(max_iter=5000, random_state=rand_state, class_weight=class_wt_0index),bootstrap_features=False,\n",
        "                              max_features=0.7,max_samples=0.6, n_estimators=250, n_jobs=-1))\n",
        "clfs.append(LogisticRegression(max_iter=1000,random_state=rand_state,class_weight=class_wt ))\n",
        "clfs.append(GradientBoostingClassifier(n_estimators= 400,random_state=rand_state,learning_rate=0.005, max_features = 0.64, min_samples_split=10, min_samples_leaf=25))\n",
        "len(clfs)"
      ],
      "metadata": {
        "colab": {
          "base_uri": "https://localhost:8080/"
        },
        "id": "NvSogc6_cl02",
        "outputId": "48152477-990b-40ee-f54e-d1589d28cab1"
      },
      "execution_count": 20,
      "outputs": [
        {
          "output_type": "execute_result",
          "data": {
            "text/plain": [
              "5"
            ]
          },
          "metadata": {},
          "execution_count": 20
        }
      ]
    },
    {
      "cell_type": "code",
      "source": [
        "# reg = LogisticRegression(max_iter=500,C=0.08,random_state=rand_state,penalty='l2',solver=\"newton-cg\")\n",
        "#poly = PolynomialFeatures(degree = 2)\n",
        "reg= LinearRegression()"
      ],
      "metadata": {
        "id": "4uEl6xst-HX0"
      },
      "execution_count": 21,
      "outputs": []
    },
    {
      "cell_type": "markdown",
      "metadata": {
        "id": "in9XFcmbvBhX"
      },
      "source": [
        "### **Making 5-fold**"
      ]
    },
    {
      "cell_type": "code",
      "metadata": {
        "id": "4-hj1zzFj5gs"
      },
      "source": [
        "train_df = train_df.reset_index()"
      ],
      "execution_count": 22,
      "outputs": []
    },
    {
      "cell_type": "code",
      "metadata": {
        "id": "wd-d5FTGvCOW"
      },
      "source": [
        "kf = StratifiedKFold(n_splits=k_fold, shuffle=True, random_state=rand_state)\n",
        "train_df[\"kfold\"] = -1\n",
        "for fold, (train_indicies, validation_indicies) in enumerate(kf.split(X=train_df,y=train_df.StarRatingM255)):\n",
        "    train_df.loc[validation_indicies, \"kfold\"] = int(fold)"
      ],
      "execution_count": 23,
      "outputs": []
    },
    {
      "cell_type": "code",
      "source": [
        "train_df.kfold.value_counts()"
      ],
      "metadata": {
        "colab": {
          "base_uri": "https://localhost:8080/"
        },
        "id": "9rk40q3uA6nG",
        "outputId": "f3863233-1200-4a57-9770-92c68510f3fb"
      },
      "execution_count": 24,
      "outputs": [
        {
          "output_type": "execute_result",
          "data": {
            "text/plain": [
              "0    178\n",
              "4    177\n",
              "3    177\n",
              "2    177\n",
              "1    177\n",
              "Name: kfold, dtype: int64"
            ]
          },
          "metadata": {},
          "execution_count": 24
        }
      ]
    },
    {
      "cell_type": "code",
      "source": [
        "trim_folds = np.floor(train_df.shape[0] / k_fold)\n",
        "trim_folds"
      ],
      "metadata": {
        "colab": {
          "base_uri": "https://localhost:8080/"
        },
        "id": "17oXtD8Y8a5V",
        "outputId": "c454cd0e-e6aa-48a2-be80-5f8ebfbf23b7"
      },
      "execution_count": 25,
      "outputs": [
        {
          "output_type": "execute_result",
          "data": {
            "text/plain": [
              "177.0"
            ]
          },
          "metadata": {},
          "execution_count": 25
        }
      ]
    },
    {
      "cell_type": "code",
      "source": [
        "tmp_df = train_df.groupby('kfold')[['SecId']].count() > trim_folds\n",
        "tmp_df.reset_index(inplace=True)\n",
        "tmp_df"
      ],
      "metadata": {
        "colab": {
          "base_uri": "https://localhost:8080/",
          "height": 206
        },
        "id": "u7EJE67c-qL6",
        "outputId": "3558fd3a-083e-4a80-8010-ac945daadf6c"
      },
      "execution_count": 26,
      "outputs": [
        {
          "output_type": "execute_result",
          "data": {
            "text/html": [
              "\n",
              "  <div id=\"df-ec88bf49-c8bd-424c-b691-6fd241448562\">\n",
              "    <div class=\"colab-df-container\">\n",
              "      <div>\n",
              "<style scoped>\n",
              "    .dataframe tbody tr th:only-of-type {\n",
              "        vertical-align: middle;\n",
              "    }\n",
              "\n",
              "    .dataframe tbody tr th {\n",
              "        vertical-align: top;\n",
              "    }\n",
              "\n",
              "    .dataframe thead th {\n",
              "        text-align: right;\n",
              "    }\n",
              "</style>\n",
              "<table border=\"1\" class=\"dataframe\">\n",
              "  <thead>\n",
              "    <tr style=\"text-align: right;\">\n",
              "      <th></th>\n",
              "      <th>kfold</th>\n",
              "      <th>SecId</th>\n",
              "    </tr>\n",
              "  </thead>\n",
              "  <tbody>\n",
              "    <tr>\n",
              "      <th>0</th>\n",
              "      <td>0</td>\n",
              "      <td>True</td>\n",
              "    </tr>\n",
              "    <tr>\n",
              "      <th>1</th>\n",
              "      <td>1</td>\n",
              "      <td>False</td>\n",
              "    </tr>\n",
              "    <tr>\n",
              "      <th>2</th>\n",
              "      <td>2</td>\n",
              "      <td>False</td>\n",
              "    </tr>\n",
              "    <tr>\n",
              "      <th>3</th>\n",
              "      <td>3</td>\n",
              "      <td>False</td>\n",
              "    </tr>\n",
              "    <tr>\n",
              "      <th>4</th>\n",
              "      <td>4</td>\n",
              "      <td>False</td>\n",
              "    </tr>\n",
              "  </tbody>\n",
              "</table>\n",
              "</div>\n",
              "      <button class=\"colab-df-convert\" onclick=\"convertToInteractive('df-ec88bf49-c8bd-424c-b691-6fd241448562')\"\n",
              "              title=\"Convert this dataframe to an interactive table.\"\n",
              "              style=\"display:none;\">\n",
              "        \n",
              "  <svg xmlns=\"http://www.w3.org/2000/svg\" height=\"24px\"viewBox=\"0 0 24 24\"\n",
              "       width=\"24px\">\n",
              "    <path d=\"M0 0h24v24H0V0z\" fill=\"none\"/>\n",
              "    <path d=\"M18.56 5.44l.94 2.06.94-2.06 2.06-.94-2.06-.94-.94-2.06-.94 2.06-2.06.94zm-11 1L8.5 8.5l.94-2.06 2.06-.94-2.06-.94L8.5 2.5l-.94 2.06-2.06.94zm10 10l.94 2.06.94-2.06 2.06-.94-2.06-.94-.94-2.06-.94 2.06-2.06.94z\"/><path d=\"M17.41 7.96l-1.37-1.37c-.4-.4-.92-.59-1.43-.59-.52 0-1.04.2-1.43.59L10.3 9.45l-7.72 7.72c-.78.78-.78 2.05 0 2.83L4 21.41c.39.39.9.59 1.41.59.51 0 1.02-.2 1.41-.59l7.78-7.78 2.81-2.81c.8-.78.8-2.07 0-2.86zM5.41 20L4 18.59l7.72-7.72 1.47 1.35L5.41 20z\"/>\n",
              "  </svg>\n",
              "      </button>\n",
              "      \n",
              "  <style>\n",
              "    .colab-df-container {\n",
              "      display:flex;\n",
              "      flex-wrap:wrap;\n",
              "      gap: 12px;\n",
              "    }\n",
              "\n",
              "    .colab-df-convert {\n",
              "      background-color: #E8F0FE;\n",
              "      border: none;\n",
              "      border-radius: 50%;\n",
              "      cursor: pointer;\n",
              "      display: none;\n",
              "      fill: #1967D2;\n",
              "      height: 32px;\n",
              "      padding: 0 0 0 0;\n",
              "      width: 32px;\n",
              "    }\n",
              "\n",
              "    .colab-df-convert:hover {\n",
              "      background-color: #E2EBFA;\n",
              "      box-shadow: 0px 1px 2px rgba(60, 64, 67, 0.3), 0px 1px 3px 1px rgba(60, 64, 67, 0.15);\n",
              "      fill: #174EA6;\n",
              "    }\n",
              "\n",
              "    [theme=dark] .colab-df-convert {\n",
              "      background-color: #3B4455;\n",
              "      fill: #D2E3FC;\n",
              "    }\n",
              "\n",
              "    [theme=dark] .colab-df-convert:hover {\n",
              "      background-color: #434B5C;\n",
              "      box-shadow: 0px 1px 3px 1px rgba(0, 0, 0, 0.15);\n",
              "      filter: drop-shadow(0px 1px 2px rgba(0, 0, 0, 0.3));\n",
              "      fill: #FFFFFF;\n",
              "    }\n",
              "  </style>\n",
              "\n",
              "      <script>\n",
              "        const buttonEl =\n",
              "          document.querySelector('#df-ec88bf49-c8bd-424c-b691-6fd241448562 button.colab-df-convert');\n",
              "        buttonEl.style.display =\n",
              "          google.colab.kernel.accessAllowed ? 'block' : 'none';\n",
              "\n",
              "        async function convertToInteractive(key) {\n",
              "          const element = document.querySelector('#df-ec88bf49-c8bd-424c-b691-6fd241448562');\n",
              "          const dataTable =\n",
              "            await google.colab.kernel.invokeFunction('convertToInteractive',\n",
              "                                                     [key], {});\n",
              "          if (!dataTable) return;\n",
              "\n",
              "          const docLinkHtml = 'Like what you see? Visit the ' +\n",
              "            '<a target=\"_blank\" href=https://colab.research.google.com/notebooks/data_table.ipynb>data table notebook</a>'\n",
              "            + ' to learn more about interactive tables.';\n",
              "          element.innerHTML = '';\n",
              "          dataTable['output_type'] = 'display_data';\n",
              "          await google.colab.output.renderOutput(dataTable, element);\n",
              "          const docLink = document.createElement('div');\n",
              "          docLink.innerHTML = docLinkHtml;\n",
              "          element.appendChild(docLink);\n",
              "        }\n",
              "      </script>\n",
              "    </div>\n",
              "  </div>\n",
              "  "
            ],
            "text/plain": [
              "   kfold  SecId\n",
              "0      0   True\n",
              "1      1  False\n",
              "2      2  False\n",
              "3      3  False\n",
              "4      4  False"
            ]
          },
          "metadata": {},
          "execution_count": 26
        }
      ]
    },
    {
      "cell_type": "code",
      "metadata": {
        "colab": {
          "base_uri": "https://localhost:8080/"
        },
        "id": "Afid-baVNqtJ",
        "outputId": "125937cc-a481-4a4d-9b83-2fd612e6ad93"
      },
      "source": [
        "index_to_remove = tmp_df[tmp_df.SecId == True].kfold.to_list()\n",
        "index_to_remove\n",
        "len(index_to_remove)"
      ],
      "execution_count": 27,
      "outputs": [
        {
          "output_type": "execute_result",
          "data": {
            "text/plain": [
              "1"
            ]
          },
          "metadata": {},
          "execution_count": 27
        }
      ]
    },
    {
      "cell_type": "code",
      "source": [
        "for m in range(len(index_to_remove)):\n",
        "  remove_index = train_df[(train_df['kfold']== index_to_remove[m] ) & (train_df['StarRatingM255']==3) ].index[0]\n",
        "  train_df.drop(index=remove_index,inplace=True)"
      ],
      "metadata": {
        "id": "bONV4SLP8QPz"
      },
      "execution_count": 28,
      "outputs": []
    },
    {
      "cell_type": "code",
      "metadata": {
        "colab": {
          "base_uri": "https://localhost:8080/"
        },
        "id": "6ca-0AorI1-2",
        "outputId": "a5468d19-e9ad-479f-9fc1-358d5d5c239b"
      },
      "source": [
        "train_df.kfold.value_counts()"
      ],
      "execution_count": 29,
      "outputs": [
        {
          "output_type": "execute_result",
          "data": {
            "text/plain": [
              "4    177\n",
              "3    177\n",
              "2    177\n",
              "1    177\n",
              "0    177\n",
              "Name: kfold, dtype: int64"
            ]
          },
          "metadata": {},
          "execution_count": 29
        }
      ]
    },
    {
      "cell_type": "code",
      "source": [
        "train_df = train_df.set_index(\"SecId\")"
      ],
      "metadata": {
        "id": "uDhMoTc1dWip"
      },
      "execution_count": 30,
      "outputs": []
    },
    {
      "cell_type": "code",
      "metadata": {
        "id": "grVufix0U6AL"
      },
      "source": [
        "scaled_clf = ['LogisticRegression', 'SVC', 'BaggingClassifier']"
      ],
      "execution_count": 31,
      "outputs": []
    },
    {
      "cell_type": "code",
      "metadata": {
        "colab": {
          "base_uri": "https://localhost:8080/"
        },
        "id": "_fiCYfU82t1k",
        "outputId": "ecd410bd-89f9-43a0-865f-4984b5577501"
      },
      "source": [
        "imp_features = ['SustainabilityRank','GBRReturnM12','GBRReturnM6','GBRReturnM0','GBRReturnM36','OngoingCostActual','TransactionFeeActual','FundTNAV',\n",
        "'AverageMarketCapital','MorningstarRiskM255','AlphaM36','BetaM36','StandardDeviationM36','SharpeM36','Size','Style']\n",
        "\n",
        "test_acc_score=[]\n",
        "test_f1_score=[]\n",
        "\n",
        "voting_val_lst=[]\n",
        "voting_test_lst=[]\n",
        "\n",
        "# Contain results for Training and Testing 5 folds CV\n",
        "y_reg_train_lst = []\n",
        "y_reg_test_lst = []\n",
        "\n",
        "for i in range(k_fold):\n",
        "\n",
        "  cv_val_accuracy = []\n",
        "  cv_test_accuracy = []\n",
        "  cv_val_f1 = []\n",
        "  cv_test_f1 = []\n",
        "\n",
        "  clf_test_preds=[]\n",
        "  clf_val_preds=[]\n",
        "  clf_train_preds= []\n",
        "  clf_gen_preds=[]\n",
        "\n",
        "  for clf in clfs:\n",
        "  \n",
        "    X_train = train_df[train_df.kfold != i]\n",
        "    X_Val = train_df[train_df.kfold == i]\n",
        "    \n",
        "    y_train = X_train['StarRatingM255']\n",
        "    X_train = X_train[imp_features]\n",
        "    \n",
        "    y_val = X_Val['StarRatingM255']\n",
        "    X_val = X_Val[imp_features]\n",
        "    \n",
        "    X_test = test_df[imp_features]\n",
        "    y_test = test_df['StarRatingM255']\n",
        "\n",
        "    X_asia = asia_df[imp_features]\n",
        "    y_asia = asia_df['StarRatingM255']\n",
        "\n",
        "\n",
        "    scaler = StandardScaler()\n",
        "    scaler.fit(X_train)\n",
        "    X_train_scaled = scaler.transform(X_train)\n",
        "    X_val_scaled = scaler.transform(X_val)\n",
        "    X_test_scaled = scaler.transform(X_test)\n",
        "    X_asia_scaled = scaler.transform(X_asia)\n",
        "\n",
        "\n",
        "    if clf.__class__.__name__ in scaled_clf:\n",
        "      clf.fit(X_train_scaled,y_train)\n",
        "      val_preds_i_clf = clf.predict(X_val_scaled)\n",
        "      test_preds_i_clf = clf.predict(X_test_scaled)\n",
        "      train_preds_i_clf = clf.predict(X_train_scaled)\n",
        "      gen_preds_i_clf = clf.predict(X_asia_scaled)\n",
        "    else:\n",
        "      clf.fit(X_train,y_train)\n",
        "      val_preds_i_clf = clf.predict(X_val)\n",
        "      test_preds_i_clf = clf.predict(X_test)\n",
        "      train_preds_i_clf = clf.predict(X_train)\n",
        "      gen_preds_i_clf = clf.predict(X_asia)\n",
        "\n",
        "    # Append the Kth fold predictions for all samples for all values of k\n",
        "    #  so if we have 100 samples and 5-fold, this would be 5 folds x 100 samples\n",
        "    clf_train_preds.append(train_preds_i_clf)\n",
        "    clf_test_preds.append(test_preds_i_clf)\n",
        "    clf_val_preds.append(val_preds_i_clf)\n",
        "    clf_gen_preds.append(gen_preds_i_clf)\n",
        "\n",
        " \n",
        "  # Take the K prdiction for each sample, so if we have 100 samples and 5-fold, this would be 100 x 5\n",
        "  val_pred = np.column_stack([p for p in clf_val_preds])\n",
        "  test_pred = np.column_stack([p for p in clf_test_preds])\n",
        "  train_pred = np.column_stack([p for p in clf_train_preds])\n",
        "  gen_pred = np.column_stack([p for p in clf_gen_preds])\n",
        "\n",
        "  train_preds_df = pd.DataFrame(train_pred)\n",
        "  train_preds_df.rename(columns={0:\"RF\", 1:\"XGB\", 2: \"Bagging\", 3: \"LR\", 4:\"Gradient_Boost\"}, inplace=True)\n",
        "  y_train_labels = y_train.reset_index().drop(labels=\"SecId\", axis=1)\n",
        "  train_preds_df['y_train'] = y_train_labels\n",
        "  \n",
        "  val_preds_df = pd.DataFrame(val_pred)\n",
        "  val_preds_df.rename(columns={0:\"RF\", 1:\"XGB\", 2: \"Bagging\", 3: \"LR\", 4:\"Gradient_Boost\"}, inplace=True)\n",
        "  y_val_labels = y_val.reset_index().drop(labels=\"SecId\", axis=1)\n",
        "  val_preds_df['y_val'] = y_val_labels\n",
        "  \n",
        "  test_preds_df = pd.DataFrame(test_pred)\n",
        "  test_preds_df.rename(columns={0:\"RF\", 1:\"XGB\", 2: \"Bagging\", 3: \"LR\", 4:\"Gradient_Boost\"}, inplace=True)\n",
        "  y_test_labels = y_test.reset_index().drop(labels=\"SecId\", axis=1)\n",
        "  test_preds_df['y_test'] = y_test_labels\n",
        "\n",
        "  gen_preds_df = pd.DataFrame(gen_pred)\n",
        "  gen_preds_df.rename(columns={0:\"RF\", 1:\"XGB\", 2: \"Bagging\", 3: \"LR\", 4:\"Gradient_Boost\"}, inplace=True)\n",
        "  y_gen_labels = y_asia.reset_index().drop(labels=\"SecId\", axis=1)\n",
        "  gen_preds_df['y_gen'] = y_gen_labels\n",
        "\n",
        "\n",
        "  X =train_preds_df.drop(labels='y_train', axis=1)\n",
        "  y =  train_preds_df['y_train']\n",
        "  reg.fit(X,y)\n",
        "  print(\"Regression Score for K ={} is {}: \".format(i ,reg.score(X, y)))\n",
        "  y_reg_train_preds = reg.predict(X)\n",
        "  y_reg_train_pred_K = [int(np.round(s)) for s in y_reg_train_preds]\n",
        "  train_preds = np.array(y_reg_train_pred_K)\n",
        "  \n",
        "\n",
        "  X_v =val_preds_df.drop(labels='y_val', axis=1)\n",
        "  y_reg_val_preds = reg.predict(X_v)\n",
        "  y_reg_val_pred_K = [int(np.round(s)) for s in y_reg_val_preds]\n",
        "  val_preds = np.array(y_reg_val_pred_K)\n",
        "  \n",
        "\n",
        "\n",
        "  X_t =test_preds_df.drop(labels='y_test', axis=1)\n",
        "  y_reg_test_preds = reg.predict(X_t)\n",
        "  y_reg_test_pred_K = [int(np.round(s)) for s in y_reg_test_preds]\n",
        "  test_preds = np.array(y_reg_test_pred_K)\n",
        "  \n",
        "  X_g =gen_preds_df.drop(labels='y_gen', axis=1)\n",
        "  y_reg_gen_preds = reg.predict(X_g)\n",
        "  y_reg_gen_pred_K = [int(np.round(s)) for s in y_reg_gen_preds]\n",
        "  gen_preds = np.array(y_reg_gen_pred_K)\n",
        "\n",
        "\n",
        "train_acc = accuracy_score(y_true = y_train, y_pred =train_preds )\n",
        "\n",
        "val_acc = accuracy_score(y_true = y_val, y_pred =val_preds )\n",
        "test_acc = accuracy_score(y_true = y_test, y_pred =test_preds )\n",
        "gen_acc =  accuracy_score(y_true = y_asia, y_pred =gen_preds )\n"
      ],
      "execution_count": 32,
      "outputs": [
        {
          "output_type": "stream",
          "name": "stdout",
          "text": [
            "Regression Score for K =0 is 0.9816176584932402: \n",
            "Regression Score for K =1 is 0.9705828061361597: \n",
            "Regression Score for K =2 is 0.9670242523484256: \n",
            "Regression Score for K =3 is 0.9685196451060967: \n",
            "Regression Score for K =4 is 0.9747484749639435: \n"
          ]
        }
      ]
    },
    {
      "cell_type": "code",
      "source": [
        "val_acc, test_acc, gen_acc"
      ],
      "metadata": {
        "colab": {
          "base_uri": "https://localhost:8080/"
        },
        "id": "l2CskMPpKmje",
        "outputId": "b3a3b2c7-8f28-4b82-8cec-43d927f1f029"
      },
      "execution_count": 33,
      "outputs": [
        {
          "output_type": "execute_result",
          "data": {
            "text/plain": [
              "(0.5423728813559322, 0.4527027027027027, 0.42824074074074076)"
            ]
          },
          "metadata": {},
          "execution_count": 33
        }
      ]
    },
    {
      "cell_type": "code",
      "source": [
        "val_f1 = f1_score(y_true = y_val, y_pred =val_preds,average='weighted' )\n",
        "test_f1 = f1_score(y_true = y_test, y_pred =test_preds,average='weighted' )\n",
        "gen_f1 = f1_score(y_true = y_asia, y_pred = gen_preds,average='weighted' )\n",
        "val_f1, test_f1, gen_f1"
      ],
      "metadata": {
        "colab": {
          "base_uri": "https://localhost:8080/"
        },
        "id": "6HLWHZ8RKLhs",
        "outputId": "15b398e9-9b3d-447c-e89a-1ddd0311be64"
      },
      "execution_count": 34,
      "outputs": [
        {
          "output_type": "execute_result",
          "data": {
            "text/plain": [
              "(0.5406593701467011, 0.4488205388138048, 0.4123720499407583)"
            ]
          },
          "metadata": {},
          "execution_count": 34
        }
      ]
    },
    {
      "cell_type": "code",
      "source": [
        "plot_conf_matrix(y_asia,gen_preds,unique_class_label, title=\"Generalization Check - Confusion Matrix for Stacked Model using Stacked Model\")"
      ],
      "metadata": {
        "colab": {
          "base_uri": "https://localhost:8080/",
          "height": 281
        },
        "id": "wFLKioRd5BgU",
        "outputId": "fe02345d-3cb9-4d22-a7f7-0de18bec3ff4"
      },
      "execution_count": 35,
      "outputs": [
        {
          "output_type": "display_data",
          "data": {
            "image/png": "[encoded data removed]",
            "text/plain": [
              "<Figure size 360x288 with 2 Axes>"
            ]
          },
          "metadata": {
            "needs_background": "light"
          }
        }
      ]
    },
    {
      "cell_type": "code",
      "source": [
        "plot_conf_matrix(y_test,test_preds,unique_class_label, title=\"Testing Check - Confusion Matrix for Stacked Model using Stacked Model\")"
      ],
      "metadata": {
        "colab": {
          "base_uri": "https://localhost:8080/",
          "height": 281
        },
        "id": "mkazhLmc5pkk",
        "outputId": "dccd7b43-3e9f-43b7-fee6-f38f9ef25cc5"
      },
      "execution_count": 36,
      "outputs": [
        {
          "output_type": "display_data",
          "data": {
            "image/png": "[encoded data removed]",
            "text/plain": [
              "<Figure size 360x288 with 2 Axes>"
            ]
          },
          "metadata": {
            "needs_background": "light"
          }
        }
      ]
    }
  ]
}