{
  "nbformat": 4,
  "nbformat_minor": 0,
  "metadata": {
    "colab": {
      "name": "MorningStar_RemovedDuplicates_Modelling_without_class_weights_Final_v2.ipynb",
      "provenance": [],
      "collapsed_sections": []
    },
    "kernelspec": {
      "name": "python3",
      "display_name": "Python 3"
    },
    "language_info": {
      "name": "python"
    }
  },
  "cells": [
    {
      "cell_type": "markdown",
      "metadata": {
        "id": "eeazHRS71neh"
      },
      "source": [
        "###**Mounting Google Drive**"
      ]
    },
    {
      "cell_type": "code",
      "metadata": {
        "id": "g6DZ90-rEagh"
      },
      "source": [
        "# from google.colab import drive\n",
        "# drive.mount('/content/drive')"
      ],
      "execution_count": 30,
      "outputs": []
    },
    {
      "cell_type": "markdown",
      "source": [
        "### **Global Settings**"
      ],
      "metadata": {
        "id": "6Z-89a3zwerb"
      }
    },
    {
      "cell_type": "code",
      "metadata": {
        "id": "ZcDgOpziTLgo"
      },
      "source": [
        "rand_state = 42 # 4\n",
        "\n",
        "# 1 for Manual KFOLD, 0 for CROSS_VAL_SCORE FUNCTION\n",
        "KFOLD_SELECTION = 0"
      ],
      "execution_count": 31,
      "outputs": []
    },
    {
      "cell_type": "markdown",
      "metadata": {
        "id": "is2MxjpD5mog"
      },
      "source": [
        "###**Import Libraries**"
      ]
    },
    {
      "cell_type": "code",
      "metadata": {
        "id": "5PGgVZfRChJL"
      },
      "source": [
        "from google.colab import files\n",
        "import pandas as pd\n",
        "import numpy as np\n",
        "import matplotlib.pyplot as plt\n",
        "import seaborn as sns\n",
        "from sklearn.linear_model import LogisticRegression\n",
        "from sklearn.svm import SVC\n",
        "from sklearn.tree import DecisionTreeClassifier\n",
        "from xgboost import XGBClassifier\n",
        "from sklearn.model_selection import train_test_split\n",
        "from sklearn.ensemble import RandomForestClassifier\n",
        "from sklearn.ensemble import BaggingClassifier\n",
        "from sklearn.ensemble import GradientBoostingClassifier\n",
        "from sklearn.model_selection import StratifiedKFold,cross_val_score,KFold,StratifiedKFold\n",
        "from sklearn.metrics import accuracy_score,f1_score\n",
        "from sklearn.preprocessing import StandardScaler,MinMaxScaler"
      ],
      "execution_count": 32,
      "outputs": []
    },
    {
      "cell_type": "code",
      "metadata": {
        "id": "AXxoO94N5TTS"
      },
      "source": [
        "from sklearn.metrics import confusion_matrix\n",
        "def plot_conf_matrix(y_test,y_pred,uniqueclassLabel, title=\"CMatrix\"):\n",
        "  cm = confusion_matrix(y_true=y_test,y_pred=y_pred,labels=uniqueclassLabel)\n",
        "  plt.figure(figsize=(5,4))\n",
        "  plt.title(title)\n",
        "  #ax = plt.subplot()\n",
        "  sns.heatmap(cm, annot=True,cmap='Blues',\n",
        "              yticklabels=uniqueclassLabel,xticklabels=uniqueclassLabel,fmt='3g')"
      ],
      "execution_count": 33,
      "outputs": []
    },
    {
      "cell_type": "markdown",
      "metadata": {
        "id": "6nv-BCDw7Roe"
      },
      "source": [
        "###**Import Utility File**"
      ]
    },
    {
      "cell_type": "code",
      "metadata": {
        "id": "eTu1q8Gh6ckf"
      },
      "source": [
        "# import sys\n",
        "# path = \"/content/drive/MyDrive/Colab Notebooks/Project_Dissertation\"\n",
        "# sys.path.insert(0,path + \"/Code\")\n",
        "# import morningStarUtilities"
      ],
      "execution_count": 34,
      "outputs": []
    },
    {
      "cell_type": "code",
      "metadata": {
        "colab": {
          "base_uri": "https://localhost:8080/"
        },
        "id": "BlLfA5BBL6xa",
        "outputId": "186abbf7-532d-4114-e892-1847eccf33d3"
      },
      "source": [
        "user = 'nishitgala89'\n",
        "repo = 'ProjectDissertation'\n",
        "src_dir = \"Code/utilities\"\n",
        "pyfile = \"morningStarUtilities.py\"\n",
        "\n",
        "url = f\"https://raw.githubusercontent.com/{user}/{repo}/main/{src_dir}/{pyfile}\"\n",
        "!wget --no-cache --backups=1 {url}"
      ],
      "execution_count": 35,
      "outputs": [
        {
          "output_type": "stream",
          "name": "stdout",
          "text": [
            "--2022-01-04 09:56:56--  https://raw.githubusercontent.com/nishitgala89/ProjectDissertation/main/Code/utilities/morningStarUtilities.py\n",
            "Resolving raw.githubusercontent.com (raw.githubusercontent.com)... 185.199.108.133, 185.199.109.133, 185.199.110.133, ...\n",
            "Connecting to raw.githubusercontent.com (raw.githubusercontent.com)|185.199.108.133|:443... connected.\n",
            "HTTP request sent, awaiting response... 200 OK\n",
            "Length: 6484 (6.3K) [text/plain]\n",
            "Saving to: ‘morningStarUtilities.py’\n",
            "\n",
            "\rmorningStarUtilitie   0%[                    ]       0  --.-KB/s               \rmorningStarUtilitie 100%[===================>]   6.33K  --.-KB/s    in 0s      \n",
            "\n",
            "2022-01-04 09:56:56 (83.9 MB/s) - ‘morningStarUtilities.py’ saved [6484/6484]\n",
            "\n"
          ]
        }
      ]
    },
    {
      "cell_type": "code",
      "metadata": {
        "id": "4vIDnFfuNvGz"
      },
      "source": [
        "# import subprocess\n",
        "\n",
        "# result = subprocess.run([\"wget\", \"--no-cache\", \"--backups=1\", url], stderr=subprocess.PIPE, stdout=subprocess.PIPE)\n",
        "# print(result.stderr.decode(\"utf-8\"))\n",
        "\n",
        "import morningStarUtilities"
      ],
      "execution_count": 36,
      "outputs": []
    },
    {
      "cell_type": "code",
      "metadata": {
        "id": "g4QymRe3NwA8"
      },
      "source": [
        ""
      ],
      "execution_count": 36,
      "outputs": []
    },
    {
      "cell_type": "markdown",
      "metadata": {
        "id": "F-wcjDaJ8t7Z"
      },
      "source": [
        "### **Import Training Data**"
      ]
    },
    {
      "cell_type": "code",
      "metadata": {
        "id": "LpS5-NC88vzy"
      },
      "source": [
        "# uploaded = files.upload()\n",
        "# train_df = pd.read_csv(io.BytesIO(uploaded['morningstar_removedDuplicates_train_withoutM60.csv']))\n",
        "# train_df = pd.read_csv(path + \"/Data/Final_without_missing_values/morningstar_removedDuplicates_train_withoutLogTransform_withoutM60.csv\").set_index(\"SecId\")\n",
        "train_df = pd.read_csv(\"https://raw.githubusercontent.com/nishitgala89/ProjectDissertation/main/Datasheets/3_Modelling/morningstar_removedDuplicates_train_withoutLogTransform_withoutM60.csv\").set_index(\"SecId\")"
      ],
      "execution_count": 37,
      "outputs": []
    },
    {
      "cell_type": "markdown",
      "metadata": {
        "id": "RgBksjh6_QMt"
      },
      "source": [
        "### **Import Testing Data**"
      ]
    },
    {
      "cell_type": "code",
      "metadata": {
        "id": "OKzcGENX_TNv"
      },
      "source": [
        "# uploaded = files.upload()\n",
        "# test_df = pd.read_csv(io.BytesIO(uploaded['morningstar_removedDuplicates_test_withoutM60.csv']))\n",
        "#test_df = pd.read_csv(path + \"/Data/Final_without_missing_values/morningstar_removedDuplicates_test_withoutLogTransform_withoutM60.csv\").set_index(\"SecId\")\n",
        "test_df = pd.read_csv('https://raw.githubusercontent.com/nishitgala89/ProjectDissertation/main/Datasheets/3_Modelling/morningstar_removedDuplicates_test_withoutLogTransform_withoutM60.csv').set_index(\"SecId\")"
      ],
      "execution_count": 38,
      "outputs": []
    },
    {
      "cell_type": "code",
      "metadata": {
        "colab": {
          "base_uri": "https://localhost:8080/",
          "height": 1000
        },
        "id": "xVspq5V8MJ31",
        "outputId": "d4dbb1a0-a32f-4e2c-80f6-18bd3f7fe644"
      },
      "source": [
        "train_df"
      ],
      "execution_count": 39,
      "outputs": [
        {
          "output_type": "execute_result",
          "data": {
            "text/html": [
              "\n",
              "  <div id=\"df-abdb9d17-f705-4007-80ec-ddcc6a4f88b1\">\n",
              "    <div class=\"colab-df-container\">\n",
              "      <div>\n",
              "<style scoped>\n",
              "    .dataframe tbody tr th:only-of-type {\n",
              "        vertical-align: middle;\n",
              "    }\n",
              "\n",
              "    .dataframe tbody tr th {\n",
              "        vertical-align: top;\n",
              "    }\n",
              "\n",
              "    .dataframe thead th {\n",
              "        text-align: right;\n",
              "    }\n",
              "</style>\n",
              "<table border=\"1\" class=\"dataframe\">\n",
              "  <thead>\n",
              "    <tr style=\"text-align: right;\">\n",
              "      <th></th>\n",
              "      <th>Name</th>\n",
              "      <th>StarRatingM255</th>\n",
              "      <th>SustainabilityRank</th>\n",
              "      <th>Yield_M12</th>\n",
              "      <th>GBRReturnW1</th>\n",
              "      <th>GBRReturnM1</th>\n",
              "      <th>GBRReturnM3</th>\n",
              "      <th>GBRReturnM6</th>\n",
              "      <th>GBRReturnM0</th>\n",
              "      <th>GBRReturnM12</th>\n",
              "      <th>GBRReturnM36</th>\n",
              "      <th>MaxFrontEndLoad</th>\n",
              "      <th>OngoingCostActual</th>\n",
              "      <th>TransactionFeeActual</th>\n",
              "      <th>ManagerTenure</th>\n",
              "      <th>FundTNAV</th>\n",
              "      <th>AverageMarketCapital</th>\n",
              "      <th>MorningstarRiskM255</th>\n",
              "      <th>AlphaM36</th>\n",
              "      <th>BetaM36</th>\n",
              "      <th>R2M36</th>\n",
              "      <th>StandardDeviationM36</th>\n",
              "      <th>SharpeM36</th>\n",
              "      <th>ReturnProfilePreservation</th>\n",
              "      <th>ReturnProfileIncome</th>\n",
              "      <th>ReturnProfileHedging</th>\n",
              "      <th>TrackRecordExtension</th>\n",
              "      <th>Cat_Flex-Cap</th>\n",
              "      <th>Cat_Income</th>\n",
              "      <th>Cat_Large-Cap</th>\n",
              "      <th>Cat_Mid_Small-Cap</th>\n",
              "      <th>Cat_Miscellaneous</th>\n",
              "      <th>Size</th>\n",
              "      <th>Style</th>\n",
              "    </tr>\n",
              "    <tr>\n",
              "      <th>SecId</th>\n",
              "      <th></th>\n",
              "      <th></th>\n",
              "      <th></th>\n",
              "      <th></th>\n",
              "      <th></th>\n",
              "      <th></th>\n",
              "      <th></th>\n",
              "      <th></th>\n",
              "      <th></th>\n",
              "      <th></th>\n",
              "      <th></th>\n",
              "      <th></th>\n",
              "      <th></th>\n",
              "      <th></th>\n",
              "      <th></th>\n",
              "      <th></th>\n",
              "      <th></th>\n",
              "      <th></th>\n",
              "      <th></th>\n",
              "      <th></th>\n",
              "      <th></th>\n",
              "      <th></th>\n",
              "      <th></th>\n",
              "      <th></th>\n",
              "      <th></th>\n",
              "      <th></th>\n",
              "      <th></th>\n",
              "      <th></th>\n",
              "      <th></th>\n",
              "      <th></th>\n",
              "      <th></th>\n",
              "      <th></th>\n",
              "      <th></th>\n",
              "      <th></th>\n",
              "    </tr>\n",
              "  </thead>\n",
              "  <tbody>\n",
              "    <tr>\n",
              "      <th>F000005ETU</th>\n",
              "      <td>Barings Europe Select A EUR Acc</td>\n",
              "      <td>3</td>\n",
              "      <td>4</td>\n",
              "      <td>0.0</td>\n",
              "      <td>0.85</td>\n",
              "      <td>5.10</td>\n",
              "      <td>9.42</td>\n",
              "      <td>21.86</td>\n",
              "      <td>16.19</td>\n",
              "      <td>38.51</td>\n",
              "      <td>9.65</td>\n",
              "      <td>5.00</td>\n",
              "      <td>1.55</td>\n",
              "      <td>0.34</td>\n",
              "      <td>16.67</td>\n",
              "      <td>1.429875e+09</td>\n",
              "      <td>3978.65175</td>\n",
              "      <td>2</td>\n",
              "      <td>0.16</td>\n",
              "      <td>0.88</td>\n",
              "      <td>96.29</td>\n",
              "      <td>17.05</td>\n",
              "      <td>0.57</td>\n",
              "      <td>3</td>\n",
              "      <td>3</td>\n",
              "      <td>3.0</td>\n",
              "      <td>0</td>\n",
              "      <td>0</td>\n",
              "      <td>0</td>\n",
              "      <td>0</td>\n",
              "      <td>1</td>\n",
              "      <td>0</td>\n",
              "      <td>2</td>\n",
              "      <td>3</td>\n",
              "    </tr>\n",
              "    <tr>\n",
              "      <th>F0GBR061MQ</th>\n",
              "      <td>Schroder ISF Sust Swiss Eq C Acc CHF</td>\n",
              "      <td>2</td>\n",
              "      <td>2</td>\n",
              "      <td>0.0</td>\n",
              "      <td>1.93</td>\n",
              "      <td>8.73</td>\n",
              "      <td>10.76</td>\n",
              "      <td>18.20</td>\n",
              "      <td>14.37</td>\n",
              "      <td>27.85</td>\n",
              "      <td>6.80</td>\n",
              "      <td>1.00</td>\n",
              "      <td>1.06</td>\n",
              "      <td>0.08</td>\n",
              "      <td>15.83</td>\n",
              "      <td>3.204443e+07</td>\n",
              "      <td>29776.97728</td>\n",
              "      <td>4</td>\n",
              "      <td>-7.08</td>\n",
              "      <td>1.10</td>\n",
              "      <td>85.04</td>\n",
              "      <td>12.23</td>\n",
              "      <td>0.57</td>\n",
              "      <td>2</td>\n",
              "      <td>3</td>\n",
              "      <td>3.0</td>\n",
              "      <td>0</td>\n",
              "      <td>0</td>\n",
              "      <td>0</td>\n",
              "      <td>0</td>\n",
              "      <td>0</td>\n",
              "      <td>1</td>\n",
              "      <td>1</td>\n",
              "      <td>2</td>\n",
              "    </tr>\n",
              "    <tr>\n",
              "      <th>F00000ZS1K</th>\n",
              "      <td>Berenberg European Small Cap B</td>\n",
              "      <td>5</td>\n",
              "      <td>2</td>\n",
              "      <td>0.0</td>\n",
              "      <td>0.15</td>\n",
              "      <td>2.60</td>\n",
              "      <td>11.32</td>\n",
              "      <td>25.96</td>\n",
              "      <td>17.16</td>\n",
              "      <td>51.01</td>\n",
              "      <td>19.50</td>\n",
              "      <td>0.00</td>\n",
              "      <td>0.24</td>\n",
              "      <td>0.23</td>\n",
              "      <td>3.67</td>\n",
              "      <td>6.737833e+08</td>\n",
              "      <td>1698.74791</td>\n",
              "      <td>3</td>\n",
              "      <td>10.19</td>\n",
              "      <td>0.99</td>\n",
              "      <td>86.05</td>\n",
              "      <td>21.60</td>\n",
              "      <td>0.92</td>\n",
              "      <td>3</td>\n",
              "      <td>3</td>\n",
              "      <td>3.0</td>\n",
              "      <td>0</td>\n",
              "      <td>0</td>\n",
              "      <td>0</td>\n",
              "      <td>0</td>\n",
              "      <td>1</td>\n",
              "      <td>0</td>\n",
              "      <td>3</td>\n",
              "      <td>3</td>\n",
              "    </tr>\n",
              "    <tr>\n",
              "      <th>F000000ITQ</th>\n",
              "      <td>Candriam Eqs L Eurp Optm Qual I EUR Cap</td>\n",
              "      <td>3</td>\n",
              "      <td>4</td>\n",
              "      <td>0.0</td>\n",
              "      <td>0.79</td>\n",
              "      <td>1.74</td>\n",
              "      <td>7.45</td>\n",
              "      <td>11.52</td>\n",
              "      <td>9.99</td>\n",
              "      <td>21.32</td>\n",
              "      <td>7.40</td>\n",
              "      <td>0.00</td>\n",
              "      <td>0.75</td>\n",
              "      <td>0.22</td>\n",
              "      <td>7.17</td>\n",
              "      <td>8.404491e+08</td>\n",
              "      <td>20347.16148</td>\n",
              "      <td>1</td>\n",
              "      <td>-3.22</td>\n",
              "      <td>0.92</td>\n",
              "      <td>93.88</td>\n",
              "      <td>12.45</td>\n",
              "      <td>0.55</td>\n",
              "      <td>2</td>\n",
              "      <td>3</td>\n",
              "      <td>3.0</td>\n",
              "      <td>0</td>\n",
              "      <td>0</td>\n",
              "      <td>0</td>\n",
              "      <td>1</td>\n",
              "      <td>0</td>\n",
              "      <td>0</td>\n",
              "      <td>1</td>\n",
              "      <td>3</td>\n",
              "    </tr>\n",
              "    <tr>\n",
              "      <th>F00000SX9M</th>\n",
              "      <td>Janus Henderson INTECH EurpCor A2 EUR</td>\n",
              "      <td>5</td>\n",
              "      <td>3</td>\n",
              "      <td>0.0</td>\n",
              "      <td>0.66</td>\n",
              "      <td>4.99</td>\n",
              "      <td>9.64</td>\n",
              "      <td>20.98</td>\n",
              "      <td>17.27</td>\n",
              "      <td>37.58</td>\n",
              "      <td>8.79</td>\n",
              "      <td>5.00</td>\n",
              "      <td>1.75</td>\n",
              "      <td>1.05</td>\n",
              "      <td>7.42</td>\n",
              "      <td>1.182744e+08</td>\n",
              "      <td>17329.54942</td>\n",
              "      <td>3</td>\n",
              "      <td>1.56</td>\n",
              "      <td>0.95</td>\n",
              "      <td>92.89</td>\n",
              "      <td>15.08</td>\n",
              "      <td>0.54</td>\n",
              "      <td>3</td>\n",
              "      <td>3</td>\n",
              "      <td>3.0</td>\n",
              "      <td>0</td>\n",
              "      <td>0</td>\n",
              "      <td>0</td>\n",
              "      <td>1</td>\n",
              "      <td>0</td>\n",
              "      <td>0</td>\n",
              "      <td>1</td>\n",
              "      <td>2</td>\n",
              "    </tr>\n",
              "    <tr>\n",
              "      <th>...</th>\n",
              "      <td>...</td>\n",
              "      <td>...</td>\n",
              "      <td>...</td>\n",
              "      <td>...</td>\n",
              "      <td>...</td>\n",
              "      <td>...</td>\n",
              "      <td>...</td>\n",
              "      <td>...</td>\n",
              "      <td>...</td>\n",
              "      <td>...</td>\n",
              "      <td>...</td>\n",
              "      <td>...</td>\n",
              "      <td>...</td>\n",
              "      <td>...</td>\n",
              "      <td>...</td>\n",
              "      <td>...</td>\n",
              "      <td>...</td>\n",
              "      <td>...</td>\n",
              "      <td>...</td>\n",
              "      <td>...</td>\n",
              "      <td>...</td>\n",
              "      <td>...</td>\n",
              "      <td>...</td>\n",
              "      <td>...</td>\n",
              "      <td>...</td>\n",
              "      <td>...</td>\n",
              "      <td>...</td>\n",
              "      <td>...</td>\n",
              "      <td>...</td>\n",
              "      <td>...</td>\n",
              "      <td>...</td>\n",
              "      <td>...</td>\n",
              "      <td>...</td>\n",
              "      <td>...</td>\n",
              "    </tr>\n",
              "    <tr>\n",
              "      <th>F00000XH8D</th>\n",
              "      <td>ASSII-Europ Focus Eq B Acc GBP</td>\n",
              "      <td>3</td>\n",
              "      <td>3</td>\n",
              "      <td>0.0</td>\n",
              "      <td>0.82</td>\n",
              "      <td>3.94</td>\n",
              "      <td>3.87</td>\n",
              "      <td>7.06</td>\n",
              "      <td>5.43</td>\n",
              "      <td>21.80</td>\n",
              "      <td>4.88</td>\n",
              "      <td>5.00</td>\n",
              "      <td>1.03</td>\n",
              "      <td>0.40</td>\n",
              "      <td>1.92</td>\n",
              "      <td>1.041660e+07</td>\n",
              "      <td>34607.87874</td>\n",
              "      <td>3</td>\n",
              "      <td>-1.06</td>\n",
              "      <td>0.99</td>\n",
              "      <td>91.43</td>\n",
              "      <td>16.16</td>\n",
              "      <td>0.36</td>\n",
              "      <td>2</td>\n",
              "      <td>3</td>\n",
              "      <td>3.0</td>\n",
              "      <td>0</td>\n",
              "      <td>0</td>\n",
              "      <td>0</td>\n",
              "      <td>1</td>\n",
              "      <td>0</td>\n",
              "      <td>0</td>\n",
              "      <td>1</td>\n",
              "      <td>3</td>\n",
              "    </tr>\n",
              "    <tr>\n",
              "      <th>F0GBR04BDY</th>\n",
              "      <td>MS INVF European Property A</td>\n",
              "      <td>1</td>\n",
              "      <td>5</td>\n",
              "      <td>0.0</td>\n",
              "      <td>1.71</td>\n",
              "      <td>6.65</td>\n",
              "      <td>15.12</td>\n",
              "      <td>20.83</td>\n",
              "      <td>18.35</td>\n",
              "      <td>29.84</td>\n",
              "      <td>1.29</td>\n",
              "      <td>5.75</td>\n",
              "      <td>1.65</td>\n",
              "      <td>0.26</td>\n",
              "      <td>23.75</td>\n",
              "      <td>3.776127e+07</td>\n",
              "      <td>4036.57364</td>\n",
              "      <td>5</td>\n",
              "      <td>-4.73</td>\n",
              "      <td>1.33</td>\n",
              "      <td>89.06</td>\n",
              "      <td>24.26</td>\n",
              "      <td>0.10</td>\n",
              "      <td>3</td>\n",
              "      <td>1</td>\n",
              "      <td>3.0</td>\n",
              "      <td>0</td>\n",
              "      <td>0</td>\n",
              "      <td>0</td>\n",
              "      <td>0</td>\n",
              "      <td>0</td>\n",
              "      <td>1</td>\n",
              "      <td>2</td>\n",
              "      <td>1</td>\n",
              "    </tr>\n",
              "    <tr>\n",
              "      <th>F0GBR04SFG</th>\n",
              "      <td>MSMM European Small Cap A</td>\n",
              "      <td>2</td>\n",
              "      <td>3</td>\n",
              "      <td>0.0</td>\n",
              "      <td>-0.06</td>\n",
              "      <td>0.54</td>\n",
              "      <td>9.39</td>\n",
              "      <td>24.04</td>\n",
              "      <td>18.01</td>\n",
              "      <td>43.01</td>\n",
              "      <td>5.45</td>\n",
              "      <td>5.00</td>\n",
              "      <td>2.13</td>\n",
              "      <td>0.59</td>\n",
              "      <td>2.25</td>\n",
              "      <td>5.323047e+07</td>\n",
              "      <td>2464.49043</td>\n",
              "      <td>4</td>\n",
              "      <td>-3.74</td>\n",
              "      <td>1.05</td>\n",
              "      <td>98.54</td>\n",
              "      <td>20.81</td>\n",
              "      <td>0.31</td>\n",
              "      <td>2</td>\n",
              "      <td>2</td>\n",
              "      <td>2.0</td>\n",
              "      <td>0</td>\n",
              "      <td>0</td>\n",
              "      <td>0</td>\n",
              "      <td>0</td>\n",
              "      <td>1</td>\n",
              "      <td>0</td>\n",
              "      <td>2</td>\n",
              "      <td>2</td>\n",
              "    </tr>\n",
              "    <tr>\n",
              "      <th>F00000033J</th>\n",
              "      <td>Nordea 1 - Nordic Equity Small Cp BP EUR</td>\n",
              "      <td>3</td>\n",
              "      <td>4</td>\n",
              "      <td>0.0</td>\n",
              "      <td>-0.44</td>\n",
              "      <td>3.03</td>\n",
              "      <td>8.50</td>\n",
              "      <td>20.58</td>\n",
              "      <td>12.96</td>\n",
              "      <td>54.59</td>\n",
              "      <td>19.63</td>\n",
              "      <td>5.00</td>\n",
              "      <td>1.80</td>\n",
              "      <td>0.24</td>\n",
              "      <td>14.42</td>\n",
              "      <td>1.340372e+08</td>\n",
              "      <td>969.39463</td>\n",
              "      <td>2</td>\n",
              "      <td>4.58</td>\n",
              "      <td>0.93</td>\n",
              "      <td>93.14</td>\n",
              "      <td>20.33</td>\n",
              "      <td>0.95</td>\n",
              "      <td>3</td>\n",
              "      <td>3</td>\n",
              "      <td>3.0</td>\n",
              "      <td>0</td>\n",
              "      <td>0</td>\n",
              "      <td>0</td>\n",
              "      <td>0</td>\n",
              "      <td>1</td>\n",
              "      <td>0</td>\n",
              "      <td>3</td>\n",
              "      <td>2</td>\n",
              "    </tr>\n",
              "    <tr>\n",
              "      <th>F00000M89N</th>\n",
              "      <td>Alken Absolute Return Europe K</td>\n",
              "      <td>1</td>\n",
              "      <td>3</td>\n",
              "      <td>0.0</td>\n",
              "      <td>-0.53</td>\n",
              "      <td>0.42</td>\n",
              "      <td>3.94</td>\n",
              "      <td>8.12</td>\n",
              "      <td>7.88</td>\n",
              "      <td>2.41</td>\n",
              "      <td>-3.86</td>\n",
              "      <td>3.00</td>\n",
              "      <td>2.03</td>\n",
              "      <td>0.67</td>\n",
              "      <td>10.42</td>\n",
              "      <td>1.277086e+08</td>\n",
              "      <td>6674.20618</td>\n",
              "      <td>3</td>\n",
              "      <td>-6.21</td>\n",
              "      <td>0.34</td>\n",
              "      <td>38.25</td>\n",
              "      <td>9.00</td>\n",
              "      <td>-0.53</td>\n",
              "      <td>3</td>\n",
              "      <td>3</td>\n",
              "      <td>3.0</td>\n",
              "      <td>0</td>\n",
              "      <td>0</td>\n",
              "      <td>0</td>\n",
              "      <td>0</td>\n",
              "      <td>0</td>\n",
              "      <td>1</td>\n",
              "      <td>2</td>\n",
              "      <td>2</td>\n",
              "    </tr>\n",
              "  </tbody>\n",
              "</table>\n",
              "<p>886 rows × 34 columns</p>\n",
              "</div>\n",
              "      <button class=\"colab-df-convert\" onclick=\"convertToInteractive('df-abdb9d17-f705-4007-80ec-ddcc6a4f88b1')\"\n",
              "              title=\"Convert this dataframe to an interactive table.\"\n",
              "              style=\"display:none;\">\n",
              "        \n",
              "  <svg xmlns=\"http://www.w3.org/2000/svg\" height=\"24px\"viewBox=\"0 0 24 24\"\n",
              "       width=\"24px\">\n",
              "    <path d=\"M0 0h24v24H0V0z\" fill=\"none\"/>\n",
              "    <path d=\"M18.56 5.44l.94 2.06.94-2.06 2.06-.94-2.06-.94-.94-2.06-.94 2.06-2.06.94zm-11 1L8.5 8.5l.94-2.06 2.06-.94-2.06-.94L8.5 2.5l-.94 2.06-2.06.94zm10 10l.94 2.06.94-2.06 2.06-.94-2.06-.94-.94-2.06-.94 2.06-2.06.94z\"/><path d=\"M17.41 7.96l-1.37-1.37c-.4-.4-.92-.59-1.43-.59-.52 0-1.04.2-1.43.59L10.3 9.45l-7.72 7.72c-.78.78-.78 2.05 0 2.83L4 21.41c.39.39.9.59 1.41.59.51 0 1.02-.2 1.41-.59l7.78-7.78 2.81-2.81c.8-.78.8-2.07 0-2.86zM5.41 20L4 18.59l7.72-7.72 1.47 1.35L5.41 20z\"/>\n",
              "  </svg>\n",
              "      </button>\n",
              "      \n",
              "  <style>\n",
              "    .colab-df-container {\n",
              "      display:flex;\n",
              "      flex-wrap:wrap;\n",
              "      gap: 12px;\n",
              "    }\n",
              "\n",
              "    .colab-df-convert {\n",
              "      background-color: #E8F0FE;\n",
              "      border: none;\n",
              "      border-radius: 50%;\n",
              "      cursor: pointer;\n",
              "      display: none;\n",
              "      fill: #1967D2;\n",
              "      height: 32px;\n",
              "      padding: 0 0 0 0;\n",
              "      width: 32px;\n",
              "    }\n",
              "\n",
              "    .colab-df-convert:hover {\n",
              "      background-color: #E2EBFA;\n",
              "      box-shadow: 0px 1px 2px rgba(60, 64, 67, 0.3), 0px 1px 3px 1px rgba(60, 64, 67, 0.15);\n",
              "      fill: #174EA6;\n",
              "    }\n",
              "\n",
              "    [theme=dark] .colab-df-convert {\n",
              "      background-color: #3B4455;\n",
              "      fill: #D2E3FC;\n",
              "    }\n",
              "\n",
              "    [theme=dark] .colab-df-convert:hover {\n",
              "      background-color: #434B5C;\n",
              "      box-shadow: 0px 1px 3px 1px rgba(0, 0, 0, 0.15);\n",
              "      filter: drop-shadow(0px 1px 2px rgba(0, 0, 0, 0.3));\n",
              "      fill: #FFFFFF;\n",
              "    }\n",
              "  </style>\n",
              "\n",
              "      <script>\n",
              "        const buttonEl =\n",
              "          document.querySelector('#df-abdb9d17-f705-4007-80ec-ddcc6a4f88b1 button.colab-df-convert');\n",
              "        buttonEl.style.display =\n",
              "          google.colab.kernel.accessAllowed ? 'block' : 'none';\n",
              "\n",
              "        async function convertToInteractive(key) {\n",
              "          const element = document.querySelector('#df-abdb9d17-f705-4007-80ec-ddcc6a4f88b1');\n",
              "          const dataTable =\n",
              "            await google.colab.kernel.invokeFunction('convertToInteractive',\n",
              "                                                     [key], {});\n",
              "          if (!dataTable) return;\n",
              "\n",
              "          const docLinkHtml = 'Like what you see? Visit the ' +\n",
              "            '<a target=\"_blank\" href=https://colab.research.google.com/notebooks/data_table.ipynb>data table notebook</a>'\n",
              "            + ' to learn more about interactive tables.';\n",
              "          element.innerHTML = '';\n",
              "          dataTable['output_type'] = 'display_data';\n",
              "          await google.colab.output.renderOutput(dataTable, element);\n",
              "          const docLink = document.createElement('div');\n",
              "          docLink.innerHTML = docLinkHtml;\n",
              "          element.appendChild(docLink);\n",
              "        }\n",
              "      </script>\n",
              "    </div>\n",
              "  </div>\n",
              "  "
            ],
            "text/plain": [
              "                                                Name  ...  Style\n",
              "SecId                                                 ...       \n",
              "F000005ETU           Barings Europe Select A EUR Acc  ...      3\n",
              "F0GBR061MQ      Schroder ISF Sust Swiss Eq C Acc CHF  ...      2\n",
              "F00000ZS1K            Berenberg European Small Cap B  ...      3\n",
              "F000000ITQ   Candriam Eqs L Eurp Optm Qual I EUR Cap  ...      3\n",
              "F00000SX9M     Janus Henderson INTECH EurpCor A2 EUR  ...      2\n",
              "...                                              ...  ...    ...\n",
              "F00000XH8D            ASSII-Europ Focus Eq B Acc GBP  ...      3\n",
              "F0GBR04BDY               MS INVF European Property A  ...      1\n",
              "F0GBR04SFG                 MSMM European Small Cap A  ...      2\n",
              "F00000033J  Nordea 1 - Nordic Equity Small Cp BP EUR  ...      2\n",
              "F00000M89N            Alken Absolute Return Europe K  ...      2\n",
              "\n",
              "[886 rows x 34 columns]"
            ]
          },
          "metadata": {},
          "execution_count": 39
        }
      ]
    },
    {
      "cell_type": "code",
      "metadata": {
        "colab": {
          "base_uri": "https://localhost:8080/",
          "height": 237
        },
        "id": "DMwiYbLZJRsS",
        "outputId": "773e6cd6-c484-4b01-a079-bc27e96ddcd3"
      },
      "source": [
        "train_df.groupby(\"StarRatingM255\")['GBRReturnM36'].agg(['mean','min','max'])"
      ],
      "execution_count": 40,
      "outputs": [
        {
          "output_type": "execute_result",
          "data": {
            "text/html": [
              "\n",
              "  <div id=\"df-2359e69e-49ca-4080-a4cd-a93874305af5\">\n",
              "    <div class=\"colab-df-container\">\n",
              "      <div>\n",
              "<style scoped>\n",
              "    .dataframe tbody tr th:only-of-type {\n",
              "        vertical-align: middle;\n",
              "    }\n",
              "\n",
              "    .dataframe tbody tr th {\n",
              "        vertical-align: top;\n",
              "    }\n",
              "\n",
              "    .dataframe thead th {\n",
              "        text-align: right;\n",
              "    }\n",
              "</style>\n",
              "<table border=\"1\" class=\"dataframe\">\n",
              "  <thead>\n",
              "    <tr style=\"text-align: right;\">\n",
              "      <th></th>\n",
              "      <th>mean</th>\n",
              "      <th>min</th>\n",
              "      <th>max</th>\n",
              "    </tr>\n",
              "    <tr>\n",
              "      <th>StarRatingM255</th>\n",
              "      <th></th>\n",
              "      <th></th>\n",
              "      <th></th>\n",
              "    </tr>\n",
              "  </thead>\n",
              "  <tbody>\n",
              "    <tr>\n",
              "      <th>1</th>\n",
              "      <td>0.522333</td>\n",
              "      <td>-11.74</td>\n",
              "      <td>8.57</td>\n",
              "    </tr>\n",
              "    <tr>\n",
              "      <th>2</th>\n",
              "      <td>3.529188</td>\n",
              "      <td>-4.60</td>\n",
              "      <td>14.50</td>\n",
              "    </tr>\n",
              "    <tr>\n",
              "      <th>3</th>\n",
              "      <td>6.013062</td>\n",
              "      <td>-3.30</td>\n",
              "      <td>19.63</td>\n",
              "    </tr>\n",
              "    <tr>\n",
              "      <th>4</th>\n",
              "      <td>7.636444</td>\n",
              "      <td>1.06</td>\n",
              "      <td>20.11</td>\n",
              "    </tr>\n",
              "    <tr>\n",
              "      <th>5</th>\n",
              "      <td>10.041905</td>\n",
              "      <td>1.75</td>\n",
              "      <td>21.59</td>\n",
              "    </tr>\n",
              "  </tbody>\n",
              "</table>\n",
              "</div>\n",
              "      <button class=\"colab-df-convert\" onclick=\"convertToInteractive('df-2359e69e-49ca-4080-a4cd-a93874305af5')\"\n",
              "              title=\"Convert this dataframe to an interactive table.\"\n",
              "              style=\"display:none;\">\n",
              "        \n",
              "  <svg xmlns=\"http://www.w3.org/2000/svg\" height=\"24px\"viewBox=\"0 0 24 24\"\n",
              "       width=\"24px\">\n",
              "    <path d=\"M0 0h24v24H0V0z\" fill=\"none\"/>\n",
              "    <path d=\"M18.56 5.44l.94 2.06.94-2.06 2.06-.94-2.06-.94-.94-2.06-.94 2.06-2.06.94zm-11 1L8.5 8.5l.94-2.06 2.06-.94-2.06-.94L8.5 2.5l-.94 2.06-2.06.94zm10 10l.94 2.06.94-2.06 2.06-.94-2.06-.94-.94-2.06-.94 2.06-2.06.94z\"/><path d=\"M17.41 7.96l-1.37-1.37c-.4-.4-.92-.59-1.43-.59-.52 0-1.04.2-1.43.59L10.3 9.45l-7.72 7.72c-.78.78-.78 2.05 0 2.83L4 21.41c.39.39.9.59 1.41.59.51 0 1.02-.2 1.41-.59l7.78-7.78 2.81-2.81c.8-.78.8-2.07 0-2.86zM5.41 20L4 18.59l7.72-7.72 1.47 1.35L5.41 20z\"/>\n",
              "  </svg>\n",
              "      </button>\n",
              "      \n",
              "  <style>\n",
              "    .colab-df-container {\n",
              "      display:flex;\n",
              "      flex-wrap:wrap;\n",
              "      gap: 12px;\n",
              "    }\n",
              "\n",
              "    .colab-df-convert {\n",
              "      background-color: #E8F0FE;\n",
              "      border: none;\n",
              "      border-radius: 50%;\n",
              "      cursor: pointer;\n",
              "      display: none;\n",
              "      fill: #1967D2;\n",
              "      height: 32px;\n",
              "      padding: 0 0 0 0;\n",
              "      width: 32px;\n",
              "    }\n",
              "\n",
              "    .colab-df-convert:hover {\n",
              "      background-color: #E2EBFA;\n",
              "      box-shadow: 0px 1px 2px rgba(60, 64, 67, 0.3), 0px 1px 3px 1px rgba(60, 64, 67, 0.15);\n",
              "      fill: #174EA6;\n",
              "    }\n",
              "\n",
              "    [theme=dark] .colab-df-convert {\n",
              "      background-color: #3B4455;\n",
              "      fill: #D2E3FC;\n",
              "    }\n",
              "\n",
              "    [theme=dark] .colab-df-convert:hover {\n",
              "      background-color: #434B5C;\n",
              "      box-shadow: 0px 1px 3px 1px rgba(0, 0, 0, 0.15);\n",
              "      filter: drop-shadow(0px 1px 2px rgba(0, 0, 0, 0.3));\n",
              "      fill: #FFFFFF;\n",
              "    }\n",
              "  </style>\n",
              "\n",
              "      <script>\n",
              "        const buttonEl =\n",
              "          document.querySelector('#df-2359e69e-49ca-4080-a4cd-a93874305af5 button.colab-df-convert');\n",
              "        buttonEl.style.display =\n",
              "          google.colab.kernel.accessAllowed ? 'block' : 'none';\n",
              "\n",
              "        async function convertToInteractive(key) {\n",
              "          const element = document.querySelector('#df-2359e69e-49ca-4080-a4cd-a93874305af5');\n",
              "          const dataTable =\n",
              "            await google.colab.kernel.invokeFunction('convertToInteractive',\n",
              "                                                     [key], {});\n",
              "          if (!dataTable) return;\n",
              "\n",
              "          const docLinkHtml = 'Like what you see? Visit the ' +\n",
              "            '<a target=\"_blank\" href=https://colab.research.google.com/notebooks/data_table.ipynb>data table notebook</a>'\n",
              "            + ' to learn more about interactive tables.';\n",
              "          element.innerHTML = '';\n",
              "          dataTable['output_type'] = 'display_data';\n",
              "          await google.colab.output.renderOutput(dataTable, element);\n",
              "          const docLink = document.createElement('div');\n",
              "          docLink.innerHTML = docLinkHtml;\n",
              "          element.appendChild(docLink);\n",
              "        }\n",
              "      </script>\n",
              "    </div>\n",
              "  </div>\n",
              "  "
            ],
            "text/plain": [
              "                     mean    min    max\n",
              "StarRatingM255                         \n",
              "1                0.522333 -11.74   8.57\n",
              "2                3.529188  -4.60  14.50\n",
              "3                6.013062  -3.30  19.63\n",
              "4                7.636444   1.06  20.11\n",
              "5               10.041905   1.75  21.59"
            ]
          },
          "metadata": {},
          "execution_count": 40
        }
      ]
    },
    {
      "cell_type": "markdown",
      "metadata": {
        "id": "_T4GGYnf6tUB"
      },
      "source": [
        "### **Defining Training, Testing varibales**"
      ]
    },
    {
      "cell_type": "code",
      "metadata": {
        "id": "Gu7xuE_PBS9A"
      },
      "source": [
        "# imp_features = ['SustainabilityRank','GBRReturnM1','GBRReturnM3','GBRReturnM0','GBRReturnM12','GBRReturnM36','OngoingCostActual','TransactionFeeActual','FundTNAV',\n",
        "# 'AverageMarketCapital','MorningstarRiskM255','AlphaM36','BetaM36','R2M36','StandardDeviationM36','ManagerTenure','SharpeM36','Size','Style']\n",
        "imp_features = ['SustainabilityRank','GBRReturnM1','GBRReturnM3','GBRReturnM0','GBRReturnM36','OngoingCostActual','TransactionFeeActual','FundTNAV',\n",
        "'AverageMarketCapital','MorningstarRiskM255','AlphaM36','BetaM36','StandardDeviationM36','SharpeM36','Size','Style']\n",
        "X_train = train_df[imp_features]\n",
        "y_train = train_df['StarRatingM255']\n",
        "\n",
        "X_test = test_df[imp_features]\n",
        "y_test = test_df['StarRatingM255']"
      ],
      "execution_count": 41,
      "outputs": []
    },
    {
      "cell_type": "code",
      "metadata": {
        "colab": {
          "base_uri": "https://localhost:8080/"
        },
        "id": "4XTYcqhHBR9I",
        "outputId": "97999b7d-97f5-4bb3-8f2a-bdd7e58cb1d1"
      },
      "source": [
        "X_train.shape, y_train.shape"
      ],
      "execution_count": 42,
      "outputs": [
        {
          "output_type": "execute_result",
          "data": {
            "text/plain": [
              "((886, 16), (886,))"
            ]
          },
          "metadata": {},
          "execution_count": 42
        }
      ]
    },
    {
      "cell_type": "code",
      "metadata": {
        "id": "F9h3zNLt6sp4"
      },
      "source": [
        "# X_train = train_df.drop(['StarRatingM255','Name'],axis=1)\n",
        "# y_train = train_df[['StarRatingM255']]\n",
        "# X_test = test_df.drop(['StarRatingM255','Name'],axis=1)\n",
        "# y_test = test_df[['StarRatingM255']]\n",
        "# X_train.shape, y_train.shape, X_test.shape, y_test.shape"
      ],
      "execution_count": 43,
      "outputs": []
    },
    {
      "cell_type": "markdown",
      "metadata": {
        "id": "-7XMS96relKM"
      },
      "source": [
        "### **Scaling the Data**"
      ]
    },
    {
      "cell_type": "code",
      "metadata": {
        "id": "ZPhgNmDZeqBr"
      },
      "source": [
        "scaler = StandardScaler()\n",
        "scaler.fit(X_train)\n",
        "X_train_scaled = scaler.transform(X_train)\n",
        "X_test_scaled = scaler.transform(X_test)"
      ],
      "execution_count": 44,
      "outputs": []
    },
    {
      "cell_type": "markdown",
      "metadata": {
        "id": "d_xfktBW7XKR"
      },
      "source": [
        "### **Verify the Training and Testing distribution as per Target Variable**"
      ]
    },
    {
      "cell_type": "code",
      "metadata": {
        "colab": {
          "base_uri": "https://localhost:8080/",
          "height": 292
        },
        "id": "Dl4C6CPu7eMA",
        "outputId": "1422034f-8476-462d-bf8c-01a7cf970e28"
      },
      "source": [
        "morningStarUtilities.displayBarSubPlots([train_df,test_df],[\"Training Distribution\", \"Testing Distribution\"],\n",
        "                   \"StarRatingM255\")"
      ],
      "execution_count": 45,
      "outputs": [
        {
          "output_type": "display_data",
          "data": {
            "image/png": "[encoded data removed]",
            "text/plain": [
              "<Figure size 1080x288 with 2 Axes>"
            ]
          },
          "metadata": {
            "needs_background": "light"
          }
        }
      ]
    },
    {
      "cell_type": "markdown",
      "metadata": {
        "id": "H7xIH-gH9wwl"
      },
      "source": [
        "### **Creating runtime variables**"
      ]
    },
    {
      "cell_type": "code",
      "metadata": {
        "colab": {
          "base_uri": "https://localhost:8080/"
        },
        "id": "rDe-0LE772d-",
        "outputId": "51ec5ed1-c8e9-470f-e494-c0ad99e78e37"
      },
      "source": [
        "unique_class_label = list(train_df.StarRatingM255.unique())\n",
        "unique_class_label.sort()\n",
        "unique_class_label"
      ],
      "execution_count": 46,
      "outputs": [
        {
          "output_type": "execute_result",
          "data": {
            "text/plain": [
              "[1, 2, 3, 4, 5]"
            ]
          },
          "metadata": {},
          "execution_count": 46
        }
      ]
    },
    {
      "cell_type": "code",
      "metadata": {
        "id": "SmC4nZnF92cH"
      },
      "source": [
        "cv_accuracy_metrics = []\n",
        "cv_balanced_metrics = []\n",
        "cv_f1_metrics = []"
      ],
      "execution_count": 47,
      "outputs": []
    },
    {
      "cell_type": "code",
      "metadata": {
        "id": "W516HKa997mv"
      },
      "source": [
        "cv_mean = []\n",
        "cv_std = []\n",
        "cv_bal_mean = []\n",
        "cv_bal_std = []\n",
        "f1_w_mean = []\n",
        "f1_w_std = []"
      ],
      "execution_count": 48,
      "outputs": []
    },
    {
      "cell_type": "markdown",
      "metadata": {
        "id": "qWv0oQrW9jQL"
      },
      "source": [
        "### **Defining Classifiers**"
      ]
    },
    {
      "cell_type": "code",
      "metadata": {
        "colab": {
          "base_uri": "https://localhost:8080/"
        },
        "id": "vouaJC5ecgyh",
        "outputId": "0802f7c2-d8e3-465f-9745-25d9f1c59213"
      },
      "source": [
        "!pip install catboost"
      ],
      "execution_count": 49,
      "outputs": [
        {
          "output_type": "stream",
          "name": "stdout",
          "text": [
            "Requirement already satisfied: catboost in /usr/local/lib/python3.7/dist-packages (1.0.3)\n",
            "Requirement already satisfied: plotly in /usr/local/lib/python3.7/dist-packages (from catboost) (4.4.1)\n",
            "Requirement already satisfied: six in /usr/local/lib/python3.7/dist-packages (from catboost) (1.15.0)\n",
            "Requirement already satisfied: numpy>=1.16.0 in /usr/local/lib/python3.7/dist-packages (from catboost) (1.19.5)\n",
            "Requirement already satisfied: graphviz in /usr/local/lib/python3.7/dist-packages (from catboost) (0.10.1)\n",
            "Requirement already satisfied: matplotlib in /usr/local/lib/python3.7/dist-packages (from catboost) (3.2.2)\n",
            "Requirement already satisfied: scipy in /usr/local/lib/python3.7/dist-packages (from catboost) (1.4.1)\n",
            "Requirement already satisfied: pandas>=0.24.0 in /usr/local/lib/python3.7/dist-packages (from catboost) (1.1.5)\n",
            "Requirement already satisfied: pytz>=2017.2 in /usr/local/lib/python3.7/dist-packages (from pandas>=0.24.0->catboost) (2018.9)\n",
            "Requirement already satisfied: python-dateutil>=2.7.3 in /usr/local/lib/python3.7/dist-packages (from pandas>=0.24.0->catboost) (2.8.2)\n",
            "Requirement already satisfied: pyparsing!=2.0.4,!=2.1.2,!=2.1.6,>=2.0.1 in /usr/local/lib/python3.7/dist-packages (from matplotlib->catboost) (3.0.6)\n",
            "Requirement already satisfied: kiwisolver>=1.0.1 in /usr/local/lib/python3.7/dist-packages (from matplotlib->catboost) (1.3.2)\n",
            "Requirement already satisfied: cycler>=0.10 in /usr/local/lib/python3.7/dist-packages (from matplotlib->catboost) (0.11.0)\n",
            "Requirement already satisfied: retrying>=1.3.3 in /usr/local/lib/python3.7/dist-packages (from plotly->catboost) (1.3.3)\n"
          ]
        }
      ]
    },
    {
      "cell_type": "code",
      "metadata": {
        "id": "lBgQ-F2i9oKi",
        "colab": {
          "base_uri": "https://localhost:8080/"
        },
        "outputId": "db9b95f4-12fc-4d8a-abe2-ba794c8670e6"
      },
      "source": [
        "from catboost import CatBoostClassifier\n",
        "clfs = []\n",
        "# clfs.append(RandomForestClassifier(n_estimators=250,max_depth=10, max_features='sqrt',\n",
        "#                                    random_state=rand_state, criterion=\"gini\"))\n",
        "clfs.append(RandomForestClassifier(n_estimators=350,max_depth=8, max_features=0.64,\n",
        "                                    random_state=rand_state, criterion=\"gini\"))\n",
        "clfs.append(CatBoostClassifier(verbose=False, random_state=rand_state, learning_rate=0.05, loss_function='MultiClass',\n",
        "                               n_estimators =150))\n",
        "clfs.append(XGBClassifier(n_estimators=250, max_depth=10, random_state=rand_state,verbose=1,learning_rate=0.001,\n",
        "                          verbosity=1,booster='dart', normalize_type='forest', rate_drop = 0.3, subsample = 0.4,\n",
        "                          objective='multi:softprob'))\n",
        "clfs.append(BaggingClassifier(base_estimator=LogisticRegression(max_iter=5000, random_state=rand_state),bootstrap_features=False,\n",
        "                             max_features=0.7,max_samples=0.6, n_estimators=250, n_jobs=-1))\n",
        "clfs.append(LogisticRegression(max_iter=1000,random_state=rand_state ))\n",
        "clfs.append(SVC(probability=True, random_state=rand_state,C=10, kernel='rbf', gamma='auto'))\n",
        "clfs.append(GradientBoostingClassifier(n_estimators= 400,random_state=rand_state,learning_rate=0.005, max_features = 0.64, min_samples_split=10, min_samples_leaf=25))\n",
        "len(clfs)"
      ],
      "execution_count": 50,
      "outputs": [
        {
          "output_type": "execute_result",
          "data": {
            "text/plain": [
              "7"
            ]
          },
          "metadata": {},
          "execution_count": 50
        }
      ]
    },
    {
      "cell_type": "code",
      "metadata": {
        "colab": {
          "base_uri": "https://localhost:8080/"
        },
        "id": "76Y6Qxx0heMd",
        "outputId": "17f432c6-b4c1-41e0-eb9b-932074efe480"
      },
      "source": [
        "for clf in clfs:\n",
        "  print(clf.__class__.__name__)"
      ],
      "execution_count": 51,
      "outputs": [
        {
          "output_type": "stream",
          "name": "stdout",
          "text": [
            "RandomForestClassifier\n",
            "CatBoostClassifier\n",
            "XGBClassifier\n",
            "BaggingClassifier\n",
            "LogisticRegression\n",
            "SVC\n",
            "GradientBoostingClassifier\n"
          ]
        }
      ]
    },
    {
      "cell_type": "code",
      "metadata": {
        "id": "JML25r1vnJS-"
      },
      "source": [
        "scaled_clf = ['LogisticRegression', 'SVC', 'BaggingClassifier']\n",
        "test_acc_score=[]\n",
        "test_f1_score=[]\n",
        "clfList = [clf.__class__.__name__  for clf in clfs]\n"
      ],
      "execution_count": 52,
      "outputs": []
    },
    {
      "cell_type": "markdown",
      "metadata": {
        "id": "VTICflcA-JIH"
      },
      "source": [
        "### **5-Fold Cross Validation**"
      ]
    },
    {
      "cell_type": "code",
      "metadata": {
        "colab": {
          "base_uri": "https://localhost:8080/"
        },
        "id": "brkcfUTL-IHS",
        "outputId": "97e6ac8a-e8ab-49f6-9f1a-c10c1eea0cca"
      },
      "source": [
        "if KFOLD_SELECTION == 0 :\n",
        "  skf = StratifiedKFold(n_splits=5, random_state=rand_state, shuffle=True)\n",
        "  for clf in clfs:\n",
        "    if clf.__class__.__name__  in scaled_clf:\n",
        "      cv_accuracy_metrics.append(cross_val_score(clf, X_train_scaled, y_train, scoring = 'accuracy',\n",
        "                                        cv = skf,verbose=2,n_jobs=-1))\n",
        "      cv_balanced_metrics.append(cross_val_score(clf, X_train_scaled, y_train, scoring = 'balanced_accuracy', \n",
        "                                        cv = skf,verbose=2,n_jobs=-1))\n",
        "      cv_f1_metrics.append(cross_val_score(clf, X_train_scaled, y_train, scoring = 'f1_weighted', \n",
        "                                        cv = skf,verbose=2,n_jobs=-1))\n",
        "    \n",
        "    else:\n",
        "\n",
        "      cv_accuracy_metrics.append(cross_val_score(clf, X_train, y_train, scoring = 'accuracy',\n",
        "                                        cv = skf,verbose=2,n_jobs=-1))\n",
        "      cv_balanced_metrics.append(cross_val_score(clf, X_train, y_train, scoring = 'balanced_accuracy', \n",
        "                                        cv = skf,verbose=2,n_jobs=-1))\n",
        "      cv_f1_metrics.append(cross_val_score(clf, X_train, y_train, scoring = 'f1_weighted', \n",
        "                                        cv = skf,verbose=2,n_jobs=-1))\n",
        "  for clf_result in cv_accuracy_metrics:\n",
        "    cv_mean.append(clf_result.mean())\n",
        "    cv_std.append(clf_result.std())\n",
        "\n",
        "  for clf_result in cv_balanced_metrics:\n",
        "    cv_bal_mean.append(clf_result.mean())\n",
        "    cv_bal_std.append(clf_result.std())\n",
        "\n",
        "  for clf_result in cv_f1_metrics:\n",
        "    f1_w_mean.append(clf_result.mean())\n",
        "    f1_w_std.append(clf_result.std())\n",
        "\n",
        "  result_df = pd.DataFrame({'Classifier' :  [clf.__class__.__name__  for clf in clfs],\n",
        "                            'CV_Accuracy Mean': cv_mean,'CV_Accuracy Std' : cv_std,\n",
        "                            'CV_Bal_Accuracy Mean': cv_bal_mean,'CV_Bal_Accuracy Std' : cv_bal_std,\n",
        "                            'CV_f1_weighted Mean': f1_w_mean,'V_f1_weighted Std' : f1_w_std\n",
        "                            })\n",
        "\n",
        "  result_df.sort_values(by='CV_Accuracy Mean',ascending=False, ignore_index=False)\n",
        "  result_df"
      ],
      "execution_count": 53,
      "outputs": [
        {
          "output_type": "stream",
          "name": "stderr",
          "text": [
            "[Parallel(n_jobs=-1)]: Using backend LokyBackend with 2 concurrent workers.\n",
            "[Parallel(n_jobs=-1)]: Done   5 out of   5 | elapsed:   10.2s remaining:    0.0s\n",
            "[Parallel(n_jobs=-1)]: Done   5 out of   5 | elapsed:   10.2s finished\n",
            "[Parallel(n_jobs=-1)]: Using backend LokyBackend with 2 concurrent workers.\n",
            "[Parallel(n_jobs=-1)]: Done   5 out of   5 | elapsed:   10.5s remaining:    0.0s\n",
            "[Parallel(n_jobs=-1)]: Done   5 out of   5 | elapsed:   10.5s finished\n",
            "[Parallel(n_jobs=-1)]: Using backend LokyBackend with 2 concurrent workers.\n",
            "[Parallel(n_jobs=-1)]: Done   5 out of   5 | elapsed:   10.5s remaining:    0.0s\n",
            "[Parallel(n_jobs=-1)]: Done   5 out of   5 | elapsed:   10.5s finished\n",
            "[Parallel(n_jobs=-1)]: Using backend LokyBackend with 2 concurrent workers.\n",
            "[Parallel(n_jobs=-1)]: Done   5 out of   5 | elapsed:    9.7s remaining:    0.0s\n",
            "[Parallel(n_jobs=-1)]: Done   5 out of   5 | elapsed:    9.7s finished\n",
            "[Parallel(n_jobs=-1)]: Using backend LokyBackend with 2 concurrent workers.\n",
            "[Parallel(n_jobs=-1)]: Done   5 out of   5 | elapsed:    8.5s remaining:    0.0s\n",
            "[Parallel(n_jobs=-1)]: Done   5 out of   5 | elapsed:    8.5s finished\n",
            "[Parallel(n_jobs=-1)]: Using backend LokyBackend with 2 concurrent workers.\n",
            "[Parallel(n_jobs=-1)]: Done   5 out of   5 | elapsed:    8.6s remaining:    0.0s\n",
            "[Parallel(n_jobs=-1)]: Done   5 out of   5 | elapsed:    8.6s finished\n",
            "[Parallel(n_jobs=-1)]: Using backend LokyBackend with 2 concurrent workers.\n",
            "[Parallel(n_jobs=-1)]: Done   5 out of   5 | elapsed:   45.5s remaining:    0.0s\n",
            "[Parallel(n_jobs=-1)]: Done   5 out of   5 | elapsed:   45.5s finished\n",
            "[Parallel(n_jobs=-1)]: Using backend LokyBackend with 2 concurrent workers.\n",
            "[Parallel(n_jobs=-1)]: Done   5 out of   5 | elapsed:   45.8s remaining:    0.0s\n",
            "[Parallel(n_jobs=-1)]: Done   5 out of   5 | elapsed:   45.8s finished\n",
            "[Parallel(n_jobs=-1)]: Using backend LokyBackend with 2 concurrent workers.\n",
            "[Parallel(n_jobs=-1)]: Done   5 out of   5 | elapsed:   46.5s remaining:    0.0s\n",
            "[Parallel(n_jobs=-1)]: Done   5 out of   5 | elapsed:   46.5s finished\n",
            "[Parallel(n_jobs=-1)]: Using backend LokyBackend with 2 concurrent workers.\n",
            "[Parallel(n_jobs=-1)]: Done   5 out of   5 | elapsed:   35.4s remaining:    0.0s\n",
            "[Parallel(n_jobs=-1)]: Done   5 out of   5 | elapsed:   35.4s finished\n",
            "[Parallel(n_jobs=-1)]: Using backend LokyBackend with 2 concurrent workers.\n",
            "[Parallel(n_jobs=-1)]: Done   5 out of   5 | elapsed:   35.0s remaining:    0.0s\n",
            "[Parallel(n_jobs=-1)]: Done   5 out of   5 | elapsed:   35.0s finished\n",
            "[Parallel(n_jobs=-1)]: Using backend LokyBackend with 2 concurrent workers.\n",
            "[Parallel(n_jobs=-1)]: Done   5 out of   5 | elapsed:   35.3s remaining:    0.0s\n",
            "[Parallel(n_jobs=-1)]: Done   5 out of   5 | elapsed:   35.3s finished\n",
            "[Parallel(n_jobs=-1)]: Using backend LokyBackend with 2 concurrent workers.\n",
            "[Parallel(n_jobs=-1)]: Done   5 out of   5 | elapsed:    0.2s remaining:    0.0s\n",
            "[Parallel(n_jobs=-1)]: Done   5 out of   5 | elapsed:    0.2s finished\n",
            "[Parallel(n_jobs=-1)]: Using backend LokyBackend with 2 concurrent workers.\n",
            "[Parallel(n_jobs=-1)]: Done   5 out of   5 | elapsed:    0.2s remaining:    0.0s\n",
            "[Parallel(n_jobs=-1)]: Done   5 out of   5 | elapsed:    0.2s finished\n",
            "[Parallel(n_jobs=-1)]: Using backend LokyBackend with 2 concurrent workers.\n",
            "[Parallel(n_jobs=-1)]: Done   5 out of   5 | elapsed:    0.2s remaining:    0.0s\n",
            "[Parallel(n_jobs=-1)]: Done   5 out of   5 | elapsed:    0.2s finished\n",
            "[Parallel(n_jobs=-1)]: Using backend LokyBackend with 2 concurrent workers.\n",
            "[Parallel(n_jobs=-1)]: Done   5 out of   5 | elapsed:    0.9s remaining:    0.0s\n",
            "[Parallel(n_jobs=-1)]: Done   5 out of   5 | elapsed:    0.9s finished\n",
            "[Parallel(n_jobs=-1)]: Using backend LokyBackend with 2 concurrent workers.\n",
            "[Parallel(n_jobs=-1)]: Done   5 out of   5 | elapsed:    0.9s remaining:    0.0s\n",
            "[Parallel(n_jobs=-1)]: Done   5 out of   5 | elapsed:    0.9s finished\n",
            "[Parallel(n_jobs=-1)]: Using backend LokyBackend with 2 concurrent workers.\n",
            "[Parallel(n_jobs=-1)]: Done   5 out of   5 | elapsed:    0.9s remaining:    0.0s\n",
            "[Parallel(n_jobs=-1)]: Done   5 out of   5 | elapsed:    0.9s finished\n",
            "[Parallel(n_jobs=-1)]: Using backend LokyBackend with 2 concurrent workers.\n",
            "[Parallel(n_jobs=-1)]: Done   5 out of   5 | elapsed:   15.9s remaining:    0.0s\n",
            "[Parallel(n_jobs=-1)]: Done   5 out of   5 | elapsed:   15.9s finished\n",
            "[Parallel(n_jobs=-1)]: Using backend LokyBackend with 2 concurrent workers.\n",
            "[Parallel(n_jobs=-1)]: Done   5 out of   5 | elapsed:   16.1s remaining:    0.0s\n",
            "[Parallel(n_jobs=-1)]: Done   5 out of   5 | elapsed:   16.1s finished\n",
            "[Parallel(n_jobs=-1)]: Using backend LokyBackend with 2 concurrent workers.\n",
            "[Parallel(n_jobs=-1)]: Done   5 out of   5 | elapsed:   16.0s remaining:    0.0s\n",
            "[Parallel(n_jobs=-1)]: Done   5 out of   5 | elapsed:   16.0s finished\n"
          ]
        }
      ]
    },
    {
      "cell_type": "markdown",
      "metadata": {
        "id": "ljVw3dZE-0hX"
      },
      "source": [
        "## **Prediction Run**"
      ]
    },
    {
      "cell_type": "code",
      "metadata": {
        "colab": {
          "base_uri": "https://localhost:8080/",
          "height": 1000
        },
        "id": "UD8n7DQQ-4z1",
        "outputId": "f4c8f8da-b1d8-4150-def8-a844a8d939e0"
      },
      "source": [
        "if KFOLD_SELECTION == 0 :\n",
        "  \n",
        "  def run_predict(clf):\n",
        "    if clf.__class__.__name__ in scaled_clf:\n",
        "      clf = clf.fit(X_train_scaled, y_train)\n",
        "      y_pred = clf.predict(X_test_scaled)\n",
        "    else:\n",
        "      clf = clf.fit(X_train, y_train)\n",
        "      y_pred = clf.predict(X_test)\n",
        "    plot_conf_matrix(y_test,y_pred,unique_class_label, title=\"Confusion Matrix for \" + clf.__class__.__name__)\n",
        "    print(\"Accuracy Score for \" +  clf.__class__.__name__ + \"  \" \n",
        "          + str(accuracy_score(y_test,y_pred)) )\n",
        "    print(\"F1 Score for \" + clf.__class__.__name__ + \"  \" + \n",
        "          str(f1_score(y_test, y_pred, average='weighted')))\n",
        "    \n",
        "    test_acc_score.append(accuracy_score(y_test,y_pred))\n",
        "    test_f1_score.append(f1_score(y_test, y_pred, average='weighted'))\n",
        "    \n",
        "  for clf in clfs:\n",
        "    run_predict(clf)\n",
        "\n"
      ],
      "execution_count": 54,
      "outputs": [
        {
          "output_type": "stream",
          "name": "stdout",
          "text": [
            "Accuracy Score for RandomForestClassifier  0.47635135135135137\n",
            "F1 Score for RandomForestClassifier  0.4672232703315626\n",
            "Accuracy Score for CatBoostClassifier  0.44932432432432434\n",
            "F1 Score for CatBoostClassifier  0.43635993144250795\n",
            "Accuracy Score for XGBClassifier  0.4864864864864865\n",
            "F1 Score for XGBClassifier  0.4804244872879516\n",
            "Accuracy Score for BaggingClassifier  0.5\n",
            "F1 Score for BaggingClassifier  0.4872376947665638\n",
            "Accuracy Score for LogisticRegression  0.5236486486486487\n",
            "F1 Score for LogisticRegression  0.5169462517808106\n",
            "Accuracy Score for SVC  0.43243243243243246\n",
            "F1 Score for SVC  0.4303300577558798\n",
            "Accuracy Score for GradientBoostingClassifier  0.5101351351351351\n",
            "F1 Score for GradientBoostingClassifier  0.4975895423506887\n"
          ]
        },
        {
          "output_type": "display_data",
          "data": {
            "image/png": "[encoded data removed]",
            "text/plain": [
              "<Figure size 360x288 with 2 Axes>"
            ]
          },
          "metadata": {
            "needs_background": "light"
          }
        },
        {
          "output_type": "display_data",
          "data": {
            "image/png": "[encoded data removed]",
            "text/plain": [
              "<Figure size 360x288 with 2 Axes>"
            ]
          },
          "metadata": {
            "needs_background": "light"
          }
        },
        {
          "output_type": "display_data",
          "data": {
            "image/png": "[encoded data removed]",
            "text/plain": [
              "<Figure size 360x288 with 2 Axes>"
            ]
          },
          "metadata": {
            "needs_background": "light"
          }
        },
        {
          "output_type": "display_data",
          "data": {
            "image/png": "[encoded data removed]",
            "text/plain": [
              "<Figure size 360x288 with 2 Axes>"
            ]
          },
          "metadata": {
            "needs_background": "light"
          }
        },
        {
          "output_type": "display_data",
          "data": {
            "image/png": "[encoded data removed]",
            "text/plain": [
              "<Figure size 360x288 with 2 Axes>"
            ]
          },
          "metadata": {
            "needs_background": "light"
          }
        },
        {
          "output_type": "display_data",
          "data": {
            "image/png": "[encoded data removed]",
            "text/plain": [
              "<Figure size 360x288 with 2 Axes>"
            ]
          },
          "metadata": {
            "needs_background": "light"
          }
        },
        {
          "output_type": "display_data",
          "data": {
            "image/png": "[encoded data removed]",
            "text/plain": [
              "<Figure size 360x288 with 2 Axes>"
            ]
          },
          "metadata": {
            "needs_background": "light"
          }
        }
      ]
    },
    {
      "cell_type": "code",
      "metadata": {
        "id": "SlPVEK40gKoU"
      },
      "source": [
        "if KFOLD_SELECTION == 0 :\n",
        "\n",
        "  testing_result_df = pd.DataFrame({'Classifier' :  clfList,\n",
        "                            'Testing_Accuracy': test_acc_score,\n",
        "                            'Testing_F1-score': test_f1_score                          \n",
        "                            })    \n",
        "  testing_result_df.sort_values(by=\"Testing_Accuracy\", ascending=False)"
      ],
      "execution_count": 55,
      "outputs": []
    },
    {
      "cell_type": "markdown",
      "source": [
        "### **New Addition - Manual K-Fold**"
      ],
      "metadata": {
        "id": "DjGCYaaCdxaX"
      }
    },
    {
      "cell_type": "code",
      "source": [
        "if KFOLD_SELECTION == 1 :\n",
        "  train_df = train_df.reset_index()\n",
        "  kf = StratifiedKFold(n_splits=5, shuffle=True, random_state=3)\n",
        "  train_df[\"kfold\"] = -1\n",
        "  for fold, (train_indicies, validation_indicies) in enumerate(kf.split(X=train_df,y=train_df.StarRatingM255)):\n",
        "      train_df.loc[validation_indicies, \"kfold\"] = int(fold)\n",
        "\n",
        "  train_df.set_index(\"SecId\", inplace=True)\n",
        "  train_df.kfold.value_counts()"
      ],
      "metadata": {
        "id": "mXyxf7QDdbc-"
      },
      "execution_count": 56,
      "outputs": []
    },
    {
      "cell_type": "code",
      "source": [
        "if KFOLD_SELECTION == 1 :\n",
        "  train_df[(train_df['kfold']==0) & (train_df['StarRatingM255']==3) ]"
      ],
      "metadata": {
        "id": "HNZncCbKf23Y"
      },
      "execution_count": 57,
      "outputs": []
    },
    {
      "cell_type": "code",
      "source": [
        "if KFOLD_SELECTION == 1 :\n",
        "  train_df.drop(index='F0GBR055SK',inplace=True)\n",
        "  train_df.kfold.value_counts()"
      ],
      "metadata": {
        "id": "sMw4akz4eTJI"
      },
      "execution_count": 58,
      "outputs": []
    },
    {
      "cell_type": "code",
      "source": [
        "if KFOLD_SELECTION == 1 :\n",
        "\n",
        "  skf = StratifiedKFold(n_splits=5, random_state=rand_state, shuffle=True)\n",
        "  for clf in clfs:\n",
        "\n",
        "    val_preds_CV_list =[]\n",
        "    test_preds_CV_list = []\n",
        "    \n",
        "    for i in range(5):\n",
        "      X_train_CV = train_df[train_df.kfold != i]\n",
        "      X_Val_CV = train_df[train_df.kfold == i]\n",
        "\n",
        "      y_train_CV = X_train_CV['StarRatingM255']\n",
        "      y_Val_CV = X_Val_CV['StarRatingM255']\n",
        "\n",
        "      X_train_CV = X_train_CV[imp_features]\n",
        "      X_Val_CV = X_Val_CV[imp_features]\n",
        "      \n",
        "      X_test = test_df[imp_features]\n",
        "      y_test = test_df['StarRatingM255']\n",
        "        \n",
        "      if clf.__class__.__name__  in scaled_clf:\n",
        "        scaler = StandardScaler()\n",
        "        scaler.fit(X_train)\n",
        "        X_train_CV = scaler.transform(X_train_CV)\n",
        "        X_Val_CV = scaler.transform(X_Val_CV)\n",
        "        X_test = scaler.transform(X_test)\n",
        "\n",
        "      clf = clf.fit(X_train_CV, y_train_CV)\n",
        "      y_val_CV_pred = clf.predict(X_Val_CV)\n",
        "      # y_test_pred = clf.predict(X_test)\n",
        "\n",
        "      val_preds_CV_list.append(y_val_CV_pred)\n",
        "      # test_preds_CV_list.append(y_test_pred)\n",
        "\n",
        "    val_preds_column_stack = np.column_stack([p for p in val_preds_CV_list])\n",
        "    # test_preds_column_stack = np.column_stack([p for p in test_preds_CV_list])\n",
        "\n",
        "    y_val_preds =[]\n",
        "    for pred in list(val_preds_column_stack):\n",
        "      p = list(pred)\n",
        "      y_val_preds.append(max(set(p),key=p.count))\n",
        "    #print(y_val_preds)\n",
        "\n",
        "    \n",
        "    # y_test_preds =[]\n",
        "    # for pred in list(test_preds_column_stack):\n",
        "    #   p = list(pred)\n",
        "    #   y_test_preds.append(max(set(p),key=p.count))\n",
        "    # #print(y_test_preds)\n",
        "\n",
        "    y_test_preds = clf.predict(X_test)\n",
        "\n",
        "    val_score = accuracy_score(y_Val_CV,y_val_preds)\n",
        "    test_score = accuracy_score(y_test,y_test_preds)\n",
        "\n",
        "    val_f1 = f1_score(y_Val_CV, y_val_preds, average='weighted')\n",
        "    test_f1 = f1_score(y_test, y_test_preds, average='weighted')\n",
        "\n",
        "    # print(\"Classifier :{}, Validation Score : {}, F1-Score : {}\".format(clf.__class__.__name__,val_score,val_f1))\n",
        "    # print(\"Classifier :{}, Testing Score : {},  F1-Score : {}\".format(clf.__class__.__name__,test_score,test_f1))\n",
        "\n",
        "    test_acc_score.append(test_score)\n",
        "    test_f1_score.append(test_f1)\n",
        "\n",
        "    plot_conf_matrix(y_test,y_test_preds,unique_class_label, title=\"Confusion Matrix for \" + clf.__class__.__name__)\n",
        "\n",
        "  testing_result_df = pd.DataFrame({'Classifier' :  clfList,\n",
        "                            'Testing_Accuracy': test_acc_score,\n",
        "                            'Testing_F1-score': test_f1_score                          \n",
        "                            })    \n",
        "  testing_result_df.sort_values(by=\"Testing_Accuracy\", ascending=False)   \n",
        "    "
      ],
      "metadata": {
        "id": "4K1sU1JFUBbM"
      },
      "execution_count": 59,
      "outputs": []
    },
    {
      "cell_type": "markdown",
      "metadata": {
        "id": "jdHsasVSIblQ"
      },
      "source": [
        "## **Prediction using Pre-trained Neural Network Model**"
      ]
    },
    {
      "cell_type": "code",
      "metadata": {
        "id": "ZtCPwu-WJWbq"
      },
      "source": [
        "import tensorflow as tf\n",
        "from tensorflow.keras.layers import Dense, Dropout, Input\n",
        "from tensorflow.keras.models import Sequential\n",
        "from tensorflow.keras.optimizers import Adam"
      ],
      "execution_count": 60,
      "outputs": []
    },
    {
      "cell_type": "markdown",
      "metadata": {
        "id": "58JHN1krXlw8"
      },
      "source": [
        "### Fetching the Saved Model JSON File from Github"
      ]
    },
    {
      "cell_type": "code",
      "metadata": {
        "id": "FhXm29OYOYT2"
      },
      "source": [
        "import requests, json\n",
        "from  urllib.request import Request, build_opener\n",
        "#url = 'https://raw.githubusercontent.com/nishitgala89/ProjectDissertation/main/Code/4_Modelling/Artificial_Neural_Network/Model1/model.json'\n",
        "url = 'https://raw.githubusercontent.com/nishitgala89/ProjectDissertation/main/Code/4_Modelling/Artificial_Neural_Network/Final_Models/Without_Class_Weights/model_v2.json'\n",
        "req = Request(url)\n",
        "opener = build_opener()\n",
        "f = opener.open(req)\n",
        "with open('ann_model.json', 'w') as json_file:\n",
        "    json.dump(json.loads(f.read()), json_file)"
      ],
      "execution_count": 61,
      "outputs": []
    },
    {
      "cell_type": "code",
      "metadata": {
        "id": "Yj2BRWR_O5pg"
      },
      "source": [
        "with open('/content/ann_model.json', 'r') as model_file:\n",
        "  json_saved_model = model_file.read()\n",
        "network_loaded = tf.keras.models.model_from_json(json_saved_model)"
      ],
      "execution_count": 62,
      "outputs": []
    },
    {
      "cell_type": "markdown",
      "metadata": {
        "id": "-1-w1KEkXuCP"
      },
      "source": [
        "### Fetching the Model Weights from Github"
      ]
    },
    {
      "cell_type": "code",
      "metadata": {
        "colab": {
          "base_uri": "https://localhost:8080/"
        },
        "id": "l0miRTtrXta_",
        "outputId": "0100278b-de04-4b1d-9270-f151b663f0c6"
      },
      "source": [
        "src_dir = \"Code/4_Modelling/Artificial_Neural_Network/Final_Models/Without_Class_Weights\"\n",
        "weight_file = \"model_weights_v2.hdf5\"\n",
        "url = f\"https://github.com/{user}/{repo}/blob/main/{src_dir}/{weight_file}?raw=true\"\n",
        "\n",
        "!wget --no-cache --backups=1 {url}"
      ],
      "execution_count": 63,
      "outputs": [
        {
          "output_type": "stream",
          "name": "stdout",
          "text": [
            "--2022-01-04 10:03:39--  https://github.com/nishitgala89/ProjectDissertation/blob/main/Code/4_Modelling/Artificial_Neural_Network/Final_Models/Without_Class_Weights/model_weights_v2.hdf5?raw=true\n",
            "Resolving github.com (github.com)... 140.82.113.3\n",
            "Connecting to github.com (github.com)|140.82.113.3|:443... connected.\n",
            "HTTP request sent, awaiting response... 302 Found\n",
            "Location: https://github.com/nishitgala89/ProjectDissertation/raw/main/Code/4_Modelling/Artificial_Neural_Network/Final_Models/Without_Class_Weights/model_weights_v2.hdf5 [following]\n",
            "--2022-01-04 10:03:39--  https://github.com/nishitgala89/ProjectDissertation/raw/main/Code/4_Modelling/Artificial_Neural_Network/Final_Models/Without_Class_Weights/model_weights_v2.hdf5\n",
            "Reusing existing connection to github.com:443.\n",
            "HTTP request sent, awaiting response... 302 Found\n",
            "Location: https://raw.githubusercontent.com/nishitgala89/ProjectDissertation/main/Code/4_Modelling/Artificial_Neural_Network/Final_Models/Without_Class_Weights/model_weights_v2.hdf5 [following]\n",
            "--2022-01-04 10:03:40--  https://raw.githubusercontent.com/nishitgala89/ProjectDissertation/main/Code/4_Modelling/Artificial_Neural_Network/Final_Models/Without_Class_Weights/model_weights_v2.hdf5\n",
            "Resolving raw.githubusercontent.com (raw.githubusercontent.com)... 185.199.108.133, 185.199.110.133, 185.199.109.133, ...\n",
            "Connecting to raw.githubusercontent.com (raw.githubusercontent.com)|185.199.108.133|:443... connected.\n",
            "HTTP request sent, awaiting response... 200 OK\n",
            "Length: 46200 (45K) [application/octet-stream]\n",
            "Failed to rename model_weights_v2.hdf5?raw=true to model_weights_v2.hdf5?raw=true.1: (2) No such file or directory\n",
            "Saving to: ‘model_weights_v2.hdf5?raw=true’\n",
            "\n",
            "model_weights_v2.hd 100%[===================>]  45.12K  --.-KB/s    in 0.01s   \n",
            "\n",
            "2022-01-04 10:03:40 (4.40 MB/s) - ‘model_weights_v2.hdf5?raw=true’ saved [46200/46200]\n",
            "\n"
          ]
        }
      ]
    },
    {
      "cell_type": "code",
      "metadata": {
        "colab": {
          "base_uri": "https://localhost:8080/"
        },
        "id": "zgswyYHcWQzb",
        "outputId": "8881b3d6-1b1d-4bdb-c3ce-732271443ab6"
      },
      "source": [
        "network_loaded.summary()"
      ],
      "execution_count": 64,
      "outputs": [
        {
          "output_type": "stream",
          "name": "stdout",
          "text": [
            "Model: \"sequential\"\n",
            "_________________________________________________________________\n",
            " Layer (type)                Output Shape              Param #   \n",
            "=================================================================\n",
            " dense (Dense)               (None, 11)                187       \n",
            "                                                                 \n",
            " dense_1 (Dense)             (None, 11)                132       \n",
            "                                                                 \n",
            " dropout (Dropout)           (None, 11)                0         \n",
            "                                                                 \n",
            " dense_2 (Dense)             (None, 6)                 72        \n",
            "                                                                 \n",
            " dropout_1 (Dropout)         (None, 6)                 0         \n",
            "                                                                 \n",
            " dense_3 (Dense)             (None, 5)                 35        \n",
            "                                                                 \n",
            "=================================================================\n",
            "Total params: 426\n",
            "Trainable params: 426\n",
            "Non-trainable params: 0\n",
            "_________________________________________________________________\n"
          ]
        }
      ]
    },
    {
      "cell_type": "code",
      "metadata": {
        "id": "VqJN-TdNbLGd"
      },
      "source": [
        "import os\n",
        "fileNames = list(os.listdir())\n",
        "fileNames\n",
        "for fname in fileNames:\n",
        "  if fname.startswith('model_weights'):\n",
        "    fsplit = fname.split(\"?\")\n",
        "    os.rename(fname, fsplit[0])"
      ],
      "execution_count": 65,
      "outputs": []
    },
    {
      "cell_type": "code",
      "metadata": {
        "id": "0jyHr-WCIbRf"
      },
      "source": [
        "network_loaded.load_weights('/content/model_weights_v2.hdf5')\n",
        "network_loaded.compile(loss = 'categorical_crossentropy', optimizer='Adam', metrics=['accuracy'])"
      ],
      "execution_count": 66,
      "outputs": []
    },
    {
      "cell_type": "code",
      "metadata": {
        "colab": {
          "base_uri": "https://localhost:8080/"
        },
        "id": "sWbQXRXSzDNY",
        "outputId": "cfbc72d8-d03c-4785-f061-3136bbb685d1"
      },
      "source": [
        "network_loaded.summary()"
      ],
      "execution_count": 67,
      "outputs": [
        {
          "output_type": "stream",
          "name": "stdout",
          "text": [
            "Model: \"sequential\"\n",
            "_________________________________________________________________\n",
            " Layer (type)                Output Shape              Param #   \n",
            "=================================================================\n",
            " dense (Dense)               (None, 11)                187       \n",
            "                                                                 \n",
            " dense_1 (Dense)             (None, 11)                132       \n",
            "                                                                 \n",
            " dropout (Dropout)           (None, 11)                0         \n",
            "                                                                 \n",
            " dense_2 (Dense)             (None, 6)                 72        \n",
            "                                                                 \n",
            " dropout_1 (Dropout)         (None, 6)                 0         \n",
            "                                                                 \n",
            " dense_3 (Dense)             (None, 5)                 35        \n",
            "                                                                 \n",
            "=================================================================\n",
            "Total params: 426\n",
            "Trainable params: 426\n",
            "Non-trainable params: 0\n",
            "_________________________________________________________________\n"
          ]
        }
      ]
    },
    {
      "cell_type": "code",
      "metadata": {
        "colab": {
          "base_uri": "https://localhost:8080/"
        },
        "id": "ZyfMoBDAzQZJ",
        "outputId": "272bd47b-944e-46fb-ab5b-a634f851815c"
      },
      "source": [
        "len(imp_features)"
      ],
      "execution_count": 68,
      "outputs": [
        {
          "output_type": "execute_result",
          "data": {
            "text/plain": [
              "16"
            ]
          },
          "metadata": {},
          "execution_count": 68
        }
      ]
    },
    {
      "cell_type": "code",
      "metadata": {
        "id": "wRJWCgv3J4Yq"
      },
      "source": [
        "y_pred_loaded = network_loaded.predict(X_test_scaled)\n",
        "y_pred_loaded = np.argmax(y_pred_loaded, axis=1)\n",
        "y_pred_loaded +=1"
      ],
      "execution_count": 69,
      "outputs": []
    },
    {
      "cell_type": "code",
      "metadata": {
        "id": "nXcH7Nk0KBHD",
        "colab": {
          "base_uri": "https://localhost:8080/",
          "height": 281
        },
        "outputId": "c5a124c1-3737-411a-88f3-1b330f9e0e63"
      },
      "source": [
        "plot_conf_matrix(y_test.values,y_pred_loaded,unique_class_label, title=\"Confusion Matrix for \" + network_loaded.__class__.__name__)"
      ],
      "execution_count": 70,
      "outputs": [
        {
          "output_type": "display_data",
          "data": {
            "image/png": "[encoded data removed]",
            "text/plain": [
              "<Figure size 360x288 with 2 Axes>"
            ]
          },
          "metadata": {
            "needs_background": "light"
          }
        }
      ]
    },
    {
      "cell_type": "code",
      "metadata": {
        "id": "3YtFPAjVKCfE"
      },
      "source": [
        "test_acc_score.append(accuracy_score(y_test, y_pred_loaded))\n",
        "test_f1_score.append(f1_score(y_test, y_pred_loaded, average='weighted'))\n",
        "clfList.append(\"Artificial_Neural_Network\")"
      ],
      "execution_count": 71,
      "outputs": []
    },
    {
      "cell_type": "code",
      "metadata": {
        "colab": {
          "base_uri": "https://localhost:8080/",
          "height": 300
        },
        "id": "pBz2kGIRTEVN",
        "outputId": "84a32244-9902-4d31-bf38-5ec81f15e7db"
      },
      "source": [
        "testing_result_df = pd.DataFrame({'Classifier' :  clfList,\n",
        "                          'Testing_Accuracy': test_acc_score,\n",
        "                          'Testing_F1-score': test_f1_score                          \n",
        "                          })    \n",
        "testing_result_df.sort_values(by=\"Testing_Accuracy\", ascending=False)"
      ],
      "execution_count": 72,
      "outputs": [
        {
          "output_type": "execute_result",
          "data": {
            "text/html": [
              "\n",
              "  <div id=\"df-bd410190-9813-48c2-8501-ec21d0fd76ac\">\n",
              "    <div class=\"colab-df-container\">\n",
              "      <div>\n",
              "<style scoped>\n",
              "    .dataframe tbody tr th:only-of-type {\n",
              "        vertical-align: middle;\n",
              "    }\n",
              "\n",
              "    .dataframe tbody tr th {\n",
              "        vertical-align: top;\n",
              "    }\n",
              "\n",
              "    .dataframe thead th {\n",
              "        text-align: right;\n",
              "    }\n",
              "</style>\n",
              "<table border=\"1\" class=\"dataframe\">\n",
              "  <thead>\n",
              "    <tr style=\"text-align: right;\">\n",
              "      <th></th>\n",
              "      <th>Classifier</th>\n",
              "      <th>Testing_Accuracy</th>\n",
              "      <th>Testing_F1-score</th>\n",
              "    </tr>\n",
              "  </thead>\n",
              "  <tbody>\n",
              "    <tr>\n",
              "      <th>7</th>\n",
              "      <td>Artificial_Neural_Network</td>\n",
              "      <td>0.550676</td>\n",
              "      <td>0.543756</td>\n",
              "    </tr>\n",
              "    <tr>\n",
              "      <th>4</th>\n",
              "      <td>LogisticRegression</td>\n",
              "      <td>0.523649</td>\n",
              "      <td>0.516946</td>\n",
              "    </tr>\n",
              "    <tr>\n",
              "      <th>6</th>\n",
              "      <td>GradientBoostingClassifier</td>\n",
              "      <td>0.510135</td>\n",
              "      <td>0.497590</td>\n",
              "    </tr>\n",
              "    <tr>\n",
              "      <th>3</th>\n",
              "      <td>BaggingClassifier</td>\n",
              "      <td>0.500000</td>\n",
              "      <td>0.487238</td>\n",
              "    </tr>\n",
              "    <tr>\n",
              "      <th>2</th>\n",
              "      <td>XGBClassifier</td>\n",
              "      <td>0.486486</td>\n",
              "      <td>0.480424</td>\n",
              "    </tr>\n",
              "    <tr>\n",
              "      <th>0</th>\n",
              "      <td>RandomForestClassifier</td>\n",
              "      <td>0.476351</td>\n",
              "      <td>0.467223</td>\n",
              "    </tr>\n",
              "    <tr>\n",
              "      <th>1</th>\n",
              "      <td>CatBoostClassifier</td>\n",
              "      <td>0.449324</td>\n",
              "      <td>0.436360</td>\n",
              "    </tr>\n",
              "    <tr>\n",
              "      <th>5</th>\n",
              "      <td>SVC</td>\n",
              "      <td>0.432432</td>\n",
              "      <td>0.430330</td>\n",
              "    </tr>\n",
              "  </tbody>\n",
              "</table>\n",
              "</div>\n",
              "      <button class=\"colab-df-convert\" onclick=\"convertToInteractive('df-bd410190-9813-48c2-8501-ec21d0fd76ac')\"\n",
              "              title=\"Convert this dataframe to an interactive table.\"\n",
              "              style=\"display:none;\">\n",
              "        \n",
              "  <svg xmlns=\"http://www.w3.org/2000/svg\" height=\"24px\"viewBox=\"0 0 24 24\"\n",
              "       width=\"24px\">\n",
              "    <path d=\"M0 0h24v24H0V0z\" fill=\"none\"/>\n",
              "    <path d=\"M18.56 5.44l.94 2.06.94-2.06 2.06-.94-2.06-.94-.94-2.06-.94 2.06-2.06.94zm-11 1L8.5 8.5l.94-2.06 2.06-.94-2.06-.94L8.5 2.5l-.94 2.06-2.06.94zm10 10l.94 2.06.94-2.06 2.06-.94-2.06-.94-.94-2.06-.94 2.06-2.06.94z\"/><path d=\"M17.41 7.96l-1.37-1.37c-.4-.4-.92-.59-1.43-.59-.52 0-1.04.2-1.43.59L10.3 9.45l-7.72 7.72c-.78.78-.78 2.05 0 2.83L4 21.41c.39.39.9.59 1.41.59.51 0 1.02-.2 1.41-.59l7.78-7.78 2.81-2.81c.8-.78.8-2.07 0-2.86zM5.41 20L4 18.59l7.72-7.72 1.47 1.35L5.41 20z\"/>\n",
              "  </svg>\n",
              "      </button>\n",
              "      \n",
              "  <style>\n",
              "    .colab-df-container {\n",
              "      display:flex;\n",
              "      flex-wrap:wrap;\n",
              "      gap: 12px;\n",
              "    }\n",
              "\n",
              "    .colab-df-convert {\n",
              "      background-color: #E8F0FE;\n",
              "      border: none;\n",
              "      border-radius: 50%;\n",
              "      cursor: pointer;\n",
              "      display: none;\n",
              "      fill: #1967D2;\n",
              "      height: 32px;\n",
              "      padding: 0 0 0 0;\n",
              "      width: 32px;\n",
              "    }\n",
              "\n",
              "    .colab-df-convert:hover {\n",
              "      background-color: #E2EBFA;\n",
              "      box-shadow: 0px 1px 2px rgba(60, 64, 67, 0.3), 0px 1px 3px 1px rgba(60, 64, 67, 0.15);\n",
              "      fill: #174EA6;\n",
              "    }\n",
              "\n",
              "    [theme=dark] .colab-df-convert {\n",
              "      background-color: #3B4455;\n",
              "      fill: #D2E3FC;\n",
              "    }\n",
              "\n",
              "    [theme=dark] .colab-df-convert:hover {\n",
              "      background-color: #434B5C;\n",
              "      box-shadow: 0px 1px 3px 1px rgba(0, 0, 0, 0.15);\n",
              "      filter: drop-shadow(0px 1px 2px rgba(0, 0, 0, 0.3));\n",
              "      fill: #FFFFFF;\n",
              "    }\n",
              "  </style>\n",
              "\n",
              "      <script>\n",
              "        const buttonEl =\n",
              "          document.querySelector('#df-bd410190-9813-48c2-8501-ec21d0fd76ac button.colab-df-convert');\n",
              "        buttonEl.style.display =\n",
              "          google.colab.kernel.accessAllowed ? 'block' : 'none';\n",
              "\n",
              "        async function convertToInteractive(key) {\n",
              "          const element = document.querySelector('#df-bd410190-9813-48c2-8501-ec21d0fd76ac');\n",
              "          const dataTable =\n",
              "            await google.colab.kernel.invokeFunction('convertToInteractive',\n",
              "                                                     [key], {});\n",
              "          if (!dataTable) return;\n",
              "\n",
              "          const docLinkHtml = 'Like what you see? Visit the ' +\n",
              "            '<a target=\"_blank\" href=https://colab.research.google.com/notebooks/data_table.ipynb>data table notebook</a>'\n",
              "            + ' to learn more about interactive tables.';\n",
              "          element.innerHTML = '';\n",
              "          dataTable['output_type'] = 'display_data';\n",
              "          await google.colab.output.renderOutput(dataTable, element);\n",
              "          const docLink = document.createElement('div');\n",
              "          docLink.innerHTML = docLinkHtml;\n",
              "          element.appendChild(docLink);\n",
              "        }\n",
              "      </script>\n",
              "    </div>\n",
              "  </div>\n",
              "  "
            ],
            "text/plain": [
              "                   Classifier  Testing_Accuracy  Testing_F1-score\n",
              "7   Artificial_Neural_Network          0.550676          0.543756\n",
              "4          LogisticRegression          0.523649          0.516946\n",
              "6  GradientBoostingClassifier          0.510135          0.497590\n",
              "3           BaggingClassifier          0.500000          0.487238\n",
              "2               XGBClassifier          0.486486          0.480424\n",
              "0      RandomForestClassifier          0.476351          0.467223\n",
              "1          CatBoostClassifier          0.449324          0.436360\n",
              "5                         SVC          0.432432          0.430330"
            ]
          },
          "metadata": {},
          "execution_count": 72
        }
      ]
    },
    {
      "cell_type": "markdown",
      "metadata": {
        "id": "PL-0k1K86ZyG"
      },
      "source": [
        "## **Voting Classifier**"
      ]
    },
    {
      "cell_type": "code",
      "metadata": {
        "id": "8jkKmu3L3H7S"
      },
      "source": [
        "### Creating Estimators list of Tuples\n",
        "estimators =[]\n",
        "for clf in clfs:\n",
        "  estimators.append((clf.__class__.__name__,clf))\n",
        "\n",
        "#estimators"
      ],
      "execution_count": 73,
      "outputs": []
    },
    {
      "cell_type": "code",
      "metadata": {
        "colab": {
          "base_uri": "https://localhost:8080/"
        },
        "id": "l2qQTVi5TwJh",
        "outputId": "4218dac4-bea8-4e91-ba84-1b02b424f47c"
      },
      "source": [
        "estimators"
      ],
      "execution_count": 74,
      "outputs": [
        {
          "output_type": "execute_result",
          "data": {
            "text/plain": [
              "[('RandomForestClassifier',\n",
              "  RandomForestClassifier(max_depth=8, max_features=0.64, n_estimators=350,\n",
              "                         random_state=42)),\n",
              " ('CatBoostClassifier', <catboost.core.CatBoostClassifier at 0x7f182f675890>),\n",
              " ('XGBClassifier',\n",
              "  XGBClassifier(booster='dart', learning_rate=0.001, max_depth=10,\n",
              "                n_estimators=250, normalize_type='forest',\n",
              "                objective='multi:softprob', random_state=42, rate_drop=0.3,\n",
              "                subsample=0.4, verbose=1)),\n",
              " ('BaggingClassifier',\n",
              "  BaggingClassifier(base_estimator=LogisticRegression(max_iter=5000,\n",
              "                                                      random_state=42),\n",
              "                    max_features=0.7, max_samples=0.6, n_estimators=250,\n",
              "                    n_jobs=-1)),\n",
              " ('LogisticRegression', LogisticRegression(max_iter=1000, random_state=42)),\n",
              " ('SVC', SVC(C=10, gamma='auto', probability=True, random_state=42)),\n",
              " ('GradientBoostingClassifier',\n",
              "  GradientBoostingClassifier(learning_rate=0.005, max_features=0.64,\n",
              "                             min_samples_leaf=25, min_samples_split=10,\n",
              "                             n_estimators=400, random_state=42))]"
            ]
          },
          "metadata": {},
          "execution_count": 74
        }
      ]
    },
    {
      "cell_type": "code",
      "metadata": {
        "id": "om0-m-YYA-5A"
      },
      "source": [
        "from sklearn.ensemble import VotingClassifier\n",
        "ensemble= VotingClassifier(estimators=estimators, \n",
        "                          voting='soft', \n",
        "                          flatten_transform=True)"
      ],
      "execution_count": 75,
      "outputs": []
    },
    {
      "cell_type": "code",
      "metadata": {
        "id": "Pqjv5GYSDKK3"
      },
      "source": [
        "ensemble = ensemble.fit(X_train_scaled,y_train)"
      ],
      "execution_count": 76,
      "outputs": []
    },
    {
      "cell_type": "code",
      "metadata": {
        "id": "I8tHF86CK4gK"
      },
      "source": [
        "y_ensemble = ensemble.predict(X_test_scaled)"
      ],
      "execution_count": 77,
      "outputs": []
    },
    {
      "cell_type": "code",
      "metadata": {
        "id": "wZ1QB_YSKgl5"
      },
      "source": [
        "test_acc_score.append(accuracy_score(y_test, y_ensemble))\n",
        "test_f1_score.append(f1_score(y_test, y_ensemble, average='weighted'))\n",
        "clfList.append(\"VotingClassifier\")"
      ],
      "execution_count": 78,
      "outputs": []
    },
    {
      "cell_type": "code",
      "metadata": {
        "id": "5vl4-jQ4LSd3",
        "colab": {
          "base_uri": "https://localhost:8080/",
          "height": 281
        },
        "outputId": "406db6c3-28fe-41a6-db67-c5263d748ad4"
      },
      "source": [
        "plot_conf_matrix(y_test,y_ensemble,unique_class_label, title=\"Confusion Matrix for \" + \"Voting Classifier\")"
      ],
      "execution_count": 79,
      "outputs": [
        {
          "output_type": "display_data",
          "data": {
            "image/png": "[encoded data removed]",
            "text/plain": [
              "<Figure size 360x288 with 2 Axes>"
            ]
          },
          "metadata": {
            "needs_background": "light"
          }
        }
      ]
    },
    {
      "cell_type": "code",
      "metadata": {
        "id": "kD2nzGzCpCXp",
        "colab": {
          "base_uri": "https://localhost:8080/",
          "height": 332
        },
        "outputId": "691fbaea-4952-4e30-8b2d-ae2b7b730010"
      },
      "source": [
        "testing_result_df = pd.DataFrame({'Classifier' :  clfList,\n",
        "                          'Testing_Accuracy': test_acc_score,\n",
        "                          'Testing_F1-score': test_f1_score                          \n",
        "                          })    \n",
        "testing_result_df.sort_values(by=\"Testing_Accuracy\", ascending=False)"
      ],
      "execution_count": 80,
      "outputs": [
        {
          "output_type": "execute_result",
          "data": {
            "text/html": [
              "\n",
              "  <div id=\"df-58495cb9-dee8-4a2a-97dc-688980eb6f02\">\n",
              "    <div class=\"colab-df-container\">\n",
              "      <div>\n",
              "<style scoped>\n",
              "    .dataframe tbody tr th:only-of-type {\n",
              "        vertical-align: middle;\n",
              "    }\n",
              "\n",
              "    .dataframe tbody tr th {\n",
              "        vertical-align: top;\n",
              "    }\n",
              "\n",
              "    .dataframe thead th {\n",
              "        text-align: right;\n",
              "    }\n",
              "</style>\n",
              "<table border=\"1\" class=\"dataframe\">\n",
              "  <thead>\n",
              "    <tr style=\"text-align: right;\">\n",
              "      <th></th>\n",
              "      <th>Classifier</th>\n",
              "      <th>Testing_Accuracy</th>\n",
              "      <th>Testing_F1-score</th>\n",
              "    </tr>\n",
              "  </thead>\n",
              "  <tbody>\n",
              "    <tr>\n",
              "      <th>7</th>\n",
              "      <td>Artificial_Neural_Network</td>\n",
              "      <td>0.550676</td>\n",
              "      <td>0.543756</td>\n",
              "    </tr>\n",
              "    <tr>\n",
              "      <th>4</th>\n",
              "      <td>LogisticRegression</td>\n",
              "      <td>0.523649</td>\n",
              "      <td>0.516946</td>\n",
              "    </tr>\n",
              "    <tr>\n",
              "      <th>6</th>\n",
              "      <td>GradientBoostingClassifier</td>\n",
              "      <td>0.510135</td>\n",
              "      <td>0.497590</td>\n",
              "    </tr>\n",
              "    <tr>\n",
              "      <th>3</th>\n",
              "      <td>BaggingClassifier</td>\n",
              "      <td>0.500000</td>\n",
              "      <td>0.487238</td>\n",
              "    </tr>\n",
              "    <tr>\n",
              "      <th>2</th>\n",
              "      <td>XGBClassifier</td>\n",
              "      <td>0.486486</td>\n",
              "      <td>0.480424</td>\n",
              "    </tr>\n",
              "    <tr>\n",
              "      <th>0</th>\n",
              "      <td>RandomForestClassifier</td>\n",
              "      <td>0.476351</td>\n",
              "      <td>0.467223</td>\n",
              "    </tr>\n",
              "    <tr>\n",
              "      <th>8</th>\n",
              "      <td>VotingClassifier</td>\n",
              "      <td>0.472973</td>\n",
              "      <td>0.459890</td>\n",
              "    </tr>\n",
              "    <tr>\n",
              "      <th>1</th>\n",
              "      <td>CatBoostClassifier</td>\n",
              "      <td>0.449324</td>\n",
              "      <td>0.436360</td>\n",
              "    </tr>\n",
              "    <tr>\n",
              "      <th>5</th>\n",
              "      <td>SVC</td>\n",
              "      <td>0.432432</td>\n",
              "      <td>0.430330</td>\n",
              "    </tr>\n",
              "  </tbody>\n",
              "</table>\n",
              "</div>\n",
              "      <button class=\"colab-df-convert\" onclick=\"convertToInteractive('df-58495cb9-dee8-4a2a-97dc-688980eb6f02')\"\n",
              "              title=\"Convert this dataframe to an interactive table.\"\n",
              "              style=\"display:none;\">\n",
              "        \n",
              "  <svg xmlns=\"http://www.w3.org/2000/svg\" height=\"24px\"viewBox=\"0 0 24 24\"\n",
              "       width=\"24px\">\n",
              "    <path d=\"M0 0h24v24H0V0z\" fill=\"none\"/>\n",
              "    <path d=\"M18.56 5.44l.94 2.06.94-2.06 2.06-.94-2.06-.94-.94-2.06-.94 2.06-2.06.94zm-11 1L8.5 8.5l.94-2.06 2.06-.94-2.06-.94L8.5 2.5l-.94 2.06-2.06.94zm10 10l.94 2.06.94-2.06 2.06-.94-2.06-.94-.94-2.06-.94 2.06-2.06.94z\"/><path d=\"M17.41 7.96l-1.37-1.37c-.4-.4-.92-.59-1.43-.59-.52 0-1.04.2-1.43.59L10.3 9.45l-7.72 7.72c-.78.78-.78 2.05 0 2.83L4 21.41c.39.39.9.59 1.41.59.51 0 1.02-.2 1.41-.59l7.78-7.78 2.81-2.81c.8-.78.8-2.07 0-2.86zM5.41 20L4 18.59l7.72-7.72 1.47 1.35L5.41 20z\"/>\n",
              "  </svg>\n",
              "      </button>\n",
              "      \n",
              "  <style>\n",
              "    .colab-df-container {\n",
              "      display:flex;\n",
              "      flex-wrap:wrap;\n",
              "      gap: 12px;\n",
              "    }\n",
              "\n",
              "    .colab-df-convert {\n",
              "      background-color: #E8F0FE;\n",
              "      border: none;\n",
              "      border-radius: 50%;\n",
              "      cursor: pointer;\n",
              "      display: none;\n",
              "      fill: #1967D2;\n",
              "      height: 32px;\n",
              "      padding: 0 0 0 0;\n",
              "      width: 32px;\n",
              "    }\n",
              "\n",
              "    .colab-df-convert:hover {\n",
              "      background-color: #E2EBFA;\n",
              "      box-shadow: 0px 1px 2px rgba(60, 64, 67, 0.3), 0px 1px 3px 1px rgba(60, 64, 67, 0.15);\n",
              "      fill: #174EA6;\n",
              "    }\n",
              "\n",
              "    [theme=dark] .colab-df-convert {\n",
              "      background-color: #3B4455;\n",
              "      fill: #D2E3FC;\n",
              "    }\n",
              "\n",
              "    [theme=dark] .colab-df-convert:hover {\n",
              "      background-color: #434B5C;\n",
              "      box-shadow: 0px 1px 3px 1px rgba(0, 0, 0, 0.15);\n",
              "      filter: drop-shadow(0px 1px 2px rgba(0, 0, 0, 0.3));\n",
              "      fill: #FFFFFF;\n",
              "    }\n",
              "  </style>\n",
              "\n",
              "      <script>\n",
              "        const buttonEl =\n",
              "          document.querySelector('#df-58495cb9-dee8-4a2a-97dc-688980eb6f02 button.colab-df-convert');\n",
              "        buttonEl.style.display =\n",
              "          google.colab.kernel.accessAllowed ? 'block' : 'none';\n",
              "\n",
              "        async function convertToInteractive(key) {\n",
              "          const element = document.querySelector('#df-58495cb9-dee8-4a2a-97dc-688980eb6f02');\n",
              "          const dataTable =\n",
              "            await google.colab.kernel.invokeFunction('convertToInteractive',\n",
              "                                                     [key], {});\n",
              "          if (!dataTable) return;\n",
              "\n",
              "          const docLinkHtml = 'Like what you see? Visit the ' +\n",
              "            '<a target=\"_blank\" href=https://colab.research.google.com/notebooks/data_table.ipynb>data table notebook</a>'\n",
              "            + ' to learn more about interactive tables.';\n",
              "          element.innerHTML = '';\n",
              "          dataTable['output_type'] = 'display_data';\n",
              "          await google.colab.output.renderOutput(dataTable, element);\n",
              "          const docLink = document.createElement('div');\n",
              "          docLink.innerHTML = docLinkHtml;\n",
              "          element.appendChild(docLink);\n",
              "        }\n",
              "      </script>\n",
              "    </div>\n",
              "  </div>\n",
              "  "
            ],
            "text/plain": [
              "                   Classifier  Testing_Accuracy  Testing_F1-score\n",
              "7   Artificial_Neural_Network          0.550676          0.543756\n",
              "4          LogisticRegression          0.523649          0.516946\n",
              "6  GradientBoostingClassifier          0.510135          0.497590\n",
              "3           BaggingClassifier          0.500000          0.487238\n",
              "2               XGBClassifier          0.486486          0.480424\n",
              "0      RandomForestClassifier          0.476351          0.467223\n",
              "8            VotingClassifier          0.472973          0.459890\n",
              "1          CatBoostClassifier          0.449324          0.436360\n",
              "5                         SVC          0.432432          0.430330"
            ]
          },
          "metadata": {},
          "execution_count": 80
        }
      ]
    },
    {
      "cell_type": "markdown",
      "metadata": {
        "id": "ZYAYpXJnwmkS"
      },
      "source": [
        "## **Prediction Run for Asia Data (Model Generalization Test as this data is not used in Training)**"
      ]
    },
    {
      "cell_type": "code",
      "metadata": {
        "id": "ilRv9TFLw-d5"
      },
      "source": [
        "asia_df = pd.read_csv('https://raw.githubusercontent.com/nishitgala89/ProjectDissertation/main/Datasheets/3_Modelling/Generalization_Check_Asia_Developed.csv').set_index(\"SecId\")\n",
        "asia_df = morningStarUtilities.createSize_InvestmentTypeFeature(asia_df)\n"
      ],
      "execution_count": 81,
      "outputs": []
    },
    {
      "cell_type": "code",
      "metadata": {
        "id": "7oZ7tRw_yxay",
        "colab": {
          "base_uri": "https://localhost:8080/"
        },
        "outputId": "722c611f-a3d4-42f4-8260-860550274209"
      },
      "source": [
        "asia_df[imp_features].isnull().sum()"
      ],
      "execution_count": 82,
      "outputs": [
        {
          "output_type": "execute_result",
          "data": {
            "text/plain": [
              "SustainabilityRank      0\n",
              "GBRReturnM1             0\n",
              "GBRReturnM3             0\n",
              "GBRReturnM0             0\n",
              "GBRReturnM36            0\n",
              "OngoingCostActual       0\n",
              "TransactionFeeActual    0\n",
              "FundTNAV                1\n",
              "AverageMarketCapital    0\n",
              "MorningstarRiskM255     0\n",
              "AlphaM36                0\n",
              "BetaM36                 0\n",
              "StandardDeviationM36    0\n",
              "SharpeM36               0\n",
              "Size                    0\n",
              "Style                   0\n",
              "dtype: int64"
            ]
          },
          "metadata": {},
          "execution_count": 82
        }
      ]
    },
    {
      "cell_type": "code",
      "metadata": {
        "id": "jvv7roIay3z6",
        "colab": {
          "base_uri": "https://localhost:8080/",
          "height": 246
        },
        "outputId": "3603c032-e886-49c2-8f8a-47433007401d"
      },
      "source": [
        "asia_df[asia_df.FundTNAV.isnull()]"
      ],
      "execution_count": 83,
      "outputs": [
        {
          "output_type": "execute_result",
          "data": {
            "text/html": [
              "\n",
              "  <div id=\"df-c2c87327-8b32-49ed-bab2-47522ae64555\">\n",
              "    <div class=\"colab-df-container\">\n",
              "      <div>\n",
              "<style scoped>\n",
              "    .dataframe tbody tr th:only-of-type {\n",
              "        vertical-align: middle;\n",
              "    }\n",
              "\n",
              "    .dataframe tbody tr th {\n",
              "        vertical-align: top;\n",
              "    }\n",
              "\n",
              "    .dataframe thead th {\n",
              "        text-align: right;\n",
              "    }\n",
              "</style>\n",
              "<table border=\"1\" class=\"dataframe\">\n",
              "  <thead>\n",
              "    <tr style=\"text-align: right;\">\n",
              "      <th></th>\n",
              "      <th>Name</th>\n",
              "      <th>StarRatingM255</th>\n",
              "      <th>SustainabilityRank</th>\n",
              "      <th>CategoryName</th>\n",
              "      <th>Yield_M12</th>\n",
              "      <th>GBRReturnW1</th>\n",
              "      <th>GBRReturnM1</th>\n",
              "      <th>GBRReturnM3</th>\n",
              "      <th>GBRReturnM6</th>\n",
              "      <th>GBRReturnM0</th>\n",
              "      <th>GBRReturnM12</th>\n",
              "      <th>GBRReturnM36</th>\n",
              "      <th>GBRReturnM60</th>\n",
              "      <th>MaxFrontEndLoad</th>\n",
              "      <th>OngoingCostActual</th>\n",
              "      <th>TransactionFeeActual</th>\n",
              "      <th>ManagerTenure</th>\n",
              "      <th>FundTNAV</th>\n",
              "      <th>EquityStyleBox</th>\n",
              "      <th>AverageMarketCapital</th>\n",
              "      <th>MorningstarRiskM255</th>\n",
              "      <th>AlphaM36</th>\n",
              "      <th>BetaM36</th>\n",
              "      <th>R2M36</th>\n",
              "      <th>StandardDeviationM36</th>\n",
              "      <th>SharpeM36</th>\n",
              "      <th>ReturnProfilePreservation</th>\n",
              "      <th>ReturnProfileIncome</th>\n",
              "      <th>ReturnProfileHedging</th>\n",
              "      <th>TrackRecordExtension</th>\n",
              "      <th>Size</th>\n",
              "      <th>Style</th>\n",
              "    </tr>\n",
              "    <tr>\n",
              "      <th>SecId</th>\n",
              "      <th></th>\n",
              "      <th></th>\n",
              "      <th></th>\n",
              "      <th></th>\n",
              "      <th></th>\n",
              "      <th></th>\n",
              "      <th></th>\n",
              "      <th></th>\n",
              "      <th></th>\n",
              "      <th></th>\n",
              "      <th></th>\n",
              "      <th></th>\n",
              "      <th></th>\n",
              "      <th></th>\n",
              "      <th></th>\n",
              "      <th></th>\n",
              "      <th></th>\n",
              "      <th></th>\n",
              "      <th></th>\n",
              "      <th></th>\n",
              "      <th></th>\n",
              "      <th></th>\n",
              "      <th></th>\n",
              "      <th></th>\n",
              "      <th></th>\n",
              "      <th></th>\n",
              "      <th></th>\n",
              "      <th></th>\n",
              "      <th></th>\n",
              "      <th></th>\n",
              "      <th></th>\n",
              "      <th></th>\n",
              "    </tr>\n",
              "  </thead>\n",
              "  <tbody>\n",
              "    <tr>\n",
              "      <th>F00001071Q</th>\n",
              "      <td>BIEF Emerging Markets A GBP Acc</td>\n",
              "      <td>4</td>\n",
              "      <td>2</td>\n",
              "      <td>Global Emerging Markets Equity</td>\n",
              "      <td>0.62047</td>\n",
              "      <td>1.43</td>\n",
              "      <td>1.64</td>\n",
              "      <td>-3.35</td>\n",
              "      <td>-7.72</td>\n",
              "      <td>0.09</td>\n",
              "      <td>10.79</td>\n",
              "      <td>10.05</td>\n",
              "      <td>NaN</td>\n",
              "      <td>NaN</td>\n",
              "      <td>1.12</td>\n",
              "      <td>1.17</td>\n",
              "      <td>24.08</td>\n",
              "      <td>NaN</td>\n",
              "      <td>2</td>\n",
              "      <td>28614.24791</td>\n",
              "      <td>4</td>\n",
              "      <td>2.47</td>\n",
              "      <td>1.02</td>\n",
              "      <td>89.7</td>\n",
              "      <td>16.24</td>\n",
              "      <td>0.66</td>\n",
              "      <td>3</td>\n",
              "      <td>1</td>\n",
              "      <td>3.0</td>\n",
              "      <td>False</td>\n",
              "      <td>1</td>\n",
              "      <td>2</td>\n",
              "    </tr>\n",
              "  </tbody>\n",
              "</table>\n",
              "</div>\n",
              "      <button class=\"colab-df-convert\" onclick=\"convertToInteractive('df-c2c87327-8b32-49ed-bab2-47522ae64555')\"\n",
              "              title=\"Convert this dataframe to an interactive table.\"\n",
              "              style=\"display:none;\">\n",
              "        \n",
              "  <svg xmlns=\"http://www.w3.org/2000/svg\" height=\"24px\"viewBox=\"0 0 24 24\"\n",
              "       width=\"24px\">\n",
              "    <path d=\"M0 0h24v24H0V0z\" fill=\"none\"/>\n",
              "    <path d=\"M18.56 5.44l.94 2.06.94-2.06 2.06-.94-2.06-.94-.94-2.06-.94 2.06-2.06.94zm-11 1L8.5 8.5l.94-2.06 2.06-.94-2.06-.94L8.5 2.5l-.94 2.06-2.06.94zm10 10l.94 2.06.94-2.06 2.06-.94-2.06-.94-.94-2.06-.94 2.06-2.06.94z\"/><path d=\"M17.41 7.96l-1.37-1.37c-.4-.4-.92-.59-1.43-.59-.52 0-1.04.2-1.43.59L10.3 9.45l-7.72 7.72c-.78.78-.78 2.05 0 2.83L4 21.41c.39.39.9.59 1.41.59.51 0 1.02-.2 1.41-.59l7.78-7.78 2.81-2.81c.8-.78.8-2.07 0-2.86zM5.41 20L4 18.59l7.72-7.72 1.47 1.35L5.41 20z\"/>\n",
              "  </svg>\n",
              "      </button>\n",
              "      \n",
              "  <style>\n",
              "    .colab-df-container {\n",
              "      display:flex;\n",
              "      flex-wrap:wrap;\n",
              "      gap: 12px;\n",
              "    }\n",
              "\n",
              "    .colab-df-convert {\n",
              "      background-color: #E8F0FE;\n",
              "      border: none;\n",
              "      border-radius: 50%;\n",
              "      cursor: pointer;\n",
              "      display: none;\n",
              "      fill: #1967D2;\n",
              "      height: 32px;\n",
              "      padding: 0 0 0 0;\n",
              "      width: 32px;\n",
              "    }\n",
              "\n",
              "    .colab-df-convert:hover {\n",
              "      background-color: #E2EBFA;\n",
              "      box-shadow: 0px 1px 2px rgba(60, 64, 67, 0.3), 0px 1px 3px 1px rgba(60, 64, 67, 0.15);\n",
              "      fill: #174EA6;\n",
              "    }\n",
              "\n",
              "    [theme=dark] .colab-df-convert {\n",
              "      background-color: #3B4455;\n",
              "      fill: #D2E3FC;\n",
              "    }\n",
              "\n",
              "    [theme=dark] .colab-df-convert:hover {\n",
              "      background-color: #434B5C;\n",
              "      box-shadow: 0px 1px 3px 1px rgba(0, 0, 0, 0.15);\n",
              "      filter: drop-shadow(0px 1px 2px rgba(0, 0, 0, 0.3));\n",
              "      fill: #FFFFFF;\n",
              "    }\n",
              "  </style>\n",
              "\n",
              "      <script>\n",
              "        const buttonEl =\n",
              "          document.querySelector('#df-c2c87327-8b32-49ed-bab2-47522ae64555 button.colab-df-convert');\n",
              "        buttonEl.style.display =\n",
              "          google.colab.kernel.accessAllowed ? 'block' : 'none';\n",
              "\n",
              "        async function convertToInteractive(key) {\n",
              "          const element = document.querySelector('#df-c2c87327-8b32-49ed-bab2-47522ae64555');\n",
              "          const dataTable =\n",
              "            await google.colab.kernel.invokeFunction('convertToInteractive',\n",
              "                                                     [key], {});\n",
              "          if (!dataTable) return;\n",
              "\n",
              "          const docLinkHtml = 'Like what you see? Visit the ' +\n",
              "            '<a target=\"_blank\" href=https://colab.research.google.com/notebooks/data_table.ipynb>data table notebook</a>'\n",
              "            + ' to learn more about interactive tables.';\n",
              "          element.innerHTML = '';\n",
              "          dataTable['output_type'] = 'display_data';\n",
              "          await google.colab.output.renderOutput(dataTable, element);\n",
              "          const docLink = document.createElement('div');\n",
              "          docLink.innerHTML = docLinkHtml;\n",
              "          element.appendChild(docLink);\n",
              "        }\n",
              "      </script>\n",
              "    </div>\n",
              "  </div>\n",
              "  "
            ],
            "text/plain": [
              "                                       Name  StarRatingM255  ...  Size Style\n",
              "SecId                                                        ...            \n",
              "F00001071Q  BIEF Emerging Markets A GBP Acc               4  ...     1     2\n",
              "\n",
              "[1 rows x 32 columns]"
            ]
          },
          "metadata": {},
          "execution_count": 83
        }
      ]
    },
    {
      "cell_type": "code",
      "metadata": {
        "id": "g9nHNGoGzLsK"
      },
      "source": [
        "asia_df.drop(index='F00001071Q',inplace=True)\n"
      ],
      "execution_count": 84,
      "outputs": []
    },
    {
      "cell_type": "code",
      "metadata": {
        "id": "fg2_vQ6gmWAQ"
      },
      "source": [
        "X_asia = asia_df[imp_features]\n",
        "y_asia = asia_df['StarRatingM255']\n",
        "X_asia_scaled = scaler.transform(X_asia)"
      ],
      "execution_count": 85,
      "outputs": []
    },
    {
      "cell_type": "code",
      "metadata": {
        "id": "u3LHECCHz_EE",
        "colab": {
          "base_uri": "https://localhost:8080/"
        },
        "outputId": "9d00e328-a376-413b-cda8-c79afe3c86e5"
      },
      "source": [
        "X_asia.shape, y_asia.shape"
      ],
      "execution_count": 86,
      "outputs": [
        {
          "output_type": "execute_result",
          "data": {
            "text/plain": [
              "((432, 16), (432,))"
            ]
          },
          "metadata": {},
          "execution_count": 86
        }
      ]
    },
    {
      "cell_type": "code",
      "metadata": {
        "id": "Alv0gyf6wpS6",
        "colab": {
          "base_uri": "https://localhost:8080/",
          "height": 1000
        },
        "outputId": "b8e22d3b-518c-4219-aa3f-94509f03be01"
      },
      "source": [
        "test_acc_score=[]\n",
        "test_f1_score=[]\n",
        "clfList = [clf.__class__.__name__  for clf in clfs]\n",
        "\n",
        "\n",
        "def run_predict_for_untrainedData(clf):\n",
        "  if clf.__class__.__name__ in scaled_clf:   \n",
        "    y_pred = clf.predict(X_asia_scaled)\n",
        "  else:\n",
        "    y_pred = clf.predict(X_asia)\n",
        "  plot_conf_matrix(y_asia,y_pred,unique_class_label, title=\"Confusion Matrix for \" + clf.__class__.__name__)\n",
        "  print(\"Accuracy Score for \" +  clf.__class__.__name__ + \"  \" \n",
        "        + str(accuracy_score(y_asia,y_pred)) )\n",
        "  print(\"F1 Score for \" + clf.__class__.__name__ + \"  \" + \n",
        "        str(f1_score(y_asia, y_pred, average='weighted')))\n",
        "  \n",
        "  test_acc_score.append(accuracy_score(y_asia,y_pred))\n",
        "  test_f1_score.append(f1_score(y_asia, y_pred, average='weighted'))\n",
        "  \n",
        "for clf in clfs:\n",
        "  run_predict_for_untrainedData(clf)\n",
        "\n"
      ],
      "execution_count": 87,
      "outputs": [
        {
          "output_type": "stream",
          "name": "stdout",
          "text": [
            "Accuracy Score for RandomForestClassifier  0.4861111111111111\n",
            "F1 Score for RandomForestClassifier  0.4589045665133241\n",
            "Accuracy Score for CatBoostClassifier  0.4050925925925926\n",
            "F1 Score for CatBoostClassifier  0.3806152184796787\n",
            "Accuracy Score for XGBClassifier  0.47685185185185186\n",
            "F1 Score for XGBClassifier  0.4433409167938139\n",
            "Accuracy Score for BaggingClassifier  0.4791666666666667\n",
            "F1 Score for BaggingClassifier  0.4657942066514913\n",
            "Accuracy Score for LogisticRegression  0.49537037037037035\n",
            "F1 Score for LogisticRegression  0.4782246027968384\n",
            "Accuracy Score for SVC  0.3333333333333333\n",
            "F1 Score for SVC  0.32907700442320226\n",
            "Accuracy Score for GradientBoostingClassifier  0.4861111111111111\n",
            "F1 Score for GradientBoostingClassifier  0.45338763918268826\n"
          ]
        },
        {
          "output_type": "display_data",
          "data": {
            "image/png": "[encoded data removed]",
            "text/plain": [
              "<Figure size 360x288 with 2 Axes>"
            ]
          },
          "metadata": {
            "needs_background": "light"
          }
        },
        {
          "output_type": "display_data",
          "data": {
            "image/png": "[encoded data removed]",
            "text/plain": [
              "<Figure size 360x288 with 2 Axes>"
            ]
          },
          "metadata": {
            "needs_background": "light"
          }
        },
        {
          "output_type": "display_data",
          "data": {
            "image/png": "[encoded data removed]",
            "text/plain": [
              "<Figure size 360x288 with 2 Axes>"
            ]
          },
          "metadata": {
            "needs_background": "light"
          }
        },
        {
          "output_type": "display_data",
          "data": {
            "image/png": "[encoded data removed]",
            "text/plain": [
              "<Figure size 360x288 with 2 Axes>"
            ]
          },
          "metadata": {
            "needs_background": "light"
          }
        },
        {
          "output_type": "display_data",
          "data": {
            "image/png": "[encoded data removed]",
            "text/plain": [
              "<Figure size 360x288 with 2 Axes>"
            ]
          },
          "metadata": {
            "needs_background": "light"
          }
        },
        {
          "output_type": "display_data",
          "data": {
            "image/png": "[encoded data removed]",
            "text/plain": [
              "<Figure size 360x288 with 2 Axes>"
            ]
          },
          "metadata": {
            "needs_background": "light"
          }
        },
        {
          "output_type": "display_data",
          "data": {
            "image/png": "[encoded data removed]",
            "text/plain": [
              "<Figure size 360x288 with 2 Axes>"
            ]
          },
          "metadata": {
            "needs_background": "light"
          }
        }
      ]
    },
    {
      "cell_type": "code",
      "metadata": {
        "id": "V-5NOPSANKO2"
      },
      "source": [
        "y_asia_pred = network_loaded.predict(X_asia_scaled)\n",
        "y_asia_pred = np.argmax(y_asia_pred, axis=1)\n",
        "y_asia_pred += 1"
      ],
      "execution_count": 88,
      "outputs": []
    },
    {
      "cell_type": "code",
      "metadata": {
        "id": "m3_qsp--NOAK",
        "colab": {
          "base_uri": "https://localhost:8080/"
        },
        "outputId": "25f40c2d-6dcd-4d50-950e-57f7e54ea82c"
      },
      "source": [
        "print(\"Accuracy Score for \" +  network_loaded.__class__.__name__ + \"  \" \n",
        "        + str(accuracy_score(y_asia.values,y_asia_pred)) )\n",
        "print(\"F1 Score for \" + network_loaded.__class__.__name__ + \"  \" + \n",
        "        str(f1_score(y_asia.values, y_asia_pred, average='weighted')))"
      ],
      "execution_count": 89,
      "outputs": [
        {
          "output_type": "stream",
          "name": "stdout",
          "text": [
            "Accuracy Score for Sequential  0.5254629629629629\n",
            "F1 Score for Sequential  0.5176496159393014\n"
          ]
        }
      ]
    },
    {
      "cell_type": "code",
      "source": [
        "plot_conf_matrix(y_asia,y_asia_pred,unique_class_label, title=\"Confusion Matrix for Neural Network\")"
      ],
      "metadata": {
        "colab": {
          "base_uri": "https://localhost:8080/",
          "height": 281
        },
        "id": "MM9eykPj9irZ",
        "outputId": "fa66e85c-575d-48c6-d5bf-6990fc772ee7"
      },
      "execution_count": 90,
      "outputs": [
        {
          "output_type": "display_data",
          "data": {
            "image/png": "[encoded data removed]",
            "text/plain": [
              "<Figure size 360x288 with 2 Axes>"
            ]
          },
          "metadata": {
            "needs_background": "light"
          }
        }
      ]
    },
    {
      "cell_type": "code",
      "metadata": {
        "id": "0xaT_dqdNN71"
      },
      "source": [
        "test_acc_score.append(accuracy_score(y_asia,y_asia_pred))\n",
        "test_f1_score.append(f1_score(y_asia, y_asia_pred, average='weighted'))\n",
        "clfList.append(\"Artificial_Neural_Network\")"
      ],
      "execution_count": 91,
      "outputs": []
    },
    {
      "cell_type": "code",
      "metadata": {
        "id": "Id31bCBJVJmu"
      },
      "source": [
        "y_ensemble = ensemble.predict(X_asia_scaled)\n",
        "test_acc_score.append(accuracy_score(y_asia,y_ensemble))\n",
        "test_f1_score.append(f1_score(y_asia, y_ensemble, average='weighted'))\n",
        "clfList.append(\"Voting Classifier\")"
      ],
      "execution_count": 92,
      "outputs": []
    },
    {
      "cell_type": "code",
      "source": [
        "plot_conf_matrix(y_asia,y_ensemble,unique_class_label, title=\"Confusion Matrix for Voting Classifier\")"
      ],
      "metadata": {
        "colab": {
          "base_uri": "https://localhost:8080/",
          "height": 281
        },
        "id": "oxMSacWE_Rwi",
        "outputId": "94c14efa-53fa-49a9-912f-5d9040e5e3ea"
      },
      "execution_count": 93,
      "outputs": [
        {
          "output_type": "display_data",
          "data": {
            "image/png": "[encoded data removed]",
            "text/plain": [
              "<Figure size 360x288 with 2 Axes>"
            ]
          },
          "metadata": {
            "needs_background": "light"
          }
        }
      ]
    },
    {
      "cell_type": "code",
      "metadata": {
        "id": "QQXLSj50Nh2G",
        "colab": {
          "base_uri": "https://localhost:8080/",
          "height": 332
        },
        "outputId": "aa7bf76d-f53b-4ad3-d3d2-e3e93126b610"
      },
      "source": [
        "testing_result_df = pd.DataFrame({'Classifier' :  clfList,\n",
        "                          'Testing_Accuracy': test_acc_score,\n",
        "                          'Testing_F1-score': test_f1_score                          \n",
        "                          })    \n",
        "testing_result_df.sort_values(by=\"Testing_Accuracy\", ascending=False)"
      ],
      "execution_count": 94,
      "outputs": [
        {
          "output_type": "execute_result",
          "data": {
            "text/html": [
              "\n",
              "  <div id=\"df-28b5cfd8-33fb-40b3-aaa9-ffc364212211\">\n",
              "    <div class=\"colab-df-container\">\n",
              "      <div>\n",
              "<style scoped>\n",
              "    .dataframe tbody tr th:only-of-type {\n",
              "        vertical-align: middle;\n",
              "    }\n",
              "\n",
              "    .dataframe tbody tr th {\n",
              "        vertical-align: top;\n",
              "    }\n",
              "\n",
              "    .dataframe thead th {\n",
              "        text-align: right;\n",
              "    }\n",
              "</style>\n",
              "<table border=\"1\" class=\"dataframe\">\n",
              "  <thead>\n",
              "    <tr style=\"text-align: right;\">\n",
              "      <th></th>\n",
              "      <th>Classifier</th>\n",
              "      <th>Testing_Accuracy</th>\n",
              "      <th>Testing_F1-score</th>\n",
              "    </tr>\n",
              "  </thead>\n",
              "  <tbody>\n",
              "    <tr>\n",
              "      <th>7</th>\n",
              "      <td>Artificial_Neural_Network</td>\n",
              "      <td>0.525463</td>\n",
              "      <td>0.517650</td>\n",
              "    </tr>\n",
              "    <tr>\n",
              "      <th>4</th>\n",
              "      <td>LogisticRegression</td>\n",
              "      <td>0.495370</td>\n",
              "      <td>0.478225</td>\n",
              "    </tr>\n",
              "    <tr>\n",
              "      <th>0</th>\n",
              "      <td>RandomForestClassifier</td>\n",
              "      <td>0.486111</td>\n",
              "      <td>0.458905</td>\n",
              "    </tr>\n",
              "    <tr>\n",
              "      <th>6</th>\n",
              "      <td>GradientBoostingClassifier</td>\n",
              "      <td>0.486111</td>\n",
              "      <td>0.453388</td>\n",
              "    </tr>\n",
              "    <tr>\n",
              "      <th>3</th>\n",
              "      <td>BaggingClassifier</td>\n",
              "      <td>0.479167</td>\n",
              "      <td>0.465794</td>\n",
              "    </tr>\n",
              "    <tr>\n",
              "      <th>2</th>\n",
              "      <td>XGBClassifier</td>\n",
              "      <td>0.476852</td>\n",
              "      <td>0.443341</td>\n",
              "    </tr>\n",
              "    <tr>\n",
              "      <th>8</th>\n",
              "      <td>Voting Classifier</td>\n",
              "      <td>0.467593</td>\n",
              "      <td>0.440803</td>\n",
              "    </tr>\n",
              "    <tr>\n",
              "      <th>1</th>\n",
              "      <td>CatBoostClassifier</td>\n",
              "      <td>0.405093</td>\n",
              "      <td>0.380615</td>\n",
              "    </tr>\n",
              "    <tr>\n",
              "      <th>5</th>\n",
              "      <td>SVC</td>\n",
              "      <td>0.333333</td>\n",
              "      <td>0.329077</td>\n",
              "    </tr>\n",
              "  </tbody>\n",
              "</table>\n",
              "</div>\n",
              "      <button class=\"colab-df-convert\" onclick=\"convertToInteractive('df-28b5cfd8-33fb-40b3-aaa9-ffc364212211')\"\n",
              "              title=\"Convert this dataframe to an interactive table.\"\n",
              "              style=\"display:none;\">\n",
              "        \n",
              "  <svg xmlns=\"http://www.w3.org/2000/svg\" height=\"24px\"viewBox=\"0 0 24 24\"\n",
              "       width=\"24px\">\n",
              "    <path d=\"M0 0h24v24H0V0z\" fill=\"none\"/>\n",
              "    <path d=\"M18.56 5.44l.94 2.06.94-2.06 2.06-.94-2.06-.94-.94-2.06-.94 2.06-2.06.94zm-11 1L8.5 8.5l.94-2.06 2.06-.94-2.06-.94L8.5 2.5l-.94 2.06-2.06.94zm10 10l.94 2.06.94-2.06 2.06-.94-2.06-.94-.94-2.06-.94 2.06-2.06.94z\"/><path d=\"M17.41 7.96l-1.37-1.37c-.4-.4-.92-.59-1.43-.59-.52 0-1.04.2-1.43.59L10.3 9.45l-7.72 7.72c-.78.78-.78 2.05 0 2.83L4 21.41c.39.39.9.59 1.41.59.51 0 1.02-.2 1.41-.59l7.78-7.78 2.81-2.81c.8-.78.8-2.07 0-2.86zM5.41 20L4 18.59l7.72-7.72 1.47 1.35L5.41 20z\"/>\n",
              "  </svg>\n",
              "      </button>\n",
              "      \n",
              "  <style>\n",
              "    .colab-df-container {\n",
              "      display:flex;\n",
              "      flex-wrap:wrap;\n",
              "      gap: 12px;\n",
              "    }\n",
              "\n",
              "    .colab-df-convert {\n",
              "      background-color: #E8F0FE;\n",
              "      border: none;\n",
              "      border-radius: 50%;\n",
              "      cursor: pointer;\n",
              "      display: none;\n",
              "      fill: #1967D2;\n",
              "      height: 32px;\n",
              "      padding: 0 0 0 0;\n",
              "      width: 32px;\n",
              "    }\n",
              "\n",
              "    .colab-df-convert:hover {\n",
              "      background-color: #E2EBFA;\n",
              "      box-shadow: 0px 1px 2px rgba(60, 64, 67, 0.3), 0px 1px 3px 1px rgba(60, 64, 67, 0.15);\n",
              "      fill: #174EA6;\n",
              "    }\n",
              "\n",
              "    [theme=dark] .colab-df-convert {\n",
              "      background-color: #3B4455;\n",
              "      fill: #D2E3FC;\n",
              "    }\n",
              "\n",
              "    [theme=dark] .colab-df-convert:hover {\n",
              "      background-color: #434B5C;\n",
              "      box-shadow: 0px 1px 3px 1px rgba(0, 0, 0, 0.15);\n",
              "      filter: drop-shadow(0px 1px 2px rgba(0, 0, 0, 0.3));\n",
              "      fill: #FFFFFF;\n",
              "    }\n",
              "  </style>\n",
              "\n",
              "      <script>\n",
              "        const buttonEl =\n",
              "          document.querySelector('#df-28b5cfd8-33fb-40b3-aaa9-ffc364212211 button.colab-df-convert');\n",
              "        buttonEl.style.display =\n",
              "          google.colab.kernel.accessAllowed ? 'block' : 'none';\n",
              "\n",
              "        async function convertToInteractive(key) {\n",
              "          const element = document.querySelector('#df-28b5cfd8-33fb-40b3-aaa9-ffc364212211');\n",
              "          const dataTable =\n",
              "            await google.colab.kernel.invokeFunction('convertToInteractive',\n",
              "                                                     [key], {});\n",
              "          if (!dataTable) return;\n",
              "\n",
              "          const docLinkHtml = 'Like what you see? Visit the ' +\n",
              "            '<a target=\"_blank\" href=https://colab.research.google.com/notebooks/data_table.ipynb>data table notebook</a>'\n",
              "            + ' to learn more about interactive tables.';\n",
              "          element.innerHTML = '';\n",
              "          dataTable['output_type'] = 'display_data';\n",
              "          await google.colab.output.renderOutput(dataTable, element);\n",
              "          const docLink = document.createElement('div');\n",
              "          docLink.innerHTML = docLinkHtml;\n",
              "          element.appendChild(docLink);\n",
              "        }\n",
              "      </script>\n",
              "    </div>\n",
              "  </div>\n",
              "  "
            ],
            "text/plain": [
              "                   Classifier  Testing_Accuracy  Testing_F1-score\n",
              "7   Artificial_Neural_Network          0.525463          0.517650\n",
              "4          LogisticRegression          0.495370          0.478225\n",
              "0      RandomForestClassifier          0.486111          0.458905\n",
              "6  GradientBoostingClassifier          0.486111          0.453388\n",
              "3           BaggingClassifier          0.479167          0.465794\n",
              "2               XGBClassifier          0.476852          0.443341\n",
              "8           Voting Classifier          0.467593          0.440803\n",
              "1          CatBoostClassifier          0.405093          0.380615\n",
              "5                         SVC          0.333333          0.329077"
            ]
          },
          "metadata": {},
          "execution_count": 94
        }
      ]
    }
  ]
}