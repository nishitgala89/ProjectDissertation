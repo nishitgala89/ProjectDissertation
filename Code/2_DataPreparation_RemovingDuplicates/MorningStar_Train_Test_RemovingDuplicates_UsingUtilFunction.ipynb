{
  "nbformat": 4,
  "nbformat_minor": 0,
  "metadata": {
    "colab": {
      "name": "MorningStar_Train_Test_RemovingDuplicates_UsingUtilFunction.ipynb",
      "provenance": [],
      "collapsed_sections": [],
      "include_colab_link": true
    },
    "kernelspec": {
      "display_name": "Python 3",
      "name": "python3"
    },
    "language_info": {
      "name": "python"
    }
  },
  "cells": [
    {
      "cell_type": "markdown",
      "metadata": {
        "id": "view-in-github",
        "colab_type": "text"
      },
      "source": [
        "<a href=\"https://colab.research.google.com/github/nishitgala89/ProjectDissertation/blob/main/Code/2_DataPreparation_RemovingDuplicates/MorningStar_Train_Test_RemovingDuplicates_UsingUtilFunction.ipynb\" target=\"_parent\"><img src=\"https://colab.research.google.com/assets/colab-badge.svg\" alt=\"Open In Colab\"/></a>"
      ]
    },
    {
      "cell_type": "markdown",
      "metadata": {
        "id": "fltO6by0mpis"
      },
      "source": [
        "**Set whether Return based on 60months (GBRReturnM60) column needs to be dropped**\n"
      ]
    },
    {
      "cell_type": "code",
      "metadata": {
        "id": "iEuaG-71liE3"
      },
      "source": [
        "dropM60 = False"
      ],
      "execution_count": 1,
      "outputs": []
    },
    {
      "cell_type": "markdown",
      "metadata": {
        "id": "KH-1qEqEmoW3"
      },
      "source": [
        "**Importing Utilities File**"
      ]
    },
    {
      "cell_type": "code",
      "metadata": {
        "id": "2URvQm_TmkXs"
      },
      "source": [
        "# from google.colab import files\n",
        "# src = list(files.upload().values())[0]\n",
        "# open('morningStarUtilities.py','wb').write(src)\n",
        "# import morningStarUtilities"
      ],
      "execution_count": 2,
      "outputs": []
    },
    {
      "cell_type": "markdown",
      "metadata": {
        "id": "aclQsrOe7Nei"
      },
      "source": [
        "### Import from Github"
      ]
    },
    {
      "cell_type": "code",
      "metadata": {
        "colab": {
          "base_uri": "https://localhost:8080/"
        },
        "id": "RI6dk-Bj7PwF",
        "outputId": "ad206829-54d3-426d-c88d-1534316809ee"
      },
      "source": [
        "user = 'nishitgala89'\n",
        "repo = 'ProjectDissertation'\n",
        "src_dir = \"Code/utilities\"\n",
        "pyfile = \"morningStarUtilities.py\"\n",
        "\n",
        "url = f\"https://raw.githubusercontent.com/{user}/{repo}/main/{src_dir}/{pyfile}\"\n",
        "!wget --no-cache --backups=1 {url}\n",
        "\n",
        "import morningStarUtilities"
      ],
      "execution_count": 3,
      "outputs": [
        {
          "output_type": "stream",
          "name": "stdout",
          "text": [
            "--2021-11-29 14:05:25--  https://raw.githubusercontent.com/nishitgala89/ProjectDissertation/main/Code/utilities/morningStarUtilities.py\n",
            "Resolving raw.githubusercontent.com (raw.githubusercontent.com)... 185.199.109.133, 185.199.108.133, 185.199.110.133, ...\n",
            "Connecting to raw.githubusercontent.com (raw.githubusercontent.com)|185.199.109.133|:443... connected.\n",
            "HTTP request sent, awaiting response... 200 OK\n",
            "Length: 6484 (6.3K) [text/plain]\n",
            "Failed to rename morningStarUtilities.py to morningStarUtilities.py.1: (2) No such file or directory\n",
            "Saving to: ‘morningStarUtilities.py’\n",
            "\n",
            "\rmorningStarUtilitie   0%[                    ]       0  --.-KB/s               \rmorningStarUtilitie 100%[===================>]   6.33K  --.-KB/s    in 0s      \n",
            "\n",
            "2021-11-29 14:05:25 (60.9 MB/s) - ‘morningStarUtilities.py’ saved [6484/6484]\n",
            "\n"
          ]
        }
      ]
    },
    {
      "cell_type": "code",
      "metadata": {
        "id": "gHgcOqJ3FT61"
      },
      "source": [
        "import pandas as pd\n",
        "import numpy as np\n",
        "import matplotlib.pyplot as plt\n",
        "import seaborn as sns"
      ],
      "execution_count": 4,
      "outputs": []
    },
    {
      "cell_type": "code",
      "metadata": {
        "id": "ZfS7Nm4fFWR2"
      },
      "source": [
        "morningstar_data_url = \"https://raw.githubusercontent.com/nishitgala89/ProjectDissertation/main/Datasheets/1_Preparation/3_Morningstar_new_df.csv\"\n",
        "morningstar_df = pd.read_csv(morningstar_data_url)\n",
        "morningstar_df.rename(columns = {morningstar_df.columns[0]: \"SecId\"}, inplace=True)\n",
        "morningstar_df.set_index(\"SecId\",inplace=True)"
      ],
      "execution_count": 5,
      "outputs": []
    },
    {
      "cell_type": "code",
      "metadata": {
        "colab": {
          "base_uri": "https://localhost:8080/"
        },
        "id": "dbly7CjsFaVh",
        "outputId": "8dbe01ef-f0b1-48c9-ef1c-a11ffb2c9e04"
      },
      "source": [
        "morningstar_df.info(verbose=False)"
      ],
      "execution_count": 6,
      "outputs": [
        {
          "output_type": "stream",
          "name": "stdout",
          "text": [
            "<class 'pandas.core.frame.DataFrame'>\n",
            "Index: 1184 entries, F0GBR04N5Q to F0GBR04OC1\n",
            "Columns: 49 entries, Name to TrackRecordExtension\n",
            "dtypes: bool(1), float64(29), int64(13), object(6)\n",
            "memory usage: 454.4+ KB\n"
          ]
        }
      ]
    },
    {
      "cell_type": "code",
      "metadata": {
        "colab": {
          "base_uri": "https://localhost:8080/"
        },
        "id": "0cw_pYSiGsP-",
        "outputId": "9d8b2658-99ca-44a7-c88c-8e77fdbc012c"
      },
      "source": [
        "morningstar_df[morningstar_df['GBRReturnM3'].isnull()].index"
      ],
      "execution_count": 7,
      "outputs": [
        {
          "output_type": "execute_result",
          "data": {
            "text/plain": [
              "Index(['F00000XCYF', 'F00000W1FR'], dtype='object', name='SecId')"
            ]
          },
          "metadata": {},
          "execution_count": 7
        }
      ]
    },
    {
      "cell_type": "code",
      "metadata": {
        "colab": {
          "base_uri": "https://localhost:8080/"
        },
        "id": "Wv428ogpH2Po",
        "outputId": "287e4581-daa4-439d-fb63-6e9a3b92db06"
      },
      "source": [
        "morningstar_df.shape"
      ],
      "execution_count": 8,
      "outputs": [
        {
          "output_type": "execute_result",
          "data": {
            "text/plain": [
              "(1184, 49)"
            ]
          },
          "metadata": {},
          "execution_count": 8
        }
      ]
    },
    {
      "cell_type": "code",
      "metadata": {
        "colab": {
          "base_uri": "https://localhost:8080/"
        },
        "id": "V4LVh0gJG82T",
        "outputId": "9d274231-f7f9-4328-fc20-3f5a7b19d4d8"
      },
      "source": [
        "morningstar_df = morningStarUtilities.dropRecordsbyRowIndex('GBRReturnM3',morningstar_df)"
      ],
      "execution_count": 9,
      "outputs": [
        {
          "output_type": "stream",
          "name": "stdout",
          "text": [
            "Removing Index -->  ['F00000XCYF', 'F00000W1FR']\n"
          ]
        }
      ]
    },
    {
      "cell_type": "code",
      "metadata": {
        "colab": {
          "base_uri": "https://localhost:8080/"
        },
        "id": "_UW8RU_-IAvP",
        "outputId": "9ec4eef3-d803-48d5-dc77-c0163b257a12"
      },
      "source": [
        "morningstar_df.shape"
      ],
      "execution_count": 10,
      "outputs": [
        {
          "output_type": "execute_result",
          "data": {
            "text/plain": [
              "(1182, 49)"
            ]
          },
          "metadata": {},
          "execution_count": 10
        }
      ]
    },
    {
      "cell_type": "code",
      "metadata": {
        "colab": {
          "base_uri": "https://localhost:8080/"
        },
        "id": "LSMZLNsYMhZN",
        "outputId": "24521d43-56c7-43a2-ee04-51881b7dc006"
      },
      "source": [
        "morningstar_df = morningStarUtilities.generalizeMorningStarCategories(morningstar_df)\n",
        "morningstar_df.info()"
      ],
      "execution_count": 11,
      "outputs": [
        {
          "output_type": "stream",
          "name": "stdout",
          "text": [
            "Large-Cap        451\n",
            "Miscellaneous    242\n",
            "Flex-Cap         179\n",
            "Mid_Small-Cap    161\n",
            "Income           149\n",
            "Name: CategoryName, dtype: int64\n",
            "<class 'pandas.core.frame.DataFrame'>\n",
            "Index: 1182 entries, F0GBR04N5Q to F0GBR04OC1\n",
            "Data columns (total 53 columns):\n",
            " #   Column                            Non-Null Count  Dtype  \n",
            "---  ------                            --------------  -----  \n",
            " 0   Name                              1182 non-null   object \n",
            " 1   PriceCurrency                     1182 non-null   object \n",
            " 2   TenforeId                         1180 non-null   object \n",
            " 3   LegalName                         1182 non-null   object \n",
            " 4   ClosePrice                        1182 non-null   float64\n",
            " 5   StarRatingM255                    1182 non-null   int64  \n",
            " 6   SustainabilityRank                1182 non-null   int64  \n",
            " 7   QuantitativeRating                487 non-null    float64\n",
            " 8   Yield_M12                         1180 non-null   float64\n",
            " 9   GBRReturnD1                       1182 non-null   float64\n",
            " 10  GBRReturnW1                       1182 non-null   float64\n",
            " 11  GBRReturnM1                       1182 non-null   float64\n",
            " 12  GBRReturnM3                       1182 non-null   float64\n",
            " 13  GBRReturnM6                       1182 non-null   float64\n",
            " 14  GBRReturnM0                       1182 non-null   float64\n",
            " 15  GBRReturnM12                      1182 non-null   float64\n",
            " 16  GBRReturnM36                      1182 non-null   float64\n",
            " 17  GBRReturnM60                      1026 non-null   float64\n",
            " 18  GBRReturnM120                     738 non-null    float64\n",
            " 19  MaxFrontEndLoad                   1157 non-null   float64\n",
            " 20  OngoingCostActual                 1171 non-null   float64\n",
            " 21  PerformanceFeeActual              1036 non-null   float64\n",
            " 22  TransactionFeeActual              1174 non-null   float64\n",
            " 23  MaximumExitCostAcquired           271 non-null    float64\n",
            " 24  FeeLevel                          283 non-null    object \n",
            " 25  ManagerTenure                     1182 non-null   float64\n",
            " 26  MaxDeferredLoad                   22 non-null     float64\n",
            " 27  FundTNAV                          1174 non-null   float64\n",
            " 28  EquityStyleBox                    1182 non-null   int64  \n",
            " 29  AverageMarketCapital              1182 non-null   float64\n",
            " 30  MorningstarRiskM255               1182 non-null   int64  \n",
            " 31  AlphaM36                          1182 non-null   float64\n",
            " 32  BetaM36                           1182 non-null   float64\n",
            " 33  R2M36                             1182 non-null   float64\n",
            " 34  StandardDeviationM36              1182 non-null   float64\n",
            " 35  SharpeM36                         1182 non-null   float64\n",
            " 36  InvestorTypeRetail                1182 non-null   int64  \n",
            " 37  InvestorTypeProfessional          1182 non-null   int64  \n",
            " 38  InvestorTypeEligibleCounterparty  1182 non-null   int64  \n",
            " 39  ExpertiseBasic                    1182 non-null   int64  \n",
            " 40  ExpertiseAdvanced                 1182 non-null   int64  \n",
            " 41  ExpertiseInformed                 1182 non-null   int64  \n",
            " 42  ReturnProfilePreservation         1182 non-null   int64  \n",
            " 43  ReturnProfileGrowth               1182 non-null   int64  \n",
            " 44  ReturnProfileIncome               1182 non-null   int64  \n",
            " 45  ReturnProfileHedging              1180 non-null   float64\n",
            " 46  ReturnProfileOther                1178 non-null   float64\n",
            " 47  TrackRecordExtension              1182 non-null   bool   \n",
            " 48  Cat_Flex-Cap                      1182 non-null   uint8  \n",
            " 49  Cat_Income                        1182 non-null   uint8  \n",
            " 50  Cat_Large-Cap                     1182 non-null   uint8  \n",
            " 51  Cat_Mid_Small-Cap                 1182 non-null   uint8  \n",
            " 52  Cat_Miscellaneous                 1182 non-null   uint8  \n",
            "dtypes: bool(1), float64(29), int64(13), object(5), uint8(5)\n",
            "memory usage: 450.2+ KB\n"
          ]
        }
      ]
    },
    {
      "cell_type": "code",
      "metadata": {
        "id": "OXxGta48RQgB"
      },
      "source": [
        "# Dropping columns as per analysis in the sheet {MorningStar_RemovedDuplicates_EDA}\n",
        "\n",
        "morningstar_df = morningStarUtilities.dropColumns(morningstar_df,\n",
        "                                                  'ClosePrice','GBRReturnD1','LegalName',\n",
        "                                                  'TenforeId','PriceCurrency',\n",
        "                                                  'QuantitativeRating','MaxDeferredLoad',\n",
        "                                                  'InvestorTypeRetail',\n",
        "                                                  'InvestorTypeEligibleCounterparty',\n",
        "                                                  'InvestorTypeProfessional',\n",
        "                                                  'ReturnProfileOther', 'ReturnProfileGrowth',\n",
        "                                                  'MaximumExitCostAcquired','FeeLevel',\n",
        "                                                  'ExpertiseBasic','ExpertiseAdvanced',\n",
        "                                                  'ExpertiseInformed','GBRReturnM120',\n",
        "                                                  'PerformanceFeeActual')\n"
      ],
      "execution_count": 12,
      "outputs": []
    },
    {
      "cell_type": "code",
      "metadata": {
        "colab": {
          "base_uri": "https://localhost:8080/"
        },
        "id": "uVkzRWZYfDNT",
        "outputId": "2255d849-df35-4b5d-f3a4-f1960bf3a70c"
      },
      "source": [
        "morningstar_df.info()"
      ],
      "execution_count": 13,
      "outputs": [
        {
          "output_type": "stream",
          "name": "stdout",
          "text": [
            "<class 'pandas.core.frame.DataFrame'>\n",
            "Index: 1182 entries, F0GBR04N5Q to F0GBR04OC1\n",
            "Data columns (total 34 columns):\n",
            " #   Column                     Non-Null Count  Dtype  \n",
            "---  ------                     --------------  -----  \n",
            " 0   Name                       1182 non-null   object \n",
            " 1   StarRatingM255             1182 non-null   int64  \n",
            " 2   SustainabilityRank         1182 non-null   int64  \n",
            " 3   Yield_M12                  1180 non-null   float64\n",
            " 4   GBRReturnW1                1182 non-null   float64\n",
            " 5   GBRReturnM1                1182 non-null   float64\n",
            " 6   GBRReturnM3                1182 non-null   float64\n",
            " 7   GBRReturnM6                1182 non-null   float64\n",
            " 8   GBRReturnM0                1182 non-null   float64\n",
            " 9   GBRReturnM12               1182 non-null   float64\n",
            " 10  GBRReturnM36               1182 non-null   float64\n",
            " 11  GBRReturnM60               1026 non-null   float64\n",
            " 12  MaxFrontEndLoad            1157 non-null   float64\n",
            " 13  OngoingCostActual          1171 non-null   float64\n",
            " 14  TransactionFeeActual       1174 non-null   float64\n",
            " 15  ManagerTenure              1182 non-null   float64\n",
            " 16  FundTNAV                   1174 non-null   float64\n",
            " 17  EquityStyleBox             1182 non-null   int64  \n",
            " 18  AverageMarketCapital       1182 non-null   float64\n",
            " 19  MorningstarRiskM255        1182 non-null   int64  \n",
            " 20  AlphaM36                   1182 non-null   float64\n",
            " 21  BetaM36                    1182 non-null   float64\n",
            " 22  R2M36                      1182 non-null   float64\n",
            " 23  StandardDeviationM36       1182 non-null   float64\n",
            " 24  SharpeM36                  1182 non-null   float64\n",
            " 25  ReturnProfilePreservation  1182 non-null   int64  \n",
            " 26  ReturnProfileIncome        1182 non-null   int64  \n",
            " 27  ReturnProfileHedging       1180 non-null   float64\n",
            " 28  TrackRecordExtension       1182 non-null   bool   \n",
            " 29  Cat_Flex-Cap               1182 non-null   uint8  \n",
            " 30  Cat_Income                 1182 non-null   uint8  \n",
            " 31  Cat_Large-Cap              1182 non-null   uint8  \n",
            " 32  Cat_Mid_Small-Cap          1182 non-null   uint8  \n",
            " 33  Cat_Miscellaneous          1182 non-null   uint8  \n",
            "dtypes: bool(1), float64(21), int64(6), object(1), uint8(5)\n",
            "memory usage: 274.7+ KB\n"
          ]
        }
      ]
    },
    {
      "cell_type": "code",
      "metadata": {
        "colab": {
          "base_uri": "https://localhost:8080/"
        },
        "id": "s5lzYV4yfBIl",
        "outputId": "b621face-6752-4a93-f012-53ff3b541627"
      },
      "source": [
        "morningStarUtilities.checkNullValues(morningstar_df)"
      ],
      "execution_count": 14,
      "outputs": [
        {
          "output_type": "execute_result",
          "data": {
            "text/plain": [
              "GBRReturnM60            156\n",
              "MaxFrontEndLoad          25\n",
              "OngoingCostActual        11\n",
              "FundTNAV                  8\n",
              "TransactionFeeActual      8\n",
              "ReturnProfileHedging      2\n",
              "Yield_M12                 2\n",
              "dtype: int64"
            ]
          },
          "metadata": {},
          "execution_count": 14
        }
      ]
    },
    {
      "cell_type": "markdown",
      "metadata": {
        "id": "s66sG81vjiIn"
      },
      "source": [
        "**Checking M60 condition**"
      ]
    },
    {
      "cell_type": "code",
      "metadata": {
        "id": "WPxtLRD0jhXT",
        "colab": {
          "base_uri": "https://localhost:8080/"
        },
        "outputId": "51daf8b0-aa9f-4019-e646-80bd3f6efd41"
      },
      "source": [
        "if dropM60:\n",
        "  morningstar_df = morningStarUtilities.dropColumns(morningstar_df,\"GBRReturnM60\")\n",
        "else:\n",
        "  morningstar_df = morningStarUtilities.dropRecordsbyRowIndex('GBRReturnM60',morningstar_df)"
      ],
      "execution_count": 15,
      "outputs": [
        {
          "output_type": "stream",
          "name": "stdout",
          "text": [
            "Removing Index -->  ['F00000ZJLW', 'F00000ZSTR', 'F00001457X', 'F00000ZGCY', 'F00000Y4KZ', 'F00000Y4L0', 'F00000YR7U', 'F000010DLP', 'F00000YOJO', 'F00000ZW92', 'F00000ZRHA', 'F00000Z9NI', 'F000010F5D', 'F00000XH8D', 'F00000YENN', 'F00000YXCI', 'F00001154P', 'F00000ZMH7', 'F00000ZHS4', 'F000011DVW', 'F00000YFOR', 'F00000VUCI', 'F00000YDBN', 'F00000XGMV', 'F000010BFA', 'F00000Z2S2', 'F00000YWGS', 'F00000YA2Z', 'F00000ZCZD', 'F00000ZLI0', 'F00000TW81', 'F000011007', 'F0000100W5', 'F0000100W9', 'F00000ZHOD', 'F00000ZOT1', 'F0000110I4', 'F00000XK81', 'F00000ZS1K', 'F00000ZF2V', 'F00000ZBNA', 'F00000YF5K', 'F00000YCY2', 'F00000YCGU', 'F00000WMBE', 'F00000YIFV', 'F00000ZXQG', 'F00000RW8J', 'F00000RW8K', 'F00000ZIAD', 'F0000155AX', 'F00000YWBD', 'F00000ZQYQ', 'F00000ZZAS', 'F00000ZZS6', 'F00000YXCO', 'F00000YM39', 'F00000YBT6', 'F00000XVJA', 'F000010BB8', 'F00000XKW9', 'F0000109PF', 'F0000102PG', 'F0000102Y6', 'F00000QB3R', 'F00000ZW98', 'F00000ZYGQ', 'F00000YXWS', 'F00000Z0AM', 'F0000108LM', 'F00000WLB8', 'F00000ZGDQ', 'F00000ZZ86', 'F00000ZC4G', 'F00000YBS8', 'F0000101MU', 'F00000Z64T', 'F00000Z2BK', 'F00000Z505', 'F00000ZVQ2', 'F00000XCJU', 'F00000Z4A8', 'F000010098', 'F000011982', 'F0000108X4', 'F00000ZMH5', 'F00000ZX12', 'F0000100NM', 'F00000ZI3T', 'F00000XLBX', 'F00000XQF3', 'F00000XIB1', 'F00000M89N', 'F000010AIS', 'F00000Y8IA', 'F0000101BR', 'F00000ZZ5P', 'F00000Y8YN', 'F00000Z4XQ', 'F00000Y9WD', 'F000010SV4', 'F000010KD8', 'F00000YIKF', 'F00000XHLB', 'F000010FG8', 'F0000106V1', 'F00000ZSIC', 'F00000ZWX7', 'F0000102YE', 'F00000WF7I', 'F00000WF7E', 'F00000Y4BM', 'F00000Y4BQ', 'F00000XSAU', 'F00000XSB2', 'F000014PU7', 'F0000151EF', 'F00000YQHE', 'F00000ZTV3', 'F00000ZFZT', 'F00000ZO5K', 'F00000XURC', 'F00001024G', 'F00000ZOBC', 'F00000XQDE', 'F00000ZO5M', 'F00000YQNK', 'F00000Z1T9', 'F000014MAT', 'F00000Y7LH', 'F000010FG9', 'F000010646', 'F00000YV7N', 'F00000YV7P', 'F00000ZIAF', 'F00000XXVT', 'F00000XWYS', 'F00000WF4U', 'F00000XY8K', 'F00000XIZ6', 'F0000150TA', 'F000010CMK', 'F0000155BD', 'F00000YXWR', 'F000010AB6', 'F00001071O', 'F00000XAQM', 'F00000U46L', 'F00000ZIAH', 'F00000ZIAG', 'F00000Y64S', 'F00000Y64U', 'F00000XUIV', 'F00000ZLKE', 'F00000YQNL', 'F0000102YG']\n"
          ]
        }
      ]
    },
    {
      "cell_type": "code",
      "metadata": {
        "colab": {
          "base_uri": "https://localhost:8080/"
        },
        "id": "R9yMkqTefz7r",
        "outputId": "02a83f07-5f6d-455b-8ebf-33d1384cdccf"
      },
      "source": [
        "morningstar_df.info()"
      ],
      "execution_count": 16,
      "outputs": [
        {
          "output_type": "stream",
          "name": "stdout",
          "text": [
            "<class 'pandas.core.frame.DataFrame'>\n",
            "Index: 1026 entries, F0GBR04N5Q to F0GBR04OC1\n",
            "Data columns (total 34 columns):\n",
            " #   Column                     Non-Null Count  Dtype  \n",
            "---  ------                     --------------  -----  \n",
            " 0   Name                       1026 non-null   object \n",
            " 1   StarRatingM255             1026 non-null   int64  \n",
            " 2   SustainabilityRank         1026 non-null   int64  \n",
            " 3   Yield_M12                  1025 non-null   float64\n",
            " 4   GBRReturnW1                1026 non-null   float64\n",
            " 5   GBRReturnM1                1026 non-null   float64\n",
            " 6   GBRReturnM3                1026 non-null   float64\n",
            " 7   GBRReturnM6                1026 non-null   float64\n",
            " 8   GBRReturnM0                1026 non-null   float64\n",
            " 9   GBRReturnM12               1026 non-null   float64\n",
            " 10  GBRReturnM36               1026 non-null   float64\n",
            " 11  GBRReturnM60               1026 non-null   float64\n",
            " 12  MaxFrontEndLoad            1017 non-null   float64\n",
            " 13  OngoingCostActual          1019 non-null   float64\n",
            " 14  TransactionFeeActual       1020 non-null   float64\n",
            " 15  ManagerTenure              1026 non-null   float64\n",
            " 16  FundTNAV                   1020 non-null   float64\n",
            " 17  EquityStyleBox             1026 non-null   int64  \n",
            " 18  AverageMarketCapital       1026 non-null   float64\n",
            " 19  MorningstarRiskM255        1026 non-null   int64  \n",
            " 20  AlphaM36                   1026 non-null   float64\n",
            " 21  BetaM36                    1026 non-null   float64\n",
            " 22  R2M36                      1026 non-null   float64\n",
            " 23  StandardDeviationM36       1026 non-null   float64\n",
            " 24  SharpeM36                  1026 non-null   float64\n",
            " 25  ReturnProfilePreservation  1026 non-null   int64  \n",
            " 26  ReturnProfileIncome        1026 non-null   int64  \n",
            " 27  ReturnProfileHedging       1025 non-null   float64\n",
            " 28  TrackRecordExtension       1026 non-null   bool   \n",
            " 29  Cat_Flex-Cap               1026 non-null   uint8  \n",
            " 30  Cat_Income                 1026 non-null   uint8  \n",
            " 31  Cat_Large-Cap              1026 non-null   uint8  \n",
            " 32  Cat_Mid_Small-Cap          1026 non-null   uint8  \n",
            " 33  Cat_Miscellaneous          1026 non-null   uint8  \n",
            "dtypes: bool(1), float64(21), int64(6), object(1), uint8(5)\n",
            "memory usage: 238.5+ KB\n"
          ]
        }
      ]
    },
    {
      "cell_type": "code",
      "metadata": {
        "id": "qahXkn3WlOsi"
      },
      "source": [
        "test_index = round(morningstar_df.shape[0] * 0.25)"
      ],
      "execution_count": 17,
      "outputs": []
    },
    {
      "cell_type": "code",
      "metadata": {
        "id": "YMx4g0tqgmBf"
      },
      "source": [
        "shuffled_df = morningstar_df.sample(frac=1)\n",
        "test_df, train_df = shuffled_df[:test_index], shuffled_df[test_index:]"
      ],
      "execution_count": 18,
      "outputs": []
    },
    {
      "cell_type": "code",
      "metadata": {
        "colab": {
          "base_uri": "https://localhost:8080/",
          "height": 455
        },
        "id": "MEnKX9gOhPAk",
        "outputId": "d73a672f-9648-4695-8b3b-5c400fd212ef"
      },
      "source": [
        "fig,ax = plt.subplots(1,2,figsize=(15,7))\n",
        "train_df.groupby(['StarRatingM255'])['StarRatingM255'].count().sort_values().plot(kind='bar',ax=ax[0], title='Xtrain Split')\n",
        "test_df.groupby(['StarRatingM255'])['StarRatingM255'].count().sort_values().plot(kind='bar',ax=ax[1], title='Xtest Split')\n",
        "plt.show()"
      ],
      "execution_count": 19,
      "outputs": [
        {
          "output_type": "display_data",
          "data": {
            "image/png": "[encoded data removed]",
            "text/plain": [
              "<Figure size 1080x504 with 2 Axes>"
            ]
          },
          "metadata": {
            "needs_background": "light"
          }
        }
      ]
    },
    {
      "cell_type": "markdown",
      "metadata": {
        "id": "_D99F0OHkOm8"
      },
      "source": [
        "**Check M60 Flag at Top**"
      ]
    },
    {
      "cell_type": "code",
      "metadata": {
        "id": "N86v648thbW4"
      },
      "source": [
        "if dropM60:\n",
        "  train_df.to_csv(\"morningstar_removedDuplicates_train_withoutM60.csv\",index=\"SecId\")\n",
        "  test_df.to_csv(\"morningstar_removedDuplicates_test_withoutM60.csv\",index=\"SecId\")\n",
        "else:\n",
        "  train_df.to_csv(\"morningstar_removedDuplicates_train_withM60.csv\",index=\"SecId\")\n",
        "  test_df.to_csv(\"morningstar_removedDuplicates_test_withM60.csv\",index=\"SecId\")"
      ],
      "execution_count": 20,
      "outputs": []
    }
  ]
}