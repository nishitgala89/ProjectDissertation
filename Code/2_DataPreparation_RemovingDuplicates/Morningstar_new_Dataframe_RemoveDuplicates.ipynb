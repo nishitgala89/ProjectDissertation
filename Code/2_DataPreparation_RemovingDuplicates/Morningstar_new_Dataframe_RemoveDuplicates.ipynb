{
  "nbformat": 4,
  "nbformat_minor": 0,
  "metadata": {
    "colab": {
      "name": "Morningstar_new_Dataframe-RemoveDuplicates.ipynb",
      "provenance": [],
      "collapsed_sections": [],
      "include_colab_link": true
    },
    "kernelspec": {
      "name": "python3",
      "display_name": "Python 3"
    },
    "language_info": {
      "name": "python"
    }
  },
  "cells": [
    {
      "cell_type": "markdown",
      "metadata": {
        "id": "view-in-github",
        "colab_type": "text"
      },
      "source": [
        "<a href=\"https://colab.research.google.com/github/nishitgala89/ProjectDissertation/blob/main/Code/2_DataPreparation_RemovingDuplicates/Morningstar_new_Dataframe_RemoveDuplicates.ipynb\" target=\"_parent\"><img src=\"https://colab.research.google.com/assets/colab-badge.svg\" alt=\"Open In Colab\"/></a>"
      ]
    },
    {
      "cell_type": "code",
      "metadata": {
        "id": "7KDfHHE3QkVy"
      },
      "source": [
        "from google.colab import files\n",
        "import pandas as pd\n",
        "import numpy as np\n",
        "import matplotlib.pyplot as plt\n",
        "import seaborn as sns\n",
        "import plotly.express as px"
      ],
      "execution_count": null,
      "outputs": []
    },
    {
      "cell_type": "code",
      "metadata": {
        "id": "w7-Rv9sdsDxK"
      },
      "source": [
        "#morningstar_df = pd.read_csv(\"/content/sample_data/Asia_Developed.csv\")\n"
      ],
      "execution_count": null,
      "outputs": []
    },
    {
      "cell_type": "code",
      "metadata": {
        "id": "tp6KaTwCQlsb",
        "colab": {
          "base_uri": "https://localhost:8080/"
        },
        "outputId": "f6351610-0fc0-42cf-818d-29ac080e227f"
      },
      "source": [
        "morningstar_data_url = \"https://raw.githubusercontent.com/nishitgala89/ProjectDissertation/main/Datasheets/1_Preparation/1_All_Equities_MorningStar.csv\"\n",
        "morningstar_df = pd.read_csv(morningstar_data_url).set_index(\"SecId\")\n",
        "morningstar_df.info()"
      ],
      "execution_count": 34,
      "outputs": [
        {
          "output_type": "stream",
          "name": "stdout",
          "text": [
            "<class 'pandas.core.frame.DataFrame'>\n",
            "Index: 2761 entries, F0GBR04AX4 to F000010KD8\n",
            "Data columns (total 49 columns):\n",
            " #   Column                            Non-Null Count  Dtype  \n",
            "---  ------                            --------------  -----  \n",
            " 0   Name                              2761 non-null   object \n",
            " 1   PriceCurrency                     2761 non-null   object \n",
            " 2   TenforeId                         2753 non-null   object \n",
            " 3   LegalName                         2761 non-null   object \n",
            " 4   ClosePrice                        2761 non-null   float64\n",
            " 5   StarRatingM255                    2761 non-null   int64  \n",
            " 6   SustainabilityRank                2761 non-null   int64  \n",
            " 7   QuantitativeRating                1047 non-null   float64\n",
            " 8   CategoryName                      2761 non-null   object \n",
            " 9   Yield_M12                         2756 non-null   float64\n",
            " 10  GBRReturnD1                       2761 non-null   float64\n",
            " 11  GBRReturnW1                       2761 non-null   float64\n",
            " 12  GBRReturnM1                       2761 non-null   float64\n",
            " 13  GBRReturnM3                       2758 non-null   float64\n",
            " 14  GBRReturnM6                       2758 non-null   float64\n",
            " 15  GBRReturnM0                       2758 non-null   float64\n",
            " 16  GBRReturnM12                      2758 non-null   float64\n",
            " 17  GBRReturnM36                      2752 non-null   float64\n",
            " 18  GBRReturnM60                      2375 non-null   float64\n",
            " 19  GBRReturnM120                     1580 non-null   float64\n",
            " 20  MaxFrontEndLoad                   2667 non-null   float64\n",
            " 21  OngoingCostActual                 2743 non-null   float64\n",
            " 22  PerformanceFeeActual              2371 non-null   float64\n",
            " 23  TransactionFeeActual              2747 non-null   float64\n",
            " 24  MaximumExitCostAcquired           507 non-null    float64\n",
            " 25  FeeLevel                          539 non-null    object \n",
            " 26  ManagerTenure                     2734 non-null   float64\n",
            " 27  MaxDeferredLoad                   47 non-null     float64\n",
            " 28  FundTNAV                          2740 non-null   float64\n",
            " 29  EquityStyleBox                    2761 non-null   int64  \n",
            " 30  AverageMarketCapital              2759 non-null   float64\n",
            " 31  MorningstarRiskM255               2761 non-null   int64  \n",
            " 32  AlphaM36                          2758 non-null   float64\n",
            " 33  BetaM36                           2758 non-null   float64\n",
            " 34  R2M36                             2758 non-null   float64\n",
            " 35  StandardDeviationM36              2757 non-null   float64\n",
            " 36  SharpeM36                         2757 non-null   float64\n",
            " 37  InvestorTypeRetail                2761 non-null   int64  \n",
            " 38  InvestorTypeProfessional          2761 non-null   int64  \n",
            " 39  InvestorTypeEligibleCounterparty  2761 non-null   int64  \n",
            " 40  ExpertiseBasic                    2761 non-null   int64  \n",
            " 41  ExpertiseAdvanced                 2761 non-null   int64  \n",
            " 42  ExpertiseInformed                 2761 non-null   int64  \n",
            " 43  ReturnProfilePreservation         2761 non-null   int64  \n",
            " 44  ReturnProfileGrowth               2761 non-null   int64  \n",
            " 45  ReturnProfileIncome               2761 non-null   int64  \n",
            " 46  ReturnProfileHedging              2757 non-null   float64\n",
            " 47  ReturnProfileOther                2745 non-null   float64\n",
            " 48  TrackRecordExtension              2761 non-null   bool   \n",
            "dtypes: bool(1), float64(29), int64(13), object(6)\n",
            "memory usage: 1.0+ MB\n"
          ]
        }
      ]
    },
    {
      "cell_type": "markdown",
      "metadata": {
        "id": "nZx11VAdrIXA"
      },
      "source": [
        "## Scrapped Dataframe"
      ]
    },
    {
      "cell_type": "markdown",
      "metadata": {
        "id": "bcTYdBnsZqg_"
      },
      "source": [
        "### 2) Uploading the UK Scrapped Data"
      ]
    },
    {
      "cell_type": "code",
      "metadata": {
        "id": "j6JmUGj7wjn_"
      },
      "source": [
        "uk_scrapped_url = \"https://raw.githubusercontent.com/nishitgala89/ProjectDissertation/main/Datasheets/1_Preparation/2_UK_scrapped_df.csv\"\n",
        "uk_scrapped_df = pd.read_csv(uk_scrapped_url).set_index(\"SecId\")"
      ],
      "execution_count": null,
      "outputs": []
    },
    {
      "cell_type": "markdown",
      "metadata": {
        "id": "N0ekFnR7aEzw"
      },
      "source": [
        "### 3) Uploading the Europe Developed Scrapped Data"
      ]
    },
    {
      "cell_type": "code",
      "metadata": {
        "id": "4lcjAe2Vw8nz"
      },
      "source": [
        "eu_scrapped_url = \"https://raw.githubusercontent.com/nishitgala89/ProjectDissertation/main/Datasheets/1_Preparation/2_Europe_scrapped_df.csv\"\n",
        "eu_scrapped_df = pd.read_csv(eu_scrapped_url).set_index(\"SecId\")"
      ],
      "execution_count": null,
      "outputs": []
    },
    {
      "cell_type": "markdown",
      "metadata": {
        "id": "YNiw5H8uaXLH"
      },
      "source": [
        "### 4) Combining the Scrapped data into a Single Data Frame"
      ]
    },
    {
      "cell_type": "code",
      "metadata": {
        "id": "YUiDtOd5adVv",
        "colab": {
          "base_uri": "https://localhost:8080/"
        },
        "outputId": "5d873566-5253-4699-f0b4-8c33c657b396"
      },
      "source": [
        "combined_scrapped_df = pd.concat([uk_scrapped_df,eu_scrapped_df],axis=0)\n",
        "combined_scrapped_df.info()"
      ],
      "execution_count": null,
      "outputs": [
        {
          "output_type": "stream",
          "name": "stdout",
          "text": [
            "<class 'pandas.core.frame.DataFrame'>\n",
            "Index: 2760 entries, F0GBR04AX4 to F00000LL2Y\n",
            "Data columns (total 44 columns):\n",
            " #   Column                            Non-Null Count  Dtype  \n",
            "---  ------                            --------------  -----  \n",
            " 0   P_E                               2759 non-null   float64\n",
            " 1   P_B                               2760 non-null   float64\n",
            " 2   P_Sales                           2760 non-null   float64\n",
            " 3   P_CashFlow                        2760 non-null   float64\n",
            " 4   Dividend_Yield_Percent            2760 non-null   float64\n",
            " 5   Long_term_earning_Percent         2760 non-null   float64\n",
            " 6   Historical_earning_Percent        2760 non-null   float64\n",
            " 7   Sales_growth_percent              2760 non-null   float64\n",
            " 8   Cashflow_growth_percent           2760 non-null   float64\n",
            " 9   Book_value_growth_percent         2760 non-null   float64\n",
            " 10  Equity_Holding                    2760 non-null   object \n",
            " 11  Other_Holding                     2760 non-null   int64  \n",
            " 12  Assets_in_top10_holdings_percent  2269 non-null   float64\n",
            " 13  Reported_turnover_percent         2195 non-null   object \n",
            " 14  Active_Share_percent              574 non-null    float64\n",
            " 15  Top3_sector_percent               2757 non-null   float64\n",
            " 16  Top5_sector_percent               2757 non-null   float64\n",
            " 17  Equity_Holding_Amount             2669 non-null   object \n",
            " 18  giant_percent                     2745 non-null   float64\n",
            " 19  large_percent                     2745 non-null   float64\n",
            " 20  mid_percent                       2747 non-null   float64\n",
            " 21  small_percent                     2747 non-null   float64\n",
            " 22  micro_percent                     2747 non-null   float64\n",
            " 23  Style                             2748 non-null   float64\n",
            " 24  Style_5_Min                       2748 non-null   float64\n",
            " 25  Style_5_Max                       2748 non-null   float64\n",
            " 26  Yield                             2748 non-null   float64\n",
            " 27  Yield_5_Min                       2748 non-null   float64\n",
            " 28  Yield_5_Max                       2748 non-null   float64\n",
            " 29  Momentum                          2748 non-null   float64\n",
            " 30  Momentum_5_Min                    2748 non-null   float64\n",
            " 31  Momentum_5_Max                    2748 non-null   float64\n",
            " 32  Quality                           2748 non-null   float64\n",
            " 33  Quality_5_Min                     2748 non-null   float64\n",
            " 34  Quality_5_Max                     2748 non-null   float64\n",
            " 35  Volatility                        2748 non-null   float64\n",
            " 36  Volatility_5_Min                  2748 non-null   float64\n",
            " 37  Volatility_5_Max                  2748 non-null   float64\n",
            " 38  Liquidity                         2748 non-null   float64\n",
            " 39  Liquidity_5_Min                   2748 non-null   float64\n",
            " 40  Liquidity_5_Max                   2748 non-null   float64\n",
            " 41  Size                              2748 non-null   float64\n",
            " 42  Size_5_Min                        2748 non-null   float64\n",
            " 43  Size_5_Max                        2748 non-null   float64\n",
            "dtypes: float64(40), int64(1), object(3)\n",
            "memory usage: 970.3+ KB\n"
          ]
        }
      ]
    },
    {
      "cell_type": "markdown",
      "metadata": {
        "id": "Qg0qrQC6148M"
      },
      "source": [
        "Note - There are 2761 records in Morningstar DF and 2760 records in scrapped DF, so need to remove the missing index and bring the both dataframes with same SecId's"
      ]
    },
    {
      "cell_type": "code",
      "metadata": {
        "colab": {
          "base_uri": "https://localhost:8080/"
        },
        "id": "d9OHYVsd2bGk",
        "outputId": "0a818f1f-86fd-4b15-f2a2-d2522dbbca39"
      },
      "source": [
        "all_morningstar_index = morningstar_df.index.to_list()\n",
        "len(all_morningstar_index)"
      ],
      "execution_count": null,
      "outputs": [
        {
          "output_type": "execute_result",
          "data": {
            "text/plain": [
              "2761"
            ]
          },
          "metadata": {},
          "execution_count": 15
        }
      ]
    },
    {
      "cell_type": "code",
      "metadata": {
        "colab": {
          "base_uri": "https://localhost:8080/"
        },
        "id": "W-1kx-CF25it",
        "outputId": "57ed6bb1-d799-4bd1-aa65-602b2d541a40"
      },
      "source": [
        "all_scrapped_index = combined_scrapped_df.index.to_list()\n",
        "len(all_scrapped_index)"
      ],
      "execution_count": null,
      "outputs": [
        {
          "output_type": "execute_result",
          "data": {
            "text/plain": [
              "2760"
            ]
          },
          "metadata": {},
          "execution_count": 16
        }
      ]
    },
    {
      "cell_type": "code",
      "metadata": {
        "colab": {
          "base_uri": "https://localhost:8080/"
        },
        "id": "6nWiM8Kl3JH0",
        "outputId": "8cfac0b9-f47e-4cb1-abdc-0c51f1841a00"
      },
      "source": [
        "for index in all_scrapped_index:\n",
        "  try:\n",
        "    all_morningstar_index.remove(index)\n",
        "  except:\n",
        "    print(\"Error for --> \", index)\n",
        "all_morningstar_index"
      ],
      "execution_count": null,
      "outputs": [
        {
          "output_type": "execute_result",
          "data": {
            "text/plain": [
              "['F00000X3G0']"
            ]
          },
          "metadata": {},
          "execution_count": 17
        }
      ]
    },
    {
      "cell_type": "code",
      "metadata": {
        "id": "C4TaMZ-Z54M8"
      },
      "source": [
        "morningstar_df.drop(index=[\"F00000X3G0\"], inplace=True)"
      ],
      "execution_count": null,
      "outputs": []
    },
    {
      "cell_type": "code",
      "metadata": {
        "id": "bLUPoEeCtxYP"
      },
      "source": [
        "morningstar_df.reset_index(inplace=True)"
      ],
      "execution_count": null,
      "outputs": []
    },
    {
      "cell_type": "code",
      "metadata": {
        "id": "IMSDFq5MQ8Nc"
      },
      "source": [
        "df = morningstar_df.groupby(['CategoryName','ManagerTenure','AverageMarketCapital','StarRatingM255'])['SecId'].count().to_frame()"
      ],
      "execution_count": null,
      "outputs": []
    },
    {
      "cell_type": "code",
      "metadata": {
        "id": "csFVIMN2VFIw"
      },
      "source": [
        "df.reset_index(inplace=True)"
      ],
      "execution_count": null,
      "outputs": []
    },
    {
      "cell_type": "code",
      "metadata": {
        "colab": {
          "base_uri": "https://localhost:8080/"
        },
        "id": "f7ffPCSnVNgA",
        "outputId": "a03bf3b8-913d-4231-a34f-916ba2b11e6a"
      },
      "source": [
        "df.info()"
      ],
      "execution_count": null,
      "outputs": [
        {
          "output_type": "stream",
          "name": "stdout",
          "text": [
            "<class 'pandas.core.frame.DataFrame'>\n",
            "RangeIndex: 1184 entries, 0 to 1183\n",
            "Data columns (total 5 columns):\n",
            " #   Column                Non-Null Count  Dtype  \n",
            "---  ------                --------------  -----  \n",
            " 0   CategoryName          1184 non-null   object \n",
            " 1   ManagerTenure         1184 non-null   float64\n",
            " 2   AverageMarketCapital  1184 non-null   float64\n",
            " 3   StarRatingM255        1184 non-null   int64  \n",
            " 4   SecId                 1184 non-null   int64  \n",
            "dtypes: float64(2), int64(2), object(1)\n",
            "memory usage: 46.4+ KB\n"
          ]
        }
      ]
    },
    {
      "cell_type": "code",
      "metadata": {
        "id": "LzKAKXNmXx-5"
      },
      "source": [
        "morningstar_df.set_index('SecId', inplace=True)"
      ],
      "execution_count": null,
      "outputs": []
    },
    {
      "cell_type": "code",
      "metadata": {
        "colab": {
          "base_uri": "https://localhost:8080/",
          "height": 36
        },
        "id": "so0bnTl7WXnw",
        "outputId": "ec543454-5d5f-4ae7-9c64-0801abbfb73e"
      },
      "source": [
        "(morningstar_df[(morningstar_df.ManagerTenure == 1.5) &  (morningstar_df.StarRatingM255 == 5) \n",
        "                  & (morningstar_df.CategoryName == 'Europe Equity Income')\n",
        "                  & (morningstar_df.AverageMarketCapital == 24636.42657)].index)[0]"
      ],
      "execution_count": null,
      "outputs": [
        {
          "output_type": "execute_result",
          "data": {
            "application/vnd.google.colaboratory.intrinsic+json": {
              "type": "string"
            },
            "text/plain": [
              "'F0000118JH'"
            ]
          },
          "metadata": {},
          "execution_count": 24
        }
      ]
    },
    {
      "cell_type": "code",
      "metadata": {
        "colab": {
          "base_uri": "https://localhost:8080/"
        },
        "id": "DYle3PlHWKwX",
        "outputId": "ef387b7a-49be-4517-a76c-0bcf49b0d24f"
      },
      "source": [
        "new_index = []\n",
        "for index,row in df.iterrows():  \n",
        "  new_index.append((morningstar_df[(morningstar_df.ManagerTenure == row['ManagerTenure']) \n",
        "                  &  (morningstar_df.StarRatingM255 == row['StarRatingM255']) \n",
        "                  & (morningstar_df.CategoryName == row['CategoryName'] )\n",
        "                  & (morningstar_df.AverageMarketCapital == row['AverageMarketCapital'])].index)[0])\n",
        "\n",
        "len(new_index)"
      ],
      "execution_count": null,
      "outputs": [
        {
          "output_type": "execute_result",
          "data": {
            "text/plain": [
              "1184"
            ]
          },
          "metadata": {},
          "execution_count": 25
        }
      ]
    },
    {
      "cell_type": "code",
      "metadata": {
        "colab": {
          "base_uri": "https://localhost:8080/"
        },
        "id": "81cfS_LHt_6O",
        "outputId": "9e2f8543-7e45-4b08-94ad-c34089b7f0f9"
      },
      "source": [
        "len(set(new_index))"
      ],
      "execution_count": null,
      "outputs": [
        {
          "output_type": "execute_result",
          "data": {
            "text/plain": [
              "1184"
            ]
          },
          "metadata": {},
          "execution_count": 26
        }
      ]
    },
    {
      "cell_type": "code",
      "metadata": {
        "id": "AZlGMMt_ZEVm"
      },
      "source": [
        "new_df = pd.DataFrame(data=morningstar_df,index=new_index)"
      ],
      "execution_count": null,
      "outputs": []
    },
    {
      "cell_type": "code",
      "metadata": {
        "colab": {
          "base_uri": "https://localhost:8080/"
        },
        "id": "hIuFa2blZcda",
        "outputId": "45c58b9f-4344-4639-d69a-50ea00484b30"
      },
      "source": [
        "new_df.info()"
      ],
      "execution_count": null,
      "outputs": [
        {
          "output_type": "stream",
          "name": "stdout",
          "text": [
            "<class 'pandas.core.frame.DataFrame'>\n",
            "Index: 1184 entries, F0GBR04N5Q to F0GBR04OC1\n",
            "Data columns (total 49 columns):\n",
            " #   Column                            Non-Null Count  Dtype  \n",
            "---  ------                            --------------  -----  \n",
            " 0   Name                              1184 non-null   object \n",
            " 1   PriceCurrency                     1184 non-null   object \n",
            " 2   TenforeId                         1182 non-null   object \n",
            " 3   LegalName                         1184 non-null   object \n",
            " 4   ClosePrice                        1184 non-null   float64\n",
            " 5   StarRatingM255                    1184 non-null   int64  \n",
            " 6   SustainabilityRank                1184 non-null   int64  \n",
            " 7   QuantitativeRating                487 non-null    float64\n",
            " 8   CategoryName                      1184 non-null   object \n",
            " 9   Yield_M12                         1180 non-null   float64\n",
            " 10  GBRReturnD1                       1184 non-null   float64\n",
            " 11  GBRReturnW1                       1184 non-null   float64\n",
            " 12  GBRReturnM1                       1184 non-null   float64\n",
            " 13  GBRReturnM3                       1182 non-null   float64\n",
            " 14  GBRReturnM6                       1182 non-null   float64\n",
            " 15  GBRReturnM0                       1182 non-null   float64\n",
            " 16  GBRReturnM12                      1182 non-null   float64\n",
            " 17  GBRReturnM36                      1182 non-null   float64\n",
            " 18  GBRReturnM60                      1026 non-null   float64\n",
            " 19  GBRReturnM120                     738 non-null    float64\n",
            " 20  MaxFrontEndLoad                   1159 non-null   float64\n",
            " 21  OngoingCostActual                 1173 non-null   float64\n",
            " 22  PerformanceFeeActual              1038 non-null   float64\n",
            " 23  TransactionFeeActual              1176 non-null   float64\n",
            " 24  MaximumExitCostAcquired           271 non-null    float64\n",
            " 25  FeeLevel                          283 non-null    object \n",
            " 26  ManagerTenure                     1184 non-null   float64\n",
            " 27  MaxDeferredLoad                   22 non-null     float64\n",
            " 28  FundTNAV                          1176 non-null   float64\n",
            " 29  EquityStyleBox                    1184 non-null   int64  \n",
            " 30  AverageMarketCapital              1184 non-null   float64\n",
            " 31  MorningstarRiskM255               1184 non-null   int64  \n",
            " 32  AlphaM36                          1182 non-null   float64\n",
            " 33  BetaM36                           1182 non-null   float64\n",
            " 34  R2M36                             1182 non-null   float64\n",
            " 35  StandardDeviationM36              1184 non-null   float64\n",
            " 36  SharpeM36                         1184 non-null   float64\n",
            " 37  InvestorTypeRetail                1184 non-null   int64  \n",
            " 38  InvestorTypeProfessional          1184 non-null   int64  \n",
            " 39  InvestorTypeEligibleCounterparty  1184 non-null   int64  \n",
            " 40  ExpertiseBasic                    1184 non-null   int64  \n",
            " 41  ExpertiseAdvanced                 1184 non-null   int64  \n",
            " 42  ExpertiseInformed                 1184 non-null   int64  \n",
            " 43  ReturnProfilePreservation         1184 non-null   int64  \n",
            " 44  ReturnProfileGrowth               1184 non-null   int64  \n",
            " 45  ReturnProfileIncome               1184 non-null   int64  \n",
            " 46  ReturnProfileHedging              1182 non-null   float64\n",
            " 47  ReturnProfileOther                1180 non-null   float64\n",
            " 48  TrackRecordExtension              1184 non-null   bool   \n",
            "dtypes: bool(1), float64(29), int64(13), object(6)\n",
            "memory usage: 454.4+ KB\n"
          ]
        }
      ]
    },
    {
      "cell_type": "code",
      "metadata": {
        "id": "GtIZF2vVuMXv"
      },
      "source": [
        "new_scrapped_df = pd.DataFrame(data=combined_scrapped_df,index=new_index)"
      ],
      "execution_count": null,
      "outputs": []
    },
    {
      "cell_type": "code",
      "metadata": {
        "colab": {
          "base_uri": "https://localhost:8080/"
        },
        "id": "ENn4v_HmuOpe",
        "outputId": "c728a5bd-106f-408c-99b0-a281ed47b2e5"
      },
      "source": [
        "new_scrapped_df.info(verbose=False)"
      ],
      "execution_count": null,
      "outputs": [
        {
          "output_type": "stream",
          "name": "stdout",
          "text": [
            "<class 'pandas.core.frame.DataFrame'>\n",
            "Index: 1184 entries, F0GBR04N5Q to F0GBR04OC1\n",
            "Columns: 44 entries, P_E to Size_5_Max\n",
            "dtypes: float64(40), int64(1), object(3)\n",
            "memory usage: 416.2+ KB\n"
          ]
        }
      ]
    },
    {
      "cell_type": "code",
      "metadata": {
        "colab": {
          "base_uri": "https://localhost:8080/",
          "height": 450
        },
        "id": "fWxGVcstZo7o",
        "outputId": "a9385e25-f73e-488f-efd3-3dd014f7f688"
      },
      "source": [
        "new_df.groupby(['CategoryName','ManagerTenure','AverageMarketCapital','StarRatingM255'])['Name'].count().to_frame()"
      ],
      "execution_count": null,
      "outputs": [
        {
          "output_type": "execute_result",
          "data": {
            "text/html": [
              "<div>\n",
              "<style scoped>\n",
              "    .dataframe tbody tr th:only-of-type {\n",
              "        vertical-align: middle;\n",
              "    }\n",
              "\n",
              "    .dataframe tbody tr th {\n",
              "        vertical-align: top;\n",
              "    }\n",
              "\n",
              "    .dataframe thead th {\n",
              "        text-align: right;\n",
              "    }\n",
              "</style>\n",
              "<table border=\"1\" class=\"dataframe\">\n",
              "  <thead>\n",
              "    <tr style=\"text-align: right;\">\n",
              "      <th></th>\n",
              "      <th></th>\n",
              "      <th></th>\n",
              "      <th></th>\n",
              "      <th>Name</th>\n",
              "    </tr>\n",
              "    <tr>\n",
              "      <th>CategoryName</th>\n",
              "      <th>ManagerTenure</th>\n",
              "      <th>AverageMarketCapital</th>\n",
              "      <th>StarRatingM255</th>\n",
              "      <th></th>\n",
              "    </tr>\n",
              "  </thead>\n",
              "  <tbody>\n",
              "    <tr>\n",
              "      <th>Denmark Equity</th>\n",
              "      <th>10.92</th>\n",
              "      <th>15684.04591</th>\n",
              "      <th>2</th>\n",
              "      <td>1</td>\n",
              "    </tr>\n",
              "    <tr>\n",
              "      <th rowspan=\"4\" valign=\"top\">Europe Equity Income</th>\n",
              "      <th>0.75</th>\n",
              "      <th>54955.21402</th>\n",
              "      <th>5</th>\n",
              "      <td>1</td>\n",
              "    </tr>\n",
              "    <tr>\n",
              "      <th rowspan=\"2\" valign=\"top\">1.50</th>\n",
              "      <th rowspan=\"2\" valign=\"top\">24636.42657</th>\n",
              "      <th>4</th>\n",
              "      <td>1</td>\n",
              "    </tr>\n",
              "    <tr>\n",
              "      <th>5</th>\n",
              "      <td>1</td>\n",
              "    </tr>\n",
              "    <tr>\n",
              "      <th>2.00</th>\n",
              "      <th>50389.39812</th>\n",
              "      <th>2</th>\n",
              "      <td>1</td>\n",
              "    </tr>\n",
              "    <tr>\n",
              "      <th>...</th>\n",
              "      <th>...</th>\n",
              "      <th>...</th>\n",
              "      <th>...</th>\n",
              "      <td>...</td>\n",
              "    </tr>\n",
              "    <tr>\n",
              "      <th rowspan=\"5\" valign=\"top\">UK Small-Cap Equity</th>\n",
              "      <th>20.75</th>\n",
              "      <th>1117.73022</th>\n",
              "      <th>3</th>\n",
              "      <td>1</td>\n",
              "    </tr>\n",
              "    <tr>\n",
              "      <th rowspan=\"2\" valign=\"top\">24.42</th>\n",
              "      <th rowspan=\"2\" valign=\"top\">1174.39149</th>\n",
              "      <th>3</th>\n",
              "      <td>1</td>\n",
              "    </tr>\n",
              "    <tr>\n",
              "      <th>4</th>\n",
              "      <td>1</td>\n",
              "    </tr>\n",
              "    <tr>\n",
              "      <th>30.25</th>\n",
              "      <th>535.79158</th>\n",
              "      <th>1</th>\n",
              "      <td>1</td>\n",
              "    </tr>\n",
              "    <tr>\n",
              "      <th>30.67</th>\n",
              "      <th>723.10137</th>\n",
              "      <th>1</th>\n",
              "      <td>1</td>\n",
              "    </tr>\n",
              "  </tbody>\n",
              "</table>\n",
              "<p>1184 rows × 1 columns</p>\n",
              "</div>"
            ],
            "text/plain": [
              "                                                                        Name\n",
              "CategoryName         ManagerTenure AverageMarketCapital StarRatingM255      \n",
              "Denmark Equity       10.92         15684.04591          2                  1\n",
              "Europe Equity Income 0.75          54955.21402          5                  1\n",
              "                     1.50          24636.42657          4                  1\n",
              "                                                        5                  1\n",
              "                     2.00          50389.39812          2                  1\n",
              "...                                                                      ...\n",
              "UK Small-Cap Equity  20.75         1117.73022           3                  1\n",
              "                     24.42         1174.39149           3                  1\n",
              "                                                        4                  1\n",
              "                     30.25         535.79158            1                  1\n",
              "                     30.67         723.10137            1                  1\n",
              "\n",
              "[1184 rows x 1 columns]"
            ]
          },
          "metadata": {
            "tags": []
          },
          "execution_count": 47
        }
      ]
    },
    {
      "cell_type": "code",
      "metadata": {
        "id": "X8aY9ix-tTdi"
      },
      "source": [
        "new_df.to_csv('3_Morningstar_new_df.csv')\n",
        "new_scrapped_df.to_csv('3_Scrapped_new_df.csv')"
      ],
      "execution_count": null,
      "outputs": []
    }
  ]
}