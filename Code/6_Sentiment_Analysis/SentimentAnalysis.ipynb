{
  "nbformat": 4,
  "nbformat_minor": 0,
  "metadata": {
    "colab": {
      "name": "SentimentAnalysis.ipynb",
      "provenance": [],
      "collapsed_sections": []
    },
    "kernelspec": {
      "name": "python3",
      "display_name": "Python 3"
    },
    "language_info": {
      "name": "python"
    }
  },
  "cells": [
    {
      "cell_type": "code",
      "metadata": {
        "colab": {
          "base_uri": "https://localhost:8080/"
        },
        "id": "fHRHL_WZvR84",
        "outputId": "f4977a1f-ab55-47f6-b137-722daed34ff9"
      },
      "source": [
        "import pandas as pd\n",
        "import json\n",
        "!pip install vaderSentiment\n",
        "from vaderSentiment.vaderSentiment import SentimentIntensityAnalyzer\n",
        "import matplotlib.pyplot as plt"
      ],
      "execution_count": null,
      "outputs": [
        {
          "output_type": "stream",
          "name": "stdout",
          "text": [
            "Requirement already satisfied: vaderSentiment in /usr/local/lib/python3.7/dist-packages (3.3.2)\n",
            "Requirement already satisfied: requests in /usr/local/lib/python3.7/dist-packages (from vaderSentiment) (2.23.0)\n",
            "Requirement already satisfied: urllib3!=1.25.0,!=1.25.1,<1.26,>=1.21.1 in /usr/local/lib/python3.7/dist-packages (from requests->vaderSentiment) (1.24.3)\n",
            "Requirement already satisfied: idna<3,>=2.5 in /usr/local/lib/python3.7/dist-packages (from requests->vaderSentiment) (2.10)\n",
            "Requirement already satisfied: certifi>=2017.4.17 in /usr/local/lib/python3.7/dist-packages (from requests->vaderSentiment) (2021.10.8)\n",
            "Requirement already satisfied: chardet<4,>=3.0.2 in /usr/local/lib/python3.7/dist-packages (from requests->vaderSentiment) (3.0.4)\n"
          ]
        }
      ]
    },
    {
      "cell_type": "code",
      "metadata": {
        "colab": {
          "base_uri": "https://localhost:8080/"
        },
        "id": "pJQ-UlFUwffS",
        "outputId": "a0346bcb-d8f7-4300-ca4c-7437d4487cab"
      },
      "source": [
        "from google.colab import drive\n",
        "drive.mount('/content/drive/')"
      ],
      "execution_count": null,
      "outputs": [
        {
          "output_type": "stream",
          "name": "stdout",
          "text": [
            "Mounted at /content/drive/\n"
          ]
        }
      ]
    },
    {
      "cell_type": "code",
      "metadata": {
        "id": "2n_6lzyXyi_s"
      },
      "source": [
        "path = \"/content/drive/MyDrive/Colab Notebooks/Project_Dissertation/Data\"\n"
      ],
      "execution_count": null,
      "outputs": []
    },
    {
      "cell_type": "code",
      "metadata": {
        "id": "5lCwueILvU1r"
      },
      "source": [
        "df = pd.read_csv(path + \"/Mutual_Funds/Top_Equities_UK.csv\").set_index(\"SecId\")\n",
        "analyzer = SentimentIntensityAnalyzer()"
      ],
      "execution_count": null,
      "outputs": []
    },
    {
      "cell_type": "code",
      "metadata": {
        "id": "S2Y6tbm2visE"
      },
      "source": [
        "#F00000OPY7 # F00000WRZM\n",
        "select_company = \"F00000OPY7\""
      ],
      "execution_count": null,
      "outputs": []
    },
    {
      "cell_type": "code",
      "metadata": {
        "colab": {
          "base_uri": "https://localhost:8080/"
        },
        "id": "Fva4-vM7vmUW",
        "outputId": "97df4e15-970a-4c98-d7e6-dfac1ec2daff"
      },
      "source": [
        "companyNameList = []\n",
        "tickerFileList = []\n",
        "companyNameList.append(df.loc[select_company,'company_1'])\n",
        "companyNameList.append(df.loc[select_company,'company_2'])\n",
        "companyNameList.append(df.loc[select_company,'company_3'])\n",
        "print(companyNameList)"
      ],
      "execution_count": null,
      "outputs": [
        {
          "output_type": "stream",
          "name": "stdout",
          "text": [
            "['Legal & General Group PLC', 'Aviva PLC', 'Imperial Brands PLC']\n"
          ]
        }
      ]
    },
    {
      "cell_type": "code",
      "metadata": {
        "colab": {
          "base_uri": "https://localhost:8080/"
        },
        "id": "qbO6IloKvt5j",
        "outputId": "95a802b5-d9f9-4253-dca2-5ccda35db058"
      },
      "source": [
        "with open(path + \"/MutualFunds_TickerData/Company_Ticker_Map.json\",\"r\") as f:\n",
        "    company_ticker_map_dict = json.load(f)\n",
        "\n",
        "\n",
        "for co in companyNameList:\n",
        "  if company_ticker_map_dict[co] != \"NONE\":\n",
        "    tickerFileList.append(company_ticker_map_dict[co] + \".json\")\n",
        "  else:\n",
        "    companyNameList.remove(co)\n",
        "\n",
        "print(tickerFileList)"
      ],
      "execution_count": null,
      "outputs": [
        {
          "output_type": "stream",
          "name": "stdout",
          "text": [
            "['LGEN.json', 'AV.json', 'IMB.json']\n"
          ]
        }
      ]
    },
    {
      "cell_type": "code",
      "metadata": {
        "id": "oYkmyCJ_xTGV"
      },
      "source": [
        "tickerList=[]\n",
        "newsList=[]\n",
        "companyList=[]"
      ],
      "execution_count": null,
      "outputs": []
    },
    {
      "cell_type": "code",
      "metadata": {
        "id": "FzQzDjEpxdMv"
      },
      "source": [
        "for i,fname in enumerate(tickerFileList):\n",
        "    with open(path+\"/MutualFunds_TickerData/\" + fname,\"r\") as f:\n",
        "        file = json.load(f)    \n",
        "    news_headlines =  file[\"News\"]\n",
        "    for news in news_headlines:\n",
        "        tickerList.append(fname.split(\".\")[0])\n",
        "        newsList.append(news)\n",
        "        companyList.append(companyNameList[i])"
      ],
      "execution_count": null,
      "outputs": []
    },
    {
      "cell_type": "code",
      "metadata": {
        "colab": {
          "base_uri": "https://localhost:8080/",
          "height": 655
        },
        "id": "aM6-wMCxxyW4",
        "outputId": "b5e0545e-bd00-41ff-c5cc-b19e3e2f34cd"
      },
      "source": [
        "news_data_dict = { \"Company\" : companyList,\"Ticker\" : tickerList, \"Headlines\":newsList }\n",
        "news_df = pd.DataFrame(news_data_dict)\n",
        "news_df"
      ],
      "execution_count": null,
      "outputs": [
        {
          "output_type": "execute_result",
          "data": {
            "text/html": [
              "\n",
              "  <div id=\"df-959fc77d-9d98-45a8-9d24-1f8e5b032a50\">\n",
              "    <div class=\"colab-df-container\">\n",
              "      <div>\n",
              "<style scoped>\n",
              "    .dataframe tbody tr th:only-of-type {\n",
              "        vertical-align: middle;\n",
              "    }\n",
              "\n",
              "    .dataframe tbody tr th {\n",
              "        vertical-align: top;\n",
              "    }\n",
              "\n",
              "    .dataframe thead th {\n",
              "        text-align: right;\n",
              "    }\n",
              "</style>\n",
              "<table border=\"1\" class=\"dataframe\">\n",
              "  <thead>\n",
              "    <tr style=\"text-align: right;\">\n",
              "      <th></th>\n",
              "      <th>Company</th>\n",
              "      <th>Ticker</th>\n",
              "      <th>Headlines</th>\n",
              "    </tr>\n",
              "  </thead>\n",
              "  <tbody>\n",
              "    <tr>\n",
              "      <th>0</th>\n",
              "      <td>Legal &amp; General Group PLC</td>\n",
              "      <td>LGEN</td>\n",
              "      <td>Legal &amp; General Group Plc 1H Operating Profit ...</td>\n",
              "    </tr>\n",
              "    <tr>\n",
              "      <th>1</th>\n",
              "      <td>Legal &amp; General Group PLC</td>\n",
              "      <td>LGEN</td>\n",
              "      <td>Legal &amp; General to Vote Against Cineworld Chai...</td>\n",
              "    </tr>\n",
              "    <tr>\n",
              "      <th>2</th>\n",
              "      <td>Legal &amp; General Group PLC</td>\n",
              "      <td>LGEN</td>\n",
              "      <td>Legal &amp; General annuity assets rise 19%</td>\n",
              "    </tr>\n",
              "    <tr>\n",
              "      <th>3</th>\n",
              "      <td>Aviva PLC</td>\n",
              "      <td>AV</td>\n",
              "      <td>Activist Investor Cevian Capital Increases Avi...</td>\n",
              "    </tr>\n",
              "    <tr>\n",
              "      <th>4</th>\n",
              "      <td>Aviva PLC</td>\n",
              "      <td>AV</td>\n",
              "      <td>Activist Investor Cevian Capital Increases Avi...</td>\n",
              "    </tr>\n",
              "    <tr>\n",
              "      <th>5</th>\n",
              "      <td>Aviva PLC</td>\n",
              "      <td>AV</td>\n",
              "      <td>Aviva PLC 1H Loss/Shr 6.2p</td>\n",
              "    </tr>\n",
              "    <tr>\n",
              "      <th>6</th>\n",
              "      <td>Aviva PLC</td>\n",
              "      <td>AV</td>\n",
              "      <td>Aviva, Persimmon Commit to Leasehold Changes i...</td>\n",
              "    </tr>\n",
              "    <tr>\n",
              "      <th>7</th>\n",
              "      <td>Aviva PLC</td>\n",
              "      <td>AV</td>\n",
              "      <td>Aviva shares shoot up as activist investor Cev...</td>\n",
              "    </tr>\n",
              "    <tr>\n",
              "      <th>8</th>\n",
              "      <td>Aviva PLC</td>\n",
              "      <td>AV</td>\n",
              "      <td>Activist Investor Cevian Capital Now Holds 4.9...</td>\n",
              "    </tr>\n",
              "    <tr>\n",
              "      <th>9</th>\n",
              "      <td>Aviva PLC</td>\n",
              "      <td>AV</td>\n",
              "      <td>Cevian Capital Holds 4.95% Shareholding in Aviva</td>\n",
              "    </tr>\n",
              "    <tr>\n",
              "      <th>10</th>\n",
              "      <td>Aviva PLC</td>\n",
              "      <td>AV</td>\n",
              "      <td>Aviva Expects Profitable Full-Year Underwritin...</td>\n",
              "    </tr>\n",
              "    <tr>\n",
              "      <th>11</th>\n",
              "      <td>Aviva PLC</td>\n",
              "      <td>AV</td>\n",
              "      <td>Aviva Hit Decade-High in 1Q General Insurance ...</td>\n",
              "    </tr>\n",
              "    <tr>\n",
              "      <th>12</th>\n",
              "      <td>Aviva PLC</td>\n",
              "      <td>AV</td>\n",
              "      <td>Aviva to sell Polish unit to Allianz for $2.94B</td>\n",
              "    </tr>\n",
              "    <tr>\n",
              "      <th>13</th>\n",
              "      <td>Aviva PLC</td>\n",
              "      <td>AV</td>\n",
              "      <td>Aviva sells remaining Italian units for $1.05B</td>\n",
              "    </tr>\n",
              "    <tr>\n",
              "      <th>14</th>\n",
              "      <td>Aviva PLC</td>\n",
              "      <td>AV</td>\n",
              "      <td>Allianz set to buy Aviva Italia for EUR330M</td>\n",
              "    </tr>\n",
              "    <tr>\n",
              "      <th>15</th>\n",
              "      <td>Aviva PLC</td>\n",
              "      <td>AV</td>\n",
              "      <td>Aviva profit falls on lower investment income</td>\n",
              "    </tr>\n",
              "    <tr>\n",
              "      <th>16</th>\n",
              "      <td>Aviva PLC</td>\n",
              "      <td>AV</td>\n",
              "      <td>Aviva to sell French business for $3.89 billion</td>\n",
              "    </tr>\n",
              "    <tr>\n",
              "      <th>17</th>\n",
              "      <td>Aviva PLC</td>\n",
              "      <td>AV</td>\n",
              "      <td>Aviva to sell entire stake in Aviva Vietnam</td>\n",
              "    </tr>\n",
              "    <tr>\n",
              "      <th>18</th>\n",
              "      <td>Aviva PLC</td>\n",
              "      <td>AV</td>\n",
              "      <td>Aviva declares dividend after resilient trading</td>\n",
              "    </tr>\n",
              "    <tr>\n",
              "      <th>19</th>\n",
              "      <td>Imperial Brands PLC</td>\n",
              "      <td>IMB</td>\n",
              "      <td>Imperial Brands 1H Profit Soared Amid Higher D...</td>\n",
              "    </tr>\n",
              "    <tr>\n",
              "      <th>20</th>\n",
              "      <td>Imperial Brands PLC</td>\n",
              "      <td>IMB</td>\n",
              "      <td>Imperial Brands 1H Profit Soared Amid Pandemic</td>\n",
              "    </tr>\n",
              "    <tr>\n",
              "      <th>21</th>\n",
              "      <td>Imperial Brands PLC</td>\n",
              "      <td>IMB</td>\n",
              "      <td>Cigarette maker Imperial Brands says COVID-19 ...</td>\n",
              "    </tr>\n",
              "    <tr>\n",
              "      <th>22</th>\n",
              "      <td>Imperial Brands PLC</td>\n",
              "      <td>IMB</td>\n",
              "      <td>Imperial Brands expects FY 2020 vaping regulat...</td>\n",
              "    </tr>\n",
              "    <tr>\n",
              "      <th>23</th>\n",
              "      <td>Imperial Brands PLC</td>\n",
              "      <td>IMB</td>\n",
              "      <td>Imperial Brands CEO stepping down</td>\n",
              "    </tr>\n",
              "    <tr>\n",
              "      <th>24</th>\n",
              "      <td>Imperial Brands PLC</td>\n",
              "      <td>IMB</td>\n",
              "      <td>Imperial Brands plunges on profit warning as U...</td>\n",
              "    </tr>\n",
              "    <tr>\n",
              "      <th>25</th>\n",
              "      <td>Imperial Brands PLC</td>\n",
              "      <td>IMB</td>\n",
              "      <td>Imperial Brands shares tumble as vaping crisis...</td>\n",
              "    </tr>\n",
              "  </tbody>\n",
              "</table>\n",
              "</div>\n",
              "      <button class=\"colab-df-convert\" onclick=\"convertToInteractive('df-959fc77d-9d98-45a8-9d24-1f8e5b032a50')\"\n",
              "              title=\"Convert this dataframe to an interactive table.\"\n",
              "              style=\"display:none;\">\n",
              "        \n",
              "  <svg xmlns=\"http://www.w3.org/2000/svg\" height=\"24px\"viewBox=\"0 0 24 24\"\n",
              "       width=\"24px\">\n",
              "    <path d=\"M0 0h24v24H0V0z\" fill=\"none\"/>\n",
              "    <path d=\"M18.56 5.44l.94 2.06.94-2.06 2.06-.94-2.06-.94-.94-2.06-.94 2.06-2.06.94zm-11 1L8.5 8.5l.94-2.06 2.06-.94-2.06-.94L8.5 2.5l-.94 2.06-2.06.94zm10 10l.94 2.06.94-2.06 2.06-.94-2.06-.94-.94-2.06-.94 2.06-2.06.94z\"/><path d=\"M17.41 7.96l-1.37-1.37c-.4-.4-.92-.59-1.43-.59-.52 0-1.04.2-1.43.59L10.3 9.45l-7.72 7.72c-.78.78-.78 2.05 0 2.83L4 21.41c.39.39.9.59 1.41.59.51 0 1.02-.2 1.41-.59l7.78-7.78 2.81-2.81c.8-.78.8-2.07 0-2.86zM5.41 20L4 18.59l7.72-7.72 1.47 1.35L5.41 20z\"/>\n",
              "  </svg>\n",
              "      </button>\n",
              "      \n",
              "  <style>\n",
              "    .colab-df-container {\n",
              "      display:flex;\n",
              "      flex-wrap:wrap;\n",
              "      gap: 12px;\n",
              "    }\n",
              "\n",
              "    .colab-df-convert {\n",
              "      background-color: #E8F0FE;\n",
              "      border: none;\n",
              "      border-radius: 50%;\n",
              "      cursor: pointer;\n",
              "      display: none;\n",
              "      fill: #1967D2;\n",
              "      height: 32px;\n",
              "      padding: 0 0 0 0;\n",
              "      width: 32px;\n",
              "    }\n",
              "\n",
              "    .colab-df-convert:hover {\n",
              "      background-color: #E2EBFA;\n",
              "      box-shadow: 0px 1px 2px rgba(60, 64, 67, 0.3), 0px 1px 3px 1px rgba(60, 64, 67, 0.15);\n",
              "      fill: #174EA6;\n",
              "    }\n",
              "\n",
              "    [theme=dark] .colab-df-convert {\n",
              "      background-color: #3B4455;\n",
              "      fill: #D2E3FC;\n",
              "    }\n",
              "\n",
              "    [theme=dark] .colab-df-convert:hover {\n",
              "      background-color: #434B5C;\n",
              "      box-shadow: 0px 1px 3px 1px rgba(0, 0, 0, 0.15);\n",
              "      filter: drop-shadow(0px 1px 2px rgba(0, 0, 0, 0.3));\n",
              "      fill: #FFFFFF;\n",
              "    }\n",
              "  </style>\n",
              "\n",
              "      <script>\n",
              "        const buttonEl =\n",
              "          document.querySelector('#df-959fc77d-9d98-45a8-9d24-1f8e5b032a50 button.colab-df-convert');\n",
              "        buttonEl.style.display =\n",
              "          google.colab.kernel.accessAllowed ? 'block' : 'none';\n",
              "\n",
              "        async function convertToInteractive(key) {\n",
              "          const element = document.querySelector('#df-959fc77d-9d98-45a8-9d24-1f8e5b032a50');\n",
              "          const dataTable =\n",
              "            await google.colab.kernel.invokeFunction('convertToInteractive',\n",
              "                                                     [key], {});\n",
              "          if (!dataTable) return;\n",
              "\n",
              "          const docLinkHtml = 'Like what you see? Visit the ' +\n",
              "            '<a target=\"_blank\" href=https://colab.research.google.com/notebooks/data_table.ipynb>data table notebook</a>'\n",
              "            + ' to learn more about interactive tables.';\n",
              "          element.innerHTML = '';\n",
              "          dataTable['output_type'] = 'display_data';\n",
              "          await google.colab.output.renderOutput(dataTable, element);\n",
              "          const docLink = document.createElement('div');\n",
              "          docLink.innerHTML = docLinkHtml;\n",
              "          element.appendChild(docLink);\n",
              "        }\n",
              "      </script>\n",
              "    </div>\n",
              "  </div>\n",
              "  "
            ],
            "text/plain": [
              "                      Company  ...                                          Headlines\n",
              "0   Legal & General Group PLC  ...  Legal & General Group Plc 1H Operating Profit ...\n",
              "1   Legal & General Group PLC  ...  Legal & General to Vote Against Cineworld Chai...\n",
              "2   Legal & General Group PLC  ...            Legal & General annuity assets rise 19%\n",
              "3                   Aviva PLC  ...  Activist Investor Cevian Capital Increases Avi...\n",
              "4                   Aviva PLC  ...  Activist Investor Cevian Capital Increases Avi...\n",
              "5                   Aviva PLC  ...                         Aviva PLC 1H Loss/Shr 6.2p\n",
              "6                   Aviva PLC  ...  Aviva, Persimmon Commit to Leasehold Changes i...\n",
              "7                   Aviva PLC  ...  Aviva shares shoot up as activist investor Cev...\n",
              "8                   Aviva PLC  ...  Activist Investor Cevian Capital Now Holds 4.9...\n",
              "9                   Aviva PLC  ...   Cevian Capital Holds 4.95% Shareholding in Aviva\n",
              "10                  Aviva PLC  ...  Aviva Expects Profitable Full-Year Underwritin...\n",
              "11                  Aviva PLC  ...  Aviva Hit Decade-High in 1Q General Insurance ...\n",
              "12                  Aviva PLC  ...    Aviva to sell Polish unit to Allianz for $2.94B\n",
              "13                  Aviva PLC  ...     Aviva sells remaining Italian units for $1.05B\n",
              "14                  Aviva PLC  ...        Allianz set to buy Aviva Italia for EUR330M\n",
              "15                  Aviva PLC  ...      Aviva profit falls on lower investment income\n",
              "16                  Aviva PLC  ...    Aviva to sell French business for $3.89 billion\n",
              "17                  Aviva PLC  ...        Aviva to sell entire stake in Aviva Vietnam\n",
              "18                  Aviva PLC  ...    Aviva declares dividend after resilient trading\n",
              "19        Imperial Brands PLC  ...  Imperial Brands 1H Profit Soared Amid Higher D...\n",
              "20        Imperial Brands PLC  ...     Imperial Brands 1H Profit Soared Amid Pandemic\n",
              "21        Imperial Brands PLC  ...  Cigarette maker Imperial Brands says COVID-19 ...\n",
              "22        Imperial Brands PLC  ...  Imperial Brands expects FY 2020 vaping regulat...\n",
              "23        Imperial Brands PLC  ...                  Imperial Brands CEO stepping down\n",
              "24        Imperial Brands PLC  ...  Imperial Brands plunges on profit warning as U...\n",
              "25        Imperial Brands PLC  ...  Imperial Brands shares tumble as vaping crisis...\n",
              "\n",
              "[26 rows x 3 columns]"
            ]
          },
          "metadata": {},
          "execution_count": 10
        }
      ]
    },
    {
      "cell_type": "code",
      "metadata": {
        "colab": {
          "base_uri": "https://localhost:8080/",
          "height": 864
        },
        "id": "LaS9JaTAx2qr",
        "outputId": "ce299aac-4887-41ea-faed-5736a1070d78"
      },
      "source": [
        "scores = news_df['Headlines'].apply(analyzer.polarity_scores).tolist()\n",
        "scores_df = pd.DataFrame(scores)\n",
        "scores_df"
      ],
      "execution_count": null,
      "outputs": [
        {
          "output_type": "execute_result",
          "data": {
            "text/html": [
              "\n",
              "  <div id=\"df-cf61c831-c39a-42bc-a747-e574bb38f681\">\n",
              "    <div class=\"colab-df-container\">\n",
              "      <div>\n",
              "<style scoped>\n",
              "    .dataframe tbody tr th:only-of-type {\n",
              "        vertical-align: middle;\n",
              "    }\n",
              "\n",
              "    .dataframe tbody tr th {\n",
              "        vertical-align: top;\n",
              "    }\n",
              "\n",
              "    .dataframe thead th {\n",
              "        text-align: right;\n",
              "    }\n",
              "</style>\n",
              "<table border=\"1\" class=\"dataframe\">\n",
              "  <thead>\n",
              "    <tr style=\"text-align: right;\">\n",
              "      <th></th>\n",
              "      <th>neg</th>\n",
              "      <th>neu</th>\n",
              "      <th>pos</th>\n",
              "      <th>compound</th>\n",
              "    </tr>\n",
              "  </thead>\n",
              "  <tbody>\n",
              "    <tr>\n",
              "      <th>0</th>\n",
              "      <td>0.000</td>\n",
              "      <td>0.645</td>\n",
              "      <td>0.355</td>\n",
              "      <td>0.5267</td>\n",
              "    </tr>\n",
              "    <tr>\n",
              "      <th>1</th>\n",
              "      <td>0.000</td>\n",
              "      <td>0.857</td>\n",
              "      <td>0.143</td>\n",
              "      <td>0.1280</td>\n",
              "    </tr>\n",
              "    <tr>\n",
              "      <th>2</th>\n",
              "      <td>0.000</td>\n",
              "      <td>0.610</td>\n",
              "      <td>0.390</td>\n",
              "      <td>0.2960</td>\n",
              "    </tr>\n",
              "    <tr>\n",
              "      <th>3</th>\n",
              "      <td>0.000</td>\n",
              "      <td>1.000</td>\n",
              "      <td>0.000</td>\n",
              "      <td>0.0000</td>\n",
              "    </tr>\n",
              "    <tr>\n",
              "      <th>4</th>\n",
              "      <td>0.000</td>\n",
              "      <td>1.000</td>\n",
              "      <td>0.000</td>\n",
              "      <td>0.0000</td>\n",
              "    </tr>\n",
              "    <tr>\n",
              "      <th>5</th>\n",
              "      <td>0.000</td>\n",
              "      <td>1.000</td>\n",
              "      <td>0.000</td>\n",
              "      <td>0.0000</td>\n",
              "    </tr>\n",
              "    <tr>\n",
              "      <th>6</th>\n",
              "      <td>0.000</td>\n",
              "      <td>0.820</td>\n",
              "      <td>0.180</td>\n",
              "      <td>0.2960</td>\n",
              "    </tr>\n",
              "    <tr>\n",
              "      <th>7</th>\n",
              "      <td>0.136</td>\n",
              "      <td>0.739</td>\n",
              "      <td>0.125</td>\n",
              "      <td>-0.0516</td>\n",
              "    </tr>\n",
              "    <tr>\n",
              "      <th>8</th>\n",
              "      <td>0.000</td>\n",
              "      <td>1.000</td>\n",
              "      <td>0.000</td>\n",
              "      <td>0.0000</td>\n",
              "    </tr>\n",
              "    <tr>\n",
              "      <th>9</th>\n",
              "      <td>0.000</td>\n",
              "      <td>1.000</td>\n",
              "      <td>0.000</td>\n",
              "      <td>0.0000</td>\n",
              "    </tr>\n",
              "    <tr>\n",
              "      <th>10</th>\n",
              "      <td>0.000</td>\n",
              "      <td>0.576</td>\n",
              "      <td>0.424</td>\n",
              "      <td>0.7096</td>\n",
              "    </tr>\n",
              "    <tr>\n",
              "      <th>11</th>\n",
              "      <td>0.000</td>\n",
              "      <td>1.000</td>\n",
              "      <td>0.000</td>\n",
              "      <td>0.0000</td>\n",
              "    </tr>\n",
              "    <tr>\n",
              "      <th>12</th>\n",
              "      <td>0.000</td>\n",
              "      <td>1.000</td>\n",
              "      <td>0.000</td>\n",
              "      <td>0.0000</td>\n",
              "    </tr>\n",
              "    <tr>\n",
              "      <th>13</th>\n",
              "      <td>0.000</td>\n",
              "      <td>1.000</td>\n",
              "      <td>0.000</td>\n",
              "      <td>0.0000</td>\n",
              "    </tr>\n",
              "    <tr>\n",
              "      <th>14</th>\n",
              "      <td>0.000</td>\n",
              "      <td>1.000</td>\n",
              "      <td>0.000</td>\n",
              "      <td>0.0000</td>\n",
              "    </tr>\n",
              "    <tr>\n",
              "      <th>15</th>\n",
              "      <td>0.218</td>\n",
              "      <td>0.495</td>\n",
              "      <td>0.287</td>\n",
              "      <td>0.1779</td>\n",
              "    </tr>\n",
              "    <tr>\n",
              "      <th>16</th>\n",
              "      <td>0.000</td>\n",
              "      <td>1.000</td>\n",
              "      <td>0.000</td>\n",
              "      <td>0.0000</td>\n",
              "    </tr>\n",
              "    <tr>\n",
              "      <th>17</th>\n",
              "      <td>0.000</td>\n",
              "      <td>1.000</td>\n",
              "      <td>0.000</td>\n",
              "      <td>0.0000</td>\n",
              "    </tr>\n",
              "    <tr>\n",
              "      <th>18</th>\n",
              "      <td>0.000</td>\n",
              "      <td>1.000</td>\n",
              "      <td>0.000</td>\n",
              "      <td>0.0000</td>\n",
              "    </tr>\n",
              "    <tr>\n",
              "      <th>19</th>\n",
              "      <td>0.097</td>\n",
              "      <td>0.714</td>\n",
              "      <td>0.188</td>\n",
              "      <td>0.3400</td>\n",
              "    </tr>\n",
              "    <tr>\n",
              "      <th>20</th>\n",
              "      <td>0.000</td>\n",
              "      <td>0.674</td>\n",
              "      <td>0.326</td>\n",
              "      <td>0.4404</td>\n",
              "    </tr>\n",
              "    <tr>\n",
              "      <th>21</th>\n",
              "      <td>0.000</td>\n",
              "      <td>0.742</td>\n",
              "      <td>0.258</td>\n",
              "      <td>0.4168</td>\n",
              "    </tr>\n",
              "    <tr>\n",
              "      <th>22</th>\n",
              "      <td>0.000</td>\n",
              "      <td>1.000</td>\n",
              "      <td>0.000</td>\n",
              "      <td>0.0000</td>\n",
              "    </tr>\n",
              "    <tr>\n",
              "      <th>23</th>\n",
              "      <td>0.000</td>\n",
              "      <td>1.000</td>\n",
              "      <td>0.000</td>\n",
              "      <td>0.0000</td>\n",
              "    </tr>\n",
              "    <tr>\n",
              "      <th>24</th>\n",
              "      <td>0.374</td>\n",
              "      <td>0.460</td>\n",
              "      <td>0.167</td>\n",
              "      <td>-0.5574</td>\n",
              "    </tr>\n",
              "    <tr>\n",
              "      <th>25</th>\n",
              "      <td>0.308</td>\n",
              "      <td>0.526</td>\n",
              "      <td>0.165</td>\n",
              "      <td>-0.4404</td>\n",
              "    </tr>\n",
              "  </tbody>\n",
              "</table>\n",
              "</div>\n",
              "      <button class=\"colab-df-convert\" onclick=\"convertToInteractive('df-cf61c831-c39a-42bc-a747-e574bb38f681')\"\n",
              "              title=\"Convert this dataframe to an interactive table.\"\n",
              "              style=\"display:none;\">\n",
              "        \n",
              "  <svg xmlns=\"http://www.w3.org/2000/svg\" height=\"24px\"viewBox=\"0 0 24 24\"\n",
              "       width=\"24px\">\n",
              "    <path d=\"M0 0h24v24H0V0z\" fill=\"none\"/>\n",
              "    <path d=\"M18.56 5.44l.94 2.06.94-2.06 2.06-.94-2.06-.94-.94-2.06-.94 2.06-2.06.94zm-11 1L8.5 8.5l.94-2.06 2.06-.94-2.06-.94L8.5 2.5l-.94 2.06-2.06.94zm10 10l.94 2.06.94-2.06 2.06-.94-2.06-.94-.94-2.06-.94 2.06-2.06.94z\"/><path d=\"M17.41 7.96l-1.37-1.37c-.4-.4-.92-.59-1.43-.59-.52 0-1.04.2-1.43.59L10.3 9.45l-7.72 7.72c-.78.78-.78 2.05 0 2.83L4 21.41c.39.39.9.59 1.41.59.51 0 1.02-.2 1.41-.59l7.78-7.78 2.81-2.81c.8-.78.8-2.07 0-2.86zM5.41 20L4 18.59l7.72-7.72 1.47 1.35L5.41 20z\"/>\n",
              "  </svg>\n",
              "      </button>\n",
              "      \n",
              "  <style>\n",
              "    .colab-df-container {\n",
              "      display:flex;\n",
              "      flex-wrap:wrap;\n",
              "      gap: 12px;\n",
              "    }\n",
              "\n",
              "    .colab-df-convert {\n",
              "      background-color: #E8F0FE;\n",
              "      border: none;\n",
              "      border-radius: 50%;\n",
              "      cursor: pointer;\n",
              "      display: none;\n",
              "      fill: #1967D2;\n",
              "      height: 32px;\n",
              "      padding: 0 0 0 0;\n",
              "      width: 32px;\n",
              "    }\n",
              "\n",
              "    .colab-df-convert:hover {\n",
              "      background-color: #E2EBFA;\n",
              "      box-shadow: 0px 1px 2px rgba(60, 64, 67, 0.3), 0px 1px 3px 1px rgba(60, 64, 67, 0.15);\n",
              "      fill: #174EA6;\n",
              "    }\n",
              "\n",
              "    [theme=dark] .colab-df-convert {\n",
              "      background-color: #3B4455;\n",
              "      fill: #D2E3FC;\n",
              "    }\n",
              "\n",
              "    [theme=dark] .colab-df-convert:hover {\n",
              "      background-color: #434B5C;\n",
              "      box-shadow: 0px 1px 3px 1px rgba(0, 0, 0, 0.15);\n",
              "      filter: drop-shadow(0px 1px 2px rgba(0, 0, 0, 0.3));\n",
              "      fill: #FFFFFF;\n",
              "    }\n",
              "  </style>\n",
              "\n",
              "      <script>\n",
              "        const buttonEl =\n",
              "          document.querySelector('#df-cf61c831-c39a-42bc-a747-e574bb38f681 button.colab-df-convert');\n",
              "        buttonEl.style.display =\n",
              "          google.colab.kernel.accessAllowed ? 'block' : 'none';\n",
              "\n",
              "        async function convertToInteractive(key) {\n",
              "          const element = document.querySelector('#df-cf61c831-c39a-42bc-a747-e574bb38f681');\n",
              "          const dataTable =\n",
              "            await google.colab.kernel.invokeFunction('convertToInteractive',\n",
              "                                                     [key], {});\n",
              "          if (!dataTable) return;\n",
              "\n",
              "          const docLinkHtml = 'Like what you see? Visit the ' +\n",
              "            '<a target=\"_blank\" href=https://colab.research.google.com/notebooks/data_table.ipynb>data table notebook</a>'\n",
              "            + ' to learn more about interactive tables.';\n",
              "          element.innerHTML = '';\n",
              "          dataTable['output_type'] = 'display_data';\n",
              "          await google.colab.output.renderOutput(dataTable, element);\n",
              "          const docLink = document.createElement('div');\n",
              "          docLink.innerHTML = docLinkHtml;\n",
              "          element.appendChild(docLink);\n",
              "        }\n",
              "      </script>\n",
              "    </div>\n",
              "  </div>\n",
              "  "
            ],
            "text/plain": [
              "      neg    neu    pos  compound\n",
              "0   0.000  0.645  0.355    0.5267\n",
              "1   0.000  0.857  0.143    0.1280\n",
              "2   0.000  0.610  0.390    0.2960\n",
              "3   0.000  1.000  0.000    0.0000\n",
              "4   0.000  1.000  0.000    0.0000\n",
              "5   0.000  1.000  0.000    0.0000\n",
              "6   0.000  0.820  0.180    0.2960\n",
              "7   0.136  0.739  0.125   -0.0516\n",
              "8   0.000  1.000  0.000    0.0000\n",
              "9   0.000  1.000  0.000    0.0000\n",
              "10  0.000  0.576  0.424    0.7096\n",
              "11  0.000  1.000  0.000    0.0000\n",
              "12  0.000  1.000  0.000    0.0000\n",
              "13  0.000  1.000  0.000    0.0000\n",
              "14  0.000  1.000  0.000    0.0000\n",
              "15  0.218  0.495  0.287    0.1779\n",
              "16  0.000  1.000  0.000    0.0000\n",
              "17  0.000  1.000  0.000    0.0000\n",
              "18  0.000  1.000  0.000    0.0000\n",
              "19  0.097  0.714  0.188    0.3400\n",
              "20  0.000  0.674  0.326    0.4404\n",
              "21  0.000  0.742  0.258    0.4168\n",
              "22  0.000  1.000  0.000    0.0000\n",
              "23  0.000  1.000  0.000    0.0000\n",
              "24  0.374  0.460  0.167   -0.5574\n",
              "25  0.308  0.526  0.165   -0.4404"
            ]
          },
          "metadata": {},
          "execution_count": 11
        }
      ]
    },
    {
      "cell_type": "code",
      "metadata": {
        "id": "g46AtZw_x66F"
      },
      "source": [
        "news_df = news_df.join(scores_df,how='right')"
      ],
      "execution_count": null,
      "outputs": []
    },
    {
      "cell_type": "code",
      "metadata": {
        "colab": {
          "base_uri": "https://localhost:8080/",
          "height": 206
        },
        "id": "lUlq1fqux92q",
        "outputId": "b7abf4b1-7f7f-46ca-a647-dd402978124c"
      },
      "source": [
        "news_df['Sentiment'] = news_df['compound'].apply(lambda score: \"Postive\" if score > 0 else \"Negative\")\n",
        "sentiments_df = news_df.groupby(['Company','Ticker','Sentiment'])[['Headlines']].count().reset_index()\n",
        "sentiments_df"
      ],
      "execution_count": null,
      "outputs": [
        {
          "output_type": "execute_result",
          "data": {
            "text/html": [
              "\n",
              "  <div id=\"df-4a8b8bc1-9ebf-44ad-8f96-25f13d885bc1\">\n",
              "    <div class=\"colab-df-container\">\n",
              "      <div>\n",
              "<style scoped>\n",
              "    .dataframe tbody tr th:only-of-type {\n",
              "        vertical-align: middle;\n",
              "    }\n",
              "\n",
              "    .dataframe tbody tr th {\n",
              "        vertical-align: top;\n",
              "    }\n",
              "\n",
              "    .dataframe thead th {\n",
              "        text-align: right;\n",
              "    }\n",
              "</style>\n",
              "<table border=\"1\" class=\"dataframe\">\n",
              "  <thead>\n",
              "    <tr style=\"text-align: right;\">\n",
              "      <th></th>\n",
              "      <th>Company</th>\n",
              "      <th>Ticker</th>\n",
              "      <th>Sentiment</th>\n",
              "      <th>Headlines</th>\n",
              "    </tr>\n",
              "  </thead>\n",
              "  <tbody>\n",
              "    <tr>\n",
              "      <th>0</th>\n",
              "      <td>Aviva PLC</td>\n",
              "      <td>AV</td>\n",
              "      <td>Negative</td>\n",
              "      <td>13</td>\n",
              "    </tr>\n",
              "    <tr>\n",
              "      <th>1</th>\n",
              "      <td>Aviva PLC</td>\n",
              "      <td>AV</td>\n",
              "      <td>Postive</td>\n",
              "      <td>3</td>\n",
              "    </tr>\n",
              "    <tr>\n",
              "      <th>2</th>\n",
              "      <td>Imperial Brands PLC</td>\n",
              "      <td>IMB</td>\n",
              "      <td>Negative</td>\n",
              "      <td>4</td>\n",
              "    </tr>\n",
              "    <tr>\n",
              "      <th>3</th>\n",
              "      <td>Imperial Brands PLC</td>\n",
              "      <td>IMB</td>\n",
              "      <td>Postive</td>\n",
              "      <td>3</td>\n",
              "    </tr>\n",
              "    <tr>\n",
              "      <th>4</th>\n",
              "      <td>Legal &amp; General Group PLC</td>\n",
              "      <td>LGEN</td>\n",
              "      <td>Postive</td>\n",
              "      <td>3</td>\n",
              "    </tr>\n",
              "  </tbody>\n",
              "</table>\n",
              "</div>\n",
              "      <button class=\"colab-df-convert\" onclick=\"convertToInteractive('df-4a8b8bc1-9ebf-44ad-8f96-25f13d885bc1')\"\n",
              "              title=\"Convert this dataframe to an interactive table.\"\n",
              "              style=\"display:none;\">\n",
              "        \n",
              "  <svg xmlns=\"http://www.w3.org/2000/svg\" height=\"24px\"viewBox=\"0 0 24 24\"\n",
              "       width=\"24px\">\n",
              "    <path d=\"M0 0h24v24H0V0z\" fill=\"none\"/>\n",
              "    <path d=\"M18.56 5.44l.94 2.06.94-2.06 2.06-.94-2.06-.94-.94-2.06-.94 2.06-2.06.94zm-11 1L8.5 8.5l.94-2.06 2.06-.94-2.06-.94L8.5 2.5l-.94 2.06-2.06.94zm10 10l.94 2.06.94-2.06 2.06-.94-2.06-.94-.94-2.06-.94 2.06-2.06.94z\"/><path d=\"M17.41 7.96l-1.37-1.37c-.4-.4-.92-.59-1.43-.59-.52 0-1.04.2-1.43.59L10.3 9.45l-7.72 7.72c-.78.78-.78 2.05 0 2.83L4 21.41c.39.39.9.59 1.41.59.51 0 1.02-.2 1.41-.59l7.78-7.78 2.81-2.81c.8-.78.8-2.07 0-2.86zM5.41 20L4 18.59l7.72-7.72 1.47 1.35L5.41 20z\"/>\n",
              "  </svg>\n",
              "      </button>\n",
              "      \n",
              "  <style>\n",
              "    .colab-df-container {\n",
              "      display:flex;\n",
              "      flex-wrap:wrap;\n",
              "      gap: 12px;\n",
              "    }\n",
              "\n",
              "    .colab-df-convert {\n",
              "      background-color: #E8F0FE;\n",
              "      border: none;\n",
              "      border-radius: 50%;\n",
              "      cursor: pointer;\n",
              "      display: none;\n",
              "      fill: #1967D2;\n",
              "      height: 32px;\n",
              "      padding: 0 0 0 0;\n",
              "      width: 32px;\n",
              "    }\n",
              "\n",
              "    .colab-df-convert:hover {\n",
              "      background-color: #E2EBFA;\n",
              "      box-shadow: 0px 1px 2px rgba(60, 64, 67, 0.3), 0px 1px 3px 1px rgba(60, 64, 67, 0.15);\n",
              "      fill: #174EA6;\n",
              "    }\n",
              "\n",
              "    [theme=dark] .colab-df-convert {\n",
              "      background-color: #3B4455;\n",
              "      fill: #D2E3FC;\n",
              "    }\n",
              "\n",
              "    [theme=dark] .colab-df-convert:hover {\n",
              "      background-color: #434B5C;\n",
              "      box-shadow: 0px 1px 3px 1px rgba(0, 0, 0, 0.15);\n",
              "      filter: drop-shadow(0px 1px 2px rgba(0, 0, 0, 0.3));\n",
              "      fill: #FFFFFF;\n",
              "    }\n",
              "  </style>\n",
              "\n",
              "      <script>\n",
              "        const buttonEl =\n",
              "          document.querySelector('#df-4a8b8bc1-9ebf-44ad-8f96-25f13d885bc1 button.colab-df-convert');\n",
              "        buttonEl.style.display =\n",
              "          google.colab.kernel.accessAllowed ? 'block' : 'none';\n",
              "\n",
              "        async function convertToInteractive(key) {\n",
              "          const element = document.querySelector('#df-4a8b8bc1-9ebf-44ad-8f96-25f13d885bc1');\n",
              "          const dataTable =\n",
              "            await google.colab.kernel.invokeFunction('convertToInteractive',\n",
              "                                                     [key], {});\n",
              "          if (!dataTable) return;\n",
              "\n",
              "          const docLinkHtml = 'Like what you see? Visit the ' +\n",
              "            '<a target=\"_blank\" href=https://colab.research.google.com/notebooks/data_table.ipynb>data table notebook</a>'\n",
              "            + ' to learn more about interactive tables.';\n",
              "          element.innerHTML = '';\n",
              "          dataTable['output_type'] = 'display_data';\n",
              "          await google.colab.output.renderOutput(dataTable, element);\n",
              "          const docLink = document.createElement('div');\n",
              "          docLink.innerHTML = docLinkHtml;\n",
              "          element.appendChild(docLink);\n",
              "        }\n",
              "      </script>\n",
              "    </div>\n",
              "  </div>\n",
              "  "
            ],
            "text/plain": [
              "                     Company Ticker Sentiment  Headlines\n",
              "0                  Aviva PLC     AV  Negative         13\n",
              "1                  Aviva PLC     AV   Postive          3\n",
              "2        Imperial Brands PLC    IMB  Negative          4\n",
              "3        Imperial Brands PLC    IMB   Postive          3\n",
              "4  Legal & General Group PLC   LGEN   Postive          3"
            ]
          },
          "metadata": {},
          "execution_count": 18
        }
      ]
    },
    {
      "cell_type": "code",
      "metadata": {
        "colab": {
          "base_uri": "https://localhost:8080/",
          "height": 459
        },
        "id": "IsPfc8u2BVCl",
        "outputId": "d6e92ba5-a7cd-4dd7-a333-4833790e05db"
      },
      "source": [
        "import seaborn as sns\n",
        "plt.figure(figsize=(12,7))\n",
        "sns.barplot(x=sentiments_df.Company, y= sentiments_df.Headlines, hue = sentiments_df.Sentiment)"
      ],
      "execution_count": null,
      "outputs": [
        {
          "output_type": "execute_result",
          "data": {
            "text/plain": [
              "<matplotlib.axes._subplots.AxesSubplot at 0x7f0b84db8990>"
            ]
          },
          "metadata": {},
          "execution_count": 21
        },
        {
          "output_type": "display_data",
          "data": {
            "image/png": "[encoded data removed]",
            "text/plain": [
              "<Figure size 864x504 with 1 Axes>"
            ]
          },
          "metadata": {
            "needs_background": "light"
          }
        }
      ]
    },
    {
      "cell_type": "code",
      "metadata": {
        "colab": {
          "base_uri": "https://localhost:8080/",
          "height": 809
        },
        "id": "POR1rdbaCYOh",
        "outputId": "4c66fa77-1945-4dd1-e37c-ee0e0f7f2cdd"
      },
      "source": [
        "for i,co in enumerate(companyNameList):\n",
        "  co_sentiment_df = sentiments_df[sentiments_df['Company'] == co]\n",
        "  co_sentiment =co_sentiment_df['Sentiment'].to_list()\n",
        "  co_count = co_sentiment_df['Headlines'].to_list()\n",
        "  sns.barplot(x=co_count, y = co_sentiment)\n",
        "  plt.title(\"Sentiment Analysis for \"+ co)\n",
        "  plt.show()"
      ],
      "execution_count": null,
      "outputs": [
        {
          "output_type": "display_data",
          "data": {
            "image/png": "[encoded data removed]",
            "text/plain": [
              "<Figure size 432x288 with 1 Axes>"
            ]
          },
          "metadata": {
            "needs_background": "light"
          }
        },
        {
          "output_type": "display_data",
          "data": {
            "image/png": "[encoded data removed]",
            "text/plain": [
              "<Figure size 432x288 with 1 Axes>"
            ]
          },
          "metadata": {
            "needs_background": "light"
          }
        },
        {
          "output_type": "display_data",
          "data": {
            "image/png": "[encoded data removed]",
            "text/plain": [
              "<Figure size 432x288 with 1 Axes>"
            ]
          },
          "metadata": {
            "needs_background": "light"
          }
        }
      ]
    },
    {
      "cell_type": "code",
      "metadata": {
        "colab": {
          "base_uri": "https://localhost:8080/",
          "height": 758
        },
        "id": "PvKvZN8d773a",
        "outputId": "67f8ba8a-b8a8-421d-a094-ceb9a0e4f222"
      },
      "source": [
        "import matplotlib.pyplot as plt\n",
        "\n",
        "for i,co in enumerate(companyNameList):\n",
        "  co_sentiment_df = sentiments_df[sentiments_df['Company'] == co]\n",
        "  co_sentiment =co_sentiment_df['Sentiment'].to_list()\n",
        "  co_count = co_sentiment_df['Headlines'].to_list()\n",
        "  plt.pie(x = co_count, labels = co_sentiment, autopct='%.0f%%')\n",
        "  plt.title(\"Sentiment Analysis for \"+ co)\n",
        "  plt.show()"
      ],
      "execution_count": null,
      "outputs": [
        {
          "output_type": "display_data",
          "data": {
            "image/png": "[encoded data removed]",
            "text/plain": [
              "<Figure size 432x288 with 1 Axes>"
            ]
          },
          "metadata": {}
        },
        {
          "output_type": "display_data",
          "data": {
            "image/png": "[encoded data removed]",
            "text/plain": [
              "<Figure size 432x288 with 1 Axes>"
            ]
          },
          "metadata": {}
        },
        {
          "output_type": "display_data",
          "data": {
            "image/png": "[encoded data removed]",
            "text/plain": [
              "<Figure size 432x288 with 1 Axes>"
            ]
          },
          "metadata": {}
        }
      ]
    }
  ]
}